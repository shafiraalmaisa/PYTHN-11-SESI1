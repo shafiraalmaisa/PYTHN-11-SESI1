{
  "cells": [
    {
      "cell_type": "markdown",
      "metadata": {
        "id": "xg_-WPK0AZ-5"
      },
      "source": [
        "# Final Project 2 (Kelompok 5)\n",
        "\n",
        "Anggota:\n",
        "1. Muhammad Taufiqul Hakim\n",
        "2. M. Dwi Pratama\n",
        "3. Rossanda Sevia Gadis\n",
        "4. Shafira Almaisa"
      ]
    },
    {
      "cell_type": "markdown",
      "metadata": {
        "id": "xtg5xnGCAfME"
      },
      "source": [
        "# Perkenalan"
      ]
    },
    {
      "cell_type": "markdown",
      "metadata": {
        "id": "MpPhnYfsBGoQ"
      },
      "source": [
        "## Latar Belakang"
      ]
    },
    {
      "cell_type": "markdown",
      "metadata": {
        "id": "zEXTRnhWBJTL"
      },
      "source": [
        "## Data\n",
        "\n",
        "Data yang digunakan adalah 'Rain in Australia' dimana data ini diambil dari website open source Kaggle. Data ini memuat sebanyak 23 kolom dan 145460 baris data. Kolom label atau target variabel dari data ini adalah kolom 'RainTomorrow' dimana kolom dengan value diskrit ini memuat value yes or no yang berarti jika yes maka besok akan turun hujan dengan curah hujan 1mm atau lebih dan sebaliknya."
      ]
    },
    {
      "cell_type": "markdown",
      "metadata": {
        "id": "_ts5EDaDBK5o"
      },
      "source": [
        "## Capaian\n",
        "\n",
        "Menggunakan data ini, akan dibangun sebuah model klasifikasi dimana digunakan data feature dan data label(target variabel) untuk melatih model agar mampu membuat prediksi hari esok hujan atau tidak menggunakan 6 algoritma klasifikasi yaitu logistic regression, KNN, SVM, Decision Tree, Random Forest dan Naive Bayes. "
      ]
    },
    {
      "cell_type": "markdown",
      "metadata": {
        "id": "Wm7KgTbyApcZ"
      },
      "source": [
        "# Import Pustaka"
      ]
    },
    {
      "cell_type": "code",
      "execution_count": null,
      "metadata": {
        "id": "ibkkk5Yn_soB"
      },
      "outputs": [],
      "source": [
        "from pydrive.auth import GoogleAuth\n",
        "from pydrive.drive import GoogleDrive\n",
        "from google.colab import auth\n",
        "from oauth2client.client import GoogleCredentials\n",
        " \n",
        " \n",
        "# Authenticate and create the PyDrive client.\n",
        "auth.authenticate_user()\n",
        "gauth = GoogleAuth()\n",
        "gauth.credentials = GoogleCredentials.get_application_default()\n",
        "drive = GoogleDrive(gauth)"
      ]
    },
    {
      "cell_type": "markdown",
      "metadata": {
        "id": "INYUMX5FDTjy"
      },
      "source": [
        "Kode di atas digunakan nantinya untuk proses pembacaan file yang berasal dari google drive.\n",
        "Anda dapat mematikannya jika membuka dokumen dengan Jupyter Notebook dengan mengubah format cell menjadi raw"
      ]
    },
    {
      "cell_type": "code",
      "execution_count": null,
      "metadata": {
        "id": "XlodWmkzELi9"
      },
      "outputs": [],
      "source": [
        "import pandas as pd\n",
        "import numpy as np\n",
        "\n",
        "# data visualization\n",
        "import matplotlib.pyplot as plt\n",
        "%matplotlib inline\n",
        "import seaborn as sns\n",
        "\n",
        "# data preprocessing\n",
        "from sklearn.model_selection import train_test_split\n",
        "from sklearn.preprocessing import StandardScaler, LabelEncoder\n",
        "from sklearn import preprocessing\n",
        "\n",
        "# building model\n",
        "from sklearn.linear_model import LogisticRegression\n",
        "from sklearn.neighbors import KNeighborsClassifier\n",
        "from sklearn.svm import SVC\n",
        "from sklearn.tree import DecisionTreeClassifier\n",
        "from sklearn.ensemble import RandomForestClassifier\n",
        "from sklearn.naive_bayes import GaussianNB\n",
        "\n",
        "# hyperparameter tuning\n",
        "from sklearn.model_selection import GridSearchCV\n",
        "\n",
        "# Hypothesis Testing\n",
        "import statsmodels.api as sm\n",
        "\n",
        "# model evaluation\n",
        "from sklearn.metrics import classification_report, confusion_matrix\n",
        "from sklearn.metrics import accuracy_score"
      ]
    },
    {
      "cell_type": "markdown",
      "metadata": {
        "id": "Wmf81Rlw9r5o"
      },
      "source": [
        "Dilakukan import library dimana akan diakses beberapa fungsi di dalamnya yang akan digunakan untuk keperluan membangun model klasifikasi ini."
      ]
    },
    {
      "cell_type": "markdown",
      "metadata": {
        "id": "7klyoDH7AsU2"
      },
      "source": [
        "# Data Loading"
      ]
    },
    {
      "cell_type": "code",
      "execution_count": null,
      "metadata": {
        "id": "W1WfTePhAte_"
      },
      "outputs": [],
      "source": [
        "url = 'https://drive.google.com/file/d/12y3XyFRfoy5Soq-QTw7XRV-pdcejnXBN/view?usp=share_link'\n",
        "id = url.split(\"/\")[-2]\n",
        "\n",
        "downloaded = drive.CreateFile({'id':id})\n",
        "downloaded.GetContentFile('weatherAUS.csv')"
      ]
    },
    {
      "cell_type": "markdown",
      "metadata": {
        "id": "9Qhn75atDb9l"
      },
      "source": [
        "Perintah untuk donwload Konten dari Url dengan nama file tersebut.\n",
        "Jika membuka menggunakan Jupyter Notebook anda dapat mematikannya dengan mengubah cell menjadi format raw"
      ]
    },
    {
      "cell_type": "code",
      "execution_count": null,
      "metadata": {
        "colab": {
          "base_uri": "https://localhost:8080/",
          "height": 386
        },
        "id": "DtiHj7V7Df2c",
        "outputId": "88989a2b-7fae-439e-b242-65e696ceb41d"
      },
      "outputs": [
        {
          "output_type": "execute_result",
          "data": {
            "text/plain": [
              "         Date Location  MinTemp  MaxTemp  Rainfall  Evaporation  Sunshine  \\\n",
              "0  2008-12-01   Albury     13.4     22.9       0.6          NaN       NaN   \n",
              "1  2008-12-02   Albury      7.4     25.1       0.0          NaN       NaN   \n",
              "2  2008-12-03   Albury     12.9     25.7       0.0          NaN       NaN   \n",
              "3  2008-12-04   Albury      9.2     28.0       0.0          NaN       NaN   \n",
              "4  2008-12-05   Albury     17.5     32.3       1.0          NaN       NaN   \n",
              "\n",
              "  WindGustDir  WindGustSpeed WindDir9am  ... Humidity9am  Humidity3pm  \\\n",
              "0           W           44.0          W  ...        71.0         22.0   \n",
              "1         WNW           44.0        NNW  ...        44.0         25.0   \n",
              "2         WSW           46.0          W  ...        38.0         30.0   \n",
              "3          NE           24.0         SE  ...        45.0         16.0   \n",
              "4           W           41.0        ENE  ...        82.0         33.0   \n",
              "\n",
              "   Pressure9am  Pressure3pm  Cloud9am  Cloud3pm  Temp9am  Temp3pm  RainToday  \\\n",
              "0       1007.7       1007.1       8.0       NaN     16.9     21.8         No   \n",
              "1       1010.6       1007.8       NaN       NaN     17.2     24.3         No   \n",
              "2       1007.6       1008.7       NaN       2.0     21.0     23.2         No   \n",
              "3       1017.6       1012.8       NaN       NaN     18.1     26.5         No   \n",
              "4       1010.8       1006.0       7.0       8.0     17.8     29.7         No   \n",
              "\n",
              "   RainTomorrow  \n",
              "0            No  \n",
              "1            No  \n",
              "2            No  \n",
              "3            No  \n",
              "4            No  \n",
              "\n",
              "[5 rows x 23 columns]"
            ],
            "text/html": [
              "\n",
              "  <div id=\"df-de138fa5-f76b-4d3b-8797-de8649a80f59\">\n",
              "    <div class=\"colab-df-container\">\n",
              "      <div>\n",
              "<style scoped>\n",
              "    .dataframe tbody tr th:only-of-type {\n",
              "        vertical-align: middle;\n",
              "    }\n",
              "\n",
              "    .dataframe tbody tr th {\n",
              "        vertical-align: top;\n",
              "    }\n",
              "\n",
              "    .dataframe thead th {\n",
              "        text-align: right;\n",
              "    }\n",
              "</style>\n",
              "<table border=\"1\" class=\"dataframe\">\n",
              "  <thead>\n",
              "    <tr style=\"text-align: right;\">\n",
              "      <th></th>\n",
              "      <th>Date</th>\n",
              "      <th>Location</th>\n",
              "      <th>MinTemp</th>\n",
              "      <th>MaxTemp</th>\n",
              "      <th>Rainfall</th>\n",
              "      <th>Evaporation</th>\n",
              "      <th>Sunshine</th>\n",
              "      <th>WindGustDir</th>\n",
              "      <th>WindGustSpeed</th>\n",
              "      <th>WindDir9am</th>\n",
              "      <th>...</th>\n",
              "      <th>Humidity9am</th>\n",
              "      <th>Humidity3pm</th>\n",
              "      <th>Pressure9am</th>\n",
              "      <th>Pressure3pm</th>\n",
              "      <th>Cloud9am</th>\n",
              "      <th>Cloud3pm</th>\n",
              "      <th>Temp9am</th>\n",
              "      <th>Temp3pm</th>\n",
              "      <th>RainToday</th>\n",
              "      <th>RainTomorrow</th>\n",
              "    </tr>\n",
              "  </thead>\n",
              "  <tbody>\n",
              "    <tr>\n",
              "      <th>0</th>\n",
              "      <td>2008-12-01</td>\n",
              "      <td>Albury</td>\n",
              "      <td>13.4</td>\n",
              "      <td>22.9</td>\n",
              "      <td>0.6</td>\n",
              "      <td>NaN</td>\n",
              "      <td>NaN</td>\n",
              "      <td>W</td>\n",
              "      <td>44.0</td>\n",
              "      <td>W</td>\n",
              "      <td>...</td>\n",
              "      <td>71.0</td>\n",
              "      <td>22.0</td>\n",
              "      <td>1007.7</td>\n",
              "      <td>1007.1</td>\n",
              "      <td>8.0</td>\n",
              "      <td>NaN</td>\n",
              "      <td>16.9</td>\n",
              "      <td>21.8</td>\n",
              "      <td>No</td>\n",
              "      <td>No</td>\n",
              "    </tr>\n",
              "    <tr>\n",
              "      <th>1</th>\n",
              "      <td>2008-12-02</td>\n",
              "      <td>Albury</td>\n",
              "      <td>7.4</td>\n",
              "      <td>25.1</td>\n",
              "      <td>0.0</td>\n",
              "      <td>NaN</td>\n",
              "      <td>NaN</td>\n",
              "      <td>WNW</td>\n",
              "      <td>44.0</td>\n",
              "      <td>NNW</td>\n",
              "      <td>...</td>\n",
              "      <td>44.0</td>\n",
              "      <td>25.0</td>\n",
              "      <td>1010.6</td>\n",
              "      <td>1007.8</td>\n",
              "      <td>NaN</td>\n",
              "      <td>NaN</td>\n",
              "      <td>17.2</td>\n",
              "      <td>24.3</td>\n",
              "      <td>No</td>\n",
              "      <td>No</td>\n",
              "    </tr>\n",
              "    <tr>\n",
              "      <th>2</th>\n",
              "      <td>2008-12-03</td>\n",
              "      <td>Albury</td>\n",
              "      <td>12.9</td>\n",
              "      <td>25.7</td>\n",
              "      <td>0.0</td>\n",
              "      <td>NaN</td>\n",
              "      <td>NaN</td>\n",
              "      <td>WSW</td>\n",
              "      <td>46.0</td>\n",
              "      <td>W</td>\n",
              "      <td>...</td>\n",
              "      <td>38.0</td>\n",
              "      <td>30.0</td>\n",
              "      <td>1007.6</td>\n",
              "      <td>1008.7</td>\n",
              "      <td>NaN</td>\n",
              "      <td>2.0</td>\n",
              "      <td>21.0</td>\n",
              "      <td>23.2</td>\n",
              "      <td>No</td>\n",
              "      <td>No</td>\n",
              "    </tr>\n",
              "    <tr>\n",
              "      <th>3</th>\n",
              "      <td>2008-12-04</td>\n",
              "      <td>Albury</td>\n",
              "      <td>9.2</td>\n",
              "      <td>28.0</td>\n",
              "      <td>0.0</td>\n",
              "      <td>NaN</td>\n",
              "      <td>NaN</td>\n",
              "      <td>NE</td>\n",
              "      <td>24.0</td>\n",
              "      <td>SE</td>\n",
              "      <td>...</td>\n",
              "      <td>45.0</td>\n",
              "      <td>16.0</td>\n",
              "      <td>1017.6</td>\n",
              "      <td>1012.8</td>\n",
              "      <td>NaN</td>\n",
              "      <td>NaN</td>\n",
              "      <td>18.1</td>\n",
              "      <td>26.5</td>\n",
              "      <td>No</td>\n",
              "      <td>No</td>\n",
              "    </tr>\n",
              "    <tr>\n",
              "      <th>4</th>\n",
              "      <td>2008-12-05</td>\n",
              "      <td>Albury</td>\n",
              "      <td>17.5</td>\n",
              "      <td>32.3</td>\n",
              "      <td>1.0</td>\n",
              "      <td>NaN</td>\n",
              "      <td>NaN</td>\n",
              "      <td>W</td>\n",
              "      <td>41.0</td>\n",
              "      <td>ENE</td>\n",
              "      <td>...</td>\n",
              "      <td>82.0</td>\n",
              "      <td>33.0</td>\n",
              "      <td>1010.8</td>\n",
              "      <td>1006.0</td>\n",
              "      <td>7.0</td>\n",
              "      <td>8.0</td>\n",
              "      <td>17.8</td>\n",
              "      <td>29.7</td>\n",
              "      <td>No</td>\n",
              "      <td>No</td>\n",
              "    </tr>\n",
              "  </tbody>\n",
              "</table>\n",
              "<p>5 rows × 23 columns</p>\n",
              "</div>\n",
              "      <button class=\"colab-df-convert\" onclick=\"convertToInteractive('df-de138fa5-f76b-4d3b-8797-de8649a80f59')\"\n",
              "              title=\"Convert this dataframe to an interactive table.\"\n",
              "              style=\"display:none;\">\n",
              "        \n",
              "  <svg xmlns=\"http://www.w3.org/2000/svg\" height=\"24px\"viewBox=\"0 0 24 24\"\n",
              "       width=\"24px\">\n",
              "    <path d=\"M0 0h24v24H0V0z\" fill=\"none\"/>\n",
              "    <path d=\"M18.56 5.44l.94 2.06.94-2.06 2.06-.94-2.06-.94-.94-2.06-.94 2.06-2.06.94zm-11 1L8.5 8.5l.94-2.06 2.06-.94-2.06-.94L8.5 2.5l-.94 2.06-2.06.94zm10 10l.94 2.06.94-2.06 2.06-.94-2.06-.94-.94-2.06-.94 2.06-2.06.94z\"/><path d=\"M17.41 7.96l-1.37-1.37c-.4-.4-.92-.59-1.43-.59-.52 0-1.04.2-1.43.59L10.3 9.45l-7.72 7.72c-.78.78-.78 2.05 0 2.83L4 21.41c.39.39.9.59 1.41.59.51 0 1.02-.2 1.41-.59l7.78-7.78 2.81-2.81c.8-.78.8-2.07 0-2.86zM5.41 20L4 18.59l7.72-7.72 1.47 1.35L5.41 20z\"/>\n",
              "  </svg>\n",
              "      </button>\n",
              "      \n",
              "  <style>\n",
              "    .colab-df-container {\n",
              "      display:flex;\n",
              "      flex-wrap:wrap;\n",
              "      gap: 12px;\n",
              "    }\n",
              "\n",
              "    .colab-df-convert {\n",
              "      background-color: #E8F0FE;\n",
              "      border: none;\n",
              "      border-radius: 50%;\n",
              "      cursor: pointer;\n",
              "      display: none;\n",
              "      fill: #1967D2;\n",
              "      height: 32px;\n",
              "      padding: 0 0 0 0;\n",
              "      width: 32px;\n",
              "    }\n",
              "\n",
              "    .colab-df-convert:hover {\n",
              "      background-color: #E2EBFA;\n",
              "      box-shadow: 0px 1px 2px rgba(60, 64, 67, 0.3), 0px 1px 3px 1px rgba(60, 64, 67, 0.15);\n",
              "      fill: #174EA6;\n",
              "    }\n",
              "\n",
              "    [theme=dark] .colab-df-convert {\n",
              "      background-color: #3B4455;\n",
              "      fill: #D2E3FC;\n",
              "    }\n",
              "\n",
              "    [theme=dark] .colab-df-convert:hover {\n",
              "      background-color: #434B5C;\n",
              "      box-shadow: 0px 1px 3px 1px rgba(0, 0, 0, 0.15);\n",
              "      filter: drop-shadow(0px 1px 2px rgba(0, 0, 0, 0.3));\n",
              "      fill: #FFFFFF;\n",
              "    }\n",
              "  </style>\n",
              "\n",
              "      <script>\n",
              "        const buttonEl =\n",
              "          document.querySelector('#df-de138fa5-f76b-4d3b-8797-de8649a80f59 button.colab-df-convert');\n",
              "        buttonEl.style.display =\n",
              "          google.colab.kernel.accessAllowed ? 'block' : 'none';\n",
              "\n",
              "        async function convertToInteractive(key) {\n",
              "          const element = document.querySelector('#df-de138fa5-f76b-4d3b-8797-de8649a80f59');\n",
              "          const dataTable =\n",
              "            await google.colab.kernel.invokeFunction('convertToInteractive',\n",
              "                                                     [key], {});\n",
              "          if (!dataTable) return;\n",
              "\n",
              "          const docLinkHtml = 'Like what you see? Visit the ' +\n",
              "            '<a target=\"_blank\" href=https://colab.research.google.com/notebooks/data_table.ipynb>data table notebook</a>'\n",
              "            + ' to learn more about interactive tables.';\n",
              "          element.innerHTML = '';\n",
              "          dataTable['output_type'] = 'display_data';\n",
              "          await google.colab.output.renderOutput(dataTable, element);\n",
              "          const docLink = document.createElement('div');\n",
              "          docLink.innerHTML = docLinkHtml;\n",
              "          element.appendChild(docLink);\n",
              "        }\n",
              "      </script>\n",
              "    </div>\n",
              "  </div>\n",
              "  "
            ]
          },
          "metadata": {},
          "execution_count": 5
        }
      ],
      "source": [
        "# read data\n",
        "df = pd.read_csv('weatherAUS.csv')\n",
        "df.head()"
      ]
    },
    {
      "cell_type": "markdown",
      "metadata": {
        "id": "xbOPrSw-955t"
      },
      "source": [
        "Dilakukan read file csv yang mana memuat dataset berisikan data hujan harian selama 10 tahun di Australia. Kemudian ditampilkan data teratas untuk melihat gambaran data secara umum."
      ]
    },
    {
      "cell_type": "code",
      "execution_count": null,
      "metadata": {
        "colab": {
          "base_uri": "https://localhost:8080/"
        },
        "id": "fmLhULxCz6vA",
        "outputId": "3b0c2771-feb2-4bb7-a579-55826d7bf468"
      },
      "outputs": [
        {
          "output_type": "execute_result",
          "data": {
            "text/plain": [
              "(145460, 23)"
            ]
          },
          "metadata": {},
          "execution_count": 6
        }
      ],
      "source": [
        "# shape of the dataset\n",
        "df.shape"
      ]
    },
    {
      "cell_type": "markdown",
      "metadata": {
        "id": "oSjKJRlx-FzP"
      },
      "source": [
        "Fungsi `shape()` digunakan untuk melihat dimensi atau bentuk data. Dari output dapat diketahui ada 145460 baris data dan 23 kolom pada dataset tersebut."
      ]
    },
    {
      "cell_type": "code",
      "execution_count": null,
      "metadata": {
        "colab": {
          "base_uri": "https://localhost:8080/"
        },
        "id": "-Uxjz-u9z9GE",
        "outputId": "be58a8c3-14f1-467f-ff05-81390df377e0"
      },
      "outputs": [
        {
          "output_type": "execute_result",
          "data": {
            "text/plain": [
              "Date                 0\n",
              "Location             0\n",
              "MinTemp           1485\n",
              "MaxTemp           1261\n",
              "Rainfall          3261\n",
              "Evaporation      62790\n",
              "Sunshine         69835\n",
              "WindGustDir      10326\n",
              "WindGustSpeed    10263\n",
              "WindDir9am       10566\n",
              "WindDir3pm        4228\n",
              "WindSpeed9am      1767\n",
              "WindSpeed3pm      3062\n",
              "Humidity9am       2654\n",
              "Humidity3pm       4507\n",
              "Pressure9am      15065\n",
              "Pressure3pm      15028\n",
              "Cloud9am         55888\n",
              "Cloud3pm         59358\n",
              "Temp9am           1767\n",
              "Temp3pm           3609\n",
              "RainToday         3261\n",
              "RainTomorrow      3267\n",
              "dtype: int64"
            ]
          },
          "metadata": {},
          "execution_count": 7
        }
      ],
      "source": [
        "# check null values\n",
        "df.isna().sum()"
      ]
    },
    {
      "cell_type": "markdown",
      "metadata": {
        "id": "SHwjz1O-fhs9"
      },
      "source": []
    },
    {
      "cell_type": "markdown",
      "metadata": {
        "id": "As8JhqpV-Z41"
      },
      "source": [
        "Dilakukan pengecekan nilai null menggunakan fungsi `isna()` dimana nilai null tersebut dihitung jumlahnya menggunakan fungsi `sum()` dan diberikan output berupa total null values dari masing-masing kolom."
      ]
    },
    {
      "cell_type": "code",
      "execution_count": null,
      "metadata": {
        "colab": {
          "base_uri": "https://localhost:8080/"
        },
        "id": "wPFL-0Lf0AvD",
        "outputId": "98bfa0bf-c3eb-46d1-8d6e-d3ab1db20c0b"
      },
      "outputs": [
        {
          "output_type": "stream",
          "name": "stdout",
          "text": [
            "<class 'pandas.core.frame.DataFrame'>\n",
            "RangeIndex: 145460 entries, 0 to 145459\n",
            "Data columns (total 23 columns):\n",
            " #   Column         Non-Null Count   Dtype  \n",
            "---  ------         --------------   -----  \n",
            " 0   Date           145460 non-null  object \n",
            " 1   Location       145460 non-null  object \n",
            " 2   MinTemp        143975 non-null  float64\n",
            " 3   MaxTemp        144199 non-null  float64\n",
            " 4   Rainfall       142199 non-null  float64\n",
            " 5   Evaporation    82670 non-null   float64\n",
            " 6   Sunshine       75625 non-null   float64\n",
            " 7   WindGustDir    135134 non-null  object \n",
            " 8   WindGustSpeed  135197 non-null  float64\n",
            " 9   WindDir9am     134894 non-null  object \n",
            " 10  WindDir3pm     141232 non-null  object \n",
            " 11  WindSpeed9am   143693 non-null  float64\n",
            " 12  WindSpeed3pm   142398 non-null  float64\n",
            " 13  Humidity9am    142806 non-null  float64\n",
            " 14  Humidity3pm    140953 non-null  float64\n",
            " 15  Pressure9am    130395 non-null  float64\n",
            " 16  Pressure3pm    130432 non-null  float64\n",
            " 17  Cloud9am       89572 non-null   float64\n",
            " 18  Cloud3pm       86102 non-null   float64\n",
            " 19  Temp9am        143693 non-null  float64\n",
            " 20  Temp3pm        141851 non-null  float64\n",
            " 21  RainToday      142199 non-null  object \n",
            " 22  RainTomorrow   142193 non-null  object \n",
            "dtypes: float64(16), object(7)\n",
            "memory usage: 25.5+ MB\n"
          ]
        }
      ],
      "source": [
        "# show information of dataset\n",
        "df.info()"
      ]
    },
    {
      "cell_type": "markdown",
      "metadata": {
        "id": "zDZPCGMB-nn7"
      },
      "source": [
        "Dilihat informasi dari dataset menggunakan fungsi `info()` dimana akan diberikan output berupa daftar nama kolom, informasi jumlah data non-null di masing-masing kolom serta tipe data dari masing-masing kolom."
      ]
    },
    {
      "cell_type": "markdown",
      "metadata": {
        "id": "1JlPsBMtAuCk"
      },
      "source": [
        "# Data Cleaning"
      ]
    },
    {
      "cell_type": "code",
      "execution_count": null,
      "metadata": {
        "colab": {
          "base_uri": "https://localhost:8080/",
          "height": 649
        },
        "id": "sqc1PA62AvX6",
        "outputId": "83110e4a-0b5c-4cc6-9550-7ddf32e3345b"
      },
      "outputs": [
        {
          "output_type": "stream",
          "name": "stderr",
          "text": [
            "<ipython-input-9-75f74abdf2ef>:2: FutureWarning: The default value of numeric_only in DataFrame.corr is deprecated. In a future version, it will default to False. Select only valid columns or specify the value of numeric_only to silence this warning.\n",
            "  df.corr()\n"
          ]
        },
        {
          "output_type": "execute_result",
          "data": {
            "text/plain": [
              "                MinTemp   MaxTemp  Rainfall  Evaporation  Sunshine  \\\n",
              "MinTemp        1.000000  0.736555  0.103938     0.466993  0.072586   \n",
              "MaxTemp        0.736555  1.000000 -0.074992     0.587932  0.470156   \n",
              "Rainfall       0.103938 -0.074992  1.000000    -0.064351 -0.227549   \n",
              "Evaporation    0.466993  0.587932 -0.064351     1.000000  0.365602   \n",
              "Sunshine       0.072586  0.470156 -0.227549     0.365602  1.000000   \n",
              "WindGustSpeed  0.177415  0.067615  0.133659     0.203021 -0.034750   \n",
              "WindSpeed9am   0.175064  0.014450  0.087338     0.193084  0.005499   \n",
              "WindSpeed3pm   0.175173  0.050300  0.057887     0.129400  0.053834   \n",
              "Humidity9am   -0.232899 -0.504110  0.224405    -0.504092 -0.490819   \n",
              "Humidity3pm    0.006089 -0.508855  0.255755    -0.390243 -0.629130   \n",
              "Pressure9am   -0.450970 -0.332061 -0.168154    -0.270362  0.041970   \n",
              "Pressure3pm   -0.461292 -0.427167 -0.126534    -0.293581 -0.019719   \n",
              "Cloud9am       0.078754 -0.289370  0.198528    -0.183793 -0.675323   \n",
              "Cloud3pm       0.021605 -0.277921  0.172403    -0.182618 -0.703930   \n",
              "Temp9am        0.901821  0.887210  0.011192     0.545115  0.291188   \n",
              "Temp3pm        0.708906  0.984503 -0.079657     0.572893  0.490501   \n",
              "\n",
              "               WindGustSpeed  WindSpeed9am  WindSpeed3pm  Humidity9am  \\\n",
              "MinTemp             0.177415      0.175064      0.175173    -0.232899   \n",
              "MaxTemp             0.067615      0.014450      0.050300    -0.504110   \n",
              "Rainfall            0.133659      0.087338      0.057887     0.224405   \n",
              "Evaporation         0.203021      0.193084      0.129400    -0.504092   \n",
              "Sunshine           -0.034750      0.005499      0.053834    -0.490819   \n",
              "WindGustSpeed       1.000000      0.605303      0.686307    -0.215070   \n",
              "WindSpeed9am        0.605303      1.000000      0.519547    -0.270858   \n",
              "WindSpeed3pm        0.686307      0.519547      1.000000    -0.145525   \n",
              "Humidity9am        -0.215070     -0.270858     -0.145525     1.000000   \n",
              "Humidity3pm        -0.026327     -0.031614      0.016432     0.666949   \n",
              "Pressure9am        -0.458744     -0.228743     -0.296351     0.139442   \n",
              "Pressure3pm        -0.413749     -0.175817     -0.255439     0.186858   \n",
              "Cloud9am            0.071736      0.025112      0.053337     0.452297   \n",
              "Cloud3pm            0.109168      0.054639      0.025396     0.357326   \n",
              "Temp9am             0.150150      0.128545      0.163030    -0.471354   \n",
              "Temp3pm             0.032748      0.004569      0.027778    -0.498399   \n",
              "\n",
              "               Humidity3pm  Pressure9am  Pressure3pm  Cloud9am  Cloud3pm  \\\n",
              "MinTemp           0.006089    -0.450970    -0.461292  0.078754  0.021605   \n",
              "MaxTemp          -0.508855    -0.332061    -0.427167 -0.289370 -0.277921   \n",
              "Rainfall          0.255755    -0.168154    -0.126534  0.198528  0.172403   \n",
              "Evaporation      -0.390243    -0.270362    -0.293581 -0.183793 -0.182618   \n",
              "Sunshine         -0.629130     0.041970    -0.019719 -0.675323 -0.703930   \n",
              "WindGustSpeed    -0.026327    -0.458744    -0.413749  0.071736  0.109168   \n",
              "WindSpeed9am     -0.031614    -0.228743    -0.175817  0.025112  0.054639   \n",
              "WindSpeed3pm      0.016432    -0.296351    -0.255439  0.053337  0.025396   \n",
              "Humidity9am       0.666949     0.139442     0.186858  0.452297  0.357326   \n",
              "Humidity3pm       1.000000    -0.027544     0.051997  0.517120  0.523120   \n",
              "Pressure9am      -0.027544     1.000000     0.961326 -0.129796 -0.147861   \n",
              "Pressure3pm       0.051997     0.961326     1.000000 -0.060772 -0.084778   \n",
              "Cloud9am          0.517120    -0.129796    -0.060772  1.000000  0.603564   \n",
              "Cloud3pm          0.523120    -0.147861    -0.084778  0.603564  1.000000   \n",
              "Temp9am          -0.221019    -0.422556    -0.470187 -0.136959 -0.126659   \n",
              "Temp3pm          -0.557841    -0.286770    -0.389548 -0.302060 -0.317420   \n",
              "\n",
              "                Temp9am   Temp3pm  \n",
              "MinTemp        0.901821  0.708906  \n",
              "MaxTemp        0.887210  0.984503  \n",
              "Rainfall       0.011192 -0.079657  \n",
              "Evaporation    0.545115  0.572893  \n",
              "Sunshine       0.291188  0.490501  \n",
              "WindGustSpeed  0.150150  0.032748  \n",
              "WindSpeed9am   0.128545  0.004569  \n",
              "WindSpeed3pm   0.163030  0.027778  \n",
              "Humidity9am   -0.471354 -0.498399  \n",
              "Humidity3pm   -0.221019 -0.557841  \n",
              "Pressure9am   -0.422556 -0.286770  \n",
              "Pressure3pm   -0.470187 -0.389548  \n",
              "Cloud9am      -0.136959 -0.302060  \n",
              "Cloud3pm      -0.126659 -0.317420  \n",
              "Temp9am        1.000000  0.860591  \n",
              "Temp3pm        0.860591  1.000000  "
            ],
            "text/html": [
              "\n",
              "  <div id=\"df-78dfa519-1e33-4b92-a16c-a33abc81218f\">\n",
              "    <div class=\"colab-df-container\">\n",
              "      <div>\n",
              "<style scoped>\n",
              "    .dataframe tbody tr th:only-of-type {\n",
              "        vertical-align: middle;\n",
              "    }\n",
              "\n",
              "    .dataframe tbody tr th {\n",
              "        vertical-align: top;\n",
              "    }\n",
              "\n",
              "    .dataframe thead th {\n",
              "        text-align: right;\n",
              "    }\n",
              "</style>\n",
              "<table border=\"1\" class=\"dataframe\">\n",
              "  <thead>\n",
              "    <tr style=\"text-align: right;\">\n",
              "      <th></th>\n",
              "      <th>MinTemp</th>\n",
              "      <th>MaxTemp</th>\n",
              "      <th>Rainfall</th>\n",
              "      <th>Evaporation</th>\n",
              "      <th>Sunshine</th>\n",
              "      <th>WindGustSpeed</th>\n",
              "      <th>WindSpeed9am</th>\n",
              "      <th>WindSpeed3pm</th>\n",
              "      <th>Humidity9am</th>\n",
              "      <th>Humidity3pm</th>\n",
              "      <th>Pressure9am</th>\n",
              "      <th>Pressure3pm</th>\n",
              "      <th>Cloud9am</th>\n",
              "      <th>Cloud3pm</th>\n",
              "      <th>Temp9am</th>\n",
              "      <th>Temp3pm</th>\n",
              "    </tr>\n",
              "  </thead>\n",
              "  <tbody>\n",
              "    <tr>\n",
              "      <th>MinTemp</th>\n",
              "      <td>1.000000</td>\n",
              "      <td>0.736555</td>\n",
              "      <td>0.103938</td>\n",
              "      <td>0.466993</td>\n",
              "      <td>0.072586</td>\n",
              "      <td>0.177415</td>\n",
              "      <td>0.175064</td>\n",
              "      <td>0.175173</td>\n",
              "      <td>-0.232899</td>\n",
              "      <td>0.006089</td>\n",
              "      <td>-0.450970</td>\n",
              "      <td>-0.461292</td>\n",
              "      <td>0.078754</td>\n",
              "      <td>0.021605</td>\n",
              "      <td>0.901821</td>\n",
              "      <td>0.708906</td>\n",
              "    </tr>\n",
              "    <tr>\n",
              "      <th>MaxTemp</th>\n",
              "      <td>0.736555</td>\n",
              "      <td>1.000000</td>\n",
              "      <td>-0.074992</td>\n",
              "      <td>0.587932</td>\n",
              "      <td>0.470156</td>\n",
              "      <td>0.067615</td>\n",
              "      <td>0.014450</td>\n",
              "      <td>0.050300</td>\n",
              "      <td>-0.504110</td>\n",
              "      <td>-0.508855</td>\n",
              "      <td>-0.332061</td>\n",
              "      <td>-0.427167</td>\n",
              "      <td>-0.289370</td>\n",
              "      <td>-0.277921</td>\n",
              "      <td>0.887210</td>\n",
              "      <td>0.984503</td>\n",
              "    </tr>\n",
              "    <tr>\n",
              "      <th>Rainfall</th>\n",
              "      <td>0.103938</td>\n",
              "      <td>-0.074992</td>\n",
              "      <td>1.000000</td>\n",
              "      <td>-0.064351</td>\n",
              "      <td>-0.227549</td>\n",
              "      <td>0.133659</td>\n",
              "      <td>0.087338</td>\n",
              "      <td>0.057887</td>\n",
              "      <td>0.224405</td>\n",
              "      <td>0.255755</td>\n",
              "      <td>-0.168154</td>\n",
              "      <td>-0.126534</td>\n",
              "      <td>0.198528</td>\n",
              "      <td>0.172403</td>\n",
              "      <td>0.011192</td>\n",
              "      <td>-0.079657</td>\n",
              "    </tr>\n",
              "    <tr>\n",
              "      <th>Evaporation</th>\n",
              "      <td>0.466993</td>\n",
              "      <td>0.587932</td>\n",
              "      <td>-0.064351</td>\n",
              "      <td>1.000000</td>\n",
              "      <td>0.365602</td>\n",
              "      <td>0.203021</td>\n",
              "      <td>0.193084</td>\n",
              "      <td>0.129400</td>\n",
              "      <td>-0.504092</td>\n",
              "      <td>-0.390243</td>\n",
              "      <td>-0.270362</td>\n",
              "      <td>-0.293581</td>\n",
              "      <td>-0.183793</td>\n",
              "      <td>-0.182618</td>\n",
              "      <td>0.545115</td>\n",
              "      <td>0.572893</td>\n",
              "    </tr>\n",
              "    <tr>\n",
              "      <th>Sunshine</th>\n",
              "      <td>0.072586</td>\n",
              "      <td>0.470156</td>\n",
              "      <td>-0.227549</td>\n",
              "      <td>0.365602</td>\n",
              "      <td>1.000000</td>\n",
              "      <td>-0.034750</td>\n",
              "      <td>0.005499</td>\n",
              "      <td>0.053834</td>\n",
              "      <td>-0.490819</td>\n",
              "      <td>-0.629130</td>\n",
              "      <td>0.041970</td>\n",
              "      <td>-0.019719</td>\n",
              "      <td>-0.675323</td>\n",
              "      <td>-0.703930</td>\n",
              "      <td>0.291188</td>\n",
              "      <td>0.490501</td>\n",
              "    </tr>\n",
              "    <tr>\n",
              "      <th>WindGustSpeed</th>\n",
              "      <td>0.177415</td>\n",
              "      <td>0.067615</td>\n",
              "      <td>0.133659</td>\n",
              "      <td>0.203021</td>\n",
              "      <td>-0.034750</td>\n",
              "      <td>1.000000</td>\n",
              "      <td>0.605303</td>\n",
              "      <td>0.686307</td>\n",
              "      <td>-0.215070</td>\n",
              "      <td>-0.026327</td>\n",
              "      <td>-0.458744</td>\n",
              "      <td>-0.413749</td>\n",
              "      <td>0.071736</td>\n",
              "      <td>0.109168</td>\n",
              "      <td>0.150150</td>\n",
              "      <td>0.032748</td>\n",
              "    </tr>\n",
              "    <tr>\n",
              "      <th>WindSpeed9am</th>\n",
              "      <td>0.175064</td>\n",
              "      <td>0.014450</td>\n",
              "      <td>0.087338</td>\n",
              "      <td>0.193084</td>\n",
              "      <td>0.005499</td>\n",
              "      <td>0.605303</td>\n",
              "      <td>1.000000</td>\n",
              "      <td>0.519547</td>\n",
              "      <td>-0.270858</td>\n",
              "      <td>-0.031614</td>\n",
              "      <td>-0.228743</td>\n",
              "      <td>-0.175817</td>\n",
              "      <td>0.025112</td>\n",
              "      <td>0.054639</td>\n",
              "      <td>0.128545</td>\n",
              "      <td>0.004569</td>\n",
              "    </tr>\n",
              "    <tr>\n",
              "      <th>WindSpeed3pm</th>\n",
              "      <td>0.175173</td>\n",
              "      <td>0.050300</td>\n",
              "      <td>0.057887</td>\n",
              "      <td>0.129400</td>\n",
              "      <td>0.053834</td>\n",
              "      <td>0.686307</td>\n",
              "      <td>0.519547</td>\n",
              "      <td>1.000000</td>\n",
              "      <td>-0.145525</td>\n",
              "      <td>0.016432</td>\n",
              "      <td>-0.296351</td>\n",
              "      <td>-0.255439</td>\n",
              "      <td>0.053337</td>\n",
              "      <td>0.025396</td>\n",
              "      <td>0.163030</td>\n",
              "      <td>0.027778</td>\n",
              "    </tr>\n",
              "    <tr>\n",
              "      <th>Humidity9am</th>\n",
              "      <td>-0.232899</td>\n",
              "      <td>-0.504110</td>\n",
              "      <td>0.224405</td>\n",
              "      <td>-0.504092</td>\n",
              "      <td>-0.490819</td>\n",
              "      <td>-0.215070</td>\n",
              "      <td>-0.270858</td>\n",
              "      <td>-0.145525</td>\n",
              "      <td>1.000000</td>\n",
              "      <td>0.666949</td>\n",
              "      <td>0.139442</td>\n",
              "      <td>0.186858</td>\n",
              "      <td>0.452297</td>\n",
              "      <td>0.357326</td>\n",
              "      <td>-0.471354</td>\n",
              "      <td>-0.498399</td>\n",
              "    </tr>\n",
              "    <tr>\n",
              "      <th>Humidity3pm</th>\n",
              "      <td>0.006089</td>\n",
              "      <td>-0.508855</td>\n",
              "      <td>0.255755</td>\n",
              "      <td>-0.390243</td>\n",
              "      <td>-0.629130</td>\n",
              "      <td>-0.026327</td>\n",
              "      <td>-0.031614</td>\n",
              "      <td>0.016432</td>\n",
              "      <td>0.666949</td>\n",
              "      <td>1.000000</td>\n",
              "      <td>-0.027544</td>\n",
              "      <td>0.051997</td>\n",
              "      <td>0.517120</td>\n",
              "      <td>0.523120</td>\n",
              "      <td>-0.221019</td>\n",
              "      <td>-0.557841</td>\n",
              "    </tr>\n",
              "    <tr>\n",
              "      <th>Pressure9am</th>\n",
              "      <td>-0.450970</td>\n",
              "      <td>-0.332061</td>\n",
              "      <td>-0.168154</td>\n",
              "      <td>-0.270362</td>\n",
              "      <td>0.041970</td>\n",
              "      <td>-0.458744</td>\n",
              "      <td>-0.228743</td>\n",
              "      <td>-0.296351</td>\n",
              "      <td>0.139442</td>\n",
              "      <td>-0.027544</td>\n",
              "      <td>1.000000</td>\n",
              "      <td>0.961326</td>\n",
              "      <td>-0.129796</td>\n",
              "      <td>-0.147861</td>\n",
              "      <td>-0.422556</td>\n",
              "      <td>-0.286770</td>\n",
              "    </tr>\n",
              "    <tr>\n",
              "      <th>Pressure3pm</th>\n",
              "      <td>-0.461292</td>\n",
              "      <td>-0.427167</td>\n",
              "      <td>-0.126534</td>\n",
              "      <td>-0.293581</td>\n",
              "      <td>-0.019719</td>\n",
              "      <td>-0.413749</td>\n",
              "      <td>-0.175817</td>\n",
              "      <td>-0.255439</td>\n",
              "      <td>0.186858</td>\n",
              "      <td>0.051997</td>\n",
              "      <td>0.961326</td>\n",
              "      <td>1.000000</td>\n",
              "      <td>-0.060772</td>\n",
              "      <td>-0.084778</td>\n",
              "      <td>-0.470187</td>\n",
              "      <td>-0.389548</td>\n",
              "    </tr>\n",
              "    <tr>\n",
              "      <th>Cloud9am</th>\n",
              "      <td>0.078754</td>\n",
              "      <td>-0.289370</td>\n",
              "      <td>0.198528</td>\n",
              "      <td>-0.183793</td>\n",
              "      <td>-0.675323</td>\n",
              "      <td>0.071736</td>\n",
              "      <td>0.025112</td>\n",
              "      <td>0.053337</td>\n",
              "      <td>0.452297</td>\n",
              "      <td>0.517120</td>\n",
              "      <td>-0.129796</td>\n",
              "      <td>-0.060772</td>\n",
              "      <td>1.000000</td>\n",
              "      <td>0.603564</td>\n",
              "      <td>-0.136959</td>\n",
              "      <td>-0.302060</td>\n",
              "    </tr>\n",
              "    <tr>\n",
              "      <th>Cloud3pm</th>\n",
              "      <td>0.021605</td>\n",
              "      <td>-0.277921</td>\n",
              "      <td>0.172403</td>\n",
              "      <td>-0.182618</td>\n",
              "      <td>-0.703930</td>\n",
              "      <td>0.109168</td>\n",
              "      <td>0.054639</td>\n",
              "      <td>0.025396</td>\n",
              "      <td>0.357326</td>\n",
              "      <td>0.523120</td>\n",
              "      <td>-0.147861</td>\n",
              "      <td>-0.084778</td>\n",
              "      <td>0.603564</td>\n",
              "      <td>1.000000</td>\n",
              "      <td>-0.126659</td>\n",
              "      <td>-0.317420</td>\n",
              "    </tr>\n",
              "    <tr>\n",
              "      <th>Temp9am</th>\n",
              "      <td>0.901821</td>\n",
              "      <td>0.887210</td>\n",
              "      <td>0.011192</td>\n",
              "      <td>0.545115</td>\n",
              "      <td>0.291188</td>\n",
              "      <td>0.150150</td>\n",
              "      <td>0.128545</td>\n",
              "      <td>0.163030</td>\n",
              "      <td>-0.471354</td>\n",
              "      <td>-0.221019</td>\n",
              "      <td>-0.422556</td>\n",
              "      <td>-0.470187</td>\n",
              "      <td>-0.136959</td>\n",
              "      <td>-0.126659</td>\n",
              "      <td>1.000000</td>\n",
              "      <td>0.860591</td>\n",
              "    </tr>\n",
              "    <tr>\n",
              "      <th>Temp3pm</th>\n",
              "      <td>0.708906</td>\n",
              "      <td>0.984503</td>\n",
              "      <td>-0.079657</td>\n",
              "      <td>0.572893</td>\n",
              "      <td>0.490501</td>\n",
              "      <td>0.032748</td>\n",
              "      <td>0.004569</td>\n",
              "      <td>0.027778</td>\n",
              "      <td>-0.498399</td>\n",
              "      <td>-0.557841</td>\n",
              "      <td>-0.286770</td>\n",
              "      <td>-0.389548</td>\n",
              "      <td>-0.302060</td>\n",
              "      <td>-0.317420</td>\n",
              "      <td>0.860591</td>\n",
              "      <td>1.000000</td>\n",
              "    </tr>\n",
              "  </tbody>\n",
              "</table>\n",
              "</div>\n",
              "      <button class=\"colab-df-convert\" onclick=\"convertToInteractive('df-78dfa519-1e33-4b92-a16c-a33abc81218f')\"\n",
              "              title=\"Convert this dataframe to an interactive table.\"\n",
              "              style=\"display:none;\">\n",
              "        \n",
              "  <svg xmlns=\"http://www.w3.org/2000/svg\" height=\"24px\"viewBox=\"0 0 24 24\"\n",
              "       width=\"24px\">\n",
              "    <path d=\"M0 0h24v24H0V0z\" fill=\"none\"/>\n",
              "    <path d=\"M18.56 5.44l.94 2.06.94-2.06 2.06-.94-2.06-.94-.94-2.06-.94 2.06-2.06.94zm-11 1L8.5 8.5l.94-2.06 2.06-.94-2.06-.94L8.5 2.5l-.94 2.06-2.06.94zm10 10l.94 2.06.94-2.06 2.06-.94-2.06-.94-.94-2.06-.94 2.06-2.06.94z\"/><path d=\"M17.41 7.96l-1.37-1.37c-.4-.4-.92-.59-1.43-.59-.52 0-1.04.2-1.43.59L10.3 9.45l-7.72 7.72c-.78.78-.78 2.05 0 2.83L4 21.41c.39.39.9.59 1.41.59.51 0 1.02-.2 1.41-.59l7.78-7.78 2.81-2.81c.8-.78.8-2.07 0-2.86zM5.41 20L4 18.59l7.72-7.72 1.47 1.35L5.41 20z\"/>\n",
              "  </svg>\n",
              "      </button>\n",
              "      \n",
              "  <style>\n",
              "    .colab-df-container {\n",
              "      display:flex;\n",
              "      flex-wrap:wrap;\n",
              "      gap: 12px;\n",
              "    }\n",
              "\n",
              "    .colab-df-convert {\n",
              "      background-color: #E8F0FE;\n",
              "      border: none;\n",
              "      border-radius: 50%;\n",
              "      cursor: pointer;\n",
              "      display: none;\n",
              "      fill: #1967D2;\n",
              "      height: 32px;\n",
              "      padding: 0 0 0 0;\n",
              "      width: 32px;\n",
              "    }\n",
              "\n",
              "    .colab-df-convert:hover {\n",
              "      background-color: #E2EBFA;\n",
              "      box-shadow: 0px 1px 2px rgba(60, 64, 67, 0.3), 0px 1px 3px 1px rgba(60, 64, 67, 0.15);\n",
              "      fill: #174EA6;\n",
              "    }\n",
              "\n",
              "    [theme=dark] .colab-df-convert {\n",
              "      background-color: #3B4455;\n",
              "      fill: #D2E3FC;\n",
              "    }\n",
              "\n",
              "    [theme=dark] .colab-df-convert:hover {\n",
              "      background-color: #434B5C;\n",
              "      box-shadow: 0px 1px 3px 1px rgba(0, 0, 0, 0.15);\n",
              "      filter: drop-shadow(0px 1px 2px rgba(0, 0, 0, 0.3));\n",
              "      fill: #FFFFFF;\n",
              "    }\n",
              "  </style>\n",
              "\n",
              "      <script>\n",
              "        const buttonEl =\n",
              "          document.querySelector('#df-78dfa519-1e33-4b92-a16c-a33abc81218f button.colab-df-convert');\n",
              "        buttonEl.style.display =\n",
              "          google.colab.kernel.accessAllowed ? 'block' : 'none';\n",
              "\n",
              "        async function convertToInteractive(key) {\n",
              "          const element = document.querySelector('#df-78dfa519-1e33-4b92-a16c-a33abc81218f');\n",
              "          const dataTable =\n",
              "            await google.colab.kernel.invokeFunction('convertToInteractive',\n",
              "                                                     [key], {});\n",
              "          if (!dataTable) return;\n",
              "\n",
              "          const docLinkHtml = 'Like what you see? Visit the ' +\n",
              "            '<a target=\"_blank\" href=https://colab.research.google.com/notebooks/data_table.ipynb>data table notebook</a>'\n",
              "            + ' to learn more about interactive tables.';\n",
              "          element.innerHTML = '';\n",
              "          dataTable['output_type'] = 'display_data';\n",
              "          await google.colab.output.renderOutput(dataTable, element);\n",
              "          const docLink = document.createElement('div');\n",
              "          docLink.innerHTML = docLinkHtml;\n",
              "          element.appendChild(docLink);\n",
              "        }\n",
              "      </script>\n",
              "    </div>\n",
              "  </div>\n",
              "  "
            ]
          },
          "metadata": {},
          "execution_count": 9
        }
      ],
      "source": [
        "# Mengecek korelasi antar kolom\n",
        "df.corr()"
      ]
    },
    {
      "cell_type": "markdown",
      "metadata": {
        "id": "xnR3abm0Bkp7"
      },
      "source": [
        "Menggunakan fungsi `corr()`, dilihat korelasi antara kolom dengan kata lain melihat apakah terdapat kolom yang saling terkait penurunan atau kenaikan valuenya. Menggunakan fungsi ini juga dapat diperiksa apakah terdapat kolom dengan data yang sama atau tidak, jika ada salah satunya dapat dihapus."
      ]
    },
    {
      "cell_type": "code",
      "execution_count": null,
      "metadata": {
        "colab": {
          "base_uri": "https://localhost:8080/",
          "height": 206
        },
        "id": "Ap5obAUf2fK4",
        "outputId": "8972acb3-2d67-4da2-aff6-c779d2453438"
      },
      "outputs": [
        {
          "output_type": "execute_result",
          "data": {
            "text/plain": [
              "   MinTemp  MaxTemp  Rainfall  WindGustSpeed  Humidity9am  Humidity3pm  \\\n",
              "0     13.4     22.9       0.6           44.0         71.0         22.0   \n",
              "1      7.4     25.1       0.0           44.0         44.0         25.0   \n",
              "2     12.9     25.7       0.0           46.0         38.0         30.0   \n",
              "3      9.2     28.0       0.0           24.0         45.0         16.0   \n",
              "4     17.5     32.3       1.0           41.0         82.0         33.0   \n",
              "\n",
              "   Pressure9am  Pressure3pm RainTomorrow  \n",
              "0       1007.7       1007.1           No  \n",
              "1       1010.6       1007.8           No  \n",
              "2       1007.6       1008.7           No  \n",
              "3       1017.6       1012.8           No  \n",
              "4       1010.8       1006.0           No  "
            ],
            "text/html": [
              "\n",
              "  <div id=\"df-78bfff2b-afad-42a2-9d95-9ab4a4365286\">\n",
              "    <div class=\"colab-df-container\">\n",
              "      <div>\n",
              "<style scoped>\n",
              "    .dataframe tbody tr th:only-of-type {\n",
              "        vertical-align: middle;\n",
              "    }\n",
              "\n",
              "    .dataframe tbody tr th {\n",
              "        vertical-align: top;\n",
              "    }\n",
              "\n",
              "    .dataframe thead th {\n",
              "        text-align: right;\n",
              "    }\n",
              "</style>\n",
              "<table border=\"1\" class=\"dataframe\">\n",
              "  <thead>\n",
              "    <tr style=\"text-align: right;\">\n",
              "      <th></th>\n",
              "      <th>MinTemp</th>\n",
              "      <th>MaxTemp</th>\n",
              "      <th>Rainfall</th>\n",
              "      <th>WindGustSpeed</th>\n",
              "      <th>Humidity9am</th>\n",
              "      <th>Humidity3pm</th>\n",
              "      <th>Pressure9am</th>\n",
              "      <th>Pressure3pm</th>\n",
              "      <th>RainTomorrow</th>\n",
              "    </tr>\n",
              "  </thead>\n",
              "  <tbody>\n",
              "    <tr>\n",
              "      <th>0</th>\n",
              "      <td>13.4</td>\n",
              "      <td>22.9</td>\n",
              "      <td>0.6</td>\n",
              "      <td>44.0</td>\n",
              "      <td>71.0</td>\n",
              "      <td>22.0</td>\n",
              "      <td>1007.7</td>\n",
              "      <td>1007.1</td>\n",
              "      <td>No</td>\n",
              "    </tr>\n",
              "    <tr>\n",
              "      <th>1</th>\n",
              "      <td>7.4</td>\n",
              "      <td>25.1</td>\n",
              "      <td>0.0</td>\n",
              "      <td>44.0</td>\n",
              "      <td>44.0</td>\n",
              "      <td>25.0</td>\n",
              "      <td>1010.6</td>\n",
              "      <td>1007.8</td>\n",
              "      <td>No</td>\n",
              "    </tr>\n",
              "    <tr>\n",
              "      <th>2</th>\n",
              "      <td>12.9</td>\n",
              "      <td>25.7</td>\n",
              "      <td>0.0</td>\n",
              "      <td>46.0</td>\n",
              "      <td>38.0</td>\n",
              "      <td>30.0</td>\n",
              "      <td>1007.6</td>\n",
              "      <td>1008.7</td>\n",
              "      <td>No</td>\n",
              "    </tr>\n",
              "    <tr>\n",
              "      <th>3</th>\n",
              "      <td>9.2</td>\n",
              "      <td>28.0</td>\n",
              "      <td>0.0</td>\n",
              "      <td>24.0</td>\n",
              "      <td>45.0</td>\n",
              "      <td>16.0</td>\n",
              "      <td>1017.6</td>\n",
              "      <td>1012.8</td>\n",
              "      <td>No</td>\n",
              "    </tr>\n",
              "    <tr>\n",
              "      <th>4</th>\n",
              "      <td>17.5</td>\n",
              "      <td>32.3</td>\n",
              "      <td>1.0</td>\n",
              "      <td>41.0</td>\n",
              "      <td>82.0</td>\n",
              "      <td>33.0</td>\n",
              "      <td>1010.8</td>\n",
              "      <td>1006.0</td>\n",
              "      <td>No</td>\n",
              "    </tr>\n",
              "  </tbody>\n",
              "</table>\n",
              "</div>\n",
              "      <button class=\"colab-df-convert\" onclick=\"convertToInteractive('df-78bfff2b-afad-42a2-9d95-9ab4a4365286')\"\n",
              "              title=\"Convert this dataframe to an interactive table.\"\n",
              "              style=\"display:none;\">\n",
              "        \n",
              "  <svg xmlns=\"http://www.w3.org/2000/svg\" height=\"24px\"viewBox=\"0 0 24 24\"\n",
              "       width=\"24px\">\n",
              "    <path d=\"M0 0h24v24H0V0z\" fill=\"none\"/>\n",
              "    <path d=\"M18.56 5.44l.94 2.06.94-2.06 2.06-.94-2.06-.94-.94-2.06-.94 2.06-2.06.94zm-11 1L8.5 8.5l.94-2.06 2.06-.94-2.06-.94L8.5 2.5l-.94 2.06-2.06.94zm10 10l.94 2.06.94-2.06 2.06-.94-2.06-.94-.94-2.06-.94 2.06-2.06.94z\"/><path d=\"M17.41 7.96l-1.37-1.37c-.4-.4-.92-.59-1.43-.59-.52 0-1.04.2-1.43.59L10.3 9.45l-7.72 7.72c-.78.78-.78 2.05 0 2.83L4 21.41c.39.39.9.59 1.41.59.51 0 1.02-.2 1.41-.59l7.78-7.78 2.81-2.81c.8-.78.8-2.07 0-2.86zM5.41 20L4 18.59l7.72-7.72 1.47 1.35L5.41 20z\"/>\n",
              "  </svg>\n",
              "      </button>\n",
              "      \n",
              "  <style>\n",
              "    .colab-df-container {\n",
              "      display:flex;\n",
              "      flex-wrap:wrap;\n",
              "      gap: 12px;\n",
              "    }\n",
              "\n",
              "    .colab-df-convert {\n",
              "      background-color: #E8F0FE;\n",
              "      border: none;\n",
              "      border-radius: 50%;\n",
              "      cursor: pointer;\n",
              "      display: none;\n",
              "      fill: #1967D2;\n",
              "      height: 32px;\n",
              "      padding: 0 0 0 0;\n",
              "      width: 32px;\n",
              "    }\n",
              "\n",
              "    .colab-df-convert:hover {\n",
              "      background-color: #E2EBFA;\n",
              "      box-shadow: 0px 1px 2px rgba(60, 64, 67, 0.3), 0px 1px 3px 1px rgba(60, 64, 67, 0.15);\n",
              "      fill: #174EA6;\n",
              "    }\n",
              "\n",
              "    [theme=dark] .colab-df-convert {\n",
              "      background-color: #3B4455;\n",
              "      fill: #D2E3FC;\n",
              "    }\n",
              "\n",
              "    [theme=dark] .colab-df-convert:hover {\n",
              "      background-color: #434B5C;\n",
              "      box-shadow: 0px 1px 3px 1px rgba(0, 0, 0, 0.15);\n",
              "      filter: drop-shadow(0px 1px 2px rgba(0, 0, 0, 0.3));\n",
              "      fill: #FFFFFF;\n",
              "    }\n",
              "  </style>\n",
              "\n",
              "      <script>\n",
              "        const buttonEl =\n",
              "          document.querySelector('#df-78bfff2b-afad-42a2-9d95-9ab4a4365286 button.colab-df-convert');\n",
              "        buttonEl.style.display =\n",
              "          google.colab.kernel.accessAllowed ? 'block' : 'none';\n",
              "\n",
              "        async function convertToInteractive(key) {\n",
              "          const element = document.querySelector('#df-78bfff2b-afad-42a2-9d95-9ab4a4365286');\n",
              "          const dataTable =\n",
              "            await google.colab.kernel.invokeFunction('convertToInteractive',\n",
              "                                                     [key], {});\n",
              "          if (!dataTable) return;\n",
              "\n",
              "          const docLinkHtml = 'Like what you see? Visit the ' +\n",
              "            '<a target=\"_blank\" href=https://colab.research.google.com/notebooks/data_table.ipynb>data table notebook</a>'\n",
              "            + ' to learn more about interactive tables.';\n",
              "          element.innerHTML = '';\n",
              "          dataTable['output_type'] = 'display_data';\n",
              "          await google.colab.output.renderOutput(dataTable, element);\n",
              "          const docLink = document.createElement('div');\n",
              "          docLink.innerHTML = docLinkHtml;\n",
              "          element.appendChild(docLink);\n",
              "        }\n",
              "      </script>\n",
              "    </div>\n",
              "  </div>\n",
              "  "
            ]
          },
          "metadata": {},
          "execution_count": 10
        }
      ],
      "source": [
        "# assign kolom yang akan digunakan\n",
        "df = df[['MinTemp', 'MaxTemp', 'Rainfall', 'WindGustSpeed', 'Humidity9am', 'Humidity3pm', 'Pressure9am', 'Pressure3pm', 'RainTomorrow']]\n",
        "df.head()"
      ]
    },
    {
      "cell_type": "code",
      "execution_count": null,
      "metadata": {
        "id": "aLCYmmKS31xc"
      },
      "outputs": [],
      "source": [
        "# mencari value error pada kolom RainTomorrow\n",
        "for row in df['RainTomorrow']:\n",
        "    try:\n",
        "        float(row)\n",
        "        df.loc['RainTomorrow'] = np.nan\n",
        "    except ValueError:\n",
        "        pass"
      ]
    },
    {
      "cell_type": "markdown",
      "metadata": {
        "id": "WaCVgqnd4Sd0"
      },
      "source": [
        "Dilakukan pengecekan value error atau kondisi dimana di dalam kolom RainTomorrow memuat data yang tidak sesuai tipenya dimana setelah itu value error tersebut akan digantikan dengan NaN."
      ]
    },
    {
      "cell_type": "code",
      "execution_count": null,
      "metadata": {
        "id": "SjX36vbWJS-m"
      },
      "outputs": [],
      "source": [
        "# mencari value error pada kolom Rainfall\n",
        "for row in df['Rainfall']:\n",
        "    try:\n",
        "        float(row)\n",
        "        pass\n",
        "    except ValueError:\n",
        "        df.loc['Rainfall'] = np.nan"
      ]
    },
    {
      "cell_type": "markdown",
      "metadata": {
        "id": "Q6z653QYJZUx"
      },
      "source": [
        "Dilakukan pengecekan value error atau kondisi dimana di dalam kolom Rainfall memuat data yang tidak sesuai tipenya dimana setelah itu value error tersebut akan digantikan dengan NaN."
      ]
    },
    {
      "cell_type": "code",
      "execution_count": null,
      "metadata": {
        "id": "5Afxa-nj4IXg"
      },
      "outputs": [],
      "source": [
        "# mencari value error pada kolom WindGustSpeed\n",
        "for row in df['WindGustSpeed']:\n",
        "    try:\n",
        "        float(row)\n",
        "        pass\n",
        "    except ValueError:\n",
        "        df.loc['WindGustSpeed'] = np.nan"
      ]
    },
    {
      "cell_type": "markdown",
      "metadata": {
        "id": "OB1LjlqZ4U5b"
      },
      "source": [
        "Dilakukan pengecekan value error atau kondisi dimana di dalam kolom WindGustSpeed memuat data yang tidak sesuai tipenya dimana setelah itu value error tersebut akan digantikan dengan NaN."
      ]
    },
    {
      "cell_type": "code",
      "execution_count": null,
      "metadata": {
        "id": "gLkBSZMH4NDg"
      },
      "outputs": [],
      "source": [
        "# mencari value error pada kolom MaxTemp\n",
        "for row in df['MaxTemp']:\n",
        "    try:\n",
        "        float(row)\n",
        "        pass\n",
        "    except ValueError:\n",
        "        df.loc['MaxTemp'] = np.nan"
      ]
    },
    {
      "cell_type": "markdown",
      "metadata": {
        "id": "ZDF74DZY4X2a"
      },
      "source": [
        "Dilakukan pengecekan value error atau kondisi dimana di dalam kolom MaxTemp memuat data yang tidak sesuai tipenya dimana setelah itu value error tersebut akan digantikan dengan NaN."
      ]
    },
    {
      "cell_type": "code",
      "execution_count": null,
      "metadata": {
        "id": "lSp_V6rp4NjU"
      },
      "outputs": [],
      "source": [
        "# mencari value error pada kolom MinTemp\n",
        "for row in df['MinTemp']:\n",
        "    try:\n",
        "        float(row)\n",
        "        pass\n",
        "    except ValueError:\n",
        "        df.loc['MinTemp'] = np.nan"
      ]
    },
    {
      "cell_type": "markdown",
      "metadata": {
        "id": "TRjOjGpQ4Zuq"
      },
      "source": [
        "Dilakukan pengecekan value error atau kondisi dimana di dalam kolom MinTemp memuat data yang tidak sesuai tipenya dimana setelah itu value error tersebut akan digantikan dengan NaN."
      ]
    },
    {
      "cell_type": "code",
      "execution_count": null,
      "metadata": {
        "id": "D3UKT6v_Jijw"
      },
      "outputs": [],
      "source": [
        "# mencari value error pada kolom Humidity9am\n",
        "for row in df['Humidity9am']:\n",
        "    try:\n",
        "        float(row)\n",
        "        pass\n",
        "    except ValueError:\n",
        "        df.loc['Humidity9am'] = np.nan"
      ]
    },
    {
      "cell_type": "markdown",
      "metadata": {
        "id": "VvducA1MJtbc"
      },
      "source": [
        "Dilakukan pengecekan value error atau kondisi dimana di dalam kolom Humidity9am memuat data yang tidak sesuai tipenya dimana setelah itu value error tersebut akan digantikan dengan NaN."
      ]
    },
    {
      "cell_type": "code",
      "execution_count": null,
      "metadata": {
        "id": "NIUpoBjKJoYw"
      },
      "outputs": [],
      "source": [
        "# mencari value error pada kolom Humidity3pm\n",
        "for row in df['Humidity3pm']:\n",
        "    try:\n",
        "        float(row)\n",
        "        pass\n",
        "    except ValueError:\n",
        "        df.loc['Humidity3pm'] = np.nan"
      ]
    },
    {
      "cell_type": "markdown",
      "metadata": {
        "id": "DyqXIDJ9JwPR"
      },
      "source": [
        "Dilakukan pengecekan value error atau kondisi dimana di dalam kolom Humidity3pm memuat data yang tidak sesuai tipenya dimana setelah itu value error tersebut akan digantikan dengan NaN."
      ]
    },
    {
      "cell_type": "code",
      "execution_count": null,
      "metadata": {
        "id": "2aUJecoXJ5R0"
      },
      "outputs": [],
      "source": [
        "# mencari value error pada kolom Pressure9am\n",
        "for row in df['Pressure9am']:\n",
        "    try:\n",
        "        float(row)\n",
        "        pass\n",
        "    except ValueError:\n",
        "        df.loc['Pressure9am'] = np.nan"
      ]
    },
    {
      "cell_type": "markdown",
      "metadata": {
        "id": "VaZR7ssqKDz6"
      },
      "source": [
        "Dilakukan pengecekan value error atau kondisi dimana di dalam kolom Pressure9am memuat data yang tidak sesuai tipenya dimana setelah itu value error tersebut akan digantikan dengan NaN."
      ]
    },
    {
      "cell_type": "code",
      "execution_count": null,
      "metadata": {
        "id": "rYB1_LKyJzFL"
      },
      "outputs": [],
      "source": [
        "# mencari value error pada kolom Pressure3pm\n",
        "for row in df['Pressure3pm']:\n",
        "    try:\n",
        "        float(row)\n",
        "        pass\n",
        "    except ValueError:\n",
        "        df.loc['Pressure3pm'] = np.nan"
      ]
    },
    {
      "cell_type": "markdown",
      "metadata": {
        "id": "FoG8PTP4J_C6"
      },
      "source": [
        "Dilakukan pengecekan value error atau kondisi dimana di dalam kolom Pressure3pm memuat data yang tidak sesuai tipenya dimana setelah itu value error tersebut akan digantikan dengan NaN."
      ]
    },
    {
      "cell_type": "code",
      "execution_count": null,
      "metadata": {
        "colab": {
          "base_uri": "https://localhost:8080/"
        },
        "id": "QU7G3Lp_502j",
        "outputId": "bfb248fc-c900-4686-d279-56b604c19797"
      },
      "outputs": [
        {
          "output_type": "execute_result",
          "data": {
            "text/plain": [
              "(145461, 9)"
            ]
          },
          "metadata": {},
          "execution_count": 20
        }
      ],
      "source": [
        "# menampilkan bentuk data\n",
        "df.shape"
      ]
    },
    {
      "cell_type": "markdown",
      "metadata": {
        "id": "r_bCCgPj53ae"
      },
      "source": [
        "Ditampilkan bentuk data untuk mengecek kembali seberapa banyak data yang dimuat dalam dataset ini yang mana nantinya akan digunakan untuk perbandingan jumlah data null dengan keseluruhan data. Output menunjukkan bahwa dataset ini memuat sebanyak 145462 dengan 7 buah kolom dari yang diassign dari dataset awal."
      ]
    },
    {
      "cell_type": "code",
      "execution_count": null,
      "metadata": {
        "colab": {
          "base_uri": "https://localhost:8080/"
        },
        "id": "gGKv3QWQ6O8V",
        "outputId": "9c18262b-6508-4f5d-a5b9-26ef87dc5aa3"
      },
      "outputs": [
        {
          "output_type": "execute_result",
          "data": {
            "text/plain": [
              "MinTemp           1486\n",
              "MaxTemp           1262\n",
              "Rainfall          3262\n",
              "WindGustSpeed    10264\n",
              "Humidity9am       2655\n",
              "Humidity3pm       4508\n",
              "Pressure9am      15066\n",
              "Pressure3pm      15029\n",
              "RainTomorrow      3268\n",
              "dtype: int64"
            ]
          },
          "metadata": {},
          "execution_count": 21
        }
      ],
      "source": [
        "# check null values\n",
        "df.isna().sum()"
      ]
    },
    {
      "cell_type": "markdown",
      "metadata": {
        "id": "gNu1OObQ5FYq"
      },
      "source": [
        "Setelah dilakukan pengecekan value error, dicek kembali jumlah data null pada masing-masing kolom menggunakan fungsi `isna().sum()`."
      ]
    },
    {
      "cell_type": "code",
      "execution_count": null,
      "metadata": {
        "colab": {
          "base_uri": "https://localhost:8080/",
          "height": 331
        },
        "id": "AeQBZgaz58FI",
        "outputId": "6a4a7d89-6ee9-4c26-968a-6fc49675cff8"
      },
      "outputs": [
        {
          "output_type": "execute_result",
          "data": {
            "text/plain": [
              "               percent_missing\n",
              "MinTemp               0.010216\n",
              "MaxTemp               0.008676\n",
              "Rainfall              0.022425\n",
              "WindGustSpeed         0.070562\n",
              "Humidity9am           0.018252\n",
              "Humidity3pm           0.030991\n",
              "Pressure9am           0.103574\n",
              "Pressure3pm           0.103320\n",
              "RainTomorrow          0.022467"
            ],
            "text/html": [
              "\n",
              "  <div id=\"df-1aad7aac-4c71-44f1-b2d2-a554454b90ee\">\n",
              "    <div class=\"colab-df-container\">\n",
              "      <div>\n",
              "<style scoped>\n",
              "    .dataframe tbody tr th:only-of-type {\n",
              "        vertical-align: middle;\n",
              "    }\n",
              "\n",
              "    .dataframe tbody tr th {\n",
              "        vertical-align: top;\n",
              "    }\n",
              "\n",
              "    .dataframe thead th {\n",
              "        text-align: right;\n",
              "    }\n",
              "</style>\n",
              "<table border=\"1\" class=\"dataframe\">\n",
              "  <thead>\n",
              "    <tr style=\"text-align: right;\">\n",
              "      <th></th>\n",
              "      <th>percent_missing</th>\n",
              "    </tr>\n",
              "  </thead>\n",
              "  <tbody>\n",
              "    <tr>\n",
              "      <th>MinTemp</th>\n",
              "      <td>0.010216</td>\n",
              "    </tr>\n",
              "    <tr>\n",
              "      <th>MaxTemp</th>\n",
              "      <td>0.008676</td>\n",
              "    </tr>\n",
              "    <tr>\n",
              "      <th>Rainfall</th>\n",
              "      <td>0.022425</td>\n",
              "    </tr>\n",
              "    <tr>\n",
              "      <th>WindGustSpeed</th>\n",
              "      <td>0.070562</td>\n",
              "    </tr>\n",
              "    <tr>\n",
              "      <th>Humidity9am</th>\n",
              "      <td>0.018252</td>\n",
              "    </tr>\n",
              "    <tr>\n",
              "      <th>Humidity3pm</th>\n",
              "      <td>0.030991</td>\n",
              "    </tr>\n",
              "    <tr>\n",
              "      <th>Pressure9am</th>\n",
              "      <td>0.103574</td>\n",
              "    </tr>\n",
              "    <tr>\n",
              "      <th>Pressure3pm</th>\n",
              "      <td>0.103320</td>\n",
              "    </tr>\n",
              "    <tr>\n",
              "      <th>RainTomorrow</th>\n",
              "      <td>0.022467</td>\n",
              "    </tr>\n",
              "  </tbody>\n",
              "</table>\n",
              "</div>\n",
              "      <button class=\"colab-df-convert\" onclick=\"convertToInteractive('df-1aad7aac-4c71-44f1-b2d2-a554454b90ee')\"\n",
              "              title=\"Convert this dataframe to an interactive table.\"\n",
              "              style=\"display:none;\">\n",
              "        \n",
              "  <svg xmlns=\"http://www.w3.org/2000/svg\" height=\"24px\"viewBox=\"0 0 24 24\"\n",
              "       width=\"24px\">\n",
              "    <path d=\"M0 0h24v24H0V0z\" fill=\"none\"/>\n",
              "    <path d=\"M18.56 5.44l.94 2.06.94-2.06 2.06-.94-2.06-.94-.94-2.06-.94 2.06-2.06.94zm-11 1L8.5 8.5l.94-2.06 2.06-.94-2.06-.94L8.5 2.5l-.94 2.06-2.06.94zm10 10l.94 2.06.94-2.06 2.06-.94-2.06-.94-.94-2.06-.94 2.06-2.06.94z\"/><path d=\"M17.41 7.96l-1.37-1.37c-.4-.4-.92-.59-1.43-.59-.52 0-1.04.2-1.43.59L10.3 9.45l-7.72 7.72c-.78.78-.78 2.05 0 2.83L4 21.41c.39.39.9.59 1.41.59.51 0 1.02-.2 1.41-.59l7.78-7.78 2.81-2.81c.8-.78.8-2.07 0-2.86zM5.41 20L4 18.59l7.72-7.72 1.47 1.35L5.41 20z\"/>\n",
              "  </svg>\n",
              "      </button>\n",
              "      \n",
              "  <style>\n",
              "    .colab-df-container {\n",
              "      display:flex;\n",
              "      flex-wrap:wrap;\n",
              "      gap: 12px;\n",
              "    }\n",
              "\n",
              "    .colab-df-convert {\n",
              "      background-color: #E8F0FE;\n",
              "      border: none;\n",
              "      border-radius: 50%;\n",
              "      cursor: pointer;\n",
              "      display: none;\n",
              "      fill: #1967D2;\n",
              "      height: 32px;\n",
              "      padding: 0 0 0 0;\n",
              "      width: 32px;\n",
              "    }\n",
              "\n",
              "    .colab-df-convert:hover {\n",
              "      background-color: #E2EBFA;\n",
              "      box-shadow: 0px 1px 2px rgba(60, 64, 67, 0.3), 0px 1px 3px 1px rgba(60, 64, 67, 0.15);\n",
              "      fill: #174EA6;\n",
              "    }\n",
              "\n",
              "    [theme=dark] .colab-df-convert {\n",
              "      background-color: #3B4455;\n",
              "      fill: #D2E3FC;\n",
              "    }\n",
              "\n",
              "    [theme=dark] .colab-df-convert:hover {\n",
              "      background-color: #434B5C;\n",
              "      box-shadow: 0px 1px 3px 1px rgba(0, 0, 0, 0.15);\n",
              "      filter: drop-shadow(0px 1px 2px rgba(0, 0, 0, 0.3));\n",
              "      fill: #FFFFFF;\n",
              "    }\n",
              "  </style>\n",
              "\n",
              "      <script>\n",
              "        const buttonEl =\n",
              "          document.querySelector('#df-1aad7aac-4c71-44f1-b2d2-a554454b90ee button.colab-df-convert');\n",
              "        buttonEl.style.display =\n",
              "          google.colab.kernel.accessAllowed ? 'block' : 'none';\n",
              "\n",
              "        async function convertToInteractive(key) {\n",
              "          const element = document.querySelector('#df-1aad7aac-4c71-44f1-b2d2-a554454b90ee');\n",
              "          const dataTable =\n",
              "            await google.colab.kernel.invokeFunction('convertToInteractive',\n",
              "                                                     [key], {});\n",
              "          if (!dataTable) return;\n",
              "\n",
              "          const docLinkHtml = 'Like what you see? Visit the ' +\n",
              "            '<a target=\"_blank\" href=https://colab.research.google.com/notebooks/data_table.ipynb>data table notebook</a>'\n",
              "            + ' to learn more about interactive tables.';\n",
              "          element.innerHTML = '';\n",
              "          dataTable['output_type'] = 'display_data';\n",
              "          await google.colab.output.renderOutput(dataTable, element);\n",
              "          const docLink = document.createElement('div');\n",
              "          docLink.innerHTML = docLinkHtml;\n",
              "          element.appendChild(docLink);\n",
              "        }\n",
              "      </script>\n",
              "    </div>\n",
              "  </div>\n",
              "  "
            ]
          },
          "metadata": {},
          "execution_count": 22
        }
      ],
      "source": [
        "# melihat persen data null masing-masing kolom dari keseluruhan data\n",
        "percent_missing = (df.isnull().sum() / len(df)) * 100/100\n",
        "missing_value_df = pd.DataFrame({'percent_missing': percent_missing})\n",
        "missing_value_df"
      ]
    },
    {
      "cell_type": "markdown",
      "metadata": {
        "id": "FwX8bXKD5TtT"
      },
      "source": [
        "Menggunakan kode di atas, dihitung persentasi data null pada masing-masing kolom untuk membandingkan jumlahnya dari keseluruhan data."
      ]
    },
    {
      "cell_type": "code",
      "execution_count": null,
      "metadata": {
        "id": "roLR6ue0CBlm"
      },
      "outputs": [],
      "source": [
        "# menghapus missing value\n",
        "df.dropna(inplace=True)"
      ]
    },
    {
      "cell_type": "markdown",
      "metadata": {
        "id": "Pw9feIXVCXgA"
      },
      "source": [
        "Dari hasil perhitungan persen data null sebelumnya, diputuskan untuk menghapus data null tersebut dikarenakan jumlahnya yang sedikit dan dianggap tidak akan berdampak besar pada proses membangun model. Menggunakan `dropna()` dilakukan penghapusan nilai NaN dengan parameter axis defaultnya adalah 0 dimana akan dilakukan penghapusan nilai NaN berdasarkan index atau baris. Sehingga, setelah dilakukan drop missing values, jumlah data akan berkurang."
      ]
    },
    {
      "cell_type": "code",
      "execution_count": null,
      "metadata": {
        "colab": {
          "base_uri": "https://localhost:8080/"
        },
        "id": "-fdE9zGjCoGs",
        "outputId": "10fbe90e-259a-4149-f528-c41e1ade72a4"
      },
      "outputs": [
        {
          "output_type": "execute_result",
          "data": {
            "text/plain": [
              "MinTemp          0\n",
              "MaxTemp          0\n",
              "Rainfall         0\n",
              "WindGustSpeed    0\n",
              "Humidity9am      0\n",
              "Humidity3pm      0\n",
              "Pressure9am      0\n",
              "Pressure3pm      0\n",
              "RainTomorrow     0\n",
              "dtype: int64"
            ]
          },
          "metadata": {},
          "execution_count": 24
        }
      ],
      "source": [
        "# memeriksa data null untuk masing-masing kolom\n",
        "df.isna().sum()"
      ]
    },
    {
      "cell_type": "markdown",
      "metadata": {
        "id": "wC0JwPfnCwAA"
      },
      "source": [
        "Setelah diperiksa kembali, dapat disimpulkan data telah bersih dari missing values."
      ]
    },
    {
      "cell_type": "markdown",
      "metadata": {
        "id": "PDC7k74IAxSx"
      },
      "source": [
        "# Eksplorasi Data (EDA)"
      ]
    },
    {
      "cell_type": "markdown",
      "metadata": {
        "id": "xpAs9YZzVRbw"
      },
      "source": [
        "Informasi mengenai statistik deskriptif dari set data dapat diketahui menggunakan fungsi `.describe()`. Informasi yang diperoleh adalah ringkasan mengenai ukuran pemusatan data (central tendency) dan ukuran penyebaran data (measure of spread) dari masing-masing kolom yang berisi nilai numerik pada set data. Pada kasus ini, kolom yang berisi nilai numerik adalah kolom **MinTemp**, **MaxTemp**, **Humidity9am**, **Humidity3pm, Pressure9am, Pressure3pm, Rainfall**, dan **WindGustSpeed**."
      ]
    },
    {
      "cell_type": "code",
      "execution_count": null,
      "metadata": {
        "colab": {
          "base_uri": "https://localhost:8080/",
          "height": 300
        },
        "id": "WAX6l80g4cpz",
        "outputId": "c9df20ec-e0f2-4035-b1d3-5a9f17032e57"
      },
      "outputs": [
        {
          "output_type": "execute_result",
          "data": {
            "text/plain": [
              "             MinTemp        MaxTemp       Rainfall  WindGustSpeed  \\\n",
              "count  119702.000000  119702.000000  119702.000000  119702.000000   \n",
              "mean       12.385212      23.485033       2.321648      40.105378   \n",
              "std         6.368509       6.986828       8.465288      13.480837   \n",
              "min        -8.200000       2.600000       0.000000       6.000000   \n",
              "25%         7.700000      18.100000       0.000000      31.000000   \n",
              "50%        12.100000      22.900000       0.000000      39.000000   \n",
              "75%        17.000000      28.500000       0.600000      48.000000   \n",
              "max        33.900000      48.100000     367.600000     135.000000   \n",
              "\n",
              "         Humidity9am    Humidity3pm    Pressure9am    Pressure3pm  \n",
              "count  119702.000000  119702.000000  119702.000000  119702.000000  \n",
              "mean       68.296353      50.868181    1017.656577    1015.253571  \n",
              "std        19.129024      20.692725       7.099444       7.020637  \n",
              "min         0.000000       0.000000     980.500000     977.100000  \n",
              "25%        56.000000      36.000000    1013.000000    1010.500000  \n",
              "50%        69.000000      51.000000    1017.600000    1015.200000  \n",
              "75%        82.000000      65.000000    1022.400000    1020.000000  \n",
              "max       100.000000     100.000000    1041.000000    1039.600000  "
            ],
            "text/html": [
              "\n",
              "  <div id=\"df-25500ded-b5fd-4ee5-b5cb-64c030803acd\">\n",
              "    <div class=\"colab-df-container\">\n",
              "      <div>\n",
              "<style scoped>\n",
              "    .dataframe tbody tr th:only-of-type {\n",
              "        vertical-align: middle;\n",
              "    }\n",
              "\n",
              "    .dataframe tbody tr th {\n",
              "        vertical-align: top;\n",
              "    }\n",
              "\n",
              "    .dataframe thead th {\n",
              "        text-align: right;\n",
              "    }\n",
              "</style>\n",
              "<table border=\"1\" class=\"dataframe\">\n",
              "  <thead>\n",
              "    <tr style=\"text-align: right;\">\n",
              "      <th></th>\n",
              "      <th>MinTemp</th>\n",
              "      <th>MaxTemp</th>\n",
              "      <th>Rainfall</th>\n",
              "      <th>WindGustSpeed</th>\n",
              "      <th>Humidity9am</th>\n",
              "      <th>Humidity3pm</th>\n",
              "      <th>Pressure9am</th>\n",
              "      <th>Pressure3pm</th>\n",
              "    </tr>\n",
              "  </thead>\n",
              "  <tbody>\n",
              "    <tr>\n",
              "      <th>count</th>\n",
              "      <td>119702.000000</td>\n",
              "      <td>119702.000000</td>\n",
              "      <td>119702.000000</td>\n",
              "      <td>119702.000000</td>\n",
              "      <td>119702.000000</td>\n",
              "      <td>119702.000000</td>\n",
              "      <td>119702.000000</td>\n",
              "      <td>119702.000000</td>\n",
              "    </tr>\n",
              "    <tr>\n",
              "      <th>mean</th>\n",
              "      <td>12.385212</td>\n",
              "      <td>23.485033</td>\n",
              "      <td>2.321648</td>\n",
              "      <td>40.105378</td>\n",
              "      <td>68.296353</td>\n",
              "      <td>50.868181</td>\n",
              "      <td>1017.656577</td>\n",
              "      <td>1015.253571</td>\n",
              "    </tr>\n",
              "    <tr>\n",
              "      <th>std</th>\n",
              "      <td>6.368509</td>\n",
              "      <td>6.986828</td>\n",
              "      <td>8.465288</td>\n",
              "      <td>13.480837</td>\n",
              "      <td>19.129024</td>\n",
              "      <td>20.692725</td>\n",
              "      <td>7.099444</td>\n",
              "      <td>7.020637</td>\n",
              "    </tr>\n",
              "    <tr>\n",
              "      <th>min</th>\n",
              "      <td>-8.200000</td>\n",
              "      <td>2.600000</td>\n",
              "      <td>0.000000</td>\n",
              "      <td>6.000000</td>\n",
              "      <td>0.000000</td>\n",
              "      <td>0.000000</td>\n",
              "      <td>980.500000</td>\n",
              "      <td>977.100000</td>\n",
              "    </tr>\n",
              "    <tr>\n",
              "      <th>25%</th>\n",
              "      <td>7.700000</td>\n",
              "      <td>18.100000</td>\n",
              "      <td>0.000000</td>\n",
              "      <td>31.000000</td>\n",
              "      <td>56.000000</td>\n",
              "      <td>36.000000</td>\n",
              "      <td>1013.000000</td>\n",
              "      <td>1010.500000</td>\n",
              "    </tr>\n",
              "    <tr>\n",
              "      <th>50%</th>\n",
              "      <td>12.100000</td>\n",
              "      <td>22.900000</td>\n",
              "      <td>0.000000</td>\n",
              "      <td>39.000000</td>\n",
              "      <td>69.000000</td>\n",
              "      <td>51.000000</td>\n",
              "      <td>1017.600000</td>\n",
              "      <td>1015.200000</td>\n",
              "    </tr>\n",
              "    <tr>\n",
              "      <th>75%</th>\n",
              "      <td>17.000000</td>\n",
              "      <td>28.500000</td>\n",
              "      <td>0.600000</td>\n",
              "      <td>48.000000</td>\n",
              "      <td>82.000000</td>\n",
              "      <td>65.000000</td>\n",
              "      <td>1022.400000</td>\n",
              "      <td>1020.000000</td>\n",
              "    </tr>\n",
              "    <tr>\n",
              "      <th>max</th>\n",
              "      <td>33.900000</td>\n",
              "      <td>48.100000</td>\n",
              "      <td>367.600000</td>\n",
              "      <td>135.000000</td>\n",
              "      <td>100.000000</td>\n",
              "      <td>100.000000</td>\n",
              "      <td>1041.000000</td>\n",
              "      <td>1039.600000</td>\n",
              "    </tr>\n",
              "  </tbody>\n",
              "</table>\n",
              "</div>\n",
              "      <button class=\"colab-df-convert\" onclick=\"convertToInteractive('df-25500ded-b5fd-4ee5-b5cb-64c030803acd')\"\n",
              "              title=\"Convert this dataframe to an interactive table.\"\n",
              "              style=\"display:none;\">\n",
              "        \n",
              "  <svg xmlns=\"http://www.w3.org/2000/svg\" height=\"24px\"viewBox=\"0 0 24 24\"\n",
              "       width=\"24px\">\n",
              "    <path d=\"M0 0h24v24H0V0z\" fill=\"none\"/>\n",
              "    <path d=\"M18.56 5.44l.94 2.06.94-2.06 2.06-.94-2.06-.94-.94-2.06-.94 2.06-2.06.94zm-11 1L8.5 8.5l.94-2.06 2.06-.94-2.06-.94L8.5 2.5l-.94 2.06-2.06.94zm10 10l.94 2.06.94-2.06 2.06-.94-2.06-.94-.94-2.06-.94 2.06-2.06.94z\"/><path d=\"M17.41 7.96l-1.37-1.37c-.4-.4-.92-.59-1.43-.59-.52 0-1.04.2-1.43.59L10.3 9.45l-7.72 7.72c-.78.78-.78 2.05 0 2.83L4 21.41c.39.39.9.59 1.41.59.51 0 1.02-.2 1.41-.59l7.78-7.78 2.81-2.81c.8-.78.8-2.07 0-2.86zM5.41 20L4 18.59l7.72-7.72 1.47 1.35L5.41 20z\"/>\n",
              "  </svg>\n",
              "      </button>\n",
              "      \n",
              "  <style>\n",
              "    .colab-df-container {\n",
              "      display:flex;\n",
              "      flex-wrap:wrap;\n",
              "      gap: 12px;\n",
              "    }\n",
              "\n",
              "    .colab-df-convert {\n",
              "      background-color: #E8F0FE;\n",
              "      border: none;\n",
              "      border-radius: 50%;\n",
              "      cursor: pointer;\n",
              "      display: none;\n",
              "      fill: #1967D2;\n",
              "      height: 32px;\n",
              "      padding: 0 0 0 0;\n",
              "      width: 32px;\n",
              "    }\n",
              "\n",
              "    .colab-df-convert:hover {\n",
              "      background-color: #E2EBFA;\n",
              "      box-shadow: 0px 1px 2px rgba(60, 64, 67, 0.3), 0px 1px 3px 1px rgba(60, 64, 67, 0.15);\n",
              "      fill: #174EA6;\n",
              "    }\n",
              "\n",
              "    [theme=dark] .colab-df-convert {\n",
              "      background-color: #3B4455;\n",
              "      fill: #D2E3FC;\n",
              "    }\n",
              "\n",
              "    [theme=dark] .colab-df-convert:hover {\n",
              "      background-color: #434B5C;\n",
              "      box-shadow: 0px 1px 3px 1px rgba(0, 0, 0, 0.15);\n",
              "      filter: drop-shadow(0px 1px 2px rgba(0, 0, 0, 0.3));\n",
              "      fill: #FFFFFF;\n",
              "    }\n",
              "  </style>\n",
              "\n",
              "      <script>\n",
              "        const buttonEl =\n",
              "          document.querySelector('#df-25500ded-b5fd-4ee5-b5cb-64c030803acd button.colab-df-convert');\n",
              "        buttonEl.style.display =\n",
              "          google.colab.kernel.accessAllowed ? 'block' : 'none';\n",
              "\n",
              "        async function convertToInteractive(key) {\n",
              "          const element = document.querySelector('#df-25500ded-b5fd-4ee5-b5cb-64c030803acd');\n",
              "          const dataTable =\n",
              "            await google.colab.kernel.invokeFunction('convertToInteractive',\n",
              "                                                     [key], {});\n",
              "          if (!dataTable) return;\n",
              "\n",
              "          const docLinkHtml = 'Like what you see? Visit the ' +\n",
              "            '<a target=\"_blank\" href=https://colab.research.google.com/notebooks/data_table.ipynb>data table notebook</a>'\n",
              "            + ' to learn more about interactive tables.';\n",
              "          element.innerHTML = '';\n",
              "          dataTable['output_type'] = 'display_data';\n",
              "          await google.colab.output.renderOutput(dataTable, element);\n",
              "          const docLink = document.createElement('div');\n",
              "          docLink.innerHTML = docLinkHtml;\n",
              "          element.appendChild(docLink);\n",
              "        }\n",
              "      </script>\n",
              "    </div>\n",
              "  </div>\n",
              "  "
            ]
          },
          "metadata": {},
          "execution_count": 25
        }
      ],
      "source": [
        "df.describe()"
      ]
    },
    {
      "cell_type": "markdown",
      "metadata": {
        "id": "l1G9wpIIWZSg"
      },
      "source": [
        "Untuk mengetahui frekuensi nilai **Yes** dan **No** pada kolom `RainTomorrow` digunakan fungsi `.value_counts()`"
      ]
    },
    {
      "cell_type": "code",
      "execution_count": null,
      "metadata": {
        "colab": {
          "base_uri": "https://localhost:8080/"
        },
        "id": "yuJrF4GZ6lCr",
        "outputId": "76e2eb43-b2b8-4e1b-f5d6-eac1e7c7e6f1"
      },
      "outputs": [
        {
          "output_type": "execute_result",
          "data": {
            "text/plain": [
              "No     93483\n",
              "Yes    26219\n",
              "Name: RainTomorrow, dtype: int64"
            ]
          },
          "metadata": {},
          "execution_count": 26
        }
      ],
      "source": [
        "df['RainTomorrow'].value_counts()"
      ]
    },
    {
      "cell_type": "markdown",
      "metadata": {
        "id": "be_x98HGWh4Z"
      },
      "source": [
        "Berdasarkan hasil tersebut, dapat terlihat bahwa nilai/value **No** lebih besar daripada nilai/value **Yes**."
      ]
    },
    {
      "cell_type": "markdown",
      "metadata": {
        "id": "_LWxvyMZYfQB"
      },
      "source": [
        "Visualisasi frekuensi nilai pada kolom `RainTomorrow` dapat ditampilkan menggunakan fungsi `.plot()` dengan argumen yang disesuaikan.\n",
        "\n",
        "* `kind=''`: mendefinsikan jenis plot yang digunakan yaitu pie\n",
        "* `figsize=()`: mendefinisikan ukuran plot\n",
        "* `autopct=''`: menambahkan teks presentase\n",
        "* `shadow=True`: menambahkan bayangan pada plot\n",
        "* `colors=''`: memberikan warna tertentu pada chart\n",
        "* `explode=''`: memberikan jarak pada masing-masing slice pada chart\n",
        "\n",
        "Untuk menambahkan keterangan pada plot, dapat digunakan fungsi sebagai berikut:\n",
        "\n",
        "* `plt.title()`: memberi judul pada plot\n",
        "* `size=`: mengatur ukuran teks"
      ]
    },
    {
      "cell_type": "code",
      "execution_count": null,
      "metadata": {
        "colab": {
          "base_uri": "https://localhost:8080/",
          "height": 444
        },
        "id": "oCl7pOB56k_g",
        "outputId": "a20609f7-8fe2-4503-f50b-636b32d297d7"
      },
      "outputs": [
        {
          "output_type": "display_data",
          "data": {
            "text/plain": [
              "<Figure size 500x500 with 1 Axes>"
            ],
            "image/png": "[encoded data removed]"
          },
          "metadata": {}
        }
      ],
      "source": [
        "df['RainTomorrow'].value_counts().plot(kind='pie',figsize=(5,5),autopct='%1.1f%%',colors=['lightgreen','gold'],shadow=True,explode=[0.1,0.04])\n",
        "plt.title('Yes vs No', size=13)\n",
        "plt.show()"
      ]
    },
    {
      "cell_type": "markdown",
      "metadata": {
        "id": "Ihm4g5BKYeEy"
      },
      "source": [
        "Berdasarkan plot, dapat diketahui bahwa sebanyak 77.9% data pada kolom `RainTomorrow` bernilai **No**, sedangkan sisanya yaitu 22.1% bernilai **Yes**."
      ]
    },
    {
      "cell_type": "markdown",
      "metadata": {
        "id": "07yNSITEbRt8"
      },
      "source": [
        "Pengecekan terhadap outlier pada set data dapat dilakukan menggunakan diagnostic plots dengan jenis plot histogram dan boxplot."
      ]
    },
    {
      "cell_type": "code",
      "execution_count": null,
      "metadata": {
        "id": "eN3qecBAb7tU"
      },
      "outputs": [],
      "source": [
        "def diagnostic_plots(df,variable):\n",
        "    plt.figure(figsize=(16,4))\n",
        "    \n",
        "    #Histogram\n",
        "    plt.subplot(1,2,1)\n",
        "    sns.histplot(df[variable],bins=30)\n",
        "    plt.title('Histogram')\n",
        "    \n",
        "    # Boxplot\n",
        "    plt.subplot(1,2,2)\n",
        "    sns.boxplot(y=df[variable])\n",
        "    plt.title('Boxplot')\n",
        "    \n",
        "    plt.show()"
      ]
    },
    {
      "cell_type": "code",
      "execution_count": null,
      "metadata": {
        "colab": {
          "base_uri": "https://localhost:8080/",
          "height": 1000
        },
        "id": "38B4qyeK9Nxc",
        "outputId": "04d12757-a599-4ac9-94b1-d6f159e76657"
      },
      "outputs": [
        {
          "output_type": "display_data",
          "data": {
            "text/plain": [
              "<Figure size 1600x400 with 2 Axes>"
            ],
            "image/png": "[encoded data removed]"
          },
          "metadata": {}
        },
        {
          "output_type": "display_data",
          "data": {
            "text/plain": [
              "<Figure size 1600x400 with 2 Axes>"
            ],
            "image/png": "[encoded data removed]"
          },
          "metadata": {}
        },
        {
          "output_type": "display_data",
          "data": {
            "text/plain": [
              "<Figure size 1600x400 with 2 Axes>"
            ],
            "image/png": "[encoded data removed]"
          },
          "metadata": {}
        },
        {
          "output_type": "display_data",
          "data": {
            "text/plain": [
              "<Figure size 1600x400 with 2 Axes>"
            ],
            "image/png": "[encoded data removed]"
          },
          "metadata": {}
        },
        {
          "output_type": "display_data",
          "data": {
            "text/plain": [
              "<Figure size 1600x400 with 2 Axes>"
            ],
            "image/png": "[encoded data removed]"
          },
          "metadata": {}
        },
        {
          "output_type": "display_data",
          "data": {
            "text/plain": [
              "<Figure size 1600x400 with 2 Axes>"
            ],
            "image/png": "[encoded data removed]"
          },
          "metadata": {}
        },
        {
          "output_type": "display_data",
          "data": {
            "text/plain": [
              "<Figure size 1600x400 with 2 Axes>"
            ],
            "image/png": "[encoded data removed]"
          },
          "metadata": {}
        },
        {
          "output_type": "display_data",
          "data": {
            "text/plain": [
              "<Figure size 1600x400 with 2 Axes>"
            ],
            "image/png": "[encoded data removed]"
          },
          "metadata": {}
        }
      ],
      "source": [
        "diagnostic_plots(df, 'MinTemp')\n",
        "diagnostic_plots(df, 'MaxTemp')\n",
        "diagnostic_plots(df, 'Rainfall')\n",
        "diagnostic_plots(df, 'WindGustSpeed')\n",
        "diagnostic_plots(df, 'Humidity9am')\n",
        "diagnostic_plots(df, 'Humidity3pm')\n",
        "diagnostic_plots(df, 'Pressure9am')\n",
        "diagnostic_plots(df, 'Pressure3pm')"
      ]
    },
    {
      "cell_type": "markdown",
      "metadata": {
        "id": "nrGEc6l7A8am"
      },
      "source": [
        "Jika ingin diketahui tingkat kemiringan data, dapat digunakan fungsi `.skew()`."
      ]
    },
    {
      "cell_type": "code",
      "source": [
        "print('Skewness of MinTemp\\t\\t:', df.MinTemp.skew())\n",
        "print('Skewness of Max Temp\\t\\t:', df.MaxTemp.skew())\n",
        "print('Skewness of Rainfall\\t\\t:', df.Rainfall.skew())\n",
        "print('Skewness of WindGustSpeed\\t:', df.WindGustSpeed.skew())\n",
        "print('Skewness of Humidity9am\\t\\t:', df.Humidity9am.skew())\n",
        "print('Skewness of Humidity3am\\t\\t:', df.Humidity3pm.skew())\n",
        "print('Skewness of Pressure9am\\t\\t:', df.Pressure9am.skew())\n",
        "print('Skewness pf Pressure3am\\t\\t:', df.Pressure3pm.skew())"
      ],
      "metadata": {
        "colab": {
          "base_uri": "https://localhost:8080/"
        },
        "id": "zTNTa9otFls3",
        "outputId": "5a30d697-2007-4327-a254-ba8ff06b2c5d"
      },
      "execution_count": null,
      "outputs": [
        {
          "output_type": "stream",
          "name": "stdout",
          "text": [
            "Skewness of MinTemp\t\t: 0.06237258465761144\n",
            "Skewness of Max Temp\t\t: 0.31905296927322363\n",
            "Skewness of Rainfall\t\t: 9.721496673513911\n",
            "Skewness of WindGustSpeed\t: 0.8808927284832081\n",
            "Skewness of Humidity9am\t\t: -0.4747099160871263\n",
            "Skewness of Humidity3am\t\t: 0.01739443145721476\n",
            "Skewness of Pressure9am\t\t: -0.09984086326383623\n",
            "Skewness pf Pressure3am\t\t: -0.049787423854261985\n"
          ]
        }
      ]
    },
    {
      "cell_type": "markdown",
      "metadata": {
        "id": "OZ1ahoDvBdjM"
      },
      "source": [
        "Korelasi antar kolom data target terhadap data label dapat dicari menggunakan fungsi `.corr()`. Namun, kolom data target harus di-encode terlebih dahulu karena data target merupakan data kategorik. Pada kolom `RainTomorrow` dilakukan proses encode menggunakan `LabelEncoder` untuk mengubah data kategorik menjadi numerik dengan keterangan:\n",
        "\n",
        "* No : 0\n",
        "* Yes : 1"
      ]
    },
    {
      "cell_type": "code",
      "source": [
        "le = LabelEncoder()\n",
        "\n",
        "df[['RainTomorrow']] = df[['RainTomorrow']].apply(le.fit_transform)\n",
        "df.head()"
      ],
      "metadata": {
        "colab": {
          "base_uri": "https://localhost:8080/",
          "height": 206
        },
        "id": "j3_9umZNF53H",
        "outputId": "c85e55fc-0e03-4fb2-a94b-10744b7ad49c"
      },
      "execution_count": null,
      "outputs": [
        {
          "output_type": "execute_result",
          "data": {
            "text/plain": [
              "   MinTemp  MaxTemp  Rainfall  WindGustSpeed  Humidity9am  Humidity3pm  \\\n",
              "0     13.4     22.9       0.6           44.0         71.0         22.0   \n",
              "1      7.4     25.1       0.0           44.0         44.0         25.0   \n",
              "2     12.9     25.7       0.0           46.0         38.0         30.0   \n",
              "3      9.2     28.0       0.0           24.0         45.0         16.0   \n",
              "4     17.5     32.3       1.0           41.0         82.0         33.0   \n",
              "\n",
              "   Pressure9am  Pressure3pm  RainTomorrow  \n",
              "0       1007.7       1007.1             0  \n",
              "1       1010.6       1007.8             0  \n",
              "2       1007.6       1008.7             0  \n",
              "3       1017.6       1012.8             0  \n",
              "4       1010.8       1006.0             0  "
            ],
            "text/html": [
              "\n",
              "  <div id=\"df-2ece5faa-ed49-4596-b719-66a176110b07\">\n",
              "    <div class=\"colab-df-container\">\n",
              "      <div>\n",
              "<style scoped>\n",
              "    .dataframe tbody tr th:only-of-type {\n",
              "        vertical-align: middle;\n",
              "    }\n",
              "\n",
              "    .dataframe tbody tr th {\n",
              "        vertical-align: top;\n",
              "    }\n",
              "\n",
              "    .dataframe thead th {\n",
              "        text-align: right;\n",
              "    }\n",
              "</style>\n",
              "<table border=\"1\" class=\"dataframe\">\n",
              "  <thead>\n",
              "    <tr style=\"text-align: right;\">\n",
              "      <th></th>\n",
              "      <th>MinTemp</th>\n",
              "      <th>MaxTemp</th>\n",
              "      <th>Rainfall</th>\n",
              "      <th>WindGustSpeed</th>\n",
              "      <th>Humidity9am</th>\n",
              "      <th>Humidity3pm</th>\n",
              "      <th>Pressure9am</th>\n",
              "      <th>Pressure3pm</th>\n",
              "      <th>RainTomorrow</th>\n",
              "    </tr>\n",
              "  </thead>\n",
              "  <tbody>\n",
              "    <tr>\n",
              "      <th>0</th>\n",
              "      <td>13.4</td>\n",
              "      <td>22.9</td>\n",
              "      <td>0.6</td>\n",
              "      <td>44.0</td>\n",
              "      <td>71.0</td>\n",
              "      <td>22.0</td>\n",
              "      <td>1007.7</td>\n",
              "      <td>1007.1</td>\n",
              "      <td>0</td>\n",
              "    </tr>\n",
              "    <tr>\n",
              "      <th>1</th>\n",
              "      <td>7.4</td>\n",
              "      <td>25.1</td>\n",
              "      <td>0.0</td>\n",
              "      <td>44.0</td>\n",
              "      <td>44.0</td>\n",
              "      <td>25.0</td>\n",
              "      <td>1010.6</td>\n",
              "      <td>1007.8</td>\n",
              "      <td>0</td>\n",
              "    </tr>\n",
              "    <tr>\n",
              "      <th>2</th>\n",
              "      <td>12.9</td>\n",
              "      <td>25.7</td>\n",
              "      <td>0.0</td>\n",
              "      <td>46.0</td>\n",
              "      <td>38.0</td>\n",
              "      <td>30.0</td>\n",
              "      <td>1007.6</td>\n",
              "      <td>1008.7</td>\n",
              "      <td>0</td>\n",
              "    </tr>\n",
              "    <tr>\n",
              "      <th>3</th>\n",
              "      <td>9.2</td>\n",
              "      <td>28.0</td>\n",
              "      <td>0.0</td>\n",
              "      <td>24.0</td>\n",
              "      <td>45.0</td>\n",
              "      <td>16.0</td>\n",
              "      <td>1017.6</td>\n",
              "      <td>1012.8</td>\n",
              "      <td>0</td>\n",
              "    </tr>\n",
              "    <tr>\n",
              "      <th>4</th>\n",
              "      <td>17.5</td>\n",
              "      <td>32.3</td>\n",
              "      <td>1.0</td>\n",
              "      <td>41.0</td>\n",
              "      <td>82.0</td>\n",
              "      <td>33.0</td>\n",
              "      <td>1010.8</td>\n",
              "      <td>1006.0</td>\n",
              "      <td>0</td>\n",
              "    </tr>\n",
              "  </tbody>\n",
              "</table>\n",
              "</div>\n",
              "      <button class=\"colab-df-convert\" onclick=\"convertToInteractive('df-2ece5faa-ed49-4596-b719-66a176110b07')\"\n",
              "              title=\"Convert this dataframe to an interactive table.\"\n",
              "              style=\"display:none;\">\n",
              "        \n",
              "  <svg xmlns=\"http://www.w3.org/2000/svg\" height=\"24px\"viewBox=\"0 0 24 24\"\n",
              "       width=\"24px\">\n",
              "    <path d=\"M0 0h24v24H0V0z\" fill=\"none\"/>\n",
              "    <path d=\"M18.56 5.44l.94 2.06.94-2.06 2.06-.94-2.06-.94-.94-2.06-.94 2.06-2.06.94zm-11 1L8.5 8.5l.94-2.06 2.06-.94-2.06-.94L8.5 2.5l-.94 2.06-2.06.94zm10 10l.94 2.06.94-2.06 2.06-.94-2.06-.94-.94-2.06-.94 2.06-2.06.94z\"/><path d=\"M17.41 7.96l-1.37-1.37c-.4-.4-.92-.59-1.43-.59-.52 0-1.04.2-1.43.59L10.3 9.45l-7.72 7.72c-.78.78-.78 2.05 0 2.83L4 21.41c.39.39.9.59 1.41.59.51 0 1.02-.2 1.41-.59l7.78-7.78 2.81-2.81c.8-.78.8-2.07 0-2.86zM5.41 20L4 18.59l7.72-7.72 1.47 1.35L5.41 20z\"/>\n",
              "  </svg>\n",
              "      </button>\n",
              "      \n",
              "  <style>\n",
              "    .colab-df-container {\n",
              "      display:flex;\n",
              "      flex-wrap:wrap;\n",
              "      gap: 12px;\n",
              "    }\n",
              "\n",
              "    .colab-df-convert {\n",
              "      background-color: #E8F0FE;\n",
              "      border: none;\n",
              "      border-radius: 50%;\n",
              "      cursor: pointer;\n",
              "      display: none;\n",
              "      fill: #1967D2;\n",
              "      height: 32px;\n",
              "      padding: 0 0 0 0;\n",
              "      width: 32px;\n",
              "    }\n",
              "\n",
              "    .colab-df-convert:hover {\n",
              "      background-color: #E2EBFA;\n",
              "      box-shadow: 0px 1px 2px rgba(60, 64, 67, 0.3), 0px 1px 3px 1px rgba(60, 64, 67, 0.15);\n",
              "      fill: #174EA6;\n",
              "    }\n",
              "\n",
              "    [theme=dark] .colab-df-convert {\n",
              "      background-color: #3B4455;\n",
              "      fill: #D2E3FC;\n",
              "    }\n",
              "\n",
              "    [theme=dark] .colab-df-convert:hover {\n",
              "      background-color: #434B5C;\n",
              "      box-shadow: 0px 1px 3px 1px rgba(0, 0, 0, 0.15);\n",
              "      filter: drop-shadow(0px 1px 2px rgba(0, 0, 0, 0.3));\n",
              "      fill: #FFFFFF;\n",
              "    }\n",
              "  </style>\n",
              "\n",
              "      <script>\n",
              "        const buttonEl =\n",
              "          document.querySelector('#df-2ece5faa-ed49-4596-b719-66a176110b07 button.colab-df-convert');\n",
              "        buttonEl.style.display =\n",
              "          google.colab.kernel.accessAllowed ? 'block' : 'none';\n",
              "\n",
              "        async function convertToInteractive(key) {\n",
              "          const element = document.querySelector('#df-2ece5faa-ed49-4596-b719-66a176110b07');\n",
              "          const dataTable =\n",
              "            await google.colab.kernel.invokeFunction('convertToInteractive',\n",
              "                                                     [key], {});\n",
              "          if (!dataTable) return;\n",
              "\n",
              "          const docLinkHtml = 'Like what you see? Visit the ' +\n",
              "            '<a target=\"_blank\" href=https://colab.research.google.com/notebooks/data_table.ipynb>data table notebook</a>'\n",
              "            + ' to learn more about interactive tables.';\n",
              "          element.innerHTML = '';\n",
              "          dataTable['output_type'] = 'display_data';\n",
              "          await google.colab.output.renderOutput(dataTable, element);\n",
              "          const docLink = document.createElement('div');\n",
              "          docLink.innerHTML = docLinkHtml;\n",
              "          element.appendChild(docLink);\n",
              "        }\n",
              "      </script>\n",
              "    </div>\n",
              "  </div>\n",
              "  "
            ]
          },
          "metadata": {},
          "execution_count": 31
        }
      ]
    },
    {
      "cell_type": "code",
      "execution_count": null,
      "metadata": {
        "colab": {
          "base_uri": "https://localhost:8080/",
          "height": 331
        },
        "id": "2aXkHL2G9Nij",
        "outputId": "cf7d3bf8-fa96-487b-e6a8-e8eaa7c504ed"
      },
      "outputs": [
        {
          "output_type": "execute_result",
          "data": {
            "text/plain": [
              "                MinTemp   MaxTemp  Rainfall  WindGustSpeed  Humidity9am  \\\n",
              "MinTemp        1.000000  0.730855  0.111308       0.196356    -0.246102   \n",
              "MaxTemp        0.730855  1.000000 -0.069747       0.089228    -0.523961   \n",
              "Rainfall       0.111308 -0.069747  1.000000       0.132212     0.225419   \n",
              "WindGustSpeed  0.196356  0.089228  0.132212       1.000000    -0.219944   \n",
              "Humidity9am   -0.246102 -0.523961  0.225419      -0.219944     1.000000   \n",
              "Humidity3pm    0.022174 -0.498623  0.256583      -0.035684     0.675076   \n",
              "Pressure9am   -0.452415 -0.329705 -0.170200      -0.458399     0.141881   \n",
              "Pressure3pm   -0.463049 -0.423383 -0.130010      -0.414344     0.189343   \n",
              "RainTomorrow   0.088265 -0.160101  0.237933       0.235978     0.261301   \n",
              "\n",
              "               Humidity3pm  Pressure9am  Pressure3pm  RainTomorrow  \n",
              "MinTemp           0.022174    -0.452415    -0.463049      0.088265  \n",
              "MaxTemp          -0.498623    -0.329705    -0.423383     -0.160101  \n",
              "Rainfall          0.256583    -0.170200    -0.130010      0.237933  \n",
              "WindGustSpeed    -0.035684    -0.458399    -0.414344      0.235978  \n",
              "Humidity9am       0.675076     0.141881     0.189343      0.261301  \n",
              "Humidity3pm       1.000000    -0.027535     0.051349      0.452725  \n",
              "Pressure9am      -0.027535     1.000000     0.961660     -0.246628  \n",
              "Pressure3pm       0.051349     0.961660     1.000000     -0.228353  \n",
              "RainTomorrow      0.452725    -0.246628    -0.228353      1.000000  "
            ],
            "text/html": [
              "\n",
              "  <div id=\"df-a57cb273-f8db-4a36-9469-394dd6f516b8\">\n",
              "    <div class=\"colab-df-container\">\n",
              "      <div>\n",
              "<style scoped>\n",
              "    .dataframe tbody tr th:only-of-type {\n",
              "        vertical-align: middle;\n",
              "    }\n",
              "\n",
              "    .dataframe tbody tr th {\n",
              "        vertical-align: top;\n",
              "    }\n",
              "\n",
              "    .dataframe thead th {\n",
              "        text-align: right;\n",
              "    }\n",
              "</style>\n",
              "<table border=\"1\" class=\"dataframe\">\n",
              "  <thead>\n",
              "    <tr style=\"text-align: right;\">\n",
              "      <th></th>\n",
              "      <th>MinTemp</th>\n",
              "      <th>MaxTemp</th>\n",
              "      <th>Rainfall</th>\n",
              "      <th>WindGustSpeed</th>\n",
              "      <th>Humidity9am</th>\n",
              "      <th>Humidity3pm</th>\n",
              "      <th>Pressure9am</th>\n",
              "      <th>Pressure3pm</th>\n",
              "      <th>RainTomorrow</th>\n",
              "    </tr>\n",
              "  </thead>\n",
              "  <tbody>\n",
              "    <tr>\n",
              "      <th>MinTemp</th>\n",
              "      <td>1.000000</td>\n",
              "      <td>0.730855</td>\n",
              "      <td>0.111308</td>\n",
              "      <td>0.196356</td>\n",
              "      <td>-0.246102</td>\n",
              "      <td>0.022174</td>\n",
              "      <td>-0.452415</td>\n",
              "      <td>-0.463049</td>\n",
              "      <td>0.088265</td>\n",
              "    </tr>\n",
              "    <tr>\n",
              "      <th>MaxTemp</th>\n",
              "      <td>0.730855</td>\n",
              "      <td>1.000000</td>\n",
              "      <td>-0.069747</td>\n",
              "      <td>0.089228</td>\n",
              "      <td>-0.523961</td>\n",
              "      <td>-0.498623</td>\n",
              "      <td>-0.329705</td>\n",
              "      <td>-0.423383</td>\n",
              "      <td>-0.160101</td>\n",
              "    </tr>\n",
              "    <tr>\n",
              "      <th>Rainfall</th>\n",
              "      <td>0.111308</td>\n",
              "      <td>-0.069747</td>\n",
              "      <td>1.000000</td>\n",
              "      <td>0.132212</td>\n",
              "      <td>0.225419</td>\n",
              "      <td>0.256583</td>\n",
              "      <td>-0.170200</td>\n",
              "      <td>-0.130010</td>\n",
              "      <td>0.237933</td>\n",
              "    </tr>\n",
              "    <tr>\n",
              "      <th>WindGustSpeed</th>\n",
              "      <td>0.196356</td>\n",
              "      <td>0.089228</td>\n",
              "      <td>0.132212</td>\n",
              "      <td>1.000000</td>\n",
              "      <td>-0.219944</td>\n",
              "      <td>-0.035684</td>\n",
              "      <td>-0.458399</td>\n",
              "      <td>-0.414344</td>\n",
              "      <td>0.235978</td>\n",
              "    </tr>\n",
              "    <tr>\n",
              "      <th>Humidity9am</th>\n",
              "      <td>-0.246102</td>\n",
              "      <td>-0.523961</td>\n",
              "      <td>0.225419</td>\n",
              "      <td>-0.219944</td>\n",
              "      <td>1.000000</td>\n",
              "      <td>0.675076</td>\n",
              "      <td>0.141881</td>\n",
              "      <td>0.189343</td>\n",
              "      <td>0.261301</td>\n",
              "    </tr>\n",
              "    <tr>\n",
              "      <th>Humidity3pm</th>\n",
              "      <td>0.022174</td>\n",
              "      <td>-0.498623</td>\n",
              "      <td>0.256583</td>\n",
              "      <td>-0.035684</td>\n",
              "      <td>0.675076</td>\n",
              "      <td>1.000000</td>\n",
              "      <td>-0.027535</td>\n",
              "      <td>0.051349</td>\n",
              "      <td>0.452725</td>\n",
              "    </tr>\n",
              "    <tr>\n",
              "      <th>Pressure9am</th>\n",
              "      <td>-0.452415</td>\n",
              "      <td>-0.329705</td>\n",
              "      <td>-0.170200</td>\n",
              "      <td>-0.458399</td>\n",
              "      <td>0.141881</td>\n",
              "      <td>-0.027535</td>\n",
              "      <td>1.000000</td>\n",
              "      <td>0.961660</td>\n",
              "      <td>-0.246628</td>\n",
              "    </tr>\n",
              "    <tr>\n",
              "      <th>Pressure3pm</th>\n",
              "      <td>-0.463049</td>\n",
              "      <td>-0.423383</td>\n",
              "      <td>-0.130010</td>\n",
              "      <td>-0.414344</td>\n",
              "      <td>0.189343</td>\n",
              "      <td>0.051349</td>\n",
              "      <td>0.961660</td>\n",
              "      <td>1.000000</td>\n",
              "      <td>-0.228353</td>\n",
              "    </tr>\n",
              "    <tr>\n",
              "      <th>RainTomorrow</th>\n",
              "      <td>0.088265</td>\n",
              "      <td>-0.160101</td>\n",
              "      <td>0.237933</td>\n",
              "      <td>0.235978</td>\n",
              "      <td>0.261301</td>\n",
              "      <td>0.452725</td>\n",
              "      <td>-0.246628</td>\n",
              "      <td>-0.228353</td>\n",
              "      <td>1.000000</td>\n",
              "    </tr>\n",
              "  </tbody>\n",
              "</table>\n",
              "</div>\n",
              "      <button class=\"colab-df-convert\" onclick=\"convertToInteractive('df-a57cb273-f8db-4a36-9469-394dd6f516b8')\"\n",
              "              title=\"Convert this dataframe to an interactive table.\"\n",
              "              style=\"display:none;\">\n",
              "        \n",
              "  <svg xmlns=\"http://www.w3.org/2000/svg\" height=\"24px\"viewBox=\"0 0 24 24\"\n",
              "       width=\"24px\">\n",
              "    <path d=\"M0 0h24v24H0V0z\" fill=\"none\"/>\n",
              "    <path d=\"M18.56 5.44l.94 2.06.94-2.06 2.06-.94-2.06-.94-.94-2.06-.94 2.06-2.06.94zm-11 1L8.5 8.5l.94-2.06 2.06-.94-2.06-.94L8.5 2.5l-.94 2.06-2.06.94zm10 10l.94 2.06.94-2.06 2.06-.94-2.06-.94-.94-2.06-.94 2.06-2.06.94z\"/><path d=\"M17.41 7.96l-1.37-1.37c-.4-.4-.92-.59-1.43-.59-.52 0-1.04.2-1.43.59L10.3 9.45l-7.72 7.72c-.78.78-.78 2.05 0 2.83L4 21.41c.39.39.9.59 1.41.59.51 0 1.02-.2 1.41-.59l7.78-7.78 2.81-2.81c.8-.78.8-2.07 0-2.86zM5.41 20L4 18.59l7.72-7.72 1.47 1.35L5.41 20z\"/>\n",
              "  </svg>\n",
              "      </button>\n",
              "      \n",
              "  <style>\n",
              "    .colab-df-container {\n",
              "      display:flex;\n",
              "      flex-wrap:wrap;\n",
              "      gap: 12px;\n",
              "    }\n",
              "\n",
              "    .colab-df-convert {\n",
              "      background-color: #E8F0FE;\n",
              "      border: none;\n",
              "      border-radius: 50%;\n",
              "      cursor: pointer;\n",
              "      display: none;\n",
              "      fill: #1967D2;\n",
              "      height: 32px;\n",
              "      padding: 0 0 0 0;\n",
              "      width: 32px;\n",
              "    }\n",
              "\n",
              "    .colab-df-convert:hover {\n",
              "      background-color: #E2EBFA;\n",
              "      box-shadow: 0px 1px 2px rgba(60, 64, 67, 0.3), 0px 1px 3px 1px rgba(60, 64, 67, 0.15);\n",
              "      fill: #174EA6;\n",
              "    }\n",
              "\n",
              "    [theme=dark] .colab-df-convert {\n",
              "      background-color: #3B4455;\n",
              "      fill: #D2E3FC;\n",
              "    }\n",
              "\n",
              "    [theme=dark] .colab-df-convert:hover {\n",
              "      background-color: #434B5C;\n",
              "      box-shadow: 0px 1px 3px 1px rgba(0, 0, 0, 0.15);\n",
              "      filter: drop-shadow(0px 1px 2px rgba(0, 0, 0, 0.3));\n",
              "      fill: #FFFFFF;\n",
              "    }\n",
              "  </style>\n",
              "\n",
              "      <script>\n",
              "        const buttonEl =\n",
              "          document.querySelector('#df-a57cb273-f8db-4a36-9469-394dd6f516b8 button.colab-df-convert');\n",
              "        buttonEl.style.display =\n",
              "          google.colab.kernel.accessAllowed ? 'block' : 'none';\n",
              "\n",
              "        async function convertToInteractive(key) {\n",
              "          const element = document.querySelector('#df-a57cb273-f8db-4a36-9469-394dd6f516b8');\n",
              "          const dataTable =\n",
              "            await google.colab.kernel.invokeFunction('convertToInteractive',\n",
              "                                                     [key], {});\n",
              "          if (!dataTable) return;\n",
              "\n",
              "          const docLinkHtml = 'Like what you see? Visit the ' +\n",
              "            '<a target=\"_blank\" href=https://colab.research.google.com/notebooks/data_table.ipynb>data table notebook</a>'\n",
              "            + ' to learn more about interactive tables.';\n",
              "          element.innerHTML = '';\n",
              "          dataTable['output_type'] = 'display_data';\n",
              "          await google.colab.output.renderOutput(dataTable, element);\n",
              "          const docLink = document.createElement('div');\n",
              "          docLink.innerHTML = docLinkHtml;\n",
              "          element.appendChild(docLink);\n",
              "        }\n",
              "      </script>\n",
              "    </div>\n",
              "  </div>\n",
              "  "
            ]
          },
          "metadata": {},
          "execution_count": 32
        }
      ],
      "source": [
        "df.corr()"
      ]
    },
    {
      "cell_type": "markdown",
      "metadata": {
        "id": "NNPK6XmhBiBj"
      },
      "source": [
        "Jika ingin diketahui visualisasi dari korelasi antar kolom, maka dapat digunakan plot jenis heatmap yang didapatkan menggunakan fungsi `sns.heatmap()`."
      ]
    },
    {
      "cell_type": "code",
      "execution_count": null,
      "metadata": {
        "colab": {
          "base_uri": "https://localhost:8080/",
          "height": 549
        },
        "id": "3OAXKgwI_wvM",
        "outputId": "f1505445-bdef-49cb-e4c6-aa3824eed590"
      },
      "outputs": [
        {
          "output_type": "execute_result",
          "data": {
            "text/plain": [
              "<Axes: >"
            ]
          },
          "metadata": {},
          "execution_count": 33
        },
        {
          "output_type": "display_data",
          "data": {
            "text/plain": [
              "<Figure size 640x480 with 2 Axes>"
            ],
            "image/png": "[encoded data removed]"
          },
          "metadata": {}
        }
      ],
      "source": [
        "sns.heatmap(df.corr(),annot=True)"
      ]
    },
    {
      "cell_type": "markdown",
      "source": [
        "Berdasarkan plot, dapat diketahui bahwa korelasi paling tinggi kolom data target dengan kolom data label bernilai 0.45 yaitu kolom `RainTomorrow` dengan kolom `Humidity3am`."
      ],
      "metadata": {
        "id": "Fb--eTuWHGc7"
      }
    },
    {
      "cell_type": "markdown",
      "metadata": {
        "id": "1iI2NTRZFvA-"
      },
      "source": [
        "# Pre-Processing Data"
      ]
    },
    {
      "cell_type": "markdown",
      "metadata": {
        "id": "FCCfeTx1BR8-"
      },
      "source": [
        "## Splitting Data"
      ]
    },
    {
      "cell_type": "markdown",
      "metadata": {
        "id": "clApYfTPCI1p"
      },
      "source": [
        "Splitting data dilakukan untuk membagi data menjadi 2 set/bagian yaitu training set dan test set. Pembagian data training dan data testing dilakukan secara acak. Data training digunakan untuk melatih model, sedangkan data testing digunakan untuk mengevaluasi model. Sebelum dilakukan proses splitting data, masing-masing data feature dan data label perlu didefinisikan terlebih dahulu.\n",
        "\n",
        "* X : data feature\n",
        "* y : data label"
      ]
    },
    {
      "cell_type": "code",
      "execution_count": null,
      "metadata": {
        "id": "ZCgA1FKVEjR5"
      },
      "outputs": [],
      "source": [
        "X = df.drop(columns='RainTomorrow',axis=1)\n",
        "y = df['RainTomorrow']"
      ]
    },
    {
      "cell_type": "markdown",
      "metadata": {
        "id": "YugAFk2tCYJO"
      },
      "source": []
    },
    {
      "cell_type": "code",
      "execution_count": null,
      "metadata": {
        "id": "umxTpHcQEjOl"
      },
      "outputs": [],
      "source": [
        "scaler = StandardScaler()\n",
        "X = scaler.fit_transform(X)"
      ]
    },
    {
      "cell_type": "markdown",
      "metadata": {
        "id": "mUSehGaNCQjR"
      },
      "source": [
        "Proses splitting data dapat menggunakan fungsi `train_test_split()` dengan parameter:\n",
        "\n",
        "- X : data feature\n",
        "- y : data label\n",
        "- test_size : ukuran test data yaitu 30%\n",
        "- random_state : digunakan agar saat proses running ulang data tidak berubah-ubah"
      ]
    },
    {
      "cell_type": "code",
      "execution_count": null,
      "metadata": {
        "id": "pvQhS3iiEjLl"
      },
      "outputs": [],
      "source": [
        "# train 70%, test 30%\n",
        "\n",
        "X_train, X_test, y_train, y_test = train_test_split(X, y, test_size=0.3, random_state=0)"
      ]
    },
    {
      "cell_type": "code",
      "execution_count": null,
      "metadata": {
        "colab": {
          "base_uri": "https://localhost:8080/"
        },
        "id": "uRDiRxTKEjIM",
        "outputId": "4847b742-6e01-4918-8e67-937f40a878c0"
      },
      "outputs": [
        {
          "output_type": "stream",
          "name": "stdout",
          "text": [
            "Training dataset\t: 83791\n",
            "Testing dataset\t\t: 35911\n",
            "Training\t\t: 70.00% ada pada dataset\n",
            "Test\t\t\t: 30.00% ada pada dataset\n"
          ]
        }
      ],
      "source": [
        "print('Training dataset\\t:', len(X_train))\n",
        "print('Testing dataset\\t\\t:', len(X_test))\n",
        "print('Training\\t\\t: {0:0.02f}% ada pada dataset'.format((len(X_train)/len(df)) * 100))\n",
        "print('Test\\t\\t\\t: {0:0.02f}% ada pada dataset'.format((len(X_test)/len(df)) * 100))"
      ]
    },
    {
      "cell_type": "markdown",
      "metadata": {
        "id": "QFub9-LoA39j"
      },
      "source": [
        "# Pendefinisian Model"
      ]
    },
    {
      "cell_type": "markdown",
      "metadata": {
        "id": "DuiDCgVcBXYg"
      },
      "source": [
        "## Logistic Regression"
      ]
    },
    {
      "cell_type": "markdown",
      "metadata": {
        "id": "pXmwK-fAF8GE"
      },
      "source": [
        "\n",
        "Logistic Regression atau regresi logistik adalah suatu pendekatan yang digunakan untuk membuat model prediksi. Regresi logistik mirip dengan regresi linear, akan tetapi terdapat perbedaan pada keduanya yaitu pada variabel dependennya yang besifat dikotomus (dua kriteria: ya dan tidak). Perbedaan lainnya adalah pada regresi logistik tidak dibutuhkan asumsi khusus seperti regresi linear."
      ]
    },
    {
      "cell_type": "code",
      "execution_count": null,
      "metadata": {
        "id": "GsoKjI3NA5Xl"
      },
      "outputs": [],
      "source": [
        "log_reg = LogisticRegression(multi_class='ovr',random_state=0)"
      ]
    },
    {
      "cell_type": "markdown",
      "metadata": {
        "id": "gloR9M8y4k4e"
      },
      "source": [
        "pendifinisian model Logistic Regression dengan memberikan nilai hyperparameter default pada beberapa parameter, yang nantinya akan dilakukan hyperparameter tuning pada pelatihan model\n",
        "\n",
        "* `multi_class='ovr'` : digunakan ketika regresi yang digunakan adalah regresi logistik biner\n",
        "* `random state=0` : digunakan untuk mengacak data dan agar saat proses running ulang data tidak berubah-ubah\n"
      ]
    },
    {
      "cell_type": "markdown",
      "metadata": {
        "id": "EUqblbZqCbxU"
      },
      "source": [
        "## K-Nearest Neighbors (KNN)"
      ]
    },
    {
      "cell_type": "markdown",
      "metadata": {
        "id": "funFavUmkkl6"
      },
      "source": [
        "K-Nearest Neighbors (K-NN) adalah sebuah algoritma Machine Learning yang digunakan untuk melakukan klasifikasi atau regresi pada data dengan cara mencari K-tetangga terdekat dari suatu data yang baru, kemudian memberikan prediksi berdasarkan mayoritas kelas dari tetangga terdekat tersebut.\n",
        "\n",
        "1. K-NN adalah algoritma Machine Learning yang mudah diimplementasikan dan dipahami.\n",
        "\n",
        "2. K-NN dapat digunakan untuk masalah klasifikasi dan regresi.\n",
        "\n",
        "3. K-NN tidak memerlukan asumsi tertentu tentang distribusi data.\n",
        "\n",
        "4. K-NN memiliki kemampuan untuk menangani data yang tidak linier atau tidak terstruktur.\n",
        "\n",
        "5. K-NN dapat menghasilkan hasil prediksi yang mudah diinterpretasikan.\n",
        "\n",
        "6. K-NN dapat secara efektif menangani data yang berdimensi tinggi (high-dimensional data) karena algoritma ini hanya memerlukan perhitungan jarak antara titik data.\n",
        "\n",
        "Namun, K-NN juga memiliki beberapa kelemahan, seperti sensitif terhadap data outlier dan sensitif terhadap jumlah dan dimensi data. Oleh karena itu, sebelum menggunakan K-NN, penting untuk memahami kondisi data dan menyesuaikan parameter K sesuai dengan kondisi tersebut."
      ]
    },
    {
      "cell_type": "code",
      "execution_count": null,
      "metadata": {
        "id": "TiknO4PSCf50"
      },
      "outputs": [],
      "source": [
        "knn = KNeighborsClassifier()"
      ]
    },
    {
      "cell_type": "markdown",
      "metadata": {
        "id": "JzvXn00WkjGm"
      },
      "source": [
        "pendifinisian model K-Nearest Neighbors dengan memberikan nilai hyperparameter default, yang nantinya akan dilakukan hyperparameter tuning pada pelatihan model"
      ]
    },
    {
      "cell_type": "markdown",
      "metadata": {
        "id": "HMhSq46BBaxo"
      },
      "source": [
        "## Support Vector Machine (SVM)"
      ]
    },
    {
      "cell_type": "markdown",
      "metadata": {
        "id": "HzHr3BxzEBpd"
      },
      "source": [
        "Support Vector Machine adalah salah satu algoritma Machine Learning yang digunakan untuk mencari hyperplane terbaik dalam ruang N-dimensi yang secara jelas mengklasifikasikan titik data. Hyperplane adalah sebuah fungsi yang digunakan sebagai pemisah antar kelas yang satu dengan yang lain. Pada SVM, kernel adalah metode untuk memetakan data non-linear berdimensi rendah dan mengubahnya ke dalam ruang dimensi yang lebih tinggi. Tujuannya untuk memudahkan pengklasifikasian data dengan menemukan hyperplane yang dapat memisahkan dataset secara linear dengan baik."
      ]
    },
    {
      "cell_type": "code",
      "execution_count": null,
      "metadata": {
        "id": "RYOCUi0lBsMj"
      },
      "outputs": [],
      "source": [
        "# membangun model SVM\n",
        "svc = SVC(kernel='linear', C=100.0)"
      ]
    },
    {
      "cell_type": "markdown",
      "metadata": {
        "id": "cA3xIKBqEGFJ"
      },
      "source": [
        "* `kernel='linear'` digunakan untuk menspesifikasikan tipe kernal yang ingin \n",
        "digunakan saat membangun model menggunakan algoritma SVM.\n",
        "* `C=100.0` parameter ini digunakan ketika data yang dipakai memiliki outlier. Semakin besar nilai C maka akan semakin rendah outliers pada data yang akan digunakan."
      ]
    },
    {
      "cell_type": "markdown",
      "metadata": {
        "id": "JwAbT9sBCq3h"
      },
      "source": [
        "## Decision Tree"
      ]
    },
    {
      "cell_type": "markdown",
      "metadata": {
        "id": "5eEVH0nKmD2o"
      },
      "source": [
        "Decision Tree atau Pohon Keputusan adalah algoritma pembelajaran mesin yang populer dan dapat digunakan untuk masalah klasifikasi maupun regresi. Konsep dasar dari decision tree adalah membagi dataset menjadi beberapa bagian dengan cara menguji nilai-nilai atribut pada setiap simpul di dalam pohon, dan kemudian menentukan cabang mana yang harus diambil berdasarkan hasil pengujian tersebut. Proses pembentukan pohon terus berlanjut hingga mencapai kondisi di mana setiap simpul menghasilkan prediksi yang sama atau mencapai batasan maksimum kedalaman atau ukuran simpul.\n",
        "\n",
        "Kelebihan dari decision tree antara lain mudah dipahami dan diinterpretasikan, mampu menangani data yang tidak seimbang, dan dapat bekerja dengan baik pada data dengan banyak atribut. Namun, kekurangan dari decision tree adalah cenderung mengalami overfitting pada data training dan sensitif terhadap perubahan data."
      ]
    },
    {
      "cell_type": "code",
      "execution_count": null,
      "metadata": {
        "id": "85ZeMxvyCtqA"
      },
      "outputs": [],
      "source": [
        "dtc = DecisionTreeClassifier()"
      ]
    },
    {
      "cell_type": "markdown",
      "metadata": {
        "id": "qj0EQ-TsmEUl"
      },
      "source": [
        "pendifinisian model Decision Tree Classifier dengan memberikan nilai hyperparameter default, yang nantinya akan dilakukan hyperparameter tuning pada pelatihan model"
      ]
    },
    {
      "cell_type": "markdown",
      "metadata": {
        "id": "Ubd5yI2KCyZH"
      },
      "source": [
        "## Random Forest"
      ]
    },
    {
      "cell_type": "markdown",
      "metadata": {
        "id": "zIPpeuzppM5r"
      },
      "source": [
        "Random Forest Classifier merupakan pengembangan dari Decision Tree, di mana model ini membangun banyak pohon keputusan (decision tree) secara acak (random) dan menggabungkan hasil prediksi dari setiap pohon untuk menghasilkan hasil akhir yang lebih akurat dan stabil. Setiap pohon dihasilkan dari subset acak dari data pelatihan dan subset acak dari fitur-fitur yang digunakan untuk membangun setiap pohon. Dalam proses pembuatan prediksi, setiap pohon memberikan suara atau voting terhadap label kelas yang dihasilkan, dan label dengan jumlah suara terbanyak menjadi hasil prediksi akhir.\n",
        "\n",
        "Keuntungan dari Random Forest Classifier adalah memiliki performa yang baik pada dataset yang besar dan cenderung menghindari overfitting."
      ]
    },
    {
      "cell_type": "code",
      "execution_count": null,
      "metadata": {
        "id": "Jcq2BPMuC0jq"
      },
      "outputs": [],
      "source": [
        "rfc = RandomForestClassifier()"
      ]
    },
    {
      "cell_type": "markdown",
      "metadata": {
        "id": "ZPpN4kUsqDm-"
      },
      "source": [
        "pendifinisian model Random Forest Classifier dengan memberikan nilai hyperparameter default, yang nantinya akan dilakukan hyperparameter tuning pada pelatihan model"
      ]
    },
    {
      "cell_type": "markdown",
      "metadata": {
        "id": "pvl9XBv8C9LW"
      },
      "source": [
        "## Naive Bayes"
      ]
    },
    {
      "cell_type": "markdown",
      "metadata": {
        "id": "EUGR8fU3qq44"
      },
      "source": [
        "Naive Bayes adalah sebuah algoritma klasifikasi probabilistik yang didasarkan pada teorema Bayes. Algoritma ini sering digunakan dalam machine learning untuk mengklasifikasikan data yang memiliki banyak fitur atau variabel.\n",
        "\n",
        "\"Naive\" dalam Naive Bayes merujuk pada asumsi bahwa setiap fitur atau variabel pada data adalah independen satu sama lain, sehingga kemungkinan munculnya suatu kombinasi fitur dapat dihitung dengan mengalikan kemungkinan munculnya setiap fitur secara individu. Meskipun asumsi ini terkadang tidak sepenuhnya benar dalam dunia nyata, algoritma Naive Bayes tetap menjadi pilihan yang populer dan efektif dalam banyak kasus."
      ]
    },
    {
      "cell_type": "code",
      "execution_count": null,
      "metadata": {
        "id": "iIVC2ivVDAFi"
      },
      "outputs": [],
      "source": [
        "nb = GaussianNB()"
      ]
    },
    {
      "cell_type": "markdown",
      "metadata": {
        "id": "x95vipvlqrls"
      },
      "source": [
        "pendifinisian model Naive Bayes (Gaussian NB) dengan memberikan nilai hyperparameter default, yang nantinya akan dilakukan hyperparameter tuning pada pelatihan model"
      ]
    },
    {
      "cell_type": "markdown",
      "metadata": {
        "id": "eQemf-3GA57v"
      },
      "source": [
        "# Pelatihan Model"
      ]
    },
    {
      "cell_type": "markdown",
      "metadata": {
        "id": "eONkFkLLBfx4"
      },
      "source": [
        "## Logistic Regression"
      ]
    },
    {
      "cell_type": "code",
      "source": [
        "# param_grid = {\n",
        "#     'C':np.logspace(-4,4,20),\n",
        "#     'penalty':['l1','l2'],\n",
        "#     'solver':['liblinear','saga'],\n",
        "#     'max_iter':[100,500,1000]\n",
        "# }\n",
        "\n",
        "# grid_search = GridSearchCV(log_reg, param_grid, cv=5)\n",
        "# grid_search.fit(X_train, y_train)\n",
        "# print(grid_search.best_params_)"
      ],
      "metadata": {
        "id": "q4nK51l41WtH"
      },
      "execution_count": null,
      "outputs": []
    },
    {
      "cell_type": "markdown",
      "source": [
        "Dilakukan hyperparameter tuning untuk Logistic Regression didapatkan parameter terbaik adalah {'C': 1.623776739188721, 'max_iter': 100, 'penalty': 'l2', 'solver': 'saga'}"
      ],
      "metadata": {
        "id": "tYxVNOSD5ZmS"
      }
    },
    {
      "cell_type": "code",
      "source": [
        "log_reg = LogisticRegression(C=1.624,max_iter= 100, penalty= 'l2', solver= 'saga')"
      ],
      "metadata": {
        "id": "MaCLQDxa48SM"
      },
      "execution_count": null,
      "outputs": []
    },
    {
      "cell_type": "markdown",
      "source": [
        "Dilakukan pendefinisian ulang model Logistic Regression dengan memasukkan parameter terbaik yang didapatkan dari tuning"
      ],
      "metadata": {
        "id": "6efRHWFm50cA"
      }
    },
    {
      "cell_type": "code",
      "execution_count": null,
      "metadata": {
        "id": "1RLpKl0-A8SX"
      },
      "outputs": [],
      "source": [
        "model_lr = log_reg.fit(X_train,y_train)\n",
        "y_pred_lr_train=model_lr.predict(X_train)\n",
        "y_pred_lr_test=model_lr.predict(X_test)"
      ]
    },
    {
      "cell_type": "markdown",
      "source": [
        "Melatih model Logistic Regression dengan variabel independen X_train dan target atau variabel dependen y_train, kemudian dilakukan prediksi target dari variabel X_train dan X_test"
      ],
      "metadata": {
        "id": "O6ohixG9bJLa"
      }
    },
    {
      "cell_type": "code",
      "execution_count": null,
      "metadata": {
        "colab": {
          "base_uri": "https://localhost:8080/",
          "height": 423
        },
        "id": "5GIvKmP_Gzox",
        "outputId": "6ad61f76-e399-4c75-e5bf-4b3583401141"
      },
      "outputs": [
        {
          "output_type": "execute_result",
          "data": {
            "text/plain": [
              "        RainTomorrow  Predict_Train\n",
              "122980             0              0\n",
              "133385             1              1\n",
              "2182               0              0\n",
              "91402              0              1\n",
              "94239              0              0\n",
              "...              ...            ...\n",
              "59510              1              0\n",
              "142895             0              0\n",
              "56138              1              1\n",
              "57110              0              0\n",
              "83489              0              0\n",
              "\n",
              "[83791 rows x 2 columns]"
            ],
            "text/html": [
              "\n",
              "  <div id=\"df-835a15dc-9791-457e-b6e9-a45ec79369d2\">\n",
              "    <div class=\"colab-df-container\">\n",
              "      <div>\n",
              "<style scoped>\n",
              "    .dataframe tbody tr th:only-of-type {\n",
              "        vertical-align: middle;\n",
              "    }\n",
              "\n",
              "    .dataframe tbody tr th {\n",
              "        vertical-align: top;\n",
              "    }\n",
              "\n",
              "    .dataframe thead th {\n",
              "        text-align: right;\n",
              "    }\n",
              "</style>\n",
              "<table border=\"1\" class=\"dataframe\">\n",
              "  <thead>\n",
              "    <tr style=\"text-align: right;\">\n",
              "      <th></th>\n",
              "      <th>RainTomorrow</th>\n",
              "      <th>Predict_Train</th>\n",
              "    </tr>\n",
              "  </thead>\n",
              "  <tbody>\n",
              "    <tr>\n",
              "      <th>122980</th>\n",
              "      <td>0</td>\n",
              "      <td>0</td>\n",
              "    </tr>\n",
              "    <tr>\n",
              "      <th>133385</th>\n",
              "      <td>1</td>\n",
              "      <td>1</td>\n",
              "    </tr>\n",
              "    <tr>\n",
              "      <th>2182</th>\n",
              "      <td>0</td>\n",
              "      <td>0</td>\n",
              "    </tr>\n",
              "    <tr>\n",
              "      <th>91402</th>\n",
              "      <td>0</td>\n",
              "      <td>1</td>\n",
              "    </tr>\n",
              "    <tr>\n",
              "      <th>94239</th>\n",
              "      <td>0</td>\n",
              "      <td>0</td>\n",
              "    </tr>\n",
              "    <tr>\n",
              "      <th>...</th>\n",
              "      <td>...</td>\n",
              "      <td>...</td>\n",
              "    </tr>\n",
              "    <tr>\n",
              "      <th>59510</th>\n",
              "      <td>1</td>\n",
              "      <td>0</td>\n",
              "    </tr>\n",
              "    <tr>\n",
              "      <th>142895</th>\n",
              "      <td>0</td>\n",
              "      <td>0</td>\n",
              "    </tr>\n",
              "    <tr>\n",
              "      <th>56138</th>\n",
              "      <td>1</td>\n",
              "      <td>1</td>\n",
              "    </tr>\n",
              "    <tr>\n",
              "      <th>57110</th>\n",
              "      <td>0</td>\n",
              "      <td>0</td>\n",
              "    </tr>\n",
              "    <tr>\n",
              "      <th>83489</th>\n",
              "      <td>0</td>\n",
              "      <td>0</td>\n",
              "    </tr>\n",
              "  </tbody>\n",
              "</table>\n",
              "<p>83791 rows × 2 columns</p>\n",
              "</div>\n",
              "      <button class=\"colab-df-convert\" onclick=\"convertToInteractive('df-835a15dc-9791-457e-b6e9-a45ec79369d2')\"\n",
              "              title=\"Convert this dataframe to an interactive table.\"\n",
              "              style=\"display:none;\">\n",
              "        \n",
              "  <svg xmlns=\"http://www.w3.org/2000/svg\" height=\"24px\"viewBox=\"0 0 24 24\"\n",
              "       width=\"24px\">\n",
              "    <path d=\"M0 0h24v24H0V0z\" fill=\"none\"/>\n",
              "    <path d=\"M18.56 5.44l.94 2.06.94-2.06 2.06-.94-2.06-.94-.94-2.06-.94 2.06-2.06.94zm-11 1L8.5 8.5l.94-2.06 2.06-.94-2.06-.94L8.5 2.5l-.94 2.06-2.06.94zm10 10l.94 2.06.94-2.06 2.06-.94-2.06-.94-.94-2.06-.94 2.06-2.06.94z\"/><path d=\"M17.41 7.96l-1.37-1.37c-.4-.4-.92-.59-1.43-.59-.52 0-1.04.2-1.43.59L10.3 9.45l-7.72 7.72c-.78.78-.78 2.05 0 2.83L4 21.41c.39.39.9.59 1.41.59.51 0 1.02-.2 1.41-.59l7.78-7.78 2.81-2.81c.8-.78.8-2.07 0-2.86zM5.41 20L4 18.59l7.72-7.72 1.47 1.35L5.41 20z\"/>\n",
              "  </svg>\n",
              "      </button>\n",
              "      \n",
              "  <style>\n",
              "    .colab-df-container {\n",
              "      display:flex;\n",
              "      flex-wrap:wrap;\n",
              "      gap: 12px;\n",
              "    }\n",
              "\n",
              "    .colab-df-convert {\n",
              "      background-color: #E8F0FE;\n",
              "      border: none;\n",
              "      border-radius: 50%;\n",
              "      cursor: pointer;\n",
              "      display: none;\n",
              "      fill: #1967D2;\n",
              "      height: 32px;\n",
              "      padding: 0 0 0 0;\n",
              "      width: 32px;\n",
              "    }\n",
              "\n",
              "    .colab-df-convert:hover {\n",
              "      background-color: #E2EBFA;\n",
              "      box-shadow: 0px 1px 2px rgba(60, 64, 67, 0.3), 0px 1px 3px 1px rgba(60, 64, 67, 0.15);\n",
              "      fill: #174EA6;\n",
              "    }\n",
              "\n",
              "    [theme=dark] .colab-df-convert {\n",
              "      background-color: #3B4455;\n",
              "      fill: #D2E3FC;\n",
              "    }\n",
              "\n",
              "    [theme=dark] .colab-df-convert:hover {\n",
              "      background-color: #434B5C;\n",
              "      box-shadow: 0px 1px 3px 1px rgba(0, 0, 0, 0.15);\n",
              "      filter: drop-shadow(0px 1px 2px rgba(0, 0, 0, 0.3));\n",
              "      fill: #FFFFFF;\n",
              "    }\n",
              "  </style>\n",
              "\n",
              "      <script>\n",
              "        const buttonEl =\n",
              "          document.querySelector('#df-835a15dc-9791-457e-b6e9-a45ec79369d2 button.colab-df-convert');\n",
              "        buttonEl.style.display =\n",
              "          google.colab.kernel.accessAllowed ? 'block' : 'none';\n",
              "\n",
              "        async function convertToInteractive(key) {\n",
              "          const element = document.querySelector('#df-835a15dc-9791-457e-b6e9-a45ec79369d2');\n",
              "          const dataTable =\n",
              "            await google.colab.kernel.invokeFunction('convertToInteractive',\n",
              "                                                     [key], {});\n",
              "          if (!dataTable) return;\n",
              "\n",
              "          const docLinkHtml = 'Like what you see? Visit the ' +\n",
              "            '<a target=\"_blank\" href=https://colab.research.google.com/notebooks/data_table.ipynb>data table notebook</a>'\n",
              "            + ' to learn more about interactive tables.';\n",
              "          element.innerHTML = '';\n",
              "          dataTable['output_type'] = 'display_data';\n",
              "          await google.colab.output.renderOutput(dataTable, element);\n",
              "          const docLink = document.createElement('div');\n",
              "          docLink.innerHTML = docLinkHtml;\n",
              "          element.appendChild(docLink);\n",
              "        }\n",
              "      </script>\n",
              "    </div>\n",
              "  </div>\n",
              "  "
            ]
          },
          "metadata": {},
          "execution_count": 47
        }
      ],
      "source": [
        "train=pd.DataFrame(y_train)\n",
        "train['Predict_Train']=y_pred_lr_train\n",
        "train"
      ]
    },
    {
      "cell_type": "markdown",
      "source": [
        "Menggunakan dataframe untuk melihat 10 hasil output prediksi dari data X_train yang merupakan data untuk membuat prediksi tersebut. Kemudian dibandingkan dengan data real dari y_train, yang menunjukkan terdapat 2 perbedaan hasil dari 10 data yang ditunjukkan."
      ],
      "metadata": {
        "id": "e2965LF669Ob"
      }
    },
    {
      "cell_type": "code",
      "execution_count": null,
      "metadata": {
        "colab": {
          "base_uri": "https://localhost:8080/",
          "height": 423
        },
        "id": "mY4JfcNEILmK",
        "outputId": "f4060f58-da8a-42dd-cbd1-008ec8a756a5"
      },
      "outputs": [
        {
          "output_type": "execute_result",
          "data": {
            "text/plain": [
              "        RainTomorrow  Predict_Test\n",
              "6116               0             0\n",
              "108066             0             0\n",
              "138980             0             0\n",
              "20435              0             0\n",
              "56985              0             0\n",
              "...              ...           ...\n",
              "100054             0             0\n",
              "134542             0             0\n",
              "113941             1             1\n",
              "113765             0             0\n",
              "6716               1             1\n",
              "\n",
              "[35911 rows x 2 columns]"
            ],
            "text/html": [
              "\n",
              "  <div id=\"df-79f6de18-afc6-4036-acfd-46e71c93119a\">\n",
              "    <div class=\"colab-df-container\">\n",
              "      <div>\n",
              "<style scoped>\n",
              "    .dataframe tbody tr th:only-of-type {\n",
              "        vertical-align: middle;\n",
              "    }\n",
              "\n",
              "    .dataframe tbody tr th {\n",
              "        vertical-align: top;\n",
              "    }\n",
              "\n",
              "    .dataframe thead th {\n",
              "        text-align: right;\n",
              "    }\n",
              "</style>\n",
              "<table border=\"1\" class=\"dataframe\">\n",
              "  <thead>\n",
              "    <tr style=\"text-align: right;\">\n",
              "      <th></th>\n",
              "      <th>RainTomorrow</th>\n",
              "      <th>Predict_Test</th>\n",
              "    </tr>\n",
              "  </thead>\n",
              "  <tbody>\n",
              "    <tr>\n",
              "      <th>6116</th>\n",
              "      <td>0</td>\n",
              "      <td>0</td>\n",
              "    </tr>\n",
              "    <tr>\n",
              "      <th>108066</th>\n",
              "      <td>0</td>\n",
              "      <td>0</td>\n",
              "    </tr>\n",
              "    <tr>\n",
              "      <th>138980</th>\n",
              "      <td>0</td>\n",
              "      <td>0</td>\n",
              "    </tr>\n",
              "    <tr>\n",
              "      <th>20435</th>\n",
              "      <td>0</td>\n",
              "      <td>0</td>\n",
              "    </tr>\n",
              "    <tr>\n",
              "      <th>56985</th>\n",
              "      <td>0</td>\n",
              "      <td>0</td>\n",
              "    </tr>\n",
              "    <tr>\n",
              "      <th>...</th>\n",
              "      <td>...</td>\n",
              "      <td>...</td>\n",
              "    </tr>\n",
              "    <tr>\n",
              "      <th>100054</th>\n",
              "      <td>0</td>\n",
              "      <td>0</td>\n",
              "    </tr>\n",
              "    <tr>\n",
              "      <th>134542</th>\n",
              "      <td>0</td>\n",
              "      <td>0</td>\n",
              "    </tr>\n",
              "    <tr>\n",
              "      <th>113941</th>\n",
              "      <td>1</td>\n",
              "      <td>1</td>\n",
              "    </tr>\n",
              "    <tr>\n",
              "      <th>113765</th>\n",
              "      <td>0</td>\n",
              "      <td>0</td>\n",
              "    </tr>\n",
              "    <tr>\n",
              "      <th>6716</th>\n",
              "      <td>1</td>\n",
              "      <td>1</td>\n",
              "    </tr>\n",
              "  </tbody>\n",
              "</table>\n",
              "<p>35911 rows × 2 columns</p>\n",
              "</div>\n",
              "      <button class=\"colab-df-convert\" onclick=\"convertToInteractive('df-79f6de18-afc6-4036-acfd-46e71c93119a')\"\n",
              "              title=\"Convert this dataframe to an interactive table.\"\n",
              "              style=\"display:none;\">\n",
              "        \n",
              "  <svg xmlns=\"http://www.w3.org/2000/svg\" height=\"24px\"viewBox=\"0 0 24 24\"\n",
              "       width=\"24px\">\n",
              "    <path d=\"M0 0h24v24H0V0z\" fill=\"none\"/>\n",
              "    <path d=\"M18.56 5.44l.94 2.06.94-2.06 2.06-.94-2.06-.94-.94-2.06-.94 2.06-2.06.94zm-11 1L8.5 8.5l.94-2.06 2.06-.94-2.06-.94L8.5 2.5l-.94 2.06-2.06.94zm10 10l.94 2.06.94-2.06 2.06-.94-2.06-.94-.94-2.06-.94 2.06-2.06.94z\"/><path d=\"M17.41 7.96l-1.37-1.37c-.4-.4-.92-.59-1.43-.59-.52 0-1.04.2-1.43.59L10.3 9.45l-7.72 7.72c-.78.78-.78 2.05 0 2.83L4 21.41c.39.39.9.59 1.41.59.51 0 1.02-.2 1.41-.59l7.78-7.78 2.81-2.81c.8-.78.8-2.07 0-2.86zM5.41 20L4 18.59l7.72-7.72 1.47 1.35L5.41 20z\"/>\n",
              "  </svg>\n",
              "      </button>\n",
              "      \n",
              "  <style>\n",
              "    .colab-df-container {\n",
              "      display:flex;\n",
              "      flex-wrap:wrap;\n",
              "      gap: 12px;\n",
              "    }\n",
              "\n",
              "    .colab-df-convert {\n",
              "      background-color: #E8F0FE;\n",
              "      border: none;\n",
              "      border-radius: 50%;\n",
              "      cursor: pointer;\n",
              "      display: none;\n",
              "      fill: #1967D2;\n",
              "      height: 32px;\n",
              "      padding: 0 0 0 0;\n",
              "      width: 32px;\n",
              "    }\n",
              "\n",
              "    .colab-df-convert:hover {\n",
              "      background-color: #E2EBFA;\n",
              "      box-shadow: 0px 1px 2px rgba(60, 64, 67, 0.3), 0px 1px 3px 1px rgba(60, 64, 67, 0.15);\n",
              "      fill: #174EA6;\n",
              "    }\n",
              "\n",
              "    [theme=dark] .colab-df-convert {\n",
              "      background-color: #3B4455;\n",
              "      fill: #D2E3FC;\n",
              "    }\n",
              "\n",
              "    [theme=dark] .colab-df-convert:hover {\n",
              "      background-color: #434B5C;\n",
              "      box-shadow: 0px 1px 3px 1px rgba(0, 0, 0, 0.15);\n",
              "      filter: drop-shadow(0px 1px 2px rgba(0, 0, 0, 0.3));\n",
              "      fill: #FFFFFF;\n",
              "    }\n",
              "  </style>\n",
              "\n",
              "      <script>\n",
              "        const buttonEl =\n",
              "          document.querySelector('#df-79f6de18-afc6-4036-acfd-46e71c93119a button.colab-df-convert');\n",
              "        buttonEl.style.display =\n",
              "          google.colab.kernel.accessAllowed ? 'block' : 'none';\n",
              "\n",
              "        async function convertToInteractive(key) {\n",
              "          const element = document.querySelector('#df-79f6de18-afc6-4036-acfd-46e71c93119a');\n",
              "          const dataTable =\n",
              "            await google.colab.kernel.invokeFunction('convertToInteractive',\n",
              "                                                     [key], {});\n",
              "          if (!dataTable) return;\n",
              "\n",
              "          const docLinkHtml = 'Like what you see? Visit the ' +\n",
              "            '<a target=\"_blank\" href=https://colab.research.google.com/notebooks/data_table.ipynb>data table notebook</a>'\n",
              "            + ' to learn more about interactive tables.';\n",
              "          element.innerHTML = '';\n",
              "          dataTable['output_type'] = 'display_data';\n",
              "          await google.colab.output.renderOutput(dataTable, element);\n",
              "          const docLink = document.createElement('div');\n",
              "          docLink.innerHTML = docLinkHtml;\n",
              "          element.appendChild(docLink);\n",
              "        }\n",
              "      </script>\n",
              "    </div>\n",
              "  </div>\n",
              "  "
            ]
          },
          "metadata": {},
          "execution_count": 48
        }
      ],
      "source": [
        "test=pd.DataFrame(y_test)\n",
        "test['Predict_Test']=y_pred_lr_test\n",
        "test"
      ]
    },
    {
      "cell_type": "markdown",
      "source": [
        "Menggunakan dataframe untuk melihat 10 hasil output prediksi dari data X_test. Kemudian dibandingkan dengan data real dari y_test, yang menunjukkan hasil dari 10 data adalah sama."
      ],
      "metadata": {
        "id": "oj7nILnM7y7-"
      }
    },
    {
      "cell_type": "markdown",
      "metadata": {
        "id": "uTypi0qUCg9C"
      },
      "source": [
        "## K-Nearest Neighbors (KNN)"
      ]
    },
    {
      "cell_type": "code",
      "execution_count": null,
      "metadata": {
        "colab": {
          "base_uri": "https://localhost:8080/"
        },
        "id": "bzhVY11d2q2c",
        "outputId": "8900b871-e056-42e2-b24c-42bb4deed1a1"
      },
      "outputs": [
        {
          "output_type": "stream",
          "name": "stdout",
          "text": [
            "{'n_neighbors': 19}\n"
          ]
        }
      ],
      "source": [
        "param_grid = {\n",
        "    'n_neighbors':[15,16,17,19,20]\n",
        "}\n",
        "\n",
        "grid_search = GridSearchCV(knn, param_grid, cv=5, scoring='accuracy')\n",
        "grid_search.fit(X_train, y_train)\n",
        "print(grid_search.best_params_)"
      ]
    },
    {
      "cell_type": "markdown",
      "source": [
        "Dilakukan hyperparameter tuning untuk K-Nearest Neighbors didapatkan parameter terbaik adalah {'n_neighbors': 19}"
      ],
      "metadata": {
        "id": "CfC2Q2KI8Jv2"
      }
    },
    {
      "cell_type": "code",
      "execution_count": null,
      "metadata": {
        "id": "OFXORvnY2rOO"
      },
      "outputs": [],
      "source": [
        "knn = KNeighborsClassifier(n_neighbors=19)"
      ]
    },
    {
      "cell_type": "markdown",
      "source": [
        "Dilakukan pendefinisian ulang model K-Nearest Neighbors Classifier dengan memasukkan parameter terbaik yang didapatkan dari tuning"
      ],
      "metadata": {
        "id": "2Rhup_j88KWJ"
      }
    },
    {
      "cell_type": "code",
      "execution_count": null,
      "metadata": {
        "id": "XgEoN8zECh0K"
      },
      "outputs": [],
      "source": [
        "model_knn = knn.fit(X_train,y_train)\n",
        "y_pred_knn_train=model_knn.predict(X_train)\n",
        "y_pred_knn_test=model_knn.predict(X_test)"
      ]
    },
    {
      "cell_type": "markdown",
      "source": [
        "Melatih model K-Nearest Neighbors dengan variabel independen X_train dan target atau variabel dependen y_train, kemudian dilakukan prediksi target dari variabel X_train dan X_test"
      ],
      "metadata": {
        "id": "VdHxNrjB8K8C"
      }
    },
    {
      "cell_type": "code",
      "execution_count": null,
      "metadata": {
        "colab": {
          "base_uri": "https://localhost:8080/",
          "height": 423
        },
        "id": "d9sPDcFrsVlH",
        "outputId": "8d8059a4-b672-4a75-af0c-955a9d20ee62"
      },
      "outputs": [
        {
          "output_type": "execute_result",
          "data": {
            "text/plain": [
              "        RainTomorrow  Predict_Train\n",
              "122980             0              0\n",
              "133385             1              0\n",
              "2182               0              0\n",
              "91402              0              0\n",
              "94239              0              0\n",
              "...              ...            ...\n",
              "59510              1              1\n",
              "142895             0              0\n",
              "56138              1              1\n",
              "57110              0              0\n",
              "83489              0              0\n",
              "\n",
              "[83791 rows x 2 columns]"
            ],
            "text/html": [
              "\n",
              "  <div id=\"df-ea5b56a6-a660-4ab1-8df0-0317b765750e\">\n",
              "    <div class=\"colab-df-container\">\n",
              "      <div>\n",
              "<style scoped>\n",
              "    .dataframe tbody tr th:only-of-type {\n",
              "        vertical-align: middle;\n",
              "    }\n",
              "\n",
              "    .dataframe tbody tr th {\n",
              "        vertical-align: top;\n",
              "    }\n",
              "\n",
              "    .dataframe thead th {\n",
              "        text-align: right;\n",
              "    }\n",
              "</style>\n",
              "<table border=\"1\" class=\"dataframe\">\n",
              "  <thead>\n",
              "    <tr style=\"text-align: right;\">\n",
              "      <th></th>\n",
              "      <th>RainTomorrow</th>\n",
              "      <th>Predict_Train</th>\n",
              "    </tr>\n",
              "  </thead>\n",
              "  <tbody>\n",
              "    <tr>\n",
              "      <th>122980</th>\n",
              "      <td>0</td>\n",
              "      <td>0</td>\n",
              "    </tr>\n",
              "    <tr>\n",
              "      <th>133385</th>\n",
              "      <td>1</td>\n",
              "      <td>0</td>\n",
              "    </tr>\n",
              "    <tr>\n",
              "      <th>2182</th>\n",
              "      <td>0</td>\n",
              "      <td>0</td>\n",
              "    </tr>\n",
              "    <tr>\n",
              "      <th>91402</th>\n",
              "      <td>0</td>\n",
              "      <td>0</td>\n",
              "    </tr>\n",
              "    <tr>\n",
              "      <th>94239</th>\n",
              "      <td>0</td>\n",
              "      <td>0</td>\n",
              "    </tr>\n",
              "    <tr>\n",
              "      <th>...</th>\n",
              "      <td>...</td>\n",
              "      <td>...</td>\n",
              "    </tr>\n",
              "    <tr>\n",
              "      <th>59510</th>\n",
              "      <td>1</td>\n",
              "      <td>1</td>\n",
              "    </tr>\n",
              "    <tr>\n",
              "      <th>142895</th>\n",
              "      <td>0</td>\n",
              "      <td>0</td>\n",
              "    </tr>\n",
              "    <tr>\n",
              "      <th>56138</th>\n",
              "      <td>1</td>\n",
              "      <td>1</td>\n",
              "    </tr>\n",
              "    <tr>\n",
              "      <th>57110</th>\n",
              "      <td>0</td>\n",
              "      <td>0</td>\n",
              "    </tr>\n",
              "    <tr>\n",
              "      <th>83489</th>\n",
              "      <td>0</td>\n",
              "      <td>0</td>\n",
              "    </tr>\n",
              "  </tbody>\n",
              "</table>\n",
              "<p>83791 rows × 2 columns</p>\n",
              "</div>\n",
              "      <button class=\"colab-df-convert\" onclick=\"convertToInteractive('df-ea5b56a6-a660-4ab1-8df0-0317b765750e')\"\n",
              "              title=\"Convert this dataframe to an interactive table.\"\n",
              "              style=\"display:none;\">\n",
              "        \n",
              "  <svg xmlns=\"http://www.w3.org/2000/svg\" height=\"24px\"viewBox=\"0 0 24 24\"\n",
              "       width=\"24px\">\n",
              "    <path d=\"M0 0h24v24H0V0z\" fill=\"none\"/>\n",
              "    <path d=\"M18.56 5.44l.94 2.06.94-2.06 2.06-.94-2.06-.94-.94-2.06-.94 2.06-2.06.94zm-11 1L8.5 8.5l.94-2.06 2.06-.94-2.06-.94L8.5 2.5l-.94 2.06-2.06.94zm10 10l.94 2.06.94-2.06 2.06-.94-2.06-.94-.94-2.06-.94 2.06-2.06.94z\"/><path d=\"M17.41 7.96l-1.37-1.37c-.4-.4-.92-.59-1.43-.59-.52 0-1.04.2-1.43.59L10.3 9.45l-7.72 7.72c-.78.78-.78 2.05 0 2.83L4 21.41c.39.39.9.59 1.41.59.51 0 1.02-.2 1.41-.59l7.78-7.78 2.81-2.81c.8-.78.8-2.07 0-2.86zM5.41 20L4 18.59l7.72-7.72 1.47 1.35L5.41 20z\"/>\n",
              "  </svg>\n",
              "      </button>\n",
              "      \n",
              "  <style>\n",
              "    .colab-df-container {\n",
              "      display:flex;\n",
              "      flex-wrap:wrap;\n",
              "      gap: 12px;\n",
              "    }\n",
              "\n",
              "    .colab-df-convert {\n",
              "      background-color: #E8F0FE;\n",
              "      border: none;\n",
              "      border-radius: 50%;\n",
              "      cursor: pointer;\n",
              "      display: none;\n",
              "      fill: #1967D2;\n",
              "      height: 32px;\n",
              "      padding: 0 0 0 0;\n",
              "      width: 32px;\n",
              "    }\n",
              "\n",
              "    .colab-df-convert:hover {\n",
              "      background-color: #E2EBFA;\n",
              "      box-shadow: 0px 1px 2px rgba(60, 64, 67, 0.3), 0px 1px 3px 1px rgba(60, 64, 67, 0.15);\n",
              "      fill: #174EA6;\n",
              "    }\n",
              "\n",
              "    [theme=dark] .colab-df-convert {\n",
              "      background-color: #3B4455;\n",
              "      fill: #D2E3FC;\n",
              "    }\n",
              "\n",
              "    [theme=dark] .colab-df-convert:hover {\n",
              "      background-color: #434B5C;\n",
              "      box-shadow: 0px 1px 3px 1px rgba(0, 0, 0, 0.15);\n",
              "      filter: drop-shadow(0px 1px 2px rgba(0, 0, 0, 0.3));\n",
              "      fill: #FFFFFF;\n",
              "    }\n",
              "  </style>\n",
              "\n",
              "      <script>\n",
              "        const buttonEl =\n",
              "          document.querySelector('#df-ea5b56a6-a660-4ab1-8df0-0317b765750e button.colab-df-convert');\n",
              "        buttonEl.style.display =\n",
              "          google.colab.kernel.accessAllowed ? 'block' : 'none';\n",
              "\n",
              "        async function convertToInteractive(key) {\n",
              "          const element = document.querySelector('#df-ea5b56a6-a660-4ab1-8df0-0317b765750e');\n",
              "          const dataTable =\n",
              "            await google.colab.kernel.invokeFunction('convertToInteractive',\n",
              "                                                     [key], {});\n",
              "          if (!dataTable) return;\n",
              "\n",
              "          const docLinkHtml = 'Like what you see? Visit the ' +\n",
              "            '<a target=\"_blank\" href=https://colab.research.google.com/notebooks/data_table.ipynb>data table notebook</a>'\n",
              "            + ' to learn more about interactive tables.';\n",
              "          element.innerHTML = '';\n",
              "          dataTable['output_type'] = 'display_data';\n",
              "          await google.colab.output.renderOutput(dataTable, element);\n",
              "          const docLink = document.createElement('div');\n",
              "          docLink.innerHTML = docLinkHtml;\n",
              "          element.appendChild(docLink);\n",
              "        }\n",
              "      </script>\n",
              "    </div>\n",
              "  </div>\n",
              "  "
            ]
          },
          "metadata": {},
          "execution_count": 52
        }
      ],
      "source": [
        "train=pd.DataFrame(y_train)\n",
        "train['Predict_Train']=y_pred_knn_train\n",
        "train"
      ]
    },
    {
      "cell_type": "markdown",
      "source": [
        "Menggunakan dataframe untuk melihat 10 hasil output prediksi dari data X_train yang merupakan data untuk membuat prediksi tersebut. Kemudian dibandingkan dengan data real dari y_train, yang menunjukkan terdapat 1 perbedaan hasil dari 10 data yang ditunjukkan."
      ],
      "metadata": {
        "id": "IXHDi_sF8LgN"
      }
    },
    {
      "cell_type": "code",
      "execution_count": null,
      "metadata": {
        "colab": {
          "base_uri": "https://localhost:8080/",
          "height": 423
        },
        "id": "8k6YzKgttHmx",
        "outputId": "db401e7f-f5cf-48bb-a5c0-86a8d05188ae"
      },
      "outputs": [
        {
          "output_type": "execute_result",
          "data": {
            "text/plain": [
              "        RainTomorrow  Predict_Test\n",
              "6116               0             0\n",
              "108066             0             0\n",
              "138980             0             0\n",
              "20435              0             0\n",
              "56985              0             0\n",
              "...              ...           ...\n",
              "100054             0             0\n",
              "134542             0             0\n",
              "113941             1             1\n",
              "113765             0             0\n",
              "6716               1             0\n",
              "\n",
              "[35911 rows x 2 columns]"
            ],
            "text/html": [
              "\n",
              "  <div id=\"df-10d10e1f-7081-4a78-9ae6-49f15755c598\">\n",
              "    <div class=\"colab-df-container\">\n",
              "      <div>\n",
              "<style scoped>\n",
              "    .dataframe tbody tr th:only-of-type {\n",
              "        vertical-align: middle;\n",
              "    }\n",
              "\n",
              "    .dataframe tbody tr th {\n",
              "        vertical-align: top;\n",
              "    }\n",
              "\n",
              "    .dataframe thead th {\n",
              "        text-align: right;\n",
              "    }\n",
              "</style>\n",
              "<table border=\"1\" class=\"dataframe\">\n",
              "  <thead>\n",
              "    <tr style=\"text-align: right;\">\n",
              "      <th></th>\n",
              "      <th>RainTomorrow</th>\n",
              "      <th>Predict_Test</th>\n",
              "    </tr>\n",
              "  </thead>\n",
              "  <tbody>\n",
              "    <tr>\n",
              "      <th>6116</th>\n",
              "      <td>0</td>\n",
              "      <td>0</td>\n",
              "    </tr>\n",
              "    <tr>\n",
              "      <th>108066</th>\n",
              "      <td>0</td>\n",
              "      <td>0</td>\n",
              "    </tr>\n",
              "    <tr>\n",
              "      <th>138980</th>\n",
              "      <td>0</td>\n",
              "      <td>0</td>\n",
              "    </tr>\n",
              "    <tr>\n",
              "      <th>20435</th>\n",
              "      <td>0</td>\n",
              "      <td>0</td>\n",
              "    </tr>\n",
              "    <tr>\n",
              "      <th>56985</th>\n",
              "      <td>0</td>\n",
              "      <td>0</td>\n",
              "    </tr>\n",
              "    <tr>\n",
              "      <th>...</th>\n",
              "      <td>...</td>\n",
              "      <td>...</td>\n",
              "    </tr>\n",
              "    <tr>\n",
              "      <th>100054</th>\n",
              "      <td>0</td>\n",
              "      <td>0</td>\n",
              "    </tr>\n",
              "    <tr>\n",
              "      <th>134542</th>\n",
              "      <td>0</td>\n",
              "      <td>0</td>\n",
              "    </tr>\n",
              "    <tr>\n",
              "      <th>113941</th>\n",
              "      <td>1</td>\n",
              "      <td>1</td>\n",
              "    </tr>\n",
              "    <tr>\n",
              "      <th>113765</th>\n",
              "      <td>0</td>\n",
              "      <td>0</td>\n",
              "    </tr>\n",
              "    <tr>\n",
              "      <th>6716</th>\n",
              "      <td>1</td>\n",
              "      <td>0</td>\n",
              "    </tr>\n",
              "  </tbody>\n",
              "</table>\n",
              "<p>35911 rows × 2 columns</p>\n",
              "</div>\n",
              "      <button class=\"colab-df-convert\" onclick=\"convertToInteractive('df-10d10e1f-7081-4a78-9ae6-49f15755c598')\"\n",
              "              title=\"Convert this dataframe to an interactive table.\"\n",
              "              style=\"display:none;\">\n",
              "        \n",
              "  <svg xmlns=\"http://www.w3.org/2000/svg\" height=\"24px\"viewBox=\"0 0 24 24\"\n",
              "       width=\"24px\">\n",
              "    <path d=\"M0 0h24v24H0V0z\" fill=\"none\"/>\n",
              "    <path d=\"M18.56 5.44l.94 2.06.94-2.06 2.06-.94-2.06-.94-.94-2.06-.94 2.06-2.06.94zm-11 1L8.5 8.5l.94-2.06 2.06-.94-2.06-.94L8.5 2.5l-.94 2.06-2.06.94zm10 10l.94 2.06.94-2.06 2.06-.94-2.06-.94-.94-2.06-.94 2.06-2.06.94z\"/><path d=\"M17.41 7.96l-1.37-1.37c-.4-.4-.92-.59-1.43-.59-.52 0-1.04.2-1.43.59L10.3 9.45l-7.72 7.72c-.78.78-.78 2.05 0 2.83L4 21.41c.39.39.9.59 1.41.59.51 0 1.02-.2 1.41-.59l7.78-7.78 2.81-2.81c.8-.78.8-2.07 0-2.86zM5.41 20L4 18.59l7.72-7.72 1.47 1.35L5.41 20z\"/>\n",
              "  </svg>\n",
              "      </button>\n",
              "      \n",
              "  <style>\n",
              "    .colab-df-container {\n",
              "      display:flex;\n",
              "      flex-wrap:wrap;\n",
              "      gap: 12px;\n",
              "    }\n",
              "\n",
              "    .colab-df-convert {\n",
              "      background-color: #E8F0FE;\n",
              "      border: none;\n",
              "      border-radius: 50%;\n",
              "      cursor: pointer;\n",
              "      display: none;\n",
              "      fill: #1967D2;\n",
              "      height: 32px;\n",
              "      padding: 0 0 0 0;\n",
              "      width: 32px;\n",
              "    }\n",
              "\n",
              "    .colab-df-convert:hover {\n",
              "      background-color: #E2EBFA;\n",
              "      box-shadow: 0px 1px 2px rgba(60, 64, 67, 0.3), 0px 1px 3px 1px rgba(60, 64, 67, 0.15);\n",
              "      fill: #174EA6;\n",
              "    }\n",
              "\n",
              "    [theme=dark] .colab-df-convert {\n",
              "      background-color: #3B4455;\n",
              "      fill: #D2E3FC;\n",
              "    }\n",
              "\n",
              "    [theme=dark] .colab-df-convert:hover {\n",
              "      background-color: #434B5C;\n",
              "      box-shadow: 0px 1px 3px 1px rgba(0, 0, 0, 0.15);\n",
              "      filter: drop-shadow(0px 1px 2px rgba(0, 0, 0, 0.3));\n",
              "      fill: #FFFFFF;\n",
              "    }\n",
              "  </style>\n",
              "\n",
              "      <script>\n",
              "        const buttonEl =\n",
              "          document.querySelector('#df-10d10e1f-7081-4a78-9ae6-49f15755c598 button.colab-df-convert');\n",
              "        buttonEl.style.display =\n",
              "          google.colab.kernel.accessAllowed ? 'block' : 'none';\n",
              "\n",
              "        async function convertToInteractive(key) {\n",
              "          const element = document.querySelector('#df-10d10e1f-7081-4a78-9ae6-49f15755c598');\n",
              "          const dataTable =\n",
              "            await google.colab.kernel.invokeFunction('convertToInteractive',\n",
              "                                                     [key], {});\n",
              "          if (!dataTable) return;\n",
              "\n",
              "          const docLinkHtml = 'Like what you see? Visit the ' +\n",
              "            '<a target=\"_blank\" href=https://colab.research.google.com/notebooks/data_table.ipynb>data table notebook</a>'\n",
              "            + ' to learn more about interactive tables.';\n",
              "          element.innerHTML = '';\n",
              "          dataTable['output_type'] = 'display_data';\n",
              "          await google.colab.output.renderOutput(dataTable, element);\n",
              "          const docLink = document.createElement('div');\n",
              "          docLink.innerHTML = docLinkHtml;\n",
              "          element.appendChild(docLink);\n",
              "        }\n",
              "      </script>\n",
              "    </div>\n",
              "  </div>\n",
              "  "
            ]
          },
          "metadata": {},
          "execution_count": 53
        }
      ],
      "source": [
        "test=pd.DataFrame(y_test)\n",
        "test['Predict_Test']=y_pred_knn_test\n",
        "test"
      ]
    },
    {
      "cell_type": "markdown",
      "source": [
        "Menggunakan dataframe untuk melihat 10 hasil output prediksi dari data X_test. Kemudian dibandingkan dengan data real dari y_test, yang menunjukkan 1 perbedaan hasil dari 10 data yang ditunjukkan."
      ],
      "metadata": {
        "id": "oNwIoXbZ8MLu"
      }
    },
    {
      "cell_type": "markdown",
      "metadata": {
        "id": "DIiC-tn-BiRD"
      },
      "source": [
        "## Support Vector Machine (SVM)"
      ]
    },
    {
      "cell_type": "code",
      "execution_count": null,
      "metadata": {
        "colab": {
          "base_uri": "https://localhost:8080/"
        },
        "id": "so_5NyWeNG3L",
        "outputId": "046312ff-7d28-480d-c5c8-3637a9f847c5"
      },
      "outputs": [
        {
          "output_type": "execute_result",
          "data": {
            "text/plain": [
              "(119702, 8)"
            ]
          },
          "metadata": {},
          "execution_count": 54
        }
      ],
      "source": [
        "# melihat bentuk data features\n",
        "X.shape"
      ]
    },
    {
      "cell_type": "code",
      "execution_count": null,
      "metadata": {
        "colab": {
          "base_uri": "https://localhost:8080/"
        },
        "id": "IQulegXvU1Yf",
        "outputId": "12df89ed-be9b-4fec-8a43-cd8747345124"
      },
      "outputs": [
        {
          "output_type": "execute_result",
          "data": {
            "text/plain": [
              "(119702,)"
            ]
          },
          "metadata": {},
          "execution_count": 55
        }
      ],
      "source": [
        "# melihat bentuk data label\n",
        "y.shape"
      ]
    },
    {
      "cell_type": "markdown",
      "source": [
        "Menggunakan fungsi `shape()` , ingin dilihat jumlah data yang terdapat dalam variabel X dan y. Dari output yang ditampilkan, terdapat 119702 data yang mana ukuran tersebut terlalu besar, jika dijalankan menggunakan model SVM maka akan menghabiskan waktu yang lama."
      ],
      "metadata": {
        "id": "pyd-GmFoIb8e"
      }
    },
    {
      "cell_type": "code",
      "execution_count": null,
      "metadata": {
        "id": "bYkScnM0U2dc"
      },
      "outputs": [],
      "source": [
        "# mengambil 20000 data untuk features dan label\n",
        "X = X[:20000]\n",
        "y = y[:20000]"
      ]
    },
    {
      "cell_type": "markdown",
      "metadata": {
        "id": "ue88dBCcWics"
      },
      "source": [
        "Proses di atas bertujuan untuk mengurangi ukuran data agar tidak menghabiskan waktu yang terlalu lama saat fitting model, dikarenakan algoritma SVM lebih cocok digunakan untuk data yang berukuran kecil."
      ]
    },
    {
      "cell_type": "code",
      "execution_count": null,
      "metadata": {
        "id": "1P0VFjyFU4kR"
      },
      "outputs": [],
      "source": [
        "# train 70%, test 30%\n",
        "\n",
        "X_train_svm, X_test_svm, y_train_svm, y_test_svm = train_test_split(X, y, test_size=0.3, random_state=0)"
      ]
    },
    {
      "cell_type": "markdown",
      "source": [
        "Dilakukan splitting tes untuk data SVM ini, dengan ukuran 70% data untuk training dan 30% data untuk testing."
      ],
      "metadata": {
        "id": "r0JqVzrJIm7f"
      }
    },
    {
      "cell_type": "code",
      "execution_count": null,
      "metadata": {
        "id": "eFyESIryVBLU"
      },
      "outputs": [],
      "source": [
        "# fitting model\n",
        "model_svc = svc.fit(X_train_svm, y_train_svm)\n",
        "\n",
        "# menampilkan score model\n",
        "print('train set score : ', model_svc.score(X_train_svm, y_train_svm))\n",
        "print('test set score : ', model_svc.score(X_test_svm, y_test_svm))"
      ]
    },
    {
      "cell_type": "markdown",
      "source": [
        "Dari hasil score yang ditunjukkan bisa dilihat selisih score untuk penggunaan data training dan testing tidak terlalu jauh yang mana artinya model tidak overfitting."
      ],
      "metadata": {
        "id": "FAHBLhuLIqwY"
      }
    },
    {
      "cell_type": "code",
      "source": [
        "# predict data\n",
        "y_pred_svm_train = model_svc.predict(X_train_svm)\n",
        "y_pred_svm_test = model_svc.predict(X_test_svm)"
      ],
      "metadata": {
        "id": "RDfy8OVmIxKI"
      },
      "execution_count": null,
      "outputs": []
    },
    {
      "cell_type": "markdown",
      "source": [
        "Kemudian dilakukan prediksi label menggunakan model yang telah dibangun. Proses predict dilakukan dua kali, yaitu menggunakan data training dan menggunakan data testing."
      ],
      "metadata": {
        "id": "hb8viowsI3dh"
      }
    },
    {
      "cell_type": "code",
      "source": [
        "# membandingkan label prediksi dan actual label pada data training\n",
        "train=pd.DataFrame(y_train)\n",
        "train['Predict_Train']=y_pred_svm_train\n",
        "train"
      ],
      "metadata": {
        "id": "d3JdHoaBJETH"
      },
      "execution_count": null,
      "outputs": []
    },
    {
      "cell_type": "code",
      "source": [
        "# membandingkan label prediksi dan actual label pada data testing\n",
        "test = pd.DataFrame(y_test)\n",
        "test['Predict_Test'] = y_pred_svm_test\n",
        "test"
      ],
      "metadata": {
        "id": "soZBR89OJAbX"
      },
      "execution_count": null,
      "outputs": []
    },
    {
      "cell_type": "markdown",
      "metadata": {
        "id": "FJ1JnoRYXBKL"
      },
      "source": [
        " Setelah itu dibuat masing-masing sebuah data frame untuk data testing dan data training. Di dalamnya memuat data label hasil prediksi dan actual label untuk masing-masing data. Ini bertujuan untuk membandingkan label asli dan label yang diprediksi oleh model. Bisa dilihat dari beberapa data yang ditampilkan di output, model dapat memprediksi label dengan cukup baik."
      ]
    },
    {
      "cell_type": "markdown",
      "metadata": {
        "id": "JEwUcWAACuk7"
      },
      "source": [
        "## Decision Tree"
      ]
    },
    {
      "cell_type": "code",
      "execution_count": null,
      "metadata": {
        "id": "eCw73zODyxvQ"
      },
      "outputs": [],
      "source": [
        "# param_grid = {\n",
        "#     'max_depth': [6,7,8,9,10],\n",
        "#     'min_samples_split': [1, 2, 3, 4],\n",
        "#     'min_samples_leaf': [1, 2, 4],\n",
        "#     'max_features': ['auto', 'sqrt', 'log2']\n",
        "# }\n",
        "\n",
        "# grid_search = GridSearchCV(dtc, param_grid, cv=5)\n",
        "# grid_search.fit(X_train, y_train)\n",
        "# print(grid_search.best_params_)"
      ]
    },
    {
      "cell_type": "markdown",
      "source": [
        "Dilakukan hyperparameter tuning untuk Decision Tree Classifier didapatkan parameter terbaik adalah {'max_depth': 8, 'max_features': 'log2', 'min_samples_leaf': 2, 'min_samples_split': 2}"
      ],
      "metadata": {
        "id": "czcCO6UB8OOs"
      }
    },
    {
      "cell_type": "code",
      "execution_count": null,
      "metadata": {
        "id": "plH2zPiNzEvH"
      },
      "outputs": [],
      "source": [
        "dtc = DecisionTreeClassifier(max_depth= 8,min_samples_split= 2,min_samples_leaf= 2,max_features= 'log2')"
      ]
    },
    {
      "cell_type": "markdown",
      "source": [
        "Dilakukan pendefinisian ulang model Decision Tree Classifier dengan memasukkan parameter terbaik yang didapatkan dari tuning"
      ],
      "metadata": {
        "id": "AtcNHUpU8OzE"
      }
    },
    {
      "cell_type": "code",
      "execution_count": null,
      "metadata": {
        "id": "jdps5UyyCvY6"
      },
      "outputs": [],
      "source": [
        "model_dtc = dtc.fit(X_train,y_train)\n",
        "y_pred_dtc_train=model_dtc.predict(X_train)\n",
        "y_pred_dtc_test=model_dtc.predict(X_test)"
      ]
    },
    {
      "cell_type": "markdown",
      "source": [
        "Melatih model Decision Tree Classifier dengan variabel independen X_train dan target atau variabel dependen y_train, kemudian dilakukan prediksi target dari variabel X_train dan X_test"
      ],
      "metadata": {
        "id": "uuTCa8ZH8Pd1"
      }
    },
    {
      "cell_type": "code",
      "execution_count": null,
      "metadata": {
        "colab": {
          "base_uri": "https://localhost:8080/",
          "height": 423
        },
        "id": "64Kxfli-tfyU",
        "outputId": "389a5ab7-b4e2-4c05-b83c-970d4bf1992a"
      },
      "outputs": [
        {
          "output_type": "execute_result",
          "data": {
            "text/plain": [
              "        RainTomorrow  Predict_Train\n",
              "122980             0              0\n",
              "133385             1              1\n",
              "2182               0              0\n",
              "91402              0              1\n",
              "94239              0              0\n",
              "...              ...            ...\n",
              "59510              1              1\n",
              "142895             0              0\n",
              "56138              1              1\n",
              "57110              0              0\n",
              "83489              0              0\n",
              "\n",
              "[83791 rows x 2 columns]"
            ],
            "text/html": [
              "\n",
              "  <div id=\"df-f87f1b96-84ac-49b1-9bb4-81afc1d0619f\">\n",
              "    <div class=\"colab-df-container\">\n",
              "      <div>\n",
              "<style scoped>\n",
              "    .dataframe tbody tr th:only-of-type {\n",
              "        vertical-align: middle;\n",
              "    }\n",
              "\n",
              "    .dataframe tbody tr th {\n",
              "        vertical-align: top;\n",
              "    }\n",
              "\n",
              "    .dataframe thead th {\n",
              "        text-align: right;\n",
              "    }\n",
              "</style>\n",
              "<table border=\"1\" class=\"dataframe\">\n",
              "  <thead>\n",
              "    <tr style=\"text-align: right;\">\n",
              "      <th></th>\n",
              "      <th>RainTomorrow</th>\n",
              "      <th>Predict_Train</th>\n",
              "    </tr>\n",
              "  </thead>\n",
              "  <tbody>\n",
              "    <tr>\n",
              "      <th>122980</th>\n",
              "      <td>0</td>\n",
              "      <td>0</td>\n",
              "    </tr>\n",
              "    <tr>\n",
              "      <th>133385</th>\n",
              "      <td>1</td>\n",
              "      <td>1</td>\n",
              "    </tr>\n",
              "    <tr>\n",
              "      <th>2182</th>\n",
              "      <td>0</td>\n",
              "      <td>0</td>\n",
              "    </tr>\n",
              "    <tr>\n",
              "      <th>91402</th>\n",
              "      <td>0</td>\n",
              "      <td>1</td>\n",
              "    </tr>\n",
              "    <tr>\n",
              "      <th>94239</th>\n",
              "      <td>0</td>\n",
              "      <td>0</td>\n",
              "    </tr>\n",
              "    <tr>\n",
              "      <th>...</th>\n",
              "      <td>...</td>\n",
              "      <td>...</td>\n",
              "    </tr>\n",
              "    <tr>\n",
              "      <th>59510</th>\n",
              "      <td>1</td>\n",
              "      <td>1</td>\n",
              "    </tr>\n",
              "    <tr>\n",
              "      <th>142895</th>\n",
              "      <td>0</td>\n",
              "      <td>0</td>\n",
              "    </tr>\n",
              "    <tr>\n",
              "      <th>56138</th>\n",
              "      <td>1</td>\n",
              "      <td>1</td>\n",
              "    </tr>\n",
              "    <tr>\n",
              "      <th>57110</th>\n",
              "      <td>0</td>\n",
              "      <td>0</td>\n",
              "    </tr>\n",
              "    <tr>\n",
              "      <th>83489</th>\n",
              "      <td>0</td>\n",
              "      <td>0</td>\n",
              "    </tr>\n",
              "  </tbody>\n",
              "</table>\n",
              "<p>83791 rows × 2 columns</p>\n",
              "</div>\n",
              "      <button class=\"colab-df-convert\" onclick=\"convertToInteractive('df-f87f1b96-84ac-49b1-9bb4-81afc1d0619f')\"\n",
              "              title=\"Convert this dataframe to an interactive table.\"\n",
              "              style=\"display:none;\">\n",
              "        \n",
              "  <svg xmlns=\"http://www.w3.org/2000/svg\" height=\"24px\"viewBox=\"0 0 24 24\"\n",
              "       width=\"24px\">\n",
              "    <path d=\"M0 0h24v24H0V0z\" fill=\"none\"/>\n",
              "    <path d=\"M18.56 5.44l.94 2.06.94-2.06 2.06-.94-2.06-.94-.94-2.06-.94 2.06-2.06.94zm-11 1L8.5 8.5l.94-2.06 2.06-.94-2.06-.94L8.5 2.5l-.94 2.06-2.06.94zm10 10l.94 2.06.94-2.06 2.06-.94-2.06-.94-.94-2.06-.94 2.06-2.06.94z\"/><path d=\"M17.41 7.96l-1.37-1.37c-.4-.4-.92-.59-1.43-.59-.52 0-1.04.2-1.43.59L10.3 9.45l-7.72 7.72c-.78.78-.78 2.05 0 2.83L4 21.41c.39.39.9.59 1.41.59.51 0 1.02-.2 1.41-.59l7.78-7.78 2.81-2.81c.8-.78.8-2.07 0-2.86zM5.41 20L4 18.59l7.72-7.72 1.47 1.35L5.41 20z\"/>\n",
              "  </svg>\n",
              "      </button>\n",
              "      \n",
              "  <style>\n",
              "    .colab-df-container {\n",
              "      display:flex;\n",
              "      flex-wrap:wrap;\n",
              "      gap: 12px;\n",
              "    }\n",
              "\n",
              "    .colab-df-convert {\n",
              "      background-color: #E8F0FE;\n",
              "      border: none;\n",
              "      border-radius: 50%;\n",
              "      cursor: pointer;\n",
              "      display: none;\n",
              "      fill: #1967D2;\n",
              "      height: 32px;\n",
              "      padding: 0 0 0 0;\n",
              "      width: 32px;\n",
              "    }\n",
              "\n",
              "    .colab-df-convert:hover {\n",
              "      background-color: #E2EBFA;\n",
              "      box-shadow: 0px 1px 2px rgba(60, 64, 67, 0.3), 0px 1px 3px 1px rgba(60, 64, 67, 0.15);\n",
              "      fill: #174EA6;\n",
              "    }\n",
              "\n",
              "    [theme=dark] .colab-df-convert {\n",
              "      background-color: #3B4455;\n",
              "      fill: #D2E3FC;\n",
              "    }\n",
              "\n",
              "    [theme=dark] .colab-df-convert:hover {\n",
              "      background-color: #434B5C;\n",
              "      box-shadow: 0px 1px 3px 1px rgba(0, 0, 0, 0.15);\n",
              "      filter: drop-shadow(0px 1px 2px rgba(0, 0, 0, 0.3));\n",
              "      fill: #FFFFFF;\n",
              "    }\n",
              "  </style>\n",
              "\n",
              "      <script>\n",
              "        const buttonEl =\n",
              "          document.querySelector('#df-f87f1b96-84ac-49b1-9bb4-81afc1d0619f button.colab-df-convert');\n",
              "        buttonEl.style.display =\n",
              "          google.colab.kernel.accessAllowed ? 'block' : 'none';\n",
              "\n",
              "        async function convertToInteractive(key) {\n",
              "          const element = document.querySelector('#df-f87f1b96-84ac-49b1-9bb4-81afc1d0619f');\n",
              "          const dataTable =\n",
              "            await google.colab.kernel.invokeFunction('convertToInteractive',\n",
              "                                                     [key], {});\n",
              "          if (!dataTable) return;\n",
              "\n",
              "          const docLinkHtml = 'Like what you see? Visit the ' +\n",
              "            '<a target=\"_blank\" href=https://colab.research.google.com/notebooks/data_table.ipynb>data table notebook</a>'\n",
              "            + ' to learn more about interactive tables.';\n",
              "          element.innerHTML = '';\n",
              "          dataTable['output_type'] = 'display_data';\n",
              "          await google.colab.output.renderOutput(dataTable, element);\n",
              "          const docLink = document.createElement('div');\n",
              "          docLink.innerHTML = docLinkHtml;\n",
              "          element.appendChild(docLink);\n",
              "        }\n",
              "      </script>\n",
              "    </div>\n",
              "  </div>\n",
              "  "
            ]
          },
          "metadata": {},
          "execution_count": 64
        }
      ],
      "source": [
        "train=pd.DataFrame(y_train)\n",
        "train['Predict_Train']=y_pred_dtc_train\n",
        "train"
      ]
    },
    {
      "cell_type": "markdown",
      "source": [
        "Menggunakan dataframe untuk melihat 10 hasil output prediksi dari data X_train yang merupakan data untuk membuat prediksi tersebut. Kemudian dibandingkan dengan data real dari y_train, yang menunjukkan terdapat 2 perbedaan hasil dari 10 data yang ditunjukkan."
      ],
      "metadata": {
        "id": "7AU94duY8QUk"
      }
    },
    {
      "cell_type": "code",
      "execution_count": null,
      "metadata": {
        "colab": {
          "base_uri": "https://localhost:8080/",
          "height": 423
        },
        "id": "Kvmn_rpttfbO",
        "outputId": "ed3db292-e014-4947-9648-e9d4f09bc42f"
      },
      "outputs": [
        {
          "output_type": "execute_result",
          "data": {
            "text/plain": [
              "        RainTomorrow  Predict_Test\n",
              "6116               0             0\n",
              "108066             0             0\n",
              "138980             0             0\n",
              "20435              0             0\n",
              "56985              0             0\n",
              "...              ...           ...\n",
              "100054             0             0\n",
              "134542             0             0\n",
              "113941             1             1\n",
              "113765             0             0\n",
              "6716               1             1\n",
              "\n",
              "[35911 rows x 2 columns]"
            ],
            "text/html": [
              "\n",
              "  <div id=\"df-d286e5bf-ba5c-4e27-b09f-e4e39b001726\">\n",
              "    <div class=\"colab-df-container\">\n",
              "      <div>\n",
              "<style scoped>\n",
              "    .dataframe tbody tr th:only-of-type {\n",
              "        vertical-align: middle;\n",
              "    }\n",
              "\n",
              "    .dataframe tbody tr th {\n",
              "        vertical-align: top;\n",
              "    }\n",
              "\n",
              "    .dataframe thead th {\n",
              "        text-align: right;\n",
              "    }\n",
              "</style>\n",
              "<table border=\"1\" class=\"dataframe\">\n",
              "  <thead>\n",
              "    <tr style=\"text-align: right;\">\n",
              "      <th></th>\n",
              "      <th>RainTomorrow</th>\n",
              "      <th>Predict_Test</th>\n",
              "    </tr>\n",
              "  </thead>\n",
              "  <tbody>\n",
              "    <tr>\n",
              "      <th>6116</th>\n",
              "      <td>0</td>\n",
              "      <td>0</td>\n",
              "    </tr>\n",
              "    <tr>\n",
              "      <th>108066</th>\n",
              "      <td>0</td>\n",
              "      <td>0</td>\n",
              "    </tr>\n",
              "    <tr>\n",
              "      <th>138980</th>\n",
              "      <td>0</td>\n",
              "      <td>0</td>\n",
              "    </tr>\n",
              "    <tr>\n",
              "      <th>20435</th>\n",
              "      <td>0</td>\n",
              "      <td>0</td>\n",
              "    </tr>\n",
              "    <tr>\n",
              "      <th>56985</th>\n",
              "      <td>0</td>\n",
              "      <td>0</td>\n",
              "    </tr>\n",
              "    <tr>\n",
              "      <th>...</th>\n",
              "      <td>...</td>\n",
              "      <td>...</td>\n",
              "    </tr>\n",
              "    <tr>\n",
              "      <th>100054</th>\n",
              "      <td>0</td>\n",
              "      <td>0</td>\n",
              "    </tr>\n",
              "    <tr>\n",
              "      <th>134542</th>\n",
              "      <td>0</td>\n",
              "      <td>0</td>\n",
              "    </tr>\n",
              "    <tr>\n",
              "      <th>113941</th>\n",
              "      <td>1</td>\n",
              "      <td>1</td>\n",
              "    </tr>\n",
              "    <tr>\n",
              "      <th>113765</th>\n",
              "      <td>0</td>\n",
              "      <td>0</td>\n",
              "    </tr>\n",
              "    <tr>\n",
              "      <th>6716</th>\n",
              "      <td>1</td>\n",
              "      <td>1</td>\n",
              "    </tr>\n",
              "  </tbody>\n",
              "</table>\n",
              "<p>35911 rows × 2 columns</p>\n",
              "</div>\n",
              "      <button class=\"colab-df-convert\" onclick=\"convertToInteractive('df-d286e5bf-ba5c-4e27-b09f-e4e39b001726')\"\n",
              "              title=\"Convert this dataframe to an interactive table.\"\n",
              "              style=\"display:none;\">\n",
              "        \n",
              "  <svg xmlns=\"http://www.w3.org/2000/svg\" height=\"24px\"viewBox=\"0 0 24 24\"\n",
              "       width=\"24px\">\n",
              "    <path d=\"M0 0h24v24H0V0z\" fill=\"none\"/>\n",
              "    <path d=\"M18.56 5.44l.94 2.06.94-2.06 2.06-.94-2.06-.94-.94-2.06-.94 2.06-2.06.94zm-11 1L8.5 8.5l.94-2.06 2.06-.94-2.06-.94L8.5 2.5l-.94 2.06-2.06.94zm10 10l.94 2.06.94-2.06 2.06-.94-2.06-.94-.94-2.06-.94 2.06-2.06.94z\"/><path d=\"M17.41 7.96l-1.37-1.37c-.4-.4-.92-.59-1.43-.59-.52 0-1.04.2-1.43.59L10.3 9.45l-7.72 7.72c-.78.78-.78 2.05 0 2.83L4 21.41c.39.39.9.59 1.41.59.51 0 1.02-.2 1.41-.59l7.78-7.78 2.81-2.81c.8-.78.8-2.07 0-2.86zM5.41 20L4 18.59l7.72-7.72 1.47 1.35L5.41 20z\"/>\n",
              "  </svg>\n",
              "      </button>\n",
              "      \n",
              "  <style>\n",
              "    .colab-df-container {\n",
              "      display:flex;\n",
              "      flex-wrap:wrap;\n",
              "      gap: 12px;\n",
              "    }\n",
              "\n",
              "    .colab-df-convert {\n",
              "      background-color: #E8F0FE;\n",
              "      border: none;\n",
              "      border-radius: 50%;\n",
              "      cursor: pointer;\n",
              "      display: none;\n",
              "      fill: #1967D2;\n",
              "      height: 32px;\n",
              "      padding: 0 0 0 0;\n",
              "      width: 32px;\n",
              "    }\n",
              "\n",
              "    .colab-df-convert:hover {\n",
              "      background-color: #E2EBFA;\n",
              "      box-shadow: 0px 1px 2px rgba(60, 64, 67, 0.3), 0px 1px 3px 1px rgba(60, 64, 67, 0.15);\n",
              "      fill: #174EA6;\n",
              "    }\n",
              "\n",
              "    [theme=dark] .colab-df-convert {\n",
              "      background-color: #3B4455;\n",
              "      fill: #D2E3FC;\n",
              "    }\n",
              "\n",
              "    [theme=dark] .colab-df-convert:hover {\n",
              "      background-color: #434B5C;\n",
              "      box-shadow: 0px 1px 3px 1px rgba(0, 0, 0, 0.15);\n",
              "      filter: drop-shadow(0px 1px 2px rgba(0, 0, 0, 0.3));\n",
              "      fill: #FFFFFF;\n",
              "    }\n",
              "  </style>\n",
              "\n",
              "      <script>\n",
              "        const buttonEl =\n",
              "          document.querySelector('#df-d286e5bf-ba5c-4e27-b09f-e4e39b001726 button.colab-df-convert');\n",
              "        buttonEl.style.display =\n",
              "          google.colab.kernel.accessAllowed ? 'block' : 'none';\n",
              "\n",
              "        async function convertToInteractive(key) {\n",
              "          const element = document.querySelector('#df-d286e5bf-ba5c-4e27-b09f-e4e39b001726');\n",
              "          const dataTable =\n",
              "            await google.colab.kernel.invokeFunction('convertToInteractive',\n",
              "                                                     [key], {});\n",
              "          if (!dataTable) return;\n",
              "\n",
              "          const docLinkHtml = 'Like what you see? Visit the ' +\n",
              "            '<a target=\"_blank\" href=https://colab.research.google.com/notebooks/data_table.ipynb>data table notebook</a>'\n",
              "            + ' to learn more about interactive tables.';\n",
              "          element.innerHTML = '';\n",
              "          dataTable['output_type'] = 'display_data';\n",
              "          await google.colab.output.renderOutput(dataTable, element);\n",
              "          const docLink = document.createElement('div');\n",
              "          docLink.innerHTML = docLinkHtml;\n",
              "          element.appendChild(docLink);\n",
              "        }\n",
              "      </script>\n",
              "    </div>\n",
              "  </div>\n",
              "  "
            ]
          },
          "metadata": {},
          "execution_count": 65
        }
      ],
      "source": [
        "test=pd.DataFrame(y_test)\n",
        "test['Predict_Test']=y_pred_dtc_test\n",
        "test"
      ]
    },
    {
      "cell_type": "markdown",
      "source": [
        "Menggunakan dataframe untuk melihat 10 hasil output prediksi dari data X_test. Kemudian dibandingkan dengan data real dari y_test, yang menunjukkan hasil dari 10 data sama."
      ],
      "metadata": {
        "id": "rz6a1ux28RGR"
      }
    },
    {
      "cell_type": "markdown",
      "metadata": {
        "id": "LMSBntwLC1c5"
      },
      "source": [
        "## Random Forest"
      ]
    },
    {
      "cell_type": "code",
      "execution_count": null,
      "metadata": {
        "colab": {
          "base_uri": "https://localhost:8080/"
        },
        "id": "8XAKU-_vwm-2",
        "outputId": "789c7b97-186e-4f2e-af3f-2e625cdc6e93"
      },
      "outputs": [
        {
          "output_type": "stream",
          "name": "stdout",
          "text": [
            "Hasil tuning parameter adalah {'max_depth': 16, 'max_features': 'log2', 'min_samples_leaf': 2, 'min_samples_split': 8, 'n_estimators': 110}\n"
          ]
        }
      ],
      "source": [
        "# param_grid = {\n",
        "#     'n_estimators':[100,110,120],\n",
        "#     'max_depth':[14,16,18],\n",
        "#     'min_samples_split':[6,8,10],\n",
        "#     'min_samples_leaf':[1,2,4],\n",
        "#     'max_features': ['log2']\n",
        "# }\n",
        "\n",
        "# grid_search = GridSearchCV(rfc, param_grid, cv=5)\n",
        "# grid_search.fit(X_train, y_train)\n",
        "# print(grid_search.best_params_)\n",
        "\n",
        "#proses running cukup lama disarankan untuk menonaktifkan\n",
        "print(\"Hasil tuning parameter adalah {'max_depth': 16, 'max_features': 'log2', 'min_samples_leaf': 2, 'min_samples_split': 8, 'n_estimators': 110}\")"
      ]
    },
    {
      "cell_type": "markdown",
      "source": [
        "Dilakukan hyperparameter tuning untuk Random Forest Classifier didapatkan parameter terbaik adalah {'max_depth': 16, 'max_features': 'log2', 'min_samples_leaf': 2, 'min_samples_split': 8, 'n_estimators': 110}"
      ],
      "metadata": {
        "id": "JPIcuXfV8RzP"
      }
    },
    {
      "cell_type": "code",
      "execution_count": null,
      "metadata": {
        "id": "B_646dGZxJde"
      },
      "outputs": [],
      "source": [
        "rfc = RandomForestClassifier(n_estimators= 110,max_depth= 16,min_samples_split=8 ,min_samples_leaf= 2,max_features= 'log2' )"
      ]
    },
    {
      "cell_type": "markdown",
      "source": [
        "Dilakukan pendefinisian ulang model Random Forest Classifier dengan memasukkan parameter terbaik yang didapatkan dari tuning"
      ],
      "metadata": {
        "id": "QT8Bi0ci8SX8"
      }
    },
    {
      "cell_type": "code",
      "execution_count": null,
      "metadata": {
        "id": "0CK9Dh7OC3FE"
      },
      "outputs": [],
      "source": [
        "model_rfc = rfc.fit(X_train,y_train)\n",
        "y_pred_rfc_train=model_rfc.predict(X_train)\n",
        "y_pred_rfc_test=model_rfc.predict(X_test)"
      ]
    },
    {
      "cell_type": "markdown",
      "source": [
        "Melatih model Random Forest Classifier dengan variabel independen X_train dan target atau variabel dependen y_train, kemudian dilakukan prediksi target dari variabel X_train dan X_test"
      ],
      "metadata": {
        "id": "xNKnIJvM8S2Z"
      }
    },
    {
      "cell_type": "code",
      "execution_count": null,
      "metadata": {
        "id": "RTLfgW3mt1UX",
        "colab": {
          "base_uri": "https://localhost:8080/",
          "height": 423
        },
        "outputId": "68833c6d-a623-4019-a00d-53323caaf3c2"
      },
      "outputs": [
        {
          "output_type": "execute_result",
          "data": {
            "text/plain": [
              "        RainTomorrow  Predict_Train\n",
              "122980             0              0\n",
              "133385             1              1\n",
              "2182               0              0\n",
              "91402              0              0\n",
              "94239              0              0\n",
              "...              ...            ...\n",
              "59510              1              1\n",
              "142895             0              0\n",
              "56138              1              1\n",
              "57110              0              0\n",
              "83489              0              0\n",
              "\n",
              "[83791 rows x 2 columns]"
            ],
            "text/html": [
              "\n",
              "  <div id=\"df-32496917-ebd4-40d6-b97d-18507bffb09b\">\n",
              "    <div class=\"colab-df-container\">\n",
              "      <div>\n",
              "<style scoped>\n",
              "    .dataframe tbody tr th:only-of-type {\n",
              "        vertical-align: middle;\n",
              "    }\n",
              "\n",
              "    .dataframe tbody tr th {\n",
              "        vertical-align: top;\n",
              "    }\n",
              "\n",
              "    .dataframe thead th {\n",
              "        text-align: right;\n",
              "    }\n",
              "</style>\n",
              "<table border=\"1\" class=\"dataframe\">\n",
              "  <thead>\n",
              "    <tr style=\"text-align: right;\">\n",
              "      <th></th>\n",
              "      <th>RainTomorrow</th>\n",
              "      <th>Predict_Train</th>\n",
              "    </tr>\n",
              "  </thead>\n",
              "  <tbody>\n",
              "    <tr>\n",
              "      <th>122980</th>\n",
              "      <td>0</td>\n",
              "      <td>0</td>\n",
              "    </tr>\n",
              "    <tr>\n",
              "      <th>133385</th>\n",
              "      <td>1</td>\n",
              "      <td>1</td>\n",
              "    </tr>\n",
              "    <tr>\n",
              "      <th>2182</th>\n",
              "      <td>0</td>\n",
              "      <td>0</td>\n",
              "    </tr>\n",
              "    <tr>\n",
              "      <th>91402</th>\n",
              "      <td>0</td>\n",
              "      <td>0</td>\n",
              "    </tr>\n",
              "    <tr>\n",
              "      <th>94239</th>\n",
              "      <td>0</td>\n",
              "      <td>0</td>\n",
              "    </tr>\n",
              "    <tr>\n",
              "      <th>...</th>\n",
              "      <td>...</td>\n",
              "      <td>...</td>\n",
              "    </tr>\n",
              "    <tr>\n",
              "      <th>59510</th>\n",
              "      <td>1</td>\n",
              "      <td>1</td>\n",
              "    </tr>\n",
              "    <tr>\n",
              "      <th>142895</th>\n",
              "      <td>0</td>\n",
              "      <td>0</td>\n",
              "    </tr>\n",
              "    <tr>\n",
              "      <th>56138</th>\n",
              "      <td>1</td>\n",
              "      <td>1</td>\n",
              "    </tr>\n",
              "    <tr>\n",
              "      <th>57110</th>\n",
              "      <td>0</td>\n",
              "      <td>0</td>\n",
              "    </tr>\n",
              "    <tr>\n",
              "      <th>83489</th>\n",
              "      <td>0</td>\n",
              "      <td>0</td>\n",
              "    </tr>\n",
              "  </tbody>\n",
              "</table>\n",
              "<p>83791 rows × 2 columns</p>\n",
              "</div>\n",
              "      <button class=\"colab-df-convert\" onclick=\"convertToInteractive('df-32496917-ebd4-40d6-b97d-18507bffb09b')\"\n",
              "              title=\"Convert this dataframe to an interactive table.\"\n",
              "              style=\"display:none;\">\n",
              "        \n",
              "  <svg xmlns=\"http://www.w3.org/2000/svg\" height=\"24px\"viewBox=\"0 0 24 24\"\n",
              "       width=\"24px\">\n",
              "    <path d=\"M0 0h24v24H0V0z\" fill=\"none\"/>\n",
              "    <path d=\"M18.56 5.44l.94 2.06.94-2.06 2.06-.94-2.06-.94-.94-2.06-.94 2.06-2.06.94zm-11 1L8.5 8.5l.94-2.06 2.06-.94-2.06-.94L8.5 2.5l-.94 2.06-2.06.94zm10 10l.94 2.06.94-2.06 2.06-.94-2.06-.94-.94-2.06-.94 2.06-2.06.94z\"/><path d=\"M17.41 7.96l-1.37-1.37c-.4-.4-.92-.59-1.43-.59-.52 0-1.04.2-1.43.59L10.3 9.45l-7.72 7.72c-.78.78-.78 2.05 0 2.83L4 21.41c.39.39.9.59 1.41.59.51 0 1.02-.2 1.41-.59l7.78-7.78 2.81-2.81c.8-.78.8-2.07 0-2.86zM5.41 20L4 18.59l7.72-7.72 1.47 1.35L5.41 20z\"/>\n",
              "  </svg>\n",
              "      </button>\n",
              "      \n",
              "  <style>\n",
              "    .colab-df-container {\n",
              "      display:flex;\n",
              "      flex-wrap:wrap;\n",
              "      gap: 12px;\n",
              "    }\n",
              "\n",
              "    .colab-df-convert {\n",
              "      background-color: #E8F0FE;\n",
              "      border: none;\n",
              "      border-radius: 50%;\n",
              "      cursor: pointer;\n",
              "      display: none;\n",
              "      fill: #1967D2;\n",
              "      height: 32px;\n",
              "      padding: 0 0 0 0;\n",
              "      width: 32px;\n",
              "    }\n",
              "\n",
              "    .colab-df-convert:hover {\n",
              "      background-color: #E2EBFA;\n",
              "      box-shadow: 0px 1px 2px rgba(60, 64, 67, 0.3), 0px 1px 3px 1px rgba(60, 64, 67, 0.15);\n",
              "      fill: #174EA6;\n",
              "    }\n",
              "\n",
              "    [theme=dark] .colab-df-convert {\n",
              "      background-color: #3B4455;\n",
              "      fill: #D2E3FC;\n",
              "    }\n",
              "\n",
              "    [theme=dark] .colab-df-convert:hover {\n",
              "      background-color: #434B5C;\n",
              "      box-shadow: 0px 1px 3px 1px rgba(0, 0, 0, 0.15);\n",
              "      filter: drop-shadow(0px 1px 2px rgba(0, 0, 0, 0.3));\n",
              "      fill: #FFFFFF;\n",
              "    }\n",
              "  </style>\n",
              "\n",
              "      <script>\n",
              "        const buttonEl =\n",
              "          document.querySelector('#df-32496917-ebd4-40d6-b97d-18507bffb09b button.colab-df-convert');\n",
              "        buttonEl.style.display =\n",
              "          google.colab.kernel.accessAllowed ? 'block' : 'none';\n",
              "\n",
              "        async function convertToInteractive(key) {\n",
              "          const element = document.querySelector('#df-32496917-ebd4-40d6-b97d-18507bffb09b');\n",
              "          const dataTable =\n",
              "            await google.colab.kernel.invokeFunction('convertToInteractive',\n",
              "                                                     [key], {});\n",
              "          if (!dataTable) return;\n",
              "\n",
              "          const docLinkHtml = 'Like what you see? Visit the ' +\n",
              "            '<a target=\"_blank\" href=https://colab.research.google.com/notebooks/data_table.ipynb>data table notebook</a>'\n",
              "            + ' to learn more about interactive tables.';\n",
              "          element.innerHTML = '';\n",
              "          dataTable['output_type'] = 'display_data';\n",
              "          await google.colab.output.renderOutput(dataTable, element);\n",
              "          const docLink = document.createElement('div');\n",
              "          docLink.innerHTML = docLinkHtml;\n",
              "          element.appendChild(docLink);\n",
              "        }\n",
              "      </script>\n",
              "    </div>\n",
              "  </div>\n",
              "  "
            ]
          },
          "metadata": {},
          "execution_count": 69
        }
      ],
      "source": [
        "train=pd.DataFrame(y_train)\n",
        "train['Predict_Train']=y_pred_rfc_train\n",
        "train"
      ]
    },
    {
      "cell_type": "markdown",
      "source": [
        "Menggunakan dataframe untuk melihat 10 hasil output prediksi dari data X_train yang merupakan data untuk membuat prediksi tersebut. Kemudian dibandingkan dengan data real dari y_train, yang menunjukkan hasil dari 10 data sama."
      ],
      "metadata": {
        "id": "TzPai11w8TcL"
      }
    },
    {
      "cell_type": "code",
      "execution_count": null,
      "metadata": {
        "id": "hRZnbqZGt07m",
        "colab": {
          "base_uri": "https://localhost:8080/",
          "height": 423
        },
        "outputId": "55e49bb9-0b5e-48bb-bf0e-c80d53d0edb0"
      },
      "outputs": [
        {
          "output_type": "execute_result",
          "data": {
            "text/plain": [
              "        RainTomorrow  Predict_Test\n",
              "6116               0             0\n",
              "108066             0             0\n",
              "138980             0             0\n",
              "20435              0             0\n",
              "56985              0             0\n",
              "...              ...           ...\n",
              "100054             0             0\n",
              "134542             0             0\n",
              "113941             1             1\n",
              "113765             0             0\n",
              "6716               1             1\n",
              "\n",
              "[35911 rows x 2 columns]"
            ],
            "text/html": [
              "\n",
              "  <div id=\"df-dd9a4e84-0056-4a4c-b71b-ae2bb63dd2f3\">\n",
              "    <div class=\"colab-df-container\">\n",
              "      <div>\n",
              "<style scoped>\n",
              "    .dataframe tbody tr th:only-of-type {\n",
              "        vertical-align: middle;\n",
              "    }\n",
              "\n",
              "    .dataframe tbody tr th {\n",
              "        vertical-align: top;\n",
              "    }\n",
              "\n",
              "    .dataframe thead th {\n",
              "        text-align: right;\n",
              "    }\n",
              "</style>\n",
              "<table border=\"1\" class=\"dataframe\">\n",
              "  <thead>\n",
              "    <tr style=\"text-align: right;\">\n",
              "      <th></th>\n",
              "      <th>RainTomorrow</th>\n",
              "      <th>Predict_Test</th>\n",
              "    </tr>\n",
              "  </thead>\n",
              "  <tbody>\n",
              "    <tr>\n",
              "      <th>6116</th>\n",
              "      <td>0</td>\n",
              "      <td>0</td>\n",
              "    </tr>\n",
              "    <tr>\n",
              "      <th>108066</th>\n",
              "      <td>0</td>\n",
              "      <td>0</td>\n",
              "    </tr>\n",
              "    <tr>\n",
              "      <th>138980</th>\n",
              "      <td>0</td>\n",
              "      <td>0</td>\n",
              "    </tr>\n",
              "    <tr>\n",
              "      <th>20435</th>\n",
              "      <td>0</td>\n",
              "      <td>0</td>\n",
              "    </tr>\n",
              "    <tr>\n",
              "      <th>56985</th>\n",
              "      <td>0</td>\n",
              "      <td>0</td>\n",
              "    </tr>\n",
              "    <tr>\n",
              "      <th>...</th>\n",
              "      <td>...</td>\n",
              "      <td>...</td>\n",
              "    </tr>\n",
              "    <tr>\n",
              "      <th>100054</th>\n",
              "      <td>0</td>\n",
              "      <td>0</td>\n",
              "    </tr>\n",
              "    <tr>\n",
              "      <th>134542</th>\n",
              "      <td>0</td>\n",
              "      <td>0</td>\n",
              "    </tr>\n",
              "    <tr>\n",
              "      <th>113941</th>\n",
              "      <td>1</td>\n",
              "      <td>1</td>\n",
              "    </tr>\n",
              "    <tr>\n",
              "      <th>113765</th>\n",
              "      <td>0</td>\n",
              "      <td>0</td>\n",
              "    </tr>\n",
              "    <tr>\n",
              "      <th>6716</th>\n",
              "      <td>1</td>\n",
              "      <td>1</td>\n",
              "    </tr>\n",
              "  </tbody>\n",
              "</table>\n",
              "<p>35911 rows × 2 columns</p>\n",
              "</div>\n",
              "      <button class=\"colab-df-convert\" onclick=\"convertToInteractive('df-dd9a4e84-0056-4a4c-b71b-ae2bb63dd2f3')\"\n",
              "              title=\"Convert this dataframe to an interactive table.\"\n",
              "              style=\"display:none;\">\n",
              "        \n",
              "  <svg xmlns=\"http://www.w3.org/2000/svg\" height=\"24px\"viewBox=\"0 0 24 24\"\n",
              "       width=\"24px\">\n",
              "    <path d=\"M0 0h24v24H0V0z\" fill=\"none\"/>\n",
              "    <path d=\"M18.56 5.44l.94 2.06.94-2.06 2.06-.94-2.06-.94-.94-2.06-.94 2.06-2.06.94zm-11 1L8.5 8.5l.94-2.06 2.06-.94-2.06-.94L8.5 2.5l-.94 2.06-2.06.94zm10 10l.94 2.06.94-2.06 2.06-.94-2.06-.94-.94-2.06-.94 2.06-2.06.94z\"/><path d=\"M17.41 7.96l-1.37-1.37c-.4-.4-.92-.59-1.43-.59-.52 0-1.04.2-1.43.59L10.3 9.45l-7.72 7.72c-.78.78-.78 2.05 0 2.83L4 21.41c.39.39.9.59 1.41.59.51 0 1.02-.2 1.41-.59l7.78-7.78 2.81-2.81c.8-.78.8-2.07 0-2.86zM5.41 20L4 18.59l7.72-7.72 1.47 1.35L5.41 20z\"/>\n",
              "  </svg>\n",
              "      </button>\n",
              "      \n",
              "  <style>\n",
              "    .colab-df-container {\n",
              "      display:flex;\n",
              "      flex-wrap:wrap;\n",
              "      gap: 12px;\n",
              "    }\n",
              "\n",
              "    .colab-df-convert {\n",
              "      background-color: #E8F0FE;\n",
              "      border: none;\n",
              "      border-radius: 50%;\n",
              "      cursor: pointer;\n",
              "      display: none;\n",
              "      fill: #1967D2;\n",
              "      height: 32px;\n",
              "      padding: 0 0 0 0;\n",
              "      width: 32px;\n",
              "    }\n",
              "\n",
              "    .colab-df-convert:hover {\n",
              "      background-color: #E2EBFA;\n",
              "      box-shadow: 0px 1px 2px rgba(60, 64, 67, 0.3), 0px 1px 3px 1px rgba(60, 64, 67, 0.15);\n",
              "      fill: #174EA6;\n",
              "    }\n",
              "\n",
              "    [theme=dark] .colab-df-convert {\n",
              "      background-color: #3B4455;\n",
              "      fill: #D2E3FC;\n",
              "    }\n",
              "\n",
              "    [theme=dark] .colab-df-convert:hover {\n",
              "      background-color: #434B5C;\n",
              "      box-shadow: 0px 1px 3px 1px rgba(0, 0, 0, 0.15);\n",
              "      filter: drop-shadow(0px 1px 2px rgba(0, 0, 0, 0.3));\n",
              "      fill: #FFFFFF;\n",
              "    }\n",
              "  </style>\n",
              "\n",
              "      <script>\n",
              "        const buttonEl =\n",
              "          document.querySelector('#df-dd9a4e84-0056-4a4c-b71b-ae2bb63dd2f3 button.colab-df-convert');\n",
              "        buttonEl.style.display =\n",
              "          google.colab.kernel.accessAllowed ? 'block' : 'none';\n",
              "\n",
              "        async function convertToInteractive(key) {\n",
              "          const element = document.querySelector('#df-dd9a4e84-0056-4a4c-b71b-ae2bb63dd2f3');\n",
              "          const dataTable =\n",
              "            await google.colab.kernel.invokeFunction('convertToInteractive',\n",
              "                                                     [key], {});\n",
              "          if (!dataTable) return;\n",
              "\n",
              "          const docLinkHtml = 'Like what you see? Visit the ' +\n",
              "            '<a target=\"_blank\" href=https://colab.research.google.com/notebooks/data_table.ipynb>data table notebook</a>'\n",
              "            + ' to learn more about interactive tables.';\n",
              "          element.innerHTML = '';\n",
              "          dataTable['output_type'] = 'display_data';\n",
              "          await google.colab.output.renderOutput(dataTable, element);\n",
              "          const docLink = document.createElement('div');\n",
              "          docLink.innerHTML = docLinkHtml;\n",
              "          element.appendChild(docLink);\n",
              "        }\n",
              "      </script>\n",
              "    </div>\n",
              "  </div>\n",
              "  "
            ]
          },
          "metadata": {},
          "execution_count": 70
        }
      ],
      "source": [
        "test=pd.DataFrame(y_test)\n",
        "test['Predict_Test']=y_pred_rfc_test\n",
        "test"
      ]
    },
    {
      "cell_type": "markdown",
      "source": [
        "Menggunakan dataframe untuk melihat 10 hasil output prediksi dari data X_test. Kemudian dibandingkan dengan data real dari y_test, yang menunjukkan hasil dari 10 data sama."
      ],
      "metadata": {
        "id": "aZNAtfrg8UMP"
      }
    },
    {
      "cell_type": "markdown",
      "metadata": {
        "id": "X079mhKaDCPz"
      },
      "source": [
        "## Naive Bayes"
      ]
    },
    {
      "cell_type": "code",
      "execution_count": null,
      "metadata": {
        "id": "jv9pBP0NuyqB",
        "colab": {
          "base_uri": "https://localhost:8080/"
        },
        "outputId": "07423956-5481-40b0-bcf2-8b8c7a3f4c39"
      },
      "outputs": [
        {
          "output_type": "stream",
          "name": "stdout",
          "text": [
            "{'var_smoothing': 1e-20}\n"
          ]
        }
      ],
      "source": [
        "param_grid={\n",
        "    'var_smoothing':[1e-20,1e-15,1e-10]\n",
        "}\n",
        "\n",
        "grid_search = GridSearchCV(nb, param_grid, cv=5)\n",
        "grid_search.fit(X_train, y_train)\n",
        "print(grid_search.best_params_)"
      ]
    },
    {
      "cell_type": "markdown",
      "source": [
        "Dilakukan hyperparameter tuning untuk Naive Bayes didapatkan parameter terbaik adalah {'var_smoothing': 1e-20}"
      ],
      "metadata": {
        "id": "2opzHFC98U5u"
      }
    },
    {
      "cell_type": "code",
      "execution_count": null,
      "metadata": {
        "id": "Mbw6jMkJv0tP"
      },
      "outputs": [],
      "source": [
        "nb = GaussianNB(var_smoothing=1e-20)"
      ]
    },
    {
      "cell_type": "markdown",
      "source": [
        "Dilakukan pendefinisian ulang model Naive Bayes dengan memasukkan parameter terbaik yang didapatkan dari tuning"
      ],
      "metadata": {
        "id": "yqtwRdlZ8VXZ"
      }
    },
    {
      "cell_type": "code",
      "execution_count": null,
      "metadata": {
        "id": "_anl5QGYuQsx"
      },
      "outputs": [],
      "source": [
        "model_nb = nb.fit(X_train,y_train)\n",
        "y_pred_nb_train=model_nb.predict(X_train)\n",
        "y_pred_nb_test=model_nb.predict(X_test)"
      ]
    },
    {
      "cell_type": "markdown",
      "source": [
        "Melatih model Naive Bayes dengan variabel independen X_train dan target atau variabel dependen y_train, kemudian dilakukan prediksi target dari variabel X_train dan X_test"
      ],
      "metadata": {
        "id": "RiN3CriS8V3p"
      }
    },
    {
      "cell_type": "code",
      "execution_count": null,
      "metadata": {
        "id": "Dv8sWkeouMLA",
        "colab": {
          "base_uri": "https://localhost:8080/",
          "height": 423
        },
        "outputId": "06fc271c-cd46-4506-e0cf-3dd6c6d23bfd"
      },
      "outputs": [
        {
          "output_type": "execute_result",
          "data": {
            "text/plain": [
              "        RainTomorrow  Predict_Train\n",
              "122980             0              0\n",
              "133385             1              1\n",
              "2182               0              0\n",
              "91402              0              0\n",
              "94239              0              0\n",
              "...              ...            ...\n",
              "59510              1              1\n",
              "142895             0              0\n",
              "56138              1              1\n",
              "57110              0              0\n",
              "83489              0              0\n",
              "\n",
              "[83791 rows x 2 columns]"
            ],
            "text/html": [
              "\n",
              "  <div id=\"df-2a574979-5b19-47d9-9986-d5e15865a557\">\n",
              "    <div class=\"colab-df-container\">\n",
              "      <div>\n",
              "<style scoped>\n",
              "    .dataframe tbody tr th:only-of-type {\n",
              "        vertical-align: middle;\n",
              "    }\n",
              "\n",
              "    .dataframe tbody tr th {\n",
              "        vertical-align: top;\n",
              "    }\n",
              "\n",
              "    .dataframe thead th {\n",
              "        text-align: right;\n",
              "    }\n",
              "</style>\n",
              "<table border=\"1\" class=\"dataframe\">\n",
              "  <thead>\n",
              "    <tr style=\"text-align: right;\">\n",
              "      <th></th>\n",
              "      <th>RainTomorrow</th>\n",
              "      <th>Predict_Train</th>\n",
              "    </tr>\n",
              "  </thead>\n",
              "  <tbody>\n",
              "    <tr>\n",
              "      <th>122980</th>\n",
              "      <td>0</td>\n",
              "      <td>0</td>\n",
              "    </tr>\n",
              "    <tr>\n",
              "      <th>133385</th>\n",
              "      <td>1</td>\n",
              "      <td>1</td>\n",
              "    </tr>\n",
              "    <tr>\n",
              "      <th>2182</th>\n",
              "      <td>0</td>\n",
              "      <td>0</td>\n",
              "    </tr>\n",
              "    <tr>\n",
              "      <th>91402</th>\n",
              "      <td>0</td>\n",
              "      <td>0</td>\n",
              "    </tr>\n",
              "    <tr>\n",
              "      <th>94239</th>\n",
              "      <td>0</td>\n",
              "      <td>0</td>\n",
              "    </tr>\n",
              "    <tr>\n",
              "      <th>...</th>\n",
              "      <td>...</td>\n",
              "      <td>...</td>\n",
              "    </tr>\n",
              "    <tr>\n",
              "      <th>59510</th>\n",
              "      <td>1</td>\n",
              "      <td>1</td>\n",
              "    </tr>\n",
              "    <tr>\n",
              "      <th>142895</th>\n",
              "      <td>0</td>\n",
              "      <td>0</td>\n",
              "    </tr>\n",
              "    <tr>\n",
              "      <th>56138</th>\n",
              "      <td>1</td>\n",
              "      <td>1</td>\n",
              "    </tr>\n",
              "    <tr>\n",
              "      <th>57110</th>\n",
              "      <td>0</td>\n",
              "      <td>0</td>\n",
              "    </tr>\n",
              "    <tr>\n",
              "      <th>83489</th>\n",
              "      <td>0</td>\n",
              "      <td>0</td>\n",
              "    </tr>\n",
              "  </tbody>\n",
              "</table>\n",
              "<p>83791 rows × 2 columns</p>\n",
              "</div>\n",
              "      <button class=\"colab-df-convert\" onclick=\"convertToInteractive('df-2a574979-5b19-47d9-9986-d5e15865a557')\"\n",
              "              title=\"Convert this dataframe to an interactive table.\"\n",
              "              style=\"display:none;\">\n",
              "        \n",
              "  <svg xmlns=\"http://www.w3.org/2000/svg\" height=\"24px\"viewBox=\"0 0 24 24\"\n",
              "       width=\"24px\">\n",
              "    <path d=\"M0 0h24v24H0V0z\" fill=\"none\"/>\n",
              "    <path d=\"M18.56 5.44l.94 2.06.94-2.06 2.06-.94-2.06-.94-.94-2.06-.94 2.06-2.06.94zm-11 1L8.5 8.5l.94-2.06 2.06-.94-2.06-.94L8.5 2.5l-.94 2.06-2.06.94zm10 10l.94 2.06.94-2.06 2.06-.94-2.06-.94-.94-2.06-.94 2.06-2.06.94z\"/><path d=\"M17.41 7.96l-1.37-1.37c-.4-.4-.92-.59-1.43-.59-.52 0-1.04.2-1.43.59L10.3 9.45l-7.72 7.72c-.78.78-.78 2.05 0 2.83L4 21.41c.39.39.9.59 1.41.59.51 0 1.02-.2 1.41-.59l7.78-7.78 2.81-2.81c.8-.78.8-2.07 0-2.86zM5.41 20L4 18.59l7.72-7.72 1.47 1.35L5.41 20z\"/>\n",
              "  </svg>\n",
              "      </button>\n",
              "      \n",
              "  <style>\n",
              "    .colab-df-container {\n",
              "      display:flex;\n",
              "      flex-wrap:wrap;\n",
              "      gap: 12px;\n",
              "    }\n",
              "\n",
              "    .colab-df-convert {\n",
              "      background-color: #E8F0FE;\n",
              "      border: none;\n",
              "      border-radius: 50%;\n",
              "      cursor: pointer;\n",
              "      display: none;\n",
              "      fill: #1967D2;\n",
              "      height: 32px;\n",
              "      padding: 0 0 0 0;\n",
              "      width: 32px;\n",
              "    }\n",
              "\n",
              "    .colab-df-convert:hover {\n",
              "      background-color: #E2EBFA;\n",
              "      box-shadow: 0px 1px 2px rgba(60, 64, 67, 0.3), 0px 1px 3px 1px rgba(60, 64, 67, 0.15);\n",
              "      fill: #174EA6;\n",
              "    }\n",
              "\n",
              "    [theme=dark] .colab-df-convert {\n",
              "      background-color: #3B4455;\n",
              "      fill: #D2E3FC;\n",
              "    }\n",
              "\n",
              "    [theme=dark] .colab-df-convert:hover {\n",
              "      background-color: #434B5C;\n",
              "      box-shadow: 0px 1px 3px 1px rgba(0, 0, 0, 0.15);\n",
              "      filter: drop-shadow(0px 1px 2px rgba(0, 0, 0, 0.3));\n",
              "      fill: #FFFFFF;\n",
              "    }\n",
              "  </style>\n",
              "\n",
              "      <script>\n",
              "        const buttonEl =\n",
              "          document.querySelector('#df-2a574979-5b19-47d9-9986-d5e15865a557 button.colab-df-convert');\n",
              "        buttonEl.style.display =\n",
              "          google.colab.kernel.accessAllowed ? 'block' : 'none';\n",
              "\n",
              "        async function convertToInteractive(key) {\n",
              "          const element = document.querySelector('#df-2a574979-5b19-47d9-9986-d5e15865a557');\n",
              "          const dataTable =\n",
              "            await google.colab.kernel.invokeFunction('convertToInteractive',\n",
              "                                                     [key], {});\n",
              "          if (!dataTable) return;\n",
              "\n",
              "          const docLinkHtml = 'Like what you see? Visit the ' +\n",
              "            '<a target=\"_blank\" href=https://colab.research.google.com/notebooks/data_table.ipynb>data table notebook</a>'\n",
              "            + ' to learn more about interactive tables.';\n",
              "          element.innerHTML = '';\n",
              "          dataTable['output_type'] = 'display_data';\n",
              "          await google.colab.output.renderOutput(dataTable, element);\n",
              "          const docLink = document.createElement('div');\n",
              "          docLink.innerHTML = docLinkHtml;\n",
              "          element.appendChild(docLink);\n",
              "        }\n",
              "      </script>\n",
              "    </div>\n",
              "  </div>\n",
              "  "
            ]
          },
          "metadata": {},
          "execution_count": 74
        }
      ],
      "source": [
        "train=pd.DataFrame(y_train)\n",
        "train['Predict_Train']=y_pred_nb_train\n",
        "train"
      ]
    },
    {
      "cell_type": "markdown",
      "source": [
        "Menggunakan dataframe untuk melihat 10 hasil output prediksi dari data X_train yang merupakan data untuk membuat prediksi tersebut. Kemudian dibandingkan dengan data real dari y_train, yang menunjukkan hasil dari 10 data sama."
      ],
      "metadata": {
        "id": "OinveqwQ8Wo2"
      }
    },
    {
      "cell_type": "code",
      "execution_count": null,
      "metadata": {
        "id": "5Ol36pa3DDNY",
        "colab": {
          "base_uri": "https://localhost:8080/",
          "height": 423
        },
        "outputId": "0385c2fb-6c71-4234-cf53-a10e52e21618"
      },
      "outputs": [
        {
          "output_type": "execute_result",
          "data": {
            "text/plain": [
              "        RainTomorrow  Predict_Test\n",
              "6116               0             0\n",
              "108066             0             0\n",
              "138980             0             0\n",
              "20435              0             0\n",
              "56985              0             0\n",
              "...              ...           ...\n",
              "100054             0             0\n",
              "134542             0             0\n",
              "113941             1             1\n",
              "113765             0             0\n",
              "6716               1             1\n",
              "\n",
              "[35911 rows x 2 columns]"
            ],
            "text/html": [
              "\n",
              "  <div id=\"df-e0e17da5-ffd1-4389-8d58-6bb131bd8f21\">\n",
              "    <div class=\"colab-df-container\">\n",
              "      <div>\n",
              "<style scoped>\n",
              "    .dataframe tbody tr th:only-of-type {\n",
              "        vertical-align: middle;\n",
              "    }\n",
              "\n",
              "    .dataframe tbody tr th {\n",
              "        vertical-align: top;\n",
              "    }\n",
              "\n",
              "    .dataframe thead th {\n",
              "        text-align: right;\n",
              "    }\n",
              "</style>\n",
              "<table border=\"1\" class=\"dataframe\">\n",
              "  <thead>\n",
              "    <tr style=\"text-align: right;\">\n",
              "      <th></th>\n",
              "      <th>RainTomorrow</th>\n",
              "      <th>Predict_Test</th>\n",
              "    </tr>\n",
              "  </thead>\n",
              "  <tbody>\n",
              "    <tr>\n",
              "      <th>6116</th>\n",
              "      <td>0</td>\n",
              "      <td>0</td>\n",
              "    </tr>\n",
              "    <tr>\n",
              "      <th>108066</th>\n",
              "      <td>0</td>\n",
              "      <td>0</td>\n",
              "    </tr>\n",
              "    <tr>\n",
              "      <th>138980</th>\n",
              "      <td>0</td>\n",
              "      <td>0</td>\n",
              "    </tr>\n",
              "    <tr>\n",
              "      <th>20435</th>\n",
              "      <td>0</td>\n",
              "      <td>0</td>\n",
              "    </tr>\n",
              "    <tr>\n",
              "      <th>56985</th>\n",
              "      <td>0</td>\n",
              "      <td>0</td>\n",
              "    </tr>\n",
              "    <tr>\n",
              "      <th>...</th>\n",
              "      <td>...</td>\n",
              "      <td>...</td>\n",
              "    </tr>\n",
              "    <tr>\n",
              "      <th>100054</th>\n",
              "      <td>0</td>\n",
              "      <td>0</td>\n",
              "    </tr>\n",
              "    <tr>\n",
              "      <th>134542</th>\n",
              "      <td>0</td>\n",
              "      <td>0</td>\n",
              "    </tr>\n",
              "    <tr>\n",
              "      <th>113941</th>\n",
              "      <td>1</td>\n",
              "      <td>1</td>\n",
              "    </tr>\n",
              "    <tr>\n",
              "      <th>113765</th>\n",
              "      <td>0</td>\n",
              "      <td>0</td>\n",
              "    </tr>\n",
              "    <tr>\n",
              "      <th>6716</th>\n",
              "      <td>1</td>\n",
              "      <td>1</td>\n",
              "    </tr>\n",
              "  </tbody>\n",
              "</table>\n",
              "<p>35911 rows × 2 columns</p>\n",
              "</div>\n",
              "      <button class=\"colab-df-convert\" onclick=\"convertToInteractive('df-e0e17da5-ffd1-4389-8d58-6bb131bd8f21')\"\n",
              "              title=\"Convert this dataframe to an interactive table.\"\n",
              "              style=\"display:none;\">\n",
              "        \n",
              "  <svg xmlns=\"http://www.w3.org/2000/svg\" height=\"24px\"viewBox=\"0 0 24 24\"\n",
              "       width=\"24px\">\n",
              "    <path d=\"M0 0h24v24H0V0z\" fill=\"none\"/>\n",
              "    <path d=\"M18.56 5.44l.94 2.06.94-2.06 2.06-.94-2.06-.94-.94-2.06-.94 2.06-2.06.94zm-11 1L8.5 8.5l.94-2.06 2.06-.94-2.06-.94L8.5 2.5l-.94 2.06-2.06.94zm10 10l.94 2.06.94-2.06 2.06-.94-2.06-.94-.94-2.06-.94 2.06-2.06.94z\"/><path d=\"M17.41 7.96l-1.37-1.37c-.4-.4-.92-.59-1.43-.59-.52 0-1.04.2-1.43.59L10.3 9.45l-7.72 7.72c-.78.78-.78 2.05 0 2.83L4 21.41c.39.39.9.59 1.41.59.51 0 1.02-.2 1.41-.59l7.78-7.78 2.81-2.81c.8-.78.8-2.07 0-2.86zM5.41 20L4 18.59l7.72-7.72 1.47 1.35L5.41 20z\"/>\n",
              "  </svg>\n",
              "      </button>\n",
              "      \n",
              "  <style>\n",
              "    .colab-df-container {\n",
              "      display:flex;\n",
              "      flex-wrap:wrap;\n",
              "      gap: 12px;\n",
              "    }\n",
              "\n",
              "    .colab-df-convert {\n",
              "      background-color: #E8F0FE;\n",
              "      border: none;\n",
              "      border-radius: 50%;\n",
              "      cursor: pointer;\n",
              "      display: none;\n",
              "      fill: #1967D2;\n",
              "      height: 32px;\n",
              "      padding: 0 0 0 0;\n",
              "      width: 32px;\n",
              "    }\n",
              "\n",
              "    .colab-df-convert:hover {\n",
              "      background-color: #E2EBFA;\n",
              "      box-shadow: 0px 1px 2px rgba(60, 64, 67, 0.3), 0px 1px 3px 1px rgba(60, 64, 67, 0.15);\n",
              "      fill: #174EA6;\n",
              "    }\n",
              "\n",
              "    [theme=dark] .colab-df-convert {\n",
              "      background-color: #3B4455;\n",
              "      fill: #D2E3FC;\n",
              "    }\n",
              "\n",
              "    [theme=dark] .colab-df-convert:hover {\n",
              "      background-color: #434B5C;\n",
              "      box-shadow: 0px 1px 3px 1px rgba(0, 0, 0, 0.15);\n",
              "      filter: drop-shadow(0px 1px 2px rgba(0, 0, 0, 0.3));\n",
              "      fill: #FFFFFF;\n",
              "    }\n",
              "  </style>\n",
              "\n",
              "      <script>\n",
              "        const buttonEl =\n",
              "          document.querySelector('#df-e0e17da5-ffd1-4389-8d58-6bb131bd8f21 button.colab-df-convert');\n",
              "        buttonEl.style.display =\n",
              "          google.colab.kernel.accessAllowed ? 'block' : 'none';\n",
              "\n",
              "        async function convertToInteractive(key) {\n",
              "          const element = document.querySelector('#df-e0e17da5-ffd1-4389-8d58-6bb131bd8f21');\n",
              "          const dataTable =\n",
              "            await google.colab.kernel.invokeFunction('convertToInteractive',\n",
              "                                                     [key], {});\n",
              "          if (!dataTable) return;\n",
              "\n",
              "          const docLinkHtml = 'Like what you see? Visit the ' +\n",
              "            '<a target=\"_blank\" href=https://colab.research.google.com/notebooks/data_table.ipynb>data table notebook</a>'\n",
              "            + ' to learn more about interactive tables.';\n",
              "          element.innerHTML = '';\n",
              "          dataTable['output_type'] = 'display_data';\n",
              "          await google.colab.output.renderOutput(dataTable, element);\n",
              "          const docLink = document.createElement('div');\n",
              "          docLink.innerHTML = docLinkHtml;\n",
              "          element.appendChild(docLink);\n",
              "        }\n",
              "      </script>\n",
              "    </div>\n",
              "  </div>\n",
              "  "
            ]
          },
          "metadata": {},
          "execution_count": 75
        }
      ],
      "source": [
        "test=pd.DataFrame(y_test)\n",
        "test['Predict_Test']=y_pred_nb_test\n",
        "test"
      ]
    },
    {
      "cell_type": "markdown",
      "source": [
        "Menggunakan dataframe untuk melihat 10 hasil output prediksi dari data X_test. Kemudian dibandingkan dengan data real dari y_test, yang menunjukkan hasil dari 10 data sama."
      ],
      "metadata": {
        "id": "pjgdLQ6S8XU5"
      }
    },
    {
      "cell_type": "markdown",
      "metadata": {
        "id": "-zCkfUaoA-jy"
      },
      "source": [
        "# Evaluasi Model"
      ]
    },
    {
      "cell_type": "markdown",
      "metadata": {
        "id": "cHxlH2L5BpEK"
      },
      "source": [
        "## Logistic Regression"
      ]
    },
    {
      "cell_type": "code",
      "execution_count": null,
      "metadata": {
        "id": "aOChaj_VBosj",
        "colab": {
          "base_uri": "https://localhost:8080/",
          "height": 707
        },
        "outputId": "366d9321-0f9b-4d1f-87fa-050ee34f15b6"
      },
      "outputs": [
        {
          "output_type": "stream",
          "name": "stdout",
          "text": [
            "Accuracy score data train model Logistic Regression adalah : 0.8474179804513611\n",
            "Accuracy score data test model Logistic Regression adalah : 0.8453677146278299\n",
            "\n",
            "Hasil Classification Report Logistic Regression\n",
            "              precision    recall  f1-score   support\n",
            "\n",
            "           0       0.87      0.95      0.91     28098\n",
            "           1       0.72      0.48      0.57      7813\n",
            "\n",
            "    accuracy                           0.85     35911\n",
            "   macro avg       0.79      0.71      0.74     35911\n",
            "weighted avg       0.83      0.85      0.83     35911\n",
            "\n"
          ]
        },
        {
          "output_type": "display_data",
          "data": {
            "text/plain": [
              "<Figure size 640x480 with 2 Axes>"
            ],
            "image/png": "[encoded data removed]"
          },
          "metadata": {}
        }
      ],
      "source": [
        "print('Accuracy score data train model Logistic Regression adalah :',accuracy_score(y_train, y_pred_lr_train))\n",
        "print('Accuracy score data test model Logistic Regression adalah :',accuracy_score(y_test, y_pred_lr_test))\n",
        "\n",
        "print('\\nHasil Classification Report Logistic Regression')\n",
        "print(classification_report(y_test,y_pred_lr_test)) \n",
        "\n",
        "cm_lr = confusion_matrix(y_test,y_pred_lr_test)\n",
        "ax= plt.subplot()\n",
        "sns.heatmap(cm_lr, annot=True, fmt='g', ax=ax);  #annot=True to annotate cells, ftm='g' to disable scientific notation\n",
        "\n",
        "# labels, title and ticks\n",
        "ax.set_xlabel('Predicted labels');ax.set_ylabel('True labels'); \n",
        "ax.set_title('Confusion Matrix Logistic Regression', y=1.02, fontsize=15); \n",
        "ax.xaxis.set_ticklabels(['No', 'Yes']); ax.yaxis.set_ticklabels(['No', 'Yes']);"
      ]
    },
    {
      "cell_type": "markdown",
      "source": [
        "- Accuracy score mewakili seberapa baik model tersebut dalam memprediksi seberapa baik nilai cocok dibandingkan dengan nilai aslinya. Rentang nilai diwakili dari 0 sampai 1 dan diartikan sebagai presentase, semakin tinggi nilainya, semakin baik modelnya. Terlihat hasil akurasi pada model Logistic Regression sebesar 0.8453 atau sebesar 84% dapat disimpulkan bahwa model tersebut sudah cukup baik dalam memprediksi data. Juga dapat dilihat dari selisih accuracy score data training dan data testing tidak cukup besar sehingga dapat disimpulkan tidak terjadi overfitting pada model tersebut.\n",
        "\n",
        "\n",
        "- Dari classsification Report diketahui precision adalah banyaknya sampel yang benar-benar termasuk dalam kelas positif dari semua sampel yang diprediksi menjadi kelas positif oleh model, sedangkan recall adalah banyaknya sampel yang diprediksi dengan benar menjadi kelas positif dari semua sampel yang benar-benar termasuk kelas positif. Dari hasil analisis nilai recall cukup mendekati precision, sehingga model sudah cukup baik dalam memprediksi. Namun, untuk membuat model semakin akurat selisih antara nilai recall dan precision harus semakin kecil lagi.\n",
        "\n",
        "\n",
        "- Dari confusion matrix diketahui bahwa True negatif (TN) sebanyak 26643, false negatif (FN) sebanyak 1455, false positif (FP) sebanyak 4098, dan true positif (TP) sebanyak 3715.\n"
      ],
      "metadata": {
        "id": "f5SplddRqu1o"
      }
    },
    {
      "cell_type": "markdown",
      "metadata": {
        "id": "5rPNIaWqCinu"
      },
      "source": [
        "## K-Nearest Neighbors (KNN)"
      ]
    },
    {
      "cell_type": "code",
      "execution_count": null,
      "metadata": {
        "id": "YbIkqTqSCjc0",
        "colab": {
          "base_uri": "https://localhost:8080/",
          "height": 707
        },
        "outputId": "6f2240d9-922d-47a0-8403-103f826eea8e"
      },
      "outputs": [
        {
          "output_type": "stream",
          "name": "stdout",
          "text": [
            "Accuracy score data train model K-Nearest Neighbors adalah : 0.8603549307204831\n",
            "Accuracy score data test model K-Nearest Neighbors adalah : 0.8478739105009607\n",
            "\n",
            "Hasil Classification Report K-Nearest Neighbors\n",
            "              precision    recall  f1-score   support\n",
            "\n",
            "           0       0.87      0.95      0.91     28098\n",
            "           1       0.73      0.48      0.58      7813\n",
            "\n",
            "    accuracy                           0.85     35911\n",
            "   macro avg       0.80      0.72      0.74     35911\n",
            "weighted avg       0.84      0.85      0.84     35911\n",
            "\n"
          ]
        },
        {
          "output_type": "display_data",
          "data": {
            "text/plain": [
              "<Figure size 640x480 with 2 Axes>"
            ],
            "image/png": "[encoded data removed]"
          },
          "metadata": {}
        }
      ],
      "source": [
        "print('Accuracy score data train model K-Nearest Neighbors adalah :',accuracy_score(y_train, y_pred_knn_train))\n",
        "print('Accuracy score data test model K-Nearest Neighbors adalah :',accuracy_score(y_test, y_pred_knn_test))\n",
        "\n",
        "print('\\nHasil Classification Report K-Nearest Neighbors')\n",
        "print(classification_report(y_test,y_pred_knn_test)) \n",
        "\n",
        "cm_knn = confusion_matrix(y_test,y_pred_knn_test)\n",
        "ax= plt.subplot()\n",
        "sns.heatmap(cm_knn, annot=True, fmt='g', ax=ax);  #annot=True to annotate cells, ftm='g' to disable scientific notation\n",
        "\n",
        "# labels, title and ticks\n",
        "ax.set_xlabel('Predicted labels');ax.set_ylabel('True labels'); \n",
        "ax.set_title('Confusion Matrix K-Nearest Neighbors', y=1.02, fontsize=15); \n",
        "ax.xaxis.set_ticklabels(['No', 'Yes']); ax.yaxis.set_ticklabels(['No', 'Yes']);"
      ]
    },
    {
      "cell_type": "markdown",
      "source": [
        "- Accuracy score mewakili seberapa baik model tersebut dalam memprediksi seberapa baik nilai cocok dibandingkan dengan nilai aslinya. Rentang nilai diwakili dari 0 sampai 1 dan diartikan sebagai presentase, semakin tinggi nilainya, semakin baik modelnya. Terlihat hasil akurasi pada model K-Nearest Neighbors sebesar 0.8478 atau sebesar 85% dapat disimpulkan bahwa model tersebut sudah cukup baik dalam memprediksi data. Juga dapat dilihat dari selisih accuracy score data training dan data testing tidak cukup besar sehingga dapat disimpulkan tidak terjadi overfitting pada model tersebut.\n",
        "\n",
        "\n",
        "- Dari classsification Report diketahui precision adalah banyaknya sampel yang benar-benar termasuk dalam kelas positif dari semua sampel yang diprediksi menjadi kelas positif oleh model, sedangkan recall adalah banyaknya sampel yang diprediksi dengan benar menjadi kelas positif dari semua sampel yang benar-benar termasuk kelas positif. Dari hasil analisis nilai recall sebesar 0.95 (:0) dan 0.48 (:1) cukup mendekati nilai precision yaitu 0.87 (:0) dan 0.73 (:1), sehingga model sudah cukup baik dalam memprediksi. Namun, untuk membuat model semakin akurat selisih antara nilai recall dan precision harus semakin kecil lagi.\n",
        "\n",
        "\n",
        "- Dari confusion matrix diketahui bahwa True negatif (TN) sebanyak 26678, false negatif (FN) sebanyak 1420, false positif (FP) sebanyak 4043, dan true positif (TP) sebanyak 3770.\n"
      ],
      "metadata": {
        "id": "riSPq1x3q4DT"
      }
    },
    {
      "cell_type": "markdown",
      "metadata": {
        "id": "7t8A9BEaBn3Q"
      },
      "source": [
        "## Support Vector Machine (SVM)"
      ]
    },
    {
      "cell_type": "code",
      "execution_count": null,
      "metadata": {
        "id": "xLwSh_HaA_uQ",
        "colab": {
          "base_uri": "https://localhost:8080/",
          "height": 707
        },
        "outputId": "120404dc-337e-4a0c-a3b9-fdec8622a5c4"
      },
      "outputs": [
        {
          "output_type": "stream",
          "name": "stdout",
          "text": [
            "Accuracy score data train model Support Vector Machine adalah : 0.8410714285714286\n",
            "Accuracy score data test model Support Vector Machine adalah : 0.846\n",
            "\n",
            "Hasil Classification Report Logistic Regression\n",
            "              precision    recall  f1-score   support\n",
            "\n",
            "           0       0.86      0.96      0.91      4705\n",
            "           1       0.75      0.43      0.55      1295\n",
            "\n",
            "    accuracy                           0.85      6000\n",
            "   macro avg       0.80      0.70      0.73      6000\n",
            "weighted avg       0.84      0.85      0.83      6000\n",
            "\n"
          ]
        },
        {
          "output_type": "display_data",
          "data": {
            "text/plain": [
              "<Figure size 640x480 with 2 Axes>"
            ],
            "image/png": "[encoded data removed]"
          },
          "metadata": {}
        }
      ],
      "source": [
        "print('Accuracy score data train model Support Vector Machine adalah :',accuracy_score(y_train_svm, y_pred_svm_train))\n",
        "print('Accuracy score data test model Support Vector Machine adalah :',accuracy_score(y_test_svm, y_pred_svm_test))\n",
        "\n",
        "print('\\nHasil Classification Report Logistic Regression')\n",
        "print(classification_report(y_test_svm,y_pred_svm_test)) \n",
        "\n",
        "cm_svm = confusion_matrix(y_test_svm,y_pred_svm_test)\n",
        "ax= plt.subplot()\n",
        "sns.heatmap(cm_svm, annot=True, fmt='g', ax=ax);  #annot=True to annotate cells, ftm='g' to disable scientific notation\n",
        "\n",
        "# labels, title and ticks\n",
        "ax.set_xlabel('Predicted labels');ax.set_ylabel('True labels'); \n",
        "ax.set_title('Confusion Matrix Support Vector Machine', y=1.02, fontsize=15); \n",
        "ax.xaxis.set_ticklabels(['No', 'Yes']); ax.yaxis.set_ticklabels(['No', 'Yes']);"
      ]
    },
    {
      "cell_type": "markdown",
      "source": [
        "- Accuracy score mewakili seberapa baik model tersebut dalam memprediksi seberapa baik nilai cocok dibandingkan dengan nilai aslinya. Rentang nilai diwakili dari 0 sampai 1 dan diartikan sebagai presentase, semakin tinggi nilainya, semakin baik modelnya. Terlihat hasil akurasi pada model Support Vector Machine sebesar 0.846 atau sebesar 85% dapat disimpulkan bahwa model tersebut sudah cukup baik dalam memprediksi data. Juga dapat dilihat dari selisih accuracy score data training dan data testing tidak cukup besar sehingga dapat disimpulkan tidak terjadi overfitting pada model tersebut.\n",
        "\n",
        "\n",
        "- Dari classsification Report diketahui precision adalah banyaknya sampel yang benar-benar termasuk dalam kelas positif dari semua sampel yang diprediksi menjadi kelas positif oleh model, sedangkan recall adalah banyaknya sampel yang diprediksi dengan benar menjadi kelas positif dari semua sampel yang benar-benar termasuk kelas positif. Dari hasil analisis nilai recall sebesar 0.96 (:0) dan 0.43 (:1) cukup mendekati nilai precision yaitu 0.86 (:0) dan 0.75 (:1), sehingga model sudah cukup baik dalam memprediksi. Namun, untuk membuat model semakin akurat selisih antara nilai recall dan precision harus semakin kecil lagi.\n",
        "\n",
        "\n",
        "- Dari confusion matrix diketahui bahwa True negatif (TN) sebanyak 4515, false negatif (FN) sebanyak 190, false positif (FP) sebanyak 734, dan true positif (TP) sebanyak 561.\n",
        "\n",
        "**Note :\n",
        "Karena model SVM lebih cocok dipakai untuk jumlah data yang kecil, maka dalam analisis SVM dilakukan penyesuaian terhadap data tersebut**\n"
      ],
      "metadata": {
        "id": "EWLkiuUSsN_W"
      }
    },
    {
      "cell_type": "markdown",
      "metadata": {
        "id": "4V9J4bCuCwKN"
      },
      "source": [
        "## Decision Tree"
      ]
    },
    {
      "cell_type": "code",
      "execution_count": null,
      "metadata": {
        "id": "e8PtnVaYCw9T",
        "colab": {
          "base_uri": "https://localhost:8080/",
          "height": 707
        },
        "outputId": "0ca4458c-43d7-48f0-824f-38f48bb6b61e"
      },
      "outputs": [
        {
          "output_type": "stream",
          "name": "stdout",
          "text": [
            "Accuracy score data train model Decision Tree adalah : 0.8506760869305773\n",
            "Accuracy score data test model Decision Tree adalah : 0.841524880955696\n",
            "\n",
            "Hasil Classification Report Decision Tree\n",
            "              precision    recall  f1-score   support\n",
            "\n",
            "           0       0.86      0.95      0.90     28098\n",
            "           1       0.71      0.45      0.55      7813\n",
            "\n",
            "    accuracy                           0.84     35911\n",
            "   macro avg       0.79      0.70      0.73     35911\n",
            "weighted avg       0.83      0.84      0.83     35911\n",
            "\n"
          ]
        },
        {
          "output_type": "display_data",
          "data": {
            "text/plain": [
              "<Figure size 640x480 with 2 Axes>"
            ],
            "image/png": "[encoded data removed]"
          },
          "metadata": {}
        }
      ],
      "source": [
        "print('Accuracy score data train model Decision Tree adalah :',accuracy_score(y_train, y_pred_dtc_train))\n",
        "print('Accuracy score data test model Decision Tree adalah :',accuracy_score(y_test, y_pred_dtc_test))\n",
        "\n",
        "print('\\nHasil Classification Report Decision Tree')\n",
        "print(classification_report(y_test,y_pred_dtc_test)) \n",
        "\n",
        "cm_dtc = confusion_matrix(y_test,y_pred_dtc_test)\n",
        "ax= plt.subplot()\n",
        "sns.heatmap(cm_dtc, annot=True, fmt='g', ax=ax);  #annot=True to annotate cells, ftm='g' to disable scientific notation\n",
        "\n",
        "# labels, title and ticks\n",
        "ax.set_xlabel('Predicted labels');ax.set_ylabel('True labels'); \n",
        "ax.set_title('Confusion Matrix Decision tree', y=1.02, fontsize=15); \n",
        "ax.xaxis.set_ticklabels(['No', 'Yes']); ax.yaxis.set_ticklabels(['No', 'Yes']);"
      ]
    },
    {
      "cell_type": "markdown",
      "source": [
        "- Accuracy score mewakili seberapa baik model tersebut dalam memprediksi seberapa baik nilai cocok dibandingkan dengan nilai aslinya. Rentang nilai diwakili dari 0 sampai 1 dan diartikan sebagai presentase, semakin tinggi nilainya, semakin baik modelnya. Terlihat hasil akurasi pada model Decision Tree sebesar 0.8374 atau sebesar 84% dapat disimpulkan bahwa model tersebut sudah cukup baik dalam memprediksi data. Juga dapat dilihat dari selisih accuracy score data training dan data testing cukup besar sehingga dapat disimpulkan terjadi overfitting pada model tersebut.\n",
        "\n",
        "\n",
        "- Dari classsification Report diketahui precision adalah banyaknya sampel yang benar-benar termasuk dalam kelas positif dari semua sampel yang diprediksi menjadi kelas positif oleh model, sedangkan recall adalah banyaknya sampel yang diprediksi dengan benar menjadi kelas positif dari semua sampel yang benar-benar termasuk kelas positif. Dari hasil analisis nilai recall sebesar 0.94 (:0) dan 0.46 (:1) cukup mendekati nilai precision yaitu 0.86 (:0) dan 0.69 (:1), sehingga model sudah cukup baik dalam memprediksi. Namun, untuk membuat model semakin akurat selisih antara nilai recall dan precision harus semakin kecil lagi.\n",
        "\n",
        "\n",
        "- Dari confusion matrix diketahui bahwa True negatif (TN) sebanyak 26503, false negatif (FN) sebanyak 1595, false positif (FP) sebanyak 4243, dan true positif (TP) sebanyak 3570.\n"
      ],
      "metadata": {
        "id": "l0YkVIg_sUyp"
      }
    },
    {
      "cell_type": "markdown",
      "metadata": {
        "id": "xe6S3z1-C5I9"
      },
      "source": [
        "## Random Forest"
      ]
    },
    {
      "cell_type": "code",
      "execution_count": null,
      "metadata": {
        "id": "X48nG1HzC56y",
        "colab": {
          "base_uri": "https://localhost:8080/",
          "height": 707
        },
        "outputId": "c8c9f526-f74b-4b3b-cd65-0fb94724b06d"
      },
      "outputs": [
        {
          "output_type": "stream",
          "name": "stdout",
          "text": [
            "Accuracy score data train model Random Forest adalah : 0.9277249346588535\n",
            "Accuracy score data test model Random Forest adalah : 0.8528863022472223\n",
            "\n",
            "Hasil Classification Report Random Forest\n",
            "              precision    recall  f1-score   support\n",
            "\n",
            "           0       0.87      0.95      0.91     28098\n",
            "           1       0.74      0.50      0.60      7813\n",
            "\n",
            "    accuracy                           0.85     35911\n",
            "   macro avg       0.80      0.73      0.75     35911\n",
            "weighted avg       0.84      0.85      0.84     35911\n",
            "\n"
          ]
        },
        {
          "output_type": "display_data",
          "data": {
            "text/plain": [
              "<Figure size 640x480 with 2 Axes>"
            ],
            "image/png": "[encoded data removed]"
          },
          "metadata": {}
        }
      ],
      "source": [
        "print('Accuracy score data train model Random Forest adalah :',accuracy_score(y_train, y_pred_rfc_train))\n",
        "print('Accuracy score data test model Random Forest adalah :',accuracy_score(y_test, y_pred_rfc_test))\n",
        "\n",
        "print('\\nHasil Classification Report Random Forest')\n",
        "print(classification_report(y_test,y_pred_rfc_test)) \n",
        "\n",
        "cm_rfc = confusion_matrix(y_test,y_pred_rfc_test)\n",
        "ax= plt.subplot()\n",
        "sns.heatmap(cm_rfc, annot=True, fmt='g', ax=ax);  #annot=True to annotate cells, ftm='g' to disable scientific notation\n",
        "\n",
        "# labels, title and ticks\n",
        "ax.set_xlabel('Predicted labels');ax.set_ylabel('True labels'); \n",
        "ax.set_title('Confusion Matrix Random Forest', y=1.02, fontsize=15); \n",
        "ax.xaxis.set_ticklabels(['No', 'Yes']); ax.yaxis.set_ticklabels(['No', 'Yes']);"
      ]
    },
    {
      "cell_type": "markdown",
      "source": [
        "- Accuracy score mewakili seberapa baik model tersebut dalam memprediksi seberapa baik nilai cocok dibandingkan dengan nilai aslinya. Rentang nilai diwakili dari 0 sampai 1 dan diartikan sebagai presentase, semakin tinggi nilainya, semakin baik modelnya. Terlihat hasil akurasi pada model Random Forest sebesar 0.85291 pada data test atau sebesar 85% dapat disimpulkan bahwa model tersebut sudah cukup baik dalam memprediksi data. Juga dapat dilihat dari selisih accuracy score data training dan data testingnya cukup besar sehingga dapat disimpulkan terjadi overfitting pada model tersebut.\n",
        "\n",
        "\n",
        "- Dari classsification Report diketahui precision adalah banyaknya sampel yang benar-benar termasuk dalam kelas positif dari semua sampel yang diprediksi menjadi kelas positif oleh model, sedangkan recall adalah banyaknya sampel yang diprediksi dengan benar menjadi kelas positif dari semua sampel yang benar-benar termasuk kelas positif. Dari hasil analisis nilai recall sebesar 0.95 (:0) dan 0.50 (:1) cukup mendekati nilai precision yaitu 0.87 (:0) dan 0.74 (:1), sehingga model sudah cukup baik dalam memprediksi. Namun, untuk membuat model semakin akurat selisih antara nilai recall dan precision harus semakin kecil lagi.\n",
        "\n",
        "\n",
        "- Dari confusion matrix diketahui bahwa True negatif (TN) sebanyak 26703, false negatif (FN) sebanyak 1395, false positif (FP) sebanyak 3887, dan true positif (TP) sebanyak 3926.\n"
      ],
      "metadata": {
        "id": "033aKTZ-sbg-"
      }
    },
    {
      "cell_type": "markdown",
      "metadata": {
        "id": "8YvtKGBEDE8U"
      },
      "source": [
        "## Naive Bayes"
      ]
    },
    {
      "cell_type": "code",
      "execution_count": null,
      "metadata": {
        "id": "Jevd1p1qDFxA",
        "colab": {
          "base_uri": "https://localhost:8080/",
          "height": 707
        },
        "outputId": "a22a7859-da6e-4a40-941d-d865bea6d643"
      },
      "outputs": [
        {
          "output_type": "stream",
          "name": "stdout",
          "text": [
            "Accuracy score data train model Naive Bayes adalah : 0.8323447625639985\n",
            "Accuracy score data test model Naive Bayes adalah : 0.8284091225529782\n",
            "\n",
            "Hasil Classification Report Naive Bayes\n",
            "              precision    recall  f1-score   support\n",
            "\n",
            "           0       0.86      0.94      0.90     28098\n",
            "           1       0.66      0.44      0.53      7813\n",
            "\n",
            "    accuracy                           0.83     35911\n",
            "   macro avg       0.76      0.69      0.71     35911\n",
            "weighted avg       0.81      0.83      0.82     35911\n",
            "\n"
          ]
        },
        {
          "output_type": "display_data",
          "data": {
            "text/plain": [
              "<Figure size 640x480 with 2 Axes>"
            ],
            "image/png": "[encoded data removed]"
          },
          "metadata": {}
        }
      ],
      "source": [
        "print('Accuracy score data train model Naive Bayes adalah :',accuracy_score(y_train, y_pred_nb_train))\n",
        "print('Accuracy score data test model Naive Bayes adalah :',accuracy_score(y_test, y_pred_nb_test))\n",
        "\n",
        "print('\\nHasil Classification Report Naive Bayes')\n",
        "print(classification_report(y_test,y_pred_nb_test)) \n",
        "\n",
        "cm_nb = confusion_matrix(y_test,y_pred_nb_test)\n",
        "ax= plt.subplot()\n",
        "sns.heatmap(cm_nb, annot=True, fmt='g', ax=ax);  #annot=True to annotate cells, ftm='g' to disable scientific notation\n",
        "\n",
        "# labels, title and ticks\n",
        "ax.set_xlabel('Predicted labels');ax.set_ylabel('True labels'); \n",
        "ax.set_title('Confusion Matrix Naive Bayes', y=1.02, fontsize=15); \n",
        "ax.xaxis.set_ticklabels(['No', 'Yes']); ax.yaxis.set_ticklabels(['No', 'Yes']);"
      ]
    },
    {
      "cell_type": "markdown",
      "source": [
        "- Accuracy score mewakili seberapa baik model tersebut dalam memprediksi seberapa baik nilai cocok dibandingkan dengan nilai aslinya. Rentang nilai diwakili dari 0 sampai 1 dan diartikan sebagai presentase, semakin tinggi nilainya, semakin baik modelnya. Terlihat hasil akurasi pada model Naive Bayes sebesar 0.8284 atau sebesar 83% dapat disimpulkan bahwa model tersebut sudah cukup baik dalam memprediksi data. Juga dapat dilihat dari selisih accuracy score data training dan data testing tidak cukup besar sehingga dapat disimpulkan tidak terjadi overfitting pada model tersebut.\n",
        "\n",
        "\n",
        "- Dari classsification Report diketahui precision adalah banyaknya sampel yang benar-benar termasuk dalam kelas positif dari semua sampel yang diprediksi menjadi kelas positif oleh model, sedangkan recall adalah banyaknya sampel yang diprediksi dengan benar menjadi kelas positif dari semua sampel yang benar-benar termasuk kelas positif. Dari hasil analisis nilai recall sebesar 0.94 (:0) dan 0.44 (:1) cukup mendekati nilai precision yaitu 0.86 (:0) dan 0.66 (:1), sehingga model sudah cukup baik dalam memprediksi. Namun, untuk membuat model semakin akurat selisih antara nilai recall dan precision harus semakin kecil lagi.\n",
        "\n",
        "\n",
        "- Dari confusion matrix diketahui bahwa True negatif (TN) sebanyak 26289, false negatif (FN) sebanyak 1809, false positif (FP) sebanyak 4353, dan true positif (TP) sebanyak 3460.\n"
      ],
      "metadata": {
        "id": "7oZZ7YbKsfh1"
      }
    },
    {
      "cell_type": "markdown",
      "metadata": {
        "id": "z4vEBV9pBAWa"
      },
      "source": [
        "# Kesimpulan"
      ]
    },
    {
      "cell_type": "markdown",
      "source": [
        "**Dari hasil analisis diatas dapat ditarik kesimpulan sebagai berikut :**\n",
        "\n",
        "- Dari hasil analisis diketahui beberapa variabel-variabel yang paling mempengaruhi terjadinya hujan pada besok (Rain Tomorrow) yaitu  MinTemp, MaxTemp, Rainfall, WindGustSpeed, Humidity9am, Humidity3pm, Pressure9am, dan Pressure3pm.\n",
        "\n",
        "\n",
        "- Dari grafik boxplot diketahui bahwa terdapat outliers pada variabel MinTemp, MaxTemp, Rainfall, WindGustSpeed, Humidity9am, Pressure9am, dan Pressure3pm.\n",
        "\n",
        "\n",
        "- Dari model-model machine learning yang telah diterapkan untuk klasifikasi, diambil kesimpulan bahwa model **K-Nearest Neighbors** merupakan model terbaik untuk memprediksi. Karena nilai True Positif (TN) dan True Negatif (TN) yang paling besar diantara model-model lain secara berurutan yaitu 3770 dan 26678, selain itu selisih skor akurasi antara data train dan data test kecil sehingga tidak terjadi undefitting ataupun overfitting.\n",
        "\n",
        "\n",
        "- Untuk memprediksi terjadi hujan atau tidaknya yang terjadi di Australia dari data tersebut variabel-variabel yang harus diperhatikan yaitu MinTemp, MaxTemp, Rainfall, WindGustSpeed, Humidity9am, Humidity3pm, Pressure9am, dan Pressure3pm."
      ],
      "metadata": {
        "id": "SsB4HUf9si6E"
      }
    },
    {
      "cell_type": "code",
      "source": [],
      "metadata": {
        "id": "3j_tdAQ6sjbk"
      },
      "execution_count": null,
      "outputs": []
    }
  ],
  "metadata": {
    "colab": {
      "provenance": []
    },
    "kernelspec": {
      "display_name": "Python 3",
      "name": "python3"
    },
    "language_info": {
      "name": "python"
    }
  },
  "nbformat": 4,
  "nbformat_minor": 0
}