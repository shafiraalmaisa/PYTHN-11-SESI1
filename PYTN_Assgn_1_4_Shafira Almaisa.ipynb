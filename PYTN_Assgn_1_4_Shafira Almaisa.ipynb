{
 "cells": [
  {
   "cell_type": "code",
   "execution_count": 1,
   "id": "7eb14a92",
   "metadata": {},
   "outputs": [],
   "source": [
    "#import library\n",
    "\n",
    "import numpy as np\n",
    "import pandas as pd\n",
    "import matplotlib.pyplot as plt\n",
    "import matplotlib as mpl"
   ]
  },
  {
   "cell_type": "markdown",
   "id": "3968a47c",
   "metadata": {},
   "source": [
    "dilakukan import library agar dapat digunakan fungsi-fungsi yang diperlukan."
   ]
  },
  {
   "cell_type": "code",
   "execution_count": 2,
   "id": "4da318dc",
   "metadata": {},
   "outputs": [],
   "source": [
    "# melakukan read dataset\n",
    "df = pd.read_csv('dataset/london_crime_by_lsoa.csv')"
   ]
  },
  {
   "cell_type": "markdown",
   "id": "d6581152",
   "metadata": {},
   "source": [
    "dilakukan read data dari file csv yang kemudian disimpan dalam variabel baru."
   ]
  },
  {
   "cell_type": "code",
   "execution_count": 3,
   "id": "b1616629",
   "metadata": {
    "scrolled": true
   },
   "outputs": [
    {
     "name": "stdout",
     "output_type": "stream",
     "text": [
      "<class 'pandas.core.frame.DataFrame'>\n",
      "RangeIndex: 13490604 entries, 0 to 13490603\n",
      "Data columns (total 7 columns):\n",
      " #   Column          Dtype \n",
      "---  ------          ----- \n",
      " 0   lsoa_code       object\n",
      " 1   borough         object\n",
      " 2   major_category  object\n",
      " 3   minor_category  object\n",
      " 4   value           int64 \n",
      " 5   year            int64 \n",
      " 6   month           int64 \n",
      "dtypes: int64(3), object(4)\n",
      "memory usage: 720.5+ MB\n"
     ]
    }
   ],
   "source": [
    "# menampilkan info dataset\n",
    "df.info()"
   ]
  },
  {
   "cell_type": "markdown",
   "id": "26064c52",
   "metadata": {},
   "source": [
    "kode ini digunakan untuk melihat informasi dari dataset, seperti nama kolom dan tipe datanya."
   ]
  },
  {
   "cell_type": "code",
   "execution_count": 4,
   "id": "6c7abcd0",
   "metadata": {},
   "outputs": [
    {
     "data": {
      "text/plain": [
       "(13490604, 7)"
      ]
     },
     "execution_count": 4,
     "metadata": {},
     "output_type": "execute_result"
    }
   ],
   "source": [
    "# menampilkan bentuk/dimensi dataset (baris, kolom)\n",
    "df.shape"
   ]
  },
  {
   "cell_type": "markdown",
   "id": "64a420cd",
   "metadata": {},
   "source": [
    "Dari output di atas kita bisa ketahui bahwa data terdiri atas 13490604 baris dan 7 kolom."
   ]
  },
  {
   "cell_type": "code",
   "execution_count": 5,
   "id": "d11e795b",
   "metadata": {},
   "outputs": [
    {
     "data": {
      "text/plain": [
       "RangeIndex(start=0, stop=13490604, step=1)"
      ]
     },
     "execution_count": 5,
     "metadata": {},
     "output_type": "execute_result"
    }
   ],
   "source": [
    "# menampilkan index data\n",
    "df.index"
   ]
  },
  {
   "cell_type": "markdown",
   "id": "d8178a9a",
   "metadata": {},
   "source": [
    "Code di atas untuk melihat index data, dari outputnya bisa kita ketahui bahwa index data merupakan nomor yang dimulai dari 0 dan diakhiri dengan 13490604."
   ]
  },
  {
   "cell_type": "code",
   "execution_count": 6,
   "id": "ae36e754",
   "metadata": {
    "scrolled": true
   },
   "outputs": [
    {
     "data": {
      "text/html": [
       "<div>\n",
       "<style scoped>\n",
       "    .dataframe tbody tr th:only-of-type {\n",
       "        vertical-align: middle;\n",
       "    }\n",
       "\n",
       "    .dataframe tbody tr th {\n",
       "        vertical-align: top;\n",
       "    }\n",
       "\n",
       "    .dataframe thead th {\n",
       "        text-align: right;\n",
       "    }\n",
       "</style>\n",
       "<table border=\"1\" class=\"dataframe\">\n",
       "  <thead>\n",
       "    <tr style=\"text-align: right;\">\n",
       "      <th></th>\n",
       "      <th>lsoa_code</th>\n",
       "      <th>borough</th>\n",
       "      <th>major_category</th>\n",
       "      <th>minor_category</th>\n",
       "      <th>value</th>\n",
       "      <th>year</th>\n",
       "      <th>month</th>\n",
       "    </tr>\n",
       "  </thead>\n",
       "  <tbody>\n",
       "    <tr>\n",
       "      <th>0</th>\n",
       "      <td>E01001116</td>\n",
       "      <td>Croydon</td>\n",
       "      <td>Burglary</td>\n",
       "      <td>Burglary in Other Buildings</td>\n",
       "      <td>0</td>\n",
       "      <td>2016</td>\n",
       "      <td>11</td>\n",
       "    </tr>\n",
       "    <tr>\n",
       "      <th>1</th>\n",
       "      <td>E01001646</td>\n",
       "      <td>Greenwich</td>\n",
       "      <td>Violence Against the Person</td>\n",
       "      <td>Other violence</td>\n",
       "      <td>0</td>\n",
       "      <td>2016</td>\n",
       "      <td>11</td>\n",
       "    </tr>\n",
       "    <tr>\n",
       "      <th>2</th>\n",
       "      <td>E01000677</td>\n",
       "      <td>Bromley</td>\n",
       "      <td>Violence Against the Person</td>\n",
       "      <td>Other violence</td>\n",
       "      <td>0</td>\n",
       "      <td>2015</td>\n",
       "      <td>5</td>\n",
       "    </tr>\n",
       "    <tr>\n",
       "      <th>3</th>\n",
       "      <td>E01003774</td>\n",
       "      <td>Redbridge</td>\n",
       "      <td>Burglary</td>\n",
       "      <td>Burglary in Other Buildings</td>\n",
       "      <td>0</td>\n",
       "      <td>2016</td>\n",
       "      <td>3</td>\n",
       "    </tr>\n",
       "    <tr>\n",
       "      <th>4</th>\n",
       "      <td>E01004563</td>\n",
       "      <td>Wandsworth</td>\n",
       "      <td>Robbery</td>\n",
       "      <td>Personal Property</td>\n",
       "      <td>0</td>\n",
       "      <td>2008</td>\n",
       "      <td>6</td>\n",
       "    </tr>\n",
       "    <tr>\n",
       "      <th>5</th>\n",
       "      <td>E01001320</td>\n",
       "      <td>Ealing</td>\n",
       "      <td>Theft and Handling</td>\n",
       "      <td>Other Theft</td>\n",
       "      <td>0</td>\n",
       "      <td>2012</td>\n",
       "      <td>5</td>\n",
       "    </tr>\n",
       "    <tr>\n",
       "      <th>6</th>\n",
       "      <td>E01001342</td>\n",
       "      <td>Ealing</td>\n",
       "      <td>Violence Against the Person</td>\n",
       "      <td>Offensive Weapon</td>\n",
       "      <td>0</td>\n",
       "      <td>2010</td>\n",
       "      <td>7</td>\n",
       "    </tr>\n",
       "    <tr>\n",
       "      <th>7</th>\n",
       "      <td>E01002633</td>\n",
       "      <td>Hounslow</td>\n",
       "      <td>Robbery</td>\n",
       "      <td>Personal Property</td>\n",
       "      <td>0</td>\n",
       "      <td>2013</td>\n",
       "      <td>4</td>\n",
       "    </tr>\n",
       "    <tr>\n",
       "      <th>8</th>\n",
       "      <td>E01003496</td>\n",
       "      <td>Newham</td>\n",
       "      <td>Criminal Damage</td>\n",
       "      <td>Criminal Damage To Other Building</td>\n",
       "      <td>0</td>\n",
       "      <td>2013</td>\n",
       "      <td>9</td>\n",
       "    </tr>\n",
       "    <tr>\n",
       "      <th>9</th>\n",
       "      <td>E01004177</td>\n",
       "      <td>Sutton</td>\n",
       "      <td>Theft and Handling</td>\n",
       "      <td>Theft/Taking of Pedal Cycle</td>\n",
       "      <td>1</td>\n",
       "      <td>2016</td>\n",
       "      <td>8</td>\n",
       "    </tr>\n",
       "  </tbody>\n",
       "</table>\n",
       "</div>"
      ],
      "text/plain": [
       "   lsoa_code     borough               major_category  \\\n",
       "0  E01001116     Croydon                     Burglary   \n",
       "1  E01001646   Greenwich  Violence Against the Person   \n",
       "2  E01000677     Bromley  Violence Against the Person   \n",
       "3  E01003774   Redbridge                     Burglary   \n",
       "4  E01004563  Wandsworth                      Robbery   \n",
       "5  E01001320      Ealing           Theft and Handling   \n",
       "6  E01001342      Ealing  Violence Against the Person   \n",
       "7  E01002633    Hounslow                      Robbery   \n",
       "8  E01003496      Newham              Criminal Damage   \n",
       "9  E01004177      Sutton           Theft and Handling   \n",
       "\n",
       "                      minor_category  value  year  month  \n",
       "0        Burglary in Other Buildings      0  2016     11  \n",
       "1                     Other violence      0  2016     11  \n",
       "2                     Other violence      0  2015      5  \n",
       "3        Burglary in Other Buildings      0  2016      3  \n",
       "4                  Personal Property      0  2008      6  \n",
       "5                        Other Theft      0  2012      5  \n",
       "6                   Offensive Weapon      0  2010      7  \n",
       "7                  Personal Property      0  2013      4  \n",
       "8  Criminal Damage To Other Building      0  2013      9  \n",
       "9        Theft/Taking of Pedal Cycle      1  2016      8  "
      ]
     },
     "execution_count": 6,
     "metadata": {},
     "output_type": "execute_result"
    }
   ],
   "source": [
    "# menampilkan 10 data teratas\n",
    "df.head(10)"
   ]
  },
  {
   "cell_type": "markdown",
   "id": "a648b7c6",
   "metadata": {},
   "source": [
    "code ini digunakan untuk menampilkan data teratas, bisa untuk melihat value data secara sekilas."
   ]
  },
  {
   "cell_type": "code",
   "execution_count": 7,
   "id": "4e891842",
   "metadata": {},
   "outputs": [],
   "source": [
    "# menghapus kolom yang dianggap kurang penting\n",
    "df.drop(['lsoa_code'], axis=1, inplace=True)"
   ]
  },
  {
   "cell_type": "markdown",
   "id": "bcbfdac2",
   "metadata": {},
   "source": [
    "dilakukan penghapusan kolom lsoa_code karena dianggap kolom tersebut tidak diperlukan selama proses."
   ]
  },
  {
   "cell_type": "code",
   "execution_count": 8,
   "id": "5d7f47ab",
   "metadata": {},
   "outputs": [
    {
     "data": {
      "text/html": [
       "<div>\n",
       "<style scoped>\n",
       "    .dataframe tbody tr th:only-of-type {\n",
       "        vertical-align: middle;\n",
       "    }\n",
       "\n",
       "    .dataframe tbody tr th {\n",
       "        vertical-align: top;\n",
       "    }\n",
       "\n",
       "    .dataframe thead th {\n",
       "        text-align: right;\n",
       "    }\n",
       "</style>\n",
       "<table border=\"1\" class=\"dataframe\">\n",
       "  <thead>\n",
       "    <tr style=\"text-align: right;\">\n",
       "      <th></th>\n",
       "      <th>town</th>\n",
       "      <th>major_category</th>\n",
       "      <th>minor_category</th>\n",
       "      <th>count</th>\n",
       "      <th>year</th>\n",
       "      <th>month</th>\n",
       "    </tr>\n",
       "  </thead>\n",
       "  <tbody>\n",
       "    <tr>\n",
       "      <th>0</th>\n",
       "      <td>Croydon</td>\n",
       "      <td>Burglary</td>\n",
       "      <td>Burglary in Other Buildings</td>\n",
       "      <td>0</td>\n",
       "      <td>2016</td>\n",
       "      <td>11</td>\n",
       "    </tr>\n",
       "    <tr>\n",
       "      <th>1</th>\n",
       "      <td>Greenwich</td>\n",
       "      <td>Violence Against the Person</td>\n",
       "      <td>Other violence</td>\n",
       "      <td>0</td>\n",
       "      <td>2016</td>\n",
       "      <td>11</td>\n",
       "    </tr>\n",
       "    <tr>\n",
       "      <th>2</th>\n",
       "      <td>Bromley</td>\n",
       "      <td>Violence Against the Person</td>\n",
       "      <td>Other violence</td>\n",
       "      <td>0</td>\n",
       "      <td>2015</td>\n",
       "      <td>5</td>\n",
       "    </tr>\n",
       "    <tr>\n",
       "      <th>3</th>\n",
       "      <td>Redbridge</td>\n",
       "      <td>Burglary</td>\n",
       "      <td>Burglary in Other Buildings</td>\n",
       "      <td>0</td>\n",
       "      <td>2016</td>\n",
       "      <td>3</td>\n",
       "    </tr>\n",
       "    <tr>\n",
       "      <th>4</th>\n",
       "      <td>Wandsworth</td>\n",
       "      <td>Robbery</td>\n",
       "      <td>Personal Property</td>\n",
       "      <td>0</td>\n",
       "      <td>2008</td>\n",
       "      <td>6</td>\n",
       "    </tr>\n",
       "  </tbody>\n",
       "</table>\n",
       "</div>"
      ],
      "text/plain": [
       "         town               major_category               minor_category  \\\n",
       "0     Croydon                     Burglary  Burglary in Other Buildings   \n",
       "1   Greenwich  Violence Against the Person               Other violence   \n",
       "2     Bromley  Violence Against the Person               Other violence   \n",
       "3   Redbridge                     Burglary  Burglary in Other Buildings   \n",
       "4  Wandsworth                      Robbery            Personal Property   \n",
       "\n",
       "   count  year  month  \n",
       "0      0  2016     11  \n",
       "1      0  2016     11  \n",
       "2      0  2015      5  \n",
       "3      0  2016      3  \n",
       "4      0  2008      6  "
      ]
     },
     "execution_count": 8,
     "metadata": {},
     "output_type": "execute_result"
    }
   ],
   "source": [
    "# mengubah nama kolom\n",
    "df.rename(columns={'borough':'town', 'value':'count'}, inplace=True)\n",
    "df.head()"
   ]
  },
  {
   "cell_type": "markdown",
   "id": "28862a1f",
   "metadata": {},
   "source": [
    "Dilakukan perubahan nama untuk beberapa kolom agar saya lebih mudah mengerti untuk proses ke depannya."
   ]
  },
  {
   "cell_type": "code",
   "execution_count": 9,
   "id": "a2464de9",
   "metadata": {
    "scrolled": false
   },
   "outputs": [
    {
     "data": {
      "text/plain": [
       "town              0\n",
       "major_category    0\n",
       "minor_category    0\n",
       "count             0\n",
       "year              0\n",
       "month             0\n",
       "dtype: int64"
      ]
     },
     "execution_count": 9,
     "metadata": {},
     "output_type": "execute_result"
    }
   ],
   "source": [
    "# mengecek niai Nan dari setiap kolom pada dataset\n",
    "df.isna().sum()"
   ]
  },
  {
   "cell_type": "markdown",
   "id": "8271737b",
   "metadata": {},
   "source": [
    "Kode di atas untuk melihat jumlah null pada data. Jumlah tersebut akan dihitung per kolom. Untuk hasilnya bisa dilihat pada output bahwa tidak ditemukan null pada data."
   ]
  },
  {
   "cell_type": "code",
   "execution_count": 10,
   "id": "814a49ad",
   "metadata": {
    "scrolled": false
   },
   "outputs": [
    {
     "data": {
      "text/html": [
       "<div>\n",
       "<style scoped>\n",
       "    .dataframe tbody tr th:only-of-type {\n",
       "        vertical-align: middle;\n",
       "    }\n",
       "\n",
       "    .dataframe tbody tr th {\n",
       "        vertical-align: top;\n",
       "    }\n",
       "\n",
       "    .dataframe thead th {\n",
       "        text-align: right;\n",
       "    }\n",
       "</style>\n",
       "<table border=\"1\" class=\"dataframe\">\n",
       "  <thead>\n",
       "    <tr style=\"text-align: right;\">\n",
       "      <th></th>\n",
       "      <th>count</th>\n",
       "      <th>year</th>\n",
       "      <th>month</th>\n",
       "    </tr>\n",
       "  </thead>\n",
       "  <tbody>\n",
       "    <tr>\n",
       "      <th>count</th>\n",
       "      <td>1.349060e+07</td>\n",
       "      <td>1.349060e+07</td>\n",
       "      <td>1.349060e+07</td>\n",
       "    </tr>\n",
       "    <tr>\n",
       "      <th>mean</th>\n",
       "      <td>4.779444e-01</td>\n",
       "      <td>2.012000e+03</td>\n",
       "      <td>6.500000e+00</td>\n",
       "    </tr>\n",
       "    <tr>\n",
       "      <th>std</th>\n",
       "      <td>1.771513e+00</td>\n",
       "      <td>2.581989e+00</td>\n",
       "      <td>3.452053e+00</td>\n",
       "    </tr>\n",
       "    <tr>\n",
       "      <th>min</th>\n",
       "      <td>0.000000e+00</td>\n",
       "      <td>2.008000e+03</td>\n",
       "      <td>1.000000e+00</td>\n",
       "    </tr>\n",
       "    <tr>\n",
       "      <th>25%</th>\n",
       "      <td>0.000000e+00</td>\n",
       "      <td>2.010000e+03</td>\n",
       "      <td>3.750000e+00</td>\n",
       "    </tr>\n",
       "    <tr>\n",
       "      <th>50%</th>\n",
       "      <td>0.000000e+00</td>\n",
       "      <td>2.012000e+03</td>\n",
       "      <td>6.500000e+00</td>\n",
       "    </tr>\n",
       "    <tr>\n",
       "      <th>75%</th>\n",
       "      <td>1.000000e+00</td>\n",
       "      <td>2.014000e+03</td>\n",
       "      <td>9.250000e+00</td>\n",
       "    </tr>\n",
       "    <tr>\n",
       "      <th>max</th>\n",
       "      <td>3.090000e+02</td>\n",
       "      <td>2.016000e+03</td>\n",
       "      <td>1.200000e+01</td>\n",
       "    </tr>\n",
       "  </tbody>\n",
       "</table>\n",
       "</div>"
      ],
      "text/plain": [
       "              count          year         month\n",
       "count  1.349060e+07  1.349060e+07  1.349060e+07\n",
       "mean   4.779444e-01  2.012000e+03  6.500000e+00\n",
       "std    1.771513e+00  2.581989e+00  3.452053e+00\n",
       "min    0.000000e+00  2.008000e+03  1.000000e+00\n",
       "25%    0.000000e+00  2.010000e+03  3.750000e+00\n",
       "50%    0.000000e+00  2.012000e+03  6.500000e+00\n",
       "75%    1.000000e+00  2.014000e+03  9.250000e+00\n",
       "max    3.090000e+02  2.016000e+03  1.200000e+01"
      ]
     },
     "execution_count": 10,
     "metadata": {},
     "output_type": "execute_result"
    }
   ],
   "source": [
    "# melihat informasi statistik dari data numerik pada dataset\n",
    "df.describe()"
   ]
  },
  {
   "cell_type": "markdown",
   "id": "43d1f488",
   "metadata": {},
   "source": [
    "Code di atas digunakan untuk melihat informasi statistik dari data terkhusus untuk data dengan value numerik."
   ]
  },
  {
   "cell_type": "code",
   "execution_count": 11,
   "id": "66b51278",
   "metadata": {
    "scrolled": true
   },
   "outputs": [
    {
     "data": {
      "text/html": [
       "<div>\n",
       "<style scoped>\n",
       "    .dataframe tbody tr th:only-of-type {\n",
       "        vertical-align: middle;\n",
       "    }\n",
       "\n",
       "    .dataframe tbody tr th {\n",
       "        vertical-align: top;\n",
       "    }\n",
       "\n",
       "    .dataframe thead th {\n",
       "        text-align: right;\n",
       "    }\n",
       "</style>\n",
       "<table border=\"1\" class=\"dataframe\">\n",
       "  <thead>\n",
       "    <tr style=\"text-align: right;\">\n",
       "      <th></th>\n",
       "      <th>town</th>\n",
       "      <th>major_category</th>\n",
       "      <th>minor_category</th>\n",
       "    </tr>\n",
       "  </thead>\n",
       "  <tbody>\n",
       "    <tr>\n",
       "      <th>count</th>\n",
       "      <td>13490604</td>\n",
       "      <td>13490604</td>\n",
       "      <td>13490604</td>\n",
       "    </tr>\n",
       "    <tr>\n",
       "      <th>unique</th>\n",
       "      <td>33</td>\n",
       "      <td>9</td>\n",
       "      <td>32</td>\n",
       "    </tr>\n",
       "    <tr>\n",
       "      <th>top</th>\n",
       "      <td>Croydon</td>\n",
       "      <td>Theft and Handling</td>\n",
       "      <td>Common Assault</td>\n",
       "    </tr>\n",
       "    <tr>\n",
       "      <th>freq</th>\n",
       "      <td>602100</td>\n",
       "      <td>3966300</td>\n",
       "      <td>522180</td>\n",
       "    </tr>\n",
       "  </tbody>\n",
       "</table>\n",
       "</div>"
      ],
      "text/plain": [
       "            town      major_category  minor_category\n",
       "count   13490604            13490604        13490604\n",
       "unique        33                   9              32\n",
       "top      Croydon  Theft and Handling  Common Assault\n",
       "freq      602100             3966300          522180"
      ]
     },
     "execution_count": 11,
     "metadata": {},
     "output_type": "execute_result"
    }
   ],
   "source": [
    "# melihat informasi statistik dari data kategorik pada dataset\n",
    "df.describe(include=['O']) \n",
    "\n",
    "# terdapat 33 kota, 9 jenis kriminal kategori besar dan 32 kriminal kategori kecil yang terdata\n",
    "# data top menunjukkan data teratas(paling pertama) dari masing-masing kolom\n",
    "# freq menunjukkan berapa kali data dari baris top muncul pada masing-masing kolom"
   ]
  },
  {
   "cell_type": "markdown",
   "id": "5518fdeb",
   "metadata": {},
   "source": [
    "Code di atas digunakan untuk melihat informasi statistik dari data terkhusus untuk data dengan value kategorik."
   ]
  },
  {
   "cell_type": "code",
   "execution_count": 12,
   "id": "0c4a9701",
   "metadata": {
    "scrolled": true
   },
   "outputs": [
    {
     "data": {
      "text/plain": [
       "Croydon                   602100\n",
       "Barnet                    572832\n",
       "Ealing                    549396\n",
       "Bromley                   523908\n",
       "Lambeth                   519048\n",
       "Enfield                   511164\n",
       "Wandsworth                498636\n",
       "Brent                     490644\n",
       "Lewisham                  485136\n",
       "Southwark                 483300\n",
       "Newham                    471420\n",
       "Redbridge                 445716\n",
       "Hillingdon                442584\n",
       "Greenwich                 421200\n",
       "Hackney                   417744\n",
       "Haringey                  413856\n",
       "Tower Hamlets             412128\n",
       "Waltham Forest            406296\n",
       "Havering                  399600\n",
       "Hounslow                  395928\n",
       "Bexley                    385668\n",
       "Camden                    378432\n",
       "Westminster               366660\n",
       "Harrow                    365688\n",
       "Islington                 359208\n",
       "Merton                    339876\n",
       "Hammersmith and Fulham    328752\n",
       "Sutton                    322488\n",
       "Barking and Dagenham      311040\n",
       "Richmond upon Thames      304128\n",
       "Kensington and Chelsea    296784\n",
       "Kingston upon Thames      259524\n",
       "City of London              9720\n",
       "Name: town, dtype: int64"
      ]
     },
     "execution_count": 12,
     "metadata": {},
     "output_type": "execute_result"
    }
   ],
   "source": [
    "# menghitung count masing-masing town\n",
    "df.town.value_counts()"
   ]
  },
  {
   "cell_type": "markdown",
   "id": "b66ef6ae",
   "metadata": {},
   "source": [
    "Kode di atas digunakan untuk menghitung berapa kali nama suatu negara muncul pada kolom town."
   ]
  },
  {
   "cell_type": "code",
   "execution_count": 13,
   "id": "7fb86b5c",
   "metadata": {
    "scrolled": true
   },
   "outputs": [
    {
     "data": {
      "text/plain": [
       "2016    1498956\n",
       "2015    1498956\n",
       "2008    1498956\n",
       "2012    1498956\n",
       "2010    1498956\n",
       "2013    1498956\n",
       "2014    1498956\n",
       "2011    1498956\n",
       "2009    1498956\n",
       "Name: year, dtype: int64"
      ]
     },
     "execution_count": 13,
     "metadata": {},
     "output_type": "execute_result"
    }
   ],
   "source": [
    "# menghitung count masing-masing tahun\n",
    "df.year.value_counts()"
   ]
  },
  {
   "cell_type": "markdown",
   "id": "80140008",
   "metadata": {},
   "source": [
    "Kode di atas untuk menghitung berapa kali data tahun tersebut muncul pada dataset. Dengan kata lain ada berapa data dengan value kolom year yang tertera seperti di atas."
   ]
  },
  {
   "cell_type": "code",
   "execution_count": 14,
   "id": "28dca5e3",
   "metadata": {
    "scrolled": true
   },
   "outputs": [
    {
     "data": {
      "text/plain": [
       "Theft and Handling             3966300\n",
       "Violence Against the Person    3171744\n",
       "Criminal Damage                2069172\n",
       "Drugs                          1179468\n",
       "Burglary                       1043604\n",
       "Robbery                         939384\n",
       "Other Notifiable Offences       776304\n",
       "Fraud or Forgery                236520\n",
       "Sexual Offences                 108108\n",
       "Name: major_category, dtype: int64"
      ]
     },
     "execution_count": 14,
     "metadata": {},
     "output_type": "execute_result"
    }
   ],
   "source": [
    "# menghitung count masing-masing major crime category\n",
    "df.major_category.value_counts()"
   ]
  },
  {
   "cell_type": "markdown",
   "id": "ac805e3e",
   "metadata": {},
   "source": [
    "Sedangkan ini untuk menghitung berapa banyak data dengan value major_category seperti yang tertera di atas."
   ]
  },
  {
   "cell_type": "code",
   "execution_count": 15,
   "id": "26e2ae4d",
   "metadata": {
    "scrolled": true
   },
   "outputs": [
    {
     "data": {
      "text/plain": [
       "Common Assault                            522180\n",
       "Theft From Motor Vehicle                  522180\n",
       "Other Theft                               522180\n",
       "Burglary in Other Buildings               522072\n",
       "Theft/Taking Of Motor Vehicle             522072\n",
       "Harassment                                522072\n",
       "Criminal Damage To Motor Vehicle          521964\n",
       "Assault with Injury                       521856\n",
       "Other Criminal Damage                     521856\n",
       "Possession Of Drugs                       521748\n",
       "Burglary in a Dwelling                    521532\n",
       "Criminal Damage To Dwelling               521424\n",
       "Personal Property                         520668\n",
       "Motor Vehicle Interference & Tampering    520452\n",
       "Other Notifiable                          519696\n",
       "Other Theft Person                        519480\n",
       "Wounding/GBH                              519372\n",
       "Theft/Taking of Pedal Cycle               516996\n",
       "Other violence                            512028\n",
       "Criminal Damage To Other Building         503928\n",
       "Drug Trafficking                          490536\n",
       "Offensive Weapon                          481896\n",
       "Handling Stolen Goods                     426168\n",
       "Business Property                         418716\n",
       "Theft From Shops                          416772\n",
       "Going Equipped                            256608\n",
       "Other Drugs                               167184\n",
       "Counted per Victim                        137916\n",
       "Other Fraud & Forgery                      98604\n",
       "Murder                                     92340\n",
       "Other Sexual                               81108\n",
       "Rape                                       27000\n",
       "Name: minor_category, dtype: int64"
      ]
     },
     "execution_count": 15,
     "metadata": {},
     "output_type": "execute_result"
    }
   ],
   "source": [
    "# menghitung count masing-masing minor crime category\n",
    "df.minor_category.value_counts()"
   ]
  },
  {
   "cell_type": "markdown",
   "id": "2dac3080",
   "metadata": {},
   "source": [
    "Sedangkan ini untuk menghitung berapa banyak data dengan value minor_category seperti yang tertera di atas."
   ]
  },
  {
   "cell_type": "code",
   "execution_count": 16,
   "id": "48128acf",
   "metadata": {
    "scrolled": false
   },
   "outputs": [
    {
     "data": {
      "text/html": [
       "<div>\n",
       "<style scoped>\n",
       "    .dataframe tbody tr th:only-of-type {\n",
       "        vertical-align: middle;\n",
       "    }\n",
       "\n",
       "    .dataframe tbody tr th {\n",
       "        vertical-align: top;\n",
       "    }\n",
       "\n",
       "    .dataframe thead th {\n",
       "        text-align: right;\n",
       "    }\n",
       "</style>\n",
       "<table border=\"1\" class=\"dataframe\">\n",
       "  <thead>\n",
       "    <tr style=\"text-align: right;\">\n",
       "      <th></th>\n",
       "      <th>town</th>\n",
       "      <th>major_category</th>\n",
       "      <th>minor_category</th>\n",
       "      <th>count</th>\n",
       "      <th>year</th>\n",
       "      <th>month</th>\n",
       "    </tr>\n",
       "  </thead>\n",
       "  <tbody>\n",
       "    <tr>\n",
       "      <th>0</th>\n",
       "      <td>Croydon</td>\n",
       "      <td>Burglary</td>\n",
       "      <td>Burglary in Other Buildings</td>\n",
       "      <td>0</td>\n",
       "      <td>2016</td>\n",
       "      <td>11</td>\n",
       "    </tr>\n",
       "    <tr>\n",
       "      <th>1</th>\n",
       "      <td>Greenwich</td>\n",
       "      <td>Violence Against the Person</td>\n",
       "      <td>Other violence</td>\n",
       "      <td>0</td>\n",
       "      <td>2016</td>\n",
       "      <td>11</td>\n",
       "    </tr>\n",
       "    <tr>\n",
       "      <th>2</th>\n",
       "      <td>Bromley</td>\n",
       "      <td>Violence Against the Person</td>\n",
       "      <td>Other violence</td>\n",
       "      <td>0</td>\n",
       "      <td>2015</td>\n",
       "      <td>5</td>\n",
       "    </tr>\n",
       "    <tr>\n",
       "      <th>3</th>\n",
       "      <td>Redbridge</td>\n",
       "      <td>Burglary</td>\n",
       "      <td>Burglary in Other Buildings</td>\n",
       "      <td>0</td>\n",
       "      <td>2016</td>\n",
       "      <td>3</td>\n",
       "    </tr>\n",
       "    <tr>\n",
       "      <th>4</th>\n",
       "      <td>Wandsworth</td>\n",
       "      <td>Robbery</td>\n",
       "      <td>Personal Property</td>\n",
       "      <td>0</td>\n",
       "      <td>2008</td>\n",
       "      <td>6</td>\n",
       "    </tr>\n",
       "  </tbody>\n",
       "</table>\n",
       "</div>"
      ],
      "text/plain": [
       "         town               major_category               minor_category  \\\n",
       "0     Croydon                     Burglary  Burglary in Other Buildings   \n",
       "1   Greenwich  Violence Against the Person               Other violence   \n",
       "2     Bromley  Violence Against the Person               Other violence   \n",
       "3   Redbridge                     Burglary  Burglary in Other Buildings   \n",
       "4  Wandsworth                      Robbery            Personal Property   \n",
       "\n",
       "   count  year  month  \n",
       "0      0  2016     11  \n",
       "1      0  2016     11  \n",
       "2      0  2015      5  \n",
       "3      0  2016      3  \n",
       "4      0  2008      6  "
      ]
     },
     "execution_count": 16,
     "metadata": {},
     "output_type": "execute_result"
    }
   ],
   "source": [
    "# menampilkan 5 data teratas\n",
    "df.head()"
   ]
  },
  {
   "cell_type": "markdown",
   "id": "5fd709a5",
   "metadata": {},
   "source": [
    "code ini digunakan untuk menampilkan 5 data teratas, bisa untuk melihat value data secara sekilas."
   ]
  },
  {
   "cell_type": "markdown",
   "id": "4909265a",
   "metadata": {},
   "source": [
    "### Area Plot"
   ]
  },
  {
   "cell_type": "code",
   "execution_count": 71,
   "id": "32f18290",
   "metadata": {
    "scrolled": true
   },
   "outputs": [
    {
     "data": {
      "text/html": [
       "<div>\n",
       "<style scoped>\n",
       "    .dataframe tbody tr th:only-of-type {\n",
       "        vertical-align: middle;\n",
       "    }\n",
       "\n",
       "    .dataframe tbody tr th {\n",
       "        vertical-align: top;\n",
       "    }\n",
       "\n",
       "    .dataframe thead th {\n",
       "        text-align: right;\n",
       "    }\n",
       "</style>\n",
       "<table border=\"1\" class=\"dataframe\">\n",
       "  <thead>\n",
       "    <tr style=\"text-align: right;\">\n",
       "      <th></th>\n",
       "      <th>town</th>\n",
       "      <th>major_category</th>\n",
       "      <th>minor_category</th>\n",
       "      <th>count</th>\n",
       "      <th>year</th>\n",
       "      <th>month</th>\n",
       "    </tr>\n",
       "  </thead>\n",
       "  <tbody>\n",
       "    <tr>\n",
       "      <th>0</th>\n",
       "      <td>Croydon</td>\n",
       "      <td>Burglary</td>\n",
       "      <td>Burglary in Other Buildings</td>\n",
       "      <td>0</td>\n",
       "      <td>2016</td>\n",
       "      <td>11</td>\n",
       "    </tr>\n",
       "    <tr>\n",
       "      <th>1</th>\n",
       "      <td>Greenwich</td>\n",
       "      <td>Violence Against the Person</td>\n",
       "      <td>Other violence</td>\n",
       "      <td>0</td>\n",
       "      <td>2016</td>\n",
       "      <td>11</td>\n",
       "    </tr>\n",
       "    <tr>\n",
       "      <th>2</th>\n",
       "      <td>Bromley</td>\n",
       "      <td>Violence Against the Person</td>\n",
       "      <td>Other violence</td>\n",
       "      <td>0</td>\n",
       "      <td>2015</td>\n",
       "      <td>5</td>\n",
       "    </tr>\n",
       "    <tr>\n",
       "      <th>3</th>\n",
       "      <td>Redbridge</td>\n",
       "      <td>Burglary</td>\n",
       "      <td>Burglary in Other Buildings</td>\n",
       "      <td>0</td>\n",
       "      <td>2016</td>\n",
       "      <td>3</td>\n",
       "    </tr>\n",
       "    <tr>\n",
       "      <th>4</th>\n",
       "      <td>Wandsworth</td>\n",
       "      <td>Robbery</td>\n",
       "      <td>Personal Property</td>\n",
       "      <td>0</td>\n",
       "      <td>2008</td>\n",
       "      <td>6</td>\n",
       "    </tr>\n",
       "  </tbody>\n",
       "</table>\n",
       "</div>"
      ],
      "text/plain": [
       "         town               major_category               minor_category  \\\n",
       "0     Croydon                     Burglary  Burglary in Other Buildings   \n",
       "1   Greenwich  Violence Against the Person               Other violence   \n",
       "2     Bromley  Violence Against the Person               Other violence   \n",
       "3   Redbridge                     Burglary  Burglary in Other Buildings   \n",
       "4  Wandsworth                      Robbery            Personal Property   \n",
       "\n",
       "   count  year  month  \n",
       "0      0  2016     11  \n",
       "1      0  2016     11  \n",
       "2      0  2015      5  \n",
       "3      0  2016      3  \n",
       "4      0  2008      6  "
      ]
     },
     "execution_count": 71,
     "metadata": {},
     "output_type": "execute_result"
    }
   ],
   "source": [
    "# meanmpilkan 5(default) data teratas\n",
    "df.head()"
   ]
  },
  {
   "cell_type": "markdown",
   "id": "8e9c0621",
   "metadata": {},
   "source": [
    "code ini digunakan untuk menampilkan 5 data teratas, bisa untuk melihat value data secara sekilas."
   ]
  },
  {
   "cell_type": "code",
   "execution_count": 86,
   "id": "53cd0c1e",
   "metadata": {},
   "outputs": [],
   "source": [
    "# membuat data frame untuk data crimes tahun 2011\n",
    "df11 = df[(df['year']==2011)]\n",
    "df11 = df11.groupby(['month'])[['count']].sum()\n",
    "df11.rename(columns={'count':'2011'}, inplace=True)\n",
    "\n",
    "# membuat data frame untuk data crimes tahun 2012\n",
    "df12 = df[(df['year']==2012)]\n",
    "df12 = df12.groupby(['month'])[['count']].sum()\n",
    "df12.rename(columns={'count':'2012'}, inplace=True)\n",
    "\n",
    "# membuat data frame untuk data crimes tahun 2013\n",
    "df13 = df[(df['year']==2013)]\n",
    "df13 = df13.groupby(['month'])[['count']].sum()\n",
    "df13.rename(columns={'count':'2013'}, inplace=True)\n",
    "\n",
    "# membuat data frame untuk data crimes tahun 2014\n",
    "df14 = df[(df['year']==2014)]\n",
    "df14 = df14.groupby(['month'])[['count']].sum()\n",
    "df14.rename(columns={'count':'2014'}, inplace=True)\n",
    "\n",
    "# membuat data frame untuk data crimes tahun 2015\n",
    "df15 = df[(df['year']==2015)]\n",
    "df15 = df15.groupby(['month'])[['count']].sum()\n",
    "df15.rename(columns={'count':'2015'}, inplace=True)"
   ]
  },
  {
   "cell_type": "markdown",
   "id": "e9d34f13",
   "metadata": {},
   "source": [
    "Kode di atas bertujuan untuk membuat kolom baru untuk masing-masing tahun dimana memuat jumlah kasus untuk masing-masing bulan(bulan sebagai index)."
   ]
  },
  {
   "cell_type": "code",
   "execution_count": 87,
   "id": "80653c2f",
   "metadata": {},
   "outputs": [
    {
     "data": {
      "text/html": [
       "<div>\n",
       "<style scoped>\n",
       "    .dataframe tbody tr th:only-of-type {\n",
       "        vertical-align: middle;\n",
       "    }\n",
       "\n",
       "    .dataframe tbody tr th {\n",
       "        vertical-align: top;\n",
       "    }\n",
       "\n",
       "    .dataframe thead th {\n",
       "        text-align: right;\n",
       "    }\n",
       "</style>\n",
       "<table border=\"1\" class=\"dataframe\">\n",
       "  <thead>\n",
       "    <tr style=\"text-align: right;\">\n",
       "      <th></th>\n",
       "      <th>2011</th>\n",
       "      <th>2012</th>\n",
       "      <th>2013</th>\n",
       "      <th>2014</th>\n",
       "      <th>2015</th>\n",
       "    </tr>\n",
       "    <tr>\n",
       "      <th>month</th>\n",
       "      <th></th>\n",
       "      <th></th>\n",
       "      <th></th>\n",
       "      <th></th>\n",
       "      <th></th>\n",
       "    </tr>\n",
       "  </thead>\n",
       "  <tbody>\n",
       "    <tr>\n",
       "      <th>1</th>\n",
       "      <td>57966</td>\n",
       "      <td>62436</td>\n",
       "      <td>58933</td>\n",
       "      <td>55515</td>\n",
       "      <td>57055</td>\n",
       "    </tr>\n",
       "    <tr>\n",
       "      <th>2</th>\n",
       "      <td>54895</td>\n",
       "      <td>56735</td>\n",
       "      <td>55271</td>\n",
       "      <td>51222</td>\n",
       "      <td>53316</td>\n",
       "    </tr>\n",
       "    <tr>\n",
       "      <th>3</th>\n",
       "      <td>61282</td>\n",
       "      <td>67537</td>\n",
       "      <td>57590</td>\n",
       "      <td>57669</td>\n",
       "      <td>60096</td>\n",
       "    </tr>\n",
       "    <tr>\n",
       "      <th>4</th>\n",
       "      <td>58714</td>\n",
       "      <td>58801</td>\n",
       "      <td>55678</td>\n",
       "      <td>53467</td>\n",
       "      <td>56445</td>\n",
       "    </tr>\n",
       "    <tr>\n",
       "      <th>5</th>\n",
       "      <td>62630</td>\n",
       "      <td>64344</td>\n",
       "      <td>56765</td>\n",
       "      <td>56327</td>\n",
       "      <td>61038</td>\n",
       "    </tr>\n",
       "    <tr>\n",
       "      <th>6</th>\n",
       "      <td>61822</td>\n",
       "      <td>62281</td>\n",
       "      <td>56839</td>\n",
       "      <td>57039</td>\n",
       "      <td>60760</td>\n",
       "    </tr>\n",
       "    <tr>\n",
       "      <th>7</th>\n",
       "      <td>62428</td>\n",
       "      <td>63280</td>\n",
       "      <td>60508</td>\n",
       "      <td>58564</td>\n",
       "      <td>61606</td>\n",
       "    </tr>\n",
       "    <tr>\n",
       "      <th>8</th>\n",
       "      <td>59117</td>\n",
       "      <td>62143</td>\n",
       "      <td>57467</td>\n",
       "      <td>55641</td>\n",
       "      <td>58056</td>\n",
       "    </tr>\n",
       "    <tr>\n",
       "      <th>9</th>\n",
       "      <td>58640</td>\n",
       "      <td>56912</td>\n",
       "      <td>54924</td>\n",
       "      <td>56933</td>\n",
       "      <td>57564</td>\n",
       "    </tr>\n",
       "    <tr>\n",
       "      <th>10</th>\n",
       "      <td>63622</td>\n",
       "      <td>61728</td>\n",
       "      <td>59956</td>\n",
       "      <td>60537</td>\n",
       "      <td>62361</td>\n",
       "    </tr>\n",
       "    <tr>\n",
       "      <th>11</th>\n",
       "      <td>64119</td>\n",
       "      <td>62514</td>\n",
       "      <td>58267</td>\n",
       "      <td>59704</td>\n",
       "      <td>62487</td>\n",
       "    </tr>\n",
       "    <tr>\n",
       "      <th>12</th>\n",
       "      <td>59680</td>\n",
       "      <td>58618</td>\n",
       "      <td>54209</td>\n",
       "      <td>57565</td>\n",
       "      <td>60840</td>\n",
       "    </tr>\n",
       "  </tbody>\n",
       "</table>\n",
       "</div>"
      ],
      "text/plain": [
       "        2011   2012   2013   2014   2015\n",
       "month                                   \n",
       "1      57966  62436  58933  55515  57055\n",
       "2      54895  56735  55271  51222  53316\n",
       "3      61282  67537  57590  57669  60096\n",
       "4      58714  58801  55678  53467  56445\n",
       "5      62630  64344  56765  56327  61038\n",
       "6      61822  62281  56839  57039  60760\n",
       "7      62428  63280  60508  58564  61606\n",
       "8      59117  62143  57467  55641  58056\n",
       "9      58640  56912  54924  56933  57564\n",
       "10     63622  61728  59956  60537  62361\n",
       "11     64119  62514  58267  59704  62487\n",
       "12     59680  58618  54209  57565  60840"
      ]
     },
     "execution_count": 87,
     "metadata": {},
     "output_type": "execute_result"
    }
   ],
   "source": [
    "# menggabungkan data frame per tahun yang telah dibuat sebelumnya menjadi satu\n",
    "result = df11.join(df12)\n",
    "result = result.join(df13)\n",
    "result = result.join(df14)\n",
    "result = result.join(df15)\n",
    "result"
   ]
  },
  {
   "cell_type": "markdown",
   "id": "c1cf5103",
   "metadata": {},
   "source": [
    "Kode di atas untuk menggabungkan seluruh kolom yang dibuat sebelumnya ke dalam satu dataframe."
   ]
  },
  {
   "cell_type": "code",
   "execution_count": 92,
   "id": "2f95c2b9",
   "metadata": {},
   "outputs": [
    {
     "data": {
      "image/png": "[encoded data removed]",
      "text/plain": [
       "<Figure size 720x360 with 1 Axes>"
      ]
     },
     "metadata": {
      "needs_background": "light"
     },
     "output_type": "display_data"
    }
   ],
   "source": [
    "# membangun plot\n",
    "result.plot(kind='area',alpha=0.25, stacked = False, figsize=(10,5))\n",
    "\n",
    "plt.title('Crimes in London 2011-2015')\n",
    "plt.ylabel('Number of Crimes')\n",
    "plt.xlabel('Years')\n",
    "\n",
    "plt.show()"
   ]
  },
  {
   "cell_type": "markdown",
   "id": "2babc1c6",
   "metadata": {},
   "source": [
    "Dari plot tersebut dapat dilihat bahwa di setiap tahun pertumbuhan kejahatan bergerak secara dinamis ditandai dengan adanya peningkatan dan penurunan angka di bulan-bulan tertentu. Namun, jika dilihat secara garis besar, di keseluruhan tahun tidak ada lonjakan atau kenaikan angka kejahatan yang signifikan."
   ]
  },
  {
   "cell_type": "markdown",
   "id": "9b8e9597",
   "metadata": {},
   "source": [
    "### Histogram"
   ]
  },
  {
   "cell_type": "code",
   "execution_count": 98,
   "id": "17ac1cc9",
   "metadata": {},
   "outputs": [],
   "source": [
    "# membuat data frame untuk data crimes tahun 2011\n",
    "df11 = df[(df['year']==2011)]\n",
    "df11 = df11.groupby(['town'])[['count']].sum()\n",
    "df11.rename(columns={'count':'2011'}, inplace=True)\n",
    "\n",
    "# membuat data frame untuk data crimes tahun 2012\n",
    "df12 = df[(df['year']==2012)]\n",
    "df12 = df12.groupby(['town'])[['count']].sum()\n",
    "df12.rename(columns={'count':'2012'}, inplace=True)\n",
    "\n",
    "# membuat data frame untuk data crimes tahun 2013\n",
    "df13 = df[(df['year']==2013)]\n",
    "df13 = df13.groupby(['town'])[['count']].sum()\n",
    "df13.rename(columns={'count':'2013'}, inplace=True)\n",
    "\n",
    "# membuat data frame untuk data crimes tahun 2014\n",
    "df14 = df[(df['year']==2014)]\n",
    "df14 = df14.groupby(['town'])[['count']].sum()\n",
    "df14.rename(columns={'count':'2014'}, inplace=True)\n",
    "\n",
    "# membuat data frame untuk data crimes tahun 2015\n",
    "df15 = df[(df['year']==2015)]\n",
    "df15 = df15.groupby(['town'])[['count']].sum()\n",
    "df15.rename(columns={'count':'2015'}, inplace=True)"
   ]
  },
  {
   "cell_type": "markdown",
   "id": "73d6cb68",
   "metadata": {},
   "source": [
    "Kode di atas bertujuan untuk membuat kolom baru untuk masing-masing tahun dimana memuat jumlah kasus untuk masing-masing kota(kota sebagai index)."
   ]
  },
  {
   "cell_type": "code",
   "execution_count": 99,
   "id": "478460ac",
   "metadata": {
    "scrolled": true
   },
   "outputs": [
    {
     "data": {
      "text/html": [
       "<div>\n",
       "<style scoped>\n",
       "    .dataframe tbody tr th:only-of-type {\n",
       "        vertical-align: middle;\n",
       "    }\n",
       "\n",
       "    .dataframe tbody tr th {\n",
       "        vertical-align: top;\n",
       "    }\n",
       "\n",
       "    .dataframe thead th {\n",
       "        text-align: right;\n",
       "    }\n",
       "</style>\n",
       "<table border=\"1\" class=\"dataframe\">\n",
       "  <thead>\n",
       "    <tr style=\"text-align: right;\">\n",
       "      <th></th>\n",
       "      <th>2011</th>\n",
       "      <th>2012</th>\n",
       "      <th>2013</th>\n",
       "      <th>2014</th>\n",
       "      <th>2015</th>\n",
       "    </tr>\n",
       "    <tr>\n",
       "      <th>town</th>\n",
       "      <th></th>\n",
       "      <th></th>\n",
       "      <th></th>\n",
       "      <th></th>\n",
       "      <th></th>\n",
       "    </tr>\n",
       "  </thead>\n",
       "  <tbody>\n",
       "    <tr>\n",
       "      <th>Barking and Dagenham</th>\n",
       "      <td>16686</td>\n",
       "      <td>15990</td>\n",
       "      <td>15759</td>\n",
       "      <td>15426</td>\n",
       "      <td>16346</td>\n",
       "    </tr>\n",
       "    <tr>\n",
       "      <th>Barnet</th>\n",
       "      <td>24007</td>\n",
       "      <td>23573</td>\n",
       "      <td>22510</td>\n",
       "      <td>22572</td>\n",
       "      <td>24036</td>\n",
       "    </tr>\n",
       "    <tr>\n",
       "      <th>Bexley</th>\n",
       "      <td>11325</td>\n",
       "      <td>11669</td>\n",
       "      <td>11552</td>\n",
       "      <td>11844</td>\n",
       "      <td>11990</td>\n",
       "    </tr>\n",
       "    <tr>\n",
       "      <th>Brent</th>\n",
       "      <td>27669</td>\n",
       "      <td>26357</td>\n",
       "      <td>23759</td>\n",
       "      <td>24426</td>\n",
       "      <td>24883</td>\n",
       "    </tr>\n",
       "    <tr>\n",
       "      <th>Bromley</th>\n",
       "      <td>19868</td>\n",
       "      <td>19622</td>\n",
       "      <td>18945</td>\n",
       "      <td>19668</td>\n",
       "      <td>20637</td>\n",
       "    </tr>\n",
       "    <tr>\n",
       "      <th>Camden</th>\n",
       "      <td>33956</td>\n",
       "      <td>31472</td>\n",
       "      <td>28435</td>\n",
       "      <td>27198</td>\n",
       "      <td>29477</td>\n",
       "    </tr>\n",
       "    <tr>\n",
       "      <th>City of London</th>\n",
       "      <td>69</td>\n",
       "      <td>157</td>\n",
       "      <td>110</td>\n",
       "      <td>115</td>\n",
       "      <td>151</td>\n",
       "    </tr>\n",
       "    <tr>\n",
       "      <th>Croydon</th>\n",
       "      <td>29830</td>\n",
       "      <td>30189</td>\n",
       "      <td>27444</td>\n",
       "      <td>27357</td>\n",
       "      <td>28089</td>\n",
       "    </tr>\n",
       "    <tr>\n",
       "      <th>Ealing</th>\n",
       "      <td>29537</td>\n",
       "      <td>28832</td>\n",
       "      <td>25917</td>\n",
       "      <td>24978</td>\n",
       "      <td>26247</td>\n",
       "    </tr>\n",
       "    <tr>\n",
       "      <th>Enfield</th>\n",
       "      <td>21041</td>\n",
       "      <td>21069</td>\n",
       "      <td>21574</td>\n",
       "      <td>21700</td>\n",
       "      <td>22076</td>\n",
       "    </tr>\n",
       "    <tr>\n",
       "      <th>Greenwich</th>\n",
       "      <td>18552</td>\n",
       "      <td>20028</td>\n",
       "      <td>18948</td>\n",
       "      <td>19894</td>\n",
       "      <td>20929</td>\n",
       "    </tr>\n",
       "    <tr>\n",
       "      <th>Hackney</th>\n",
       "      <td>21395</td>\n",
       "      <td>27095</td>\n",
       "      <td>25633</td>\n",
       "      <td>24893</td>\n",
       "      <td>26941</td>\n",
       "    </tr>\n",
       "    <tr>\n",
       "      <th>Hammersmith and Fulham</th>\n",
       "      <td>22151</td>\n",
       "      <td>21030</td>\n",
       "      <td>18605</td>\n",
       "      <td>19185</td>\n",
       "      <td>19848</td>\n",
       "    </tr>\n",
       "    <tr>\n",
       "      <th>Haringey</th>\n",
       "      <td>23179</td>\n",
       "      <td>23231</td>\n",
       "      <td>20705</td>\n",
       "      <td>22773</td>\n",
       "      <td>24626</td>\n",
       "    </tr>\n",
       "    <tr>\n",
       "      <th>Harrow</th>\n",
       "      <td>12801</td>\n",
       "      <td>12803</td>\n",
       "      <td>11914</td>\n",
       "      <td>11909</td>\n",
       "      <td>12601</td>\n",
       "    </tr>\n",
       "    <tr>\n",
       "      <th>Havering</th>\n",
       "      <td>15496</td>\n",
       "      <td>15965</td>\n",
       "      <td>15089</td>\n",
       "      <td>14734</td>\n",
       "      <td>15870</td>\n",
       "    </tr>\n",
       "    <tr>\n",
       "      <th>Hillingdon</th>\n",
       "      <td>24282</td>\n",
       "      <td>22103</td>\n",
       "      <td>20248</td>\n",
       "      <td>23128</td>\n",
       "      <td>23234</td>\n",
       "    </tr>\n",
       "    <tr>\n",
       "      <th>Hounslow</th>\n",
       "      <td>21105</td>\n",
       "      <td>22724</td>\n",
       "      <td>19749</td>\n",
       "      <td>20005</td>\n",
       "      <td>21286</td>\n",
       "    </tr>\n",
       "    <tr>\n",
       "      <th>Islington</th>\n",
       "      <td>24980</td>\n",
       "      <td>26268</td>\n",
       "      <td>23784</td>\n",
       "      <td>24679</td>\n",
       "      <td>27032</td>\n",
       "    </tr>\n",
       "    <tr>\n",
       "      <th>Kensington and Chelsea</th>\n",
       "      <td>19146</td>\n",
       "      <td>19757</td>\n",
       "      <td>17702</td>\n",
       "      <td>17840</td>\n",
       "      <td>19070</td>\n",
       "    </tr>\n",
       "    <tr>\n",
       "      <th>Kingston upon Thames</th>\n",
       "      <td>10155</td>\n",
       "      <td>9956</td>\n",
       "      <td>9191</td>\n",
       "      <td>9288</td>\n",
       "      <td>9738</td>\n",
       "    </tr>\n",
       "    <tr>\n",
       "      <th>Lambeth</th>\n",
       "      <td>33224</td>\n",
       "      <td>33473</td>\n",
       "      <td>31868</td>\n",
       "      <td>31765</td>\n",
       "      <td>33164</td>\n",
       "    </tr>\n",
       "    <tr>\n",
       "      <th>Lewisham</th>\n",
       "      <td>24201</td>\n",
       "      <td>23652</td>\n",
       "      <td>22074</td>\n",
       "      <td>21101</td>\n",
       "      <td>23437</td>\n",
       "    </tr>\n",
       "    <tr>\n",
       "      <th>Merton</th>\n",
       "      <td>13548</td>\n",
       "      <td>12856</td>\n",
       "      <td>11595</td>\n",
       "      <td>11596</td>\n",
       "      <td>12273</td>\n",
       "    </tr>\n",
       "    <tr>\n",
       "      <th>Newham</th>\n",
       "      <td>27978</td>\n",
       "      <td>30067</td>\n",
       "      <td>27577</td>\n",
       "      <td>28005</td>\n",
       "      <td>29217</td>\n",
       "    </tr>\n",
       "    <tr>\n",
       "      <th>Redbridge</th>\n",
       "      <td>21994</td>\n",
       "      <td>21424</td>\n",
       "      <td>19793</td>\n",
       "      <td>19590</td>\n",
       "      <td>18897</td>\n",
       "    </tr>\n",
       "    <tr>\n",
       "      <th>Richmond upon Thames</th>\n",
       "      <td>10896</td>\n",
       "      <td>11168</td>\n",
       "      <td>10439</td>\n",
       "      <td>10456</td>\n",
       "      <td>10413</td>\n",
       "    </tr>\n",
       "    <tr>\n",
       "      <th>Southwark</th>\n",
       "      <td>30723</td>\n",
       "      <td>30737</td>\n",
       "      <td>31128</td>\n",
       "      <td>28912</td>\n",
       "      <td>30260</td>\n",
       "    </tr>\n",
       "    <tr>\n",
       "      <th>Sutton</th>\n",
       "      <td>11068</td>\n",
       "      <td>10948</td>\n",
       "      <td>10057</td>\n",
       "      <td>10443</td>\n",
       "      <td>10598</td>\n",
       "    </tr>\n",
       "    <tr>\n",
       "      <th>Tower Hamlets</th>\n",
       "      <td>24712</td>\n",
       "      <td>26784</td>\n",
       "      <td>26258</td>\n",
       "      <td>25504</td>\n",
       "      <td>27493</td>\n",
       "    </tr>\n",
       "    <tr>\n",
       "      <th>Waltham Forest</th>\n",
       "      <td>23714</td>\n",
       "      <td>22647</td>\n",
       "      <td>21903</td>\n",
       "      <td>20271</td>\n",
       "      <td>20969</td>\n",
       "    </tr>\n",
       "    <tr>\n",
       "      <th>Wandsworth</th>\n",
       "      <td>21384</td>\n",
       "      <td>24457</td>\n",
       "      <td>22290</td>\n",
       "      <td>21364</td>\n",
       "      <td>22401</td>\n",
       "    </tr>\n",
       "    <tr>\n",
       "      <th>Westminster</th>\n",
       "      <td>54243</td>\n",
       "      <td>59226</td>\n",
       "      <td>53852</td>\n",
       "      <td>47564</td>\n",
       "      <td>47395</td>\n",
       "    </tr>\n",
       "  </tbody>\n",
       "</table>\n",
       "</div>"
      ],
      "text/plain": [
       "                         2011   2012   2013   2014   2015\n",
       "town                                                     \n",
       "Barking and Dagenham    16686  15990  15759  15426  16346\n",
       "Barnet                  24007  23573  22510  22572  24036\n",
       "Bexley                  11325  11669  11552  11844  11990\n",
       "Brent                   27669  26357  23759  24426  24883\n",
       "Bromley                 19868  19622  18945  19668  20637\n",
       "Camden                  33956  31472  28435  27198  29477\n",
       "City of London             69    157    110    115    151\n",
       "Croydon                 29830  30189  27444  27357  28089\n",
       "Ealing                  29537  28832  25917  24978  26247\n",
       "Enfield                 21041  21069  21574  21700  22076\n",
       "Greenwich               18552  20028  18948  19894  20929\n",
       "Hackney                 21395  27095  25633  24893  26941\n",
       "Hammersmith and Fulham  22151  21030  18605  19185  19848\n",
       "Haringey                23179  23231  20705  22773  24626\n",
       "Harrow                  12801  12803  11914  11909  12601\n",
       "Havering                15496  15965  15089  14734  15870\n",
       "Hillingdon              24282  22103  20248  23128  23234\n",
       "Hounslow                21105  22724  19749  20005  21286\n",
       "Islington               24980  26268  23784  24679  27032\n",
       "Kensington and Chelsea  19146  19757  17702  17840  19070\n",
       "Kingston upon Thames    10155   9956   9191   9288   9738\n",
       "Lambeth                 33224  33473  31868  31765  33164\n",
       "Lewisham                24201  23652  22074  21101  23437\n",
       "Merton                  13548  12856  11595  11596  12273\n",
       "Newham                  27978  30067  27577  28005  29217\n",
       "Redbridge               21994  21424  19793  19590  18897\n",
       "Richmond upon Thames    10896  11168  10439  10456  10413\n",
       "Southwark               30723  30737  31128  28912  30260\n",
       "Sutton                  11068  10948  10057  10443  10598\n",
       "Tower Hamlets           24712  26784  26258  25504  27493\n",
       "Waltham Forest          23714  22647  21903  20271  20969\n",
       "Wandsworth              21384  24457  22290  21364  22401\n",
       "Westminster             54243  59226  53852  47564  47395"
      ]
     },
     "execution_count": 99,
     "metadata": {},
     "output_type": "execute_result"
    }
   ],
   "source": [
    "# menggabungkan data frame per tahun yang telah dibuat sebelumnya menjadi satu\n",
    "result = df11.join(df12)\n",
    "result = result.join(df13)\n",
    "result = result.join(df14)\n",
    "result = result.join(df15)\n",
    "result"
   ]
  },
  {
   "cell_type": "markdown",
   "id": "e9c08a66",
   "metadata": {},
   "source": [
    "Kode di atas untuk menggabungkan seluruh kolom yang dibuat sebelumnya ke dalam satu dataframe."
   ]
  },
  {
   "cell_type": "code",
   "execution_count": 104,
   "id": "ba7d8908",
   "metadata": {},
   "outputs": [
    {
     "data": {
      "text/plain": [
       "<AxesSubplot:ylabel='Frequency'>"
      ]
     },
     "execution_count": 104,
     "metadata": {},
     "output_type": "execute_result"
    },
    {
     "data": {
      "image/png": "[encoded data removed]",
      "text/plain": [
       "<Figure size 432x288 with 1 Axes>"
      ]
     },
     "metadata": {
      "needs_background": "light"
     },
     "output_type": "display_data"
    }
   ],
   "source": [
    "# memabngun plot untuk kejahatan di 3 kota pada tahun 2011-2015\n",
    "result.loc[['City of London', 'Barking and Dagenham', 'Westminster']].T.plot(kind='hist')"
   ]
  },
  {
   "cell_type": "markdown",
   "id": "2be3137f",
   "metadata": {},
   "source": [
    "Histogram di atas menunjukkan persebaran data untuk 3 kota yaitu City of London, Barking and Dagenham dan Westminster dalam rentang tahun 2011-2015. Bisa dilihat data untuk ketiga kota tersebut tidak tersebar secara merata karena datanya bertumpuk pada suatu area range saja. Untuk data City of London bisa diketahui bahwa ada sebanyak 5 data yang berada pada range 0-10000 yang artinya di setiap tahun(2011-2015) angka kejahatan di kota tersebut berada dalam rentang 0-10000. Hal yang sama juga ditunjukkan oleh data Barking and Dogenham hanya saja data untuk kota tersebut terletak pada range 10000-20000. Sedangkan untuk Westminster, datanya tersebar pada range 40000 sampai 60000."
   ]
  },
  {
   "cell_type": "markdown",
   "id": "37a5ffd9",
   "metadata": {},
   "source": [
    "### Bar Chart"
   ]
  },
  {
   "cell_type": "code",
   "execution_count": 20,
   "id": "194e8a21",
   "metadata": {},
   "outputs": [
    {
     "data": {
      "text/html": [
       "<div>\n",
       "<style scoped>\n",
       "    .dataframe tbody tr th:only-of-type {\n",
       "        vertical-align: middle;\n",
       "    }\n",
       "\n",
       "    .dataframe tbody tr th {\n",
       "        vertical-align: top;\n",
       "    }\n",
       "\n",
       "    .dataframe thead th {\n",
       "        text-align: right;\n",
       "    }\n",
       "</style>\n",
       "<table border=\"1\" class=\"dataframe\">\n",
       "  <thead>\n",
       "    <tr style=\"text-align: right;\">\n",
       "      <th></th>\n",
       "      <th>town</th>\n",
       "      <th>major_category</th>\n",
       "      <th>minor_category</th>\n",
       "      <th>count</th>\n",
       "      <th>year</th>\n",
       "      <th>month</th>\n",
       "    </tr>\n",
       "  </thead>\n",
       "  <tbody>\n",
       "    <tr>\n",
       "      <th>28</th>\n",
       "      <td>Haringey</td>\n",
       "      <td>Violence Against the Person</td>\n",
       "      <td>Wounding/GBH</td>\n",
       "      <td>0</td>\n",
       "      <td>2015</td>\n",
       "      <td>12</td>\n",
       "    </tr>\n",
       "    <tr>\n",
       "      <th>72</th>\n",
       "      <td>Barnet</td>\n",
       "      <td>Violence Against the Person</td>\n",
       "      <td>Other violence</td>\n",
       "      <td>0</td>\n",
       "      <td>2015</td>\n",
       "      <td>12</td>\n",
       "    </tr>\n",
       "    <tr>\n",
       "      <th>215</th>\n",
       "      <td>Redbridge</td>\n",
       "      <td>Violence Against the Person</td>\n",
       "      <td>Assault with Injury</td>\n",
       "      <td>2</td>\n",
       "      <td>2015</td>\n",
       "      <td>12</td>\n",
       "    </tr>\n",
       "    <tr>\n",
       "      <th>218</th>\n",
       "      <td>Westminster</td>\n",
       "      <td>Criminal Damage</td>\n",
       "      <td>Criminal Damage To Other Building</td>\n",
       "      <td>0</td>\n",
       "      <td>2015</td>\n",
       "      <td>12</td>\n",
       "    </tr>\n",
       "    <tr>\n",
       "      <th>309</th>\n",
       "      <td>Ealing</td>\n",
       "      <td>Violence Against the Person</td>\n",
       "      <td>Common Assault</td>\n",
       "      <td>1</td>\n",
       "      <td>2015</td>\n",
       "      <td>12</td>\n",
       "    </tr>\n",
       "  </tbody>\n",
       "</table>\n",
       "</div>"
      ],
      "text/plain": [
       "            town               major_category  \\\n",
       "28      Haringey  Violence Against the Person   \n",
       "72        Barnet  Violence Against the Person   \n",
       "215    Redbridge  Violence Against the Person   \n",
       "218  Westminster              Criminal Damage   \n",
       "309       Ealing  Violence Against the Person   \n",
       "\n",
       "                        minor_category  count  year  month  \n",
       "28                        Wounding/GBH      0  2015     12  \n",
       "72                      Other violence      0  2015     12  \n",
       "215                Assault with Injury      2  2015     12  \n",
       "218  Criminal Damage To Other Building      0  2015     12  \n",
       "309                     Common Assault      1  2015     12  "
      ]
     },
     "execution_count": 20,
     "metadata": {},
     "output_type": "execute_result"
    }
   ],
   "source": [
    "# filtering data dengan dua kondisi kemudian dijadikan dataframe baru\n",
    "df2015 = df[(df['month']==12)&(df['year']==2015)]\n",
    "df2015.head()"
   ]
  },
  {
   "cell_type": "markdown",
   "id": "a797e550",
   "metadata": {},
   "source": [
    "Kode di atas memfilter data khusus bulan desember pada tahun 2015. Kemudian ditampilkan data teratas untuk melihat data secara sekilas."
   ]
  },
  {
   "cell_type": "code",
   "execution_count": 21,
   "id": "aa6c73b8",
   "metadata": {
    "scrolled": true
   },
   "outputs": [
    {
     "data": {
      "text/html": [
       "<div>\n",
       "<style scoped>\n",
       "    .dataframe tbody tr th:only-of-type {\n",
       "        vertical-align: middle;\n",
       "    }\n",
       "\n",
       "    .dataframe tbody tr th {\n",
       "        vertical-align: top;\n",
       "    }\n",
       "\n",
       "    .dataframe thead th {\n",
       "        text-align: right;\n",
       "    }\n",
       "</style>\n",
       "<table border=\"1\" class=\"dataframe\">\n",
       "  <thead>\n",
       "    <tr style=\"text-align: right;\">\n",
       "      <th></th>\n",
       "      <th>count</th>\n",
       "    </tr>\n",
       "    <tr>\n",
       "      <th>town</th>\n",
       "      <th></th>\n",
       "    </tr>\n",
       "  </thead>\n",
       "  <tbody>\n",
       "    <tr>\n",
       "      <th>City of London</th>\n",
       "      <td>7</td>\n",
       "    </tr>\n",
       "    <tr>\n",
       "      <th>Richmond upon Thames</th>\n",
       "      <td>850</td>\n",
       "    </tr>\n",
       "    <tr>\n",
       "      <th>Sutton</th>\n",
       "      <td>876</td>\n",
       "    </tr>\n",
       "    <tr>\n",
       "      <th>Kingston upon Thames</th>\n",
       "      <td>895</td>\n",
       "    </tr>\n",
       "    <tr>\n",
       "      <th>Bexley</th>\n",
       "      <td>1031</td>\n",
       "    </tr>\n",
       "    <tr>\n",
       "      <th>Merton</th>\n",
       "      <td>1041</td>\n",
       "    </tr>\n",
       "    <tr>\n",
       "      <th>Harrow</th>\n",
       "      <td>1139</td>\n",
       "    </tr>\n",
       "    <tr>\n",
       "      <th>Barking and Dagenham</th>\n",
       "      <td>1410</td>\n",
       "    </tr>\n",
       "    <tr>\n",
       "      <th>Havering</th>\n",
       "      <td>1444</td>\n",
       "    </tr>\n",
       "    <tr>\n",
       "      <th>Kensington and Chelsea</th>\n",
       "      <td>1663</td>\n",
       "    </tr>\n",
       "    <tr>\n",
       "      <th>Redbridge</th>\n",
       "      <td>1672</td>\n",
       "    </tr>\n",
       "    <tr>\n",
       "      <th>Hammersmith and Fulham</th>\n",
       "      <td>1695</td>\n",
       "    </tr>\n",
       "    <tr>\n",
       "      <th>Bromley</th>\n",
       "      <td>1720</td>\n",
       "    </tr>\n",
       "    <tr>\n",
       "      <th>Greenwich</th>\n",
       "      <td>1749</td>\n",
       "    </tr>\n",
       "    <tr>\n",
       "      <th>Wandsworth</th>\n",
       "      <td>1810</td>\n",
       "    </tr>\n",
       "    <tr>\n",
       "      <th>Hounslow</th>\n",
       "      <td>1837</td>\n",
       "    </tr>\n",
       "    <tr>\n",
       "      <th>Waltham Forest</th>\n",
       "      <td>1858</td>\n",
       "    </tr>\n",
       "    <tr>\n",
       "      <th>Enfield</th>\n",
       "      <td>1939</td>\n",
       "    </tr>\n",
       "    <tr>\n",
       "      <th>Lewisham</th>\n",
       "      <td>2016</td>\n",
       "    </tr>\n",
       "    <tr>\n",
       "      <th>Hillingdon</th>\n",
       "      <td>2020</td>\n",
       "    </tr>\n",
       "    <tr>\n",
       "      <th>Barnet</th>\n",
       "      <td>2072</td>\n",
       "    </tr>\n",
       "    <tr>\n",
       "      <th>Hackney</th>\n",
       "      <td>2116</td>\n",
       "    </tr>\n",
       "    <tr>\n",
       "      <th>Brent</th>\n",
       "      <td>2145</td>\n",
       "    </tr>\n",
       "    <tr>\n",
       "      <th>Haringey</th>\n",
       "      <td>2161</td>\n",
       "    </tr>\n",
       "    <tr>\n",
       "      <th>Croydon</th>\n",
       "      <td>2232</td>\n",
       "    </tr>\n",
       "    <tr>\n",
       "      <th>Ealing</th>\n",
       "      <td>2261</td>\n",
       "    </tr>\n",
       "    <tr>\n",
       "      <th>Islington</th>\n",
       "      <td>2332</td>\n",
       "    </tr>\n",
       "    <tr>\n",
       "      <th>Newham</th>\n",
       "      <td>2360</td>\n",
       "    </tr>\n",
       "    <tr>\n",
       "      <th>Camden</th>\n",
       "      <td>2399</td>\n",
       "    </tr>\n",
       "    <tr>\n",
       "      <th>Tower Hamlets</th>\n",
       "      <td>2400</td>\n",
       "    </tr>\n",
       "    <tr>\n",
       "      <th>Southwark</th>\n",
       "      <td>2543</td>\n",
       "    </tr>\n",
       "    <tr>\n",
       "      <th>Lambeth</th>\n",
       "      <td>2733</td>\n",
       "    </tr>\n",
       "    <tr>\n",
       "      <th>Westminster</th>\n",
       "      <td>4414</td>\n",
       "    </tr>\n",
       "  </tbody>\n",
       "</table>\n",
       "</div>"
      ],
      "text/plain": [
       "                        count\n",
       "town                         \n",
       "City of London              7\n",
       "Richmond upon Thames      850\n",
       "Sutton                    876\n",
       "Kingston upon Thames      895\n",
       "Bexley                   1031\n",
       "Merton                   1041\n",
       "Harrow                   1139\n",
       "Barking and Dagenham     1410\n",
       "Havering                 1444\n",
       "Kensington and Chelsea   1663\n",
       "Redbridge                1672\n",
       "Hammersmith and Fulham   1695\n",
       "Bromley                  1720\n",
       "Greenwich                1749\n",
       "Wandsworth               1810\n",
       "Hounslow                 1837\n",
       "Waltham Forest           1858\n",
       "Enfield                  1939\n",
       "Lewisham                 2016\n",
       "Hillingdon               2020\n",
       "Barnet                   2072\n",
       "Hackney                  2116\n",
       "Brent                    2145\n",
       "Haringey                 2161\n",
       "Croydon                  2232\n",
       "Ealing                   2261\n",
       "Islington                2332\n",
       "Newham                   2360\n",
       "Camden                   2399\n",
       "Tower Hamlets            2400\n",
       "Southwark                2543\n",
       "Lambeth                  2733\n",
       "Westminster              4414"
      ]
     },
     "execution_count": 21,
     "metadata": {},
     "output_type": "execute_result"
    }
   ],
   "source": [
    "# melakukan group by berdasarkan nama kota dan dilakukan penjumlahan angka kriminal untuk masing-masing kota\n",
    "df2015 = df2015.groupby(['town'])[['count']].sum().sort_values(by=['count'], ascending=True)\n",
    "df2015"
   ]
  },
  {
   "cell_type": "markdown",
   "id": "01f92979",
   "metadata": {},
   "source": [
    "Kemudian dilakukan group by untuk dikelompokkan per kota dan dihitung total kasus per kota pada bulan 12 tahun 2015"
   ]
  },
  {
   "cell_type": "code",
   "execution_count": 22,
   "id": "5a04e35e",
   "metadata": {},
   "outputs": [
    {
     "data": {
      "image/png": "[encoded data removed]",
      "text/plain": [
       "<Figure size 504x576 with 1 Axes>"
      ]
     },
     "metadata": {
      "needs_background": "light"
     },
     "output_type": "display_data"
    }
   ],
   "source": [
    "# membangun plot\n",
    "df2015.plot(kind='barh', color='red', figsize=(7,8))\n",
    "\n",
    "plt.title('Crimes That Happen in London at the end of the year(2015)')\n",
    "plt.ylabel('Number of Crimes')\n",
    "plt.xlabel('Town')\n",
    "\n",
    "plt.show()"
   ]
  },
  {
   "cell_type": "markdown",
   "id": "d1f7b72a",
   "metadata": {},
   "source": [
    "Gambar di atas merupakan bar plot yang menunjukkan frekuensi kejahatan pada akhir tahun 2015 di masing-masing kota. Bisa dilihat bahwa pada akhir tahun 2015 kejahatan paling minim terjadi di City of London sedangkan paling tinggi terjadi di Westminster. Tentunya hal ini sangat berbahaya dikarenakan akhir tahun merupakan waktu dimana perkotaan menjadi lebih padat sehingga dibutuhkan peningkatan pada sistem keamanan kota."
   ]
  },
  {
   "cell_type": "markdown",
   "id": "9064f749",
   "metadata": {},
   "source": [
    "### Pie Chart"
   ]
  },
  {
   "cell_type": "code",
   "execution_count": 23,
   "id": "3ff1adef",
   "metadata": {},
   "outputs": [
    {
     "data": {
      "text/html": [
       "<div>\n",
       "<style scoped>\n",
       "    .dataframe tbody tr th:only-of-type {\n",
       "        vertical-align: middle;\n",
       "    }\n",
       "\n",
       "    .dataframe tbody tr th {\n",
       "        vertical-align: top;\n",
       "    }\n",
       "\n",
       "    .dataframe thead th {\n",
       "        text-align: right;\n",
       "    }\n",
       "</style>\n",
       "<table border=\"1\" class=\"dataframe\">\n",
       "  <thead>\n",
       "    <tr style=\"text-align: right;\">\n",
       "      <th></th>\n",
       "      <th>count</th>\n",
       "    </tr>\n",
       "    <tr>\n",
       "      <th>year</th>\n",
       "      <th></th>\n",
       "    </tr>\n",
       "  </thead>\n",
       "  <tbody>\n",
       "    <tr>\n",
       "      <th>2008</th>\n",
       "      <td>738641</td>\n",
       "    </tr>\n",
       "    <tr>\n",
       "      <th>2009</th>\n",
       "      <td>717214</td>\n",
       "    </tr>\n",
       "    <tr>\n",
       "      <th>2010</th>\n",
       "      <td>715324</td>\n",
       "    </tr>\n",
       "    <tr>\n",
       "      <th>2011</th>\n",
       "      <td>724915</td>\n",
       "    </tr>\n",
       "    <tr>\n",
       "      <th>2012</th>\n",
       "      <td>737329</td>\n",
       "    </tr>\n",
       "    <tr>\n",
       "      <th>2013</th>\n",
       "      <td>686407</td>\n",
       "    </tr>\n",
       "    <tr>\n",
       "      <th>2014</th>\n",
       "      <td>680183</td>\n",
       "    </tr>\n",
       "    <tr>\n",
       "      <th>2015</th>\n",
       "      <td>711624</td>\n",
       "    </tr>\n",
       "    <tr>\n",
       "      <th>2016</th>\n",
       "      <td>736121</td>\n",
       "    </tr>\n",
       "  </tbody>\n",
       "</table>\n",
       "</div>"
      ],
      "text/plain": [
       "       count\n",
       "year        \n",
       "2008  738641\n",
       "2009  717214\n",
       "2010  715324\n",
       "2011  724915\n",
       "2012  737329\n",
       "2013  686407\n",
       "2014  680183\n",
       "2015  711624\n",
       "2016  736121"
      ]
     },
     "execution_count": 23,
     "metadata": {},
     "output_type": "execute_result"
    }
   ],
   "source": [
    "# count angka kriminal untuk maisng-masing tahun\n",
    "dfyear = df.groupby(['year'])[['count']].sum().sort_values(by=['year'], ascending=True)\n",
    "dfyear"
   ]
  },
  {
   "cell_type": "markdown",
   "id": "468b5b7b",
   "metadata": {},
   "source": [
    "Kode di atas untuk mengelompokkan data berdasarkan tahun dan menghitung total case per tahun."
   ]
  },
  {
   "cell_type": "code",
   "execution_count": 24,
   "id": "1c9fc3b2",
   "metadata": {},
   "outputs": [
    {
     "data": {
      "image/png": "[encoded data removed]",
      "text/plain": [
       "<Figure size 1080x432 with 1 Axes>"
      ]
     },
     "metadata": {},
     "output_type": "display_data"
    }
   ],
   "source": [
    "#membangun pie chart\n",
    "colors_list = ['purple', 'cyan', 'orange', 'brown', 'blue', 'yellowgreen','lightcoral','lightskyblue','lightgreen']\n",
    "explode_list = [0,0,0.2,0,0,0,0.2,0,0]\n",
    "\n",
    "dfyear['count'].plot(kind='pie',\n",
    "                          figsize=(15,6),\n",
    "                          autopct='%1.1f%%',\n",
    "                           startangle=90,\n",
    "                           shadow=True,\n",
    "                          labels=None,\n",
    "                          pctdistance=1.12,\n",
    "                          colors=colors_list,\n",
    "                          explode=explode_list)\n",
    "\n",
    "plt.legend(labels=dfyear.index, loc='upper left')\n",
    "plt.axis('equal')\n",
    "plt.title('Crimes That Happen in London 2008-2016', y=1.12)\n",
    "\n",
    "plt.show()"
   ]
  },
  {
   "cell_type": "markdown",
   "id": "bc7a652e",
   "metadata": {},
   "source": [
    "Plot di atas menunjukkan perbandingan seluruh kejahatan yang terjadi di London dari tahun 2008 sampai 2016. Jika kita bandingan untuk setiap tahunnya, tidak tampak perbandingan yang terlalu mencolok dengan kata lain porsi kejahatan yang terjadi di tiap tahunnya hampir sebanding. Persentase tertinggi adalah 11,1% yaitu untuk tahun 2010 dan persentase paling rendah adalah 10,5% pada tahun 2014."
   ]
  },
  {
   "cell_type": "markdown",
   "id": "f7a42c49",
   "metadata": {},
   "source": [
    "### Box Plot"
   ]
  },
  {
   "cell_type": "code",
   "execution_count": 109,
   "id": "d53d6b77",
   "metadata": {
    "scrolled": true
   },
   "outputs": [
    {
     "data": {
      "text/html": [
       "<div>\n",
       "<style scoped>\n",
       "    .dataframe tbody tr th:only-of-type {\n",
       "        vertical-align: middle;\n",
       "    }\n",
       "\n",
       "    .dataframe tbody tr th {\n",
       "        vertical-align: top;\n",
       "    }\n",
       "\n",
       "    .dataframe thead th {\n",
       "        text-align: right;\n",
       "    }\n",
       "</style>\n",
       "<table border=\"1\" class=\"dataframe\">\n",
       "  <thead>\n",
       "    <tr style=\"text-align: right;\">\n",
       "      <th></th>\n",
       "      <th>crime</th>\n",
       "    </tr>\n",
       "    <tr>\n",
       "      <th>year</th>\n",
       "      <th></th>\n",
       "    </tr>\n",
       "  </thead>\n",
       "  <tbody>\n",
       "    <tr>\n",
       "      <th>2008</th>\n",
       "      <td>738641</td>\n",
       "    </tr>\n",
       "    <tr>\n",
       "      <th>2009</th>\n",
       "      <td>717214</td>\n",
       "    </tr>\n",
       "    <tr>\n",
       "      <th>2010</th>\n",
       "      <td>715324</td>\n",
       "    </tr>\n",
       "    <tr>\n",
       "      <th>2011</th>\n",
       "      <td>724915</td>\n",
       "    </tr>\n",
       "    <tr>\n",
       "      <th>2012</th>\n",
       "      <td>737329</td>\n",
       "    </tr>\n",
       "    <tr>\n",
       "      <th>2013</th>\n",
       "      <td>686407</td>\n",
       "    </tr>\n",
       "    <tr>\n",
       "      <th>2014</th>\n",
       "      <td>680183</td>\n",
       "    </tr>\n",
       "    <tr>\n",
       "      <th>2015</th>\n",
       "      <td>711624</td>\n",
       "    </tr>\n",
       "    <tr>\n",
       "      <th>2016</th>\n",
       "      <td>736121</td>\n",
       "    </tr>\n",
       "  </tbody>\n",
       "</table>\n",
       "</div>"
      ],
      "text/plain": [
       "       crime\n",
       "year        \n",
       "2008  738641\n",
       "2009  717214\n",
       "2010  715324\n",
       "2011  724915\n",
       "2012  737329\n",
       "2013  686407\n",
       "2014  680183\n",
       "2015  711624\n",
       "2016  736121"
      ]
     },
     "execution_count": 109,
     "metadata": {},
     "output_type": "execute_result"
    }
   ],
   "source": [
    "# count angka kriminal untuk maisng-masing tahun\n",
    "dfyear = df.groupby(['year'])[['count']].sum().sort_values(by=['year'], ascending=True)\n",
    "\n",
    "# mengubah nama kolom\n",
    "dfyear = dfyear.rename(columns={'count':'crime'})\n",
    "\n",
    "dfyear"
   ]
  },
  {
   "cell_type": "markdown",
   "id": "58c4023d",
   "metadata": {},
   "source": [
    "Kode di atas untuk mengelompokkan data berdasarkan tahun dan menghitung total case per tahun. Kemudian dilakukan rename kolom untuk memudahkan nantinya dan ditampilkan data teratas."
   ]
  },
  {
   "cell_type": "code",
   "execution_count": 110,
   "id": "e3373b5a",
   "metadata": {
    "scrolled": true
   },
   "outputs": [
    {
     "data": {
      "text/html": [
       "<div>\n",
       "<style scoped>\n",
       "    .dataframe tbody tr th:only-of-type {\n",
       "        vertical-align: middle;\n",
       "    }\n",
       "\n",
       "    .dataframe tbody tr th {\n",
       "        vertical-align: top;\n",
       "    }\n",
       "\n",
       "    .dataframe thead th {\n",
       "        text-align: right;\n",
       "    }\n",
       "</style>\n",
       "<table border=\"1\" class=\"dataframe\">\n",
       "  <thead>\n",
       "    <tr style=\"text-align: right;\">\n",
       "      <th></th>\n",
       "      <th>crime</th>\n",
       "    </tr>\n",
       "  </thead>\n",
       "  <tbody>\n",
       "    <tr>\n",
       "      <th>count</th>\n",
       "      <td>9.000000</td>\n",
       "    </tr>\n",
       "    <tr>\n",
       "      <th>mean</th>\n",
       "      <td>716417.555556</td>\n",
       "    </tr>\n",
       "    <tr>\n",
       "      <th>std</th>\n",
       "      <td>21301.370555</td>\n",
       "    </tr>\n",
       "    <tr>\n",
       "      <th>min</th>\n",
       "      <td>680183.000000</td>\n",
       "    </tr>\n",
       "    <tr>\n",
       "      <th>25%</th>\n",
       "      <td>711624.000000</td>\n",
       "    </tr>\n",
       "    <tr>\n",
       "      <th>50%</th>\n",
       "      <td>717214.000000</td>\n",
       "    </tr>\n",
       "    <tr>\n",
       "      <th>75%</th>\n",
       "      <td>736121.000000</td>\n",
       "    </tr>\n",
       "    <tr>\n",
       "      <th>max</th>\n",
       "      <td>738641.000000</td>\n",
       "    </tr>\n",
       "  </tbody>\n",
       "</table>\n",
       "</div>"
      ],
      "text/plain": [
       "               crime\n",
       "count       9.000000\n",
       "mean   716417.555556\n",
       "std     21301.370555\n",
       "min    680183.000000\n",
       "25%    711624.000000\n",
       "50%    717214.000000\n",
       "75%    736121.000000\n",
       "max    738641.000000"
      ]
     },
     "execution_count": 110,
     "metadata": {},
     "output_type": "execute_result"
    }
   ],
   "source": [
    "# menampilkan informasi statistik dari dfyear\n",
    "dfyear.describe()"
   ]
  },
  {
   "cell_type": "markdown",
   "id": "9faad57a",
   "metadata": {},
   "source": [
    "Code di atas digunakan untuk melihat informasi statistik dari data terkhusus untuk data dengan value numerik."
   ]
  },
  {
   "cell_type": "code",
   "execution_count": 111,
   "id": "96ac9e31",
   "metadata": {
    "scrolled": false
   },
   "outputs": [
    {
     "data": {
      "image/png": "[encoded data removed]",
      "text/plain": [
       "<Figure size 576x432 with 1 Axes>"
      ]
     },
     "metadata": {
      "needs_background": "light"
     },
     "output_type": "display_data"
    }
   ],
   "source": [
    "# membangun box plot\n",
    "dfyear.plot(kind='box', figsize=(8,6))\n",
    "\n",
    "plt.title('Crimes in London 2008-2016')\n",
    "plt.ylabel('Number of Crimes')\n",
    "\n",
    "plt.show()"
   ]
  },
  {
   "cell_type": "markdown",
   "id": "ed451cac",
   "metadata": {},
   "source": [
    "Boxplot tersebut bisa digunakan untuk melihat informasi statistik dari data jumlah crime untuk masing-masing tahun. Pertama, bisa dipastikan bahwa tidak terdapat outlier atau pencilan pada data tersebut. Berdasarkan whisker pada plot, kita dapat melihat bahwa whisker atas lebih pendek dikarenakan kotak boxplot yang cenderung berada pada bagian atas plot sehingga dapat disimpulkan persebaran data cenderung ke atas atau ada lebih banyak data dengan value yang tinggi. Nilai minimum berada pada kisaran 680000 dan nilai max berada pada kisaran mendekati 740000. Q1 berada pada kisaran 712000, Q2 berada pada kisaran 717000 dan Q3 pada kisaran 738000."
   ]
  },
  {
   "cell_type": "markdown",
   "id": "993b0a9e",
   "metadata": {},
   "source": [
    "### Scatter Plot"
   ]
  },
  {
   "cell_type": "code",
   "execution_count": 112,
   "id": "bb39c231",
   "metadata": {
    "scrolled": true
   },
   "outputs": [
    {
     "data": {
      "text/html": [
       "<div>\n",
       "<style scoped>\n",
       "    .dataframe tbody tr th:only-of-type {\n",
       "        vertical-align: middle;\n",
       "    }\n",
       "\n",
       "    .dataframe tbody tr th {\n",
       "        vertical-align: top;\n",
       "    }\n",
       "\n",
       "    .dataframe thead th {\n",
       "        text-align: right;\n",
       "    }\n",
       "</style>\n",
       "<table border=\"1\" class=\"dataframe\">\n",
       "  <thead>\n",
       "    <tr style=\"text-align: right;\">\n",
       "      <th></th>\n",
       "      <th>crime</th>\n",
       "    </tr>\n",
       "    <tr>\n",
       "      <th>year</th>\n",
       "      <th></th>\n",
       "    </tr>\n",
       "  </thead>\n",
       "  <tbody>\n",
       "    <tr>\n",
       "      <th>2008</th>\n",
       "      <td>738641</td>\n",
       "    </tr>\n",
       "    <tr>\n",
       "      <th>2009</th>\n",
       "      <td>717214</td>\n",
       "    </tr>\n",
       "    <tr>\n",
       "      <th>2010</th>\n",
       "      <td>715324</td>\n",
       "    </tr>\n",
       "    <tr>\n",
       "      <th>2011</th>\n",
       "      <td>724915</td>\n",
       "    </tr>\n",
       "    <tr>\n",
       "      <th>2012</th>\n",
       "      <td>737329</td>\n",
       "    </tr>\n",
       "  </tbody>\n",
       "</table>\n",
       "</div>"
      ],
      "text/plain": [
       "       crime\n",
       "year        \n",
       "2008  738641\n",
       "2009  717214\n",
       "2010  715324\n",
       "2011  724915\n",
       "2012  737329"
      ]
     },
     "execution_count": 112,
     "metadata": {},
     "output_type": "execute_result"
    }
   ],
   "source": [
    "# menampilkan data teratas\n",
    "dfyear.head()"
   ]
  },
  {
   "cell_type": "markdown",
   "id": "07024032",
   "metadata": {},
   "source": [
    "menampilkan data teratas untuk melihat data teratas."
   ]
  },
  {
   "cell_type": "code",
   "execution_count": 113,
   "id": "da1bbdcd",
   "metadata": {
    "scrolled": true
   },
   "outputs": [
    {
     "data": {
      "text/html": [
       "<div>\n",
       "<style scoped>\n",
       "    .dataframe tbody tr th:only-of-type {\n",
       "        vertical-align: middle;\n",
       "    }\n",
       "\n",
       "    .dataframe tbody tr th {\n",
       "        vertical-align: top;\n",
       "    }\n",
       "\n",
       "    .dataframe thead th {\n",
       "        text-align: right;\n",
       "    }\n",
       "</style>\n",
       "<table border=\"1\" class=\"dataframe\">\n",
       "  <thead>\n",
       "    <tr style=\"text-align: right;\">\n",
       "      <th></th>\n",
       "      <th>year</th>\n",
       "      <th>crime</th>\n",
       "    </tr>\n",
       "  </thead>\n",
       "  <tbody>\n",
       "    <tr>\n",
       "      <th>0</th>\n",
       "      <td>2008</td>\n",
       "      <td>738641</td>\n",
       "    </tr>\n",
       "    <tr>\n",
       "      <th>1</th>\n",
       "      <td>2009</td>\n",
       "      <td>717214</td>\n",
       "    </tr>\n",
       "    <tr>\n",
       "      <th>2</th>\n",
       "      <td>2010</td>\n",
       "      <td>715324</td>\n",
       "    </tr>\n",
       "    <tr>\n",
       "      <th>3</th>\n",
       "      <td>2011</td>\n",
       "      <td>724915</td>\n",
       "    </tr>\n",
       "    <tr>\n",
       "      <th>4</th>\n",
       "      <td>2012</td>\n",
       "      <td>737329</td>\n",
       "    </tr>\n",
       "  </tbody>\n",
       "</table>\n",
       "</div>"
      ],
      "text/plain": [
       "   year   crime\n",
       "0  2008  738641\n",
       "1  2009  717214\n",
       "2  2010  715324\n",
       "3  2011  724915\n",
       "4  2012  737329"
      ]
     },
     "execution_count": 113,
     "metadata": {},
     "output_type": "execute_result"
    }
   ],
   "source": [
    "# melakukan reset index\n",
    "dfyear.reset_index(inplace=True)\n",
    "dfyear.head()"
   ]
  },
  {
   "cell_type": "markdown",
   "id": "c8e09bb1",
   "metadata": {},
   "source": [
    "Kode di atas untuk melakukan reset index atau mengembalikan index menjadi nomor urut."
   ]
  },
  {
   "cell_type": "code",
   "execution_count": 115,
   "id": "39bf71d6",
   "metadata": {
    "scrolled": true
   },
   "outputs": [
    {
     "data": {
      "image/png": "[encoded data removed]",
      "text/plain": [
       "<Figure size 504x288 with 1 Axes>"
      ]
     },
     "metadata": {
      "needs_background": "light"
     },
     "output_type": "display_data"
    }
   ],
   "source": [
    "# membangun scatter plot\n",
    "dfyear.plot(kind='scatter', x='year', y='crime', figsize=(7,4))\n",
    "\n",
    "plt.title('Crimes in London 1980-2013')\n",
    "plt.ylabel('Total Crimes')\n",
    "\n",
    "plt.show()"
   ]
  },
  {
   "cell_type": "markdown",
   "id": "14235038",
   "metadata": {},
   "source": [
    "Plot ini biasanya digunakan untuk melihat hubungan dari dua variabel. Dari plot yang dihasilkan dapat disimpulkan bahwa variabel year dan count memiliki hubungan yang rendah atau bahkan tidak ada sama sekali. Dapat dilihat dari pergerakan data yang tidak se arah antara variabel year dan count, dengan kata lain kenaikan atau penurunan salah satu variabel tidak mempengaruhi variabel lainnya. Selain itu juga dapat dilihat persebaran datanya, yaitu data ini tersebar secara acak atau tidak menumpuk pada suatu area"
   ]
  },
  {
   "cell_type": "markdown",
   "id": "1e6c0084",
   "metadata": {},
   "source": [
    "### Word Clouds"
   ]
  },
  {
   "cell_type": "code",
   "execution_count": 31,
   "id": "d6b4bebc",
   "metadata": {},
   "outputs": [],
   "source": [
    "# import library\n",
    "from wordcloud import WordCloud"
   ]
  },
  {
   "cell_type": "markdown",
   "id": "ea56ff6c",
   "metadata": {},
   "source": [
    "dilakukan import library agar dapat digunakan fungsi-fungsi yang diperlukan."
   ]
  },
  {
   "cell_type": "code",
   "execution_count": 37,
   "id": "6b826f40",
   "metadata": {},
   "outputs": [
    {
     "data": {
      "image/png": "[encoded data removed]",
      "text/plain": [
       "<Figure size 432x288 with 1 Axes>"
      ]
     },
     "metadata": {
      "needs_background": "light"
     },
     "output_type": "display_data"
    }
   ],
   "source": [
    "# assign data town ke variable town\n",
    "town = df['town']\n",
    "\n",
    "text = ' '.join(town)\n",
    "wordcloud = WordCloud(width = 1000, height = 800, background_color = 'white').generate(text)\n",
    "\n",
    "# Membangun plot\n",
    "plt.imshow(wordcloud)\n",
    "plt.axis(\"off\")\n",
    "\n",
    "plt.show()"
   ]
  },
  {
   "cell_type": "markdown",
   "id": "1927491f",
   "metadata": {},
   "source": [
    "Kode di atas menggunakan data dari kolom town untuk diolah. Menggunakan fungsi join(), diambil semua nilai dari kolom town kemudian digabungkan ke dalam satu string dimana ' ' (spasi) digunakan sebagai separator atau pemisah antara nama kotak. Tujuan dari World Clouds ini adalah untuk melihat nama kota mana yang paling sering muncul."
   ]
  },
  {
   "cell_type": "markdown",
   "id": "213d0bf8",
   "metadata": {},
   "source": [
    "Folium Maps"
   ]
  },
  {
   "cell_type": "code",
   "execution_count": 38,
   "id": "7049057f",
   "metadata": {},
   "outputs": [],
   "source": [
    "# import library\n",
    "import folium"
   ]
  },
  {
   "cell_type": "markdown",
   "id": "da478592",
   "metadata": {},
   "source": [
    "dilakukan import library agar dapat digunakan fungsi-fungsi yang diperlukan."
   ]
  },
  {
   "cell_type": "code",
   "execution_count": 118,
   "id": "fcc13fce",
   "metadata": {},
   "outputs": [
    {
     "data": {
      "text/html": [
       "<div style=\"width:100%;\"><div style=\"position:relative;width:100%;height:0;padding-bottom:60%;\"><span style=\"color:#565656\">Make this Notebook Trusted to load map: File -> Trust Notebook</span><iframe srcdoc=\"&lt;!DOCTYPE html&gt;\n",
       "&lt;html&gt;\n",
       "&lt;head&gt;\n",
       "    \n",
       "    &lt;meta http-equiv=&quot;content-type&quot; content=&quot;text/html; charset=UTF-8&quot; /&gt;\n",
       "    \n",
       "        &lt;script&gt;\n",
       "            L_NO_TOUCH = false;\n",
       "            L_DISABLE_3D = false;\n",
       "        &lt;/script&gt;\n",
       "    \n",
       "    &lt;style&gt;html, body {width: 100%;height: 100%;margin: 0;padding: 0;}&lt;/style&gt;\n",
       "    &lt;style&gt;#map {position:absolute;top:0;bottom:0;right:0;left:0;}&lt;/style&gt;\n",
       "    &lt;script src=&quot;https://cdn.jsdelivr.net/npm/leaflet@1.9.3/dist/leaflet.js&quot;&gt;&lt;/script&gt;\n",
       "    &lt;script src=&quot;https://code.jquery.com/jquery-1.12.4.min.js&quot;&gt;&lt;/script&gt;\n",
       "    &lt;script src=&quot;https://cdn.jsdelivr.net/npm/bootstrap@5.2.2/dist/js/bootstrap.bundle.min.js&quot;&gt;&lt;/script&gt;\n",
       "    &lt;script src=&quot;https://cdnjs.cloudflare.com/ajax/libs/Leaflet.awesome-markers/2.0.2/leaflet.awesome-markers.js&quot;&gt;&lt;/script&gt;\n",
       "    &lt;link rel=&quot;stylesheet&quot; href=&quot;https://cdn.jsdelivr.net/npm/leaflet@1.9.3/dist/leaflet.css&quot;/&gt;\n",
       "    &lt;link rel=&quot;stylesheet&quot; href=&quot;https://cdn.jsdelivr.net/npm/bootstrap@5.2.2/dist/css/bootstrap.min.css&quot;/&gt;\n",
       "    &lt;link rel=&quot;stylesheet&quot; href=&quot;https://netdna.bootstrapcdn.com/bootstrap/3.0.0/css/bootstrap.min.css&quot;/&gt;\n",
       "    &lt;link rel=&quot;stylesheet&quot; href=&quot;https://cdn.jsdelivr.net/npm/@fortawesome/fontawesome-free@6.2.0/css/all.min.css&quot;/&gt;\n",
       "    &lt;link rel=&quot;stylesheet&quot; href=&quot;https://cdnjs.cloudflare.com/ajax/libs/Leaflet.awesome-markers/2.0.2/leaflet.awesome-markers.css&quot;/&gt;\n",
       "    &lt;link rel=&quot;stylesheet&quot; href=&quot;https://cdn.jsdelivr.net/gh/python-visualization/folium/folium/templates/leaflet.awesome.rotate.min.css&quot;/&gt;\n",
       "    \n",
       "            &lt;meta name=&quot;viewport&quot; content=&quot;width=device-width,\n",
       "                initial-scale=1.0, maximum-scale=1.0, user-scalable=no&quot; /&gt;\n",
       "            &lt;style&gt;\n",
       "                #map_576e1695cf373223c419240bf5d67913 {\n",
       "                    position: relative;\n",
       "                    width: 100.0%;\n",
       "                    height: 100.0%;\n",
       "                    left: 0.0%;\n",
       "                    top: 0.0%;\n",
       "                }\n",
       "                .leaflet-container { font-size: 1rem; }\n",
       "            &lt;/style&gt;\n",
       "        \n",
       "&lt;/head&gt;\n",
       "&lt;body&gt;\n",
       "    \n",
       "    \n",
       "            &lt;div class=&quot;folium-map&quot; id=&quot;map_576e1695cf373223c419240bf5d67913&quot; &gt;&lt;/div&gt;\n",
       "        \n",
       "&lt;/body&gt;\n",
       "&lt;script&gt;\n",
       "    \n",
       "    \n",
       "            var map_576e1695cf373223c419240bf5d67913 = L.map(\n",
       "                &quot;map_576e1695cf373223c419240bf5d67913&quot;,\n",
       "                {\n",
       "                    center: [51.507359, -0.136439],\n",
       "                    crs: L.CRS.EPSG3857,\n",
       "                    zoom: 9,\n",
       "                    zoomControl: true,\n",
       "                    preferCanvas: false,\n",
       "                }\n",
       "            );\n",
       "\n",
       "            \n",
       "\n",
       "        \n",
       "    \n",
       "            var tile_layer_ffaa24013b66e35dc9a7acd9c28d35e4 = L.tileLayer(\n",
       "                &quot;https://{s}.tile.openstreetmap.org/{z}/{x}/{y}.png&quot;,\n",
       "                {&quot;attribution&quot;: &quot;Data by \\u0026copy; \\u003ca target=\\&quot;_blank\\&quot; href=\\&quot;http://openstreetmap.org\\&quot;\\u003eOpenStreetMap\\u003c/a\\u003e, under \\u003ca target=\\&quot;_blank\\&quot; href=\\&quot;http://www.openstreetmap.org/copyright\\&quot;\\u003eODbL\\u003c/a\\u003e.&quot;, &quot;detectRetina&quot;: false, &quot;maxNativeZoom&quot;: 18, &quot;maxZoom&quot;: 18, &quot;minZoom&quot;: 0, &quot;noWrap&quot;: false, &quot;opacity&quot;: 1, &quot;subdomains&quot;: &quot;abc&quot;, &quot;tms&quot;: false}\n",
       "            ).addTo(map_576e1695cf373223c419240bf5d67913);\n",
       "        \n",
       "&lt;/script&gt;\n",
       "&lt;/html&gt;\" style=\"position:absolute;width:100%;height:100%;left:0;top:0;border:none !important;\" allowfullscreen webkitallowfullscreen mozallowfullscreen></iframe></div></div>"
      ],
      "text/plain": [
       "<folium.folium.Map at 0x28c117fb9a0>"
      ]
     },
     "execution_count": 118,
     "metadata": {},
     "output_type": "execute_result"
    }
   ],
   "source": [
    "# Membuat London Map menggunakan library folium\n",
    "london_map = folium.Map(location=[51.507359, -0.136439], zoom_start=9)\n",
    "london_map"
   ]
  },
  {
   "cell_type": "markdown",
   "id": "04effb68",
   "metadata": {},
   "source": [
    "Kode di atas untuk menampilkan peta london sesuai dengan titik koordinat bujur dan lintang yang diberikan."
   ]
  },
  {
   "cell_type": "markdown",
   "id": "28dab455",
   "metadata": {},
   "source": [
    "### Kesimpulan"
   ]
  },
  {
   "cell_type": "markdown",
   "id": "e085515c",
   "metadata": {},
   "source": [
    "Secara umum, dapat disimpulkan bahwa berdasarkan visualisasi data crime di London yang ditracking setiap bulan dalam rentang tahun 2008 sampai 2016 kita dapat mengetahui bahwa data tersebar secara tidak merata. Kemudian, tidak ditemukannya peningkatan atau penurunan yang signifikan pada pertumbuhan angka kejahatan di London pada tahun tersebut. Selain itu, juga tidak ditemukan keterkaitan erat antara variabel-variabel sehingga dapat dipastikan variabel-variabel yang tercatat perubahannya tidak mempengaruhi satu sama lain dengan kata lain tidak ada variabel yang saling terikat. Selain itu, pada 2015 ditemukan kota dengan angka kejahatan tertinggi yaitu Westminster sedangkan yang terendah adalah City of London jadi dapat dipastikan City of London adalah kota teraman untuk menghabiskan waktu saat akhir tahun."
   ]
  }
 ],
 "metadata": {
  "kernelspec": {
   "display_name": "Python 3 (ipykernel)",
   "language": "python",
   "name": "python3"
  },
  "language_info": {
   "codemirror_mode": {
    "name": "ipython",
    "version": 3
   },
   "file_extension": ".py",
   "mimetype": "text/x-python",
   "name": "python",
   "nbconvert_exporter": "python",
   "pygments_lexer": "ipython3",
   "version": "3.9.12"
  }
 },
 "nbformat": 4,
 "nbformat_minor": 5
}
