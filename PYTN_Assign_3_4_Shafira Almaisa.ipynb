{
 "cells": [
  {
   "cell_type": "markdown",
   "id": "ea91d46f",
   "metadata": {},
   "source": [
    "## Machine Learning on Bank Marketing Dataset"
   ]
  },
  {
   "cell_type": "markdown",
   "id": "3b2b9018",
   "metadata": {},
   "source": [
    "+ Nama : Shafira Almaisa"
   ]
  },
  {
   "cell_type": "code",
   "execution_count": 1,
   "id": "4233cdf3",
   "metadata": {},
   "outputs": [],
   "source": [
    "# import library\n",
    "import numpy as np\n",
    "import pandas as pd\n",
    "import matplotlib.pyplot as plt\n",
    "import seaborn as sns"
   ]
  },
  {
   "cell_type": "markdown",
   "id": "32392513",
   "metadata": {},
   "source": [
    "dilakukan import library agar dapat digunakan fungsi-fungsi yang diperlukan."
   ]
  },
  {
   "cell_type": "code",
   "execution_count": 2,
   "id": "15fd1ccb",
   "metadata": {},
   "outputs": [],
   "source": [
    "# read data\n",
    "df_bank = pd.read_csv('dataset/bank-full.csv')"
   ]
  },
  {
   "cell_type": "markdown",
   "id": "4b969e9d",
   "metadata": {},
   "source": [
    "dilakukan read data dari file csv yang kemudian disimpan dalam variabel baru."
   ]
  },
  {
   "cell_type": "markdown",
   "id": "60ab4b9b",
   "metadata": {},
   "source": [
    "#### Preprocessing Data"
   ]
  },
  {
   "cell_type": "code",
   "execution_count": 3,
   "id": "5c47d776",
   "metadata": {},
   "outputs": [
    {
     "data": {
      "text/html": [
       "<div>\n",
       "<style scoped>\n",
       "    .dataframe tbody tr th:only-of-type {\n",
       "        vertical-align: middle;\n",
       "    }\n",
       "\n",
       "    .dataframe tbody tr th {\n",
       "        vertical-align: top;\n",
       "    }\n",
       "\n",
       "    .dataframe thead th {\n",
       "        text-align: right;\n",
       "    }\n",
       "</style>\n",
       "<table border=\"1\" class=\"dataframe\">\n",
       "  <thead>\n",
       "    <tr style=\"text-align: right;\">\n",
       "      <th></th>\n",
       "      <th>age</th>\n",
       "      <th>job</th>\n",
       "      <th>marital</th>\n",
       "      <th>education</th>\n",
       "      <th>default</th>\n",
       "      <th>balance</th>\n",
       "      <th>housing</th>\n",
       "      <th>loan</th>\n",
       "      <th>contact</th>\n",
       "      <th>day</th>\n",
       "      <th>month</th>\n",
       "      <th>duration</th>\n",
       "      <th>campaign</th>\n",
       "      <th>pdays</th>\n",
       "      <th>previous</th>\n",
       "      <th>poutcome</th>\n",
       "      <th>y</th>\n",
       "    </tr>\n",
       "  </thead>\n",
       "  <tbody>\n",
       "    <tr>\n",
       "      <th>0</th>\n",
       "      <td>58</td>\n",
       "      <td>management</td>\n",
       "      <td>married</td>\n",
       "      <td>tertiary</td>\n",
       "      <td>no</td>\n",
       "      <td>2143</td>\n",
       "      <td>yes</td>\n",
       "      <td>no</td>\n",
       "      <td>unknown</td>\n",
       "      <td>5</td>\n",
       "      <td>may</td>\n",
       "      <td>261</td>\n",
       "      <td>1</td>\n",
       "      <td>-1</td>\n",
       "      <td>0</td>\n",
       "      <td>unknown</td>\n",
       "      <td>no</td>\n",
       "    </tr>\n",
       "    <tr>\n",
       "      <th>1</th>\n",
       "      <td>44</td>\n",
       "      <td>technician</td>\n",
       "      <td>single</td>\n",
       "      <td>secondary</td>\n",
       "      <td>no</td>\n",
       "      <td>29</td>\n",
       "      <td>yes</td>\n",
       "      <td>no</td>\n",
       "      <td>unknown</td>\n",
       "      <td>5</td>\n",
       "      <td>may</td>\n",
       "      <td>151</td>\n",
       "      <td>1</td>\n",
       "      <td>-1</td>\n",
       "      <td>0</td>\n",
       "      <td>unknown</td>\n",
       "      <td>no</td>\n",
       "    </tr>\n",
       "    <tr>\n",
       "      <th>2</th>\n",
       "      <td>33</td>\n",
       "      <td>entrepreneur</td>\n",
       "      <td>married</td>\n",
       "      <td>secondary</td>\n",
       "      <td>no</td>\n",
       "      <td>2</td>\n",
       "      <td>yes</td>\n",
       "      <td>yes</td>\n",
       "      <td>unknown</td>\n",
       "      <td>5</td>\n",
       "      <td>may</td>\n",
       "      <td>76</td>\n",
       "      <td>1</td>\n",
       "      <td>-1</td>\n",
       "      <td>0</td>\n",
       "      <td>unknown</td>\n",
       "      <td>no</td>\n",
       "    </tr>\n",
       "    <tr>\n",
       "      <th>3</th>\n",
       "      <td>47</td>\n",
       "      <td>blue-collar</td>\n",
       "      <td>married</td>\n",
       "      <td>unknown</td>\n",
       "      <td>no</td>\n",
       "      <td>1506</td>\n",
       "      <td>yes</td>\n",
       "      <td>no</td>\n",
       "      <td>unknown</td>\n",
       "      <td>5</td>\n",
       "      <td>may</td>\n",
       "      <td>92</td>\n",
       "      <td>1</td>\n",
       "      <td>-1</td>\n",
       "      <td>0</td>\n",
       "      <td>unknown</td>\n",
       "      <td>no</td>\n",
       "    </tr>\n",
       "    <tr>\n",
       "      <th>4</th>\n",
       "      <td>33</td>\n",
       "      <td>unknown</td>\n",
       "      <td>single</td>\n",
       "      <td>unknown</td>\n",
       "      <td>no</td>\n",
       "      <td>1</td>\n",
       "      <td>no</td>\n",
       "      <td>no</td>\n",
       "      <td>unknown</td>\n",
       "      <td>5</td>\n",
       "      <td>may</td>\n",
       "      <td>198</td>\n",
       "      <td>1</td>\n",
       "      <td>-1</td>\n",
       "      <td>0</td>\n",
       "      <td>unknown</td>\n",
       "      <td>no</td>\n",
       "    </tr>\n",
       "  </tbody>\n",
       "</table>\n",
       "</div>"
      ],
      "text/plain": [
       "   age           job  marital  education default  balance housing loan  \\\n",
       "0   58    management  married   tertiary      no     2143     yes   no   \n",
       "1   44    technician   single  secondary      no       29     yes   no   \n",
       "2   33  entrepreneur  married  secondary      no        2     yes  yes   \n",
       "3   47   blue-collar  married    unknown      no     1506     yes   no   \n",
       "4   33       unknown   single    unknown      no        1      no   no   \n",
       "\n",
       "   contact  day month  duration  campaign  pdays  previous poutcome   y  \n",
       "0  unknown    5   may       261         1     -1         0  unknown  no  \n",
       "1  unknown    5   may       151         1     -1         0  unknown  no  \n",
       "2  unknown    5   may        76         1     -1         0  unknown  no  \n",
       "3  unknown    5   may        92         1     -1         0  unknown  no  \n",
       "4  unknown    5   may       198         1     -1         0  unknown  no  "
      ]
     },
     "execution_count": 3,
     "metadata": {},
     "output_type": "execute_result"
    }
   ],
   "source": [
    "# show top 5 data\n",
    "df_bank.head()"
   ]
  },
  {
   "cell_type": "markdown",
   "id": "5f2ed0d7",
   "metadata": {},
   "source": [
    "code ini digunakan untuk menampilkan 5 data teratas, bisa untuk melihat value data secara sekilas."
   ]
  },
  {
   "cell_type": "code",
   "execution_count": 4,
   "id": "20f004d3",
   "metadata": {},
   "outputs": [
    {
     "data": {
      "text/html": [
       "<div>\n",
       "<style scoped>\n",
       "    .dataframe tbody tr th:only-of-type {\n",
       "        vertical-align: middle;\n",
       "    }\n",
       "\n",
       "    .dataframe tbody tr th {\n",
       "        vertical-align: top;\n",
       "    }\n",
       "\n",
       "    .dataframe thead th {\n",
       "        text-align: right;\n",
       "    }\n",
       "</style>\n",
       "<table border=\"1\" class=\"dataframe\">\n",
       "  <thead>\n",
       "    <tr style=\"text-align: right;\">\n",
       "      <th></th>\n",
       "      <th>age</th>\n",
       "      <th>balance</th>\n",
       "      <th>day</th>\n",
       "      <th>duration</th>\n",
       "      <th>campaign</th>\n",
       "      <th>pdays</th>\n",
       "      <th>previous</th>\n",
       "    </tr>\n",
       "  </thead>\n",
       "  <tbody>\n",
       "    <tr>\n",
       "      <th>count</th>\n",
       "      <td>45211.000000</td>\n",
       "      <td>45211.000000</td>\n",
       "      <td>45211.000000</td>\n",
       "      <td>45211.000000</td>\n",
       "      <td>45211.000000</td>\n",
       "      <td>45211.000000</td>\n",
       "      <td>45211.000000</td>\n",
       "    </tr>\n",
       "    <tr>\n",
       "      <th>mean</th>\n",
       "      <td>40.936210</td>\n",
       "      <td>1362.272058</td>\n",
       "      <td>15.806419</td>\n",
       "      <td>258.163080</td>\n",
       "      <td>2.763841</td>\n",
       "      <td>40.197828</td>\n",
       "      <td>0.580323</td>\n",
       "    </tr>\n",
       "    <tr>\n",
       "      <th>std</th>\n",
       "      <td>10.618762</td>\n",
       "      <td>3044.765829</td>\n",
       "      <td>8.322476</td>\n",
       "      <td>257.527812</td>\n",
       "      <td>3.098021</td>\n",
       "      <td>100.128746</td>\n",
       "      <td>2.303441</td>\n",
       "    </tr>\n",
       "    <tr>\n",
       "      <th>min</th>\n",
       "      <td>18.000000</td>\n",
       "      <td>-8019.000000</td>\n",
       "      <td>1.000000</td>\n",
       "      <td>0.000000</td>\n",
       "      <td>1.000000</td>\n",
       "      <td>-1.000000</td>\n",
       "      <td>0.000000</td>\n",
       "    </tr>\n",
       "    <tr>\n",
       "      <th>25%</th>\n",
       "      <td>33.000000</td>\n",
       "      <td>72.000000</td>\n",
       "      <td>8.000000</td>\n",
       "      <td>103.000000</td>\n",
       "      <td>1.000000</td>\n",
       "      <td>-1.000000</td>\n",
       "      <td>0.000000</td>\n",
       "    </tr>\n",
       "    <tr>\n",
       "      <th>50%</th>\n",
       "      <td>39.000000</td>\n",
       "      <td>448.000000</td>\n",
       "      <td>16.000000</td>\n",
       "      <td>180.000000</td>\n",
       "      <td>2.000000</td>\n",
       "      <td>-1.000000</td>\n",
       "      <td>0.000000</td>\n",
       "    </tr>\n",
       "    <tr>\n",
       "      <th>75%</th>\n",
       "      <td>48.000000</td>\n",
       "      <td>1428.000000</td>\n",
       "      <td>21.000000</td>\n",
       "      <td>319.000000</td>\n",
       "      <td>3.000000</td>\n",
       "      <td>-1.000000</td>\n",
       "      <td>0.000000</td>\n",
       "    </tr>\n",
       "    <tr>\n",
       "      <th>max</th>\n",
       "      <td>95.000000</td>\n",
       "      <td>102127.000000</td>\n",
       "      <td>31.000000</td>\n",
       "      <td>4918.000000</td>\n",
       "      <td>63.000000</td>\n",
       "      <td>871.000000</td>\n",
       "      <td>275.000000</td>\n",
       "    </tr>\n",
       "  </tbody>\n",
       "</table>\n",
       "</div>"
      ],
      "text/plain": [
       "                age        balance           day      duration      campaign  \\\n",
       "count  45211.000000   45211.000000  45211.000000  45211.000000  45211.000000   \n",
       "mean      40.936210    1362.272058     15.806419    258.163080      2.763841   \n",
       "std       10.618762    3044.765829      8.322476    257.527812      3.098021   \n",
       "min       18.000000   -8019.000000      1.000000      0.000000      1.000000   \n",
       "25%       33.000000      72.000000      8.000000    103.000000      1.000000   \n",
       "50%       39.000000     448.000000     16.000000    180.000000      2.000000   \n",
       "75%       48.000000    1428.000000     21.000000    319.000000      3.000000   \n",
       "max       95.000000  102127.000000     31.000000   4918.000000     63.000000   \n",
       "\n",
       "              pdays      previous  \n",
       "count  45211.000000  45211.000000  \n",
       "mean      40.197828      0.580323  \n",
       "std      100.128746      2.303441  \n",
       "min       -1.000000      0.000000  \n",
       "25%       -1.000000      0.000000  \n",
       "50%       -1.000000      0.000000  \n",
       "75%       -1.000000      0.000000  \n",
       "max      871.000000    275.000000  "
      ]
     },
     "execution_count": 4,
     "metadata": {},
     "output_type": "execute_result"
    }
   ],
   "source": [
    "# showing numeric statistical information\n",
    "df_bank.describe()"
   ]
  },
  {
   "cell_type": "markdown",
   "id": "8ec96804",
   "metadata": {},
   "source": [
    "Code di atas digunakan untuk melihat informasi statistik dari data terkhusus untuk data dengan value numerik."
   ]
  },
  {
   "cell_type": "code",
   "execution_count": 5,
   "id": "5288a61e",
   "metadata": {},
   "outputs": [
    {
     "data": {
      "text/html": [
       "<div>\n",
       "<style scoped>\n",
       "    .dataframe tbody tr th:only-of-type {\n",
       "        vertical-align: middle;\n",
       "    }\n",
       "\n",
       "    .dataframe tbody tr th {\n",
       "        vertical-align: top;\n",
       "    }\n",
       "\n",
       "    .dataframe thead th {\n",
       "        text-align: right;\n",
       "    }\n",
       "</style>\n",
       "<table border=\"1\" class=\"dataframe\">\n",
       "  <thead>\n",
       "    <tr style=\"text-align: right;\">\n",
       "      <th></th>\n",
       "      <th>job</th>\n",
       "      <th>marital</th>\n",
       "      <th>education</th>\n",
       "      <th>default</th>\n",
       "      <th>housing</th>\n",
       "      <th>loan</th>\n",
       "      <th>contact</th>\n",
       "      <th>month</th>\n",
       "      <th>poutcome</th>\n",
       "      <th>y</th>\n",
       "    </tr>\n",
       "  </thead>\n",
       "  <tbody>\n",
       "    <tr>\n",
       "      <th>count</th>\n",
       "      <td>45211</td>\n",
       "      <td>45211</td>\n",
       "      <td>45211</td>\n",
       "      <td>45211</td>\n",
       "      <td>45211</td>\n",
       "      <td>45211</td>\n",
       "      <td>45211</td>\n",
       "      <td>45211</td>\n",
       "      <td>45211</td>\n",
       "      <td>45211</td>\n",
       "    </tr>\n",
       "    <tr>\n",
       "      <th>unique</th>\n",
       "      <td>12</td>\n",
       "      <td>3</td>\n",
       "      <td>4</td>\n",
       "      <td>2</td>\n",
       "      <td>2</td>\n",
       "      <td>2</td>\n",
       "      <td>3</td>\n",
       "      <td>12</td>\n",
       "      <td>4</td>\n",
       "      <td>2</td>\n",
       "    </tr>\n",
       "    <tr>\n",
       "      <th>top</th>\n",
       "      <td>blue-collar</td>\n",
       "      <td>married</td>\n",
       "      <td>secondary</td>\n",
       "      <td>no</td>\n",
       "      <td>yes</td>\n",
       "      <td>no</td>\n",
       "      <td>cellular</td>\n",
       "      <td>may</td>\n",
       "      <td>unknown</td>\n",
       "      <td>no</td>\n",
       "    </tr>\n",
       "    <tr>\n",
       "      <th>freq</th>\n",
       "      <td>9732</td>\n",
       "      <td>27214</td>\n",
       "      <td>23202</td>\n",
       "      <td>44396</td>\n",
       "      <td>25130</td>\n",
       "      <td>37967</td>\n",
       "      <td>29285</td>\n",
       "      <td>13766</td>\n",
       "      <td>36959</td>\n",
       "      <td>39922</td>\n",
       "    </tr>\n",
       "  </tbody>\n",
       "</table>\n",
       "</div>"
      ],
      "text/plain": [
       "                job  marital  education default housing   loan   contact  \\\n",
       "count         45211    45211      45211   45211   45211  45211     45211   \n",
       "unique           12        3          4       2       2      2         3   \n",
       "top     blue-collar  married  secondary      no     yes     no  cellular   \n",
       "freq           9732    27214      23202   44396   25130  37967     29285   \n",
       "\n",
       "        month poutcome      y  \n",
       "count   45211    45211  45211  \n",
       "unique     12        4      2  \n",
       "top       may  unknown     no  \n",
       "freq    13766    36959  39922  "
      ]
     },
     "execution_count": 5,
     "metadata": {},
     "output_type": "execute_result"
    }
   ],
   "source": [
    "# showing categoric statistical information\n",
    "df_bank.describe(include=['O'])"
   ]
  },
  {
   "cell_type": "markdown",
   "id": "1825af38",
   "metadata": {},
   "source": [
    "Code di atas digunakan untuk melihat informasi statistik dari data terkhusus untuk data dengan value kategorik."
   ]
  },
  {
   "cell_type": "code",
   "execution_count": 6,
   "id": "d0b3a6df",
   "metadata": {
    "scrolled": true
   },
   "outputs": [
    {
     "name": "stdout",
     "output_type": "stream",
     "text": [
      "<class 'pandas.core.frame.DataFrame'>\n",
      "RangeIndex: 45211 entries, 0 to 45210\n",
      "Data columns (total 17 columns):\n",
      " #   Column     Non-Null Count  Dtype \n",
      "---  ------     --------------  ----- \n",
      " 0   age        45211 non-null  int64 \n",
      " 1   job        45211 non-null  object\n",
      " 2   marital    45211 non-null  object\n",
      " 3   education  45211 non-null  object\n",
      " 4   default    45211 non-null  object\n",
      " 5   balance    45211 non-null  int64 \n",
      " 6   housing    45211 non-null  object\n",
      " 7   loan       45211 non-null  object\n",
      " 8   contact    45211 non-null  object\n",
      " 9   day        45211 non-null  int64 \n",
      " 10  month      45211 non-null  object\n",
      " 11  duration   45211 non-null  int64 \n",
      " 12  campaign   45211 non-null  int64 \n",
      " 13  pdays      45211 non-null  int64 \n",
      " 14  previous   45211 non-null  int64 \n",
      " 15  poutcome   45211 non-null  object\n",
      " 16  y          45211 non-null  object\n",
      "dtypes: int64(7), object(10)\n",
      "memory usage: 5.9+ MB\n"
     ]
    }
   ],
   "source": [
    "# showing info of the dataset\n",
    "df_bank.info()"
   ]
  },
  {
   "cell_type": "markdown",
   "id": "f22e7dcb",
   "metadata": {},
   "source": [
    "kode ini digunakan untuk melihat informasi dari dataset, seperti nama kolom, null dan tipe datanya."
   ]
  },
  {
   "cell_type": "code",
   "execution_count": 7,
   "id": "7f0df622",
   "metadata": {
    "scrolled": true
   },
   "outputs": [
    {
     "data": {
      "text/plain": [
       "age          0\n",
       "job          0\n",
       "marital      0\n",
       "education    0\n",
       "default      0\n",
       "balance      0\n",
       "housing      0\n",
       "loan         0\n",
       "contact      0\n",
       "day          0\n",
       "month        0\n",
       "duration     0\n",
       "campaign     0\n",
       "pdays        0\n",
       "previous     0\n",
       "poutcome     0\n",
       "y            0\n",
       "dtype: int64"
      ]
     },
     "execution_count": 7,
     "metadata": {},
     "output_type": "execute_result"
    }
   ],
   "source": [
    "df_bank.isna().sum()"
   ]
  },
  {
   "cell_type": "markdown",
   "id": "c1b4fdc4",
   "metadata": {},
   "source": [
    "Kode di atas untuk melihat jumlah null pada data. Jumlah tersebut akan dihitung per kolom. Untuk hasilnya bisa dilihat pada output bahwa tidak ditemukan null pada data."
   ]
  },
  {
   "cell_type": "markdown",
   "id": "690f4372",
   "metadata": {},
   "source": [
    "#### Visualisasi Data"
   ]
  },
  {
   "cell_type": "code",
   "execution_count": 8,
   "id": "90a86603",
   "metadata": {},
   "outputs": [
    {
     "data": {
      "text/html": [
       "<div>\n",
       "<style scoped>\n",
       "    .dataframe tbody tr th:only-of-type {\n",
       "        vertical-align: middle;\n",
       "    }\n",
       "\n",
       "    .dataframe tbody tr th {\n",
       "        vertical-align: top;\n",
       "    }\n",
       "\n",
       "    .dataframe thead th {\n",
       "        text-align: right;\n",
       "    }\n",
       "</style>\n",
       "<table border=\"1\" class=\"dataframe\">\n",
       "  <thead>\n",
       "    <tr style=\"text-align: right;\">\n",
       "      <th></th>\n",
       "      <th>y</th>\n",
       "    </tr>\n",
       "    <tr>\n",
       "      <th>y</th>\n",
       "      <th></th>\n",
       "    </tr>\n",
       "  </thead>\n",
       "  <tbody>\n",
       "    <tr>\n",
       "      <th>no</th>\n",
       "      <td>39922</td>\n",
       "    </tr>\n",
       "    <tr>\n",
       "      <th>yes</th>\n",
       "      <td>5289</td>\n",
       "    </tr>\n",
       "  </tbody>\n",
       "</table>\n",
       "</div>"
      ],
      "text/plain": [
       "         y\n",
       "y         \n",
       "no   39922\n",
       "yes   5289"
      ]
     },
     "execution_count": 8,
     "metadata": {},
     "output_type": "execute_result"
    }
   ],
   "source": [
    "# group by data untuk melihat jumlah data untuk masing-masing class\n",
    "df_y = df_bank.groupby(['y'])[['y']].count()\n",
    "df_y"
   ]
  },
  {
   "cell_type": "markdown",
   "id": "e1e84c5e",
   "metadata": {},
   "source": [
    "Kode ini digunakan untuk melakukan group by data berdasarkan label (yes atau no) dimana tujuannya untuk melihat perbandingan jumlah data untuk masing-masing class dan bisa kita lihat dari outputnya bahwa ada perbedaan yang sangat jauh antar keduanya (imbalanced)."
   ]
  },
  {
   "cell_type": "code",
   "execution_count": 9,
   "id": "a71404b3",
   "metadata": {
    "scrolled": true
   },
   "outputs": [
    {
     "data": {
      "text/html": [
       "<div>\n",
       "<style scoped>\n",
       "    .dataframe tbody tr th:only-of-type {\n",
       "        vertical-align: middle;\n",
       "    }\n",
       "\n",
       "    .dataframe tbody tr th {\n",
       "        vertical-align: top;\n",
       "    }\n",
       "\n",
       "    .dataframe thead th {\n",
       "        text-align: right;\n",
       "    }\n",
       "</style>\n",
       "<table border=\"1\" class=\"dataframe\">\n",
       "  <thead>\n",
       "    <tr style=\"text-align: right;\">\n",
       "      <th></th>\n",
       "      <th>Class</th>\n",
       "    </tr>\n",
       "    <tr>\n",
       "      <th>y</th>\n",
       "      <th></th>\n",
       "    </tr>\n",
       "  </thead>\n",
       "  <tbody>\n",
       "    <tr>\n",
       "      <th>no</th>\n",
       "      <td>39922</td>\n",
       "    </tr>\n",
       "    <tr>\n",
       "      <th>yes</th>\n",
       "      <td>5289</td>\n",
       "    </tr>\n",
       "  </tbody>\n",
       "</table>\n",
       "</div>"
      ],
      "text/plain": [
       "     Class\n",
       "y         \n",
       "no   39922\n",
       "yes   5289"
      ]
     },
     "execution_count": 9,
     "metadata": {},
     "output_type": "execute_result"
    }
   ],
   "source": [
    "# rename nama kolom\n",
    "df_y.rename(columns={'y':'Class'}, inplace=True)\n",
    "df_y.head()"
   ]
  },
  {
   "cell_type": "markdown",
   "id": "55752a1d",
   "metadata": {},
   "source": [
    "Dilakukan perbahan nama kolom agar lebih mudah dimengerti nantinya."
   ]
  },
  {
   "cell_type": "code",
   "execution_count": 10,
   "id": "82049a18",
   "metadata": {
    "scrolled": true
   },
   "outputs": [
    {
     "data": {
      "image/png": "[encoded data removed]",
      "text/plain": [
       "<Figure size 432x288 with 1 Axes>"
      ]
     },
     "metadata": {
      "needs_background": "light"
     },
     "output_type": "display_data"
    }
   ],
   "source": [
    "# membangun bar plot untuk kolom y untuk mengecek data imbalanced atau tidak\n",
    "df_y.plot(kind='bar')\n",
    "\n",
    "plt.title('Subscribed Client to a term deposit')\n",
    "plt.xlabel('Class')\n",
    "plt.ylabel('Frequency')\n",
    "\n",
    "plt.show()"
   ]
  },
  {
   "cell_type": "markdown",
   "id": "7946968b",
   "metadata": {},
   "source": [
    "Di atas merupakan bar plot yang menampilkan frekuensi untuk masing-masing class. Jika dilihat, perbedaan frekuensi antara class yes dan no cukup besar jadi dapat dikatakan data ini bersifat imbalanced."
   ]
  },
  {
   "cell_type": "code",
   "execution_count": 11,
   "id": "92d6c9bb",
   "metadata": {
    "scrolled": true
   },
   "outputs": [
    {
     "data": {
      "image/png": "[encoded data removed]",
      "text/plain": [
       "<Figure size 720x720 with 2 Axes>"
      ]
     },
     "metadata": {
      "needs_background": "light"
     },
     "output_type": "display_data"
    }
   ],
   "source": [
    "# membuat df baru untuk membangun heatmap\n",
    "df_heat = df_bank.drop('y', axis=1)\n",
    "\n",
    "# membangun heatmap untuk melihat korelasi antar variabel\n",
    "plt.figure(figsize=(10, 10))\n",
    "\n",
    "sns.heatmap(df_heat.corr())\n",
    "\n",
    "plt.show()"
   ]
  },
  {
   "cell_type": "markdown",
   "id": "aa5a0838",
   "metadata": {},
   "source": [
    "Dari heatmap di atas, dapat diketahui bahwa variabel pdays dan previous memiliki tingkat kolerasi yang tinggi, dengan kata lain kenaikan atau penurunan value dari suatu variabel diikuti oleh perubahan dari value variabel lainnya. Selain itu, terdapat variabel campaign dan day yang memiliki tingkat kolerasi yang lumayan tinggi dibandingkan yang lainnya."
   ]
  },
  {
   "cell_type": "code",
   "execution_count": 12,
   "id": "1cb254c4",
   "metadata": {
    "scrolled": true
   },
   "outputs": [
    {
     "data": {
      "text/html": [
       "<div>\n",
       "<style scoped>\n",
       "    .dataframe tbody tr th:only-of-type {\n",
       "        vertical-align: middle;\n",
       "    }\n",
       "\n",
       "    .dataframe tbody tr th {\n",
       "        vertical-align: top;\n",
       "    }\n",
       "\n",
       "    .dataframe thead th {\n",
       "        text-align: right;\n",
       "    }\n",
       "</style>\n",
       "<table border=\"1\" class=\"dataframe\">\n",
       "  <thead>\n",
       "    <tr style=\"text-align: right;\">\n",
       "      <th></th>\n",
       "      <th>age</th>\n",
       "      <th>job</th>\n",
       "      <th>marital</th>\n",
       "      <th>education</th>\n",
       "      <th>default</th>\n",
       "      <th>balance</th>\n",
       "      <th>housing</th>\n",
       "      <th>loan</th>\n",
       "      <th>contact</th>\n",
       "      <th>day</th>\n",
       "      <th>month</th>\n",
       "      <th>duration</th>\n",
       "      <th>campaign</th>\n",
       "      <th>pdays</th>\n",
       "      <th>previous</th>\n",
       "      <th>poutcome</th>\n",
       "      <th>y</th>\n",
       "    </tr>\n",
       "  </thead>\n",
       "  <tbody>\n",
       "    <tr>\n",
       "      <th>0</th>\n",
       "      <td>58</td>\n",
       "      <td>management</td>\n",
       "      <td>married</td>\n",
       "      <td>tertiary</td>\n",
       "      <td>no</td>\n",
       "      <td>2143</td>\n",
       "      <td>yes</td>\n",
       "      <td>no</td>\n",
       "      <td>unknown</td>\n",
       "      <td>5</td>\n",
       "      <td>may</td>\n",
       "      <td>261</td>\n",
       "      <td>1</td>\n",
       "      <td>-1</td>\n",
       "      <td>0</td>\n",
       "      <td>unknown</td>\n",
       "      <td>no</td>\n",
       "    </tr>\n",
       "    <tr>\n",
       "      <th>1</th>\n",
       "      <td>44</td>\n",
       "      <td>technician</td>\n",
       "      <td>single</td>\n",
       "      <td>secondary</td>\n",
       "      <td>no</td>\n",
       "      <td>29</td>\n",
       "      <td>yes</td>\n",
       "      <td>no</td>\n",
       "      <td>unknown</td>\n",
       "      <td>5</td>\n",
       "      <td>may</td>\n",
       "      <td>151</td>\n",
       "      <td>1</td>\n",
       "      <td>-1</td>\n",
       "      <td>0</td>\n",
       "      <td>unknown</td>\n",
       "      <td>no</td>\n",
       "    </tr>\n",
       "    <tr>\n",
       "      <th>2</th>\n",
       "      <td>33</td>\n",
       "      <td>entrepreneur</td>\n",
       "      <td>married</td>\n",
       "      <td>secondary</td>\n",
       "      <td>no</td>\n",
       "      <td>2</td>\n",
       "      <td>yes</td>\n",
       "      <td>yes</td>\n",
       "      <td>unknown</td>\n",
       "      <td>5</td>\n",
       "      <td>may</td>\n",
       "      <td>76</td>\n",
       "      <td>1</td>\n",
       "      <td>-1</td>\n",
       "      <td>0</td>\n",
       "      <td>unknown</td>\n",
       "      <td>no</td>\n",
       "    </tr>\n",
       "    <tr>\n",
       "      <th>3</th>\n",
       "      <td>47</td>\n",
       "      <td>blue-collar</td>\n",
       "      <td>married</td>\n",
       "      <td>unknown</td>\n",
       "      <td>no</td>\n",
       "      <td>1506</td>\n",
       "      <td>yes</td>\n",
       "      <td>no</td>\n",
       "      <td>unknown</td>\n",
       "      <td>5</td>\n",
       "      <td>may</td>\n",
       "      <td>92</td>\n",
       "      <td>1</td>\n",
       "      <td>-1</td>\n",
       "      <td>0</td>\n",
       "      <td>unknown</td>\n",
       "      <td>no</td>\n",
       "    </tr>\n",
       "    <tr>\n",
       "      <th>4</th>\n",
       "      <td>33</td>\n",
       "      <td>unknown</td>\n",
       "      <td>single</td>\n",
       "      <td>unknown</td>\n",
       "      <td>no</td>\n",
       "      <td>1</td>\n",
       "      <td>no</td>\n",
       "      <td>no</td>\n",
       "      <td>unknown</td>\n",
       "      <td>5</td>\n",
       "      <td>may</td>\n",
       "      <td>198</td>\n",
       "      <td>1</td>\n",
       "      <td>-1</td>\n",
       "      <td>0</td>\n",
       "      <td>unknown</td>\n",
       "      <td>no</td>\n",
       "    </tr>\n",
       "  </tbody>\n",
       "</table>\n",
       "</div>"
      ],
      "text/plain": [
       "   age           job  marital  education default  balance housing loan  \\\n",
       "0   58    management  married   tertiary      no     2143     yes   no   \n",
       "1   44    technician   single  secondary      no       29     yes   no   \n",
       "2   33  entrepreneur  married  secondary      no        2     yes  yes   \n",
       "3   47   blue-collar  married    unknown      no     1506     yes   no   \n",
       "4   33       unknown   single    unknown      no        1      no   no   \n",
       "\n",
       "   contact  day month  duration  campaign  pdays  previous poutcome   y  \n",
       "0  unknown    5   may       261         1     -1         0  unknown  no  \n",
       "1  unknown    5   may       151         1     -1         0  unknown  no  \n",
       "2  unknown    5   may        76         1     -1         0  unknown  no  \n",
       "3  unknown    5   may        92         1     -1         0  unknown  no  \n",
       "4  unknown    5   may       198         1     -1         0  unknown  no  "
      ]
     },
     "execution_count": 12,
     "metadata": {},
     "output_type": "execute_result"
    }
   ],
   "source": [
    "# menampilkan data teratas\n",
    "df_bank.head()"
   ]
  },
  {
   "cell_type": "markdown",
   "id": "57c59c0b",
   "metadata": {},
   "source": [
    "code ini digunakan untuk menampilkan data teratas, bisa untuk melihat value data secara sekilas."
   ]
  },
  {
   "cell_type": "code",
   "execution_count": 13,
   "id": "aa7981b6",
   "metadata": {},
   "outputs": [],
   "source": [
    "# import library\n",
    "from sklearn.metrics import classification_report, confusion_matrix\n",
    "from sklearn.model_selection import train_test_split\n",
    "from sklearn.preprocessing import StandardScaler\n",
    "from sklearn import preprocessing"
   ]
  },
  {
   "cell_type": "markdown",
   "id": "62f89df0",
   "metadata": {},
   "source": [
    "dilakukan import library agar dapat digunakan fungsi-fungsi yang diperlukan."
   ]
  },
  {
   "cell_type": "markdown",
   "id": "4a73d694",
   "metadata": {},
   "source": [
    "#### Logistic Regression"
   ]
  },
  {
   "cell_type": "code",
   "execution_count": 14,
   "id": "1651e096",
   "metadata": {},
   "outputs": [],
   "source": [
    "# extract feature and label\n",
    "X = df_bank[['age', 'balance', 'duration']]\n",
    "y = df_bank['y']"
   ]
  },
  {
   "cell_type": "markdown",
   "id": "843a41a0",
   "metadata": {},
   "source": [
    "diassign kolom age, balance dan duration ke variable X sebagai data features dan kolom y diassign ke variabel y sebagai data label atau target variabel."
   ]
  },
  {
   "cell_type": "code",
   "execution_count": 15,
   "id": "d2db35cc",
   "metadata": {},
   "outputs": [],
   "source": [
    "# Splitting data\n",
    "x_train, x_test, y_train, y_test = train_test_split(X, y, test_size=0.2, random_state=2024)"
   ]
  },
  {
   "cell_type": "markdown",
   "id": "c03cdbaa",
   "metadata": {},
   "source": [
    "Dilakukan splitting data dari data sebelumnya dengan ukuran 20% data awal untuk testing set dan selebihnya untuk training set."
   ]
  },
  {
   "cell_type": "code",
   "execution_count": 16,
   "id": "59007b23",
   "metadata": {},
   "outputs": [],
   "source": [
    "from sklearn.linear_model import LogisticRegression"
   ]
  },
  {
   "cell_type": "markdown",
   "id": "d7a7452c",
   "metadata": {},
   "source": [
    "dilakukan import library agar dapat digunakan fungsi-fungsi yang diperlukan."
   ]
  },
  {
   "cell_type": "code",
   "execution_count": 17,
   "id": "14c5e5f5",
   "metadata": {
    "scrolled": true
   },
   "outputs": [
    {
     "data": {
      "text/plain": [
       "LogisticRegression(C=0.05, multi_class='ovr', random_state=2024,\n",
       "                   solver='liblinear')"
      ]
     },
     "execution_count": 17,
     "metadata": {},
     "output_type": "execute_result"
    }
   ],
   "source": [
    "# bangun model\n",
    "model_LR = LogisticRegression(C=0.05, random_state=2024, solver = 'liblinear', multi_class='ovr')\n",
    "\n",
    "# fit model\n",
    "model_LR.fit(x_train, y_train)"
   ]
  },
  {
   "cell_type": "markdown",
   "id": "0c7836b4",
   "metadata": {},
   "source": [
    "dibangun sebuah model Logistic Regression yang kemudian difit menggunakan data training agar model bisa belajar untuk melakukan prediksi ke depannya."
   ]
  },
  {
   "cell_type": "code",
   "execution_count": 18,
   "id": "81c1ca0b",
   "metadata": {},
   "outputs": [
    {
     "name": "stdout",
     "output_type": "stream",
     "text": [
      "Score data training 0.8887414288874143\n",
      "Score data testing 0.8889748977109366\n"
     ]
    }
   ],
   "source": [
    "# mengecek model overfitting atau tidak serta score dari model\n",
    "print('Score data training', model_LR.score(x_train, y_train))\n",
    "print('Score data testing',model_LR.score(x_test, y_test))"
   ]
  },
  {
   "cell_type": "markdown",
   "id": "6a7490e7",
   "metadata": {},
   "source": [
    "Score menunjukkan model cukup baik untuk prediksi, dan karena selisih score tidak terlalu jauh antara penggunaan data training dan data testing maka diputuskan bahwa model ini tidak overfitting."
   ]
  },
  {
   "cell_type": "code",
   "execution_count": 19,
   "id": "da407583",
   "metadata": {
    "scrolled": true
   },
   "outputs": [
    {
     "data": {
      "text/plain": [
       "array([[7862,  120],\n",
       "       [ 884,  177]], dtype=int64)"
      ]
     },
     "execution_count": 19,
     "metadata": {},
     "output_type": "execute_result"
    }
   ],
   "source": [
    "# predict the given features\n",
    "y_pred = model_LR.predict(x_test)\n",
    "\n",
    "# show confusion matrix\n",
    "confusion_matrix(y_test, y_pred)"
   ]
  },
  {
   "cell_type": "markdown",
   "id": "cd6db53d",
   "metadata": {},
   "source": [
    "Setelah dilakukan prediksi menggunakan data testing, dilihat confusion matrixnya. Jika dilihat dari confusion matrix si atas, ada 7862 True Negative, 177 True Positif, 120 False Positive dan 884 False Negatve."
   ]
  },
  {
   "cell_type": "markdown",
   "id": "08449224",
   "metadata": {},
   "source": [
    "Kemudian dilakukan penambahan variabel(label encoding untuk loan dan job)"
   ]
  },
  {
   "cell_type": "code",
   "execution_count": 20,
   "id": "458d1fd9",
   "metadata": {},
   "outputs": [],
   "source": [
    "# build label encoder\n",
    "le = preprocessing.LabelEncoder()"
   ]
  },
  {
   "cell_type": "markdown",
   "id": "5f99ee75",
   "metadata": {},
   "source": [
    "Dibangun model linear regression."
   ]
  },
  {
   "cell_type": "code",
   "execution_count": 21,
   "id": "f797559f",
   "metadata": {},
   "outputs": [],
   "source": [
    "# lakukan label encode pada loan dan job\n",
    "loan_enc = le.fit_transform(df_bank['loan'])\n",
    "job_enc = le.fit_transform(df_bank['job'])"
   ]
  },
  {
   "cell_type": "markdown",
   "id": "19a8b83e",
   "metadata": {},
   "source": [
    "Dilakukan label encode, diubah nilai dari kategorik menjadi numerik agar bisa digunakan untuk model."
   ]
  },
  {
   "cell_type": "code",
   "execution_count": 22,
   "id": "2cc2e7c2",
   "metadata": {},
   "outputs": [],
   "source": [
    "# zip hasil encode kolom loan dan job\n",
    "X1 = list(zip(loan_enc, job_enc))"
   ]
  },
  {
   "cell_type": "markdown",
   "id": "28f3c709",
   "metadata": {},
   "source": [
    "dua data baru tadi digabungkan menjadi satu."
   ]
  },
  {
   "cell_type": "code",
   "execution_count": 23,
   "id": "08f01786",
   "metadata": {},
   "outputs": [],
   "source": [
    "# ubah menjadi format Data Frame\n",
    "features = pd.DataFrame(X1)"
   ]
  },
  {
   "cell_type": "markdown",
   "id": "be28d157",
   "metadata": {},
   "source": [
    "data tadi dirubah menjadi format data frame agar bisa digabungkan dengan data awal."
   ]
  },
  {
   "cell_type": "code",
   "execution_count": 24,
   "id": "d03f3986",
   "metadata": {
    "scrolled": true
   },
   "outputs": [
    {
     "data": {
      "text/html": [
       "<div>\n",
       "<style scoped>\n",
       "    .dataframe tbody tr th:only-of-type {\n",
       "        vertical-align: middle;\n",
       "    }\n",
       "\n",
       "    .dataframe tbody tr th {\n",
       "        vertical-align: top;\n",
       "    }\n",
       "\n",
       "    .dataframe thead th {\n",
       "        text-align: right;\n",
       "    }\n",
       "</style>\n",
       "<table border=\"1\" class=\"dataframe\">\n",
       "  <thead>\n",
       "    <tr style=\"text-align: right;\">\n",
       "      <th></th>\n",
       "      <th>age</th>\n",
       "      <th>balance</th>\n",
       "      <th>duration</th>\n",
       "      <th>0</th>\n",
       "      <th>1</th>\n",
       "    </tr>\n",
       "  </thead>\n",
       "  <tbody>\n",
       "    <tr>\n",
       "      <th>0</th>\n",
       "      <td>58</td>\n",
       "      <td>2143</td>\n",
       "      <td>261</td>\n",
       "      <td>0</td>\n",
       "      <td>4</td>\n",
       "    </tr>\n",
       "    <tr>\n",
       "      <th>1</th>\n",
       "      <td>44</td>\n",
       "      <td>29</td>\n",
       "      <td>151</td>\n",
       "      <td>0</td>\n",
       "      <td>9</td>\n",
       "    </tr>\n",
       "    <tr>\n",
       "      <th>2</th>\n",
       "      <td>33</td>\n",
       "      <td>2</td>\n",
       "      <td>76</td>\n",
       "      <td>1</td>\n",
       "      <td>2</td>\n",
       "    </tr>\n",
       "    <tr>\n",
       "      <th>3</th>\n",
       "      <td>47</td>\n",
       "      <td>1506</td>\n",
       "      <td>92</td>\n",
       "      <td>0</td>\n",
       "      <td>1</td>\n",
       "    </tr>\n",
       "    <tr>\n",
       "      <th>4</th>\n",
       "      <td>33</td>\n",
       "      <td>1</td>\n",
       "      <td>198</td>\n",
       "      <td>0</td>\n",
       "      <td>11</td>\n",
       "    </tr>\n",
       "    <tr>\n",
       "      <th>...</th>\n",
       "      <td>...</td>\n",
       "      <td>...</td>\n",
       "      <td>...</td>\n",
       "      <td>...</td>\n",
       "      <td>...</td>\n",
       "    </tr>\n",
       "    <tr>\n",
       "      <th>45206</th>\n",
       "      <td>51</td>\n",
       "      <td>825</td>\n",
       "      <td>977</td>\n",
       "      <td>0</td>\n",
       "      <td>9</td>\n",
       "    </tr>\n",
       "    <tr>\n",
       "      <th>45207</th>\n",
       "      <td>71</td>\n",
       "      <td>1729</td>\n",
       "      <td>456</td>\n",
       "      <td>0</td>\n",
       "      <td>5</td>\n",
       "    </tr>\n",
       "    <tr>\n",
       "      <th>45208</th>\n",
       "      <td>72</td>\n",
       "      <td>5715</td>\n",
       "      <td>1127</td>\n",
       "      <td>0</td>\n",
       "      <td>5</td>\n",
       "    </tr>\n",
       "    <tr>\n",
       "      <th>45209</th>\n",
       "      <td>57</td>\n",
       "      <td>668</td>\n",
       "      <td>508</td>\n",
       "      <td>0</td>\n",
       "      <td>1</td>\n",
       "    </tr>\n",
       "    <tr>\n",
       "      <th>45210</th>\n",
       "      <td>37</td>\n",
       "      <td>2971</td>\n",
       "      <td>361</td>\n",
       "      <td>0</td>\n",
       "      <td>2</td>\n",
       "    </tr>\n",
       "  </tbody>\n",
       "</table>\n",
       "<p>45211 rows × 5 columns</p>\n",
       "</div>"
      ],
      "text/plain": [
       "       age  balance  duration  0   1\n",
       "0       58     2143       261  0   4\n",
       "1       44       29       151  0   9\n",
       "2       33        2        76  1   2\n",
       "3       47     1506        92  0   1\n",
       "4       33        1       198  0  11\n",
       "...    ...      ...       ... ..  ..\n",
       "45206   51      825       977  0   9\n",
       "45207   71     1729       456  0   5\n",
       "45208   72     5715      1127  0   5\n",
       "45209   57      668       508  0   1\n",
       "45210   37     2971       361  0   2\n",
       "\n",
       "[45211 rows x 5 columns]"
      ]
     },
     "execution_count": 24,
     "metadata": {},
     "output_type": "execute_result"
    }
   ],
   "source": [
    "# gabungkan ke df awal\n",
    "X = X.join(features)\n",
    "X"
   ]
  },
  {
   "cell_type": "markdown",
   "id": "4006ec67",
   "metadata": {},
   "source": [
    "Kemudian data features baru digabungkan dengan data features awal."
   ]
  },
  {
   "cell_type": "code",
   "execution_count": 25,
   "id": "3d6944bc",
   "metadata": {
    "scrolled": true
   },
   "outputs": [
    {
     "data": {
      "text/html": [
       "<div>\n",
       "<style scoped>\n",
       "    .dataframe tbody tr th:only-of-type {\n",
       "        vertical-align: middle;\n",
       "    }\n",
       "\n",
       "    .dataframe tbody tr th {\n",
       "        vertical-align: top;\n",
       "    }\n",
       "\n",
       "    .dataframe thead th {\n",
       "        text-align: right;\n",
       "    }\n",
       "</style>\n",
       "<table border=\"1\" class=\"dataframe\">\n",
       "  <thead>\n",
       "    <tr style=\"text-align: right;\">\n",
       "      <th></th>\n",
       "      <th>age</th>\n",
       "      <th>balance</th>\n",
       "      <th>duration</th>\n",
       "      <th>loan_enc</th>\n",
       "      <th>job_enc</th>\n",
       "    </tr>\n",
       "  </thead>\n",
       "  <tbody>\n",
       "    <tr>\n",
       "      <th>0</th>\n",
       "      <td>58</td>\n",
       "      <td>2143</td>\n",
       "      <td>261</td>\n",
       "      <td>0</td>\n",
       "      <td>4</td>\n",
       "    </tr>\n",
       "    <tr>\n",
       "      <th>1</th>\n",
       "      <td>44</td>\n",
       "      <td>29</td>\n",
       "      <td>151</td>\n",
       "      <td>0</td>\n",
       "      <td>9</td>\n",
       "    </tr>\n",
       "    <tr>\n",
       "      <th>2</th>\n",
       "      <td>33</td>\n",
       "      <td>2</td>\n",
       "      <td>76</td>\n",
       "      <td>1</td>\n",
       "      <td>2</td>\n",
       "    </tr>\n",
       "    <tr>\n",
       "      <th>3</th>\n",
       "      <td>47</td>\n",
       "      <td>1506</td>\n",
       "      <td>92</td>\n",
       "      <td>0</td>\n",
       "      <td>1</td>\n",
       "    </tr>\n",
       "    <tr>\n",
       "      <th>4</th>\n",
       "      <td>33</td>\n",
       "      <td>1</td>\n",
       "      <td>198</td>\n",
       "      <td>0</td>\n",
       "      <td>11</td>\n",
       "    </tr>\n",
       "    <tr>\n",
       "      <th>...</th>\n",
       "      <td>...</td>\n",
       "      <td>...</td>\n",
       "      <td>...</td>\n",
       "      <td>...</td>\n",
       "      <td>...</td>\n",
       "    </tr>\n",
       "    <tr>\n",
       "      <th>45206</th>\n",
       "      <td>51</td>\n",
       "      <td>825</td>\n",
       "      <td>977</td>\n",
       "      <td>0</td>\n",
       "      <td>9</td>\n",
       "    </tr>\n",
       "    <tr>\n",
       "      <th>45207</th>\n",
       "      <td>71</td>\n",
       "      <td>1729</td>\n",
       "      <td>456</td>\n",
       "      <td>0</td>\n",
       "      <td>5</td>\n",
       "    </tr>\n",
       "    <tr>\n",
       "      <th>45208</th>\n",
       "      <td>72</td>\n",
       "      <td>5715</td>\n",
       "      <td>1127</td>\n",
       "      <td>0</td>\n",
       "      <td>5</td>\n",
       "    </tr>\n",
       "    <tr>\n",
       "      <th>45209</th>\n",
       "      <td>57</td>\n",
       "      <td>668</td>\n",
       "      <td>508</td>\n",
       "      <td>0</td>\n",
       "      <td>1</td>\n",
       "    </tr>\n",
       "    <tr>\n",
       "      <th>45210</th>\n",
       "      <td>37</td>\n",
       "      <td>2971</td>\n",
       "      <td>361</td>\n",
       "      <td>0</td>\n",
       "      <td>2</td>\n",
       "    </tr>\n",
       "  </tbody>\n",
       "</table>\n",
       "<p>45211 rows × 5 columns</p>\n",
       "</div>"
      ],
      "text/plain": [
       "       age  balance  duration  loan_enc  job_enc\n",
       "0       58     2143       261         0        4\n",
       "1       44       29       151         0        9\n",
       "2       33        2        76         1        2\n",
       "3       47     1506        92         0        1\n",
       "4       33        1       198         0       11\n",
       "...    ...      ...       ...       ...      ...\n",
       "45206   51      825       977         0        9\n",
       "45207   71     1729       456         0        5\n",
       "45208   72     5715      1127         0        5\n",
       "45209   57      668       508         0        1\n",
       "45210   37     2971       361         0        2\n",
       "\n",
       "[45211 rows x 5 columns]"
      ]
     },
     "execution_count": 25,
     "metadata": {},
     "output_type": "execute_result"
    }
   ],
   "source": [
    "# ubah nama kolom\n",
    "X.rename(columns={0:'loan_enc', 1:'job_enc'}, inplace=True)\n",
    "X"
   ]
  },
  {
   "cell_type": "markdown",
   "id": "28fa4ef4",
   "metadata": {},
   "source": [
    "Dilakukan rename kolom agar lebih mudah dimengerti."
   ]
  },
  {
   "cell_type": "code",
   "execution_count": 26,
   "id": "c8ff3378",
   "metadata": {},
   "outputs": [],
   "source": [
    "# Split data baru\n",
    "x_train, x_test, y_train, y_test = train_test_split(X, y, test_size=0.2, random_state=2024)"
   ]
  },
  {
   "cell_type": "markdown",
   "id": "25cc656e",
   "metadata": {},
   "source": [
    "Dilakukan splitting data dari data sebelumnya dengan ukuran 20% data awal untuk testing set dan selebihnya untuk training set."
   ]
  },
  {
   "cell_type": "code",
   "execution_count": 27,
   "id": "bc17aa54",
   "metadata": {
    "scrolled": true
   },
   "outputs": [
    {
     "name": "stdout",
     "output_type": "stream",
     "text": [
      "Score data training 0.8884096438840965\n",
      "Score data testing 0.8893066460245493\n"
     ]
    }
   ],
   "source": [
    "# fit dengan data baru\n",
    "model_LR.fit(x_train, y_train)\n",
    "\n",
    "# cek score model dengan data baru\n",
    "print('Score data training', model_LR.score(x_train, y_train))\n",
    "print('Score data testing',model_LR.score(x_test, y_test))"
   ]
  },
  {
   "cell_type": "markdown",
   "id": "c4ce8e82",
   "metadata": {},
   "source": [
    "Dilakukan fitting model agar model dapat belajar untuk melakukan prediksi nantinya. Lalu dicek score model menggunakan data testing dan training, selain untuk mengecek akurasi digunakan juga untuk membandingkan score untuk pertimbangan model tersebut overfitting atau tidak."
   ]
  },
  {
   "cell_type": "code",
   "execution_count": 28,
   "id": "fa617643",
   "metadata": {
    "scrolled": true
   },
   "outputs": [
    {
     "data": {
      "text/plain": [
       "array([[7859,  123],\n",
       "       [ 878,  183]], dtype=int64)"
      ]
     },
     "execution_count": 28,
     "metadata": {},
     "output_type": "execute_result"
    }
   ],
   "source": [
    "# predict the given features dengan data baru\n",
    "y_pred = model_LR.predict(x_test)\n",
    "\n",
    "# show confusion matrix\n",
    "confusion_matrix(y_test, y_pred)"
   ]
  },
  {
   "cell_type": "markdown",
   "id": "64518b1c",
   "metadata": {},
   "source": [
    "Jika dilihat pada hasil score dan confusion matrix, bisa dipastikan performance model menurut karena nilai score yang menurun serta semakin menurunnya kemampuan model dalam mem-predict data. Jika dilihat dari confusion matrix di atas, terjadi penurunan untuk angka True Negatif dan True Positif serta kenaikan pada False positif."
   ]
  },
  {
   "cell_type": "markdown",
   "id": "fee02ee4",
   "metadata": {},
   "source": [
    "Kemudian dilakukan percobaan penambahan feature marital dan housing"
   ]
  },
  {
   "cell_type": "code",
   "execution_count": 29,
   "id": "504889be",
   "metadata": {},
   "outputs": [
    {
     "data": {
      "text/html": [
       "<div>\n",
       "<style scoped>\n",
       "    .dataframe tbody tr th:only-of-type {\n",
       "        vertical-align: middle;\n",
       "    }\n",
       "\n",
       "    .dataframe tbody tr th {\n",
       "        vertical-align: top;\n",
       "    }\n",
       "\n",
       "    .dataframe thead th {\n",
       "        text-align: right;\n",
       "    }\n",
       "</style>\n",
       "<table border=\"1\" class=\"dataframe\">\n",
       "  <thead>\n",
       "    <tr style=\"text-align: right;\">\n",
       "      <th></th>\n",
       "      <th>age</th>\n",
       "      <th>balance</th>\n",
       "      <th>duration</th>\n",
       "      <th>loan_enc</th>\n",
       "      <th>job_enc</th>\n",
       "      <th>0</th>\n",
       "      <th>1</th>\n",
       "    </tr>\n",
       "  </thead>\n",
       "  <tbody>\n",
       "    <tr>\n",
       "      <th>0</th>\n",
       "      <td>58</td>\n",
       "      <td>2143</td>\n",
       "      <td>261</td>\n",
       "      <td>0</td>\n",
       "      <td>4</td>\n",
       "      <td>1</td>\n",
       "      <td>1</td>\n",
       "    </tr>\n",
       "    <tr>\n",
       "      <th>1</th>\n",
       "      <td>44</td>\n",
       "      <td>29</td>\n",
       "      <td>151</td>\n",
       "      <td>0</td>\n",
       "      <td>9</td>\n",
       "      <td>2</td>\n",
       "      <td>1</td>\n",
       "    </tr>\n",
       "    <tr>\n",
       "      <th>2</th>\n",
       "      <td>33</td>\n",
       "      <td>2</td>\n",
       "      <td>76</td>\n",
       "      <td>1</td>\n",
       "      <td>2</td>\n",
       "      <td>1</td>\n",
       "      <td>1</td>\n",
       "    </tr>\n",
       "    <tr>\n",
       "      <th>3</th>\n",
       "      <td>47</td>\n",
       "      <td>1506</td>\n",
       "      <td>92</td>\n",
       "      <td>0</td>\n",
       "      <td>1</td>\n",
       "      <td>1</td>\n",
       "      <td>1</td>\n",
       "    </tr>\n",
       "    <tr>\n",
       "      <th>4</th>\n",
       "      <td>33</td>\n",
       "      <td>1</td>\n",
       "      <td>198</td>\n",
       "      <td>0</td>\n",
       "      <td>11</td>\n",
       "      <td>2</td>\n",
       "      <td>0</td>\n",
       "    </tr>\n",
       "    <tr>\n",
       "      <th>...</th>\n",
       "      <td>...</td>\n",
       "      <td>...</td>\n",
       "      <td>...</td>\n",
       "      <td>...</td>\n",
       "      <td>...</td>\n",
       "      <td>...</td>\n",
       "      <td>...</td>\n",
       "    </tr>\n",
       "    <tr>\n",
       "      <th>45206</th>\n",
       "      <td>51</td>\n",
       "      <td>825</td>\n",
       "      <td>977</td>\n",
       "      <td>0</td>\n",
       "      <td>9</td>\n",
       "      <td>1</td>\n",
       "      <td>0</td>\n",
       "    </tr>\n",
       "    <tr>\n",
       "      <th>45207</th>\n",
       "      <td>71</td>\n",
       "      <td>1729</td>\n",
       "      <td>456</td>\n",
       "      <td>0</td>\n",
       "      <td>5</td>\n",
       "      <td>0</td>\n",
       "      <td>0</td>\n",
       "    </tr>\n",
       "    <tr>\n",
       "      <th>45208</th>\n",
       "      <td>72</td>\n",
       "      <td>5715</td>\n",
       "      <td>1127</td>\n",
       "      <td>0</td>\n",
       "      <td>5</td>\n",
       "      <td>1</td>\n",
       "      <td>0</td>\n",
       "    </tr>\n",
       "    <tr>\n",
       "      <th>45209</th>\n",
       "      <td>57</td>\n",
       "      <td>668</td>\n",
       "      <td>508</td>\n",
       "      <td>0</td>\n",
       "      <td>1</td>\n",
       "      <td>1</td>\n",
       "      <td>0</td>\n",
       "    </tr>\n",
       "    <tr>\n",
       "      <th>45210</th>\n",
       "      <td>37</td>\n",
       "      <td>2971</td>\n",
       "      <td>361</td>\n",
       "      <td>0</td>\n",
       "      <td>2</td>\n",
       "      <td>1</td>\n",
       "      <td>0</td>\n",
       "    </tr>\n",
       "  </tbody>\n",
       "</table>\n",
       "<p>45211 rows × 7 columns</p>\n",
       "</div>"
      ],
      "text/plain": [
       "       age  balance  duration  loan_enc  job_enc  0  1\n",
       "0       58     2143       261         0        4  1  1\n",
       "1       44       29       151         0        9  2  1\n",
       "2       33        2        76         1        2  1  1\n",
       "3       47     1506        92         0        1  1  1\n",
       "4       33        1       198         0       11  2  0\n",
       "...    ...      ...       ...       ...      ... .. ..\n",
       "45206   51      825       977         0        9  1  0\n",
       "45207   71     1729       456         0        5  0  0\n",
       "45208   72     5715      1127         0        5  1  0\n",
       "45209   57      668       508         0        1  1  0\n",
       "45210   37     2971       361         0        2  1  0\n",
       "\n",
       "[45211 rows x 7 columns]"
      ]
     },
     "execution_count": 29,
     "metadata": {},
     "output_type": "execute_result"
    }
   ],
   "source": [
    "# encode variable\n",
    "marit_enc = le.fit_transform(df_bank['marital'])\n",
    "housing_enc = le.fit_transform(df_bank['housing'])\n",
    "\n",
    "# zip kedua hasil encoding\n",
    "X2 = list(zip(marit_enc, housing_enc))\n",
    "\n",
    "# ubah menjadi data frame dan digabungkan dengan data awal\n",
    "features2 = pd.DataFrame(X2)\n",
    "X = X.join(features2)\n",
    "X"
   ]
  },
  {
   "cell_type": "markdown",
   "id": "920bf690",
   "metadata": {},
   "source": [
    "diakses data marital dan housing kemudian dilakukan encoding dan diassign ke variabel baru. Kemudian kedua kolom baru dari marital dan housing tersebut disatukan, diubah ke dalam bentuk data frame dan digabungkan dengan data awal."
   ]
  },
  {
   "cell_type": "code",
   "execution_count": 30,
   "id": "c3cb267e",
   "metadata": {},
   "outputs": [
    {
     "data": {
      "text/html": [
       "<div>\n",
       "<style scoped>\n",
       "    .dataframe tbody tr th:only-of-type {\n",
       "        vertical-align: middle;\n",
       "    }\n",
       "\n",
       "    .dataframe tbody tr th {\n",
       "        vertical-align: top;\n",
       "    }\n",
       "\n",
       "    .dataframe thead th {\n",
       "        text-align: right;\n",
       "    }\n",
       "</style>\n",
       "<table border=\"1\" class=\"dataframe\">\n",
       "  <thead>\n",
       "    <tr style=\"text-align: right;\">\n",
       "      <th></th>\n",
       "      <th>age</th>\n",
       "      <th>balance</th>\n",
       "      <th>duration</th>\n",
       "      <th>loan_enc</th>\n",
       "      <th>job_enc</th>\n",
       "      <th>marit_enc</th>\n",
       "      <th>housing_enc</th>\n",
       "    </tr>\n",
       "  </thead>\n",
       "  <tbody>\n",
       "    <tr>\n",
       "      <th>0</th>\n",
       "      <td>58</td>\n",
       "      <td>2143</td>\n",
       "      <td>261</td>\n",
       "      <td>0</td>\n",
       "      <td>4</td>\n",
       "      <td>1</td>\n",
       "      <td>1</td>\n",
       "    </tr>\n",
       "    <tr>\n",
       "      <th>1</th>\n",
       "      <td>44</td>\n",
       "      <td>29</td>\n",
       "      <td>151</td>\n",
       "      <td>0</td>\n",
       "      <td>9</td>\n",
       "      <td>2</td>\n",
       "      <td>1</td>\n",
       "    </tr>\n",
       "    <tr>\n",
       "      <th>2</th>\n",
       "      <td>33</td>\n",
       "      <td>2</td>\n",
       "      <td>76</td>\n",
       "      <td>1</td>\n",
       "      <td>2</td>\n",
       "      <td>1</td>\n",
       "      <td>1</td>\n",
       "    </tr>\n",
       "    <tr>\n",
       "      <th>3</th>\n",
       "      <td>47</td>\n",
       "      <td>1506</td>\n",
       "      <td>92</td>\n",
       "      <td>0</td>\n",
       "      <td>1</td>\n",
       "      <td>1</td>\n",
       "      <td>1</td>\n",
       "    </tr>\n",
       "    <tr>\n",
       "      <th>4</th>\n",
       "      <td>33</td>\n",
       "      <td>1</td>\n",
       "      <td>198</td>\n",
       "      <td>0</td>\n",
       "      <td>11</td>\n",
       "      <td>2</td>\n",
       "      <td>0</td>\n",
       "    </tr>\n",
       "    <tr>\n",
       "      <th>...</th>\n",
       "      <td>...</td>\n",
       "      <td>...</td>\n",
       "      <td>...</td>\n",
       "      <td>...</td>\n",
       "      <td>...</td>\n",
       "      <td>...</td>\n",
       "      <td>...</td>\n",
       "    </tr>\n",
       "    <tr>\n",
       "      <th>45206</th>\n",
       "      <td>51</td>\n",
       "      <td>825</td>\n",
       "      <td>977</td>\n",
       "      <td>0</td>\n",
       "      <td>9</td>\n",
       "      <td>1</td>\n",
       "      <td>0</td>\n",
       "    </tr>\n",
       "    <tr>\n",
       "      <th>45207</th>\n",
       "      <td>71</td>\n",
       "      <td>1729</td>\n",
       "      <td>456</td>\n",
       "      <td>0</td>\n",
       "      <td>5</td>\n",
       "      <td>0</td>\n",
       "      <td>0</td>\n",
       "    </tr>\n",
       "    <tr>\n",
       "      <th>45208</th>\n",
       "      <td>72</td>\n",
       "      <td>5715</td>\n",
       "      <td>1127</td>\n",
       "      <td>0</td>\n",
       "      <td>5</td>\n",
       "      <td>1</td>\n",
       "      <td>0</td>\n",
       "    </tr>\n",
       "    <tr>\n",
       "      <th>45209</th>\n",
       "      <td>57</td>\n",
       "      <td>668</td>\n",
       "      <td>508</td>\n",
       "      <td>0</td>\n",
       "      <td>1</td>\n",
       "      <td>1</td>\n",
       "      <td>0</td>\n",
       "    </tr>\n",
       "    <tr>\n",
       "      <th>45210</th>\n",
       "      <td>37</td>\n",
       "      <td>2971</td>\n",
       "      <td>361</td>\n",
       "      <td>0</td>\n",
       "      <td>2</td>\n",
       "      <td>1</td>\n",
       "      <td>0</td>\n",
       "    </tr>\n",
       "  </tbody>\n",
       "</table>\n",
       "<p>45211 rows × 7 columns</p>\n",
       "</div>"
      ],
      "text/plain": [
       "       age  balance  duration  loan_enc  job_enc  marit_enc  housing_enc\n",
       "0       58     2143       261         0        4          1            1\n",
       "1       44       29       151         0        9          2            1\n",
       "2       33        2        76         1        2          1            1\n",
       "3       47     1506        92         0        1          1            1\n",
       "4       33        1       198         0       11          2            0\n",
       "...    ...      ...       ...       ...      ...        ...          ...\n",
       "45206   51      825       977         0        9          1            0\n",
       "45207   71     1729       456         0        5          0            0\n",
       "45208   72     5715      1127         0        5          1            0\n",
       "45209   57      668       508         0        1          1            0\n",
       "45210   37     2971       361         0        2          1            0\n",
       "\n",
       "[45211 rows x 7 columns]"
      ]
     },
     "execution_count": 30,
     "metadata": {},
     "output_type": "execute_result"
    }
   ],
   "source": [
    "# ubah nama kolom\n",
    "X.rename(columns={0:'marit_enc', 1:'housing_enc'}, inplace=True)\n",
    "X"
   ]
  },
  {
   "cell_type": "markdown",
   "id": "79249c2f",
   "metadata": {},
   "source": [
    "dilakukan rename kolom agar lebih mudah dipahami datanya."
   ]
  },
  {
   "cell_type": "code",
   "execution_count": 31,
   "id": "278294f7",
   "metadata": {},
   "outputs": [],
   "source": [
    "# split data baru\n",
    "x_train, x_test, y_train, y_test = train_test_split(X, y, test_size=0.2, random_state=2024)"
   ]
  },
  {
   "cell_type": "markdown",
   "id": "966a9958",
   "metadata": {},
   "source": [
    "Dilakukan splitting data dari data sebelumnya dengan ukuran 20% data awal untuk testing set dan selebihnya untuk training set."
   ]
  },
  {
   "cell_type": "code",
   "execution_count": 32,
   "id": "4893f86d",
   "metadata": {
    "scrolled": false
   },
   "outputs": [
    {
     "name": "stdout",
     "output_type": "stream",
     "text": [
      "Score data training 0.888271400132714\n",
      "Score data testing 0.8874267389140772\n"
     ]
    }
   ],
   "source": [
    "# fit model\n",
    "model_LR.fit(x_train, y_train)\n",
    "\n",
    "# menampilkan scoring model menggunakan data training dan testing\n",
    "# bisa untuk mengecek model overfitting atau tidak\n",
    "print('Score data training', model_LR.score(x_train, y_train))\n",
    "print('Score data testing',model_LR.score(x_test, y_test))"
   ]
  },
  {
   "cell_type": "markdown",
   "id": "fa6b6677",
   "metadata": {},
   "source": [
    "Jika dilihat dari hasil scoring, dapat disimpulkan bahwa model tidak overfitting karena selisih antara hasil scoring menggunakan training set dan testing set tidak terlalu jauh berbeda."
   ]
  },
  {
   "cell_type": "code",
   "execution_count": 33,
   "id": "3cd2c6e9",
   "metadata": {},
   "outputs": [
    {
     "data": {
      "text/plain": [
       "array([[7837,  145],\n",
       "       [ 873,  188]], dtype=int64)"
      ]
     },
     "execution_count": 33,
     "metadata": {},
     "output_type": "execute_result"
    }
   ],
   "source": [
    "# predict the given features dengan data baru\n",
    "y_pred = model_LR.predict(x_test)\n",
    "\n",
    "# show confusion matrix\n",
    "confusion_matrix(y_test, y_pred)"
   ]
  },
  {
   "cell_type": "markdown",
   "id": "c4c1367c",
   "metadata": {},
   "source": [
    "Jika dilihat dari hasil scoring data dan confusion matrixnya, bisa dipastikan bahwa kinerja model kembali menurun ditandai dari nilai scoring yang menurun baik menggunakan data training mau pun testing serta penurunan angka pada confusion matrix."
   ]
  },
  {
   "cell_type": "code",
   "execution_count": 34,
   "id": "5d25d3e0",
   "metadata": {},
   "outputs": [],
   "source": [
    "# normalisasi data feature menggunakan StandardScaler()\n",
    "scaler = StandardScaler()\n",
    "x_train_sc = scaler.fit_transform(x_train)\n",
    "x_test_sc = scaler.transform(x_test)"
   ]
  },
  {
   "cell_type": "markdown",
   "id": "f3775377",
   "metadata": {},
   "source": [
    "dipanggil fungsi StandardScaler() yang mana akan digunakan untuk menormalisasi data."
   ]
  },
  {
   "cell_type": "code",
   "execution_count": 35,
   "id": "abc5de5b",
   "metadata": {},
   "outputs": [
    {
     "name": "stdout",
     "output_type": "stream",
     "text": [
      "0.8885478876354789\n",
      "0.8878690699988941\n"
     ]
    }
   ],
   "source": [
    "# fit model menggunakan data yang telah dinormalisasi\n",
    "model_LR.fit(x_train_sc,y_train)\n",
    "\n",
    "#cek score model menggunakan data training dan testing yang telah dinormalisasi\n",
    "print(model_LR.score(x_train_sc, y_train))\n",
    "print(model_LR.score(x_test_sc, y_test))"
   ]
  },
  {
   "cell_type": "markdown",
   "id": "f6138d59",
   "metadata": {},
   "source": [
    "Dilakukan fitting model menggunakan data training sehingga model dapat belajar untuk melakukan prediksi nantinya. Lalu dicek score model menggunakan data training dan testing yang mana keduanya menunjukkan hasil yang lumayan baik. Dan selisih saat menggunakan data training maupun testing tidak terlalu banyak jadi bisa dipastikan model tidak mengalami overfitting."
   ]
  },
  {
   "cell_type": "code",
   "execution_count": 36,
   "id": "d4c66a92",
   "metadata": {},
   "outputs": [
    {
     "data": {
      "text/plain": [
       "array([[7839,  143],\n",
       "       [ 871,  190]], dtype=int64)"
      ]
     },
     "execution_count": 36,
     "metadata": {},
     "output_type": "execute_result"
    }
   ],
   "source": [
    "# predict the given features dengan data baru yang telah dinormalisasi\n",
    "y_pred = model_LR.predict(x_test_sc)\n",
    "\n",
    "# show confusion matrix\n",
    "confusion_matrix(y_test, y_pred)"
   ]
  },
  {
   "cell_type": "markdown",
   "id": "6bf5300b",
   "metadata": {},
   "source": [
    "Dilakukan prediksi data testing lalu dilihat confusion matrixnya. Jika dilihat dari confusion matrix tersebut, bisa kita ketahui bahwa model dapat menebak 7839 data dengan label 'no' (true negative), false negative 871, false positive 143 data dan 190 data dengan label 'yes'(true positive). Namun untuk label yes, selisih antara prediksi benar dan salah yang dilakukan model terlalu kecil, sehingga diperlukan improve pada model."
   ]
  },
  {
   "cell_type": "markdown",
   "id": "d980bc79",
   "metadata": {},
   "source": [
    "Setelah dilakukan normalisasi menggunakan StandardScaler pada data feature pun, kinerja model masih lebih rendah daripada yang lainnya ditandai dengan penurunan nilai score dan hasil dari confusion matrixnya. Dari keempat percobaan bisa disimpulkan bahwa percobaan pertama menggunakan data feature age, balance, duration menghasilkan model terbaik."
   ]
  },
  {
   "cell_type": "markdown",
   "id": "2d95628b",
   "metadata": {},
   "source": [
    "#### K-Nearest Neighbors"
   ]
  },
  {
   "cell_type": "code",
   "execution_count": 37,
   "id": "031963ad",
   "metadata": {
    "scrolled": false
   },
   "outputs": [
    {
     "data": {
      "text/html": [
       "<div>\n",
       "<style scoped>\n",
       "    .dataframe tbody tr th:only-of-type {\n",
       "        vertical-align: middle;\n",
       "    }\n",
       "\n",
       "    .dataframe tbody tr th {\n",
       "        vertical-align: top;\n",
       "    }\n",
       "\n",
       "    .dataframe thead th {\n",
       "        text-align: right;\n",
       "    }\n",
       "</style>\n",
       "<table border=\"1\" class=\"dataframe\">\n",
       "  <thead>\n",
       "    <tr style=\"text-align: right;\">\n",
       "      <th></th>\n",
       "      <th>age</th>\n",
       "      <th>balance</th>\n",
       "      <th>duration</th>\n",
       "      <th>loan_enc</th>\n",
       "      <th>job_enc</th>\n",
       "      <th>marit_enc</th>\n",
       "      <th>housing_enc</th>\n",
       "    </tr>\n",
       "  </thead>\n",
       "  <tbody>\n",
       "    <tr>\n",
       "      <th>0</th>\n",
       "      <td>58</td>\n",
       "      <td>2143</td>\n",
       "      <td>261</td>\n",
       "      <td>0</td>\n",
       "      <td>4</td>\n",
       "      <td>1</td>\n",
       "      <td>1</td>\n",
       "    </tr>\n",
       "    <tr>\n",
       "      <th>1</th>\n",
       "      <td>44</td>\n",
       "      <td>29</td>\n",
       "      <td>151</td>\n",
       "      <td>0</td>\n",
       "      <td>9</td>\n",
       "      <td>2</td>\n",
       "      <td>1</td>\n",
       "    </tr>\n",
       "    <tr>\n",
       "      <th>2</th>\n",
       "      <td>33</td>\n",
       "      <td>2</td>\n",
       "      <td>76</td>\n",
       "      <td>1</td>\n",
       "      <td>2</td>\n",
       "      <td>1</td>\n",
       "      <td>1</td>\n",
       "    </tr>\n",
       "    <tr>\n",
       "      <th>3</th>\n",
       "      <td>47</td>\n",
       "      <td>1506</td>\n",
       "      <td>92</td>\n",
       "      <td>0</td>\n",
       "      <td>1</td>\n",
       "      <td>1</td>\n",
       "      <td>1</td>\n",
       "    </tr>\n",
       "    <tr>\n",
       "      <th>4</th>\n",
       "      <td>33</td>\n",
       "      <td>1</td>\n",
       "      <td>198</td>\n",
       "      <td>0</td>\n",
       "      <td>11</td>\n",
       "      <td>2</td>\n",
       "      <td>0</td>\n",
       "    </tr>\n",
       "  </tbody>\n",
       "</table>\n",
       "</div>"
      ],
      "text/plain": [
       "   age  balance  duration  loan_enc  job_enc  marit_enc  housing_enc\n",
       "0   58     2143       261         0        4          1            1\n",
       "1   44       29       151         0        9          2            1\n",
       "2   33        2        76         1        2          1            1\n",
       "3   47     1506        92         0        1          1            1\n",
       "4   33        1       198         0       11          2            0"
      ]
     },
     "execution_count": 37,
     "metadata": {},
     "output_type": "execute_result"
    }
   ],
   "source": [
    "# menampilkan data teratas\n",
    "X.head()"
   ]
  },
  {
   "cell_type": "markdown",
   "id": "7a6c826c",
   "metadata": {},
   "source": [
    "code ini digunakan untuk menampilkan 5 data teratas, bisa untuk melihat value data secara sekilas."
   ]
  },
  {
   "cell_type": "code",
   "execution_count": 38,
   "id": "37cf9f6d",
   "metadata": {
    "scrolled": true
   },
   "outputs": [
    {
     "data": {
      "text/html": [
       "<div>\n",
       "<style scoped>\n",
       "    .dataframe tbody tr th:only-of-type {\n",
       "        vertical-align: middle;\n",
       "    }\n",
       "\n",
       "    .dataframe tbody tr th {\n",
       "        vertical-align: top;\n",
       "    }\n",
       "\n",
       "    .dataframe thead th {\n",
       "        text-align: right;\n",
       "    }\n",
       "</style>\n",
       "<table border=\"1\" class=\"dataframe\">\n",
       "  <thead>\n",
       "    <tr style=\"text-align: right;\">\n",
       "      <th></th>\n",
       "      <th>age</th>\n",
       "      <th>balance</th>\n",
       "      <th>duration</th>\n",
       "      <th>loan_enc</th>\n",
       "      <th>job_enc</th>\n",
       "      <th>marit_enc</th>\n",
       "      <th>housing_enc</th>\n",
       "    </tr>\n",
       "  </thead>\n",
       "  <tbody>\n",
       "    <tr>\n",
       "      <th>0</th>\n",
       "      <td>58</td>\n",
       "      <td>2143</td>\n",
       "      <td>261</td>\n",
       "      <td>0</td>\n",
       "      <td>4</td>\n",
       "      <td>1</td>\n",
       "      <td>1</td>\n",
       "    </tr>\n",
       "    <tr>\n",
       "      <th>1</th>\n",
       "      <td>44</td>\n",
       "      <td>29</td>\n",
       "      <td>151</td>\n",
       "      <td>0</td>\n",
       "      <td>9</td>\n",
       "      <td>2</td>\n",
       "      <td>1</td>\n",
       "    </tr>\n",
       "    <tr>\n",
       "      <th>2</th>\n",
       "      <td>33</td>\n",
       "      <td>2</td>\n",
       "      <td>76</td>\n",
       "      <td>1</td>\n",
       "      <td>2</td>\n",
       "      <td>1</td>\n",
       "      <td>1</td>\n",
       "    </tr>\n",
       "    <tr>\n",
       "      <th>3</th>\n",
       "      <td>47</td>\n",
       "      <td>1506</td>\n",
       "      <td>92</td>\n",
       "      <td>0</td>\n",
       "      <td>1</td>\n",
       "      <td>1</td>\n",
       "      <td>1</td>\n",
       "    </tr>\n",
       "    <tr>\n",
       "      <th>4</th>\n",
       "      <td>33</td>\n",
       "      <td>1</td>\n",
       "      <td>198</td>\n",
       "      <td>0</td>\n",
       "      <td>11</td>\n",
       "      <td>2</td>\n",
       "      <td>0</td>\n",
       "    </tr>\n",
       "  </tbody>\n",
       "</table>\n",
       "</div>"
      ],
      "text/plain": [
       "   age  balance  duration  loan_enc  job_enc  marit_enc  housing_enc\n",
       "0   58     2143       261         0        4          1            1\n",
       "1   44       29       151         0        9          2            1\n",
       "2   33        2        76         1        2          1            1\n",
       "3   47     1506        92         0        1          1            1\n",
       "4   33        1       198         0       11          2            0"
      ]
     },
     "execution_count": 38,
     "metadata": {},
     "output_type": "execute_result"
    }
   ],
   "source": [
    "# assign ke variabel baru untuk data yang memiliki kolom dari hasil encoding\n",
    "X_enc = X\n",
    "X_enc.head()"
   ]
  },
  {
   "cell_type": "markdown",
   "id": "7872f724",
   "metadata": {},
   "source": [
    "untuk X_enc digunakan 3 variabel yaitu age, balance dan duration tanpa dilakukan proses lainnya terlebih dahulu. Lalu ditambahkan dengan beberapa variabel yang telah diencoding sebelumnya yaitu loan, job, marital dan housing. code head() digunakan untuk menampilkan 5 data teratas, bisa untuk melihat value data secara sekilas."
   ]
  },
  {
   "cell_type": "code",
   "execution_count": 39,
   "id": "62a0e2e9",
   "metadata": {
    "scrolled": true
   },
   "outputs": [
    {
     "data": {
      "text/html": [
       "<div>\n",
       "<style scoped>\n",
       "    .dataframe tbody tr th:only-of-type {\n",
       "        vertical-align: middle;\n",
       "    }\n",
       "\n",
       "    .dataframe tbody tr th {\n",
       "        vertical-align: top;\n",
       "    }\n",
       "\n",
       "    .dataframe thead th {\n",
       "        text-align: right;\n",
       "    }\n",
       "</style>\n",
       "<table border=\"1\" class=\"dataframe\">\n",
       "  <thead>\n",
       "    <tr style=\"text-align: right;\">\n",
       "      <th></th>\n",
       "      <th>age</th>\n",
       "      <th>balance</th>\n",
       "      <th>duration</th>\n",
       "    </tr>\n",
       "  </thead>\n",
       "  <tbody>\n",
       "    <tr>\n",
       "      <th>0</th>\n",
       "      <td>58</td>\n",
       "      <td>2143</td>\n",
       "      <td>261</td>\n",
       "    </tr>\n",
       "    <tr>\n",
       "      <th>1</th>\n",
       "      <td>44</td>\n",
       "      <td>29</td>\n",
       "      <td>151</td>\n",
       "    </tr>\n",
       "    <tr>\n",
       "      <th>2</th>\n",
       "      <td>33</td>\n",
       "      <td>2</td>\n",
       "      <td>76</td>\n",
       "    </tr>\n",
       "    <tr>\n",
       "      <th>3</th>\n",
       "      <td>47</td>\n",
       "      <td>1506</td>\n",
       "      <td>92</td>\n",
       "    </tr>\n",
       "    <tr>\n",
       "      <th>4</th>\n",
       "      <td>33</td>\n",
       "      <td>1</td>\n",
       "      <td>198</td>\n",
       "    </tr>\n",
       "  </tbody>\n",
       "</table>\n",
       "</div>"
      ],
      "text/plain": [
       "   age  balance  duration\n",
       "0   58     2143       261\n",
       "1   44       29       151\n",
       "2   33        2        76\n",
       "3   47     1506        92\n",
       "4   33        1       198"
      ]
     },
     "execution_count": 39,
     "metadata": {},
     "output_type": "execute_result"
    }
   ],
   "source": [
    "# data frame berisikan variabel age, balance dan duration\n",
    "X = df_bank[['age', 'balance', 'duration']]\n",
    "X.head()"
   ]
  },
  {
   "cell_type": "markdown",
   "id": "f390bf81",
   "metadata": {},
   "source": [
    "untuk X digunakan 3 variabel saja yaitu age, balance dan duration dimana variabel tersebut langsung digunakan tanpa dilakukan proses lainnya terlebih dahulu. code head() digunakan untuk menampilkan 5 data teratas, bisa untuk melihat value data secara sekilas."
   ]
  },
  {
   "cell_type": "markdown",
   "id": "c6f64947",
   "metadata": {},
   "source": [
    "Digunakan dua dataset sebagai bahan perbandingan nantinya. Kedua dataset di atas (X dan X_enc) dipilih berdasarkan percobaan pada Linear Regression."
   ]
  },
  {
   "cell_type": "code",
   "execution_count": 40,
   "id": "f91060cb",
   "metadata": {},
   "outputs": [
    {
     "data": {
      "text/plain": [
       "0    no\n",
       "1    no\n",
       "2    no\n",
       "3    no\n",
       "4    no\n",
       "Name: y, dtype: object"
      ]
     },
     "execution_count": 40,
     "metadata": {},
     "output_type": "execute_result"
    }
   ],
   "source": [
    "# menampilkan data teratas untuk target variabel\n",
    "y.head()"
   ]
  },
  {
   "cell_type": "code",
   "execution_count": 41,
   "id": "c0f1d8f9",
   "metadata": {},
   "outputs": [],
   "source": [
    "# import library\n",
    "from sklearn.neighbors import KNeighborsClassifier"
   ]
  },
  {
   "cell_type": "markdown",
   "id": "1c54bd04",
   "metadata": {},
   "source": [
    "dilakukan import library agar dapat digunakan fungsi-fungsi yang diperlukan."
   ]
  },
  {
   "cell_type": "code",
   "execution_count": 42,
   "id": "dbb3379c",
   "metadata": {},
   "outputs": [],
   "source": [
    "# Split data\n",
    "X_train, X_test, y_train, y_test = train_test_split(X, y, test_size=0.2, random_state=2024)"
   ]
  },
  {
   "cell_type": "markdown",
   "id": "29a0ca9b",
   "metadata": {},
   "source": [
    "Dilakukan splitting data dari data sebelumnya dengan ukuran 20% data awal untuk testing set dan selebihnya untuk training set."
   ]
  },
  {
   "cell_type": "code",
   "execution_count": 43,
   "id": "14a37fed",
   "metadata": {},
   "outputs": [
    {
     "data": {
      "text/plain": [
       "KNeighborsClassifier(n_neighbors=3)"
      ]
     },
     "execution_count": 43,
     "metadata": {},
     "output_type": "execute_result"
    }
   ],
   "source": [
    "# bangun model\n",
    "model_KNN = KNeighborsClassifier(n_neighbors=3)\n",
    "\n",
    "# fit model menggunakan data features X\n",
    "model_KNN.fit(X_train, y_train)"
   ]
  },
  {
   "cell_type": "markdown",
   "id": "20545fbc",
   "metadata": {},
   "source": [
    "Dibangun model KNN dengan diberi nilai 3 untuk parameter n_neighbors yang mana parameter tersebut berguna untuk menentukan jumlah neighbors untuk vote class bagi suatu data point. Lalu dilakukan fitting model dengan diberikan data training agar model bisa mempelajari data untuk membuat prediksi nantinya."
   ]
  },
  {
   "cell_type": "code",
   "execution_count": 44,
   "id": "73fbc6ab",
   "metadata": {
    "scrolled": true
   },
   "outputs": [
    {
     "name": "stdout",
     "output_type": "stream",
     "text": [
      "              precision    recall  f1-score   support\n",
      "\n",
      "          no       0.90      0.95      0.93      7982\n",
      "         yes       0.38      0.23      0.28      1061\n",
      "\n",
      "    accuracy                           0.87      9043\n",
      "   macro avg       0.64      0.59      0.60      9043\n",
      "weighted avg       0.84      0.87      0.85      9043\n",
      "\n",
      "\n",
      "Confusion Matrix of model :\n",
      " [[7590  392]\n",
      " [ 822  239]]\n"
     ]
    }
   ],
   "source": [
    "# predict data feature\n",
    "y_pred = model_KNN.predict(X_test)\n",
    "\n",
    "# menampilkan classification report dan confusion matrix dari model KNN\n",
    "print(classification_report(y_test, y_pred))\n",
    "\n",
    "print('\\nConfusion Matrix of model :\\n',confusion_matrix(y_test, y_pred))"
   ]
  },
  {
   "cell_type": "markdown",
   "id": "0b1d83da",
   "metadata": {},
   "source": [
    "Dari classification report dan confusion matrix yang ditampilkan, kita dapat mengetahui bahwa model bekerja dengan cukup baik dalam melakukan prediksi. Namun jika dilihat dari confusion matrixnya, model masih lebih banyak melakukan kesalahan dalam menebak data yes ditandai FP yang lebih tinggi daripada TP. Kemudian dilakukan fit model dan predict menggunakan data feature yang telah di encode."
   ]
  },
  {
   "cell_type": "code",
   "execution_count": 61,
   "id": "7db0ca43",
   "metadata": {},
   "outputs": [],
   "source": [
    "# Split data\n",
    "X_train, X_test, y_train, y_test = train_test_split(X_enc, y, test_size=0.2, random_state=2024)"
   ]
  },
  {
   "cell_type": "markdown",
   "id": "0a06c5ca",
   "metadata": {},
   "source": [
    "Dilakukan splitting data dari data sebelumnya dengan ukuran 20% data awal untuk testing set dan selebihnya untuk training set."
   ]
  },
  {
   "cell_type": "code",
   "execution_count": 45,
   "id": "83dff15a",
   "metadata": {
    "scrolled": true
   },
   "outputs": [
    {
     "name": "stdout",
     "output_type": "stream",
     "text": [
      "              precision    recall  f1-score   support\n",
      "\n",
      "          no       0.90      0.95      0.93      7982\n",
      "         yes       0.38      0.23      0.28      1061\n",
      "\n",
      "    accuracy                           0.87      9043\n",
      "   macro avg       0.64      0.59      0.60      9043\n",
      "weighted avg       0.84      0.87      0.85      9043\n",
      "\n",
      "\n",
      "Confusion Matrix of model :\n",
      " [[7590  392]\n",
      " [ 822  239]]\n"
     ]
    }
   ],
   "source": [
    "# fit model menggunakan data features X_enc\n",
    "model_KNN.fit(X_train,y_train)\n",
    "\n",
    "# predict data feature\n",
    "y_pred = model_KNN.predict(X_test)\n",
    "\n",
    "# menampilkan classification report dan confusion matrix dari model KNN\n",
    "print(classification_report(y_test, y_pred))\n",
    "print('\\nConfusion Matrix of model :\\n',confusion_matrix(y_test, y_pred))"
   ]
  },
  {
   "cell_type": "markdown",
   "id": "fbb08e75",
   "metadata": {},
   "source": [
    "Penggunaan feature yang telah ditambahkan beberapa atribut lain dan dilakukan encoding(untuk fitting model dan predict) menunjukkan hasil yang cukup bagus juga dalam melakukan prediksi, hasil yang ditampilkan sama seperti dengan saat digunakan data tanpa penambahan variabel yang telah diencoding. Yang ini berarti model harus diimprove agar bisa menaikkan angka TP dan menurunkan FP."
   ]
  },
  {
   "cell_type": "markdown",
   "id": "b455c15d",
   "metadata": {},
   "source": [
    "#### Support Vector Machine"
   ]
  },
  {
   "cell_type": "code",
   "execution_count": 2,
   "id": "a9fde9ca",
   "metadata": {},
   "outputs": [],
   "source": [
    "# import library\n",
    "from sklearn.svm import SVC"
   ]
  },
  {
   "cell_type": "markdown",
   "id": "e62ebbac",
   "metadata": {},
   "source": [
    "dilakukan import library agar dapat digunakan fungsi-fungsi yang diperlukan."
   ]
  },
  {
   "cell_type": "code",
   "execution_count": 3,
   "id": "ac4ea360",
   "metadata": {},
   "outputs": [],
   "source": [
    "# read dataset\n",
    "df_svc = pd.read_csv('dataset/bank.csv')"
   ]
  },
  {
   "cell_type": "markdown",
   "id": "9216017b",
   "metadata": {},
   "source": [
    "dilakukan read data dari file csv yang kemudian disimpan dalam variabel baru. untuk SVM digunakan data baru yang mana ukurannya lebih kecil daripada bank-full.csv. Hal ini dilakukan karena SVM bekerja lebih baik untuk data yang berukuran tidak terlalu besar."
   ]
  },
  {
   "cell_type": "code",
   "execution_count": 4,
   "id": "416173bf",
   "metadata": {
    "scrolled": true
   },
   "outputs": [
    {
     "data": {
      "text/html": [
       "<div>\n",
       "<style scoped>\n",
       "    .dataframe tbody tr th:only-of-type {\n",
       "        vertical-align: middle;\n",
       "    }\n",
       "\n",
       "    .dataframe tbody tr th {\n",
       "        vertical-align: top;\n",
       "    }\n",
       "\n",
       "    .dataframe thead th {\n",
       "        text-align: right;\n",
       "    }\n",
       "</style>\n",
       "<table border=\"1\" class=\"dataframe\">\n",
       "  <thead>\n",
       "    <tr style=\"text-align: right;\">\n",
       "      <th></th>\n",
       "      <th>age</th>\n",
       "      <th>job</th>\n",
       "      <th>marital</th>\n",
       "      <th>education</th>\n",
       "      <th>default</th>\n",
       "      <th>balance</th>\n",
       "      <th>housing</th>\n",
       "      <th>loan</th>\n",
       "      <th>contact</th>\n",
       "      <th>day</th>\n",
       "      <th>month</th>\n",
       "      <th>duration</th>\n",
       "      <th>campaign</th>\n",
       "      <th>pdays</th>\n",
       "      <th>previous</th>\n",
       "      <th>poutcome</th>\n",
       "      <th>y</th>\n",
       "    </tr>\n",
       "  </thead>\n",
       "  <tbody>\n",
       "    <tr>\n",
       "      <th>0</th>\n",
       "      <td>30</td>\n",
       "      <td>unemployed</td>\n",
       "      <td>married</td>\n",
       "      <td>primary</td>\n",
       "      <td>no</td>\n",
       "      <td>1787</td>\n",
       "      <td>no</td>\n",
       "      <td>no</td>\n",
       "      <td>cellular</td>\n",
       "      <td>19</td>\n",
       "      <td>oct</td>\n",
       "      <td>79</td>\n",
       "      <td>1</td>\n",
       "      <td>-1</td>\n",
       "      <td>0</td>\n",
       "      <td>unknown</td>\n",
       "      <td>no</td>\n",
       "    </tr>\n",
       "    <tr>\n",
       "      <th>1</th>\n",
       "      <td>33</td>\n",
       "      <td>services</td>\n",
       "      <td>married</td>\n",
       "      <td>secondary</td>\n",
       "      <td>no</td>\n",
       "      <td>4789</td>\n",
       "      <td>yes</td>\n",
       "      <td>yes</td>\n",
       "      <td>cellular</td>\n",
       "      <td>11</td>\n",
       "      <td>may</td>\n",
       "      <td>220</td>\n",
       "      <td>1</td>\n",
       "      <td>339</td>\n",
       "      <td>4</td>\n",
       "      <td>failure</td>\n",
       "      <td>no</td>\n",
       "    </tr>\n",
       "    <tr>\n",
       "      <th>2</th>\n",
       "      <td>35</td>\n",
       "      <td>management</td>\n",
       "      <td>single</td>\n",
       "      <td>tertiary</td>\n",
       "      <td>no</td>\n",
       "      <td>1350</td>\n",
       "      <td>yes</td>\n",
       "      <td>no</td>\n",
       "      <td>cellular</td>\n",
       "      <td>16</td>\n",
       "      <td>apr</td>\n",
       "      <td>185</td>\n",
       "      <td>1</td>\n",
       "      <td>330</td>\n",
       "      <td>1</td>\n",
       "      <td>failure</td>\n",
       "      <td>no</td>\n",
       "    </tr>\n",
       "    <tr>\n",
       "      <th>3</th>\n",
       "      <td>30</td>\n",
       "      <td>management</td>\n",
       "      <td>married</td>\n",
       "      <td>tertiary</td>\n",
       "      <td>no</td>\n",
       "      <td>1476</td>\n",
       "      <td>yes</td>\n",
       "      <td>yes</td>\n",
       "      <td>unknown</td>\n",
       "      <td>3</td>\n",
       "      <td>jun</td>\n",
       "      <td>199</td>\n",
       "      <td>4</td>\n",
       "      <td>-1</td>\n",
       "      <td>0</td>\n",
       "      <td>unknown</td>\n",
       "      <td>no</td>\n",
       "    </tr>\n",
       "    <tr>\n",
       "      <th>4</th>\n",
       "      <td>59</td>\n",
       "      <td>blue-collar</td>\n",
       "      <td>married</td>\n",
       "      <td>secondary</td>\n",
       "      <td>no</td>\n",
       "      <td>0</td>\n",
       "      <td>yes</td>\n",
       "      <td>no</td>\n",
       "      <td>unknown</td>\n",
       "      <td>5</td>\n",
       "      <td>may</td>\n",
       "      <td>226</td>\n",
       "      <td>1</td>\n",
       "      <td>-1</td>\n",
       "      <td>0</td>\n",
       "      <td>unknown</td>\n",
       "      <td>no</td>\n",
       "    </tr>\n",
       "  </tbody>\n",
       "</table>\n",
       "</div>"
      ],
      "text/plain": [
       "   age          job  marital  education default  balance housing loan  \\\n",
       "0   30   unemployed  married    primary      no     1787      no   no   \n",
       "1   33     services  married  secondary      no     4789     yes  yes   \n",
       "2   35   management   single   tertiary      no     1350     yes   no   \n",
       "3   30   management  married   tertiary      no     1476     yes  yes   \n",
       "4   59  blue-collar  married  secondary      no        0     yes   no   \n",
       "\n",
       "    contact  day month  duration  campaign  pdays  previous poutcome   y  \n",
       "0  cellular   19   oct        79         1     -1         0  unknown  no  \n",
       "1  cellular   11   may       220         1    339         4  failure  no  \n",
       "2  cellular   16   apr       185         1    330         1  failure  no  \n",
       "3   unknown    3   jun       199         4     -1         0  unknown  no  \n",
       "4   unknown    5   may       226         1     -1         0  unknown  no  "
      ]
     },
     "execution_count": 4,
     "metadata": {},
     "output_type": "execute_result"
    }
   ],
   "source": [
    "# menampilkan data teratas\n",
    "df_svc.head()"
   ]
  },
  {
   "cell_type": "markdown",
   "id": "0e3e114e",
   "metadata": {},
   "source": [
    "code head() digunakan untuk menampilkan 5 data teratas, bisa untuk melihat value data secara sekilas."
   ]
  },
  {
   "cell_type": "code",
   "execution_count": 5,
   "id": "ec126e27",
   "metadata": {},
   "outputs": [],
   "source": [
    "# membuat variabel untuk feature dan label\n",
    "X = df_svc[['age', 'balance', 'duration']]\n",
    "y = df_svc['y']"
   ]
  },
  {
   "cell_type": "markdown",
   "id": "954c6e84",
   "metadata": {},
   "source": [
    "dari data baru yang lebih sedikit tersebut, dipilih kolom age, balance dan duration kemudian diassign ke variabel X yang mana variabel tersebut menyimpan data features. Kemudian diakses kolom y kemudian diassign ke variabel y yang mana variabel tersebut menyimpan target variabel yang berisikan label atau class dari data."
   ]
  },
  {
   "cell_type": "code",
   "execution_count": 9,
   "id": "63e4ed6f",
   "metadata": {},
   "outputs": [],
   "source": [
    "# Split data\n",
    "X_train, X_test, y_train, y_test = train_test_split(X, y, test_size=0.2, random_state=2024)"
   ]
  },
  {
   "cell_type": "markdown",
   "id": "a98e6254",
   "metadata": {},
   "source": [
    "Dilakukan splitting data dari data sebelumnya dengan ukuran 20% data awal untuk testing set dan selebihnya untuk training set."
   ]
  },
  {
   "cell_type": "code",
   "execution_count": 10,
   "id": "fc585f9a",
   "metadata": {
    "collapsed": true
   },
   "outputs": [
    {
     "name": "stdout",
     "output_type": "stream",
     "text": [
      "train set score :  0.8680862831858407\n",
      "test set score :  0.8607734806629834\n"
     ]
    }
   ],
   "source": [
    "# bangun model\n",
    "model_svc = SVC(kernel='linear')\n",
    "\n",
    "# fitting model\n",
    "model_svc.fit(X_train, y_train)"
   ]
  },
  {
   "cell_type": "markdown",
   "id": "1af50d13",
   "metadata": {},
   "source": [
    "Dibangun model SVM kemudian difit menggunakan data training agar model bisa belajar untuk melakukan prediksi nantinya."
   ]
  },
  {
   "cell_type": "code",
   "execution_count": 12,
   "id": "61e84e24",
   "metadata": {},
   "outputs": [
    {
     "name": "stdout",
     "output_type": "stream",
     "text": [
      "train set score :  0.8680862831858407\n",
      "test set score :  0.8607734806629834\n"
     ]
    }
   ],
   "source": [
    "# menampilkan score model serta mengecek overfitting\n",
    "print('train set score : ', model_svc.score(X_train, y_train))\n",
    "print('test set score : ', model_svc.score(X_test, y_test))"
   ]
  },
  {
   "cell_type": "markdown",
   "id": "6c062272",
   "metadata": {},
   "source": [
    "Angka score menunjukkan bahwa model SVM ini cukup baik dalam melakukan prediksi baik untuk data training maupun data testing. Selisih antara score model menggunakan train set dan test set pun tidak terlalu besar sehingga dapat disimpulkan model tidak mengalami overfitting."
   ]
  },
  {
   "cell_type": "code",
   "execution_count": 13,
   "id": "82d699a0",
   "metadata": {},
   "outputs": [
    {
     "name": "stdout",
     "output_type": "stream",
     "text": [
      "\n",
      "Confusion Matrix of model :\n",
      " [[762  37]\n",
      " [ 89  17]]\n"
     ]
    }
   ],
   "source": [
    "# predict data\n",
    "y_pred = model_svc.predict(X_test)\n",
    "\n",
    "# menampilkan confusion matrix\n",
    "print('\\nConfusion Matrix of model :\\n',confusion_matrix(y_test, y_pred))"
   ]
  },
  {
   "cell_type": "markdown",
   "id": "8b08f0b0",
   "metadata": {},
   "source": [
    "Jika dilihat dari confusion matrix tersebut, bisa kita ketahui bahwa model dapat menebak 762 data dengan label 'no' (true negative), false negative 89, false positive 37 data dan 17 data dengan label 'yes'(true positive). Namun untuk label yes, model lebih banyak melakukan kesalahan prediksi pada data sehingga diperlukan improve pada model."
   ]
  },
  {
   "cell_type": "markdown",
   "id": "b44f50aa",
   "metadata": {},
   "source": [
    "#### Decision Tree"
   ]
  },
  {
   "cell_type": "code",
   "execution_count": 124,
   "id": "75bc013d",
   "metadata": {},
   "outputs": [],
   "source": [
    "# import library\n",
    "from sklearn.tree import DecisionTreeClassifier"
   ]
  },
  {
   "cell_type": "markdown",
   "id": "090050b5",
   "metadata": {},
   "source": [
    "dilakukan import library agar dapat digunakan fungsi-fungsi yang diperlukan."
   ]
  },
  {
   "cell_type": "code",
   "execution_count": 125,
   "id": "3bca3922",
   "metadata": {
    "scrolled": true
   },
   "outputs": [
    {
     "data": {
      "text/html": [
       "<div>\n",
       "<style scoped>\n",
       "    .dataframe tbody tr th:only-of-type {\n",
       "        vertical-align: middle;\n",
       "    }\n",
       "\n",
       "    .dataframe tbody tr th {\n",
       "        vertical-align: top;\n",
       "    }\n",
       "\n",
       "    .dataframe thead th {\n",
       "        text-align: right;\n",
       "    }\n",
       "</style>\n",
       "<table border=\"1\" class=\"dataframe\">\n",
       "  <thead>\n",
       "    <tr style=\"text-align: right;\">\n",
       "      <th></th>\n",
       "      <th>age</th>\n",
       "      <th>balance</th>\n",
       "      <th>duration</th>\n",
       "    </tr>\n",
       "  </thead>\n",
       "  <tbody>\n",
       "    <tr>\n",
       "      <th>0</th>\n",
       "      <td>58</td>\n",
       "      <td>2143</td>\n",
       "      <td>261</td>\n",
       "    </tr>\n",
       "    <tr>\n",
       "      <th>1</th>\n",
       "      <td>44</td>\n",
       "      <td>29</td>\n",
       "      <td>151</td>\n",
       "    </tr>\n",
       "    <tr>\n",
       "      <th>2</th>\n",
       "      <td>33</td>\n",
       "      <td>2</td>\n",
       "      <td>76</td>\n",
       "    </tr>\n",
       "    <tr>\n",
       "      <th>3</th>\n",
       "      <td>47</td>\n",
       "      <td>1506</td>\n",
       "      <td>92</td>\n",
       "    </tr>\n",
       "    <tr>\n",
       "      <th>4</th>\n",
       "      <td>33</td>\n",
       "      <td>1</td>\n",
       "      <td>198</td>\n",
       "    </tr>\n",
       "  </tbody>\n",
       "</table>\n",
       "</div>"
      ],
      "text/plain": [
       "   age  balance  duration\n",
       "0   58     2143       261\n",
       "1   44       29       151\n",
       "2   33        2        76\n",
       "3   47     1506        92\n",
       "4   33        1       198"
      ]
     },
     "execution_count": 125,
     "metadata": {},
     "output_type": "execute_result"
    }
   ],
   "source": [
    "# menampilkan 5 data teratas dari features\n",
    "X.head()"
   ]
  },
  {
   "cell_type": "markdown",
   "id": "36dded5d",
   "metadata": {},
   "source": [
    "code head() digunakan untuk menampilkan 5 data teratas, bisa untuk melihat value data secara sekilas."
   ]
  },
  {
   "cell_type": "code",
   "execution_count": 126,
   "id": "0ed19437",
   "metadata": {
    "scrolled": true
   },
   "outputs": [
    {
     "data": {
      "text/plain": [
       "0    no\n",
       "1    no\n",
       "2    no\n",
       "3    no\n",
       "4    no\n",
       "Name: y, dtype: object"
      ]
     },
     "execution_count": 126,
     "metadata": {},
     "output_type": "execute_result"
    }
   ],
   "source": [
    "# menampilkan 5 data teratas dari target variable\n",
    "y.head()"
   ]
  },
  {
   "cell_type": "markdown",
   "id": "618f3fb3",
   "metadata": {},
   "source": [
    "code head() digunakan untuk menampilkan 5 data teratas, bisa untuk melihat value data secara sekilas."
   ]
  },
  {
   "cell_type": "code",
   "execution_count": 138,
   "id": "63066688",
   "metadata": {},
   "outputs": [],
   "source": [
    "# split data\n",
    "X_train, X_test, y_train, y_test = train_test_split(X, y, test_size=0.2, random_state=2024)"
   ]
  },
  {
   "cell_type": "markdown",
   "id": "b108a92c",
   "metadata": {},
   "source": [
    "Dilakukan splitting data dari data sebelumnya dengan ukuran 20% data awal untuk testing set dan selebihnya untuk training set."
   ]
  },
  {
   "cell_type": "code",
   "execution_count": 139,
   "id": "d1b977c9",
   "metadata": {},
   "outputs": [
    {
     "name": "stdout",
     "output_type": "stream",
     "text": [
      "train set score :  0.9993640787436407\n",
      "test set score :  0.8305871945150946\n"
     ]
    }
   ],
   "source": [
    "# bangun model\n",
    "model_dtc = DecisionTreeClassifier()\n",
    "\n",
    "# fitting model\n",
    "model_dtc.fit(X_train, y_train)\n",
    "\n",
    "# menampilkan score model serta mengecek overfitting\n",
    "print('train set score : ', model_dtc.score(X_train, y_train))\n",
    "print('test set score : ', model_dtc.score(X_test, y_test))"
   ]
  },
  {
   "cell_type": "markdown",
   "id": "aa80abed",
   "metadata": {},
   "source": [
    "DecisionTreeClassifier() digunakan untuk membangun model decision tree, lalu dilakukan fitting model dengan diberikan data training agar model bisa mempelajari data untuk membuat prediksi nantinya. Score model menunjukkan angka yang baik yang menandakan model bisa menebak dengan cukup baik. Namun, jika dilihat dari perbandingan score model antara menggunakan data training dan data testing, dapat ditemukan bahwa telah terjadi overfitting pada model."
   ]
  },
  {
   "cell_type": "code",
   "execution_count": 140,
   "id": "4bbc7fe2",
   "metadata": {
    "scrolled": true
   },
   "outputs": [
    {
     "name": "stdout",
     "output_type": "stream",
     "text": [
      "\n",
      "Confusion Matrix of model :\n",
      " [[7188  794]\n",
      " [ 738  323]]\n"
     ]
    }
   ],
   "source": [
    "# predict data\n",
    "y_pred = model_dtc.predict(X_test)\n",
    "\n",
    "# menampilkan confusion matrix\n",
    "print('\\nConfusion Matrix of model :\\n',confusion_matrix(y_test, y_pred))"
   ]
  },
  {
   "cell_type": "markdown",
   "id": "c738230b",
   "metadata": {},
   "source": [
    "Jika dilihat dari confusion matrix tersebut, bisa kita ketahui bahwa model dapat menebak 7188 data dengan label 'no' (true negative), false negative 738, false positive 794 data dan 323 data dengan label 'yes'(true positive). Namun untuk label yes, model lebih banyak melakukan kesalahan prediksi pada data sehingga diperlukan improve pada model."
   ]
  },
  {
   "cell_type": "markdown",
   "id": "3d940238",
   "metadata": {},
   "source": [
    "#### Random Forest"
   ]
  },
  {
   "cell_type": "code",
   "execution_count": 109,
   "id": "e331d752",
   "metadata": {},
   "outputs": [],
   "source": [
    "# import library\n",
    "from sklearn.ensemble import RandomForestClassifier"
   ]
  },
  {
   "cell_type": "markdown",
   "id": "a56cff27",
   "metadata": {},
   "source": [
    "dilakukan import library agar dapat digunakan fungsi-fungsi yang diperlukan."
   ]
  },
  {
   "cell_type": "code",
   "execution_count": 119,
   "id": "1fb9e122",
   "metadata": {},
   "outputs": [],
   "source": [
    "# split data\n",
    "X_train, X_test, y_train, y_test = train_test_split(X, y, test_size=0.2, random_state=2024)"
   ]
  },
  {
   "cell_type": "markdown",
   "id": "156b7c11",
   "metadata": {},
   "source": [
    "Dilakukan splitting data dari data sebelumnya dengan ukuran 20% data awal untuk testing set dan selebihnya untuk training set."
   ]
  },
  {
   "cell_type": "code",
   "execution_count": 120,
   "id": "bfdd7ad0",
   "metadata": {
    "scrolled": true
   },
   "outputs": [
    {
     "data": {
      "text/html": [
       "<div>\n",
       "<style scoped>\n",
       "    .dataframe tbody tr th:only-of-type {\n",
       "        vertical-align: middle;\n",
       "    }\n",
       "\n",
       "    .dataframe tbody tr th {\n",
       "        vertical-align: top;\n",
       "    }\n",
       "\n",
       "    .dataframe thead th {\n",
       "        text-align: right;\n",
       "    }\n",
       "</style>\n",
       "<table border=\"1\" class=\"dataframe\">\n",
       "  <thead>\n",
       "    <tr style=\"text-align: right;\">\n",
       "      <th></th>\n",
       "      <th>age</th>\n",
       "      <th>balance</th>\n",
       "      <th>duration</th>\n",
       "    </tr>\n",
       "  </thead>\n",
       "  <tbody>\n",
       "    <tr>\n",
       "      <th>45184</th>\n",
       "      <td>63</td>\n",
       "      <td>1495</td>\n",
       "      <td>138</td>\n",
       "    </tr>\n",
       "    <tr>\n",
       "      <th>24617</th>\n",
       "      <td>49</td>\n",
       "      <td>1058</td>\n",
       "      <td>291</td>\n",
       "    </tr>\n",
       "    <tr>\n",
       "      <th>2250</th>\n",
       "      <td>57</td>\n",
       "      <td>73</td>\n",
       "      <td>41</td>\n",
       "    </tr>\n",
       "    <tr>\n",
       "      <th>34742</th>\n",
       "      <td>35</td>\n",
       "      <td>5417</td>\n",
       "      <td>303</td>\n",
       "    </tr>\n",
       "    <tr>\n",
       "      <th>10474</th>\n",
       "      <td>37</td>\n",
       "      <td>1</td>\n",
       "      <td>103</td>\n",
       "    </tr>\n",
       "  </tbody>\n",
       "</table>\n",
       "</div>"
      ],
      "text/plain": [
       "       age  balance  duration\n",
       "45184   63     1495       138\n",
       "24617   49     1058       291\n",
       "2250    57       73        41\n",
       "34742   35     5417       303\n",
       "10474   37        1       103"
      ]
     },
     "execution_count": 120,
     "metadata": {},
     "output_type": "execute_result"
    }
   ],
   "source": [
    "X_train.head()"
   ]
  },
  {
   "cell_type": "markdown",
   "id": "1b17650b",
   "metadata": {},
   "source": [
    "code head() digunakan untuk menampilkan 5 data teratas, bisa untuk melihat value data secara sekilas."
   ]
  },
  {
   "cell_type": "code",
   "execution_count": 121,
   "id": "9c4e95e9",
   "metadata": {},
   "outputs": [
    {
     "name": "stdout",
     "output_type": "stream",
     "text": [
      "train set score :  0.9993640787436407\n",
      "test set score :  0.8821187658962734\n"
     ]
    }
   ],
   "source": [
    "# build model\n",
    "model_rfc = RandomForestClassifier(n_estimators=100)\n",
    "\n",
    "# fitting model\n",
    "model_rfc.fit(X_train, y_train)\n",
    "\n",
    "# menampilkan score model serta mengecek overfitting\n",
    "print('train set score : ', model_rfc.score(X_train, y_train))\n",
    "print('test set score : ', model_rfc.score(X_test, y_test))"
   ]
  },
  {
   "cell_type": "markdown",
   "id": "d51d9092",
   "metadata": {},
   "source": [
    "Dibangun model random forest dengan estimator 100. Dilakukan fitting model dengan diberikan data training agar model bisa mempelajari data untuk membuat prediksi nantinya. Jika dilihat dari score tersebut, model sudah cukup bagus dalam melakukan prediksi label untuk data feature X namun bisa dilihat bahwa terjadi sedikit overfitting pada model."
   ]
  },
  {
   "cell_type": "code",
   "execution_count": 122,
   "id": "7903f8e0",
   "metadata": {},
   "outputs": [
    {
     "name": "stdout",
     "output_type": "stream",
     "text": [
      "\n",
      "Confusion Matrix of model :\n",
      " [[7722  260]\n",
      " [ 806  255]]\n"
     ]
    }
   ],
   "source": [
    "# predict data\n",
    "y_pred = model_rfc.predict(X_test)\n",
    "\n",
    "# menampilkan confusion matrix\n",
    "print('\\nConfusion Matrix of model :\\n',confusion_matrix(y_test, y_pred))"
   ]
  },
  {
   "cell_type": "markdown",
   "id": "eaf2a4b0",
   "metadata": {},
   "source": [
    "Jika dilihat dari confusion matrix tersebut, bisa kita ketahui bahwa model dapat menebak 7729 data dengan label 'no' (true negative), false negative 803, false positive 253 data dan 258 data dengan label 'yes'(true positive). Namun untuk label yes, model lebih banyak melakukan kesalahan prediksi pada data sehingga diperlukan improve pada model."
   ]
  },
  {
   "cell_type": "markdown",
   "id": "bf050200",
   "metadata": {},
   "source": [
    "#### Naive Bayes"
   ]
  },
  {
   "cell_type": "code",
   "execution_count": 58,
   "id": "c5d0f236",
   "metadata": {},
   "outputs": [],
   "source": [
    "# import library\n",
    "from sklearn.naive_bayes import GaussianNB\n",
    "\n",
    "# bangun model\n",
    "model_NB = GaussianNB()"
   ]
  },
  {
   "cell_type": "markdown",
   "id": "91123e08",
   "metadata": {},
   "source": [
    "dilakukan import library agar dapat digunakan fungsi-fungsi yang diperlukan. Kemudian dibangun model untuk algoritma Naive Bayes"
   ]
  },
  {
   "cell_type": "code",
   "execution_count": 92,
   "id": "9a9f3a9c",
   "metadata": {},
   "outputs": [],
   "source": [
    "# splitting data menggunakan data pertama (X)\n",
    "X_train, X_test, y_train, y_test = train_test_split(X, y, test_size=0.3, random_state=2024)"
   ]
  },
  {
   "cell_type": "markdown",
   "id": "18e010f8",
   "metadata": {},
   "source": [
    "Dilakukan splitting data dari data sebelumnya dengan ukuran 30% data awal untuk testing set dan selebihnya untuk training set."
   ]
  },
  {
   "cell_type": "code",
   "execution_count": 93,
   "id": "f8f1f519",
   "metadata": {},
   "outputs": [],
   "source": [
    "# fitting model\n",
    "model_NB.fit(X_train, y_train)\n",
    "\n",
    "# predict data\n",
    "y_pred_train = model_NB.predict(X_train)\n",
    "y_pred_test = model_NB.predict(X_test)"
   ]
  },
  {
   "cell_type": "markdown",
   "id": "137fc1e8",
   "metadata": {},
   "source": [
    "Dilakukan fitting model dengan diberikan data training agar model bisa mempelajari data untuk membuat prediksi nantinya. Kemudian dilakukan predict data."
   ]
  },
  {
   "cell_type": "code",
   "execution_count": 94,
   "id": "6d21c490",
   "metadata": {
    "scrolled": true
   },
   "outputs": [
    {
     "name": "stdout",
     "output_type": "stream",
     "text": [
      "train set score :  0.8814421588144216\n",
      "test set score :  0.8794603361840165\n"
     ]
    }
   ],
   "source": [
    "# menampilkan score model serta mengecek overfitting\n",
    "print('train set score : ', model_NB.score(X_train, y_train))\n",
    "print('test set score : ', model_NB.score(X_test, y_test))"
   ]
  },
  {
   "cell_type": "markdown",
   "id": "41039d0b",
   "metadata": {},
   "source": [
    "Jika dilihat dari score tersebut, model sudah cukup bagus dalam melakukan prediksi label untuk data feature X dan model tidak menunjukkan tanda overfitting."
   ]
  },
  {
   "cell_type": "code",
   "execution_count": 95,
   "id": "809adaa4",
   "metadata": {},
   "outputs": [
    {
     "name": "stdout",
     "output_type": "stream",
     "text": [
      "\n",
      "Confusion Matrix of model :\n",
      " [[11480   477]\n",
      " [ 1158   449]]\n"
     ]
    }
   ],
   "source": [
    "# menampilkan confusion matrix\n",
    "print('\\nConfusion Matrix of model :\\n',confusion_matrix(y_test, y_pred_test))"
   ]
  },
  {
   "cell_type": "markdown",
   "id": "ab8bdd8e",
   "metadata": {},
   "source": [
    "Jika dilihat dari confusion matrix tersebut, bisa kita ketahui bahwa model dapat menebak 11480 data dengan lebal 'no' (true negative) dan 449 data dengan label 'yes'(true positive). Namun untuk label yes, model lebih banyak melakukan kesalahan prediksi pada data sehingga diperlukan improve pada model."
   ]
  },
  {
   "cell_type": "markdown",
   "id": "7ba24c00",
   "metadata": {},
   "source": [
    "### Kesimpulan"
   ]
  },
  {
   "cell_type": "markdown",
   "id": "59501155",
   "metadata": {},
   "source": [
    "Saya memilih algoritma logistic regression sebagai algoritma yang paling baik untuk membangun model yang bisa memprediksi diterima atau tidaknya penawaran produk bank(bank term deposit). Alasan pertama karena angka score yang dihasilkan merupakan angka score tertinggi dibandingkan keseluruhan model. Selain itu, jika dilihat dari confusion matrixnya, hanya algoritma ini yang menghasilkan True Positive lebih besar daripada False Negative (meskipun selisihnya sangat kecil). Jika ditinjau dari datanya pun, algoritma ini sangat cocok digunakan untuk data kategorik dengan class binary dan untuk mengolah data berjumlah besar, algoritma ini pun dapat berjalan dengan cepat. Algoritma regression juga sangat baik dalam mengolah variabel independen (features) untuk melakukan prediksi variabel dependennya (label)."
   ]
  }
 ],
 "metadata": {
  "kernelspec": {
   "display_name": "Python 3 (ipykernel)",
   "language": "python",
   "name": "python3"
  },
  "language_info": {
   "codemirror_mode": {
    "name": "ipython",
    "version": 3
   },
   "file_extension": ".py",
   "mimetype": "text/x-python",
   "name": "python",
   "nbconvert_exporter": "python",
   "pygments_lexer": "ipython3",
   "version": "3.9.12"
  }
 },
 "nbformat": 4,
 "nbformat_minor": 5
}
