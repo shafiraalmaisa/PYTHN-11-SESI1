{
 "cells": [
  {
   "cell_type": "code",
   "execution_count": 1,
   "id": "e25529dc",
   "metadata": {},
   "outputs": [],
   "source": [
    "# import library\n",
    "import pandas as pd\n",
    "import numpy as np\n",
    "import matplotlib.pyplot as plt"
   ]
  },
  {
   "cell_type": "markdown",
   "id": "4c10caf1",
   "metadata": {},
   "source": [
    "Dilakukan import library agar bisa digunakan fungsi yang diperlukan nantinya."
   ]
  },
  {
   "cell_type": "code",
   "execution_count": 2,
   "id": "97b382ab",
   "metadata": {},
   "outputs": [
    {
     "data": {
      "text/html": [
       "<div>\n",
       "<style scoped>\n",
       "    .dataframe tbody tr th:only-of-type {\n",
       "        vertical-align: middle;\n",
       "    }\n",
       "\n",
       "    .dataframe tbody tr th {\n",
       "        vertical-align: top;\n",
       "    }\n",
       "\n",
       "    .dataframe thead th {\n",
       "        text-align: right;\n",
       "    }\n",
       "</style>\n",
       "<table border=\"1\" class=\"dataframe\">\n",
       "  <thead>\n",
       "    <tr style=\"text-align: right;\">\n",
       "      <th></th>\n",
       "      <th>Unnamed: 0</th>\n",
       "      <th>BOROUGH</th>\n",
       "      <th>NEIGHBORHOOD</th>\n",
       "      <th>BUILDING CLASS CATEGORY</th>\n",
       "      <th>TAX CLASS AT PRESENT</th>\n",
       "      <th>BLOCK</th>\n",
       "      <th>LOT</th>\n",
       "      <th>EASE-MENT</th>\n",
       "      <th>BUILDING CLASS AT PRESENT</th>\n",
       "      <th>ADDRESS</th>\n",
       "      <th>...</th>\n",
       "      <th>RESIDENTIAL UNITS</th>\n",
       "      <th>COMMERCIAL UNITS</th>\n",
       "      <th>TOTAL UNITS</th>\n",
       "      <th>LAND SQUARE FEET</th>\n",
       "      <th>GROSS SQUARE FEET</th>\n",
       "      <th>YEAR BUILT</th>\n",
       "      <th>TAX CLASS AT TIME OF SALE</th>\n",
       "      <th>BUILDING CLASS AT TIME OF SALE</th>\n",
       "      <th>SALE PRICE</th>\n",
       "      <th>SALE DATE</th>\n",
       "    </tr>\n",
       "  </thead>\n",
       "  <tbody>\n",
       "    <tr>\n",
       "      <th>0</th>\n",
       "      <td>4</td>\n",
       "      <td>1</td>\n",
       "      <td>ALPHABET CITY</td>\n",
       "      <td>07 RENTALS - WALKUP APARTMENTS</td>\n",
       "      <td>2A</td>\n",
       "      <td>392</td>\n",
       "      <td>6</td>\n",
       "      <td></td>\n",
       "      <td>C2</td>\n",
       "      <td>153 AVENUE B</td>\n",
       "      <td>...</td>\n",
       "      <td>5</td>\n",
       "      <td>0</td>\n",
       "      <td>5</td>\n",
       "      <td>1633</td>\n",
       "      <td>6440</td>\n",
       "      <td>1900</td>\n",
       "      <td>2</td>\n",
       "      <td>C2</td>\n",
       "      <td>6625000</td>\n",
       "      <td>2017-07-19 00:00:00</td>\n",
       "    </tr>\n",
       "    <tr>\n",
       "      <th>1</th>\n",
       "      <td>5</td>\n",
       "      <td>1</td>\n",
       "      <td>ALPHABET CITY</td>\n",
       "      <td>07 RENTALS - WALKUP APARTMENTS</td>\n",
       "      <td>2</td>\n",
       "      <td>399</td>\n",
       "      <td>26</td>\n",
       "      <td></td>\n",
       "      <td>C7</td>\n",
       "      <td>234 EAST 4TH   STREET</td>\n",
       "      <td>...</td>\n",
       "      <td>28</td>\n",
       "      <td>3</td>\n",
       "      <td>31</td>\n",
       "      <td>4616</td>\n",
       "      <td>18690</td>\n",
       "      <td>1900</td>\n",
       "      <td>2</td>\n",
       "      <td>C7</td>\n",
       "      <td>-</td>\n",
       "      <td>2016-12-14 00:00:00</td>\n",
       "    </tr>\n",
       "    <tr>\n",
       "      <th>2</th>\n",
       "      <td>6</td>\n",
       "      <td>1</td>\n",
       "      <td>ALPHABET CITY</td>\n",
       "      <td>07 RENTALS - WALKUP APARTMENTS</td>\n",
       "      <td>2</td>\n",
       "      <td>399</td>\n",
       "      <td>39</td>\n",
       "      <td></td>\n",
       "      <td>C7</td>\n",
       "      <td>197 EAST 3RD   STREET</td>\n",
       "      <td>...</td>\n",
       "      <td>16</td>\n",
       "      <td>1</td>\n",
       "      <td>17</td>\n",
       "      <td>2212</td>\n",
       "      <td>7803</td>\n",
       "      <td>1900</td>\n",
       "      <td>2</td>\n",
       "      <td>C7</td>\n",
       "      <td>-</td>\n",
       "      <td>2016-12-09 00:00:00</td>\n",
       "    </tr>\n",
       "    <tr>\n",
       "      <th>3</th>\n",
       "      <td>7</td>\n",
       "      <td>1</td>\n",
       "      <td>ALPHABET CITY</td>\n",
       "      <td>07 RENTALS - WALKUP APARTMENTS</td>\n",
       "      <td>2B</td>\n",
       "      <td>402</td>\n",
       "      <td>21</td>\n",
       "      <td></td>\n",
       "      <td>C4</td>\n",
       "      <td>154 EAST 7TH STREET</td>\n",
       "      <td>...</td>\n",
       "      <td>10</td>\n",
       "      <td>0</td>\n",
       "      <td>10</td>\n",
       "      <td>2272</td>\n",
       "      <td>6794</td>\n",
       "      <td>1913</td>\n",
       "      <td>2</td>\n",
       "      <td>C4</td>\n",
       "      <td>3936272</td>\n",
       "      <td>2016-09-23 00:00:00</td>\n",
       "    </tr>\n",
       "    <tr>\n",
       "      <th>4</th>\n",
       "      <td>8</td>\n",
       "      <td>1</td>\n",
       "      <td>ALPHABET CITY</td>\n",
       "      <td>07 RENTALS - WALKUP APARTMENTS</td>\n",
       "      <td>2A</td>\n",
       "      <td>404</td>\n",
       "      <td>55</td>\n",
       "      <td></td>\n",
       "      <td>C2</td>\n",
       "      <td>301 EAST 10TH   STREET</td>\n",
       "      <td>...</td>\n",
       "      <td>6</td>\n",
       "      <td>0</td>\n",
       "      <td>6</td>\n",
       "      <td>2369</td>\n",
       "      <td>4615</td>\n",
       "      <td>1900</td>\n",
       "      <td>2</td>\n",
       "      <td>C2</td>\n",
       "      <td>8000000</td>\n",
       "      <td>2016-11-17 00:00:00</td>\n",
       "    </tr>\n",
       "  </tbody>\n",
       "</table>\n",
       "<p>5 rows × 22 columns</p>\n",
       "</div>"
      ],
      "text/plain": [
       "   Unnamed: 0  BOROUGH   NEIGHBORHOOD  \\\n",
       "0           4        1  ALPHABET CITY   \n",
       "1           5        1  ALPHABET CITY   \n",
       "2           6        1  ALPHABET CITY   \n",
       "3           7        1  ALPHABET CITY   \n",
       "4           8        1  ALPHABET CITY   \n",
       "\n",
       "                       BUILDING CLASS CATEGORY TAX CLASS AT PRESENT  BLOCK  \\\n",
       "0  07 RENTALS - WALKUP APARTMENTS                                2A    392   \n",
       "1  07 RENTALS - WALKUP APARTMENTS                                 2    399   \n",
       "2  07 RENTALS - WALKUP APARTMENTS                                 2    399   \n",
       "3  07 RENTALS - WALKUP APARTMENTS                                2B    402   \n",
       "4  07 RENTALS - WALKUP APARTMENTS                                2A    404   \n",
       "\n",
       "   LOT EASE-MENT BUILDING CLASS AT PRESENT                 ADDRESS  ...  \\\n",
       "0    6                                  C2            153 AVENUE B  ...   \n",
       "1   26                                  C7   234 EAST 4TH   STREET  ...   \n",
       "2   39                                  C7   197 EAST 3RD   STREET  ...   \n",
       "3   21                                  C4     154 EAST 7TH STREET  ...   \n",
       "4   55                                  C2  301 EAST 10TH   STREET  ...   \n",
       "\n",
       "  RESIDENTIAL UNITS  COMMERCIAL UNITS  TOTAL UNITS  LAND SQUARE FEET  \\\n",
       "0                 5                 0            5              1633   \n",
       "1                28                 3           31              4616   \n",
       "2                16                 1           17              2212   \n",
       "3                10                 0           10              2272   \n",
       "4                 6                 0            6              2369   \n",
       "\n",
       "   GROSS SQUARE FEET YEAR BUILT TAX CLASS AT TIME OF SALE  \\\n",
       "0               6440       1900                         2   \n",
       "1              18690       1900                         2   \n",
       "2               7803       1900                         2   \n",
       "3               6794       1913                         2   \n",
       "4               4615       1900                         2   \n",
       "\n",
       "   BUILDING CLASS AT TIME OF SALE  SALE PRICE            SALE DATE  \n",
       "0                              C2     6625000  2017-07-19 00:00:00  \n",
       "1                              C7         -    2016-12-14 00:00:00  \n",
       "2                              C7         -    2016-12-09 00:00:00  \n",
       "3                              C4     3936272  2016-09-23 00:00:00  \n",
       "4                              C2     8000000  2016-11-17 00:00:00  \n",
       "\n",
       "[5 rows x 22 columns]"
      ]
     },
     "execution_count": 2,
     "metadata": {},
     "output_type": "execute_result"
    }
   ],
   "source": [
    "# read data\n",
    "df = pd.read_csv('dataset/nyc-rolling-sales.csv')\n",
    "df.head()"
   ]
  },
  {
   "cell_type": "markdown",
   "id": "eb25ac37",
   "metadata": {},
   "source": [
    "Dilakukan read data yang kemudian diassign ke variabel df. Lalu, ditampilkan data teratas untuk melihat data secara sekilas."
   ]
  },
  {
   "cell_type": "code",
   "execution_count": 3,
   "id": "058ce1ed",
   "metadata": {},
   "outputs": [
    {
     "data": {
      "text/plain": [
       "Unnamed: 0                        0\n",
       "BOROUGH                           0\n",
       "NEIGHBORHOOD                      0\n",
       "BUILDING CLASS CATEGORY           0\n",
       "TAX CLASS AT PRESENT              0\n",
       "BLOCK                             0\n",
       "LOT                               0\n",
       "EASE-MENT                         0\n",
       "BUILDING CLASS AT PRESENT         0\n",
       "ADDRESS                           0\n",
       "APARTMENT NUMBER                  0\n",
       "ZIP CODE                          0\n",
       "RESIDENTIAL UNITS                 0\n",
       "COMMERCIAL UNITS                  0\n",
       "TOTAL UNITS                       0\n",
       "LAND SQUARE FEET                  0\n",
       "GROSS SQUARE FEET                 0\n",
       "YEAR BUILT                        0\n",
       "TAX CLASS AT TIME OF SALE         0\n",
       "BUILDING CLASS AT TIME OF SALE    0\n",
       "SALE PRICE                        0\n",
       "SALE DATE                         0\n",
       "dtype: int64"
      ]
     },
     "execution_count": 3,
     "metadata": {},
     "output_type": "execute_result"
    }
   ],
   "source": [
    "# cek nilai null\n",
    "df.isna().sum()"
   ]
  },
  {
   "cell_type": "markdown",
   "id": "33440299",
   "metadata": {},
   "source": [
    "Setelah dicek menggunakan isna() pun tidak ditemukan adanya data null."
   ]
  },
  {
   "cell_type": "code",
   "execution_count": 4,
   "id": "053bdc26",
   "metadata": {},
   "outputs": [],
   "source": [
    "# drop kolom Unnamed: 0\n",
    "df.drop('Unnamed: 0', axis=1, inplace=True)"
   ]
  },
  {
   "cell_type": "markdown",
   "id": "b49076c5",
   "metadata": {},
   "source": [
    "dihapus kolom Unnamed: 0 karena dianggap kolom tersebut tidak diperlukan."
   ]
  },
  {
   "cell_type": "code",
   "execution_count": 5,
   "id": "e0438456",
   "metadata": {},
   "outputs": [
    {
     "name": "stdout",
     "output_type": "stream",
     "text": [
      "<class 'pandas.core.frame.DataFrame'>\n",
      "RangeIndex: 84548 entries, 0 to 84547\n",
      "Data columns (total 21 columns):\n",
      " #   Column                          Non-Null Count  Dtype \n",
      "---  ------                          --------------  ----- \n",
      " 0   BOROUGH                         84548 non-null  int64 \n",
      " 1   NEIGHBORHOOD                    84548 non-null  object\n",
      " 2   BUILDING CLASS CATEGORY         84548 non-null  object\n",
      " 3   TAX CLASS AT PRESENT            84548 non-null  object\n",
      " 4   BLOCK                           84548 non-null  int64 \n",
      " 5   LOT                             84548 non-null  int64 \n",
      " 6   EASE-MENT                       84548 non-null  object\n",
      " 7   BUILDING CLASS AT PRESENT       84548 non-null  object\n",
      " 8   ADDRESS                         84548 non-null  object\n",
      " 9   APARTMENT NUMBER                84548 non-null  object\n",
      " 10  ZIP CODE                        84548 non-null  int64 \n",
      " 11  RESIDENTIAL UNITS               84548 non-null  int64 \n",
      " 12  COMMERCIAL UNITS                84548 non-null  int64 \n",
      " 13  TOTAL UNITS                     84548 non-null  int64 \n",
      " 14  LAND SQUARE FEET                84548 non-null  object\n",
      " 15  GROSS SQUARE FEET               84548 non-null  object\n",
      " 16  YEAR BUILT                      84548 non-null  int64 \n",
      " 17  TAX CLASS AT TIME OF SALE       84548 non-null  int64 \n",
      " 18  BUILDING CLASS AT TIME OF SALE  84548 non-null  object\n",
      " 19  SALE PRICE                      84548 non-null  object\n",
      " 20  SALE DATE                       84548 non-null  object\n",
      "dtypes: int64(9), object(12)\n",
      "memory usage: 13.5+ MB\n"
     ]
    }
   ],
   "source": [
    "# melihat informasi dataset\n",
    "df.info()"
   ]
  },
  {
   "cell_type": "markdown",
   "id": "37e2b886",
   "metadata": {},
   "source": [
    "dilihat informasi data yaitu nama kolom, ada atau tidaknya null dan tipe data dari masing-masing kolom."
   ]
  },
  {
   "cell_type": "code",
   "execution_count": 6,
   "id": "02bf2b37",
   "metadata": {
    "scrolled": true
   },
   "outputs": [
    {
     "data": {
      "text/html": [
       "<div>\n",
       "<style scoped>\n",
       "    .dataframe tbody tr th:only-of-type {\n",
       "        vertical-align: middle;\n",
       "    }\n",
       "\n",
       "    .dataframe tbody tr th {\n",
       "        vertical-align: top;\n",
       "    }\n",
       "\n",
       "    .dataframe thead th {\n",
       "        text-align: right;\n",
       "    }\n",
       "</style>\n",
       "<table border=\"1\" class=\"dataframe\">\n",
       "  <thead>\n",
       "    <tr style=\"text-align: right;\">\n",
       "      <th></th>\n",
       "      <th>BOROUGH</th>\n",
       "      <th>NEIGHBORHOOD</th>\n",
       "      <th>BUILDING CLASS CATEGORY</th>\n",
       "      <th>TAX CLASS AT PRESENT</th>\n",
       "      <th>BLOCK</th>\n",
       "      <th>LOT</th>\n",
       "      <th>EASE-MENT</th>\n",
       "      <th>BUILDING CLASS AT PRESENT</th>\n",
       "      <th>ADDRESS</th>\n",
       "      <th>APARTMENT NUMBER</th>\n",
       "      <th>...</th>\n",
       "      <th>RESIDENTIAL UNITS</th>\n",
       "      <th>COMMERCIAL UNITS</th>\n",
       "      <th>TOTAL UNITS</th>\n",
       "      <th>LAND SQUARE FEET</th>\n",
       "      <th>GROSS SQUARE FEET</th>\n",
       "      <th>YEAR BUILT</th>\n",
       "      <th>TAX CLASS AT TIME OF SALE</th>\n",
       "      <th>BUILDING CLASS AT TIME OF SALE</th>\n",
       "      <th>SALE PRICE</th>\n",
       "      <th>SALE DATE</th>\n",
       "    </tr>\n",
       "  </thead>\n",
       "  <tbody>\n",
       "    <tr>\n",
       "      <th>0</th>\n",
       "      <td>1</td>\n",
       "      <td>ALPHABET CITY</td>\n",
       "      <td>07 RENTALS - WALKUP APARTMENTS</td>\n",
       "      <td>2A</td>\n",
       "      <td>392</td>\n",
       "      <td>6</td>\n",
       "      <td></td>\n",
       "      <td>C2</td>\n",
       "      <td>153 AVENUE B</td>\n",
       "      <td></td>\n",
       "      <td>...</td>\n",
       "      <td>5</td>\n",
       "      <td>0</td>\n",
       "      <td>5</td>\n",
       "      <td>1633</td>\n",
       "      <td>6440</td>\n",
       "      <td>1900</td>\n",
       "      <td>2</td>\n",
       "      <td>C2</td>\n",
       "      <td>6625000</td>\n",
       "      <td>2017-07-19 00:00:00</td>\n",
       "    </tr>\n",
       "    <tr>\n",
       "      <th>1</th>\n",
       "      <td>1</td>\n",
       "      <td>ALPHABET CITY</td>\n",
       "      <td>07 RENTALS - WALKUP APARTMENTS</td>\n",
       "      <td>2</td>\n",
       "      <td>399</td>\n",
       "      <td>26</td>\n",
       "      <td></td>\n",
       "      <td>C7</td>\n",
       "      <td>234 EAST 4TH   STREET</td>\n",
       "      <td></td>\n",
       "      <td>...</td>\n",
       "      <td>28</td>\n",
       "      <td>3</td>\n",
       "      <td>31</td>\n",
       "      <td>4616</td>\n",
       "      <td>18690</td>\n",
       "      <td>1900</td>\n",
       "      <td>2</td>\n",
       "      <td>C7</td>\n",
       "      <td>-</td>\n",
       "      <td>2016-12-14 00:00:00</td>\n",
       "    </tr>\n",
       "    <tr>\n",
       "      <th>2</th>\n",
       "      <td>1</td>\n",
       "      <td>ALPHABET CITY</td>\n",
       "      <td>07 RENTALS - WALKUP APARTMENTS</td>\n",
       "      <td>2</td>\n",
       "      <td>399</td>\n",
       "      <td>39</td>\n",
       "      <td></td>\n",
       "      <td>C7</td>\n",
       "      <td>197 EAST 3RD   STREET</td>\n",
       "      <td></td>\n",
       "      <td>...</td>\n",
       "      <td>16</td>\n",
       "      <td>1</td>\n",
       "      <td>17</td>\n",
       "      <td>2212</td>\n",
       "      <td>7803</td>\n",
       "      <td>1900</td>\n",
       "      <td>2</td>\n",
       "      <td>C7</td>\n",
       "      <td>-</td>\n",
       "      <td>2016-12-09 00:00:00</td>\n",
       "    </tr>\n",
       "    <tr>\n",
       "      <th>3</th>\n",
       "      <td>1</td>\n",
       "      <td>ALPHABET CITY</td>\n",
       "      <td>07 RENTALS - WALKUP APARTMENTS</td>\n",
       "      <td>2B</td>\n",
       "      <td>402</td>\n",
       "      <td>21</td>\n",
       "      <td></td>\n",
       "      <td>C4</td>\n",
       "      <td>154 EAST 7TH STREET</td>\n",
       "      <td></td>\n",
       "      <td>...</td>\n",
       "      <td>10</td>\n",
       "      <td>0</td>\n",
       "      <td>10</td>\n",
       "      <td>2272</td>\n",
       "      <td>6794</td>\n",
       "      <td>1913</td>\n",
       "      <td>2</td>\n",
       "      <td>C4</td>\n",
       "      <td>3936272</td>\n",
       "      <td>2016-09-23 00:00:00</td>\n",
       "    </tr>\n",
       "    <tr>\n",
       "      <th>4</th>\n",
       "      <td>1</td>\n",
       "      <td>ALPHABET CITY</td>\n",
       "      <td>07 RENTALS - WALKUP APARTMENTS</td>\n",
       "      <td>2A</td>\n",
       "      <td>404</td>\n",
       "      <td>55</td>\n",
       "      <td></td>\n",
       "      <td>C2</td>\n",
       "      <td>301 EAST 10TH   STREET</td>\n",
       "      <td></td>\n",
       "      <td>...</td>\n",
       "      <td>6</td>\n",
       "      <td>0</td>\n",
       "      <td>6</td>\n",
       "      <td>2369</td>\n",
       "      <td>4615</td>\n",
       "      <td>1900</td>\n",
       "      <td>2</td>\n",
       "      <td>C2</td>\n",
       "      <td>8000000</td>\n",
       "      <td>2016-11-17 00:00:00</td>\n",
       "    </tr>\n",
       "  </tbody>\n",
       "</table>\n",
       "<p>5 rows × 21 columns</p>\n",
       "</div>"
      ],
      "text/plain": [
       "   BOROUGH   NEIGHBORHOOD                      BUILDING CLASS CATEGORY  \\\n",
       "0        1  ALPHABET CITY  07 RENTALS - WALKUP APARTMENTS                \n",
       "1        1  ALPHABET CITY  07 RENTALS - WALKUP APARTMENTS                \n",
       "2        1  ALPHABET CITY  07 RENTALS - WALKUP APARTMENTS                \n",
       "3        1  ALPHABET CITY  07 RENTALS - WALKUP APARTMENTS                \n",
       "4        1  ALPHABET CITY  07 RENTALS - WALKUP APARTMENTS                \n",
       "\n",
       "  TAX CLASS AT PRESENT  BLOCK  LOT EASE-MENT BUILDING CLASS AT PRESENT  \\\n",
       "0                   2A    392    6                                  C2   \n",
       "1                    2    399   26                                  C7   \n",
       "2                    2    399   39                                  C7   \n",
       "3                   2B    402   21                                  C4   \n",
       "4                   2A    404   55                                  C2   \n",
       "\n",
       "                  ADDRESS APARTMENT NUMBER  ...  RESIDENTIAL UNITS  \\\n",
       "0            153 AVENUE B                   ...                  5   \n",
       "1   234 EAST 4TH   STREET                   ...                 28   \n",
       "2   197 EAST 3RD   STREET                   ...                 16   \n",
       "3     154 EAST 7TH STREET                   ...                 10   \n",
       "4  301 EAST 10TH   STREET                   ...                  6   \n",
       "\n",
       "   COMMERCIAL UNITS  TOTAL UNITS  LAND SQUARE FEET GROSS SQUARE FEET  \\\n",
       "0                 0            5              1633              6440   \n",
       "1                 3           31              4616             18690   \n",
       "2                 1           17              2212              7803   \n",
       "3                 0           10              2272              6794   \n",
       "4                 0            6              2369              4615   \n",
       "\n",
       "  YEAR BUILT  TAX CLASS AT TIME OF SALE  BUILDING CLASS AT TIME OF SALE  \\\n",
       "0       1900                          2                              C2   \n",
       "1       1900                          2                              C7   \n",
       "2       1900                          2                              C7   \n",
       "3       1913                          2                              C4   \n",
       "4       1900                          2                              C2   \n",
       "\n",
       "  SALE PRICE            SALE DATE  \n",
       "0    6625000  2017-07-19 00:00:00  \n",
       "1        -    2016-12-14 00:00:00  \n",
       "2        -    2016-12-09 00:00:00  \n",
       "3    3936272  2016-09-23 00:00:00  \n",
       "4    8000000  2016-11-17 00:00:00  \n",
       "\n",
       "[5 rows x 21 columns]"
      ]
     },
     "execution_count": 6,
     "metadata": {},
     "output_type": "execute_result"
    }
   ],
   "source": [
    "df.head()"
   ]
  },
  {
   "cell_type": "markdown",
   "id": "8a734ec7",
   "metadata": {},
   "source": [
    "Ditampilkan data teratas untuk melihat data secara sekilas"
   ]
  },
  {
   "cell_type": "code",
   "execution_count": 7,
   "id": "ecbcb3e9",
   "metadata": {},
   "outputs": [
    {
     "data": {
      "text/html": [
       "<div>\n",
       "<style scoped>\n",
       "    .dataframe tbody tr th:only-of-type {\n",
       "        vertical-align: middle;\n",
       "    }\n",
       "\n",
       "    .dataframe tbody tr th {\n",
       "        vertical-align: top;\n",
       "    }\n",
       "\n",
       "    .dataframe thead th {\n",
       "        text-align: right;\n",
       "    }\n",
       "</style>\n",
       "<table border=\"1\" class=\"dataframe\">\n",
       "  <thead>\n",
       "    <tr style=\"text-align: right;\">\n",
       "      <th></th>\n",
       "      <th>BOROUGH</th>\n",
       "      <th>YEAR BUILT</th>\n",
       "      <th>TAX CLASS AT TIME OF SALE</th>\n",
       "      <th>SALE PRICE</th>\n",
       "    </tr>\n",
       "  </thead>\n",
       "  <tbody>\n",
       "    <tr>\n",
       "      <th>0</th>\n",
       "      <td>1</td>\n",
       "      <td>1900</td>\n",
       "      <td>2</td>\n",
       "      <td>6625000</td>\n",
       "    </tr>\n",
       "    <tr>\n",
       "      <th>1</th>\n",
       "      <td>1</td>\n",
       "      <td>1900</td>\n",
       "      <td>2</td>\n",
       "      <td>-</td>\n",
       "    </tr>\n",
       "    <tr>\n",
       "      <th>2</th>\n",
       "      <td>1</td>\n",
       "      <td>1900</td>\n",
       "      <td>2</td>\n",
       "      <td>-</td>\n",
       "    </tr>\n",
       "    <tr>\n",
       "      <th>3</th>\n",
       "      <td>1</td>\n",
       "      <td>1913</td>\n",
       "      <td>2</td>\n",
       "      <td>3936272</td>\n",
       "    </tr>\n",
       "    <tr>\n",
       "      <th>4</th>\n",
       "      <td>1</td>\n",
       "      <td>1900</td>\n",
       "      <td>2</td>\n",
       "      <td>8000000</td>\n",
       "    </tr>\n",
       "  </tbody>\n",
       "</table>\n",
       "</div>"
      ],
      "text/plain": [
       "   BOROUGH  YEAR BUILT  TAX CLASS AT TIME OF SALE SALE PRICE\n",
       "0        1        1900                          2    6625000\n",
       "1        1        1900                          2        -  \n",
       "2        1        1900                          2        -  \n",
       "3        1        1913                          2    3936272\n",
       "4        1        1900                          2    8000000"
      ]
     },
     "execution_count": 7,
     "metadata": {},
     "output_type": "execute_result"
    }
   ],
   "source": [
    "# assign data numerik ke variabel baru\n",
    "df_nyc = df[['BOROUGH','YEAR BUILT', 'TAX CLASS AT TIME OF SALE', 'SALE PRICE']]\n",
    "df_nyc.head()"
   ]
  },
  {
   "cell_type": "markdown",
   "id": "d26d0ade",
   "metadata": {},
   "source": [
    "diassign 4 kolom yaitu borough, year built, tax class at time of sale dan sale price ke dalam variabel baru yang mana akan digunakan selama proses. Kemudian ditampilkan data teratasnya."
   ]
  },
  {
   "cell_type": "code",
   "execution_count": 8,
   "id": "f79ea404",
   "metadata": {},
   "outputs": [
    {
     "data": {
      "text/html": [
       "<div>\n",
       "<style scoped>\n",
       "    .dataframe tbody tr th:only-of-type {\n",
       "        vertical-align: middle;\n",
       "    }\n",
       "\n",
       "    .dataframe tbody tr th {\n",
       "        vertical-align: top;\n",
       "    }\n",
       "\n",
       "    .dataframe thead th {\n",
       "        text-align: right;\n",
       "    }\n",
       "</style>\n",
       "<table border=\"1\" class=\"dataframe\">\n",
       "  <thead>\n",
       "    <tr style=\"text-align: right;\">\n",
       "      <th></th>\n",
       "      <th>BOROUGH</th>\n",
       "      <th>YEAR BUILT</th>\n",
       "      <th>TAX CLASS AT TIME OF SALE</th>\n",
       "      <th>SALE PRICE</th>\n",
       "    </tr>\n",
       "  </thead>\n",
       "  <tbody>\n",
       "    <tr>\n",
       "      <th>0</th>\n",
       "      <td>1</td>\n",
       "      <td>1900</td>\n",
       "      <td>2</td>\n",
       "      <td>6625000</td>\n",
       "    </tr>\n",
       "    <tr>\n",
       "      <th>1</th>\n",
       "      <td>1</td>\n",
       "      <td>1900</td>\n",
       "      <td>2</td>\n",
       "      <td>-</td>\n",
       "    </tr>\n",
       "    <tr>\n",
       "      <th>2</th>\n",
       "      <td>1</td>\n",
       "      <td>1900</td>\n",
       "      <td>2</td>\n",
       "      <td>-</td>\n",
       "    </tr>\n",
       "    <tr>\n",
       "      <th>3</th>\n",
       "      <td>1</td>\n",
       "      <td>1913</td>\n",
       "      <td>2</td>\n",
       "      <td>3936272</td>\n",
       "    </tr>\n",
       "    <tr>\n",
       "      <th>4</th>\n",
       "      <td>1</td>\n",
       "      <td>1900</td>\n",
       "      <td>2</td>\n",
       "      <td>8000000</td>\n",
       "    </tr>\n",
       "    <tr>\n",
       "      <th>...</th>\n",
       "      <td>...</td>\n",
       "      <td>...</td>\n",
       "      <td>...</td>\n",
       "      <td>...</td>\n",
       "    </tr>\n",
       "    <tr>\n",
       "      <th>84543</th>\n",
       "      <td>5</td>\n",
       "      <td>1998</td>\n",
       "      <td>1</td>\n",
       "      <td>450000</td>\n",
       "    </tr>\n",
       "    <tr>\n",
       "      <th>84544</th>\n",
       "      <td>5</td>\n",
       "      <td>1998</td>\n",
       "      <td>1</td>\n",
       "      <td>550000</td>\n",
       "    </tr>\n",
       "    <tr>\n",
       "      <th>84545</th>\n",
       "      <td>5</td>\n",
       "      <td>1925</td>\n",
       "      <td>1</td>\n",
       "      <td>460000</td>\n",
       "    </tr>\n",
       "    <tr>\n",
       "      <th>84546</th>\n",
       "      <td>5</td>\n",
       "      <td>2001</td>\n",
       "      <td>4</td>\n",
       "      <td>11693337</td>\n",
       "    </tr>\n",
       "    <tr>\n",
       "      <th>84547</th>\n",
       "      <td>5</td>\n",
       "      <td>2006</td>\n",
       "      <td>4</td>\n",
       "      <td>69300</td>\n",
       "    </tr>\n",
       "  </tbody>\n",
       "</table>\n",
       "<p>84548 rows × 4 columns</p>\n",
       "</div>"
      ],
      "text/plain": [
       "       BOROUGH  YEAR BUILT  TAX CLASS AT TIME OF SALE SALE PRICE\n",
       "0            1        1900                          2    6625000\n",
       "1            1        1900                          2        -  \n",
       "2            1        1900                          2        -  \n",
       "3            1        1913                          2    3936272\n",
       "4            1        1900                          2    8000000\n",
       "...        ...         ...                        ...        ...\n",
       "84543        5        1998                          1     450000\n",
       "84544        5        1998                          1     550000\n",
       "84545        5        1925                          1     460000\n",
       "84546        5        2001                          4   11693337\n",
       "84547        5        2006                          4      69300\n",
       "\n",
       "[84548 rows x 4 columns]"
      ]
     },
     "execution_count": 8,
     "metadata": {},
     "output_type": "execute_result"
    }
   ],
   "source": [
    "# mencari value error pada kolom BOROUGH\n",
    "cnt = 0 \n",
    "for row in df_nyc['BOROUGH']:\n",
    "    try:\n",
    "        float(row)\n",
    "        pass\n",
    "    except ValueError:\n",
    "        df_nyc.loc[cnt, 'BOROUGH'] = np.nan\n",
    "    cnt += 1\n",
    "\n",
    "df_nyc"
   ]
  },
  {
   "cell_type": "markdown",
   "id": "729d0aec",
   "metadata": {},
   "source": [
    "Kode di atas untuk mengecek data/value error pada kolom BOROUGH, yang mana jika ditemukan value error(data tidak sesuai) akan diganti dengan nilai null."
   ]
  },
  {
   "cell_type": "code",
   "execution_count": 9,
   "id": "c974069f",
   "metadata": {},
   "outputs": [
    {
     "data": {
      "text/html": [
       "<div>\n",
       "<style scoped>\n",
       "    .dataframe tbody tr th:only-of-type {\n",
       "        vertical-align: middle;\n",
       "    }\n",
       "\n",
       "    .dataframe tbody tr th {\n",
       "        vertical-align: top;\n",
       "    }\n",
       "\n",
       "    .dataframe thead th {\n",
       "        text-align: right;\n",
       "    }\n",
       "</style>\n",
       "<table border=\"1\" class=\"dataframe\">\n",
       "  <thead>\n",
       "    <tr style=\"text-align: right;\">\n",
       "      <th></th>\n",
       "      <th>BOROUGH</th>\n",
       "      <th>YEAR BUILT</th>\n",
       "      <th>TAX CLASS AT TIME OF SALE</th>\n",
       "      <th>SALE PRICE</th>\n",
       "    </tr>\n",
       "  </thead>\n",
       "  <tbody>\n",
       "    <tr>\n",
       "      <th>0</th>\n",
       "      <td>1</td>\n",
       "      <td>1900</td>\n",
       "      <td>2</td>\n",
       "      <td>6625000</td>\n",
       "    </tr>\n",
       "    <tr>\n",
       "      <th>1</th>\n",
       "      <td>1</td>\n",
       "      <td>1900</td>\n",
       "      <td>2</td>\n",
       "      <td>-</td>\n",
       "    </tr>\n",
       "    <tr>\n",
       "      <th>2</th>\n",
       "      <td>1</td>\n",
       "      <td>1900</td>\n",
       "      <td>2</td>\n",
       "      <td>-</td>\n",
       "    </tr>\n",
       "    <tr>\n",
       "      <th>3</th>\n",
       "      <td>1</td>\n",
       "      <td>1913</td>\n",
       "      <td>2</td>\n",
       "      <td>3936272</td>\n",
       "    </tr>\n",
       "    <tr>\n",
       "      <th>4</th>\n",
       "      <td>1</td>\n",
       "      <td>1900</td>\n",
       "      <td>2</td>\n",
       "      <td>8000000</td>\n",
       "    </tr>\n",
       "    <tr>\n",
       "      <th>...</th>\n",
       "      <td>...</td>\n",
       "      <td>...</td>\n",
       "      <td>...</td>\n",
       "      <td>...</td>\n",
       "    </tr>\n",
       "    <tr>\n",
       "      <th>84543</th>\n",
       "      <td>5</td>\n",
       "      <td>1998</td>\n",
       "      <td>1</td>\n",
       "      <td>450000</td>\n",
       "    </tr>\n",
       "    <tr>\n",
       "      <th>84544</th>\n",
       "      <td>5</td>\n",
       "      <td>1998</td>\n",
       "      <td>1</td>\n",
       "      <td>550000</td>\n",
       "    </tr>\n",
       "    <tr>\n",
       "      <th>84545</th>\n",
       "      <td>5</td>\n",
       "      <td>1925</td>\n",
       "      <td>1</td>\n",
       "      <td>460000</td>\n",
       "    </tr>\n",
       "    <tr>\n",
       "      <th>84546</th>\n",
       "      <td>5</td>\n",
       "      <td>2001</td>\n",
       "      <td>4</td>\n",
       "      <td>11693337</td>\n",
       "    </tr>\n",
       "    <tr>\n",
       "      <th>84547</th>\n",
       "      <td>5</td>\n",
       "      <td>2006</td>\n",
       "      <td>4</td>\n",
       "      <td>69300</td>\n",
       "    </tr>\n",
       "  </tbody>\n",
       "</table>\n",
       "<p>84548 rows × 4 columns</p>\n",
       "</div>"
      ],
      "text/plain": [
       "       BOROUGH  YEAR BUILT  TAX CLASS AT TIME OF SALE SALE PRICE\n",
       "0            1        1900                          2    6625000\n",
       "1            1        1900                          2        -  \n",
       "2            1        1900                          2        -  \n",
       "3            1        1913                          2    3936272\n",
       "4            1        1900                          2    8000000\n",
       "...        ...         ...                        ...        ...\n",
       "84543        5        1998                          1     450000\n",
       "84544        5        1998                          1     550000\n",
       "84545        5        1925                          1     460000\n",
       "84546        5        2001                          4   11693337\n",
       "84547        5        2006                          4      69300\n",
       "\n",
       "[84548 rows x 4 columns]"
      ]
     },
     "execution_count": 9,
     "metadata": {},
     "output_type": "execute_result"
    }
   ],
   "source": [
    "# mencari value error pada kolom YEAR BUILT\n",
    "cnt = 0 \n",
    "for row in df_nyc['YEAR BUILT']:\n",
    "    try:\n",
    "        float(row)\n",
    "        pass\n",
    "    except ValueError:\n",
    "        df_nyc.loc[cnt, 'YEAR BUILT'] = np.nan\n",
    "    cnt += 1\n",
    "\n",
    "df_nyc"
   ]
  },
  {
   "cell_type": "markdown",
   "id": "f45c3b2b",
   "metadata": {},
   "source": [
    "Kode di atas untuk mengecek data/value error pada kolom YEAR BUILT, yang mana jika ditemukan value error(data tidak sesuai) akan diganti dengan nilai null."
   ]
  },
  {
   "cell_type": "code",
   "execution_count": 10,
   "id": "c1d12d5b",
   "metadata": {
    "scrolled": true
   },
   "outputs": [
    {
     "data": {
      "text/html": [
       "<div>\n",
       "<style scoped>\n",
       "    .dataframe tbody tr th:only-of-type {\n",
       "        vertical-align: middle;\n",
       "    }\n",
       "\n",
       "    .dataframe tbody tr th {\n",
       "        vertical-align: top;\n",
       "    }\n",
       "\n",
       "    .dataframe thead th {\n",
       "        text-align: right;\n",
       "    }\n",
       "</style>\n",
       "<table border=\"1\" class=\"dataframe\">\n",
       "  <thead>\n",
       "    <tr style=\"text-align: right;\">\n",
       "      <th></th>\n",
       "      <th>BOROUGH</th>\n",
       "      <th>YEAR BUILT</th>\n",
       "      <th>TAX CLASS AT TIME OF SALE</th>\n",
       "      <th>SALE PRICE</th>\n",
       "    </tr>\n",
       "  </thead>\n",
       "  <tbody>\n",
       "    <tr>\n",
       "      <th>0</th>\n",
       "      <td>1</td>\n",
       "      <td>1900</td>\n",
       "      <td>2</td>\n",
       "      <td>6625000</td>\n",
       "    </tr>\n",
       "    <tr>\n",
       "      <th>1</th>\n",
       "      <td>1</td>\n",
       "      <td>1900</td>\n",
       "      <td>2</td>\n",
       "      <td>-</td>\n",
       "    </tr>\n",
       "    <tr>\n",
       "      <th>2</th>\n",
       "      <td>1</td>\n",
       "      <td>1900</td>\n",
       "      <td>2</td>\n",
       "      <td>-</td>\n",
       "    </tr>\n",
       "    <tr>\n",
       "      <th>3</th>\n",
       "      <td>1</td>\n",
       "      <td>1913</td>\n",
       "      <td>2</td>\n",
       "      <td>3936272</td>\n",
       "    </tr>\n",
       "    <tr>\n",
       "      <th>4</th>\n",
       "      <td>1</td>\n",
       "      <td>1900</td>\n",
       "      <td>2</td>\n",
       "      <td>8000000</td>\n",
       "    </tr>\n",
       "    <tr>\n",
       "      <th>...</th>\n",
       "      <td>...</td>\n",
       "      <td>...</td>\n",
       "      <td>...</td>\n",
       "      <td>...</td>\n",
       "    </tr>\n",
       "    <tr>\n",
       "      <th>84543</th>\n",
       "      <td>5</td>\n",
       "      <td>1998</td>\n",
       "      <td>1</td>\n",
       "      <td>450000</td>\n",
       "    </tr>\n",
       "    <tr>\n",
       "      <th>84544</th>\n",
       "      <td>5</td>\n",
       "      <td>1998</td>\n",
       "      <td>1</td>\n",
       "      <td>550000</td>\n",
       "    </tr>\n",
       "    <tr>\n",
       "      <th>84545</th>\n",
       "      <td>5</td>\n",
       "      <td>1925</td>\n",
       "      <td>1</td>\n",
       "      <td>460000</td>\n",
       "    </tr>\n",
       "    <tr>\n",
       "      <th>84546</th>\n",
       "      <td>5</td>\n",
       "      <td>2001</td>\n",
       "      <td>4</td>\n",
       "      <td>11693337</td>\n",
       "    </tr>\n",
       "    <tr>\n",
       "      <th>84547</th>\n",
       "      <td>5</td>\n",
       "      <td>2006</td>\n",
       "      <td>4</td>\n",
       "      <td>69300</td>\n",
       "    </tr>\n",
       "  </tbody>\n",
       "</table>\n",
       "<p>84548 rows × 4 columns</p>\n",
       "</div>"
      ],
      "text/plain": [
       "       BOROUGH  YEAR BUILT  TAX CLASS AT TIME OF SALE SALE PRICE\n",
       "0            1        1900                          2    6625000\n",
       "1            1        1900                          2        -  \n",
       "2            1        1900                          2        -  \n",
       "3            1        1913                          2    3936272\n",
       "4            1        1900                          2    8000000\n",
       "...        ...         ...                        ...        ...\n",
       "84543        5        1998                          1     450000\n",
       "84544        5        1998                          1     550000\n",
       "84545        5        1925                          1     460000\n",
       "84546        5        2001                          4   11693337\n",
       "84547        5        2006                          4      69300\n",
       "\n",
       "[84548 rows x 4 columns]"
      ]
     },
     "execution_count": 10,
     "metadata": {},
     "output_type": "execute_result"
    }
   ],
   "source": [
    "# mencari value error pada kolom TAX CLASS AT TIME OF SALE\n",
    "cnt = 0 \n",
    "for row in df_nyc['TAX CLASS AT TIME OF SALE']:\n",
    "    try:\n",
    "        float(row)\n",
    "        pass\n",
    "    except ValueError:\n",
    "        df_nyc.loc[cnt, 'TAX CLASS AT TIME OF SALE'] = np.nan\n",
    "    cnt += 1\n",
    "\n",
    "df_nyc"
   ]
  },
  {
   "cell_type": "markdown",
   "id": "f3404102",
   "metadata": {},
   "source": [
    "Kode di atas untuk mengecek data/value error pada kolom TAX CLASS AT TIME OF SALE, yang mana jika ditemukan value error(data tidak sesuai) akan diganti dengan nilai null."
   ]
  },
  {
   "cell_type": "code",
   "execution_count": 11,
   "id": "1303eef5",
   "metadata": {},
   "outputs": [
    {
     "data": {
      "text/html": [
       "<div>\n",
       "<style scoped>\n",
       "    .dataframe tbody tr th:only-of-type {\n",
       "        vertical-align: middle;\n",
       "    }\n",
       "\n",
       "    .dataframe tbody tr th {\n",
       "        vertical-align: top;\n",
       "    }\n",
       "\n",
       "    .dataframe thead th {\n",
       "        text-align: right;\n",
       "    }\n",
       "</style>\n",
       "<table border=\"1\" class=\"dataframe\">\n",
       "  <thead>\n",
       "    <tr style=\"text-align: right;\">\n",
       "      <th></th>\n",
       "      <th>BOROUGH</th>\n",
       "      <th>YEAR BUILT</th>\n",
       "      <th>TAX CLASS AT TIME OF SALE</th>\n",
       "      <th>SALE PRICE</th>\n",
       "    </tr>\n",
       "  </thead>\n",
       "  <tbody>\n",
       "    <tr>\n",
       "      <th>0</th>\n",
       "      <td>1</td>\n",
       "      <td>1900</td>\n",
       "      <td>2</td>\n",
       "      <td>6625000</td>\n",
       "    </tr>\n",
       "    <tr>\n",
       "      <th>1</th>\n",
       "      <td>1</td>\n",
       "      <td>1900</td>\n",
       "      <td>2</td>\n",
       "      <td>NaN</td>\n",
       "    </tr>\n",
       "    <tr>\n",
       "      <th>2</th>\n",
       "      <td>1</td>\n",
       "      <td>1900</td>\n",
       "      <td>2</td>\n",
       "      <td>NaN</td>\n",
       "    </tr>\n",
       "    <tr>\n",
       "      <th>3</th>\n",
       "      <td>1</td>\n",
       "      <td>1913</td>\n",
       "      <td>2</td>\n",
       "      <td>3936272</td>\n",
       "    </tr>\n",
       "    <tr>\n",
       "      <th>4</th>\n",
       "      <td>1</td>\n",
       "      <td>1900</td>\n",
       "      <td>2</td>\n",
       "      <td>8000000</td>\n",
       "    </tr>\n",
       "    <tr>\n",
       "      <th>...</th>\n",
       "      <td>...</td>\n",
       "      <td>...</td>\n",
       "      <td>...</td>\n",
       "      <td>...</td>\n",
       "    </tr>\n",
       "    <tr>\n",
       "      <th>84543</th>\n",
       "      <td>5</td>\n",
       "      <td>1998</td>\n",
       "      <td>1</td>\n",
       "      <td>450000</td>\n",
       "    </tr>\n",
       "    <tr>\n",
       "      <th>84544</th>\n",
       "      <td>5</td>\n",
       "      <td>1998</td>\n",
       "      <td>1</td>\n",
       "      <td>550000</td>\n",
       "    </tr>\n",
       "    <tr>\n",
       "      <th>84545</th>\n",
       "      <td>5</td>\n",
       "      <td>1925</td>\n",
       "      <td>1</td>\n",
       "      <td>460000</td>\n",
       "    </tr>\n",
       "    <tr>\n",
       "      <th>84546</th>\n",
       "      <td>5</td>\n",
       "      <td>2001</td>\n",
       "      <td>4</td>\n",
       "      <td>11693337</td>\n",
       "    </tr>\n",
       "    <tr>\n",
       "      <th>84547</th>\n",
       "      <td>5</td>\n",
       "      <td>2006</td>\n",
       "      <td>4</td>\n",
       "      <td>69300</td>\n",
       "    </tr>\n",
       "  </tbody>\n",
       "</table>\n",
       "<p>84548 rows × 4 columns</p>\n",
       "</div>"
      ],
      "text/plain": [
       "       BOROUGH  YEAR BUILT  TAX CLASS AT TIME OF SALE SALE PRICE\n",
       "0            1        1900                          2    6625000\n",
       "1            1        1900                          2        NaN\n",
       "2            1        1900                          2        NaN\n",
       "3            1        1913                          2    3936272\n",
       "4            1        1900                          2    8000000\n",
       "...        ...         ...                        ...        ...\n",
       "84543        5        1998                          1     450000\n",
       "84544        5        1998                          1     550000\n",
       "84545        5        1925                          1     460000\n",
       "84546        5        2001                          4   11693337\n",
       "84547        5        2006                          4      69300\n",
       "\n",
       "[84548 rows x 4 columns]"
      ]
     },
     "execution_count": 11,
     "metadata": {},
     "output_type": "execute_result"
    }
   ],
   "source": [
    "# mencari value error pada kolom sale price\n",
    "cnt = 0 \n",
    "for row in df_nyc['SALE PRICE']:\n",
    "    try:\n",
    "        float(row)\n",
    "        pass\n",
    "    except ValueError:\n",
    "        df_nyc.loc[cnt, 'SALE PRICE'] = np.nan\n",
    "    cnt += 1\n",
    "\n",
    "df_nyc"
   ]
  },
  {
   "cell_type": "markdown",
   "id": "ee8d3403",
   "metadata": {},
   "source": [
    "Kode di atas untuk mengecek data/value error pada kolom SALE PRICE, yang mana jika ditemukan value error(data tidak sesuai) akan diganti dengan nilai null."
   ]
  },
  {
   "cell_type": "code",
   "execution_count": 12,
   "id": "1867ab0e",
   "metadata": {},
   "outputs": [
    {
     "data": {
      "text/plain": [
       "BOROUGH                          0\n",
       "YEAR BUILT                       0\n",
       "TAX CLASS AT TIME OF SALE        0\n",
       "SALE PRICE                   14561\n",
       "dtype: int64"
      ]
     },
     "execution_count": 12,
     "metadata": {},
     "output_type": "execute_result"
    }
   ],
   "source": [
    "# mengecek nilai null\n",
    "df_nyc.isna().sum()"
   ]
  },
  {
   "cell_type": "markdown",
   "id": "7dfd8cd2",
   "metadata": {},
   "source": [
    "Kode di atas mengecek jumlah nul dari masing-masing kolom, jadi pada SALE PRICE terdapat 14561 data null."
   ]
  },
  {
   "cell_type": "code",
   "execution_count": 13,
   "id": "7c12843f",
   "metadata": {},
   "outputs": [
    {
     "name": "stdout",
     "output_type": "stream",
     "text": [
      "<class 'pandas.core.frame.DataFrame'>\n",
      "RangeIndex: 84548 entries, 0 to 84547\n",
      "Data columns (total 4 columns):\n",
      " #   Column                     Non-Null Count  Dtype \n",
      "---  ------                     --------------  ----- \n",
      " 0   BOROUGH                    84548 non-null  int64 \n",
      " 1   YEAR BUILT                 84548 non-null  int64 \n",
      " 2   TAX CLASS AT TIME OF SALE  84548 non-null  int64 \n",
      " 3   SALE PRICE                 69987 non-null  object\n",
      "dtypes: int64(3), object(1)\n",
      "memory usage: 2.6+ MB\n"
     ]
    }
   ],
   "source": [
    "# mengecek info dataset\n",
    "df_nyc.info()"
   ]
  },
  {
   "cell_type": "markdown",
   "id": "0ce968a2",
   "metadata": {},
   "source": [
    "menggunakan info(), ingin dilihat jumlah data yang tidak null dari masing-masing kolom dengan tujuan untuk melihat seberapa jauh selisihnya antara jumlah data SALE PRICE tanpa null dengan kolom lainnya. Dikarenakan selisih yang tidak terlalu jauh jadi diputuskan untuk menghapus baris data dimana SALE PRICE nya null."
   ]
  },
  {
   "cell_type": "code",
   "execution_count": 14,
   "id": "8feb4e17",
   "metadata": {},
   "outputs": [
    {
     "name": "stderr",
     "output_type": "stream",
     "text": [
      "C:\\Users\\USER DK\\AppData\\Local\\Temp\\ipykernel_19208\\298429886.py:2: SettingWithCopyWarning: \n",
      "A value is trying to be set on a copy of a slice from a DataFrame\n",
      "\n",
      "See the caveats in the documentation: https://pandas.pydata.org/pandas-docs/stable/user_guide/indexing.html#returning-a-view-versus-a-copy\n",
      "  df_nyc.dropna(inplace=True)\n"
     ]
    },
    {
     "data": {
      "text/html": [
       "<div>\n",
       "<style scoped>\n",
       "    .dataframe tbody tr th:only-of-type {\n",
       "        vertical-align: middle;\n",
       "    }\n",
       "\n",
       "    .dataframe tbody tr th {\n",
       "        vertical-align: top;\n",
       "    }\n",
       "\n",
       "    .dataframe thead th {\n",
       "        text-align: right;\n",
       "    }\n",
       "</style>\n",
       "<table border=\"1\" class=\"dataframe\">\n",
       "  <thead>\n",
       "    <tr style=\"text-align: right;\">\n",
       "      <th></th>\n",
       "      <th>BOROUGH</th>\n",
       "      <th>YEAR BUILT</th>\n",
       "      <th>TAX CLASS AT TIME OF SALE</th>\n",
       "      <th>SALE PRICE</th>\n",
       "    </tr>\n",
       "  </thead>\n",
       "  <tbody>\n",
       "    <tr>\n",
       "      <th>0</th>\n",
       "      <td>1</td>\n",
       "      <td>1900</td>\n",
       "      <td>2</td>\n",
       "      <td>6625000</td>\n",
       "    </tr>\n",
       "    <tr>\n",
       "      <th>3</th>\n",
       "      <td>1</td>\n",
       "      <td>1913</td>\n",
       "      <td>2</td>\n",
       "      <td>3936272</td>\n",
       "    </tr>\n",
       "    <tr>\n",
       "      <th>4</th>\n",
       "      <td>1</td>\n",
       "      <td>1900</td>\n",
       "      <td>2</td>\n",
       "      <td>8000000</td>\n",
       "    </tr>\n",
       "    <tr>\n",
       "      <th>6</th>\n",
       "      <td>1</td>\n",
       "      <td>1920</td>\n",
       "      <td>2</td>\n",
       "      <td>3192840</td>\n",
       "    </tr>\n",
       "    <tr>\n",
       "      <th>9</th>\n",
       "      <td>1</td>\n",
       "      <td>1920</td>\n",
       "      <td>2</td>\n",
       "      <td>16232000</td>\n",
       "    </tr>\n",
       "  </tbody>\n",
       "</table>\n",
       "</div>"
      ],
      "text/plain": [
       "   BOROUGH  YEAR BUILT  TAX CLASS AT TIME OF SALE SALE PRICE\n",
       "0        1        1900                          2    6625000\n",
       "3        1        1913                          2    3936272\n",
       "4        1        1900                          2    8000000\n",
       "6        1        1920                          2    3192840\n",
       "9        1        1920                          2   16232000"
      ]
     },
     "execution_count": 14,
     "metadata": {},
     "output_type": "execute_result"
    }
   ],
   "source": [
    "# hapus null\n",
    "df_nyc.dropna(inplace=True)\n",
    "df_nyc.head()"
   ]
  },
  {
   "cell_type": "markdown",
   "id": "8a1ce908",
   "metadata": {},
   "source": [
    "menggunakan dropna(), dihapus seluruh baris dimana setidaknya memiliki satu nilai null pada suatu kolom."
   ]
  },
  {
   "cell_type": "code",
   "execution_count": 15,
   "id": "630db841",
   "metadata": {},
   "outputs": [
    {
     "name": "stdout",
     "output_type": "stream",
     "text": [
      "<class 'pandas.core.frame.DataFrame'>\n",
      "Int64Index: 69987 entries, 0 to 84547\n",
      "Data columns (total 4 columns):\n",
      " #   Column                     Non-Null Count  Dtype \n",
      "---  ------                     --------------  ----- \n",
      " 0   BOROUGH                    69987 non-null  int64 \n",
      " 1   YEAR BUILT                 69987 non-null  int64 \n",
      " 2   TAX CLASS AT TIME OF SALE  69987 non-null  int64 \n",
      " 3   SALE PRICE                 69987 non-null  object\n",
      "dtypes: int64(3), object(1)\n",
      "memory usage: 2.7+ MB\n"
     ]
    }
   ],
   "source": [
    "# melihat info dataset\n",
    "df_nyc.info()"
   ]
  },
  {
   "cell_type": "markdown",
   "id": "beeda212",
   "metadata": {},
   "source": [
    "Kemudian dilihat lagi informasi dari dataset tersebut. Tidak ditemukan lagi nilai null pada data."
   ]
  },
  {
   "cell_type": "code",
   "execution_count": 16,
   "id": "49df10db",
   "metadata": {},
   "outputs": [],
   "source": [
    "# import library\n",
    "import scipy.stats"
   ]
  },
  {
   "cell_type": "markdown",
   "id": "669d2a04",
   "metadata": {},
   "source": [
    "Dilakukan import module stats agar dapat digunakan beberapa fungsi yang dibutuhkan nantinya."
   ]
  },
  {
   "cell_type": "markdown",
   "id": "da484e94",
   "metadata": {},
   "source": [
    "### MEAN"
   ]
  },
  {
   "cell_type": "code",
   "execution_count": 17,
   "id": "4ab868fb",
   "metadata": {},
   "outputs": [
    {
     "data": {
      "text/plain": [
       "1799.34823610099"
      ]
     },
     "execution_count": 17,
     "metadata": {},
     "output_type": "execute_result"
    }
   ],
   "source": [
    "# menampilkan mean data\n",
    "np.mean(df_nyc['YEAR BUILT'])"
   ]
  },
  {
   "cell_type": "markdown",
   "id": "d1e1458d",
   "metadata": {},
   "source": [
    "Dilakukan perhitungan mean untuk kolom YEAR BUILT menggunakan fungsi dari library numpy yang mana ditampilkan hasil seperti yang tertera di atas. Dapat disimpulkan rata-rata properti yang dijual dibangun pada tahun 1799."
   ]
  },
  {
   "cell_type": "code",
   "execution_count": 18,
   "id": "89ff1db5",
   "metadata": {},
   "outputs": [
    {
     "data": {
      "text/plain": [
       "2.9219283581236515"
      ]
     },
     "execution_count": 18,
     "metadata": {},
     "output_type": "execute_result"
    }
   ],
   "source": [
    "# menampilkan mean data\n",
    "np.mean(df_nyc['BOROUGH'])"
   ]
  },
  {
   "cell_type": "markdown",
   "id": "144a63d2",
   "metadata": {},
   "source": [
    "Dilakukan perhitungan mean untuk kolom BOROUGH menggunakan fungsi dari library numpy yang mana ditampilkan hasil seperti yang tertera di atas. Dapat disimpulkan rata-rata properti yang dijual terletak pada kota dengan kode 3(setelah dibulatkan) yang mana angka tersebut mewakili kota Brooklyn."
   ]
  },
  {
   "cell_type": "markdown",
   "id": "6f5c4721",
   "metadata": {},
   "source": [
    "### MEDIAN"
   ]
  },
  {
   "cell_type": "code",
   "execution_count": 19,
   "id": "61b984e2",
   "metadata": {},
   "outputs": [
    {
     "data": {
      "text/plain": [
       "1937.0"
      ]
     },
     "execution_count": 19,
     "metadata": {},
     "output_type": "execute_result"
    }
   ],
   "source": [
    "# menampilkan median data\n",
    "np.median(df_nyc['YEAR BUILT'])"
   ]
  },
  {
   "cell_type": "markdown",
   "id": "e9d94173",
   "metadata": {},
   "source": [
    "Dilakukan pencarian nilai tengah atau median untuk kolom YEAR BUILT menggunakan fungsi dari library numpy yang mana ditampilkan hasil seperti yang tertera di atas. Dapat disimpulkan bahwa nilai tengah dari data pada kolom tersebut adalah 1937."
   ]
  },
  {
   "cell_type": "code",
   "execution_count": 20,
   "id": "529add6e",
   "metadata": {},
   "outputs": [
    {
     "data": {
      "text/plain": [
       "1937.0"
      ]
     },
     "execution_count": 20,
     "metadata": {},
     "output_type": "execute_result"
    }
   ],
   "source": [
    "# menampilkan median data\n",
    "df_nyc['YEAR BUILT'].median()"
   ]
  },
  {
   "cell_type": "markdown",
   "id": "ee741062",
   "metadata": {},
   "source": [
    "Dilakukan pencarian nilai tengah atau median untuk kolom YEAR BUILT. Namun kali ini dilakukan dengan menggunakan fungsi dari library pandas yang mana ditampilkan hasil seperti yang tertera di atas. Dapat disimpulkan bahwa nilai tengah dari data pada kolom tersebut adalah 1937."
   ]
  },
  {
   "cell_type": "markdown",
   "id": "c4d53313",
   "metadata": {},
   "source": [
    "### MODUS"
   ]
  },
  {
   "cell_type": "code",
   "execution_count": 21,
   "id": "36d1a52e",
   "metadata": {
    "scrolled": true
   },
   "outputs": [
    {
     "data": {
      "text/plain": [
       "ModeResult(mode=array([3], dtype=int64), count=array([24047]))"
      ]
     },
     "execution_count": 21,
     "metadata": {},
     "output_type": "execute_result"
    }
   ],
   "source": [
    "# menampilkan modus data\n",
    "scipy.stats.mode(df_nyc['BOROUGH'])"
   ]
  },
  {
   "cell_type": "markdown",
   "id": "67d26aa2",
   "metadata": {},
   "source": [
    "Modus adalah value yang paling sering muncul pada data. Dilakukan pencarian modus untuk kolom BOROUGH dengan menggunakan fungsi mode() dari library scipy tepatnya pada module stats dengan diberikan input datanya. Kemudian dari output tersebut bisa kita ketahui bahwa modus dari kolom BOROUGH adalah 3 yang merupakan angka yang mewakili kota Queens."
   ]
  },
  {
   "cell_type": "code",
   "execution_count": 22,
   "id": "2e9215c4",
   "metadata": {},
   "outputs": [
    {
     "data": {
      "text/plain": [
       "0    3\n",
       "Name: BOROUGH, dtype: int64"
      ]
     },
     "execution_count": 22,
     "metadata": {},
     "output_type": "execute_result"
    }
   ],
   "source": [
    "# menampilkan modus data\n",
    "df_nyc['BOROUGH'].mode()"
   ]
  },
  {
   "cell_type": "markdown",
   "id": "fbc6035d",
   "metadata": {},
   "source": [
    "Dilakukan pencarian modus untuk kolom BOROUGH dengan menggunakan fungsi mode() dari library pandasdengan diberikan input data yang ingin dicari modusnya(kolom BOROUGH). Kemudian dari output tersebut bisa kita ketahui bahwa modus dari kolom BOROUGH adalah 3 yang merupakan angka yang mewakili kota Queens."
   ]
  },
  {
   "cell_type": "markdown",
   "id": "98771a9d",
   "metadata": {},
   "source": [
    "### RANGE"
   ]
  },
  {
   "cell_type": "code",
   "execution_count": 23,
   "id": "6c3228dc",
   "metadata": {
    "scrolled": true
   },
   "outputs": [
    {
     "data": {
      "text/plain": [
       "array([1900, 1913, 1900, ..., 1925, 2001, 2006], dtype=int64)"
      ]
     },
     "execution_count": 23,
     "metadata": {},
     "output_type": "execute_result"
    }
   ],
   "source": [
    "# ubah data ke dalam bentuk array\n",
    "df_range = df_nyc['YEAR BUILT'].to_numpy()\n",
    "df_range"
   ]
  },
  {
   "cell_type": "markdown",
   "id": "87492b2e",
   "metadata": {},
   "source": [
    "kolom sale price yang awalnya berbentuk data frame dirubah terlebih dahulu menjadi bentuk array agar dapat digunakan untuk fungsi range."
   ]
  },
  {
   "cell_type": "code",
   "execution_count": 24,
   "id": "d2b9ce6c",
   "metadata": {
    "scrolled": true
   },
   "outputs": [
    {
     "data": {
      "text/plain": [
       "2017"
      ]
     },
     "execution_count": 24,
     "metadata": {},
     "output_type": "execute_result"
    }
   ],
   "source": [
    "# melihat nilai max\n",
    "np.amax(df_range)"
   ]
  },
  {
   "cell_type": "markdown",
   "id": "eed880f0",
   "metadata": {},
   "source": [
    "Range merupakan selisih dari nilai max dan nilai min. Pertama kita lihat terlebih dahulu nilai max pada kolom YEAR BUILT."
   ]
  },
  {
   "cell_type": "code",
   "execution_count": 25,
   "id": "2c6ffa65",
   "metadata": {},
   "outputs": [
    {
     "data": {
      "text/plain": [
       "0"
      ]
     },
     "execution_count": 25,
     "metadata": {},
     "output_type": "execute_result"
    }
   ],
   "source": [
    "# melihat nilai min\n",
    "np.amin(df_range)"
   ]
  },
  {
   "cell_type": "markdown",
   "id": "79879add",
   "metadata": {},
   "source": [
    "Kemudian dilihat nilai terkecil atau min pada data."
   ]
  },
  {
   "cell_type": "code",
   "execution_count": 26,
   "id": "108764a0",
   "metadata": {},
   "outputs": [
    {
     "data": {
      "text/plain": [
       "2017"
      ]
     },
     "execution_count": 26,
     "metadata": {},
     "output_type": "execute_result"
    }
   ],
   "source": [
    "# menampilkan range (max-min)\n",
    "int(np.amax(df_range)) - int(np.amin(df_range))"
   ]
  },
  {
   "cell_type": "markdown",
   "id": "71718999",
   "metadata": {},
   "source": [
    "Kemudian dapat dilakukan pengurangan nilai max dengan min untuk mendapatkan nilai range. Hasil menunjukkan range dari kolom YEAR BUILT adalah 9999999 yang mana bisa kita ketahui rentang dari data pada kolom ini sangat lah besar."
   ]
  },
  {
   "cell_type": "markdown",
   "id": "4a39c8d4",
   "metadata": {},
   "source": [
    "### VARIANCE"
   ]
  },
  {
   "cell_type": "code",
   "execution_count": 50,
   "id": "a14ab333",
   "metadata": {
    "scrolled": false
   },
   "outputs": [
    {
     "data": {
      "text/plain": [
       "0         6625000.0\n",
       "3         3936272.0\n",
       "4         8000000.0\n",
       "6         3192840.0\n",
       "9        16232000.0\n",
       "            ...    \n",
       "84543      450000.0\n",
       "84544      550000.0\n",
       "84545      460000.0\n",
       "84546    11693337.0\n",
       "84547       69300.0\n",
       "Name: SALE PRICE, Length: 69987, dtype: float64"
      ]
     },
     "execution_count": 50,
     "metadata": {},
     "output_type": "execute_result"
    }
   ],
   "source": [
    "# ubah tipe data kolom SALE PRICE\n",
    "df_sale = df_nyc['SALE PRICE'].astype('float64')\n",
    "df_sale"
   ]
  },
  {
   "cell_type": "markdown",
   "id": "16246bc7",
   "metadata": {},
   "source": [
    "Pada awalnya tipe data dari kolom SALE PRICE adalah string sehingga harus dirubah terlebih dahulu menjadi float agar bisa dihitung variance nya."
   ]
  },
  {
   "cell_type": "code",
   "execution_count": 28,
   "id": "e4d68e9a",
   "metadata": {
    "scrolled": true
   },
   "outputs": [
    {
     "data": {
      "text/plain": [
       "130079849507240.9"
      ]
     },
     "execution_count": 28,
     "metadata": {},
     "output_type": "execute_result"
    }
   ],
   "source": [
    "# variance w/ numpy\n",
    "var_np = np.var(df_sale,ddof=1)\n",
    "var_np"
   ]
  },
  {
   "cell_type": "markdown",
   "id": "c336af9c",
   "metadata": {},
   "source": [
    "Kemudian menggunakan fungsi var() dari library numpy, dicarilah nilai variance untuk data pada kolom tersebut dan didapat hasil seperti yang tertera di atas. Varians mengukur penyebaran data dan menunjukkan seberapa jauh titik data dari mean data. Dari hasil yang didapatkan dapat kita ketahui data ini memiliki varians yang sangat besar menandakan titik data sangat jauh dari rata-rata."
   ]
  },
  {
   "cell_type": "markdown",
   "id": "57f30315",
   "metadata": {},
   "source": [
    "### STANDARD DEVIATION"
   ]
  },
  {
   "cell_type": "code",
   "execution_count": 29,
   "id": "d960130d",
   "metadata": {
    "scrolled": true
   },
   "outputs": [
    {
     "data": {
      "text/plain": [
       "1.235688318927507"
      ]
     },
     "execution_count": 29,
     "metadata": {},
     "output_type": "execute_result"
    }
   ],
   "source": [
    "# mencari nilai standar deviation\n",
    "np.std(df_nyc['BOROUGH'], ddof=1)"
   ]
  },
  {
   "cell_type": "markdown",
   "id": "cbfbbd0a",
   "metadata": {},
   "source": [
    "Dilakukan pencarian nilai standar deviasi menggunakan fungsi std() dari library numpy. Ditampilkan hasilnya yaitu 1.2357(dibulatkan). Standar deviasi digunakan untuk mengukur sebaran data dari mean, semakin mendekati nol maka semakin rendah variabilitas data dan mean semakin dapat diandalkan. Jadi, dari hasil yang didapatkan dapat diketahui bahwa data pada kolom BOROUGH memiliki variabilitas yang lumayan tinggi."
   ]
  },
  {
   "cell_type": "code",
   "execution_count": 30,
   "id": "9d7b1928",
   "metadata": {
    "scrolled": true
   },
   "outputs": [
    {
     "data": {
      "text/plain": [
       "1.235688318927507"
      ]
     },
     "execution_count": 30,
     "metadata": {},
     "output_type": "execute_result"
    }
   ],
   "source": [
    "# mencari nilai standar deviation\n",
    "df_nyc['BOROUGH'].std()"
   ]
  },
  {
   "cell_type": "markdown",
   "id": "6c6b81b7",
   "metadata": {},
   "source": [
    "Kali ini dilakukan pencarian nilai standar deviasi menggunakan fungsi dari library pandas."
   ]
  },
  {
   "cell_type": "markdown",
   "id": "1a74d4dc",
   "metadata": {},
   "source": [
    "### PROBABILITY DISTRIBUTION"
   ]
  },
  {
   "cell_type": "code",
   "execution_count": 54,
   "id": "1ce38ac9",
   "metadata": {},
   "outputs": [],
   "source": [
    "# import library\n",
    "import seaborn as sns\n",
    "import matplotlib.pyplot as plt"
   ]
  },
  {
   "cell_type": "markdown",
   "id": "f5d6a06f",
   "metadata": {},
   "source": [
    "dilakukan import library yang dibutuhkan."
   ]
  },
  {
   "cell_type": "code",
   "execution_count": 53,
   "id": "8e1e9d65",
   "metadata": {
    "scrolled": true
   },
   "outputs": [
    {
     "data": {
      "text/plain": [
       "0     6625000.0\n",
       "3     3936272.0\n",
       "4     8000000.0\n",
       "6     3192840.0\n",
       "9    16232000.0\n",
       "Name: SALE PRICE, dtype: float64"
      ]
     },
     "execution_count": 53,
     "metadata": {},
     "output_type": "execute_result"
    }
   ],
   "source": [
    "# show top data\n",
    "df_sale.head()"
   ]
  },
  {
   "cell_type": "markdown",
   "id": "db5a00c7",
   "metadata": {},
   "source": [
    "ditampilkan data teratas untuk dilihat bentuk data secara umum."
   ]
  },
  {
   "cell_type": "code",
   "execution_count": 56,
   "id": "dcedeb0a",
   "metadata": {
    "scrolled": true
   },
   "outputs": [
    {
     "data": {
      "text/plain": [
       "(69987,)"
      ]
     },
     "execution_count": 56,
     "metadata": {},
     "output_type": "execute_result"
    }
   ],
   "source": [
    "# show shape of the data\n",
    "df_sale.shape"
   ]
  },
  {
   "cell_type": "markdown",
   "id": "dfa54229",
   "metadata": {},
   "source": [
    "melihat bentuk data, jadi hanya terdiri dari 69987 baris dengan 1 kolom itu sendiri. Data ini bersifat satu dimensi."
   ]
  },
  {
   "cell_type": "code",
   "execution_count": 61,
   "id": "f236af03",
   "metadata": {},
   "outputs": [
    {
     "name": "stderr",
     "output_type": "stream",
     "text": [
      "D:\\anaconda\\lib\\site-packages\\seaborn\\distributions.py:2619: FutureWarning: `distplot` is a deprecated function and will be removed in a future version. Please adapt your code to use either `displot` (a figure-level function with similar flexibility) or `histplot` (an axes-level function for histograms).\n",
      "  warnings.warn(msg, FutureWarning)\n"
     ]
    },
    {
     "data": {
      "image/png": "[encoded data removed]",
      "text/plain": [
       "<Figure size 432x288 with 1 Axes>"
      ]
     },
     "metadata": {
      "needs_background": "light"
     },
     "output_type": "display_data"
    }
   ],
   "source": [
    "sns.distplot(df_sale)\n",
    "plt.xlabel('SALE PRICE Distribution')\n",
    "plt.ylabel('Frequency')\n",
    "plt.show()"
   ]
  },
  {
   "cell_type": "markdown",
   "id": "4c8dca93",
   "metadata": {},
   "source": [
    "ditampilkan plot untuk melihat persebaran data. Bisa dilihat bahwa data tidak berdistribusi secara normal dikarenakan data menumpuk pada bagian kiri plot."
   ]
  },
  {
   "cell_type": "markdown",
   "id": "72a105a0",
   "metadata": {},
   "source": [
    "### CONFIDENCE INTERVALS"
   ]
  },
  {
   "cell_type": "code",
   "execution_count": 62,
   "id": "e7edeb1e",
   "metadata": {},
   "outputs": [],
   "source": [
    "import scipy.stats as stats\n",
    "import random\n",
    "import warnings\n",
    "%matplotlib inline"
   ]
  },
  {
   "cell_type": "code",
   "execution_count": 65,
   "id": "68491041",
   "metadata": {
    "scrolled": true
   },
   "outputs": [
    {
     "data": {
      "text/plain": [
       "Index(['BOROUGH', 'NEIGHBORHOOD', 'BUILDING CLASS CATEGORY',\n",
       "       'TAX CLASS AT PRESENT', 'BLOCK', 'LOT', 'EASE-MENT',\n",
       "       'BUILDING CLASS AT PRESENT', 'ADDRESS', 'APARTMENT NUMBER', 'ZIP CODE',\n",
       "       'RESIDENTIAL UNITS', 'COMMERCIAL UNITS', 'TOTAL UNITS',\n",
       "       'LAND SQUARE FEET', 'GROSS SQUARE FEET', 'YEAR BUILT',\n",
       "       'TAX CLASS AT TIME OF SALE', 'BUILDING CLASS AT TIME OF SALE',\n",
       "       'SALE PRICE', 'SALE DATE'],\n",
       "      dtype='object')"
      ]
     },
     "execution_count": 65,
     "metadata": {},
     "output_type": "execute_result"
    }
   ],
   "source": [
    "df.columns"
   ]
  },
  {
   "cell_type": "code",
   "execution_count": 71,
   "id": "46fe8597",
   "metadata": {
    "scrolled": true
   },
   "outputs": [
    {
     "data": {
      "text/html": [
       "<div>\n",
       "<style scoped>\n",
       "    .dataframe tbody tr th:only-of-type {\n",
       "        vertical-align: middle;\n",
       "    }\n",
       "\n",
       "    .dataframe tbody tr th {\n",
       "        vertical-align: top;\n",
       "    }\n",
       "\n",
       "    .dataframe thead th {\n",
       "        text-align: right;\n",
       "    }\n",
       "</style>\n",
       "<table border=\"1\" class=\"dataframe\">\n",
       "  <thead>\n",
       "    <tr style=\"text-align: right;\">\n",
       "      <th></th>\n",
       "      <th></th>\n",
       "      <th>YEAR BUILT</th>\n",
       "    </tr>\n",
       "    <tr>\n",
       "      <th>BOROUGH</th>\n",
       "      <th>YEAR BUILT</th>\n",
       "      <th></th>\n",
       "    </tr>\n",
       "  </thead>\n",
       "  <tbody>\n",
       "    <tr>\n",
       "      <th rowspan=\"5\" valign=\"top\">1</th>\n",
       "      <th>0</th>\n",
       "      <td>2303</td>\n",
       "    </tr>\n",
       "    <tr>\n",
       "      <th>1111</th>\n",
       "      <td>1</td>\n",
       "    </tr>\n",
       "    <tr>\n",
       "      <th>1800</th>\n",
       "      <td>2</td>\n",
       "    </tr>\n",
       "    <tr>\n",
       "      <th>1826</th>\n",
       "      <td>1</td>\n",
       "    </tr>\n",
       "    <tr>\n",
       "      <th>1840</th>\n",
       "      <td>1</td>\n",
       "    </tr>\n",
       "    <tr>\n",
       "      <th>...</th>\n",
       "      <th>...</th>\n",
       "      <td>...</td>\n",
       "    </tr>\n",
       "    <tr>\n",
       "      <th rowspan=\"5\" valign=\"top\">5</th>\n",
       "      <th>2012</th>\n",
       "      <td>18</td>\n",
       "    </tr>\n",
       "    <tr>\n",
       "      <th>2013</th>\n",
       "      <td>11</td>\n",
       "    </tr>\n",
       "    <tr>\n",
       "      <th>2014</th>\n",
       "      <td>33</td>\n",
       "    </tr>\n",
       "    <tr>\n",
       "      <th>2015</th>\n",
       "      <td>221</td>\n",
       "    </tr>\n",
       "    <tr>\n",
       "      <th>2016</th>\n",
       "      <td>225</td>\n",
       "    </tr>\n",
       "  </tbody>\n",
       "</table>\n",
       "<p>629 rows × 1 columns</p>\n",
       "</div>"
      ],
      "text/plain": [
       "                    YEAR BUILT\n",
       "BOROUGH YEAR BUILT            \n",
       "1       0                 2303\n",
       "        1111                 1\n",
       "        1800                 2\n",
       "        1826                 1\n",
       "        1840                 1\n",
       "...                        ...\n",
       "5       2012                18\n",
       "        2013                11\n",
       "        2014                33\n",
       "        2015               221\n",
       "        2016               225\n",
       "\n",
       "[629 rows x 1 columns]"
      ]
     },
     "execution_count": 71,
     "metadata": {},
     "output_type": "execute_result"
    }
   ],
   "source": [
    "df.groupby(['BOROUGH', 'YEAR BUILT'])[['YEAR BUILT']].count()"
   ]
  },
  {
   "cell_type": "code",
   "execution_count": 72,
   "id": "f7931629",
   "metadata": {},
   "outputs": [
    {
     "name": "stdout",
     "output_type": "stream",
     "text": [
      "508 0.44291338582677164\n"
     ]
    }
   ],
   "source": [
    "n = 18+11+33+221+225\n",
    "pro_fm = 225/n\n",
    "print(n,pro_fm)"
   ]
  },
  {
   "cell_type": "code",
   "execution_count": 73,
   "id": "e3ff0a6e",
   "metadata": {},
   "outputs": [
    {
     "data": {
      "text/plain": [
       "0.02203884895256578"
      ]
     },
     "execution_count": 73,
     "metadata": {},
     "output_type": "execute_result"
    }
   ],
   "source": [
    "stderror_fm = (pro_fm*(1-pro_fm)/n)**(1/2)\n",
    "stderror_fm"
   ]
  },
  {
   "cell_type": "code",
   "execution_count": 82,
   "id": "e2bee7fd",
   "metadata": {},
   "outputs": [
    {
     "name": "stdout",
     "output_type": "stream",
     "text": [
      "lower bound 0.3997172418797427\n",
      "upper bound 0.48610952977380056\n"
     ]
    }
   ],
   "source": [
    "z_score = 1.96\n",
    "low_ci_fm = pro_fm - (z_score*stderror_fm)\n",
    "up_ci_fm = pro_fm + (z_score*stderror_fm)\n",
    "print('lower bound',low_ci_fm)\n",
    "print('upper bound',up_ci_fm)"
   ]
  },
  {
   "cell_type": "code",
   "execution_count": 75,
   "id": "dfee784e",
   "metadata": {},
   "outputs": [
    {
     "name": "stdout",
     "output_type": "stream",
     "text": [
      "Margin Error= 0.04319614394702893\n"
     ]
    }
   ],
   "source": [
    "print('Margin Error=',(z_score*stderror_fm))"
   ]
  },
  {
   "cell_type": "markdown",
   "id": "c7226070",
   "metadata": {},
   "source": [
    "### HYPOTHESIS TESTING"
   ]
  },
  {
   "cell_type": "code",
   "execution_count": 84,
   "id": "3acf3546",
   "metadata": {},
   "outputs": [
    {
     "data": {
      "text/html": [
       "<div>\n",
       "<style scoped>\n",
       "    .dataframe tbody tr th:only-of-type {\n",
       "        vertical-align: middle;\n",
       "    }\n",
       "\n",
       "    .dataframe tbody tr th {\n",
       "        vertical-align: top;\n",
       "    }\n",
       "\n",
       "    .dataframe thead th {\n",
       "        text-align: right;\n",
       "    }\n",
       "</style>\n",
       "<table border=\"1\" class=\"dataframe\">\n",
       "  <thead>\n",
       "    <tr style=\"text-align: right;\">\n",
       "      <th></th>\n",
       "      <th>BOROUGH</th>\n",
       "      <th>NEIGHBORHOOD</th>\n",
       "      <th>BUILDING CLASS CATEGORY</th>\n",
       "      <th>TAX CLASS AT PRESENT</th>\n",
       "      <th>BLOCK</th>\n",
       "      <th>LOT</th>\n",
       "      <th>EASE-MENT</th>\n",
       "      <th>BUILDING CLASS AT PRESENT</th>\n",
       "      <th>ADDRESS</th>\n",
       "      <th>APARTMENT NUMBER</th>\n",
       "      <th>...</th>\n",
       "      <th>RESIDENTIAL UNITS</th>\n",
       "      <th>COMMERCIAL UNITS</th>\n",
       "      <th>TOTAL UNITS</th>\n",
       "      <th>LAND SQUARE FEET</th>\n",
       "      <th>GROSS SQUARE FEET</th>\n",
       "      <th>YEAR BUILT</th>\n",
       "      <th>TAX CLASS AT TIME OF SALE</th>\n",
       "      <th>BUILDING CLASS AT TIME OF SALE</th>\n",
       "      <th>SALE PRICE</th>\n",
       "      <th>SALE DATE</th>\n",
       "    </tr>\n",
       "  </thead>\n",
       "  <tbody>\n",
       "    <tr>\n",
       "      <th>0</th>\n",
       "      <td>1</td>\n",
       "      <td>ALPHABET CITY</td>\n",
       "      <td>07 RENTALS - WALKUP APARTMENTS</td>\n",
       "      <td>2A</td>\n",
       "      <td>392</td>\n",
       "      <td>6</td>\n",
       "      <td></td>\n",
       "      <td>C2</td>\n",
       "      <td>153 AVENUE B</td>\n",
       "      <td></td>\n",
       "      <td>...</td>\n",
       "      <td>5</td>\n",
       "      <td>0</td>\n",
       "      <td>5</td>\n",
       "      <td>1633</td>\n",
       "      <td>6440</td>\n",
       "      <td>1900</td>\n",
       "      <td>2</td>\n",
       "      <td>C2</td>\n",
       "      <td>6625000</td>\n",
       "      <td>2017-07-19 00:00:00</td>\n",
       "    </tr>\n",
       "    <tr>\n",
       "      <th>1</th>\n",
       "      <td>1</td>\n",
       "      <td>ALPHABET CITY</td>\n",
       "      <td>07 RENTALS - WALKUP APARTMENTS</td>\n",
       "      <td>2</td>\n",
       "      <td>399</td>\n",
       "      <td>26</td>\n",
       "      <td></td>\n",
       "      <td>C7</td>\n",
       "      <td>234 EAST 4TH   STREET</td>\n",
       "      <td></td>\n",
       "      <td>...</td>\n",
       "      <td>28</td>\n",
       "      <td>3</td>\n",
       "      <td>31</td>\n",
       "      <td>4616</td>\n",
       "      <td>18690</td>\n",
       "      <td>1900</td>\n",
       "      <td>2</td>\n",
       "      <td>C7</td>\n",
       "      <td>-</td>\n",
       "      <td>2016-12-14 00:00:00</td>\n",
       "    </tr>\n",
       "    <tr>\n",
       "      <th>2</th>\n",
       "      <td>1</td>\n",
       "      <td>ALPHABET CITY</td>\n",
       "      <td>07 RENTALS - WALKUP APARTMENTS</td>\n",
       "      <td>2</td>\n",
       "      <td>399</td>\n",
       "      <td>39</td>\n",
       "      <td></td>\n",
       "      <td>C7</td>\n",
       "      <td>197 EAST 3RD   STREET</td>\n",
       "      <td></td>\n",
       "      <td>...</td>\n",
       "      <td>16</td>\n",
       "      <td>1</td>\n",
       "      <td>17</td>\n",
       "      <td>2212</td>\n",
       "      <td>7803</td>\n",
       "      <td>1900</td>\n",
       "      <td>2</td>\n",
       "      <td>C7</td>\n",
       "      <td>-</td>\n",
       "      <td>2016-12-09 00:00:00</td>\n",
       "    </tr>\n",
       "    <tr>\n",
       "      <th>3</th>\n",
       "      <td>1</td>\n",
       "      <td>ALPHABET CITY</td>\n",
       "      <td>07 RENTALS - WALKUP APARTMENTS</td>\n",
       "      <td>2B</td>\n",
       "      <td>402</td>\n",
       "      <td>21</td>\n",
       "      <td></td>\n",
       "      <td>C4</td>\n",
       "      <td>154 EAST 7TH STREET</td>\n",
       "      <td></td>\n",
       "      <td>...</td>\n",
       "      <td>10</td>\n",
       "      <td>0</td>\n",
       "      <td>10</td>\n",
       "      <td>2272</td>\n",
       "      <td>6794</td>\n",
       "      <td>1913</td>\n",
       "      <td>2</td>\n",
       "      <td>C4</td>\n",
       "      <td>3936272</td>\n",
       "      <td>2016-09-23 00:00:00</td>\n",
       "    </tr>\n",
       "    <tr>\n",
       "      <th>4</th>\n",
       "      <td>1</td>\n",
       "      <td>ALPHABET CITY</td>\n",
       "      <td>07 RENTALS - WALKUP APARTMENTS</td>\n",
       "      <td>2A</td>\n",
       "      <td>404</td>\n",
       "      <td>55</td>\n",
       "      <td></td>\n",
       "      <td>C2</td>\n",
       "      <td>301 EAST 10TH   STREET</td>\n",
       "      <td></td>\n",
       "      <td>...</td>\n",
       "      <td>6</td>\n",
       "      <td>0</td>\n",
       "      <td>6</td>\n",
       "      <td>2369</td>\n",
       "      <td>4615</td>\n",
       "      <td>1900</td>\n",
       "      <td>2</td>\n",
       "      <td>C2</td>\n",
       "      <td>8000000</td>\n",
       "      <td>2016-11-17 00:00:00</td>\n",
       "    </tr>\n",
       "  </tbody>\n",
       "</table>\n",
       "<p>5 rows × 21 columns</p>\n",
       "</div>"
      ],
      "text/plain": [
       "   BOROUGH   NEIGHBORHOOD                      BUILDING CLASS CATEGORY  \\\n",
       "0        1  ALPHABET CITY  07 RENTALS - WALKUP APARTMENTS                \n",
       "1        1  ALPHABET CITY  07 RENTALS - WALKUP APARTMENTS                \n",
       "2        1  ALPHABET CITY  07 RENTALS - WALKUP APARTMENTS                \n",
       "3        1  ALPHABET CITY  07 RENTALS - WALKUP APARTMENTS                \n",
       "4        1  ALPHABET CITY  07 RENTALS - WALKUP APARTMENTS                \n",
       "\n",
       "  TAX CLASS AT PRESENT  BLOCK  LOT EASE-MENT BUILDING CLASS AT PRESENT  \\\n",
       "0                   2A    392    6                                  C2   \n",
       "1                    2    399   26                                  C7   \n",
       "2                    2    399   39                                  C7   \n",
       "3                   2B    402   21                                  C4   \n",
       "4                   2A    404   55                                  C2   \n",
       "\n",
       "                  ADDRESS APARTMENT NUMBER  ...  RESIDENTIAL UNITS  \\\n",
       "0            153 AVENUE B                   ...                  5   \n",
       "1   234 EAST 4TH   STREET                   ...                 28   \n",
       "2   197 EAST 3RD   STREET                   ...                 16   \n",
       "3     154 EAST 7TH STREET                   ...                 10   \n",
       "4  301 EAST 10TH   STREET                   ...                  6   \n",
       "\n",
       "   COMMERCIAL UNITS  TOTAL UNITS  LAND SQUARE FEET GROSS SQUARE FEET  \\\n",
       "0                 0            5              1633              6440   \n",
       "1                 3           31              4616             18690   \n",
       "2                 1           17              2212              7803   \n",
       "3                 0           10              2272              6794   \n",
       "4                 0            6              2369              4615   \n",
       "\n",
       "  YEAR BUILT  TAX CLASS AT TIME OF SALE  BUILDING CLASS AT TIME OF SALE  \\\n",
       "0       1900                          2                              C2   \n",
       "1       1900                          2                              C7   \n",
       "2       1900                          2                              C7   \n",
       "3       1913                          2                              C4   \n",
       "4       1900                          2                              C2   \n",
       "\n",
       "  SALE PRICE            SALE DATE  \n",
       "0    6625000  2017-07-19 00:00:00  \n",
       "1        -    2016-12-14 00:00:00  \n",
       "2        -    2016-12-09 00:00:00  \n",
       "3    3936272  2016-09-23 00:00:00  \n",
       "4    8000000  2016-11-17 00:00:00  \n",
       "\n",
       "[5 rows x 21 columns]"
      ]
     },
     "execution_count": 84,
     "metadata": {},
     "output_type": "execute_result"
    }
   ],
   "source": [
    "df.head()"
   ]
  },
  {
   "cell_type": "markdown",
   "id": "48372e53",
   "metadata": {},
   "source": [
    "uji apakah rata-rata SALE PRICE building di Brooklyn lebih mahal daripada di Bronx.\n",
    "\n",
    "+ h0 = rata-rata SALE PRICE building di Brooklyn tidak lebih tinggi daripada Bronx.\n",
    "+ h1 = rata-rata SALE PRICE building di Brooklyn lebih tinggi daripada Bronx.\n",
    "\n",
    "Testing:\n",
    "+ h0 : mean_brook <= mean_bronx\n",
    "+ h1 : mean_brook > mean_bronx\n",
    "\n",
    "Keterangan:\n",
    "+ Brooklyn = 3\n",
    "+ Bronx = 2"
   ]
  },
  {
   "cell_type": "code",
   "execution_count": 90,
   "id": "9ac362a8",
   "metadata": {},
   "outputs": [],
   "source": [
    "brooklyn = df[df.BOROUGH==3]\n",
    "bronx = df[df.BOROUGH==2]"
   ]
  },
  {
   "cell_type": "code",
   "execution_count": 91,
   "id": "9c8fee9a",
   "metadata": {},
   "outputs": [
    {
     "name": "stdout",
     "output_type": "stream",
     "text": [
      "24047 834488.3717719465 3935813.428569773\n"
     ]
    }
   ],
   "source": [
    "n_brook = len(brooklyn)\n",
    "mean_brook = brooklyn['SALE PRICE'].astype('float64').mean()\n",
    "std_brook = brooklyn['SALE PRICE'].astype('float64').std()\n",
    "print(n_brook,mean_brook,std_brook)"
   ]
  },
  {
   "cell_type": "code",
   "execution_count": 92,
   "id": "845a3b29",
   "metadata": {},
   "outputs": [
    {
     "name": "stdout",
     "output_type": "stream",
     "text": [
      "7049 590193.6434955313 2783057.797861863\n"
     ]
    }
   ],
   "source": [
    "n_bronx = len(bronx)\n",
    "mean_bronx = bronx['SALE PRICE'].astype('float64').mean()\n",
    "std_bronx = bronx['SALE PRICE'].astype('float64').std()\n",
    "print(n_bronx,mean_bronx,std_bronx)"
   ]
  },
  {
   "cell_type": "code",
   "execution_count": 93,
   "id": "949398a5",
   "metadata": {},
   "outputs": [],
   "source": [
    "import statsmodels.api as sm"
   ]
  },
  {
   "cell_type": "code",
   "execution_count": 94,
   "id": "622e8d2d",
   "metadata": {},
   "outputs": [],
   "source": [
    "# menggunakan confidence level sebesar 95%\n",
    "alpha = 0.05"
   ]
  },
  {
   "cell_type": "code",
   "execution_count": 97,
   "id": "a0479443",
   "metadata": {},
   "outputs": [
    {
     "data": {
      "text/plain": [
       "(4.866773130212759, 5.671755896544035e-07)"
      ]
     },
     "execution_count": 97,
     "metadata": {},
     "output_type": "execute_result"
    }
   ],
   "source": [
    "sale_hypo = sm.stats.ztest(brooklyn['SALE PRICE'].astype('float64').dropna(),bronx['SALE PRICE'].astype('float64').dropna(),alternative='larger')\n",
    "sale_hypo"
   ]
  },
  {
   "cell_type": "code",
   "execution_count": 98,
   "id": "9e503b42",
   "metadata": {},
   "outputs": [
    {
     "name": "stdout",
     "output_type": "stream",
     "text": [
      "Tolak h0 :  rata-rata SALE PRICE building di Brooklyn lebih tinggi daripada Bronx.\n"
     ]
    }
   ],
   "source": [
    "if sale_hypo[1]>alpha:\n",
    "    print('Terima h0 : rata-rata SALE PRICE building di Brooklyn tidak lebih tinggi daripada Bronx.')\n",
    "else:\n",
    "    print('Tolak h0 :  rata-rata SALE PRICE building di Brooklyn lebih tinggi daripada Bronx.')"
   ]
  },
  {
   "cell_type": "markdown",
   "id": "b5c3a0cd",
   "metadata": {},
   "source": [
    "Jadi, dari hasil hypothesis testing tersebut dapat disimpulkan bahwa harga jual building yang berlokasi di kota Brooklyn lebih besar daripada building/bangunan yang berlokasi di kota Bronx."
   ]
  }
 ],
 "metadata": {
  "kernelspec": {
   "display_name": "Python 3 (ipykernel)",
   "language": "python",
   "name": "python3"
  },
  "language_info": {
   "codemirror_mode": {
    "name": "ipython",
    "version": 3
   },
   "file_extension": ".py",
   "mimetype": "text/x-python",
   "name": "python",
   "nbconvert_exporter": "python",
   "pygments_lexer": "ipython3",
   "version": "3.9.12"
  }
 },
 "nbformat": 4,
 "nbformat_minor": 5
}
