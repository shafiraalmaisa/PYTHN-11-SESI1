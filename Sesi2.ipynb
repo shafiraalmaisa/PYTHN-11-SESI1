{
 "cells": [
  {
   "cell_type": "markdown",
   "id": "fd2e4a95",
   "metadata": {},
   "source": [
    "## If Else Condition"
   ]
  },
  {
   "cell_type": "code",
   "execution_count": 2,
   "id": "9ee39c85",
   "metadata": {},
   "outputs": [
    {
     "name": "stdout",
     "output_type": "stream",
     "text": [
      "ya benar!\n",
      "ya benar!\n"
     ]
    }
   ],
   "source": [
    "x = 2\n",
    "y =3\n",
    "\n",
    "if x < y:\n",
    "    print('ya benar!')\n",
    "if x > y:\n",
    "    print('ya benar!')\n",
    "if x == y:\n",
    "    print('ya benar!')\n",
    "if x <= y:\n",
    "    print('ya benar!')"
   ]
  },
  {
   "cell_type": "code",
   "execution_count": 5,
   "id": "42d0315b",
   "metadata": {},
   "outputs": [
    {
     "name": "stdout",
     "output_type": "stream",
     "text": [
      "True\n",
      "ya benar!\n"
     ]
    }
   ],
   "source": [
    "print('we' in ['we', 'wa', 'wo'])\n",
    "if 'we' in ['we', 'wa', 'wo'] :\n",
    "    print('ya benar!') #indentasi diperlukan dalam python"
   ]
  },
  {
   "cell_type": "code",
   "execution_count": 6,
   "id": "4147fc87",
   "metadata": {},
   "outputs": [
    {
     "name": "stdout",
     "output_type": "stream",
     "text": [
      "ya benar!\n"
     ]
    }
   ],
   "source": [
    "x = 2\n",
    "y =3\n",
    "\n",
    "if x<y:\n",
    "    if y<x:\n",
    "        pass #ga ngelakuin apa-apa, untuk memberhentikan pengecekan kondisi\n",
    "    print('ya benar!')"
   ]
  },
  {
   "cell_type": "markdown",
   "id": "e73df2c2",
   "metadata": {},
   "source": [
    "## if elif else condition"
   ]
  },
  {
   "cell_type": "code",
   "execution_count": 8,
   "id": "c6d31028",
   "metadata": {},
   "outputs": [
    {
     "name": "stdout",
     "output_type": "stream",
     "text": [
      "mahal\n"
     ]
    }
   ],
   "source": [
    "harga_jeruk = 50000\n",
    "standar_harga = 30000\n",
    "# apabila jeruk lebih dari standar harga maka jeruk itu mahal dan apabila kurang dari standar maka harga jeruk murah\n",
    "\n",
    "if harga_jeruk > standar_harga:\n",
    "    print('mahal')\n",
    "elif harga_jeruk < standar_harga:\n",
    "    print('murah')\n",
    "else:\n",
    "    print('biasa')"
   ]
  },
  {
   "cell_type": "code",
   "execution_count": 13,
   "id": "9983516b",
   "metadata": {},
   "outputs": [
    {
     "name": "stdout",
     "output_type": "stream",
     "text": [
      "mahal\n"
     ]
    }
   ],
   "source": [
    "harga_jeruk = 70000\n",
    "standar_harga = 50000\n",
    "# apabila jeruk lebih murah dari standar harga maka jeruk itu mahal, jika tidak maka jeruk itu murah\n",
    "\n",
    "if harga_jeruk > standar_harga:\n",
    "    print('mahal')\n",
    "else:\n",
    "    print('murah')"
   ]
  },
  {
   "cell_type": "code",
   "execution_count": null,
   "id": "5c6db422",
   "metadata": {},
   "outputs": [],
   "source": [
    "harga_jeruk = int(input())\n",
    "standar_harga = 50000\n",
    "# apabila jeruk lebih murah dari standar harga maka jeruk itu mahal, jika tidak maka jeruk itu murah\n",
    "\n",
    "if harga_jeruk > standar_harga:\n",
    "    print('mahal')\n",
    "else:\n",
    "    print('murah')"
   ]
  },
  {
   "cell_type": "markdown",
   "id": "7f5ff3d8",
   "metadata": {},
   "source": [
    "## QUIZ"
   ]
  },
  {
   "cell_type": "code",
   "execution_count": 28,
   "id": "4fa6f03b",
   "metadata": {},
   "outputs": [
    {
     "name": "stdout",
     "output_type": "stream",
     "text": [
      "berapa pisang yang ingin anda beli?\n",
      "40\n",
      "total belanja anda adalah IDR108000.0 (120000 di diskon 10%)\n"
     ]
    }
   ],
   "source": [
    "print('berapa pisang yang ingin anda beli?')\n",
    "pisang = int(input())\n",
    "satu_pisang = 3000\n",
    "belanja = satu_pisang * pisang\n",
    "if belanja > 100000:\n",
    "    total = belanja - (belanja * (10/100))\n",
    "    print('total belanja anda adalah IDR' + str(total) + ' (' + str(belanja) + ' di diskon 10%)')\n",
    "elif belanja > 50000 and belanja < 100000:\n",
    "    total = belanja - (belanja * (5/100))\n",
    "    print('total belanja anda adalah IDR' + str(total) + ' (' + str(belanja) + ' di diskon 5%)')\n",
    "else:\n",
    "    total = belanja\n",
    "    print('total belanja anda adalah IDR' + str(total))"
   ]
  },
  {
   "cell_type": "markdown",
   "id": "fce04c8e",
   "metadata": {},
   "source": [
    "## One-line if-statements"
   ]
  },
  {
   "cell_type": "code",
   "execution_count": 1,
   "id": "84b4b913",
   "metadata": {},
   "outputs": [
    {
     "name": "stdout",
     "output_type": "stream",
     "text": [
      "mahal\n",
      "banget\n",
      "2\n"
     ]
    }
   ],
   "source": [
    "harga_jeruk = 70000\n",
    "standar_harga = 50000\n",
    "if harga_jeruk > standar_harga: print('mahal'); print('banget'); print(1+1)\n",
    "elif harga_jeruk < standar_harga: print('murah')\n",
    "else: print('biasa')"
   ]
  },
  {
   "cell_type": "markdown",
   "id": "ec811d16",
   "metadata": {},
   "source": [
    "## Conditional Expression"
   ]
  },
  {
   "cell_type": "code",
   "execution_count": 3,
   "id": "5e543d70",
   "metadata": {},
   "outputs": [
    {
     "name": "stdout",
     "output_type": "stream",
     "text": [
      "Muda\n"
     ]
    }
   ],
   "source": [
    "umur = 35\n",
    "s = 'Tua' if umur > 35 else 'Muda'\n",
    "print(s)"
   ]
  },
  {
   "cell_type": "code",
   "execution_count": 5,
   "id": "33b88588",
   "metadata": {
    "scrolled": true
   },
   "outputs": [
    {
     "name": "stdout",
     "output_type": "stream",
     "text": [
      "Out of Class\n"
     ]
    }
   ],
   "source": [
    "nama = 'Thaki'\n",
    "n = 'In Class' if nama in ['Fachri', 'Rahmat', 'Nunu'] else 'Out of Class'\n",
    "print(n)"
   ]
  },
  {
   "cell_type": "code",
   "execution_count": 7,
   "id": "e48e0266",
   "metadata": {},
   "outputs": [
    {
     "name": "stdout",
     "output_type": "stream",
     "text": [
      "67\n",
      "ulang tahun ga bray?\n",
      "y\n",
      "cukek, diskon nie!\n"
     ]
    }
   ],
   "source": [
    "pisang = int(input())\n",
    "print('ulang tahun ga bray?')\n",
    "ultah = input()\n",
    "\n",
    "if ultah == 'y': print('cukek, diskon nie!')"
   ]
  },
  {
   "cell_type": "markdown",
   "id": "3233654f",
   "metadata": {},
   "source": [
    "## QUIZ 2"
   ]
  },
  {
   "cell_type": "code",
   "execution_count": 11,
   "id": "5d83177f",
   "metadata": {},
   "outputs": [
    {
     "name": "stdout",
     "output_type": "stream",
     "text": [
      "berapa gaji anda?\n",
      "10000000\n",
      "year of service?\n",
      "15\n",
      "selamat anda mendapat bonus! total gaji anda IDR 11000000.0\n"
     ]
    }
   ],
   "source": [
    "print('berapa gaji anda?')\n",
    "gaji = int(input())\n",
    "print('year of service?')\n",
    "YoS = int(input())\n",
    "\n",
    "if YoS > 10: gaji = gaji + (gaji * (10/100)); print('selamat anda mendapat bonus! total gaji anda IDR ' + str(gaji))\n",
    "else: pass"
   ]
  },
  {
   "cell_type": "markdown",
   "id": "f681b34e",
   "metadata": {},
   "source": [
    "## LOOP\n",
    "\n",
    "objek yang bisa dilooping disebut iterable(int, string, list, tuple, dictionary, dsb)"
   ]
  },
  {
   "cell_type": "code",
   "execution_count": 17,
   "id": "d7a54917",
   "metadata": {
    "scrolled": true
   },
   "outputs": [
    {
     "name": "stdout",
     "output_type": "stream",
     "text": [
      "fooayam\n",
      "barayam\n",
      "bazayam\n",
      "quxayam\n",
      "quuxayam\n",
      "corgeayam\n"
     ]
    }
   ],
   "source": [
    "for i in ['foo', 'bar', 'baz', 'qux', 'quux', 'corge']:\n",
    "    print(i+'ayam')"
   ]
  },
  {
   "cell_type": "code",
   "execution_count": 20,
   "id": "a7651798",
   "metadata": {},
   "outputs": [
    {
     "name": "stdout",
     "output_type": "stream",
     "text": [
      "2\n",
      "3\n",
      "4\n",
      "5\n",
      "s\n",
      "t\n",
      "r\n",
      "i\n",
      "n\n",
      "g\n"
     ]
    }
   ],
   "source": [
    "for i in [1,2,3,4]:\n",
    "    print(i+1)\n",
    "    \n",
    "for i in 'string':\n",
    "    print(i)"
   ]
  },
  {
   "cell_type": "markdown",
   "id": "8fb4a0a6",
   "metadata": {},
   "source": [
    "## WHILE\n",
    "\n",
    "looping terus selama expressionnya true"
   ]
  },
  {
   "cell_type": "code",
   "execution_count": 21,
   "id": "874bf4b9",
   "metadata": {},
   "outputs": [
    {
     "name": "stdout",
     "output_type": "stream",
     "text": [
      "4\n",
      "3\n",
      "2\n",
      "1\n",
      "0\n"
     ]
    }
   ],
   "source": [
    "n = 5\n",
    "while n > 0:\n",
    "    n -= 1\n",
    "    print(n)"
   ]
  },
  {
   "cell_type": "code",
   "execution_count": 22,
   "id": "8270f5ee",
   "metadata": {},
   "outputs": [
    {
     "name": "stdout",
     "output_type": "stream",
     "text": [
      "4\n",
      "3\n",
      "2\n",
      "woy tinggal 1 nih hati2 ya\n",
      "0\n"
     ]
    }
   ],
   "source": [
    "apel = 5\n",
    "while apel > 0:\n",
    "    apel -=1\n",
    "    if apel == 1:\n",
    "        print('woy tinggal 1 nih hati2 ya')\n",
    "    else:\n",
    "        print(apel)"
   ]
  },
  {
   "cell_type": "code",
   "execution_count": 24,
   "id": "79fc0423",
   "metadata": {},
   "outputs": [
    {
     "name": "stdout",
     "output_type": "stream",
     "text": [
      "4\n",
      "3\n",
      "loop ended\n"
     ]
    }
   ],
   "source": [
    "#break\n",
    "apel = 5\n",
    "while apel > 0:\n",
    "    apel -=1\n",
    "    if apel == 2:\n",
    "        break\n",
    "    print(apel)\n",
    "print('loop ended')"
   ]
  },
  {
   "cell_type": "code",
   "execution_count": 25,
   "id": "46eaf6f3",
   "metadata": {},
   "outputs": [
    {
     "name": "stdout",
     "output_type": "stream",
     "text": [
      "4\n",
      "3\n",
      "1\n",
      "0\n",
      "loop ended\n"
     ]
    }
   ],
   "source": [
    "#break\n",
    "apel = 5\n",
    "while apel > 0:\n",
    "    apel -=1\n",
    "    if apel == 2:\n",
    "        continue #tetap melanjutkan looping\n",
    "    print(apel)\n",
    "print('loop Done') #print disini dilakukan ketika looping telah selesai"
   ]
  },
  {
   "cell_type": "code",
   "execution_count": 26,
   "id": "570d11d9",
   "metadata": {},
   "outputs": [
    {
     "name": "stdout",
     "output_type": "stream",
     "text": [
      "8\n",
      "6\n",
      "4\n",
      "2\n",
      "0\n",
      "loop ended\n"
     ]
    }
   ],
   "source": [
    "#else\n",
    "apel = 10\n",
    "while apel > 0:\n",
    "    apel -=2\n",
    "    print(apel)\n",
    "else:\n",
    "    print('loop ended') #print disini dilakukan ketika expression while-nya false"
   ]
  },
  {
   "cell_type": "code",
   "execution_count": 27,
   "id": "9ec647f5",
   "metadata": {},
   "outputs": [
    {
     "name": "stdout",
     "output_type": "stream",
     "text": [
      "9\n",
      "8\n",
      "7\n",
      "6\n",
      "5\n",
      "4\n",
      "3\n",
      "2\n"
     ]
    }
   ],
   "source": [
    "#else\n",
    "apel = 10\n",
    "while apel > 0:\n",
    "    apel -=1\n",
    "    print(apel)\n",
    "    if apel == 2:\n",
    "        break\n",
    "else:\n",
    "    print('Loop Ended') #tidak diprint karena looping while selesai tanpa mengalami false expression"
   ]
  },
  {
   "cell_type": "markdown",
   "id": "3382f90d",
   "metadata": {},
   "source": [
    "## NESTED IF - ELSE LOOP\n",
    "\n",
    "berantai"
   ]
  },
  {
   "cell_type": "code",
   "execution_count": 29,
   "id": "2ff15a95",
   "metadata": {},
   "outputs": [
    {
     "name": "stdout",
     "output_type": "stream",
     "text": [
      "Grandpa\n"
     ]
    }
   ],
   "source": [
    "# Nested if\n",
    "umur = 77\n",
    "gender = 'M'\n",
    "if umur < 18:\n",
    "    if gender == 'M':\n",
    "        print('Son')\n",
    "    else:\n",
    "        print('Daughter')\n",
    "if umur >= 18 and umur < 65:\n",
    "    if gender == 'M':\n",
    "        print('Dad')\n",
    "    else:\n",
    "        print('Mom')\n",
    "else:\n",
    "    if gender == 'M':\n",
    "        print('Grandpa')\n",
    "    else:\n",
    "        print('Grandma')"
   ]
  },
  {
   "cell_type": "markdown",
   "id": "c8fc5284",
   "metadata": {},
   "source": [
    "## ONE LINE WHILE LOOPS"
   ]
  },
  {
   "cell_type": "code",
   "execution_count": 32,
   "id": "60ca9fe3",
   "metadata": {},
   "outputs": [
    {
     "name": "stdout",
     "output_type": "stream",
     "text": [
      "4\n",
      "3\n",
      "2\n",
      "1\n",
      "0\n"
     ]
    }
   ],
   "source": [
    "apel = 5\n",
    "while apel>0: apel -=1; print(apel)"
   ]
  },
  {
   "cell_type": "markdown",
   "id": "a6a57a7f",
   "metadata": {},
   "source": [
    "## FOR LOOP\n",
    "\n",
    "akan ngecek objek dulu untuk dilooping"
   ]
  },
  {
   "cell_type": "code",
   "execution_count": 34,
   "id": "a8446f6f",
   "metadata": {},
   "outputs": [
    {
     "name": "stdout",
     "output_type": "stream",
     "text": [
      "1\n",
      "2\n",
      "3\n",
      "4\n",
      "5\n",
      "6\n"
     ]
    }
   ],
   "source": [
    "a = [1,2,3,4,5,6]\n",
    "for i in a:\n",
    "    print(i)"
   ]
  },
  {
   "cell_type": "code",
   "execution_count": 35,
   "id": "a0548324",
   "metadata": {},
   "outputs": [
    {
     "name": "stdout",
     "output_type": "stream",
     "text": [
      "b\n",
      "u\n",
      "d\n",
      "i\n",
      "j\n",
      "o\n",
      "k\n",
      "o\n",
      "a\n",
      "n\n",
      "w\n",
      "a\n",
      "r\n"
     ]
    }
   ],
   "source": [
    "#nested for loop\n",
    "b = ['budi', 'joko', 'anwar']\n",
    "for i in b:\n",
    "    for j in i :\n",
    "        print(j)"
   ]
  },
  {
   "cell_type": "code",
   "execution_count": 36,
   "id": "565400aa",
   "metadata": {},
   "outputs": [
    {
     "name": "stdout",
     "output_type": "stream",
     "text": [
      "b\n",
      "u\n",
      "d\n",
      "i\n",
      "j\n",
      "o\n",
      "k\n",
      "o\n",
      "a\n",
      "n\n",
      "w\n",
      "a\n",
      "r\n"
     ]
    }
   ],
   "source": [
    "#nested for loop\n",
    "b = ['budi', 'joko', 'anwar']\n",
    "for i in b:\n",
    "    if i == 'Joko':\n",
    "        break\n",
    "    for j in i :\n",
    "        print(j)"
   ]
  },
  {
   "cell_type": "code",
   "execution_count": 44,
   "id": "b3bcace9",
   "metadata": {},
   "outputs": [
    {
     "name": "stdout",
     "output_type": "stream",
     "text": [
      "A\n",
      "B\n",
      "C\n"
     ]
    }
   ],
   "source": [
    "# untuk looping dictionary, si i akan menyimpan keysnya\n",
    "dict_a = {'A':'Bekasi', 'B':'Jakarta', 'C':'Medan'}\n",
    "for i in dict_a:\n",
    "    print(i)"
   ]
  },
  {
   "cell_type": "code",
   "execution_count": 55,
   "id": "a70d8342",
   "metadata": {
    "scrolled": true
   },
   "outputs": [
    {
     "name": "stdout",
     "output_type": "stream",
     "text": [
      "Bekasi\n",
      "Jakarta\n",
      "Medan\n"
     ]
    }
   ],
   "source": [
    "# contoh yang diprint value dari dictionarynya \n",
    "dict_a = {'A':'Bekasi', 'B':'Jakarta', 'C':'Medan'}\n",
    "for i in dict_a:\n",
    "    print(dict_a[i])"
   ]
  },
  {
   "cell_type": "code",
   "execution_count": 64,
   "id": "611e8731",
   "metadata": {},
   "outputs": [
    {
     "name": "stdout",
     "output_type": "stream",
     "text": [
      "Bekasi\n",
      "Jakarta\n",
      "Medan\n",
      "A\n",
      "B\n",
      "C\n",
      "dict_items([('A', 'Bekasi'), ('B', 'Jakarta'), ('C', 'Medan')])\n"
     ]
    }
   ],
   "source": [
    "dict_a = {'A':'Bekasi', 'B':'Jakarta', 'C':'Medan'}\n",
    "for i in dict_a.values():\n",
    "    print(i)\n",
    "for i in dict_a.keys():\n",
    "    print(i)\n",
    "    \n",
    "print(dict_a.items())"
   ]
  },
  {
   "cell_type": "code",
   "execution_count": 48,
   "id": "c9675698",
   "metadata": {},
   "outputs": [
    {
     "name": "stdout",
     "output_type": "stream",
     "text": [
      "Aster\n",
      "Hachi\n"
     ]
    }
   ],
   "source": [
    "for i in ['Aster', 'Jubah', 'Nambo', 'Hachi']:\n",
    "    if 'b' in i: #jadi kalau stringnya ada 'b', maka loop akan lanjut ke string selanjutnya(lanjut ke iterasi lainnya)\n",
    "        continue #sintaks untuk for\n",
    "    print(i)"
   ]
  },
  {
   "cell_type": "markdown",
   "id": "da97d59c",
   "metadata": {},
   "source": [
    "bedanya loop sama iterasi berdasarkan contoh di atas, loop adalah berapa kali i diulang, kalau iterasi untuk operasi dari tiap string(perpindahan string)"
   ]
  },
  {
   "cell_type": "code",
   "execution_count": 52,
   "id": "e9ae6f5d",
   "metadata": {},
   "outputs": [
    {
     "name": "stdout",
     "output_type": "stream",
     "text": [
      "Aster\n",
      "Jubah\n",
      "Nambo\n",
      "Hachi\n"
     ]
    }
   ],
   "source": [
    "for i in ['Aster', 'Jubah', 'Nambo', 'Hachi']:\n",
    "    if 'b' in i: \n",
    "        pass\n",
    "    print(i)"
   ]
  },
  {
   "cell_type": "code",
   "execution_count": 54,
   "id": "1aae07a7",
   "metadata": {},
   "outputs": [
    {
     "name": "stdout",
     "output_type": "stream",
     "text": [
      "Aster\n",
      "Jubah\n",
      "Nambo\n",
      "Hachi\n",
      "Loop Done\n"
     ]
    }
   ],
   "source": [
    "for i in ['Aster', 'Jubah', 'Nambo', 'Hachi']:\n",
    "    print(i)\n",
    "else:\n",
    "    print('Loop Done')"
   ]
  },
  {
   "cell_type": "code",
   "execution_count": 58,
   "id": "4ca6b4fc",
   "metadata": {},
   "outputs": [
    {
     "name": "stdout",
     "output_type": "stream",
     "text": [
      "Aster\n"
     ]
    }
   ],
   "source": [
    "for i in ['Aster', 'Jubah', 'Nambo', 'Hachi']:\n",
    "    if 'b' in i:\n",
    "        break\n",
    "    print(i)\n",
    "else:\n",
    "    print('Loop Done')"
   ]
  },
  {
   "cell_type": "code",
   "execution_count": 60,
   "id": "df4be932",
   "metadata": {},
   "outputs": [
    {
     "name": "stdout",
     "output_type": "stream",
     "text": [
      "range(0, 5)\n"
     ]
    }
   ],
   "source": [
    "print(range(5))"
   ]
  },
  {
   "cell_type": "code",
   "execution_count": 63,
   "id": "a8047e20",
   "metadata": {
    "scrolled": true
   },
   "outputs": [
    {
     "name": "stdout",
     "output_type": "stream",
     "text": [
      "1\n",
      "2\n",
      "3\n",
      "4\n",
      "5\n",
      "6\n",
      "7\n",
      "8\n",
      "9\n",
      "10\n"
     ]
    }
   ],
   "source": [
    "for i in range(10):\n",
    "    print(i+1)"
   ]
  },
  {
   "cell_type": "code",
   "execution_count": 67,
   "id": "ffdd77d7",
   "metadata": {},
   "outputs": [
    {
     "name": "stdout",
     "output_type": "stream",
     "text": [
      "1 4\n",
      "5\n",
      "2 5\n",
      "7\n",
      "3 6\n",
      "9\n"
     ]
    }
   ],
   "source": [
    "a = [1,2,3]\n",
    "b = [4,5,6]\n",
    "for i,j in zip(a,b): #zip akan menggabungkan list a dan b menjadi iterable\n",
    "    print(i,j)\n",
    "    print(i+j)"
   ]
  },
  {
   "cell_type": "code",
   "execution_count": 75,
   "id": "0a84466d",
   "metadata": {},
   "outputs": [
    {
     "name": "stdout",
     "output_type": "stream",
     "text": [
      "1 4\n",
      "5\n",
      "2 5\n",
      "7\n",
      "3 6\n",
      "9\n"
     ]
    }
   ],
   "source": [
    "a = [1,2,3]\n",
    "b = [4,5,6]\n",
    "for i,j in zip(a,b): #zip akan menggabungkan list a dan b menjadi iterable\n",
    "    print(i,j)\n",
    "    print(i+j)"
   ]
  },
  {
   "cell_type": "code",
   "execution_count": 72,
   "id": "6aaf1635",
   "metadata": {},
   "outputs": [
    {
     "name": "stdout",
     "output_type": "stream",
     "text": [
      "1\n",
      "Genap\n",
      "3\n",
      "Genap\n",
      "5\n",
      "Genap\n",
      "7\n",
      "Genap\n",
      "9\n",
      "Genap\n",
      "11\n",
      "Genap\n",
      "13\n",
      "Genap\n",
      "15\n",
      "Genap\n",
      "17\n",
      "Genap\n",
      "19\n",
      "Genap\n"
     ]
    }
   ],
   "source": [
    "i = 1\n",
    "while i<21 :\n",
    "    if i%2 != 0:\n",
    "        print(i)\n",
    "    else:\n",
    "        print('Genap')\n",
    "    i +=1"
   ]
  },
  {
   "attachments": {
    "Screenshot%202023-02-24%20220900.png": {
     "image/png": "[encoded data removed]"
    }
   },
   "cell_type": "markdown",
   "id": "f2678f3a",
   "metadata": {},
   "source": [
    "# PR bikin program yang outputnya kaya gini. angka input akan jadi batas akhir(pakai looping) ![Screenshot%202023-02-24%20220900.png](attachment:Screenshot%202023-02-24%20220900.png)"
   ]
  },
  {
   "cell_type": "code",
   "execution_count": null,
   "id": "6c9d67f5",
   "metadata": {},
   "outputs": [],
   "source": [
    "batas = int(input())\n",
    "i = 1\n",
    "while i < batas:\n"
   ]
  }
 ],
 "metadata": {
  "kernelspec": {
   "display_name": "Python 3 (ipykernel)",
   "language": "python",
   "name": "python3"
  },
  "language_info": {
   "codemirror_mode": {
    "name": "ipython",
    "version": 3
   },
   "file_extension": ".py",
   "mimetype": "text/x-python",
   "name": "python",
   "nbconvert_exporter": "python",
   "pygments_lexer": "ipython3",
   "version": "3.9.12"
  }
 },
 "nbformat": 4,
 "nbformat_minor": 5
}
