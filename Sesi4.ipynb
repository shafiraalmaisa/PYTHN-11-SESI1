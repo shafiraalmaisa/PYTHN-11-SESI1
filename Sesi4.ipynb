{
 "cells": [
  {
   "cell_type": "markdown",
   "id": "83c285e7",
   "metadata": {},
   "source": [
    "jawaban quiz kalkulator mentor:"
   ]
  },
  {
   "cell_type": "code",
   "execution_count": 160,
   "id": "952c1cdb",
   "metadata": {},
   "outputs": [
    {
     "name": "stdout",
     "output_type": "stream",
     "text": [
      "masukkan angka1= 2\n",
      "masukkan operator= +\n",
      "masukkan angka2= 2\n",
      "hasil dari 2 + 2  adalah  4\n"
     ]
    }
   ],
   "source": [
    "def calc(a,b,c):\n",
    "    if(a.isnumeric()==True) and (c.isnumeric()==True):\n",
    "        a = int(a)\n",
    "        c = int(c)\n",
    "        if b == 'x':\n",
    "            print('hasil dari', a, b, c, ' adalah ', a*c)\n",
    "        elif b == '+':\n",
    "            print('hasil dari', a, b, c, ' adalah ', a+c)\n",
    "        elif b == ':':\n",
    "            print('hasil dari', a, b, c, ' adalah ', a/c)\n",
    "        elif b == '-':\n",
    "            print('hasil dari', a, b, c, ' adalah ', a-c)\n",
    "        elif b == '^':\n",
    "            print('hasil dari', a, b, c, ' adalah ', a**c)\n",
    "        else:\n",
    "            print('operator', b, 'tidak ditemukan')\n",
    "    else:\n",
    "        print('salah')\n",
    "\n",
    "a = (input('masukkan angka1= '))\n",
    "b = (input('masukkan operator= '))\n",
    "c = (input('masukkan angka2= '))\n",
    "\n",
    "calc(a,b,c)"
   ]
  },
  {
   "cell_type": "markdown",
   "id": "bbf6d32e",
   "metadata": {},
   "source": [
    "## NUMPY"
   ]
  },
  {
   "cell_type": "markdown",
   "id": "1be2be88",
   "metadata": {},
   "source": [
    "array salah satu feature pada python seperti list yang berisi berbagai macam objek."
   ]
  },
  {
   "cell_type": "code",
   "execution_count": 12,
   "id": "4391c648",
   "metadata": {},
   "outputs": [],
   "source": [
    "a = [1,2,3]"
   ]
  },
  {
   "cell_type": "code",
   "execution_count": 13,
   "id": "1f25d540",
   "metadata": {},
   "outputs": [],
   "source": [
    "import numpy as np"
   ]
  },
  {
   "cell_type": "markdown",
   "id": "f3db2d0e",
   "metadata": {},
   "source": [
    "one dimensional array"
   ]
  },
  {
   "cell_type": "code",
   "execution_count": 19,
   "id": "ac1cff2a",
   "metadata": {},
   "outputs": [
    {
     "data": {
      "text/plain": [
       "array([1, 2, 3, 4])"
      ]
     },
     "execution_count": 19,
     "metadata": {},
     "output_type": "execute_result"
    }
   ],
   "source": [
    "arr = np.array([1,2,3,4])\n",
    "arr"
   ]
  },
  {
   "cell_type": "code",
   "execution_count": 21,
   "id": "c1189a21",
   "metadata": {},
   "outputs": [
    {
     "data": {
      "text/plain": [
       "4"
      ]
     },
     "execution_count": 21,
     "metadata": {},
     "output_type": "execute_result"
    }
   ],
   "source": [
    "arr[3]"
   ]
  },
  {
   "cell_type": "code",
   "execution_count": 30,
   "id": "9f54c877",
   "metadata": {},
   "outputs": [
    {
     "data": {
      "text/plain": [
       "array([3, 4])"
      ]
     },
     "execution_count": 30,
     "metadata": {},
     "output_type": "execute_result"
    }
   ],
   "source": [
    "arr[2:]"
   ]
  },
  {
   "cell_type": "code",
   "execution_count": 31,
   "id": "0478360b",
   "metadata": {},
   "outputs": [
    {
     "data": {
      "text/plain": [
       "(4,)"
      ]
     },
     "execution_count": 31,
     "metadata": {},
     "output_type": "execute_result"
    }
   ],
   "source": [
    "arr.shape"
   ]
  },
  {
   "cell_type": "markdown",
   "id": "e1dd373e",
   "metadata": {},
   "source": [
    "two dimensional array\n",
    "\n",
    "consisting list of lists"
   ]
  },
  {
   "cell_type": "code",
   "execution_count": 27,
   "id": "49cfe66e",
   "metadata": {},
   "outputs": [
    {
     "data": {
      "text/plain": [
       "array([[1, 2, 3],\n",
       "       [4, 5, 6],\n",
       "       [7, 8, 9]])"
      ]
     },
     "execution_count": 27,
     "metadata": {},
     "output_type": "execute_result"
    }
   ],
   "source": [
    "lists = [[1,2,3], [4,5,6], [7,8,9]]\n",
    "\n",
    "arr2 = np.array(lists)\n",
    "arr2"
   ]
  },
  {
   "cell_type": "code",
   "execution_count": 32,
   "id": "84e12acd",
   "metadata": {},
   "outputs": [
    {
     "data": {
      "text/plain": [
       "(3, 3)"
      ]
     },
     "execution_count": 32,
     "metadata": {},
     "output_type": "execute_result"
    }
   ],
   "source": [
    "arr2.shape #outputnya (baris, kolom)"
   ]
  },
  {
   "cell_type": "code",
   "execution_count": 34,
   "id": "500f5e24",
   "metadata": {},
   "outputs": [
    {
     "name": "stdout",
     "output_type": "stream",
     "text": [
      "[0. 0. 0. 0. 0. 0. 0. 0.]\n",
      "[[0. 0.]\n",
      " [0. 0.]\n",
      " [0. 0.]]\n"
     ]
    }
   ],
   "source": [
    "# np.zeros\n",
    "print(np.zeros(8)) #one dimensional array\n",
    "print(np.zeros([3,2])) #multi-dimensional array"
   ]
  },
  {
   "cell_type": "code",
   "execution_count": 38,
   "id": "66971b18",
   "metadata": {},
   "outputs": [
    {
     "name": "stdout",
     "output_type": "stream",
     "text": [
      "[1. 1. 1. 1. 1. 1. 1. 1.]\n",
      "[[1. 1.]\n",
      " [1. 1.]\n",
      " [1. 1.]]\n"
     ]
    }
   ],
   "source": [
    "# np.ones\n",
    "print(np.ones(8)) #one dimensional array\n",
    "print(np.ones([3,2])) #two dimensional array"
   ]
  },
  {
   "cell_type": "code",
   "execution_count": 40,
   "id": "aa984fc7",
   "metadata": {},
   "outputs": [
    {
     "data": {
      "text/plain": [
       "array([[1., 1.],\n",
       "       [1., 1.],\n",
       "       [1., 1.]])"
      ]
     },
     "execution_count": 40,
     "metadata": {},
     "output_type": "execute_result"
    }
   ],
   "source": [
    "# np.empty\n",
    "np.empty(5)\n",
    "np.empty((3,2))"
   ]
  },
  {
   "cell_type": "code",
   "execution_count": 46,
   "id": "9668506a",
   "metadata": {},
   "outputs": [
    {
     "name": "stdout",
     "output_type": "stream",
     "text": [
      "[0 1 2 3 4 5 6 7 8 9]\n",
      "[0 2 4 6 8]\n",
      "[ 0  4  8 12 16 20 24 28]\n"
     ]
    }
   ],
   "source": [
    "# np.arange\n",
    "print(np.arange(10))\n",
    "print(np.arange(0,10,2)) #start,stop,step\n",
    "print(np.arange(0,30,4)) #start,stop,step"
   ]
  },
  {
   "cell_type": "code",
   "execution_count": 52,
   "id": "1e5ebabe",
   "metadata": {},
   "outputs": [
    {
     "name": "stdout",
     "output_type": "stream",
     "text": [
      "[ 1  2  3  4  5  6  7  8  9 10 11]\n",
      "[1 2 5 6 7 8 9]\n",
      "[1 2 3 3 4 5 5 8 9]\n"
     ]
    }
   ],
   "source": [
    "c = np.array([1,2,3,4,5,6,7,8,9])\n",
    "d = np.array([3,5,8,2,1,3,9,5,4])\n",
    "\n",
    "print(np.append(c, [10,11]))\n",
    "print(np.delete(c, [2,3]))\n",
    "print(np.sort(d))"
   ]
  },
  {
   "cell_type": "code",
   "execution_count": 57,
   "id": "d1019741",
   "metadata": {},
   "outputs": [
    {
     "name": "stdout",
     "output_type": "stream",
     "text": [
      "1\n",
      "9\n",
      "[[1 2 3]\n",
      " [4 5 6]\n",
      " [7 8 9]]\n"
     ]
    }
   ],
   "source": [
    "#ndim\n",
    "print(c.ndim) #menampilkan jumlah dimensi dari suatu array\n",
    "print(c.size)\n",
    "\n",
    "print(c.reshape(3,3))"
   ]
  },
  {
   "cell_type": "code",
   "execution_count": 60,
   "id": "d3660eb3",
   "metadata": {},
   "outputs": [
    {
     "name": "stdout",
     "output_type": "stream",
     "text": [
      "(1, 4)\n",
      "[[1 2 3 4]]\n"
     ]
    }
   ],
   "source": [
    "arr3 = np.array([[1,2,3,4]]) # dua kurung siku artinya dua dimensi (jadi matriks, udh ada baris)\n",
    "print(arr3.shape) #outputnya 1 baris 4 kolom\n",
    "print(arr3)"
   ]
  },
  {
   "cell_type": "code",
   "execution_count": 61,
   "id": "6dc48c72",
   "metadata": {},
   "outputs": [
    {
     "name": "stdout",
     "output_type": "stream",
     "text": [
      "(3, 1)\n"
     ]
    }
   ],
   "source": [
    "# np.newaxis untuk nambah axis baru\n",
    "arr4 = np.array([4,5,6])\n",
    "arr4[np.newaxis]\n",
    "print(arr4[:, np.newaxis].shape)"
   ]
  },
  {
   "cell_type": "code",
   "execution_count": 65,
   "id": "6ceac0c4",
   "metadata": {},
   "outputs": [
    {
     "name": "stdout",
     "output_type": "stream",
     "text": [
      "[[3]\n",
      " [4]\n",
      " [5]\n",
      " [6]\n",
      " [7]\n",
      " [8]\n",
      " [9]]\n",
      "(7, 1)\n",
      "[[3 4 5 6 7 8 9]]\n",
      "(1, 7)\n"
     ]
    }
   ],
   "source": [
    "arr7 = np.array([3,4,5,6,7,8,9])\n",
    "arr8 = np.expand_dims(arr7, axis=1)\n",
    "arr9 = np.expand_dims(arr7, axis=0)\n",
    "print(arr8)\n",
    "print(arr8.shape)\n",
    "print(arr9)\n",
    "print(arr9.shape)"
   ]
  },
  {
   "cell_type": "code",
   "execution_count": 69,
   "id": "bd720245",
   "metadata": {},
   "outputs": [
    {
     "name": "stdout",
     "output_type": "stream",
     "text": [
      "[ 6  8 10 12 14 16 18]\n",
      "[ 5  6  7  8  9 10 11]\n"
     ]
    }
   ],
   "source": [
    "arr7 = np.array([3,4,5,6,7,8,9])\n",
    "print(arr7*2)\n",
    "print(arr7+2)"
   ]
  },
  {
   "cell_type": "code",
   "execution_count": 70,
   "id": "c3f707f5",
   "metadata": {},
   "outputs": [
    {
     "name": "stdout",
     "output_type": "stream",
     "text": [
      "[[-3 -2 -1]\n",
      " [ 0  1  2]]\n"
     ]
    }
   ],
   "source": [
    "arr10 = np.array([[1,2,3], [4,5,6]])\n",
    "print(arr10-4)"
   ]
  },
  {
   "cell_type": "code",
   "execution_count": 73,
   "id": "782ca752",
   "metadata": {},
   "outputs": [
    {
     "name": "stdout",
     "output_type": "stream",
     "text": [
      "[6 7 8 9]\n",
      "[3 4 5]\n"
     ]
    }
   ],
   "source": [
    "arr7 = np.array([3,4,5,6,7,8,9])\n",
    "print(arr7[arr7>5])\n",
    "print(arr7[arr7<=5])"
   ]
  },
  {
   "cell_type": "code",
   "execution_count": 77,
   "id": "d1891d2d",
   "metadata": {
    "scrolled": true
   },
   "outputs": [
    {
     "name": "stdout",
     "output_type": "stream",
     "text": [
      "[ 7  8  9 10]\n"
     ]
    }
   ],
   "source": [
    "arr11 = np.array([[3,5,7], [8,9,10], [-1, -2, -3]])\n",
    "arr11.shape\n",
    "print(arr11[arr11>5])"
   ]
  },
  {
   "cell_type": "markdown",
   "id": "67d7e6dc",
   "metadata": {},
   "source": [
    "## QUIZ hourglass\n",
    "\n",
    "belum selesai"
   ]
  },
  {
   "cell_type": "code",
   "execution_count": 98,
   "id": "5712683b",
   "metadata": {},
   "outputs": [
    {
     "name": "stdout",
     "output_type": "stream",
     "text": [
      "How tall? 10\n",
      "         * * * * * * * * *           * \n",
      "          * * \n",
      "          * * * \n",
      "          * * * * \n",
      "          * * * * * \n",
      "          * * * * * * \n",
      "          * * * * * * * \n",
      "          * * * * * * * * \n",
      "          * * * * * * * * * \n",
      "          * * * * * * * * * * \n"
     ]
    }
   ],
   "source": [
    "tall = int(input('How tall? '))\n",
    "\n",
    "if tall % 2 == 0:\n",
    "    for i in range(tall-1):\n",
    "        print(' ', end='')\n",
    "    for k in range(tall-1):\n",
    "        print('* ', end='')\n",
    "for i in range(tall):\n",
    "    print(' ' * (tall), end='')\n",
    "    print('* '*(i+1))"
   ]
  },
  {
   "cell_type": "code",
   "execution_count": 102,
   "id": "6de7554c",
   "metadata": {},
   "outputs": [
    {
     "name": "stdout",
     "output_type": "stream",
     "text": [
      "[[ 3  4  5  6  7]\n",
      " [ 3  4  5  6 10]]\n"
     ]
    }
   ],
   "source": [
    "arr0 = np.array([3,4,5,6,7])\n",
    "arr78 = np.array([3,4,5,6,10])\n",
    "print(np.vstack([arr0, arr78]))"
   ]
  },
  {
   "cell_type": "code",
   "execution_count": 106,
   "id": "f6123cbf",
   "metadata": {},
   "outputs": [
    {
     "data": {
      "text/plain": [
       "[array([3, 4, 5]), array([6, 7, 8])]"
      ]
     },
     "execution_count": 106,
     "metadata": {},
     "output_type": "execute_result"
    }
   ],
   "source": [
    "arr0 = np.array([3,4,5,6,7,8])\n",
    "arr0_splt = np.hsplit(arr0,2)\n",
    "(arr0_splt)"
   ]
  },
  {
   "cell_type": "code",
   "execution_count": 111,
   "id": "fd2cb1fe",
   "metadata": {},
   "outputs": [
    {
     "name": "stdout",
     "output_type": "stream",
     "text": [
      "[[ 3  4  5  6]\n",
      " [ 7  8  9 10]]\n",
      "[array([[3, 4],\n",
      "       [7, 8]]), array([[ 5,  6],\n",
      "       [ 9, 10]])]\n",
      "[array([[3, 4, 5, 6]]), array([[ 7,  8,  9, 10]])]\n"
     ]
    }
   ],
   "source": [
    "arr01 = np.array([[3,4,5,6],[7,8,9,10]])\n",
    "print(arr01)\n",
    "print(np.hsplit(arr01, 2))\n",
    "print(np.vsplit(arr01, 2))"
   ]
  },
  {
   "cell_type": "markdown",
   "id": "3e216f77",
   "metadata": {},
   "source": [
    "operaasi aritmetik antar 2 array"
   ]
  },
  {
   "cell_type": "code",
   "execution_count": 121,
   "id": "c66db00d",
   "metadata": {},
   "outputs": [
    {
     "name": "stdout",
     "output_type": "stream",
     "text": [
      "[4 6 8]\n",
      "6\n",
      "1\n",
      "3\n"
     ]
    }
   ],
   "source": [
    "arrayA=np.array([1,2,3])\n",
    "arrayB = np.array([3,4,5])\n",
    "print(arrayA+arrayB)\n",
    "print(arrayA.sum())\n",
    "print(arrayA.min())\n",
    "print(arrayA.max())"
   ]
  },
  {
   "cell_type": "code",
   "execution_count": 118,
   "id": "2e983085",
   "metadata": {},
   "outputs": [
    {
     "name": "stdout",
     "output_type": "stream",
     "text": [
      "[[-2 -2 -2]\n",
      " [-2 -2 -2]]\n",
      "21\n"
     ]
    }
   ],
   "source": [
    "arrayC=np.array([[1,2,3], [4,5,6]])\n",
    "arrayD = np.array([[3,4,5], [6,7,8]])\n",
    "print(arrayC-arrayD)\n",
    "print(arrayC.sum())"
   ]
  },
  {
   "cell_type": "code",
   "execution_count": 122,
   "id": "57b642f1",
   "metadata": {},
   "outputs": [
    {
     "name": "stdout",
     "output_type": "stream",
     "text": [
      "[5 7 9]\n",
      "[ 6 15]\n",
      "[3 6]\n",
      "[1 4]\n"
     ]
    }
   ],
   "source": [
    "print(arrayC.sum(axis=0))\n",
    "print(arrayC.sum(axis=1))\n",
    "print(arrayC.max(axis=1))\n",
    "print(arrayC.min(axis=1))"
   ]
  },
  {
   "cell_type": "markdown",
   "id": "990a216c",
   "metadata": {},
   "source": [
    "## transposing"
   ]
  },
  {
   "cell_type": "code",
   "execution_count": 123,
   "id": "07a35413",
   "metadata": {},
   "outputs": [
    {
     "name": "stdout",
     "output_type": "stream",
     "text": [
      "[[1 2 3]\n",
      " [4 5 6]]\n",
      "(2, 3)\n"
     ]
    }
   ],
   "source": [
    "arrayC=np.array([[1,2,3], [4,5,6]])\n",
    "print(arrayC)\n",
    "print(arrayC.shape)"
   ]
  },
  {
   "cell_type": "code",
   "execution_count": 125,
   "id": "6765b02a",
   "metadata": {},
   "outputs": [
    {
     "name": "stdout",
     "output_type": "stream",
     "text": [
      "[[1 4]\n",
      " [2 5]\n",
      " [3 6]]\n",
      "(3, 2)\n"
     ]
    }
   ],
   "source": [
    "print(arrayC.T)\n",
    "print(arrayC.T.shape)"
   ]
  },
  {
   "cell_type": "code",
   "execution_count": 127,
   "id": "80b5552b",
   "metadata": {},
   "outputs": [
    {
     "name": "stdout",
     "output_type": "stream",
     "text": [
      "[[ 1  4  7]\n",
      " [ 2  5  8]\n",
      " [ 3  6  9]\n",
      " [ 4  7 10]\n",
      " [ 5  8 11]]\n",
      "(5, 3)\n"
     ]
    }
   ],
   "source": [
    "arrayE = np.array([[1,2,3,4,5], [4,5,6,7,8], [7,8,9,10,11]])\n",
    "print(arrayE.T)\n",
    "print(arrayE.T.shape)"
   ]
  },
  {
   "cell_type": "code",
   "execution_count": 128,
   "id": "64ab47d2",
   "metadata": {},
   "outputs": [
    {
     "data": {
      "text/plain": [
       "array([[0.11743288, 0.42216037],\n",
       "       [0.13570829, 0.75736842],\n",
       "       [0.16753888, 0.89523679]])"
      ]
     },
     "execution_count": 128,
     "metadata": {},
     "output_type": "execute_result"
    }
   ],
   "source": [
    "np.random.random([3,2])"
   ]
  },
  {
   "cell_type": "code",
   "execution_count": 131,
   "id": "aeed2687",
   "metadata": {},
   "outputs": [
    {
     "name": "stdout",
     "output_type": "stream",
     "text": [
      "[[62.08337575 16.40427163]\n",
      " [80.54252868 32.52672626]\n",
      " [68.44867439 54.16938065]]\n"
     ]
    }
   ],
   "source": [
    "arrRandom = np.random.random([3,2])*100 #akan berubah setiap dirubah\n",
    "print(arrRandom)"
   ]
  },
  {
   "cell_type": "code",
   "execution_count": 153,
   "id": "84f139be",
   "metadata": {},
   "outputs": [
    {
     "data": {
      "text/plain": [
       "81"
      ]
     },
     "execution_count": 153,
     "metadata": {},
     "output_type": "execute_result"
    }
   ],
   "source": [
    "np.square(9)"
   ]
  },
  {
   "cell_type": "code",
   "execution_count": 154,
   "id": "46e1e570",
   "metadata": {},
   "outputs": [
    {
     "data": {
      "text/plain": [
       "3.0"
      ]
     },
     "execution_count": 154,
     "metadata": {},
     "output_type": "execute_result"
    }
   ],
   "source": [
    "np.sqrt(9)"
   ]
  },
  {
   "cell_type": "code",
   "execution_count": 158,
   "id": "ad42ef5c",
   "metadata": {},
   "outputs": [
    {
     "name": "stdout",
     "output_type": "stream",
     "text": [
      "13.815510557964274\n"
     ]
    }
   ],
   "source": [
    "a = np.log(1000000) #logaritma\n",
    "print(a)"
   ]
  },
  {
   "cell_type": "code",
   "execution_count": 157,
   "id": "7c1de63e",
   "metadata": {},
   "outputs": [
    {
     "data": {
      "text/plain": [
       "999999.9999999995"
      ]
     },
     "execution_count": 157,
     "metadata": {},
     "output_type": "execute_result"
    }
   ],
   "source": [
    "np.exp(a) #exponential values"
   ]
  },
  {
   "cell_type": "markdown",
   "id": "f27824d7",
   "metadata": {},
   "source": [
    "## QUIZ PRIMA"
   ]
  },
  {
   "cell_type": "code",
   "execution_count": 150,
   "id": "dc4b5310",
   "metadata": {},
   "outputs": [
    {
     "name": "stdout",
     "output_type": "stream",
     "text": [
      "Please, enter the lowest range value: 1\n",
      "Please, enter the upper range value: 20\n",
      "The prime numbers in the range are: \n",
      "2\n",
      "3\n",
      "5\n",
      "7\n",
      "11\n",
      "13\n",
      "17\n",
      "19\n"
     ]
    }
   ],
   "source": [
    "lowest = int(input('Please, enter the lowest range value: '))\n",
    "upper = int(input('Please, enter the upper range value: '))\n",
    "print('The prime numbers in the range are: ')\n",
    "for i in range(lowest, upper+1):\n",
    "    if i == 1:\n",
    "        continue\n",
    "    if i == 2 or i == 3 or i == 5 or i ==7:\n",
    "        print(i)\n",
    "    if i % 2 !=0:\n",
    "            if i % 3 !=0:\n",
    "                 if i % 5 !=0:\n",
    "                        if i % 7 !=0:\n",
    "                            print(i)"
   ]
  }
 ],
 "metadata": {
  "kernelspec": {
   "display_name": "Python 3 (ipykernel)",
   "language": "python",
   "name": "python3"
  },
  "language_info": {
   "codemirror_mode": {
    "name": "ipython",
    "version": 3
   },
   "file_extension": ".py",
   "mimetype": "text/x-python",
   "name": "python",
   "nbconvert_exporter": "python",
   "pygments_lexer": "ipython3",
   "version": "3.9.12"
  }
 },
 "nbformat": 4,
 "nbformat_minor": 5
}
