{
 "cells": [
  {
   "cell_type": "markdown",
   "id": "c1422b70",
   "metadata": {},
   "source": [
    "variable"
   ]
  },
  {
   "cell_type": "code",
   "execution_count": 1,
   "id": "bfd313de",
   "metadata": {
    "scrolled": true
   },
   "outputs": [
    {
     "name": "stdout",
     "output_type": "stream",
     "text": [
      "Bekasi 300 300 300\n"
     ]
    }
   ],
   "source": [
    "rumah = 'Bekasi'\n",
    "a = b = c = 300\n",
    "\n",
    "print(rumah, a, b, c)"
   ]
  },
  {
   "cell_type": "markdown",
   "id": "0378ddaa",
   "metadata": {},
   "source": [
    "## Operators"
   ]
  },
  {
   "cell_type": "code",
   "execution_count": 4,
   "id": "dc7f7f9d",
   "metadata": {},
   "outputs": [
    {
     "name": "stdout",
     "output_type": "stream",
     "text": [
      "30 -10 200\n",
      "0.5 <class 'float'>\n",
      "0 <class 'int'>\n"
     ]
    }
   ],
   "source": [
    "a = 10\n",
    "b = 20\n",
    "print(a+b, a-b, a*b)\n",
    "print(a/b, type(a/b)) #float\n",
    "print(a//b, type(a//b)) #integer dibulatkan ke bawah"
   ]
  },
  {
   "cell_type": "code",
   "execution_count": 5,
   "id": "d6ea1558",
   "metadata": {},
   "outputs": [
    {
     "name": "stdout",
     "output_type": "stream",
     "text": [
      "3.5\n",
      "1\n"
     ]
    }
   ],
   "source": [
    "# modulo (%)\n",
    "print(7/2)\n",
    "print(7%2)"
   ]
  },
  {
   "cell_type": "markdown",
   "id": "d933bca9",
   "metadata": {},
   "source": [
    "QUIS 1, konversi derajat celcius ke fahrenheit"
   ]
  },
  {
   "cell_type": "code",
   "execution_count": null,
   "id": "8e9c7905",
   "metadata": {},
   "outputs": [],
   "source": [
    "cel = 30\n",
    "F = (cel * (9/5)) + 32\n",
    "print (F)"
   ]
  },
  {
   "cell_type": "markdown",
   "id": "70caaf16",
   "metadata": {},
   "source": [
    "comparison operators"
   ]
  },
  {
   "cell_type": "code",
   "execution_count": 9,
   "id": "a2bd50ef",
   "metadata": {},
   "outputs": [
    {
     "name": "stdout",
     "output_type": "stream",
     "text": [
      "False\n",
      "True\n",
      "False\n",
      "True\n",
      "True\n",
      "False\n"
     ]
    }
   ],
   "source": [
    "c = 10\n",
    "d = 20\n",
    "e = 10\n",
    "\n",
    "print(c==d)\n",
    "print(c==e)\n",
    "print(c>=d)\n",
    "print (c<=e)\n",
    "print(c!=d)\n",
    "print(c!=e)"
   ]
  },
  {
   "cell_type": "code",
   "execution_count": 10,
   "id": "d6a74122",
   "metadata": {},
   "outputs": [
    {
     "name": "stdout",
     "output_type": "stream",
     "text": [
      "True\n",
      "False\n"
     ]
    }
   ],
   "source": [
    "gedung1 = 'bekasi'\n",
    "gedung2 = 'jakarta'\n",
    "gedung3 = 'jakarta'\n",
    "print(gedung1!=gedung2)\n",
    "print(gedung3!=gedung2)"
   ]
  },
  {
   "cell_type": "code",
   "execution_count": 12,
   "id": "0ba4f1c1",
   "metadata": {},
   "outputs": [
    {
     "name": "stdout",
     "output_type": "stream",
     "text": [
      "foobar foobarbaz foobazbar\n",
      "foofoofoofoo\n"
     ]
    }
   ],
   "source": [
    "s = 'foo'\n",
    "t = 'bar'\n",
    "u = 'baz'\n",
    "\n",
    "print (s+t, s+t+u, s+u+t)\n",
    "print(s*4)"
   ]
  },
  {
   "cell_type": "code",
   "execution_count": 13,
   "id": "7a50cd75",
   "metadata": {},
   "outputs": [
    {
     "name": "stdout",
     "output_type": "stream",
     "text": [
      "True\n",
      "False\n"
     ]
    }
   ],
   "source": [
    "a = 'buah'\n",
    "print(a in 'Saya mau beli buah')\n",
    "print(a in 'Saya mau beli singkong')"
   ]
  },
  {
   "cell_type": "code",
   "execution_count": 17,
   "id": "9587ec53",
   "metadata": {},
   "outputs": [
    {
     "name": "stdout",
     "output_type": "stream",
     "text": [
      "BUAH\n",
      "buah\n",
      "Sayac\n",
      "Saya mau makan\n",
      "Saya Mau Makan\n",
      "SaYa mAU MAkAN\n"
     ]
    }
   ],
   "source": [
    "#Case conversion\n",
    "a='buah'\n",
    "print(a.upper())\n",
    "b='BUAH'\n",
    "print(b.lower())\n",
    "c = 'sAyAC'\n",
    "print(c.capitalize())\n",
    "d = 'sAyA Mau maKan'\n",
    "print(d.capitalize())\n",
    "print(d.title())\n",
    "print(d.swapcase())"
   ]
  },
  {
   "cell_type": "markdown",
   "id": "3b33bc7b",
   "metadata": {},
   "source": [
    "## Python List"
   ]
  },
  {
   "cell_type": "code",
   "execution_count": 18,
   "id": "7aee79f7",
   "metadata": {},
   "outputs": [
    {
     "name": "stdout",
     "output_type": "stream",
     "text": [
      "['saya', 'mau', 'makan']\n"
     ]
    }
   ],
   "source": [
    "a = ['saya', 'mau', 'makan']\n",
    "print(a)"
   ]
  },
  {
   "cell_type": "code",
   "execution_count": 20,
   "id": "b7efc77d",
   "metadata": {},
   "outputs": [
    {
     "name": "stdout",
     "output_type": "stream",
     "text": [
      "['saya', 1, True, 3.7]\n",
      "<class 'bool'>\n"
     ]
    }
   ],
   "source": [
    "b = ['saya', 1, True, 3.7]\n",
    "print(b)\n",
    "print(type(b[2]))"
   ]
  },
  {
   "cell_type": "code",
   "execution_count": 25,
   "id": "bbb8ccbc",
   "metadata": {},
   "outputs": [
    {
     "name": "stdout",
     "output_type": "stream",
     "text": [
      "False\n",
      "saya mau mau\n"
     ]
    }
   ],
   "source": [
    "c = ['makan', 'mau', 'saya']\n",
    "print(a==c)\n",
    "print(c[-1], c[-2], c[1])\n",
    "#index depan dimulai dari 0, dari belakang mulai dari -1"
   ]
  },
  {
   "cell_type": "code",
   "execution_count": 32,
   "id": "b094d22a",
   "metadata": {},
   "outputs": [
    {
     "name": "stdout",
     "output_type": "stream",
     "text": [
      "['meow', 'bulan']\n",
      "['makan', 'mau', 'saya', 'meow', 'bulan']\n",
      "['mau', 'saya', 'meow', 'bulan', 'bintang']\n"
     ]
    }
   ],
   "source": [
    "e = ['makan', 'mau', 'saya', 'meow', 'bulan', 'bintang']\n",
    "print(e[3:5])\n",
    "print(e[:5])\n",
    "print(e[1:])"
   ]
  },
  {
   "cell_type": "code",
   "execution_count": 39,
   "id": "2abdf7b9",
   "metadata": {},
   "outputs": [
    {
     "name": "stdout",
     "output_type": "stream",
     "text": [
      "hail\n",
      "hakiandra Kama\n",
      "hid mi\n",
      "liaa rniaT\n"
     ]
    }
   ],
   "source": [
    "x = 'shaila'\n",
    "y = 'Thakiandra Kamaliel'\n",
    "print(x[1:5])\n",
    "print(y[1:15])\n",
    "print(y[1::3]) #lompat 3\n",
    "print(y[::-2]) #reverse"
   ]
  },
  {
   "cell_type": "code",
   "execution_count": 53,
   "id": "129901d0",
   "metadata": {},
   "outputs": [
    {
     "name": "stdout",
     "output_type": "stream",
     "text": [
      "i\n",
      "omi\n",
      "tmen\n",
      "kmte\n",
      "kmtn\n"
     ]
    },
    {
     "ename": "ValueError",
     "evalue": "'n' is not in list",
     "output_type": "error",
     "traceback": [
      "\u001b[1;31m---------------------------------------------------------------------------\u001b[0m",
      "\u001b[1;31mValueError\u001b[0m                                Traceback (most recent call last)",
      "Input \u001b[1;32mIn [53]\u001b[0m, in \u001b[0;36m<cell line: 7>\u001b[1;34m()\u001b[0m\n\u001b[0;32m      5\u001b[0m \u001b[38;5;28mprint\u001b[39m(\u001b[38;5;28mstr\u001b[39m[::\u001b[38;5;241m2\u001b[39m])\n\u001b[0;32m      6\u001b[0m \u001b[38;5;28mprint\u001b[39m(\u001b[38;5;28mstr\u001b[39m[\u001b[38;5;241m0\u001b[39m]\u001b[38;5;241m+\u001b[39m\u001b[38;5;28mstr\u001b[39m[\u001b[38;5;241m2\u001b[39m]\u001b[38;5;241m+\u001b[39m\u001b[38;5;28mstr\u001b[39m[\u001b[38;5;241m4\u001b[39m]\u001b[38;5;241m+\u001b[39m\u001b[38;5;28mstr\u001b[39m[\u001b[38;5;241m7\u001b[39m])\n\u001b[1;32m----> 7\u001b[0m \u001b[38;5;28mprint\u001b[39m(\u001b[38;5;28mstr\u001b[39m[\u001b[38;5;241m0\u001b[39m:\u001b[38;5;241m5\u001b[39m:\u001b[38;5;241m2\u001b[39m]\u001b[38;5;241m+\u001b[39ma[\u001b[43ma\u001b[49m\u001b[38;5;241;43m.\u001b[39;49m\u001b[43mindex\u001b[49m\u001b[43m(\u001b[49m\u001b[38;5;124;43m'\u001b[39;49m\u001b[38;5;124;43mn\u001b[39;49m\u001b[38;5;124;43m'\u001b[39;49m\u001b[43m)\u001b[49m])\n",
      "\u001b[1;31mValueError\u001b[0m: 'n' is not in list"
     ]
    }
   ],
   "source": [
    "str = 'komitmen'\n",
    "print(str[3])\n",
    "print(str[1:4])\n",
    "print(str[4:])\n",
    "print(str[::2])\n",
    "print(str[0]+str[2]+str[4]+str[7])\n",
    "print(str[0:5:2]+a[a.index('n')])"
   ]
  },
  {
   "cell_type": "code",
   "execution_count": 55,
   "id": "b8866e14",
   "metadata": {
    "scrolled": true
   },
   "outputs": [
    {
     "ename": "ValueError",
     "evalue": "'mau' is not in list",
     "output_type": "error",
     "traceback": [
      "\u001b[1;31m---------------------------------------------------------------------------\u001b[0m",
      "\u001b[1;31mValueError\u001b[0m                                Traceback (most recent call last)",
      "Input \u001b[1;32mIn [55]\u001b[0m, in \u001b[0;36m<cell line: 4>\u001b[1;34m()\u001b[0m\n\u001b[0;32m      1\u001b[0m e \u001b[38;5;241m=\u001b[39m [\u001b[38;5;124m'\u001b[39m\u001b[38;5;124mmakan\u001b[39m\u001b[38;5;124m'\u001b[39m, \u001b[38;5;124m'\u001b[39m\u001b[38;5;124mmau\u001b[39m\u001b[38;5;124m'\u001b[39m, \u001b[38;5;124m'\u001b[39m\u001b[38;5;124msaya\u001b[39m\u001b[38;5;124m'\u001b[39m, \u001b[38;5;124m'\u001b[39m\u001b[38;5;124mmeow\u001b[39m\u001b[38;5;124m'\u001b[39m, \u001b[38;5;124m'\u001b[39m\u001b[38;5;124mbulan\u001b[39m\u001b[38;5;124m'\u001b[39m, \u001b[38;5;124m'\u001b[39m\u001b[38;5;124mbintang\u001b[39m\u001b[38;5;124m'\u001b[39m]\n\u001b[0;32m      2\u001b[0m e[e\u001b[38;5;241m.\u001b[39mindex(\u001b[38;5;124m'\u001b[39m\u001b[38;5;124mmau\u001b[39m\u001b[38;5;124m'\u001b[39m)] \u001b[38;5;241m=\u001b[39m \u001b[38;5;241m20\u001b[39m\n\u001b[1;32m----> 4\u001b[0m \u001b[38;5;28;01mdel\u001b[39;00m e[\u001b[43me\u001b[49m\u001b[38;5;241;43m.\u001b[39;49m\u001b[43mindex\u001b[49m\u001b[43m(\u001b[49m\u001b[38;5;124;43m'\u001b[39;49m\u001b[38;5;124;43mmau\u001b[39;49m\u001b[38;5;124;43m'\u001b[39;49m\u001b[43m)\u001b[49m]\n\u001b[0;32m      5\u001b[0m \u001b[38;5;28mprint\u001b[39m(a)\n",
      "\u001b[1;31mValueError\u001b[0m: 'mau' is not in list"
     ]
    }
   ],
   "source": [
    "e = ['makan', 'mau', 'saya', 'meow', 'bulan', 'bintang']\n",
    "e[e.index('mau')] = 20\n",
    "\n",
    "del e[e.index('mau')]\n",
    "print(a)"
   ]
  },
  {
   "cell_type": "markdown",
   "id": "103dcde2",
   "metadata": {},
   "source": [
    "## tuple"
   ]
  },
  {
   "cell_type": "code",
   "execution_count": 56,
   "id": "571eaa04",
   "metadata": {},
   "outputs": [
    {
     "name": "stdout",
     "output_type": "stream",
     "text": [
      "<class 'tuple'>\n"
     ]
    }
   ],
   "source": [
    "h = ('makan', 'mau', 'saya', 'meow', 'bulan', 'bintang')\n",
    "print(type(h)) #tuple tidak bisa diakses"
   ]
  },
  {
   "cell_type": "markdown",
   "id": "a97725a5",
   "metadata": {},
   "source": [
    "## dictionary"
   ]
  },
  {
   "cell_type": "code",
   "execution_count": 60,
   "id": "dc2b5957",
   "metadata": {},
   "outputs": [],
   "source": [
    "MLB_team = {\n",
    "    'Colorado':'Rockies',\n",
    "    'Boston':'Red Sox',\n",
    "    'Minnesota':'Twins',\n",
    "    'Milwaukee':'Brewers',\n",
    "    'Seattle':'Mariners'\n",
    "}"
   ]
  },
  {
   "cell_type": "code",
   "execution_count": 61,
   "id": "5dfca944",
   "metadata": {
    "scrolled": true
   },
   "outputs": [
    {
     "name": "stdout",
     "output_type": "stream",
     "text": [
      "Rockies\n",
      "Red Sox\n",
      "{'Colorado': 'Rockies', 'Boston': 'Red Sox', 'Minnesota': 'Twins', 'Milwaukee': 'Brewers', 'Seattle': 'Mariners', 'Kansas City': 'Royals'}\n"
     ]
    }
   ],
   "source": [
    "print(MLB_team['Colorado'])\n",
    "print(MLB_team['Boston'])\n",
    "\n",
    "MLB_team['Kansas City'] ='Royals'\n",
    "print(MLB_team)"
   ]
  },
  {
   "cell_type": "code",
   "execution_count": 63,
   "id": "d5008c65",
   "metadata": {},
   "outputs": [
    {
     "name": "stdout",
     "output_type": "stream",
     "text": [
      "{'Colorado': 'Rockies', 'Boston': 'Red Sox', 'Minnesota': 'Twins', 'Milwaukee': 'Brewers', 'Seattle': 'Seahawks', 'Kansas City': 'Royals'}\n"
     ]
    }
   ],
   "source": [
    "#update\n",
    "MLB_team['Seattle'] ='Seahawks'\n",
    "print(MLB_team)"
   ]
  },
  {
   "cell_type": "code",
   "execution_count": 64,
   "id": "fe25fb9b",
   "metadata": {
    "scrolled": true
   },
   "outputs": [
    {
     "name": "stdout",
     "output_type": "stream",
     "text": [
      "{'Colorado': 'Rockies', 'Boston': 'Red Sox', 'Minnesota': 'Twins', 'Milwaukee': 'Brewers', 'Seattle': 'Seahawks'}\n"
     ]
    }
   ],
   "source": [
    "del MLB_team['Kansas City']\n",
    "print(MLB_team)"
   ]
  },
  {
   "cell_type": "code",
   "execution_count": 68,
   "id": "b18e9ea1",
   "metadata": {},
   "outputs": [
    {
     "data": {
      "text/plain": [
       "{'Nama': 'Budi',\n",
       " 'Kota': 'Solo',\n",
       " 'Umur': 32,\n",
       " 'Anak': ['Budi', 'Sarah', 'Syifa'],\n",
       " 'Kendaraan': {'mobil': 'Innova', 'motor': 'mio'}}"
      ]
     },
     "execution_count": 68,
     "metadata": {},
     "output_type": "execute_result"
    }
   ],
   "source": [
    "orang = {}\n",
    "orang['Nama'] ='Budi'\n",
    "orang['Kota'] = 'Solo'\n",
    "orang['Umur'] = 32\n",
    "orang['Anak'] = ['Budi', 'Sarah', 'Syifa']\n",
    "orang['Kendaraan'] = {'mobil':'Innova', 'motor':'mio'}\n",
    "orang"
   ]
  },
  {
   "cell_type": "code",
   "execution_count": 69,
   "id": "e431ccea",
   "metadata": {},
   "outputs": [
    {
     "name": "stdout",
     "output_type": "stream",
     "text": [
      "mio\n"
     ]
    }
   ],
   "source": [
    "print(orang['Kendaraan']['motor'])"
   ]
  },
  {
   "cell_type": "code",
   "execution_count": 70,
   "id": "4e1f9366",
   "metadata": {},
   "outputs": [
    {
     "name": "stdout",
     "output_type": "stream",
     "text": [
      "['Budi', 'Sarah']\n"
     ]
    }
   ],
   "source": [
    "print(orang['Anak'][0:2])"
   ]
  },
  {
   "cell_type": "markdown",
   "id": "cd45add2",
   "metadata": {},
   "source": [
    "## Line Continuation"
   ]
  },
  {
   "cell_type": "code",
   "execution_count": 72,
   "id": "8018b53b",
   "metadata": {},
   "outputs": [
    {
     "name": "stdout",
     "output_type": "stream",
     "text": [
      "True\n",
      "True\n"
     ]
    }
   ],
   "source": [
    "umur1 = 42\n",
    "umur2 = 16\n",
    "umur3 = 71\n",
    "\n",
    "print(umur1>=18 or umur2<=15)\n",
    "print(umur3 <= 50 and umur1>=18 or umur2<=20 and umur3 >=50)"
   ]
  },
  {
   "cell_type": "markdown",
   "id": "e6f4781f",
   "metadata": {},
   "source": [
    "## Materi Tambahan"
   ]
  },
  {
   "cell_type": "code",
   "execution_count": 84,
   "id": "2810adbf",
   "metadata": {},
   "outputs": [
    {
     "name": "stdout",
     "output_type": "stream",
     "text": [
      "['Toyota', 'Kijang', 'Tsuzu']\n"
     ]
    }
   ],
   "source": [
    "mobil = ['Toyota', 'Kijang']\n",
    "mobil.append('Tsuzu')\n",
    "print(mobil)"
   ]
  },
  {
   "cell_type": "code",
   "execution_count": 85,
   "id": "14a71fbc",
   "metadata": {},
   "outputs": [
    {
     "name": "stdout",
     "output_type": "stream",
     "text": [
      "['Toyota', 'Kijang', 'Tsuzu']\n"
     ]
    }
   ],
   "source": [
    "kendaraan = mobil.copy() #untuk copy isi mobil ke kendaraan, jika kendaraan diappend mobil tidak akan ikut terapppend\n",
    "print(kendaraan)         #kalau ga pakai copy, append kendaraan akan ikut terappend ke mobil"
   ]
  },
  {
   "cell_type": "code",
   "execution_count": 86,
   "id": "82a21549",
   "metadata": {
    "scrolled": true
   },
   "outputs": [
    {
     "name": "stdout",
     "output_type": "stream",
     "text": [
      "['Toyota', 'Kijang', 'Tsuzu', 'Innova']\n",
      "['Toyota', 'Kijang', 'Tsuzu']\n"
     ]
    }
   ],
   "source": [
    "kendaraan.append('Innova')\n",
    "print(kendaraan)\n",
    "print(mobil)"
   ]
  },
  {
   "cell_type": "code",
   "execution_count": 87,
   "id": "923e6c55",
   "metadata": {},
   "outputs": [
    {
     "name": "stdout",
     "output_type": "stream",
     "text": [
      "['Toyota', 'Kijang', 'Tsuzu']\n"
     ]
    }
   ],
   "source": [
    "kendaraan.remove('Innova')\n",
    "print(kendaraan)"
   ]
  },
  {
   "cell_type": "code",
   "execution_count": 75,
   "id": "738bd7b0",
   "metadata": {},
   "outputs": [
    {
     "name": "stdout",
     "output_type": "stream",
     "text": [
      "['Pisang', 'Jeruk']\n"
     ]
    }
   ],
   "source": [
    "buah = ['Pisang', 'Jeruk', 'Apel']\n",
    "buah.pop()\n",
    "print(buah)"
   ]
  }
 ],
 "metadata": {
  "kernelspec": {
   "display_name": "Python 3 (ipykernel)",
   "language": "python",
   "name": "python3"
  },
  "language_info": {
   "codemirror_mode": {
    "name": "ipython",
    "version": 3
   },
   "file_extension": ".py",
   "mimetype": "text/x-python",
   "name": "python",
   "nbconvert_exporter": "python",
   "pygments_lexer": "ipython3",
   "version": "3.9.12"
  }
 },
 "nbformat": 4,
 "nbformat_minor": 5
}
