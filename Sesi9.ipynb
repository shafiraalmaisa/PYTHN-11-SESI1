{
 "cells": [
  {
   "cell_type": "markdown",
   "id": "6789c655",
   "metadata": {},
   "source": [
    "## Descriptive Statistic\n",
    "\n",
    ">inferensial statistik bisa langsung ambil informasi dari data kalau descriptive cuma menjelaskan datanya.\n",
    "+ standar deviasi : seberapa besar sebaran data\n",
    "+ interquartile range : bisa untuk deteksi outlier\n",
    "* Q2 = Percentile = 50%"
   ]
  },
  {
   "cell_type": "code",
   "execution_count": 1,
   "id": "7ec66d6c",
   "metadata": {},
   "outputs": [],
   "source": [
    "import math\n",
    "import statistics\n",
    "import numpy as np\n",
    "import scipy.stats\n",
    "import pandas as pd"
   ]
  },
  {
   "cell_type": "code",
   "execution_count": 2,
   "id": "3e3f98a6",
   "metadata": {},
   "outputs": [
    {
     "name": "stdout",
     "output_type": "stream",
     "text": [
      "[8, 1, 2.5, 4, 28]\n",
      "[8, 1, 2.5, nan, 4, 28]\n"
     ]
    }
   ],
   "source": [
    "x = [8,1,2.5,4,28]\n",
    "x_with_nan = [8,1,2.5,np.nan,4,28] #np.nan untuk nambahin nilai nan ke list\n",
    "print(x)\n",
    "print(x_with_nan)"
   ]
  },
  {
   "cell_type": "code",
   "execution_count": 3,
   "id": "046deb5f",
   "metadata": {},
   "outputs": [
    {
     "name": "stdout",
     "output_type": "stream",
     "text": [
      "[ 8.   1.   2.5  4.  28. ]\n",
      "0     8.0\n",
      "1     1.0\n",
      "2     2.5\n",
      "3     4.0\n",
      "4    28.0\n",
      "dtype: float64\n",
      "[ 8.   1.   2.5  nan  4.  28. ]\n",
      "0     8.0\n",
      "1     1.0\n",
      "2     2.5\n",
      "3     NaN\n",
      "4     4.0\n",
      "5    28.0\n",
      "dtype: float64\n"
     ]
    }
   ],
   "source": [
    "#buat array(y) dan series(z) dari x\n",
    "\n",
    "y, y_with_nan = np.array(x), np.array(x_with_nan) #array\n",
    "z, z_with_nan = pd.Series(x), pd.Series(x_with_nan) #array\n",
    "\n",
    "print(y)\n",
    "print(z)\n",
    "print(y_with_nan)\n",
    "print(z_with_nan)"
   ]
  },
  {
   "cell_type": "code",
   "execution_count": 4,
   "id": "fc8930c8",
   "metadata": {},
   "outputs": [
    {
     "data": {
      "text/plain": [
       "0    False\n",
       "1    False\n",
       "2    False\n",
       "3     True\n",
       "4    False\n",
       "5    False\n",
       "dtype: bool"
      ]
     },
     "execution_count": 4,
     "metadata": {},
     "output_type": "execute_result"
    }
   ],
   "source": [
    "z_with_nan.isna()"
   ]
  },
  {
   "cell_type": "markdown",
   "id": "0c4bcc56",
   "metadata": {},
   "source": [
    "## CENTRAL TENDENCY"
   ]
  },
  {
   "cell_type": "code",
   "execution_count": 5,
   "id": "aa52c221",
   "metadata": {},
   "outputs": [
    {
     "data": {
      "text/plain": [
       "43.5"
      ]
     },
     "execution_count": 5,
     "metadata": {},
     "output_type": "execute_result"
    }
   ],
   "source": [
    "sum(x)"
   ]
  },
  {
   "cell_type": "code",
   "execution_count": 6,
   "id": "e1a20865",
   "metadata": {},
   "outputs": [
    {
     "data": {
      "text/plain": [
       "5"
      ]
     },
     "execution_count": 6,
     "metadata": {},
     "output_type": "execute_result"
    }
   ],
   "source": [
    "len(x)"
   ]
  },
  {
   "cell_type": "code",
   "execution_count": 7,
   "id": "d9dabc96",
   "metadata": {},
   "outputs": [
    {
     "data": {
      "text/plain": [
       "8.7"
      ]
     },
     "execution_count": 7,
     "metadata": {},
     "output_type": "execute_result"
    }
   ],
   "source": [
    "mean_x = sum(x)/len(x)\n",
    "mean_x"
   ]
  },
  {
   "cell_type": "code",
   "execution_count": 8,
   "id": "be5bd24d",
   "metadata": {},
   "outputs": [
    {
     "name": "stdout",
     "output_type": "stream",
     "text": [
      "8.7\n"
     ]
    }
   ],
   "source": [
    "mean_stats = statistics.mean(x)\n",
    "print(mean_stats)"
   ]
  },
  {
   "cell_type": "code",
   "execution_count": 9,
   "id": "3a2e6e40",
   "metadata": {},
   "outputs": [
    {
     "name": "stdout",
     "output_type": "stream",
     "text": [
      "8.7\n"
     ]
    }
   ],
   "source": [
    "mean_np = np.mean(x)\n",
    "print(mean_np)"
   ]
  },
  {
   "cell_type": "code",
   "execution_count": 10,
   "id": "3d6833cb",
   "metadata": {},
   "outputs": [
    {
     "data": {
      "text/plain": [
       "array([ 8. ,  1. ,  2.5,  4. , 28. ])"
      ]
     },
     "execution_count": 10,
     "metadata": {},
     "output_type": "execute_result"
    }
   ],
   "source": [
    "y"
   ]
  },
  {
   "cell_type": "code",
   "execution_count": 11,
   "id": "ed85c122",
   "metadata": {},
   "outputs": [
    {
     "data": {
      "text/plain": [
       "8.7"
      ]
     },
     "execution_count": 11,
     "metadata": {},
     "output_type": "execute_result"
    }
   ],
   "source": [
    "y.mean() #array"
   ]
  },
  {
   "cell_type": "code",
   "execution_count": 12,
   "id": "4b3fd7cd",
   "metadata": {},
   "outputs": [
    {
     "data": {
      "text/plain": [
       "8.7"
      ]
     },
     "execution_count": 12,
     "metadata": {},
     "output_type": "execute_result"
    }
   ],
   "source": [
    "z.mean() #series"
   ]
  },
  {
   "cell_type": "code",
   "execution_count": 13,
   "id": "189bc9b6",
   "metadata": {},
   "outputs": [
    {
     "data": {
      "text/plain": [
       "nan"
      ]
     },
     "execution_count": 13,
     "metadata": {},
     "output_type": "execute_result"
    }
   ],
   "source": [
    "y_with_nan.mean()"
   ]
  },
  {
   "cell_type": "code",
   "execution_count": 14,
   "id": "ca2a85b7",
   "metadata": {},
   "outputs": [
    {
     "data": {
      "text/plain": [
       "nan"
      ]
     },
     "execution_count": 14,
     "metadata": {},
     "output_type": "execute_result"
    }
   ],
   "source": [
    "np.mean(y_with_nan)"
   ]
  },
  {
   "cell_type": "code",
   "execution_count": 15,
   "id": "12fd91f2",
   "metadata": {},
   "outputs": [
    {
     "data": {
      "text/plain": [
       "nan"
      ]
     },
     "execution_count": 15,
     "metadata": {},
     "output_type": "execute_result"
    }
   ],
   "source": [
    "np.nan*3"
   ]
  },
  {
   "cell_type": "code",
   "execution_count": 16,
   "id": "7cd3e077",
   "metadata": {
    "scrolled": true
   },
   "outputs": [
    {
     "data": {
      "text/plain": [
       "8.7"
      ]
     },
     "execution_count": 16,
     "metadata": {},
     "output_type": "execute_result"
    }
   ],
   "source": [
    "np.nanmean(y_with_nan) #get mean without considering NaN values"
   ]
  },
  {
   "cell_type": "code",
   "execution_count": 17,
   "id": "bdf31d7a",
   "metadata": {},
   "outputs": [
    {
     "data": {
      "text/plain": [
       "0     8.0\n",
       "1     1.0\n",
       "2     2.5\n",
       "3     NaN\n",
       "4     4.0\n",
       "5    28.0\n",
       "dtype: float64"
      ]
     },
     "execution_count": 17,
     "metadata": {},
     "output_type": "execute_result"
    }
   ],
   "source": [
    "z_with_nan"
   ]
  },
  {
   "cell_type": "markdown",
   "id": "9f989b69",
   "metadata": {},
   "source": [
    "## WEIGHTED MEAN\n",
    "\n",
    "rata-rata dengan menghitung pembobotan"
   ]
  },
  {
   "cell_type": "code",
   "execution_count": 18,
   "id": "ae01b362",
   "metadata": {},
   "outputs": [
    {
     "data": {
      "text/plain": [
       "[8, 1, 2.5, 4, 28]"
      ]
     },
     "execution_count": 18,
     "metadata": {},
     "output_type": "execute_result"
    }
   ],
   "source": [
    "x #ini metrics/list"
   ]
  },
  {
   "cell_type": "code",
   "execution_count": 19,
   "id": "77fe84a3",
   "metadata": {},
   "outputs": [
    {
     "name": "stdout",
     "output_type": "stream",
     "text": [
      "6.95\n"
     ]
    }
   ],
   "source": [
    "w = [0.1,0.2,0.3,0.25,0.15] #weightages\n",
    "\n",
    "#convert jadi array\n",
    "y,z,w = np.array(x), pd.Series(x), np.array(w)\n",
    "\n",
    "wmean = np.average(y, weights=w)\n",
    "print(wmean) #weightedmean"
   ]
  },
  {
   "cell_type": "code",
   "execution_count": 20,
   "id": "4ff24ce0",
   "metadata": {},
   "outputs": [
    {
     "data": {
      "text/plain": [
       "8.7"
      ]
     },
     "execution_count": 20,
     "metadata": {},
     "output_type": "execute_result"
    }
   ],
   "source": [
    "np.mean(x) #mean biasa"
   ]
  },
  {
   "cell_type": "code",
   "execution_count": 21,
   "id": "91b07cd0",
   "metadata": {},
   "outputs": [
    {
     "name": "stdout",
     "output_type": "stream",
     "text": [
      "6.95\n"
     ]
    }
   ],
   "source": [
    "#jabaran perhitungan manual weighted mean\n",
    "wmean_manual = sum(w[i]*x[i] for i in range(len(x)))/sum(w)\n",
    "print(wmean_manual)"
   ]
  },
  {
   "cell_type": "code",
   "execution_count": 22,
   "id": "ed4e686a",
   "metadata": {},
   "outputs": [
    {
     "data": {
      "text/plain": [
       "1.0"
      ]
     },
     "execution_count": 22,
     "metadata": {},
     "output_type": "execute_result"
    }
   ],
   "source": [
    "sum(w)"
   ]
  },
  {
   "cell_type": "markdown",
   "id": "bed680a5",
   "metadata": {},
   "source": [
    "## Harmonic Mean\n",
    "\n",
    "seringnya untuk rata-rata rate"
   ]
  },
  {
   "cell_type": "code",
   "execution_count": 23,
   "id": "73e4d00b",
   "metadata": {},
   "outputs": [
    {
     "data": {
      "text/plain": [
       "30.0"
      ]
     },
     "execution_count": 23,
     "metadata": {},
     "output_type": "execute_result"
    }
   ],
   "source": [
    "speed = [60,20]\n",
    "hmean_speed = len(speed)/sum(1/item for item in speed)\n",
    "hmean_speed"
   ]
  },
  {
   "cell_type": "code",
   "execution_count": 24,
   "id": "bded620c",
   "metadata": {},
   "outputs": [
    {
     "data": {
      "text/plain": [
       "30.0"
      ]
     },
     "execution_count": 24,
     "metadata": {},
     "output_type": "execute_result"
    }
   ],
   "source": [
    "#library 1\n",
    "hmean_speed_stats = statistics.harmonic_mean(speed)\n",
    "hmean_speed_stats"
   ]
  },
  {
   "cell_type": "code",
   "execution_count": 25,
   "id": "ee15a033",
   "metadata": {},
   "outputs": [
    {
     "data": {
      "text/plain": [
       "30.0"
      ]
     },
     "execution_count": 25,
     "metadata": {},
     "output_type": "execute_result"
    }
   ],
   "source": [
    "#library 2\n",
    "hmean_speed_stats2 = scipy.stats.hmean(speed)\n",
    "hmean_speed_stats2"
   ]
  },
  {
   "cell_type": "code",
   "execution_count": 26,
   "id": "469ce6c6",
   "metadata": {},
   "outputs": [
    {
     "data": {
      "text/plain": [
       "2.7613412228796843"
      ]
     },
     "execution_count": 26,
     "metadata": {},
     "output_type": "execute_result"
    }
   ],
   "source": [
    "hmean = len(x) / sum(1/item for item in x)\n",
    "hmean"
   ]
  },
  {
   "cell_type": "code",
   "execution_count": 27,
   "id": "39d425f4",
   "metadata": {},
   "outputs": [
    {
     "data": {
      "text/plain": [
       "[8, 1, 2.5, 4, 28]"
      ]
     },
     "execution_count": 27,
     "metadata": {},
     "output_type": "execute_result"
    }
   ],
   "source": [
    "x"
   ]
  },
  {
   "cell_type": "code",
   "execution_count": 28,
   "id": "7798c286",
   "metadata": {},
   "outputs": [
    {
     "name": "stdout",
     "output_type": "stream",
     "text": [
      "0.125\n",
      "1.0\n",
      "0.4\n",
      "0.25\n",
      "0.03571428571428571\n"
     ]
    }
   ],
   "source": [
    "for item in x:\n",
    "    print(1/item)"
   ]
  },
  {
   "cell_type": "code",
   "execution_count": 29,
   "id": "184db034",
   "metadata": {},
   "outputs": [
    {
     "data": {
      "text/plain": [
       "[0.125, 1.0, 0.4, 0.25, 0.03571428571428571]"
      ]
     },
     "execution_count": 29,
     "metadata": {},
     "output_type": "execute_result"
    }
   ],
   "source": [
    "list(1/item for item in x)"
   ]
  },
  {
   "cell_type": "code",
   "execution_count": 30,
   "id": "36afc719",
   "metadata": {},
   "outputs": [
    {
     "data": {
      "text/plain": [
       "2.7613412228796843"
      ]
     },
     "execution_count": 30,
     "metadata": {},
     "output_type": "execute_result"
    }
   ],
   "source": [
    "# hmean dengan library\n",
    "\n",
    "hmean_stats = statistics.harmonic_mean(x)\n",
    "hmean_stats"
   ]
  },
  {
   "cell_type": "markdown",
   "id": "6118c85a",
   "metadata": {},
   "source": [
    "perusahaan berdiri tahun 2017\n",
    "\n",
    "tahun 2017 omset 1000\n",
    "\n",
    "2018 naik 30%\n",
    "\n",
    "2019 naik 50%\n",
    "\n",
    "tahun 2020 naik 40%"
   ]
  },
  {
   "cell_type": "code",
   "execution_count": 31,
   "id": "75dda4b2",
   "metadata": {},
   "outputs": [
    {
     "data": {
      "text/plain": [
       "2730.0"
      ]
     },
     "execution_count": 31,
     "metadata": {},
     "output_type": "execute_result"
    }
   ],
   "source": [
    "x = 1000\n",
    "x*=1.3\n",
    "x*=1.5\n",
    "x*=1.4\n",
    "x"
   ]
  },
  {
   "cell_type": "code",
   "execution_count": 32,
   "id": "d45ca219",
   "metadata": {},
   "outputs": [
    {
     "data": {
      "text/plain": [
       "40.0"
      ]
     },
     "execution_count": 32,
     "metadata": {},
     "output_type": "execute_result"
    }
   ],
   "source": [
    "#arithmetic mean\n",
    "(30+40+50)/3"
   ]
  },
  {
   "cell_type": "code",
   "execution_count": 33,
   "id": "fe678ba8",
   "metadata": {},
   "outputs": [
    {
     "data": {
      "text/plain": [
       "2743.9999999999995"
      ]
     },
     "execution_count": 33,
     "metadata": {},
     "output_type": "execute_result"
    }
   ],
   "source": [
    "x = 1000\n",
    "x*=1.4\n",
    "x*=1.4\n",
    "x*=1.4\n",
    "x"
   ]
  },
  {
   "cell_type": "code",
   "execution_count": 34,
   "id": "31c79a00",
   "metadata": {},
   "outputs": [
    {
     "data": {
      "text/plain": [
       "39.148676411688626"
      ]
     },
     "execution_count": 34,
     "metadata": {},
     "output_type": "execute_result"
    }
   ],
   "source": [
    "#Geometric Mean\n",
    "gmean = ((30*40*50)**(1/3))\n",
    "gmean"
   ]
  },
  {
   "cell_type": "code",
   "execution_count": 35,
   "id": "65da45c1",
   "metadata": {},
   "outputs": [
    {
     "data": {
      "text/plain": [
       "2694.322835875"
      ]
     },
     "execution_count": 35,
     "metadata": {},
     "output_type": "execute_result"
    }
   ],
   "source": [
    "x = 1000\n",
    "x*=1.3915\n",
    "x*=1.3915\n",
    "x*=1.3915\n",
    "x"
   ]
  },
  {
   "cell_type": "code",
   "execution_count": 36,
   "id": "e3250228",
   "metadata": {},
   "outputs": [
    {
     "data": {
      "text/plain": [
       "39.14867641168864"
      ]
     },
     "execution_count": 36,
     "metadata": {},
     "output_type": "execute_result"
    }
   ],
   "source": [
    "scipy.stats.gmean([30,40,50])"
   ]
  },
  {
   "cell_type": "markdown",
   "id": "52ce1642",
   "metadata": {},
   "source": [
    "## Median"
   ]
  },
  {
   "cell_type": "code",
   "execution_count": 37,
   "id": "903febde",
   "metadata": {},
   "outputs": [
    {
     "data": {
      "text/plain": [
       "4"
      ]
     },
     "execution_count": 37,
     "metadata": {},
     "output_type": "execute_result"
    }
   ],
   "source": [
    "a = [1,2,4,8,9]\n",
    "n = len(a)\n",
    "\n",
    "median = a[2] #data ganjil\n",
    "median"
   ]
  },
  {
   "cell_type": "code",
   "execution_count": 38,
   "id": "ae4ef26c",
   "metadata": {},
   "outputs": [
    {
     "data": {
      "text/plain": [
       "4.0"
      ]
     },
     "execution_count": 38,
     "metadata": {},
     "output_type": "execute_result"
    }
   ],
   "source": [
    "#median pakai numpy\n",
    "x = [8,1,2.5,4,28]\n",
    "c =[2,3,4,5]\n",
    "np.median(x)"
   ]
  },
  {
   "cell_type": "code",
   "execution_count": 39,
   "id": "ab7dbee0",
   "metadata": {},
   "outputs": [
    {
     "data": {
      "text/plain": [
       "[1, 2.5, 4, 8, 28]"
      ]
     },
     "execution_count": 39,
     "metadata": {},
     "output_type": "execute_result"
    }
   ],
   "source": [
    "sorted(x)"
   ]
  },
  {
   "cell_type": "code",
   "execution_count": 40,
   "id": "2cddfa9e",
   "metadata": {},
   "outputs": [
    {
     "data": {
      "text/plain": [
       "2"
      ]
     },
     "execution_count": 40,
     "metadata": {},
     "output_type": "execute_result"
    }
   ],
   "source": [
    "#cari posisi median\n",
    "n = len(x)\n",
    "round(0.5*(n-1)) #membulatkan angka"
   ]
  },
  {
   "cell_type": "code",
   "execution_count": 41,
   "id": "30ebc128",
   "metadata": {},
   "outputs": [
    {
     "data": {
      "text/plain": [
       "3"
      ]
     },
     "execution_count": 41,
     "metadata": {},
     "output_type": "execute_result"
    }
   ],
   "source": [
    "#cari posisi median\n",
    "n = len([1,2,3,4,5,6,7])\n",
    "round(0.5*(n-1)) #membulatkan angka"
   ]
  },
  {
   "cell_type": "code",
   "execution_count": 42,
   "id": "ff1319ab",
   "metadata": {},
   "outputs": [],
   "source": [
    "def median_function(x):\n",
    "    n = len(x)\n",
    "    if n%2 == 1:\n",
    "        median_ = sorted(x)[round(0.5*(n-1))] #sorted ngurut dari kecil ke besar\n",
    "    else:\n",
    "        x_ord, index = sorted(x), round(0.5*n)\n",
    "        median_ = 0.5*(x_ord[index-1]+x_ord[index])\n",
    "\n",
    "    return median_"
   ]
  },
  {
   "cell_type": "code",
   "execution_count": 43,
   "id": "13023d97",
   "metadata": {},
   "outputs": [
    {
     "data": {
      "text/plain": [
       "4"
      ]
     },
     "execution_count": 43,
     "metadata": {},
     "output_type": "execute_result"
    }
   ],
   "source": [
    "median_function(x)"
   ]
  },
  {
   "cell_type": "code",
   "execution_count": 44,
   "id": "1ed94896",
   "metadata": {},
   "outputs": [
    {
     "data": {
      "text/plain": [
       "3.5"
      ]
     },
     "execution_count": 44,
     "metadata": {},
     "output_type": "execute_result"
    }
   ],
   "source": [
    "median_function(c)"
   ]
  },
  {
   "cell_type": "markdown",
   "id": "b89a0efb",
   "metadata": {},
   "source": [
    "## Mode"
   ]
  },
  {
   "cell_type": "code",
   "execution_count": 45,
   "id": "42345220",
   "metadata": {},
   "outputs": [],
   "source": [
    "u = [2,3,2,8,12]\n",
    "\n",
    "mode_= max((u.count(i),i)for i in set(u))[1]"
   ]
  },
  {
   "cell_type": "code",
   "execution_count": 46,
   "id": "331849bc",
   "metadata": {},
   "outputs": [
    {
     "data": {
      "text/plain": [
       "2"
      ]
     },
     "execution_count": 46,
     "metadata": {},
     "output_type": "execute_result"
    }
   ],
   "source": [
    "u.count(2)"
   ]
  },
  {
   "cell_type": "code",
   "execution_count": 47,
   "id": "e3adca5b",
   "metadata": {},
   "outputs": [
    {
     "data": {
      "text/plain": [
       "2"
      ]
     },
     "execution_count": 47,
     "metadata": {},
     "output_type": "execute_result"
    }
   ],
   "source": [
    "statistics.mode(u)"
   ]
  },
  {
   "cell_type": "code",
   "execution_count": 48,
   "id": "0b51a508",
   "metadata": {},
   "outputs": [
    {
     "data": {
      "text/plain": [
       "{1, 2, 3, 4, 5}"
      ]
     },
     "execution_count": 48,
     "metadata": {},
     "output_type": "execute_result"
    }
   ],
   "source": [
    "set([1,1,1,2,3,4,5]) #yang redundant dihitung sekali"
   ]
  },
  {
   "cell_type": "code",
   "execution_count": 49,
   "id": "c12faafe",
   "metadata": {},
   "outputs": [],
   "source": [
    "mode_lib = scipy.stats.mode(u)"
   ]
  },
  {
   "cell_type": "code",
   "execution_count": 50,
   "id": "841b98c8",
   "metadata": {
    "scrolled": true
   },
   "outputs": [
    {
     "data": {
      "text/plain": [
       "array([2])"
      ]
     },
     "execution_count": 50,
     "metadata": {},
     "output_type": "execute_result"
    }
   ],
   "source": [
    "scipy.stats.mode(u)[0]"
   ]
  },
  {
   "cell_type": "code",
   "execution_count": 51,
   "id": "29fe6c9f",
   "metadata": {},
   "outputs": [
    {
     "data": {
      "text/plain": [
       "2"
      ]
     },
     "execution_count": 51,
     "metadata": {},
     "output_type": "execute_result"
    }
   ],
   "source": [
    "scipy.stats.mode(u)[0][0]"
   ]
  },
  {
   "cell_type": "code",
   "execution_count": 52,
   "id": "7456582d",
   "metadata": {},
   "outputs": [
    {
     "name": "stdout",
     "output_type": "stream",
     "text": [
      "ModeResult(mode=array([2]), count=array([2]))\n",
      "[2]\n",
      "[2]\n"
     ]
    }
   ],
   "source": [
    "print(mode_lib)\n",
    "print(mode_lib.mode)\n",
    "print(mode_lib.count)"
   ]
  },
  {
   "cell_type": "code",
   "execution_count": 53,
   "id": "f8f74a67",
   "metadata": {},
   "outputs": [
    {
     "data": {
      "text/plain": [
       "[2, 3, 2, 8, 12]"
      ]
     },
     "execution_count": 53,
     "metadata": {},
     "output_type": "execute_result"
    }
   ],
   "source": [
    "u"
   ]
  },
  {
   "cell_type": "code",
   "execution_count": 54,
   "id": "67cb1441",
   "metadata": {},
   "outputs": [
    {
     "data": {
      "text/plain": [
       "0    2\n",
       "dtype: int64"
      ]
     },
     "execution_count": 54,
     "metadata": {},
     "output_type": "execute_result"
    }
   ],
   "source": [
    "u_series = pd.Series(u)\n",
    "u_series.mode()"
   ]
  },
  {
   "cell_type": "code",
   "execution_count": 55,
   "id": "31d9eadf",
   "metadata": {},
   "outputs": [
    {
     "data": {
      "text/plain": [
       "2"
      ]
     },
     "execution_count": 55,
     "metadata": {},
     "output_type": "execute_result"
    }
   ],
   "source": [
    "u_array = np.array(u)\n",
    "statistics.mode(u_array)"
   ]
  },
  {
   "cell_type": "code",
   "execution_count": 56,
   "id": "9e57ea68",
   "metadata": {},
   "outputs": [
    {
     "data": {
      "text/plain": [
       "0    3.0\n",
       "dtype: float64"
      ]
     },
     "execution_count": 56,
     "metadata": {},
     "output_type": "execute_result"
    }
   ],
   "source": [
    "v = pd.Series([1,2,3,3,3,np.nan])\n",
    "v.mode()"
   ]
  },
  {
   "cell_type": "code",
   "execution_count": 57,
   "id": "fb6265f6",
   "metadata": {},
   "outputs": [
    {
     "data": {
      "text/plain": [
       "3.0"
      ]
     },
     "execution_count": 57,
     "metadata": {},
     "output_type": "execute_result"
    }
   ],
   "source": [
    "statistics.mode(v)"
   ]
  },
  {
   "cell_type": "code",
   "execution_count": 58,
   "id": "f7f9c062",
   "metadata": {},
   "outputs": [
    {
     "data": {
      "text/plain": [
       "3"
      ]
     },
     "execution_count": 58,
     "metadata": {},
     "output_type": "execute_result"
    }
   ],
   "source": [
    "vv = [1,2,3,3,3,np.nan]\n",
    "statistics.mode(vv)"
   ]
  },
  {
   "cell_type": "markdown",
   "id": "09bb99d5",
   "metadata": {},
   "source": [
    "series mengabaikan nan, array mempertimbangkan nan"
   ]
  },
  {
   "cell_type": "markdown",
   "id": "47430397",
   "metadata": {},
   "source": [
    "## Measure of Variability"
   ]
  },
  {
   "cell_type": "code",
   "execution_count": 59,
   "id": "b48dd1d2",
   "metadata": {},
   "outputs": [
    {
     "data": {
      "text/plain": [
       "[8, 1, 2.5, 4, 28]"
      ]
     },
     "execution_count": 59,
     "metadata": {},
     "output_type": "execute_result"
    }
   ],
   "source": [
    "x"
   ]
  },
  {
   "cell_type": "code",
   "execution_count": 60,
   "id": "5c30d7f1",
   "metadata": {},
   "outputs": [
    {
     "data": {
      "text/plain": [
       "123.19999999999999"
      ]
     },
     "execution_count": 60,
     "metadata": {},
     "output_type": "execute_result"
    }
   ],
   "source": [
    "n = len(x)\n",
    "mean_var = np.mean(x)\n",
    "var_ = sum((item-mean_var)**2 for item in x )/(n-1)\n",
    "var_"
   ]
  },
  {
   "cell_type": "code",
   "execution_count": 61,
   "id": "d027664d",
   "metadata": {},
   "outputs": [
    {
     "data": {
      "text/plain": [
       "123.2"
      ]
     },
     "execution_count": 61,
     "metadata": {},
     "output_type": "execute_result"
    }
   ],
   "source": [
    "# using library\n",
    "var_stat = statistics.variance(x)\n",
    "var_stat"
   ]
  },
  {
   "cell_type": "code",
   "execution_count": 62,
   "id": "ef349127",
   "metadata": {},
   "outputs": [
    {
     "data": {
      "text/plain": [
       "123.19999999999999"
      ]
     },
     "execution_count": 62,
     "metadata": {},
     "output_type": "execute_result"
    }
   ],
   "source": [
    "# using numpy\n",
    "var_np = np.var(x, ddof=1) #ddof biar digunain rumus sample variance(n-1)\n",
    "var_np"
   ]
  },
  {
   "cell_type": "code",
   "execution_count": 63,
   "id": "d0bea35a",
   "metadata": {},
   "outputs": [
    {
     "data": {
      "text/plain": [
       "123.19999999999999"
      ]
     },
     "execution_count": 63,
     "metadata": {},
     "output_type": "execute_result"
    }
   ],
   "source": [
    "# variance using series function\n",
    "z = pd.Series(x)\n",
    "z.var()"
   ]
  },
  {
   "cell_type": "markdown",
   "id": "0963ac90",
   "metadata": {},
   "source": [
    "## Standar Deviasi\n",
    "\n",
    "pangkat dari varians"
   ]
  },
  {
   "cell_type": "code",
   "execution_count": 64,
   "id": "813d1a4b",
   "metadata": {},
   "outputs": [
    {
     "name": "stdout",
     "output_type": "stream",
     "text": [
      "345.25000000000006\n",
      "18.58090417606205\n"
     ]
    }
   ],
   "source": [
    "x = [1,2,3,6,7,8,30,40,50]\n",
    "var_x = np.var(x, ddof=1)\n",
    "std_x = np.std(x, ddof=1)\n",
    "print(var_x)\n",
    "print(std_x)"
   ]
  },
  {
   "cell_type": "code",
   "execution_count": 65,
   "id": "fb3ab1ff",
   "metadata": {},
   "outputs": [
    {
     "name": "stdout",
     "output_type": "stream",
     "text": [
      "345.25000000000006\n",
      "18.58090417606205\n"
     ]
    }
   ],
   "source": [
    "#jawaban tim 4\n",
    "x = [1,2,3,6,7,8,30,40,50]\n",
    "n = len(x)\n",
    "mean = sum(x)/n\n",
    "var_ = sum((item - mean)**2 for item in x)/(n-1)\n",
    "Sd_ = var_**(1/2)\n",
    "\n",
    "print(var_)\n",
    "print(Sd_)"
   ]
  },
  {
   "cell_type": "markdown",
   "id": "c2d7b5e4",
   "metadata": {},
   "source": [
    "## Skewness"
   ]
  },
  {
   "cell_type": "code",
   "execution_count": 66,
   "id": "1ca6209d",
   "metadata": {},
   "outputs": [
    {
     "data": {
      "text/plain": [
       "1.947043227390592"
      ]
     },
     "execution_count": 66,
     "metadata": {},
     "output_type": "execute_result"
    }
   ],
   "source": [
    "x = [8,1,2.5,4,28]\n",
    "n = len(x)\n",
    "mean = np.mean(x)\n",
    "stdev = statistics.stdev(x)\n",
    "skew_ = sum((item - mean)**3 for item in x)*n/((n-1)*(n-2)*(stdev**3))\n",
    "skew_"
   ]
  },
  {
   "cell_type": "code",
   "execution_count": 67,
   "id": "a31318d4",
   "metadata": {},
   "outputs": [
    {
     "data": {
      "text/plain": [
       "1.9470432273905927"
      ]
     },
     "execution_count": 67,
     "metadata": {},
     "output_type": "execute_result"
    }
   ],
   "source": [
    "scipy.stats.skew(x,bias=False)"
   ]
  },
  {
   "cell_type": "code",
   "execution_count": 68,
   "id": "7c7ead08",
   "metadata": {},
   "outputs": [
    {
     "data": {
      "text/plain": [
       "1.9470432273905924"
      ]
     },
     "execution_count": 68,
     "metadata": {},
     "output_type": "execute_result"
    }
   ],
   "source": [
    "z = pd.Series(x)\n",
    "z.skew()"
   ]
  },
  {
   "cell_type": "code",
   "execution_count": 69,
   "id": "1bd94416",
   "metadata": {},
   "outputs": [
    {
     "data": {
      "text/plain": [
       "[8, 1, 2.5, nan, 4, 28]"
      ]
     },
     "execution_count": 69,
     "metadata": {},
     "output_type": "execute_result"
    }
   ],
   "source": [
    "x_with_nan"
   ]
  },
  {
   "cell_type": "code",
   "execution_count": 70,
   "id": "5fbc8a23",
   "metadata": {},
   "outputs": [
    {
     "data": {
      "text/plain": [
       "nan"
      ]
     },
     "execution_count": 70,
     "metadata": {},
     "output_type": "execute_result"
    }
   ],
   "source": [
    "scipy.stats.skew(x_with_nan)"
   ]
  },
  {
   "cell_type": "code",
   "execution_count": 71,
   "id": "d94c66dc",
   "metadata": {},
   "outputs": [
    {
     "data": {
      "text/plain": [
       "1.9470432273905924"
      ]
     },
     "execution_count": 71,
     "metadata": {},
     "output_type": "execute_result"
    }
   ],
   "source": [
    "z_wt_nan = pd.Series(x_with_nan) # series mengabaikan nan\n",
    "z_wt_nan.skew()"
   ]
  },
  {
   "cell_type": "code",
   "execution_count": 72,
   "id": "4d0ac609",
   "metadata": {},
   "outputs": [
    {
     "data": {
      "text/plain": [
       "nan"
      ]
     },
     "execution_count": 72,
     "metadata": {},
     "output_type": "execute_result"
    }
   ],
   "source": [
    "scipy.stats.skew(z_wt_nan)"
   ]
  },
  {
   "cell_type": "markdown",
   "id": "e207da87",
   "metadata": {},
   "source": [
    "## Percentiles"
   ]
  },
  {
   "cell_type": "code",
   "execution_count": 73,
   "id": "1211bdc0",
   "metadata": {},
   "outputs": [
    {
     "data": {
      "text/plain": [
       "-3.44"
      ]
     },
     "execution_count": 73,
     "metadata": {},
     "output_type": "execute_result"
    }
   ],
   "source": [
    "x = [-5,-1.1,0.1,2,8,12.8,21,25.8,41]\n",
    "np.percentile(x,5) #percentile 5"
   ]
  },
  {
   "cell_type": "code",
   "execution_count": 74,
   "id": "4c6c98a0",
   "metadata": {},
   "outputs": [
    {
     "data": {
      "text/plain": [
       "41.0"
      ]
     },
     "execution_count": 74,
     "metadata": {},
     "output_type": "execute_result"
    }
   ],
   "source": [
    "np.percentile(x,100) #percentile membagi data menjadi 100"
   ]
  },
  {
   "cell_type": "code",
   "execution_count": 75,
   "id": "5c9a823c",
   "metadata": {},
   "outputs": [
    {
     "data": {
      "text/plain": [
       "-5.0"
      ]
     },
     "execution_count": 75,
     "metadata": {},
     "output_type": "execute_result"
    }
   ],
   "source": [
    "np.percentile(x,0)"
   ]
  },
  {
   "cell_type": "code",
   "execution_count": 76,
   "id": "3469cc31",
   "metadata": {},
   "outputs": [
    {
     "data": {
      "text/plain": [
       "[8.0]"
      ]
     },
     "execution_count": 76,
     "metadata": {},
     "output_type": "execute_result"
    }
   ],
   "source": [
    "statistics.quantiles(x,n=2)"
   ]
  },
  {
   "cell_type": "code",
   "execution_count": 77,
   "id": "4a074987",
   "metadata": {},
   "outputs": [
    {
     "data": {
      "text/plain": [
       "[-0.5, 8.0, 23.4]"
      ]
     },
     "execution_count": 77,
     "metadata": {},
     "output_type": "execute_result"
    }
   ],
   "source": [
    "#quartile n =4 membagi data menjadi 4 baagian\n",
    "statistics.quantiles(x,n=4) "
   ]
  },
  {
   "cell_type": "code",
   "execution_count": 78,
   "id": "cc46c645",
   "metadata": {},
   "outputs": [
    {
     "data": {
      "text/plain": [
       "[0.1, 8.0, 21.0]"
      ]
     },
     "execution_count": 78,
     "metadata": {},
     "output_type": "execute_result"
    }
   ],
   "source": [
    "statistics.quantiles(x,n=4, method = 'inclusive') #inclusive akan mempertimbangkan data sebagai batas(output)"
   ]
  },
  {
   "cell_type": "code",
   "execution_count": 79,
   "id": "f51d3ecf",
   "metadata": {},
   "outputs": [
    {
     "data": {
      "text/plain": [
       "41.0"
      ]
     },
     "execution_count": 79,
     "metadata": {},
     "output_type": "execute_result"
    }
   ],
   "source": [
    "np.quantile(x,1)"
   ]
  },
  {
   "cell_type": "code",
   "execution_count": 80,
   "id": "a2c9aa16",
   "metadata": {},
   "outputs": [
    {
     "data": {
      "text/plain": [
       "-5.0"
      ]
     },
     "execution_count": 80,
     "metadata": {},
     "output_type": "execute_result"
    }
   ],
   "source": [
    "np.quantile(x,0)"
   ]
  },
  {
   "cell_type": "code",
   "execution_count": 81,
   "id": "6c57c01e",
   "metadata": {},
   "outputs": [
    {
     "data": {
      "text/plain": [
       "8.0"
      ]
     },
     "execution_count": 81,
     "metadata": {},
     "output_type": "execute_result"
    }
   ],
   "source": [
    "np.quantile(x,0.5)"
   ]
  },
  {
   "cell_type": "code",
   "execution_count": 82,
   "id": "ad0575d1",
   "metadata": {},
   "outputs": [
    {
     "data": {
      "text/plain": [
       "[-5, -1.1, 0.1, 2, 8, 12.8, 21, 25.8, 41]"
      ]
     },
     "execution_count": 82,
     "metadata": {},
     "output_type": "execute_result"
    }
   ],
   "source": [
    "x"
   ]
  },
  {
   "cell_type": "code",
   "execution_count": 83,
   "id": "9b3747ce",
   "metadata": {},
   "outputs": [
    {
     "data": {
      "text/plain": [
       "[-5, -1.1, nan, 0.1, 2, 8, 12.8, 21, 25.8, 41]"
      ]
     },
     "execution_count": 83,
     "metadata": {},
     "output_type": "execute_result"
    }
   ],
   "source": [
    "x_wt_nan = [-5, -1.1,np.nan, 0.1, 2, 8, 12.8, 21, 25.8, 41]\n",
    "x_wt_nan"
   ]
  },
  {
   "cell_type": "code",
   "execution_count": 84,
   "id": "07067d4e",
   "metadata": {},
   "outputs": [
    {
     "data": {
      "text/plain": [
       "nan"
      ]
     },
     "execution_count": 84,
     "metadata": {},
     "output_type": "execute_result"
    }
   ],
   "source": [
    "np.quantile(x_wt_nan,0)"
   ]
  },
  {
   "cell_type": "code",
   "execution_count": 85,
   "id": "df03fae9",
   "metadata": {},
   "outputs": [
    {
     "data": {
      "text/plain": [
       "-5.0"
      ]
     },
     "execution_count": 85,
     "metadata": {},
     "output_type": "execute_result"
    }
   ],
   "source": [
    "np.nanquantile(x_wt_nan,0)"
   ]
  },
  {
   "cell_type": "code",
   "execution_count": 86,
   "id": "4eb33784",
   "metadata": {},
   "outputs": [
    {
     "data": {
      "text/plain": [
       "8.0"
      ]
     },
     "execution_count": 86,
     "metadata": {},
     "output_type": "execute_result"
    }
   ],
   "source": [
    "np.nanquantile(x_wt_nan,0.5)"
   ]
  },
  {
   "cell_type": "code",
   "execution_count": 87,
   "id": "ac650a81",
   "metadata": {},
   "outputs": [
    {
     "data": {
      "text/plain": [
       "[-5, -1.1, 0.1, 2, 8, 12.8, 21, 25.8, 41]"
      ]
     },
     "execution_count": 87,
     "metadata": {},
     "output_type": "execute_result"
    }
   ],
   "source": [
    "x"
   ]
  },
  {
   "cell_type": "code",
   "execution_count": 88,
   "id": "ecf3d8bb",
   "metadata": {},
   "outputs": [
    {
     "data": {
      "text/plain": [
       "array([ 0.1,  8. , 21. ])"
      ]
     },
     "execution_count": 88,
     "metadata": {},
     "output_type": "execute_result"
    }
   ],
   "source": [
    "np.quantile(x, [0.25,0.5,0.75])"
   ]
  },
  {
   "cell_type": "code",
   "execution_count": 89,
   "id": "d2a648e5",
   "metadata": {},
   "outputs": [
    {
     "data": {
      "text/plain": [
       "[0.1, 8.0, 21.0]"
      ]
     },
     "execution_count": 89,
     "metadata": {},
     "output_type": "execute_result"
    }
   ],
   "source": [
    "statistics.quantiles(x,n=4,method='inclusive')"
   ]
  },
  {
   "cell_type": "markdown",
   "id": "0436caad",
   "metadata": {},
   "source": [
    "## Ranges (max-min)"
   ]
  },
  {
   "cell_type": "code",
   "execution_count": 90,
   "id": "ee74f034",
   "metadata": {},
   "outputs": [
    {
     "data": {
      "text/plain": [
       "[-5, -1.1, 0.1, 2, 8, 12.8, 21, 25.8, 41]"
      ]
     },
     "execution_count": 90,
     "metadata": {},
     "output_type": "execute_result"
    }
   ],
   "source": [
    "x"
   ]
  },
  {
   "cell_type": "code",
   "execution_count": 91,
   "id": "c5ba91ca",
   "metadata": {},
   "outputs": [
    {
     "data": {
      "text/plain": [
       "46.0"
      ]
     },
     "execution_count": 91,
     "metadata": {},
     "output_type": "execute_result"
    }
   ],
   "source": [
    "# np.ptp untuk hitung range\n",
    "np.ptp(x)"
   ]
  },
  {
   "cell_type": "code",
   "execution_count": 92,
   "id": "8cbbd66c",
   "metadata": {},
   "outputs": [
    {
     "data": {
      "text/plain": [
       "41.0"
      ]
     },
     "execution_count": 92,
     "metadata": {},
     "output_type": "execute_result"
    }
   ],
   "source": [
    "np.amax(x)"
   ]
  },
  {
   "cell_type": "code",
   "execution_count": 93,
   "id": "30c2f024",
   "metadata": {},
   "outputs": [
    {
     "data": {
      "text/plain": [
       "-5.0"
      ]
     },
     "execution_count": 93,
     "metadata": {},
     "output_type": "execute_result"
    }
   ],
   "source": [
    "np.amin(x)"
   ]
  },
  {
   "cell_type": "code",
   "execution_count": 94,
   "id": "4b9a0323",
   "metadata": {
    "scrolled": true
   },
   "outputs": [
    {
     "data": {
      "text/plain": [
       "46.0"
      ]
     },
     "execution_count": 94,
     "metadata": {},
     "output_type": "execute_result"
    }
   ],
   "source": [
    "np.amax(x)-np.amin(x)"
   ]
  },
  {
   "cell_type": "markdown",
   "id": "91360add",
   "metadata": {},
   "source": [
    "## Interquartile Range(Q3-Q1)\n",
    "\n",
    "biasanya untuk deteksi pencilan"
   ]
  },
  {
   "cell_type": "code",
   "execution_count": 95,
   "id": "9191f5e6",
   "metadata": {},
   "outputs": [
    {
     "data": {
      "text/plain": [
       "[-5, -1.1, 0.1, 2, 8, 12.8, 21, 25.8, 41]"
      ]
     },
     "execution_count": 95,
     "metadata": {},
     "output_type": "execute_result"
    }
   ],
   "source": [
    "x"
   ]
  },
  {
   "cell_type": "code",
   "execution_count": 96,
   "id": "bb61afe1",
   "metadata": {},
   "outputs": [
    {
     "data": {
      "text/plain": [
       "20.9"
      ]
     },
     "execution_count": 96,
     "metadata": {},
     "output_type": "execute_result"
    }
   ],
   "source": [
    "quartiles = np.quantile(x,[0.25,0.75])\n",
    "IQR = quartiles[1]-quartiles[0]\n",
    "IQR"
   ]
  },
  {
   "cell_type": "markdown",
   "id": "5894c588",
   "metadata": {},
   "source": [
    "## Summary of Desc. Stats"
   ]
  },
  {
   "cell_type": "code",
   "execution_count": 97,
   "id": "e0432d98",
   "metadata": {},
   "outputs": [
    {
     "data": {
      "text/plain": [
       "DescribeResult(nobs=9, minmax=(-5.0, 41.0), mean=11.622222222222222, variance=228.75194444444446, skewness=0.9249043136685094, kurtosis=0.14770623629658886)"
      ]
     },
     "execution_count": 97,
     "metadata": {},
     "output_type": "execute_result"
    }
   ],
   "source": [
    "result = scipy.stats.describe(x,ddof=1,bias=False)\n",
    "result"
   ]
  },
  {
   "cell_type": "code",
   "execution_count": 98,
   "id": "0715ad59",
   "metadata": {},
   "outputs": [
    {
     "data": {
      "text/plain": [
       "228.75194444444446"
      ]
     },
     "execution_count": 98,
     "metadata": {},
     "output_type": "execute_result"
    }
   ],
   "source": [
    "result.variance"
   ]
  },
  {
   "cell_type": "code",
   "execution_count": 99,
   "id": "a4e5790e",
   "metadata": {},
   "outputs": [
    {
     "data": {
      "text/plain": [
       "15.12454774346805"
      ]
     },
     "execution_count": 99,
     "metadata": {},
     "output_type": "execute_result"
    }
   ],
   "source": [
    "(result.variance)**(1/2) #untuk cari stdev"
   ]
  },
  {
   "cell_type": "code",
   "execution_count": 100,
   "id": "83a99e3b",
   "metadata": {},
   "outputs": [
    {
     "data": {
      "text/plain": [
       "46.0"
      ]
     },
     "execution_count": 100,
     "metadata": {},
     "output_type": "execute_result"
    }
   ],
   "source": [
    "result.minmax[1]-result.minmax[0] #range"
   ]
  },
  {
   "cell_type": "code",
   "execution_count": 101,
   "id": "d7a595d2",
   "metadata": {},
   "outputs": [
    {
     "data": {
      "text/plain": [
       "0.9249043136685094"
      ]
     },
     "execution_count": 101,
     "metadata": {},
     "output_type": "execute_result"
    }
   ],
   "source": [
    "result.skewness"
   ]
  },
  {
   "cell_type": "code",
   "execution_count": 102,
   "id": "f0931c88",
   "metadata": {},
   "outputs": [
    {
     "data": {
      "text/plain": [
       "0    -5.0\n",
       "1    -1.1\n",
       "2     0.1\n",
       "3     2.0\n",
       "4     8.0\n",
       "5    12.8\n",
       "6    21.0\n",
       "7    25.8\n",
       "8    41.0\n",
       "dtype: float64"
      ]
     },
     "execution_count": 102,
     "metadata": {},
     "output_type": "execute_result"
    }
   ],
   "source": [
    "z = pd.Series(x)\n",
    "z"
   ]
  },
  {
   "cell_type": "code",
   "execution_count": 103,
   "id": "2699f51a",
   "metadata": {},
   "outputs": [
    {
     "data": {
      "text/plain": [
       "count     9.000000\n",
       "mean     11.622222\n",
       "std      15.124548\n",
       "min      -5.000000\n",
       "25%       0.100000\n",
       "50%       8.000000\n",
       "75%      21.000000\n",
       "max      41.000000\n",
       "dtype: float64"
      ]
     },
     "execution_count": 103,
     "metadata": {},
     "output_type": "execute_result"
    }
   ],
   "source": [
    "z.describe()"
   ]
  },
  {
   "cell_type": "markdown",
   "id": "83015a17",
   "metadata": {},
   "source": [
    "## Correlation (hubungan antar variable)"
   ]
  },
  {
   "cell_type": "code",
   "execution_count": 104,
   "id": "dcb1ba37",
   "metadata": {},
   "outputs": [],
   "source": [
    "x = list(range(-10,11))\n",
    "y = [0,2,2,2,2,3,3,6,7,4,7,6,6,9,4,5,5,10,11,12,14]\n",
    "\n",
    "x_ar, y_ar = np.array(x), np.array(y)\n",
    "x_s, y_s = pd.Series(x), pd.Series(y)"
   ]
  },
  {
   "cell_type": "code",
   "execution_count": 105,
   "id": "8ce3157a",
   "metadata": {},
   "outputs": [
    {
     "data": {
      "text/plain": [
       "True"
      ]
     },
     "execution_count": 105,
     "metadata": {},
     "output_type": "execute_result"
    }
   ],
   "source": [
    "len(x)==len(y)"
   ]
  },
  {
   "cell_type": "markdown",
   "id": "dbb22dcc",
   "metadata": {},
   "source": [
    "### Covariance"
   ]
  },
  {
   "cell_type": "code",
   "execution_count": 106,
   "id": "e3d1ceea",
   "metadata": {},
   "outputs": [
    {
     "data": {
      "text/plain": [
       "19.95"
      ]
     },
     "execution_count": 106,
     "metadata": {},
     "output_type": "execute_result"
    }
   ],
   "source": [
    "n = len(x)\n",
    "\n",
    "mean_x = np.mean(x)\n",
    "mean_y = np.mean(y)\n",
    "\n",
    "cov_xy = (sum((x[item]-mean_x)*(y[item]-mean_y)for item in range(n)))/(n-1)\n",
    "cov_xy"
   ]
  },
  {
   "cell_type": "code",
   "execution_count": 107,
   "id": "a6b92158",
   "metadata": {},
   "outputs": [
    {
     "data": {
      "text/plain": [
       "array([[38.5       , 19.95      ],\n",
       "       [19.95      , 13.91428571]])"
      ]
     },
     "execution_count": 107,
     "metadata": {},
     "output_type": "execute_result"
    }
   ],
   "source": [
    "cov_matrix = np.cov(x,y)\n",
    "cov_matrix"
   ]
  },
  {
   "cell_type": "code",
   "execution_count": 108,
   "id": "75df5d0f",
   "metadata": {},
   "outputs": [
    {
     "data": {
      "text/plain": [
       "38.5"
      ]
     },
     "execution_count": 108,
     "metadata": {},
     "output_type": "execute_result"
    }
   ],
   "source": [
    "np.var(x,ddof=1)"
   ]
  },
  {
   "cell_type": "code",
   "execution_count": 109,
   "id": "7b0663b8",
   "metadata": {},
   "outputs": [
    {
     "data": {
      "text/plain": [
       "13.914285714285711"
      ]
     },
     "execution_count": 109,
     "metadata": {},
     "output_type": "execute_result"
    }
   ],
   "source": [
    "np.var(y,ddof=1)"
   ]
  },
  {
   "cell_type": "code",
   "execution_count": 110,
   "id": "5478a7fc",
   "metadata": {},
   "outputs": [
    {
     "data": {
      "text/plain": [
       "19.95"
      ]
     },
     "execution_count": 110,
     "metadata": {},
     "output_type": "execute_result"
    }
   ],
   "source": [
    "cov_xy = cov_matrix[0,1] #[0,1] baris 0 kolom 1\n",
    "cov_xy"
   ]
  },
  {
   "cell_type": "markdown",
   "id": "fd85cf6c",
   "metadata": {},
   "source": [
    "### Correlation Coefficient\n",
    "\n",
    "ukuran hubungan antar variable"
   ]
  },
  {
   "cell_type": "code",
   "execution_count": 111,
   "id": "98476e5b",
   "metadata": {},
   "outputs": [
    {
     "data": {
      "text/plain": [
       "0.861950005631606"
      ]
     },
     "execution_count": 111,
     "metadata": {},
     "output_type": "execute_result"
    }
   ],
   "source": [
    "var_x = np.var(x,ddof=1)\n",
    "var_y = np.var(y,ddof=1)\n",
    "std_x = var_x**(1/2)\n",
    "std_y = var_y**(1/2)\n",
    "r = cov_xy / (std_x*std_y)\n",
    "r"
   ]
  },
  {
   "cell_type": "markdown",
   "id": "0800c09a",
   "metadata": {},
   "source": [
    "korelasi positif sangat kuat karena sangat mendekati satu."
   ]
  },
  {
   "cell_type": "code",
   "execution_count": 114,
   "id": "d0c7ef31",
   "metadata": {},
   "outputs": [
    {
     "data": {
      "text/plain": [
       "(0.8619500056316061, 5.122760847201135e-07)"
      ]
     },
     "execution_count": 114,
     "metadata": {},
     "output_type": "execute_result"
    }
   ],
   "source": [
    "scipy.stats.pearsonr(x,y)"
   ]
  },
  {
   "cell_type": "code",
   "execution_count": 112,
   "id": "0d4a53d9",
   "metadata": {},
   "outputs": [
    {
     "data": {
      "text/plain": [
       "0.8619500056316061"
      ]
     },
     "execution_count": 112,
     "metadata": {},
     "output_type": "execute_result"
    }
   ],
   "source": [
    "r, p = scipy.stats.pearsonr(x,y)\n",
    "r"
   ]
  },
  {
   "cell_type": "code",
   "execution_count": 113,
   "id": "46b03353",
   "metadata": {},
   "outputs": [
    {
     "data": {
      "text/plain": [
       "5.122760847201135e-07"
      ]
     },
     "execution_count": 113,
     "metadata": {},
     "output_type": "execute_result"
    }
   ],
   "source": [
    "p"
   ]
  },
  {
   "cell_type": "markdown",
   "id": "e0eaa783",
   "metadata": {},
   "source": [
    "#### 25 Maret 2023"
   ]
  },
  {
   "cell_type": "code",
   "execution_count": 115,
   "id": "f2ca0894",
   "metadata": {},
   "outputs": [
    {
     "data": {
      "text/plain": [
       "array([[1.        , 0.86195001],\n",
       "       [0.86195001, 1.        ]])"
      ]
     },
     "execution_count": 115,
     "metadata": {},
     "output_type": "execute_result"
    }
   ],
   "source": [
    "corr_matrix = np.corrcoef(x,y)\n",
    "corr_matrix"
   ]
  },
  {
   "cell_type": "code",
   "execution_count": 116,
   "id": "975c8e7b",
   "metadata": {},
   "outputs": [
    {
     "data": {
      "text/plain": [
       "LinregressResult(slope=0.5181818181818181, intercept=5.714285714285714, rvalue=0.861950005631606, pvalue=5.122760847201164e-07, stderr=0.06992387660074979, intercept_stderr=0.4234100995002589)"
      ]
     },
     "execution_count": 116,
     "metadata": {},
     "output_type": "execute_result"
    }
   ],
   "source": [
    "scipy.stats.linregress(x,y)"
   ]
  },
  {
   "cell_type": "code",
   "execution_count": 117,
   "id": "c1b209d5",
   "metadata": {},
   "outputs": [
    {
     "data": {
      "text/plain": [
       "0.861950005631606"
      ]
     },
     "execution_count": 117,
     "metadata": {},
     "output_type": "execute_result"
    }
   ],
   "source": [
    "scipy.stats.linregress(x,y).rvalue"
   ]
  },
  {
   "cell_type": "markdown",
   "id": "1ed3a7a4",
   "metadata": {},
   "source": [
    "#### Pada Array"
   ]
  },
  {
   "cell_type": "code",
   "execution_count": 119,
   "id": "d7469ad5",
   "metadata": {},
   "outputs": [],
   "source": [
    "a = np.array([[1,1,1],\n",
    "             [2,3,1],\n",
    "             [4,9,2],\n",
    "             [8,27,4],\n",
    "             [16,1,1]])"
   ]
  },
  {
   "cell_type": "code",
   "execution_count": 120,
   "id": "e9f6686f",
   "metadata": {},
   "outputs": [
    {
     "data": {
      "text/plain": [
       "5.4"
      ]
     },
     "execution_count": 120,
     "metadata": {},
     "output_type": "execute_result"
    }
   ],
   "source": [
    "np.mean(a)"
   ]
  },
  {
   "cell_type": "code",
   "execution_count": 121,
   "id": "b95a1d11",
   "metadata": {},
   "outputs": [
    {
     "data": {
      "text/plain": [
       "2.0"
      ]
     },
     "execution_count": 121,
     "metadata": {},
     "output_type": "execute_result"
    }
   ],
   "source": [
    "np.median(a)"
   ]
  },
  {
   "cell_type": "code",
   "execution_count": 125,
   "id": "cdee838e",
   "metadata": {},
   "outputs": [
    {
     "data": {
      "text/plain": [
       "array([6.2, 8.2, 1.8])"
      ]
     },
     "execution_count": 125,
     "metadata": {},
     "output_type": "execute_result"
    }
   ],
   "source": [
    "np.mean(a, axis = 0) #vertical"
   ]
  },
  {
   "cell_type": "code",
   "execution_count": 126,
   "id": "15bcc4d3",
   "metadata": {},
   "outputs": [
    {
     "data": {
      "text/plain": [
       "array([ 1.,  2.,  5., 13.,  6.])"
      ]
     },
     "execution_count": 126,
     "metadata": {},
     "output_type": "execute_result"
    }
   ],
   "source": [
    "np.mean(a, axis=1) #horizontal"
   ]
  },
  {
   "cell_type": "code",
   "execution_count": 127,
   "id": "af70c2a8",
   "metadata": {},
   "outputs": [
    {
     "data": {
      "text/plain": [
       "53.40000000000001"
      ]
     },
     "execution_count": 127,
     "metadata": {},
     "output_type": "execute_result"
    }
   ],
   "source": [
    "np.var(a, ddof=1)"
   ]
  },
  {
   "cell_type": "code",
   "execution_count": 128,
   "id": "084155b5",
   "metadata": {},
   "outputs": [
    {
     "data": {
      "text/plain": [
       "array([ 37.2, 121.2,   1.7])"
      ]
     },
     "execution_count": 128,
     "metadata": {},
     "output_type": "execute_result"
    }
   ],
   "source": [
    "np.var(a, ddof=1, axis=0)"
   ]
  },
  {
   "cell_type": "markdown",
   "id": "ad6fea7f",
   "metadata": {},
   "source": [
    "#### Pada Dataframe"
   ]
  },
  {
   "cell_type": "code",
   "execution_count": 130,
   "id": "bb710966",
   "metadata": {},
   "outputs": [
    {
     "data": {
      "text/html": [
       "<div>\n",
       "<style scoped>\n",
       "    .dataframe tbody tr th:only-of-type {\n",
       "        vertical-align: middle;\n",
       "    }\n",
       "\n",
       "    .dataframe tbody tr th {\n",
       "        vertical-align: top;\n",
       "    }\n",
       "\n",
       "    .dataframe thead th {\n",
       "        text-align: right;\n",
       "    }\n",
       "</style>\n",
       "<table border=\"1\" class=\"dataframe\">\n",
       "  <thead>\n",
       "    <tr style=\"text-align: right;\">\n",
       "      <th></th>\n",
       "      <th>A</th>\n",
       "      <th>B</th>\n",
       "      <th>C</th>\n",
       "    </tr>\n",
       "  </thead>\n",
       "  <tbody>\n",
       "    <tr>\n",
       "      <th>first</th>\n",
       "      <td>1</td>\n",
       "      <td>1</td>\n",
       "      <td>1</td>\n",
       "    </tr>\n",
       "    <tr>\n",
       "      <th>second</th>\n",
       "      <td>2</td>\n",
       "      <td>3</td>\n",
       "      <td>1</td>\n",
       "    </tr>\n",
       "    <tr>\n",
       "      <th>third</th>\n",
       "      <td>4</td>\n",
       "      <td>9</td>\n",
       "      <td>2</td>\n",
       "    </tr>\n",
       "    <tr>\n",
       "      <th>fourth</th>\n",
       "      <td>8</td>\n",
       "      <td>27</td>\n",
       "      <td>4</td>\n",
       "    </tr>\n",
       "    <tr>\n",
       "      <th>fifth</th>\n",
       "      <td>16</td>\n",
       "      <td>1</td>\n",
       "      <td>1</td>\n",
       "    </tr>\n",
       "  </tbody>\n",
       "</table>\n",
       "</div>"
      ],
      "text/plain": [
       "         A   B  C\n",
       "first    1   1  1\n",
       "second   2   3  1\n",
       "third    4   9  2\n",
       "fourth   8  27  4\n",
       "fifth   16   1  1"
      ]
     },
     "execution_count": 130,
     "metadata": {},
     "output_type": "execute_result"
    }
   ],
   "source": [
    "row_names = ['first','second','third','fourth','fifth']\n",
    "col_names=['A','B','C']\n",
    "df = pd.DataFrame(a,index=row_names,columns=col_names)\n",
    "df"
   ]
  },
  {
   "cell_type": "code",
   "execution_count": 131,
   "id": "3ccb3923",
   "metadata": {},
   "outputs": [
    {
     "data": {
      "text/plain": [
       "6.2"
      ]
     },
     "execution_count": 131,
     "metadata": {},
     "output_type": "execute_result"
    }
   ],
   "source": [
    "np.mean(df.A)"
   ]
  },
  {
   "cell_type": "code",
   "execution_count": 133,
   "id": "7bd15ce1",
   "metadata": {},
   "outputs": [
    {
     "data": {
      "text/plain": [
       "6.2"
      ]
     },
     "execution_count": 133,
     "metadata": {},
     "output_type": "execute_result"
    }
   ],
   "source": [
    "df['A'].mean()"
   ]
  },
  {
   "cell_type": "code",
   "execution_count": 135,
   "id": "9042f17c",
   "metadata": {},
   "outputs": [
    {
     "data": {
      "text/plain": [
       "A     37.2\n",
       "B    121.2\n",
       "C      1.7\n",
       "dtype: float64"
      ]
     },
     "execution_count": 135,
     "metadata": {},
     "output_type": "execute_result"
    }
   ],
   "source": [
    "np.var(df, ddof=1)"
   ]
  },
  {
   "cell_type": "code",
   "execution_count": 136,
   "id": "08e96246",
   "metadata": {},
   "outputs": [
    {
     "data": {
      "text/plain": [
       "A     37.2\n",
       "B    121.2\n",
       "C      1.7\n",
       "dtype: float64"
      ]
     },
     "execution_count": 136,
     "metadata": {},
     "output_type": "execute_result"
    }
   ],
   "source": [
    "df.var()"
   ]
  },
  {
   "cell_type": "code",
   "execution_count": 137,
   "id": "488f28f3",
   "metadata": {},
   "outputs": [
    {
     "data": {
      "text/plain": [
       "A    6.2\n",
       "B    8.2\n",
       "C    1.8\n",
       "dtype: float64"
      ]
     },
     "execution_count": 137,
     "metadata": {},
     "output_type": "execute_result"
    }
   ],
   "source": [
    "df.mean(axis=0)"
   ]
  }
 ],
 "metadata": {
  "kernelspec": {
   "display_name": "Python 3 (ipykernel)",
   "language": "python",
   "name": "python3"
  },
  "language_info": {
   "codemirror_mode": {
    "name": "ipython",
    "version": 3
   },
   "file_extension": ".py",
   "mimetype": "text/x-python",
   "name": "python",
   "nbconvert_exporter": "python",
   "pygments_lexer": "ipython3",
   "version": "3.9.12"
  }
 },
 "nbformat": 4,
 "nbformat_minor": 5
}
