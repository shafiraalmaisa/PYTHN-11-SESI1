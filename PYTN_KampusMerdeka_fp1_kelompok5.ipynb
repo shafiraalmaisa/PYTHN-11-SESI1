{
 "cells": [
  {
   "cell_type": "markdown",
   "metadata": {
    "id": "IRESHrFtLgaC"
   },
   "source": [
    "# Final Project 1 (Kelompok 5)\n",
    "\n",
    "Anggota:\n",
    "1. Muhammad Taufiqul Hakim\n",
    "2. M. Dwi Pratama\n",
    "3. Rossanda Sevia Gadis\n",
    "4. Shafira Almaisa"
   ]
  },
  {
   "cell_type": "markdown",
   "metadata": {
    "id": "F5K8tccdMU9G"
   },
   "source": [
    "### Perkenalan \n",
    "\n",
    "1. Latar belakang.\n",
    "> Enih latber\n",
    "\n",
    "2. Data\n",
    "> Data yang digunakan adalah 'Uber and Lyft Dataset Boston, MA' dimana data ini diambil dari website open source Kaggle. Data ini memuat sebanyak 57 kolom dan 693071 baris data. Kolom label atau target variabel dari data ini adalah kolom 'price' dimana kolom dengan value kontinu ini memuat nilai yang mana nilai tersebut dipengaruhi oleh faktor/kolom lainnya.\n",
    "\n",
    "3. Capaian\n",
    "> Menggunakan data ini, akan dibangun sebuah model dimana digunakan data feature(independen variabel) dan data label(dependen variabel) untuk melatih model agar mampu membuat prediksi harga atau tagihan transportasi(output berupa nilai kontinu) menggunakan algoritma linear regression. \n",
    "\n",
    "\n",
    "\n",
    "\n",
    "\n"
   ]
  },
  {
   "cell_type": "markdown",
   "metadata": {
    "id": "usc6yNusvgnc"
   },
   "source": [
    "### Import Pustaka"
   ]
  },
  {
   "cell_type": "code",
   "execution_count": 1,
   "metadata": {
    "id": "aDf99wKtga5b"
   },
   "outputs": [],
   "source": [
    "# import library\n",
    "import pandas as pd\n",
    "import numpy as np\n",
    "\n",
    "# data visualization\n",
    "import matplotlib.pyplot as plt\n",
    "%matplotlib inline\n",
    "import seaborn as sns\n",
    "\n",
    "# regression model\n",
    "from sklearn.linear_model import LinearRegression\n",
    "from sklearn.ensemble import RandomForestRegressor\n",
    "import xgboost as xg\n",
    "\n",
    "# data preprocessing\n",
    "from sklearn.model_selection import train_test_split\n",
    "from sklearn.preprocessing import StandardScaler, LabelEncoder\n",
    "\n",
    "# regression metrics\n",
    "from sklearn.metrics import mean_squared_error\n",
    "from sklearn.metrics import mean_absolute_percentage_error\n",
    "\n",
    "# Score of accuracy regression model\n",
    "from sklearn.metrics import r2_score"
   ]
  },
  {
   "cell_type": "markdown",
   "metadata": {
    "id": "St0v5L9sO07s"
   },
   "source": [
    "Dilakukan import library  dimana akan diakses beberapa fungsi di dalamnya yang akan digunakan untuk keperluan membangun model regresi ini."
   ]
  },
  {
   "cell_type": "markdown",
   "metadata": {
    "id": "Tvt0ehfAvk1_"
   },
   "source": [
    "### Data Loading"
   ]
  },
  {
   "cell_type": "code",
   "execution_count": 2,
   "metadata": {
    "id": "6Qpdz46uRxD2"
   },
   "outputs": [
    {
     "data": {
      "text/html": [
       "<div>\n",
       "<style scoped>\n",
       "    .dataframe tbody tr th:only-of-type {\n",
       "        vertical-align: middle;\n",
       "    }\n",
       "\n",
       "    .dataframe tbody tr th {\n",
       "        vertical-align: top;\n",
       "    }\n",
       "\n",
       "    .dataframe thead th {\n",
       "        text-align: right;\n",
       "    }\n",
       "</style>\n",
       "<table border=\"1\" class=\"dataframe\">\n",
       "  <thead>\n",
       "    <tr style=\"text-align: right;\">\n",
       "      <th></th>\n",
       "      <th>id</th>\n",
       "      <th>timestamp</th>\n",
       "      <th>hour</th>\n",
       "      <th>day</th>\n",
       "      <th>month</th>\n",
       "      <th>datetime</th>\n",
       "      <th>timezone</th>\n",
       "      <th>source</th>\n",
       "      <th>destination</th>\n",
       "      <th>cab_type</th>\n",
       "      <th>...</th>\n",
       "      <th>precipIntensityMax</th>\n",
       "      <th>uvIndexTime</th>\n",
       "      <th>temperatureMin</th>\n",
       "      <th>temperatureMinTime</th>\n",
       "      <th>temperatureMax</th>\n",
       "      <th>temperatureMaxTime</th>\n",
       "      <th>apparentTemperatureMin</th>\n",
       "      <th>apparentTemperatureMinTime</th>\n",
       "      <th>apparentTemperatureMax</th>\n",
       "      <th>apparentTemperatureMaxTime</th>\n",
       "    </tr>\n",
       "  </thead>\n",
       "  <tbody>\n",
       "    <tr>\n",
       "      <th>0</th>\n",
       "      <td>424553bb-7174-41ea-aeb4-fe06d4f4b9d7</td>\n",
       "      <td>1.544953e+09</td>\n",
       "      <td>9</td>\n",
       "      <td>16</td>\n",
       "      <td>12</td>\n",
       "      <td>2018-12-16 09:30:07</td>\n",
       "      <td>America/New_York</td>\n",
       "      <td>Haymarket Square</td>\n",
       "      <td>North Station</td>\n",
       "      <td>Lyft</td>\n",
       "      <td>...</td>\n",
       "      <td>0.1276</td>\n",
       "      <td>1544979600</td>\n",
       "      <td>39.89</td>\n",
       "      <td>1545012000</td>\n",
       "      <td>43.68</td>\n",
       "      <td>1544968800</td>\n",
       "      <td>33.73</td>\n",
       "      <td>1545012000</td>\n",
       "      <td>38.07</td>\n",
       "      <td>1544958000</td>\n",
       "    </tr>\n",
       "    <tr>\n",
       "      <th>1</th>\n",
       "      <td>4bd23055-6827-41c6-b23b-3c491f24e74d</td>\n",
       "      <td>1.543284e+09</td>\n",
       "      <td>2</td>\n",
       "      <td>27</td>\n",
       "      <td>11</td>\n",
       "      <td>2018-11-27 02:00:23</td>\n",
       "      <td>America/New_York</td>\n",
       "      <td>Haymarket Square</td>\n",
       "      <td>North Station</td>\n",
       "      <td>Lyft</td>\n",
       "      <td>...</td>\n",
       "      <td>0.1300</td>\n",
       "      <td>1543251600</td>\n",
       "      <td>40.49</td>\n",
       "      <td>1543233600</td>\n",
       "      <td>47.30</td>\n",
       "      <td>1543251600</td>\n",
       "      <td>36.20</td>\n",
       "      <td>1543291200</td>\n",
       "      <td>43.92</td>\n",
       "      <td>1543251600</td>\n",
       "    </tr>\n",
       "    <tr>\n",
       "      <th>2</th>\n",
       "      <td>981a3613-77af-4620-a42a-0c0866077d1e</td>\n",
       "      <td>1.543367e+09</td>\n",
       "      <td>1</td>\n",
       "      <td>28</td>\n",
       "      <td>11</td>\n",
       "      <td>2018-11-28 01:00:22</td>\n",
       "      <td>America/New_York</td>\n",
       "      <td>Haymarket Square</td>\n",
       "      <td>North Station</td>\n",
       "      <td>Lyft</td>\n",
       "      <td>...</td>\n",
       "      <td>0.1064</td>\n",
       "      <td>1543338000</td>\n",
       "      <td>35.36</td>\n",
       "      <td>1543377600</td>\n",
       "      <td>47.55</td>\n",
       "      <td>1543320000</td>\n",
       "      <td>31.04</td>\n",
       "      <td>1543377600</td>\n",
       "      <td>44.12</td>\n",
       "      <td>1543320000</td>\n",
       "    </tr>\n",
       "    <tr>\n",
       "      <th>3</th>\n",
       "      <td>c2d88af2-d278-4bfd-a8d0-29ca77cc5512</td>\n",
       "      <td>1.543554e+09</td>\n",
       "      <td>4</td>\n",
       "      <td>30</td>\n",
       "      <td>11</td>\n",
       "      <td>2018-11-30 04:53:02</td>\n",
       "      <td>America/New_York</td>\n",
       "      <td>Haymarket Square</td>\n",
       "      <td>North Station</td>\n",
       "      <td>Lyft</td>\n",
       "      <td>...</td>\n",
       "      <td>0.0000</td>\n",
       "      <td>1543507200</td>\n",
       "      <td>34.67</td>\n",
       "      <td>1543550400</td>\n",
       "      <td>45.03</td>\n",
       "      <td>1543510800</td>\n",
       "      <td>30.30</td>\n",
       "      <td>1543550400</td>\n",
       "      <td>38.53</td>\n",
       "      <td>1543510800</td>\n",
       "    </tr>\n",
       "    <tr>\n",
       "      <th>4</th>\n",
       "      <td>e0126e1f-8ca9-4f2e-82b3-50505a09db9a</td>\n",
       "      <td>1.543463e+09</td>\n",
       "      <td>3</td>\n",
       "      <td>29</td>\n",
       "      <td>11</td>\n",
       "      <td>2018-11-29 03:49:20</td>\n",
       "      <td>America/New_York</td>\n",
       "      <td>Haymarket Square</td>\n",
       "      <td>North Station</td>\n",
       "      <td>Lyft</td>\n",
       "      <td>...</td>\n",
       "      <td>0.0001</td>\n",
       "      <td>1543420800</td>\n",
       "      <td>33.10</td>\n",
       "      <td>1543402800</td>\n",
       "      <td>42.18</td>\n",
       "      <td>1543420800</td>\n",
       "      <td>29.11</td>\n",
       "      <td>1543392000</td>\n",
       "      <td>35.75</td>\n",
       "      <td>1543420800</td>\n",
       "    </tr>\n",
       "  </tbody>\n",
       "</table>\n",
       "<p>5 rows × 57 columns</p>\n",
       "</div>"
      ],
      "text/plain": [
       "                                     id     timestamp  hour  day  month  \\\n",
       "0  424553bb-7174-41ea-aeb4-fe06d4f4b9d7  1.544953e+09     9   16     12   \n",
       "1  4bd23055-6827-41c6-b23b-3c491f24e74d  1.543284e+09     2   27     11   \n",
       "2  981a3613-77af-4620-a42a-0c0866077d1e  1.543367e+09     1   28     11   \n",
       "3  c2d88af2-d278-4bfd-a8d0-29ca77cc5512  1.543554e+09     4   30     11   \n",
       "4  e0126e1f-8ca9-4f2e-82b3-50505a09db9a  1.543463e+09     3   29     11   \n",
       "\n",
       "              datetime          timezone            source    destination  \\\n",
       "0  2018-12-16 09:30:07  America/New_York  Haymarket Square  North Station   \n",
       "1  2018-11-27 02:00:23  America/New_York  Haymarket Square  North Station   \n",
       "2  2018-11-28 01:00:22  America/New_York  Haymarket Square  North Station   \n",
       "3  2018-11-30 04:53:02  America/New_York  Haymarket Square  North Station   \n",
       "4  2018-11-29 03:49:20  America/New_York  Haymarket Square  North Station   \n",
       "\n",
       "  cab_type  ... precipIntensityMax uvIndexTime  temperatureMin  \\\n",
       "0     Lyft  ...             0.1276  1544979600           39.89   \n",
       "1     Lyft  ...             0.1300  1543251600           40.49   \n",
       "2     Lyft  ...             0.1064  1543338000           35.36   \n",
       "3     Lyft  ...             0.0000  1543507200           34.67   \n",
       "4     Lyft  ...             0.0001  1543420800           33.10   \n",
       "\n",
       "   temperatureMinTime  temperatureMax  temperatureMaxTime  \\\n",
       "0          1545012000           43.68          1544968800   \n",
       "1          1543233600           47.30          1543251600   \n",
       "2          1543377600           47.55          1543320000   \n",
       "3          1543550400           45.03          1543510800   \n",
       "4          1543402800           42.18          1543420800   \n",
       "\n",
       "   apparentTemperatureMin  apparentTemperatureMinTime  apparentTemperatureMax  \\\n",
       "0                   33.73                  1545012000                   38.07   \n",
       "1                   36.20                  1543291200                   43.92   \n",
       "2                   31.04                  1543377600                   44.12   \n",
       "3                   30.30                  1543550400                   38.53   \n",
       "4                   29.11                  1543392000                   35.75   \n",
       "\n",
       "  apparentTemperatureMaxTime  \n",
       "0                 1544958000  \n",
       "1                 1543251600  \n",
       "2                 1543320000  \n",
       "3                 1543510800  \n",
       "4                 1543420800  \n",
       "\n",
       "[5 rows x 57 columns]"
      ]
     },
     "execution_count": 2,
     "metadata": {},
     "output_type": "execute_result"
    }
   ],
   "source": [
    "# read data\n",
    "import pandas as pd\n",
    "df = pd.read_csv('rideshare_kaggle.csv')\n",
    "df.head()"
   ]
  },
  {
   "cell_type": "markdown",
   "metadata": {
    "id": "QFuLXyPzUAlO"
   },
   "source": [
    "Dilakukan read file csv yang mana memuat dataset berisikan data Uber dan Lyft tepatnya di kota Boston. Kemudian ditampilkan data teratas untuk melihat gambaran data secara umum."
   ]
  },
  {
   "cell_type": "code",
   "execution_count": 3,
   "metadata": {
    "id": "Pp1ORrD0hb40"
   },
   "outputs": [
    {
     "data": {
      "text/plain": [
       "(693071, 57)"
      ]
     },
     "execution_count": 3,
     "metadata": {},
     "output_type": "execute_result"
    }
   ],
   "source": [
    "# shape of the dataset\n",
    "df.shape"
   ]
  },
  {
   "cell_type": "markdown",
   "metadata": {
    "id": "tXlUSxK4hd1p"
   },
   "source": [
    "Bertujuan untuk melihat bentuk data (jumlah baris, jumlah kolom).\n",
    "\n",
    "\n",
    "\n"
   ]
  },
  {
   "cell_type": "code",
   "execution_count": 4,
   "metadata": {
    "id": "4VxHOus9a13l"
   },
   "outputs": [
    {
     "data": {
      "text/plain": [
       "id                                 0\n",
       "timestamp                          0\n",
       "hour                               0\n",
       "day                                0\n",
       "month                              0\n",
       "datetime                           0\n",
       "timezone                           0\n",
       "source                             0\n",
       "destination                        0\n",
       "cab_type                           0\n",
       "product_id                         0\n",
       "name                               0\n",
       "price                          55095\n",
       "distance                           0\n",
       "surge_multiplier                   0\n",
       "latitude                           0\n",
       "longitude                          0\n",
       "temperature                        0\n",
       "apparentTemperature                0\n",
       "short_summary                      0\n",
       "long_summary                       0\n",
       "precipIntensity                    0\n",
       "precipProbability                  0\n",
       "humidity                           0\n",
       "windSpeed                          0\n",
       "windGust                           0\n",
       "windGustTime                       0\n",
       "visibility                         0\n",
       "temperatureHigh                    0\n",
       "temperatureHighTime                0\n",
       "temperatureLow                     0\n",
       "temperatureLowTime                 0\n",
       "apparentTemperatureHigh            0\n",
       "apparentTemperatureHighTime        0\n",
       "apparentTemperatureLow             0\n",
       "apparentTemperatureLowTime         0\n",
       "icon                               0\n",
       "dewPoint                           0\n",
       "pressure                           0\n",
       "windBearing                        0\n",
       "cloudCover                         0\n",
       "uvIndex                            0\n",
       "visibility.1                       0\n",
       "ozone                              0\n",
       "sunriseTime                        0\n",
       "sunsetTime                         0\n",
       "moonPhase                          0\n",
       "precipIntensityMax                 0\n",
       "uvIndexTime                        0\n",
       "temperatureMin                     0\n",
       "temperatureMinTime                 0\n",
       "temperatureMax                     0\n",
       "temperatureMaxTime                 0\n",
       "apparentTemperatureMin             0\n",
       "apparentTemperatureMinTime         0\n",
       "apparentTemperatureMax             0\n",
       "apparentTemperatureMaxTime         0\n",
       "dtype: int64"
      ]
     },
     "execution_count": 4,
     "metadata": {},
     "output_type": "execute_result"
    }
   ],
   "source": [
    "# check null values\n",
    "df.isna().sum()"
   ]
  },
  {
   "cell_type": "markdown",
   "metadata": {
    "id": "ofWn0hvubgRI"
   },
   "source": [
    "Dilakukan pengecekan nilai null di masing-masing kolom dimana nilai null tersebut dihitung jumlahnya dan diberikan output berupa total null values dari masing-masing kolom."
   ]
  },
  {
   "cell_type": "code",
   "execution_count": 5,
   "metadata": {
    "id": "M8nQqLz5YyFS"
   },
   "outputs": [
    {
     "name": "stdout",
     "output_type": "stream",
     "text": [
      "<class 'pandas.core.frame.DataFrame'>\n",
      "RangeIndex: 693071 entries, 0 to 693070\n",
      "Data columns (total 57 columns):\n",
      " #   Column                       Non-Null Count   Dtype  \n",
      "---  ------                       --------------   -----  \n",
      " 0   id                           693071 non-null  object \n",
      " 1   timestamp                    693071 non-null  float64\n",
      " 2   hour                         693071 non-null  int64  \n",
      " 3   day                          693071 non-null  int64  \n",
      " 4   month                        693071 non-null  int64  \n",
      " 5   datetime                     693071 non-null  object \n",
      " 6   timezone                     693071 non-null  object \n",
      " 7   source                       693071 non-null  object \n",
      " 8   destination                  693071 non-null  object \n",
      " 9   cab_type                     693071 non-null  object \n",
      " 10  product_id                   693071 non-null  object \n",
      " 11  name                         693071 non-null  object \n",
      " 12  price                        637976 non-null  float64\n",
      " 13  distance                     693071 non-null  float64\n",
      " 14  surge_multiplier             693071 non-null  float64\n",
      " 15  latitude                     693071 non-null  float64\n",
      " 16  longitude                    693071 non-null  float64\n",
      " 17  temperature                  693071 non-null  float64\n",
      " 18  apparentTemperature          693071 non-null  float64\n",
      " 19  short_summary                693071 non-null  object \n",
      " 20  long_summary                 693071 non-null  object \n",
      " 21  precipIntensity              693071 non-null  float64\n",
      " 22  precipProbability            693071 non-null  float64\n",
      " 23  humidity                     693071 non-null  float64\n",
      " 24  windSpeed                    693071 non-null  float64\n",
      " 25  windGust                     693071 non-null  float64\n",
      " 26  windGustTime                 693071 non-null  int64  \n",
      " 27  visibility                   693071 non-null  float64\n",
      " 28  temperatureHigh              693071 non-null  float64\n",
      " 29  temperatureHighTime          693071 non-null  int64  \n",
      " 30  temperatureLow               693071 non-null  float64\n",
      " 31  temperatureLowTime           693071 non-null  int64  \n",
      " 32  apparentTemperatureHigh      693071 non-null  float64\n",
      " 33  apparentTemperatureHighTime  693071 non-null  int64  \n",
      " 34  apparentTemperatureLow       693071 non-null  float64\n",
      " 35  apparentTemperatureLowTime   693071 non-null  int64  \n",
      " 36  icon                         693071 non-null  object \n",
      " 37  dewPoint                     693071 non-null  float64\n",
      " 38  pressure                     693071 non-null  float64\n",
      " 39  windBearing                  693071 non-null  int64  \n",
      " 40  cloudCover                   693071 non-null  float64\n",
      " 41  uvIndex                      693071 non-null  int64  \n",
      " 42  visibility.1                 693071 non-null  float64\n",
      " 43  ozone                        693071 non-null  float64\n",
      " 44  sunriseTime                  693071 non-null  int64  \n",
      " 45  sunsetTime                   693071 non-null  int64  \n",
      " 46  moonPhase                    693071 non-null  float64\n",
      " 47  precipIntensityMax           693071 non-null  float64\n",
      " 48  uvIndexTime                  693071 non-null  int64  \n",
      " 49  temperatureMin               693071 non-null  float64\n",
      " 50  temperatureMinTime           693071 non-null  int64  \n",
      " 51  temperatureMax               693071 non-null  float64\n",
      " 52  temperatureMaxTime           693071 non-null  int64  \n",
      " 53  apparentTemperatureMin       693071 non-null  float64\n",
      " 54  apparentTemperatureMinTime   693071 non-null  int64  \n",
      " 55  apparentTemperatureMax       693071 non-null  float64\n",
      " 56  apparentTemperatureMaxTime   693071 non-null  int64  \n",
      "dtypes: float64(29), int64(17), object(11)\n",
      "memory usage: 301.4+ MB\n"
     ]
    }
   ],
   "source": [
    "# show information of dataset\n",
    "df.info()"
   ]
  },
  {
   "cell_type": "markdown",
   "metadata": {
    "id": "lIoeVDBIZMGo"
   },
   "source": [
    "Dilihat informasi dari dataset menggunakan fungsi info() dimana akan diberikan output berupa daftar nama kolom, informasi jumlah data non-null di masing-masing kolom serta tipe data dari masing-masing kolom."
   ]
  },
  {
   "cell_type": "markdown",
   "metadata": {
    "id": "gpmeSbGLvyv5"
   },
   "source": [
    "### Data Cleaning"
   ]
  },
  {
   "cell_type": "code",
   "execution_count": 6,
   "metadata": {
    "id": "wv374B0GbwZq"
   },
   "outputs": [],
   "source": [
    "# assign kolom yang akan digunakan\n",
    "df = df[['name', 'cab_type','surge_multiplier', 'distance', 'price']]"
   ]
  },
  {
   "cell_type": "code",
   "execution_count": 7,
   "metadata": {},
   "outputs": [
    {
     "data": {
      "text/html": [
       "<div>\n",
       "<style scoped>\n",
       "    .dataframe tbody tr th:only-of-type {\n",
       "        vertical-align: middle;\n",
       "    }\n",
       "\n",
       "    .dataframe tbody tr th {\n",
       "        vertical-align: top;\n",
       "    }\n",
       "\n",
       "    .dataframe thead th {\n",
       "        text-align: right;\n",
       "    }\n",
       "</style>\n",
       "<table border=\"1\" class=\"dataframe\">\n",
       "  <thead>\n",
       "    <tr style=\"text-align: right;\">\n",
       "      <th></th>\n",
       "      <th>name</th>\n",
       "      <th>cab_type</th>\n",
       "      <th>surge_multiplier</th>\n",
       "      <th>distance</th>\n",
       "      <th>price</th>\n",
       "    </tr>\n",
       "  </thead>\n",
       "  <tbody>\n",
       "    <tr>\n",
       "      <th>0</th>\n",
       "      <td>Shared</td>\n",
       "      <td>Lyft</td>\n",
       "      <td>1.0</td>\n",
       "      <td>0.44</td>\n",
       "      <td>5.0</td>\n",
       "    </tr>\n",
       "    <tr>\n",
       "      <th>1</th>\n",
       "      <td>Lux</td>\n",
       "      <td>Lyft</td>\n",
       "      <td>1.0</td>\n",
       "      <td>0.44</td>\n",
       "      <td>11.0</td>\n",
       "    </tr>\n",
       "    <tr>\n",
       "      <th>2</th>\n",
       "      <td>Lyft</td>\n",
       "      <td>Lyft</td>\n",
       "      <td>1.0</td>\n",
       "      <td>0.44</td>\n",
       "      <td>7.0</td>\n",
       "    </tr>\n",
       "    <tr>\n",
       "      <th>3</th>\n",
       "      <td>Lux Black XL</td>\n",
       "      <td>Lyft</td>\n",
       "      <td>1.0</td>\n",
       "      <td>0.44</td>\n",
       "      <td>26.0</td>\n",
       "    </tr>\n",
       "    <tr>\n",
       "      <th>4</th>\n",
       "      <td>Lyft XL</td>\n",
       "      <td>Lyft</td>\n",
       "      <td>1.0</td>\n",
       "      <td>0.44</td>\n",
       "      <td>9.0</td>\n",
       "    </tr>\n",
       "    <tr>\n",
       "      <th>...</th>\n",
       "      <td>...</td>\n",
       "      <td>...</td>\n",
       "      <td>...</td>\n",
       "      <td>...</td>\n",
       "      <td>...</td>\n",
       "    </tr>\n",
       "    <tr>\n",
       "      <th>693066</th>\n",
       "      <td>UberXL</td>\n",
       "      <td>Uber</td>\n",
       "      <td>1.0</td>\n",
       "      <td>1.00</td>\n",
       "      <td>13.0</td>\n",
       "    </tr>\n",
       "    <tr>\n",
       "      <th>693067</th>\n",
       "      <td>UberX</td>\n",
       "      <td>Uber</td>\n",
       "      <td>1.0</td>\n",
       "      <td>1.00</td>\n",
       "      <td>9.5</td>\n",
       "    </tr>\n",
       "    <tr>\n",
       "      <th>693068</th>\n",
       "      <td>Taxi</td>\n",
       "      <td>Uber</td>\n",
       "      <td>1.0</td>\n",
       "      <td>1.00</td>\n",
       "      <td>NaN</td>\n",
       "    </tr>\n",
       "    <tr>\n",
       "      <th>693069</th>\n",
       "      <td>Black SUV</td>\n",
       "      <td>Uber</td>\n",
       "      <td>1.0</td>\n",
       "      <td>1.00</td>\n",
       "      <td>27.0</td>\n",
       "    </tr>\n",
       "    <tr>\n",
       "      <th>693070</th>\n",
       "      <td>UberPool</td>\n",
       "      <td>Uber</td>\n",
       "      <td>1.0</td>\n",
       "      <td>1.00</td>\n",
       "      <td>10.0</td>\n",
       "    </tr>\n",
       "  </tbody>\n",
       "</table>\n",
       "<p>693071 rows × 5 columns</p>\n",
       "</div>"
      ],
      "text/plain": [
       "                name cab_type  surge_multiplier  distance  price\n",
       "0             Shared     Lyft               1.0      0.44    5.0\n",
       "1                Lux     Lyft               1.0      0.44   11.0\n",
       "2               Lyft     Lyft               1.0      0.44    7.0\n",
       "3       Lux Black XL     Lyft               1.0      0.44   26.0\n",
       "4            Lyft XL     Lyft               1.0      0.44    9.0\n",
       "...              ...      ...               ...       ...    ...\n",
       "693066        UberXL     Uber               1.0      1.00   13.0\n",
       "693067         UberX     Uber               1.0      1.00    9.5\n",
       "693068          Taxi     Uber               1.0      1.00    NaN\n",
       "693069     Black SUV     Uber               1.0      1.00   27.0\n",
       "693070      UberPool     Uber               1.0      1.00   10.0\n",
       "\n",
       "[693071 rows x 5 columns]"
      ]
     },
     "execution_count": 7,
     "metadata": {},
     "output_type": "execute_result"
    }
   ],
   "source": [
    "df"
   ]
  },
  {
   "cell_type": "markdown",
   "metadata": {
    "id": "jEf1emTkf1i9"
   },
   "source": [
    "Kami memilih price sebagai dependen variabel atau target variable yang mana akan menjadi sesuatu yang akan diprediksi. Dikarenakan jumlah kolom dari data awal terlalu besar, dipilih beberapa kolom yang sekiranya sangat mempengaruhi nilai dari price. Menurut kami, name(jenis/merk kendaraan), surge_multiplier dan distance(jarak) memberikan pengaruh yang besar untuk kenaikan atau penurunan harga transportasi."
   ]
  },
  {
   "cell_type": "code",
   "execution_count": 8,
   "metadata": {
    "id": "L9T2OJspghNR"
   },
   "outputs": [],
   "source": [
    "# mencari value error pada kolom name\n",
    "cnt = 0 \n",
    "for row in df['name']:\n",
    "    try:\n",
    "        float(row)\n",
    "        df.loc[cnt, 'name'] = np.nan\n",
    "    except ValueError:\n",
    "        pass\n",
    "    cnt += 1"
   ]
  },
  {
   "cell_type": "markdown",
   "metadata": {
    "id": "4hSgRoVSs3Vp"
   },
   "source": [
    "Dilakukan pengecekan value error atau kondisi dimana di dalam kolom name terdapat data yang tidak sesuai dimana setelah itu value error tersebut akan digantikan dengan NaN."
   ]
  },
  {
   "cell_type": "code",
   "execution_count": 9,
   "metadata": {
    "id": "YKKu1UDap76q"
   },
   "outputs": [],
   "source": [
    "# mencari value error pada kolom surge_multiplier\n",
    "cnt = 0 \n",
    "for row in df['surge_multiplier']:\n",
    "    try:\n",
    "        float(row)\n",
    "        pass\n",
    "    except ValueError:\n",
    "        df.loc[cnt, 'surge_multiplier'] = np.nan\n",
    "    cnt += 1"
   ]
  },
  {
   "cell_type": "markdown",
   "metadata": {
    "id": "vMMkk7bxtH7c"
   },
   "source": [
    "Dilakukan pengecekan value error atau kondisi dimana di dalam kolom surge_multiplier terdapat data yang tidak sesuai dimana setelah itu value error tersebut akan digantikan dengan NaN."
   ]
  },
  {
   "cell_type": "code",
   "execution_count": 10,
   "metadata": {
    "id": "NHUjaCdSp-oO"
   },
   "outputs": [],
   "source": [
    "# mencari value error pada kolom distance\n",
    "cnt = 0 \n",
    "for row in df['distance']:\n",
    "    try:\n",
    "        float(row)\n",
    "        pass\n",
    "    except ValueError:\n",
    "        df.loc[cnt, 'distance'] = np.nan\n",
    "    cnt += 1"
   ]
  },
  {
   "cell_type": "markdown",
   "metadata": {
    "id": "mujPP0EitKCc"
   },
   "source": [
    "Dilakukan pengecekan value error atau kondisi dimana di dalam kolom distance terdapat data yang tidak sesuai dimana setelah itu value error tersebut akan digantikan dengan NaN."
   ]
  },
  {
   "cell_type": "code",
   "execution_count": 11,
   "metadata": {
    "id": "IEZP3aY2s0ws"
   },
   "outputs": [],
   "source": [
    "# mencari value error pada kolom price\n",
    "cnt = 0 \n",
    "for row in df['price']:\n",
    "    try:\n",
    "        float(row)\n",
    "        pass\n",
    "    except ValueError:\n",
    "        df.loc[cnt, 'price'] = np.nan\n",
    "    cnt += 1"
   ]
  },
  {
   "cell_type": "markdown",
   "metadata": {
    "id": "NCY9T8nPtU5z"
   },
   "source": [
    "Dilakukan pengecekan value error atau kondisi dimana di dalam kolom price terdapat data yang tidak sesuai dimana setelah itu value error tersebut akan digantikan dengan NaN."
   ]
  },
  {
   "cell_type": "code",
   "execution_count": 12,
   "metadata": {
    "id": "QdEdvJMitWF9"
   },
   "outputs": [
    {
     "data": {
      "text/plain": [
       "name                    0\n",
       "cab_type                0\n",
       "surge_multiplier        0\n",
       "distance                0\n",
       "price               55095\n",
       "dtype: int64"
      ]
     },
     "execution_count": 12,
     "metadata": {},
     "output_type": "execute_result"
    }
   ],
   "source": [
    "# check null values\n",
    "df.isna().sum()"
   ]
  },
  {
   "cell_type": "markdown",
   "metadata": {
    "id": "RiK2Qbsntfjt"
   },
   "source": [
    "Setelah dilakukan pemeriksaan error values, dilakukan pengecekan nilai NaN lagi untuk memastikan apakah error values ditemukan dan telah teratasi yang kemudian akan dilanjutkan dengan handling missing values."
   ]
  },
  {
   "cell_type": "code",
   "execution_count": 13,
   "metadata": {
    "id": "P3pkqaiZtzru"
   },
   "outputs": [
    {
     "data": {
      "text/plain": [
       "(693071, 5)"
      ]
     },
     "execution_count": 13,
     "metadata": {},
     "output_type": "execute_result"
    }
   ],
   "source": [
    "# menampilkan bentuk data\n",
    "df.shape"
   ]
  },
  {
   "cell_type": "markdown",
   "metadata": {
    "id": "Nt4ul6eyuTiY"
   },
   "source": [
    "Setelah ditampilkan bentuk data, jika dibandingkan dengan jumlah missing value ada sekitar 7% missing data dari keseluruhan data. Oleh karena itu, dilakukan drop missing value dikarenakan jumlahnya yang sedikit dianggap tidak terlalu memberikan pengaruh untuk proses membangun model."
   ]
  },
  {
   "cell_type": "code",
   "execution_count": 14,
   "metadata": {
    "id": "4xQWX7touw0i"
   },
   "outputs": [],
   "source": [
    "# menghapus missing value\n",
    "df.dropna(inplace=True)"
   ]
  },
  {
   "cell_type": "markdown",
   "metadata": {
    "id": "b3pZqhzd5DCT"
   },
   "source": [
    "Menggunakan dropna() dilakukan penghapusan nilai NaN dengan parameter axis defaultnya adalah 0 dimana akan dilakukan penghapusan nilai NaN berdasarkan index atau baris. Sehingga, setelah dilakukan drop missing values jumlah data akan berkurang."
   ]
  },
  {
   "cell_type": "code",
   "execution_count": 15,
   "metadata": {
    "id": "i_abciNl5Zx7"
   },
   "outputs": [
    {
     "data": {
      "text/plain": [
       "name                0\n",
       "cab_type            0\n",
       "surge_multiplier    0\n",
       "distance            0\n",
       "price               0\n",
       "dtype: int64"
      ]
     },
     "execution_count": 15,
     "metadata": {},
     "output_type": "execute_result"
    }
   ],
   "source": [
    "# check nilai NaN\n",
    "df.isna().sum()"
   ]
  },
  {
   "cell_type": "markdown",
   "metadata": {
    "id": "T7DQ1CDe5lOR"
   },
   "source": [
    "Setelah diperiksa kembali, dapat disimpulkan data telah bersih dari missing values."
   ]
  },
  {
   "cell_type": "markdown",
   "metadata": {
    "id": "tn7WbscC8euG"
   },
   "source": [
    "### Eksplorasi Data"
   ]
  },
  {
   "cell_type": "markdown",
   "metadata": {},
   "source": [
    "Untuk mengetahui jenis/tipe mobil manakah yang sering dipesan oleh pelanggan, dapat digunakan fungsi `.value_counts()` untuk menghitung total jumlah pemesanan setiap jenis/tipe mobil. Fungsi `.sort_values(ascending=True)` digunakan untuk mengurutkan value dari total jumlah pemesanan setiap jenis/tipe mobil dari yang paling sedikit ke paling banyak."
   ]
  },
  {
   "cell_type": "code",
   "execution_count": 16,
   "metadata": {
    "id": "lHdvcAUJ6AYB"
   },
   "outputs": [
    {
     "data": {
      "text/plain": [
       "Shared          51233\n",
       "Lux             51235\n",
       "Lyft            51235\n",
       "Lux Black XL    51235\n",
       "Lyft XL         51235\n",
       "Lux Black       51235\n",
       "UberPool        55091\n",
       "UberX           55094\n",
       "Black           55095\n",
       "UberXL          55096\n",
       "WAV             55096\n",
       "Black SUV       55096\n",
       "Name: name, dtype: int64"
      ]
     },
     "execution_count": 16,
     "metadata": {},
     "output_type": "execute_result"
    }
   ],
   "source": [
    "df_name = df.name.value_counts()\n",
    "df_name = df_name.sort_values(ascending=True)\n",
    "df_name"
   ]
  },
  {
   "cell_type": "markdown",
   "metadata": {},
   "source": [
    "Hasil yang didapatkan dapat divisualisasikan menggunakan bar plot atau diagram batang menggunakan fungsi `.plot()` dengan argumen yang disesuaikan.\n",
    "\n",
    "- `kind='bar' `: mendefinisikan jenis plot yang digunakan yaitu bar plot\n",
    "- `figsize=()` : mendefinisikan ukuran dari plot yang akan dibuat\n",
    "- `color=' '` : memberi warna pada plot\n",
    "- `edgecolor=' '` : memberi warna pada tepi plot\n",
    "\n",
    "Untuk menambahkan keterangan pada plot, dapat digunakan fungsi sebagai berikut:\n",
    "\n",
    "- `plt.title()` : memberi judul pada plot\n",
    "- `plt.xlabel()` : memberi keterangan pada sumbu X\n",
    "- `plt.ylable()` : memberi keterangan pada sumbu Y\n",
    "- `size= ` : mengatur ukuran"
   ]
  },
  {
   "cell_type": "code",
   "execution_count": 17,
   "metadata": {},
   "outputs": [
    {
     "data": {
      "image/png": "[encoded data removed]",
      "text/plain": [
       "<Figure size 720x360 with 1 Axes>"
      ]
     },
     "metadata": {
      "needs_background": "light"
     },
     "output_type": "display_data"
    }
   ],
   "source": [
    "df_name.plot(kind='bar', figsize=(10,5), color='skyblue', edgecolor='black')\n",
    "plt.title('Comparation Between Car Name', size=15)\n",
    "plt.xlabel('Car Name', size=13)\n",
    "plt.ylabel('Value', size=13)\n",
    "plt.show()"
   ]
  },
  {
   "cell_type": "markdown",
   "metadata": {},
   "source": [
    "Berdasarkan bar plot, dapat diketahui bahwa mobil jenis Shared adalah jenis mobil yang paling sedikit dipesan oleh pelanggan. Sedangkan mobil jenis Black SUV adalah jenis mobil yang paling banyak dipesan oleh pelanggan."
   ]
  },
  {
   "cell_type": "markdown",
   "metadata": {
    "id": "6biPkQUO4H6r"
   },
   "source": [
    "Informasi mengenai statistik deskriptif dari set data dapat diketahui menggunakan fungsi `.describe()`. Informasi yang diperoleh adalah ringkasan mengenai ukuran pemusatan data (central tendency) dan ukuran penyebaran data (measure of spread) dari masing-masing kolom yang berisi nilai numerik pada set data."
   ]
  },
  {
   "cell_type": "code",
   "execution_count": 18,
   "metadata": {
    "id": "A6ZHUX3Q4Krs"
   },
   "outputs": [
    {
     "data": {
      "text/html": [
       "<div>\n",
       "<style scoped>\n",
       "    .dataframe tbody tr th:only-of-type {\n",
       "        vertical-align: middle;\n",
       "    }\n",
       "\n",
       "    .dataframe tbody tr th {\n",
       "        vertical-align: top;\n",
       "    }\n",
       "\n",
       "    .dataframe thead th {\n",
       "        text-align: right;\n",
       "    }\n",
       "</style>\n",
       "<table border=\"1\" class=\"dataframe\">\n",
       "  <thead>\n",
       "    <tr style=\"text-align: right;\">\n",
       "      <th></th>\n",
       "      <th>surge_multiplier</th>\n",
       "      <th>distance</th>\n",
       "      <th>price</th>\n",
       "    </tr>\n",
       "  </thead>\n",
       "  <tbody>\n",
       "    <tr>\n",
       "      <th>count</th>\n",
       "      <td>637976.000000</td>\n",
       "      <td>637976.000000</td>\n",
       "      <td>637976.000000</td>\n",
       "    </tr>\n",
       "    <tr>\n",
       "      <th>mean</th>\n",
       "      <td>1.015068</td>\n",
       "      <td>2.189261</td>\n",
       "      <td>16.545125</td>\n",
       "    </tr>\n",
       "    <tr>\n",
       "      <th>std</th>\n",
       "      <td>0.095422</td>\n",
       "      <td>1.135413</td>\n",
       "      <td>9.324359</td>\n",
       "    </tr>\n",
       "    <tr>\n",
       "      <th>min</th>\n",
       "      <td>1.000000</td>\n",
       "      <td>0.020000</td>\n",
       "      <td>2.500000</td>\n",
       "    </tr>\n",
       "    <tr>\n",
       "      <th>25%</th>\n",
       "      <td>1.000000</td>\n",
       "      <td>1.270000</td>\n",
       "      <td>9.000000</td>\n",
       "    </tr>\n",
       "    <tr>\n",
       "      <th>50%</th>\n",
       "      <td>1.000000</td>\n",
       "      <td>2.160000</td>\n",
       "      <td>13.500000</td>\n",
       "    </tr>\n",
       "    <tr>\n",
       "      <th>75%</th>\n",
       "      <td>1.000000</td>\n",
       "      <td>2.930000</td>\n",
       "      <td>22.500000</td>\n",
       "    </tr>\n",
       "    <tr>\n",
       "      <th>max</th>\n",
       "      <td>3.000000</td>\n",
       "      <td>7.860000</td>\n",
       "      <td>97.500000</td>\n",
       "    </tr>\n",
       "  </tbody>\n",
       "</table>\n",
       "</div>"
      ],
      "text/plain": [
       "       surge_multiplier       distance          price\n",
       "count     637976.000000  637976.000000  637976.000000\n",
       "mean           1.015068       2.189261      16.545125\n",
       "std            0.095422       1.135413       9.324359\n",
       "min            1.000000       0.020000       2.500000\n",
       "25%            1.000000       1.270000       9.000000\n",
       "50%            1.000000       2.160000      13.500000\n",
       "75%            1.000000       2.930000      22.500000\n",
       "max            3.000000       7.860000      97.500000"
      ]
     },
     "execution_count": 18,
     "metadata": {},
     "output_type": "execute_result"
    }
   ],
   "source": [
    "df.describe()"
   ]
  },
  {
   "cell_type": "markdown",
   "metadata": {},
   "source": [
    "Berdasarkan informasi mengenai statistik deskriptif, dapat diketahui:\n",
    "- Rata-rata pelanggan melakukan perjalanan sejauh 1.135413 (satuan jarak)\n",
    "- Rata-rata harga yang harus dibayarkan pelanggan dalam satu kali perjalanan adalah 9.324359 USD\n",
    "- Rata-rata surge multiplier adalah 1.015068"
   ]
  },
  {
   "cell_type": "markdown",
   "metadata": {},
   "source": [
    "Untuk mengetahui berapa biaya price/distance pada setiap jenis mobil perlu dilakukan groupby pada dataframe df berdasarkan kolom name. Kemudian dilakukan penambahan kolom baru pada dataframe yang berisikan nilai dari value pada kolom price dibagi dengan value pada kolom distance."
   ]
  },
  {
   "cell_type": "code",
   "execution_count": 19,
   "metadata": {
    "id": "TTgIbijp4Q1Z"
   },
   "outputs": [
    {
     "data": {
      "text/html": [
       "<div>\n",
       "<style scoped>\n",
       "    .dataframe tbody tr th:only-of-type {\n",
       "        vertical-align: middle;\n",
       "    }\n",
       "\n",
       "    .dataframe tbody tr th {\n",
       "        vertical-align: top;\n",
       "    }\n",
       "\n",
       "    .dataframe thead th {\n",
       "        text-align: right;\n",
       "    }\n",
       "</style>\n",
       "<table border=\"1\" class=\"dataframe\">\n",
       "  <thead>\n",
       "    <tr style=\"text-align: right;\">\n",
       "      <th></th>\n",
       "      <th>surge_multiplier</th>\n",
       "      <th>distance</th>\n",
       "      <th>price</th>\n",
       "      <th>price/distance</th>\n",
       "    </tr>\n",
       "    <tr>\n",
       "      <th>name</th>\n",
       "      <th></th>\n",
       "      <th></th>\n",
       "      <th></th>\n",
       "      <th></th>\n",
       "    </tr>\n",
       "  </thead>\n",
       "  <tbody>\n",
       "    <tr>\n",
       "      <th>Black</th>\n",
       "      <td>55095.00</td>\n",
       "      <td>120735.12</td>\n",
       "      <td>1130758.00</td>\n",
       "      <td>9.365610</td>\n",
       "    </tr>\n",
       "    <tr>\n",
       "      <th>Black SUV</th>\n",
       "      <td>55096.00</td>\n",
       "      <td>120736.15</td>\n",
       "      <td>1668679.50</td>\n",
       "      <td>13.820877</td>\n",
       "    </tr>\n",
       "    <tr>\n",
       "      <th>Lux</th>\n",
       "      <td>53139.75</td>\n",
       "      <td>112049.32</td>\n",
       "      <td>910509.50</td>\n",
       "      <td>8.125971</td>\n",
       "    </tr>\n",
       "    <tr>\n",
       "      <th>Lux Black</th>\n",
       "      <td>53139.75</td>\n",
       "      <td>112049.32</td>\n",
       "      <td>1181605.55</td>\n",
       "      <td>10.545406</td>\n",
       "    </tr>\n",
       "    <tr>\n",
       "      <th>Lux Black XL</th>\n",
       "      <td>53139.75</td>\n",
       "      <td>112049.32</td>\n",
       "      <td>1656124.55</td>\n",
       "      <td>14.780318</td>\n",
       "    </tr>\n",
       "    <tr>\n",
       "      <th>Lyft</th>\n",
       "      <td>53184.25</td>\n",
       "      <td>112049.32</td>\n",
       "      <td>492413.68</td>\n",
       "      <td>4.394616</td>\n",
       "    </tr>\n",
       "    <tr>\n",
       "      <th>Lyft XL</th>\n",
       "      <td>53184.25</td>\n",
       "      <td>112049.32</td>\n",
       "      <td>784375.20</td>\n",
       "      <td>7.000267</td>\n",
       "    </tr>\n",
       "    <tr>\n",
       "      <th>Shared</th>\n",
       "      <td>51233.00</td>\n",
       "      <td>112047.19</td>\n",
       "      <td>308929.50</td>\n",
       "      <td>2.757137</td>\n",
       "    </tr>\n",
       "    <tr>\n",
       "      <th>UberPool</th>\n",
       "      <td>55091.00</td>\n",
       "      <td>120726.22</td>\n",
       "      <td>482184.00</td>\n",
       "      <td>3.994029</td>\n",
       "    </tr>\n",
       "    <tr>\n",
       "      <th>UberX</th>\n",
       "      <td>55094.00</td>\n",
       "      <td>120732.46</td>\n",
       "      <td>537997.00</td>\n",
       "      <td>4.456109</td>\n",
       "    </tr>\n",
       "    <tr>\n",
       "      <th>UberXL</th>\n",
       "      <td>55096.00</td>\n",
       "      <td>120736.15</td>\n",
       "      <td>863803.00</td>\n",
       "      <td>7.154469</td>\n",
       "    </tr>\n",
       "    <tr>\n",
       "      <th>WAV</th>\n",
       "      <td>55096.00</td>\n",
       "      <td>120736.15</td>\n",
       "      <td>538013.50</td>\n",
       "      <td>4.456109</td>\n",
       "    </tr>\n",
       "  </tbody>\n",
       "</table>\n",
       "</div>"
      ],
      "text/plain": [
       "              surge_multiplier   distance       price  price/distance\n",
       "name                                                                 \n",
       "Black                 55095.00  120735.12  1130758.00        9.365610\n",
       "Black SUV             55096.00  120736.15  1668679.50       13.820877\n",
       "Lux                   53139.75  112049.32   910509.50        8.125971\n",
       "Lux Black             53139.75  112049.32  1181605.55       10.545406\n",
       "Lux Black XL          53139.75  112049.32  1656124.55       14.780318\n",
       "Lyft                  53184.25  112049.32   492413.68        4.394616\n",
       "Lyft XL               53184.25  112049.32   784375.20        7.000267\n",
       "Shared                51233.00  112047.19   308929.50        2.757137\n",
       "UberPool              55091.00  120726.22   482184.00        3.994029\n",
       "UberX                 55094.00  120732.46   537997.00        4.456109\n",
       "UberXL                55096.00  120736.15   863803.00        7.154469\n",
       "WAV                   55096.00  120736.15   538013.50        4.456109"
      ]
     },
     "execution_count": 19,
     "metadata": {},
     "output_type": "execute_result"
    }
   ],
   "source": [
    "df_name_2 = df.groupby('name').sum()\n",
    "df_name_2['price/distance'] = df_name_2['price'] / df_name_2['distance']\n",
    "df_name_2"
   ]
  },
  {
   "cell_type": "markdown",
   "metadata": {},
   "source": [
    "Hasil yang didapatkan diurutkan menggunakan fungsi `.sort_values()` dari nilai yang terkecil hingga terbesar kemudian divisualisasikan menggunakan bar plot atau diagram batang menggunakan fungsi `.plot()` dengan argumen yang disesuaikan.\n",
    "\n",
    "- `kind='bar' `: mendefinisikan jenis plot yang digunakan yaitu bar plot\n",
    "- `figsize=()` : mendefinisikan ukuran dari plot yang akan dibuat\n",
    "- `color=' '` : memberi warna pada plot\n",
    "- `edgecolor=' '` : memberi warna pada tepi plot\n",
    "\n",
    "Untuk menambahkan keterangan pada plot, dapat digunakan fungsi sebagai berikut:\n",
    "\n",
    "- `plt.title()` : memberi judul pada plot\n",
    "- `plt.xlabel()` : memberi keterangan pada sumbu X\n",
    "- `plt.ylable()` : memberi keterangan pada sumbu Y\n",
    "- `size= ` : mengatur ukuran"
   ]
  },
  {
   "cell_type": "code",
   "execution_count": 20,
   "metadata": {},
   "outputs": [
    {
     "data": {
      "image/png": "[encoded data removed]",
      "text/plain": [
       "<Figure size 720x360 with 1 Axes>"
      ]
     },
     "metadata": {
      "needs_background": "light"
     },
     "output_type": "display_data"
    }
   ],
   "source": [
    "df_name_2['price/distance'].sort_values(ascending=True).plot(kind='bar',figsize=(10,5), color='lightgreen', edgecolor='black')\n",
    "plt.title('Prices/Distance Between Car Name',size=15)\n",
    "plt.xlabel('Car Name',size=13)\n",
    "plt.ylabel('Value',size=13)\n",
    "plt.show()"
   ]
  },
  {
   "cell_type": "markdown",
   "metadata": {},
   "source": [
    "Berdasarkan plot, dapat diketahui bahwa biaya price/distance jenis mobil Shared adalah yang paling terjangkau. Sedangkan mobil jenis Lux Black XL memiliki biaya price/distance termahal."
   ]
  },
  {
   "cell_type": "markdown",
   "metadata": {
    "id": "04Jqy6tP5sSH"
   },
   "source": [
    "Pengecekan terhadap outlier pada set data dapat dilakukan menggunakan box plot atau diagram kotak garis menggunakan fungsi `.plot()` dengan parameter `kind='box'` yaitu untuk mendefinisikan plot sebagai box plot dan parameter `figsize=(30,20)` untuk mendefinisikan ukuran dari plot yang akan dibuat."
   ]
  },
  {
   "cell_type": "code",
   "execution_count": 21,
   "metadata": {
    "id": "tgMZS6p94QyE"
   },
   "outputs": [
    {
     "data": {
      "text/plain": [
       "<AxesSubplot:>"
      ]
     },
     "execution_count": 21,
     "metadata": {},
     "output_type": "execute_result"
    },
    {
     "data": {
      "image/png": "[encoded data removed]",
      "text/plain": [
       "<Figure size 1080x720 with 1 Axes>"
      ]
     },
     "metadata": {
      "needs_background": "light"
     },
     "output_type": "display_data"
    }
   ],
   "source": [
    "df.plot(kind='box',figsize=(15,10))"
   ]
  },
  {
   "cell_type": "markdown",
   "metadata": {
    "id": "bDu80rh_52YN"
   },
   "source": [
    "Berdasarkan box plot, ditemukan outlier pada ketiga kolom yaitu **surge_multiplier**, **distance**, dan **price**."
   ]
  },
  {
   "cell_type": "markdown",
   "metadata": {
    "id": "Sd718bU-7LPi"
   },
   "source": [
    "Sebaran pada data label dapat diketahui melalui histogram atau plot distribusi peluang.\n",
    "\n",
    "Histogram didapatkan menggunakan fungsi `.plot()` dengan parameter yang disesuaikan. \n",
    "\n",
    "- `kind='hist' `: mendefinisikan jenis plot yang digunakan yaitu histogram\n",
    "- `figsize=()` : mendefinisikan ukuran dari plot yang akan dibuat\n",
    "- `color=' '` : memberi warna pada plot\n",
    "- `edgecolor=' '` : memberi warna pada tepi plot"
   ]
  },
  {
   "cell_type": "code",
   "execution_count": 22,
   "metadata": {
    "id": "bKWCO5ZX4Qje"
   },
   "outputs": [
    {
     "data": {
      "text/plain": [
       "<AxesSubplot:ylabel='Frequency'>"
      ]
     },
     "execution_count": 22,
     "metadata": {},
     "output_type": "execute_result"
    },
    {
     "data": {
      "image/png": "[encoded data removed]",
      "text/plain": [
       "<Figure size 720x360 with 1 Axes>"
      ]
     },
     "metadata": {
      "needs_background": "light"
     },
     "output_type": "display_data"
    }
   ],
   "source": [
    "df['price'].plot(kind='hist', figsize=(10,5), color='coral', edgecolor='black')"
   ]
  },
  {
   "cell_type": "markdown",
   "metadata": {
    "id": "Gl_bj2US8E2R"
   },
   "source": [
    "Sedangkan plot distribusi peluang didapatkan menggunakan fungsi `sns.displot()` dengan parameter `df['price']` yaitu kolom data label."
   ]
  },
  {
   "cell_type": "code",
   "execution_count": 23,
   "metadata": {
    "id": "xbgk9Yzk8TP4"
   },
   "outputs": [
    {
     "data": {
      "text/plain": [
       "<seaborn.axisgrid.FacetGrid at 0x26531f7b2b0>"
      ]
     },
     "execution_count": 23,
     "metadata": {},
     "output_type": "execute_result"
    },
    {
     "data": {
      "image/png": "[encoded data removed]",
      "text/plain": [
       "<Figure size 360x360 with 1 Axes>"
      ]
     },
     "metadata": {
      "needs_background": "light"
     },
     "output_type": "display_data"
    }
   ],
   "source": [
    "sns.displot(df['price'])"
   ]
  },
  {
   "cell_type": "markdown",
   "metadata": {
    "id": "EJTvdME_8VSJ"
   },
   "source": [
    "Berdasarkan histogram dan plot distribusi peluang, keduanya sama-sama menunjukkan adanya kecenderungan distribusi data yang miring ke kanan."
   ]
  },
  {
   "cell_type": "markdown",
   "metadata": {
    "id": "1VPZcAx_9E9p"
   },
   "source": [
    "Korelasi antar kolom pada set data dapat diketahui menggunakan fungsi `.corr()`."
   ]
  },
  {
   "cell_type": "code",
   "execution_count": 24,
   "metadata": {
    "id": "HMiGNzny889N"
   },
   "outputs": [
    {
     "data": {
      "text/html": [
       "<div>\n",
       "<style scoped>\n",
       "    .dataframe tbody tr th:only-of-type {\n",
       "        vertical-align: middle;\n",
       "    }\n",
       "\n",
       "    .dataframe tbody tr th {\n",
       "        vertical-align: top;\n",
       "    }\n",
       "\n",
       "    .dataframe thead th {\n",
       "        text-align: right;\n",
       "    }\n",
       "</style>\n",
       "<table border=\"1\" class=\"dataframe\">\n",
       "  <thead>\n",
       "    <tr style=\"text-align: right;\">\n",
       "      <th></th>\n",
       "      <th>surge_multiplier</th>\n",
       "      <th>distance</th>\n",
       "      <th>price</th>\n",
       "    </tr>\n",
       "  </thead>\n",
       "  <tbody>\n",
       "    <tr>\n",
       "      <th>surge_multiplier</th>\n",
       "      <td>1.000000</td>\n",
       "      <td>0.025946</td>\n",
       "      <td>0.240458</td>\n",
       "    </tr>\n",
       "    <tr>\n",
       "      <th>distance</th>\n",
       "      <td>0.025946</td>\n",
       "      <td>1.000000</td>\n",
       "      <td>0.345061</td>\n",
       "    </tr>\n",
       "    <tr>\n",
       "      <th>price</th>\n",
       "      <td>0.240458</td>\n",
       "      <td>0.345061</td>\n",
       "      <td>1.000000</td>\n",
       "    </tr>\n",
       "  </tbody>\n",
       "</table>\n",
       "</div>"
      ],
      "text/plain": [
       "                  surge_multiplier  distance     price\n",
       "surge_multiplier          1.000000  0.025946  0.240458\n",
       "distance                  0.025946  1.000000  0.345061\n",
       "price                     0.240458  0.345061  1.000000"
      ]
     },
     "execution_count": 24,
     "metadata": {},
     "output_type": "execute_result"
    }
   ],
   "source": [
    "df.corr()"
   ]
  },
  {
   "cell_type": "markdown",
   "metadata": {
    "id": "M_D1vAGW9VG6"
   },
   "source": [
    "Jika ingin diketahui visualisasi dari korelasi antar kolom, maka dapat digunakan plot jenis heatmap yang didapatkan menggunakan fungsi `sns.heatmap()`."
   ]
  },
  {
   "cell_type": "code",
   "execution_count": 25,
   "metadata": {
    "id": "PRGZfMLt9Paf"
   },
   "outputs": [
    {
     "data": {
      "text/plain": [
       "<AxesSubplot:>"
      ]
     },
     "execution_count": 25,
     "metadata": {},
     "output_type": "execute_result"
    },
    {
     "data": {
      "image/png": "[encoded data removed]",
      "text/plain": [
       "<Figure size 432x288 with 2 Axes>"
      ]
     },
     "metadata": {
      "needs_background": "light"
     },
     "output_type": "display_data"
    }
   ],
   "source": [
    "sns.heatmap(df.corr(),annot=True)"
   ]
  },
  {
   "cell_type": "markdown",
   "metadata": {
    "id": "r7xSAHw19P4n"
   },
   "source": [
    "Dapat diketahui bahwa korelasi antar kolom pada set data sangat kecil dan bernilai mendekati nol. Korelasi paling besar ditemukan pada kolom price dengan kolom distance."
   ]
  },
  {
   "cell_type": "markdown",
   "metadata": {
    "id": "FqxgLWGO9_1g"
   },
   "source": [
    "### Pre-Processing Data"
   ]
  },
  {
   "cell_type": "markdown",
   "metadata": {
    "id": "kCnVg-_z-HBJ"
   },
   "source": [
    "#### Encode Data\n",
    "\n",
    "Proses label encoding dilakukan untuk memetakan setiap data numerik pada set data menjadi sebuah angka."
   ]
  },
  {
   "cell_type": "code",
   "execution_count": 26,
   "metadata": {},
   "outputs": [],
   "source": [
    "df['name'].replace({'Shared':1,'UberPool':2,'Lyft':3,'UberX':4,'UberXL':5,'WAV':6,'Lyft XL':7,'Lux':8,'Black':9,'Lux Black':10,'Lux Black XL':11,'Black SUV':12},inplace=True)"
   ]
  },
  {
   "cell_type": "markdown",
   "metadata": {
    "id": "vOXxZFDv-OPv"
   },
   "source": [
    "#### Splitting Data\n",
    "\n",
    "Splitting data dilakukan untuk membagi data menjadi 2 set/bagian yaitu training set dan test set. Pembagian data training dan data testing dilakukan secara acak. Data training digunakan untuk melatih model, sedangkan data testing digunakan untuk mengevaluasi model. Sebelum dilakukan proses splitting data, masing-masing data feature dan data label perlu didefinisikan terlebih dahulu.\n",
    "\n",
    "* X : data feature\n",
    "* y : data label\n",
    "\n"
   ]
  },
  {
   "cell_type": "code",
   "execution_count": 27,
   "metadata": {
    "id": "CCl6UqvTBOoe"
   },
   "outputs": [],
   "source": [
    "X = df.drop(['price','cab_type'],axis=1)\n",
    "y = df['price']"
   ]
  },
  {
   "cell_type": "code",
   "execution_count": 28,
   "metadata": {},
   "outputs": [
    {
     "data": {
      "text/html": [
       "<div>\n",
       "<style scoped>\n",
       "    .dataframe tbody tr th:only-of-type {\n",
       "        vertical-align: middle;\n",
       "    }\n",
       "\n",
       "    .dataframe tbody tr th {\n",
       "        vertical-align: top;\n",
       "    }\n",
       "\n",
       "    .dataframe thead th {\n",
       "        text-align: right;\n",
       "    }\n",
       "</style>\n",
       "<table border=\"1\" class=\"dataframe\">\n",
       "  <thead>\n",
       "    <tr style=\"text-align: right;\">\n",
       "      <th></th>\n",
       "      <th>name</th>\n",
       "      <th>surge_multiplier</th>\n",
       "      <th>distance</th>\n",
       "    </tr>\n",
       "  </thead>\n",
       "  <tbody>\n",
       "    <tr>\n",
       "      <th>0</th>\n",
       "      <td>1</td>\n",
       "      <td>1.0</td>\n",
       "      <td>0.44</td>\n",
       "    </tr>\n",
       "    <tr>\n",
       "      <th>1</th>\n",
       "      <td>8</td>\n",
       "      <td>1.0</td>\n",
       "      <td>0.44</td>\n",
       "    </tr>\n",
       "    <tr>\n",
       "      <th>2</th>\n",
       "      <td>3</td>\n",
       "      <td>1.0</td>\n",
       "      <td>0.44</td>\n",
       "    </tr>\n",
       "    <tr>\n",
       "      <th>3</th>\n",
       "      <td>11</td>\n",
       "      <td>1.0</td>\n",
       "      <td>0.44</td>\n",
       "    </tr>\n",
       "    <tr>\n",
       "      <th>4</th>\n",
       "      <td>7</td>\n",
       "      <td>1.0</td>\n",
       "      <td>0.44</td>\n",
       "    </tr>\n",
       "    <tr>\n",
       "      <th>...</th>\n",
       "      <td>...</td>\n",
       "      <td>...</td>\n",
       "      <td>...</td>\n",
       "    </tr>\n",
       "    <tr>\n",
       "      <th>693065</th>\n",
       "      <td>6</td>\n",
       "      <td>1.0</td>\n",
       "      <td>1.00</td>\n",
       "    </tr>\n",
       "    <tr>\n",
       "      <th>693066</th>\n",
       "      <td>5</td>\n",
       "      <td>1.0</td>\n",
       "      <td>1.00</td>\n",
       "    </tr>\n",
       "    <tr>\n",
       "      <th>693067</th>\n",
       "      <td>4</td>\n",
       "      <td>1.0</td>\n",
       "      <td>1.00</td>\n",
       "    </tr>\n",
       "    <tr>\n",
       "      <th>693069</th>\n",
       "      <td>12</td>\n",
       "      <td>1.0</td>\n",
       "      <td>1.00</td>\n",
       "    </tr>\n",
       "    <tr>\n",
       "      <th>693070</th>\n",
       "      <td>2</td>\n",
       "      <td>1.0</td>\n",
       "      <td>1.00</td>\n",
       "    </tr>\n",
       "  </tbody>\n",
       "</table>\n",
       "<p>637976 rows × 3 columns</p>\n",
       "</div>"
      ],
      "text/plain": [
       "        name  surge_multiplier  distance\n",
       "0          1               1.0      0.44\n",
       "1          8               1.0      0.44\n",
       "2          3               1.0      0.44\n",
       "3         11               1.0      0.44\n",
       "4          7               1.0      0.44\n",
       "...      ...               ...       ...\n",
       "693065     6               1.0      1.00\n",
       "693066     5               1.0      1.00\n",
       "693067     4               1.0      1.00\n",
       "693069    12               1.0      1.00\n",
       "693070     2               1.0      1.00\n",
       "\n",
       "[637976 rows x 3 columns]"
      ]
     },
     "execution_count": 28,
     "metadata": {},
     "output_type": "execute_result"
    }
   ],
   "source": [
    "X"
   ]
  },
  {
   "cell_type": "markdown",
   "metadata": {
    "id": "ikIxCcrWBQ8q"
   },
   "source": [
    "Proses splitting data dapat menggunakan fungsi `train_test_split()` dengan parameter:\n",
    "\n",
    "- X : data feature\n",
    "- y : data label\n",
    "- test_size : ukuran test data yaitu 30%\n",
    "- random_state : status pseudo-random number generator"
   ]
  },
  {
   "cell_type": "code",
   "execution_count": 29,
   "metadata": {
    "id": "zEeP61gc-Rol"
   },
   "outputs": [],
   "source": [
    "# train 70%, test 30%\n",
    "\n",
    "X_train, X_test, y_train, y_test = train_test_split(X, y, test_size=0.3, random_state=0)"
   ]
  },
  {
   "cell_type": "markdown",
   "metadata": {
    "id": "VFA6ZZLwB6Q6"
   },
   "source": [
    "Banyaknya data pada masing masing set dapat diketahui menggunakan fungsi `len()`."
   ]
  },
  {
   "cell_type": "code",
   "execution_count": 30,
   "metadata": {
    "id": "tDwnCW66-Sqp"
   },
   "outputs": [
    {
     "name": "stdout",
     "output_type": "stream",
     "text": [
      "Training dataset\t: 446583\n",
      "Testing dataset\t\t: 191393\n",
      "Training\t\t: 70.00% ada pada dataset\n",
      "Test\t\t\t: 30.00% ada pada dataset\n"
     ]
    }
   ],
   "source": [
    "print('Training dataset\\t:', len(X_train))\n",
    "print('Testing dataset\\t\\t:', len(X_test))\n",
    "print('Training\\t\\t: {0:0.02f}% ada pada dataset'.format((len(X_train)/len(df.name)) * 100))\n",
    "print('Test\\t\\t\\t: {0:0.02f}% ada pada dataset'.format((len(X_test)/len(df.name)) * 100))"
   ]
  },
  {
   "cell_type": "markdown",
   "metadata": {},
   "source": [
    "### Pendefinisian Model"
   ]
  },
  {
   "cell_type": "markdown",
   "metadata": {},
   "source": [
    "#### Linear Regression"
   ]
  },
  {
   "cell_type": "markdown",
   "metadata": {},
   "source": [
    "Model linear regression terdiri dari satu atau lebih variabel independen (X) dan memiliki satu variabel dependen (y). Tujuan dari model ini adalah untuk menemukan hubungan linier yang terbaik antara variabel dependen dan variabel independen dengan menggunakan koefisien regresi yang optimal.\n",
    "1. Sederhana dan Mudah Dipahami : Karena hanya melibatkan hubungan liniear antara variabel dependen dan variabel independen\n",
    "2. Komputasi Cepat: Hanya melibatkan operasi matematika dasar\n",
    "3. Interpretasi Variabel: Koefisien regresi pada model Linear Regression dapat diinterpretasikan dengan mudah dan dapat memberikan informasi tentang seberapa besar pengaruh dari setiap variabel\n",
    "4. Prediksi Akurat: Jika model Linear Regression sudah sesuai dengan data yang ada, maka model ini dapat memberikan prediksi yang cukup akurat"
   ]
  },
  {
   "cell_type": "markdown",
   "metadata": {},
   "source": [
    "fit_intercept(True) untuk menambahkan nilai intercept, yang sangat penting dalam model Linear Regression karena jika tidak termasuk dalam model, maka garis regresi akan selalu melewati titik koordinat (0,0) \n",
    "\n",
    "copy_X(true) jika dataset yang digunakan cukup besar, disarankan untuk mengatur nilai copy_X menjadi True, sehingga data yang diolah oleh model tidak mengganggu dataset yang asli.\n",
    "\n",
    "n_jobs(None) nilai n_jobs hanya efektif jika dataset yang digunakan cukup besar, dan jumlah core pada komputer yang digunakan juga mencukupi. Jika dataset yang digunakan tidak terlalu besar, atau jumlah core pada komputer tidak cukup, penggunaan nilai n_jobs yang terlalu besar justru dapat membuat proses training model menjadi lebih lambat.\n",
    "\n",
    "positive(true) karena semua nilai dari variabel harus bernilai positive"
   ]
  },
  {
   "cell_type": "code",
   "execution_count": 31,
   "metadata": {},
   "outputs": [],
   "source": [
    "lr = LinearRegression(fit_intercept=True, copy_X=True, n_jobs=None, positive=True)"
   ]
  },
  {
   "cell_type": "markdown",
   "metadata": {},
   "source": [
    "#### XG Boost Regressor"
   ]
  },
  {
   "cell_type": "markdown",
   "metadata": {},
   "source": [
    "XGBoost (Extreme Gradient Boosting) Regression adalah jenis model regresi yang dikembangkan menggunakan ekstensi dari model pohon keputusan yang ditingkatkan dengan teknik boosting.\n",
    "\n",
    "Model XGBoost Regresi memanfaatkan teknik pembelajaran mesin yang kuat dan dapat digunakan untuk memprediksi variabel target yang kontinu (numerik).\n",
    "\n",
    "XGBoost menggabungkan beberapa model pohon keputusan yang lemah untuk membentuk model yang lebih kuat. Setiap pohon keputusan dibangun dengan mempertimbangkan residual (selisih antara nilai prediksi model saat ini dan nilai target yang sebenarnya) dari model sebelumnya. Dengan cara ini, model XGBoost dapat memperbaiki prediksi pada setiap iterasi.\n",
    "\n",
    "Akurai yang Tinggi: menggunakan teknik ensemble learning dengan memadukan beberapa model pohon keputusan untuk membuat model yang lebih akurat dan stabil.\n",
    "\n",
    "Skalabilitas : dapat dengan mudah menangani data yang sangat besar dan kompleks dengan fitur yang banyak. Model ini mendukung parallel processing yang mempercepat waktu pelatihan model.\n",
    "\n",
    "Penanganan Missing Values: dapat menangani nilai yang hilang dalam data dan memungkinkan penggunaan data yang tidak lengkap.\n",
    "\n",
    "Regularisasi: membantu mencegah overfitting dan menghasilkan model yang lebih umum.\n",
    "\n",
    "Interpretasi: pengguna dapat memahami faktor apa yang paling mempengaruhi target."
   ]
  },
  {
   "cell_type": "code",
   "execution_count": 32,
   "metadata": {},
   "outputs": [],
   "source": [
    "xgb_r = xg.XGBRegressor(objective='reg:linear',n_estimators = 10, seed = 123)"
   ]
  },
  {
   "cell_type": "markdown",
   "metadata": {},
   "source": [
    "objective(reg:linear) artinya fungsi objektif yang digunakan adalah Mean Squared Error(MSE). Tujuannya adalah untuk meminimalkan MSE dengan menemukan bobot yang optimal untuk setiap pohon keputusan. Cocok untuk masalah regresi dimana targetnya adalah numerik dan kontinu\n",
    "\n",
    "n_estimators(10) menentukan jumlah pohon keputusan yang dibuat dalam model. Semakin banyak pohon, semakin kompleks, dan semakin akurat, tetapi akan membutuhkan waktu dalam melatih model. nilai 10 akan mejadi nilai yang cukup akurat namun tidak memberatkan\n",
    "\n",
    "seed(123) merupakan nilai awal untuk menginisiasi generator bilangan acak. menentukan nilai seed untuk memastikan bahwa dalam tiap eksekusi hasilnya akan konsisten, jika tidak diatur makan hasil bisa saja berbeda-beda setiap dieksekusi"
   ]
  },
  {
   "cell_type": "markdown",
   "metadata": {},
   "source": [
    "#### Random Forest Regressor"
   ]
  },
  {
   "cell_type": "markdown",
   "metadata": {},
   "source": [
    "Random Forest Regressor adalah salah satu jenis algoritma Machine Learning yang digunakan untuk melakukan prediksi nilai numerik atau kontinu berdasarkan fitur atau atribut lainnya. Model ini menggabungkan banyak pohon keputusan (decision trees) ke dalam satu model yang lebih besar. Setiap pohon keputusan dalam model random forest dihasilkan secara acak dan independen satu sama lain.\n",
    "\n",
    "Dalam model random forest regressor, setiap pohon keputusan memiliki bobot yang sama pentingnya, sehingga prediksi akhir didapatkan dari hasil penggabungan semua pohon keputusan. Model ini dapat digunakan untuk memprediksi nilai numerik, seperti harga rumah, suhu, atau penghasilan berdasarkan fitur atau atribut lainnya.\n",
    "\n",
    "1. Mampu menangani data yang kompleks: Model ini dapat menangani dataset dengan banyak fitur dan pola yang kompleks. \n",
    "\n",
    "2. Tidak sensitif terhadap overfitting: Model ini dapat menghindari overfitting pada data yang digunakan karena setiap pohon keputusan dihasilkan secara acak dan independen satu sama lain.\n",
    "\n",
    "3. Mudah diimplementasikan: Model ini mudah diimplementasikan dan cepat dalam proses pelatihan dan pengujian. Juga tidak memerlukan banyak tuning parameter seperti pada model lainnya.\n",
    "\n",
    "4. Stabil dan akurat: Model ini dapat memberikan hasil prediksi yang stabil dan akurat pada data yang belum pernah dilihat sebelumnya. Sehingga model ini dapat diandalkan dalam membuat prediksi nilai numerik atau kontinu pada data baru."
   ]
  },
  {
   "cell_type": "code",
   "execution_count": 33,
   "metadata": {},
   "outputs": [],
   "source": [
    "rf_r = RandomForestRegressor(n_estimators=100,max_depth=5, random_state=33)"
   ]
  },
  {
   "cell_type": "markdown",
   "metadata": {},
   "source": [
    "n_estimators(100) menentukan jumlah pohon keputusan dalam model\n",
    "\n",
    "max_depth merupakan kedalaman maksimum setiap pohon keputusan, semakin dalam semakin komplek dan lama dalam pelatihan model\n",
    "\n",
    "random_state(33) untuk memastikan pohon keputusan yang dihasilkan pada setiap pelatihan model akan selalu sama dan memudahkan dalam melakukan evaluasi dan debugging model"
   ]
  },
  {
   "cell_type": "markdown",
   "metadata": {},
   "source": [
    "### Pelatihan Model"
   ]
  },
  {
   "cell_type": "markdown",
   "metadata": {},
   "source": [
    "#### Linear Regression"
   ]
  },
  {
   "cell_type": "code",
   "execution_count": 34,
   "metadata": {},
   "outputs": [],
   "source": [
    "model_lr = lr.fit(X_train, y_train)\n",
    "y_pred_lr=model_lr.predict(X_test)"
   ]
  },
  {
   "cell_type": "markdown",
   "metadata": {},
   "source": [
    "Melatih model Linear Regression dengan variabel independen X_train, dan variabel independen y_train\n",
    "Kemudian melakukan prediksi terhadap variabel independen X_test"
   ]
  },
  {
   "cell_type": "code",
   "execution_count": 35,
   "metadata": {},
   "outputs": [
    {
     "data": {
      "text/html": [
       "<div>\n",
       "<style scoped>\n",
       "    .dataframe tbody tr th:only-of-type {\n",
       "        vertical-align: middle;\n",
       "    }\n",
       "\n",
       "    .dataframe tbody tr th {\n",
       "        vertical-align: top;\n",
       "    }\n",
       "\n",
       "    .dataframe thead th {\n",
       "        text-align: right;\n",
       "    }\n",
       "</style>\n",
       "<table border=\"1\" class=\"dataframe\">\n",
       "  <thead>\n",
       "    <tr style=\"text-align: right;\">\n",
       "      <th></th>\n",
       "      <th>price</th>\n",
       "      <th>predict</th>\n",
       "    </tr>\n",
       "  </thead>\n",
       "  <tbody>\n",
       "    <tr>\n",
       "      <th>677566</th>\n",
       "      <td>19.5</td>\n",
       "      <td>22.331269</td>\n",
       "    </tr>\n",
       "    <tr>\n",
       "      <th>308691</th>\n",
       "      <td>10.5</td>\n",
       "      <td>8.872165</td>\n",
       "    </tr>\n",
       "    <tr>\n",
       "      <th>396241</th>\n",
       "      <td>5.0</td>\n",
       "      <td>6.329073</td>\n",
       "    </tr>\n",
       "    <tr>\n",
       "      <th>136589</th>\n",
       "      <td>16.5</td>\n",
       "      <td>19.344355</td>\n",
       "    </tr>\n",
       "    <tr>\n",
       "      <th>198998</th>\n",
       "      <td>38.5</td>\n",
       "      <td>27.969220</td>\n",
       "    </tr>\n",
       "    <tr>\n",
       "      <th>179736</th>\n",
       "      <td>16.5</td>\n",
       "      <td>18.532651</td>\n",
       "    </tr>\n",
       "    <tr>\n",
       "      <th>311934</th>\n",
       "      <td>30.5</td>\n",
       "      <td>26.365775</td>\n",
       "    </tr>\n",
       "    <tr>\n",
       "      <th>510750</th>\n",
       "      <td>19.5</td>\n",
       "      <td>21.751476</td>\n",
       "    </tr>\n",
       "    <tr>\n",
       "      <th>6135</th>\n",
       "      <td>13.5</td>\n",
       "      <td>14.957952</td>\n",
       "    </tr>\n",
       "    <tr>\n",
       "      <th>313476</th>\n",
       "      <td>10.5</td>\n",
       "      <td>16.293469</td>\n",
       "    </tr>\n",
       "  </tbody>\n",
       "</table>\n",
       "</div>"
      ],
      "text/plain": [
       "        price    predict\n",
       "677566   19.5  22.331269\n",
       "308691   10.5   8.872165\n",
       "396241    5.0   6.329073\n",
       "136589   16.5  19.344355\n",
       "198998   38.5  27.969220\n",
       "179736   16.5  18.532651\n",
       "311934   30.5  26.365775\n",
       "510750   19.5  21.751476\n",
       "6135     13.5  14.957952\n",
       "313476   10.5  16.293469"
      ]
     },
     "execution_count": 35,
     "metadata": {},
     "output_type": "execute_result"
    }
   ],
   "source": [
    "pred=pd.DataFrame(y_test[:10])\n",
    "pred['predict']=y_pred_lr[:10]\n",
    "pred"
   ]
  },
  {
   "cell_type": "markdown",
   "metadata": {},
   "source": [
    "Menggunakan Data Frame untuk melihat 10 pertama hasil output prediksi dari data X_test kemudian dibandingkan dengan nilai price real dari y_test, yang menunjukkan hasil prediksi sedikit berbeda dengan nilai price asli namun cukup relevan."
   ]
  },
  {
   "cell_type": "code",
   "execution_count": 36,
   "metadata": {},
   "outputs": [
    {
     "data": {
      "image/png": "[encoded data removed]",
      "text/plain": [
       "<Figure size 432x288 with 1 Axes>"
      ]
     },
     "metadata": {
      "needs_background": "light"
     },
     "output_type": "display_data"
    }
   ],
   "source": [
    "plt.scatter(x=range(1,51),y=y_test[:50],marker='*',c='r',s=70,label=['y_test'])\n",
    "plt.scatter(x=range(1,51),y=y_pred_lr[:50],marker='o',c='g',s=50,label=['y_pred'])\n",
    "plt.title('Linear Regression')\n",
    "plt.show()"
   ]
  },
  {
   "cell_type": "markdown",
   "metadata": {},
   "source": [
    "Menggunakan Scatter Plot untuk melihat 50 pertama hasil output prediksi dari data X_test kemudian dibandingkan dengan nilai price real dari y_test, yang menunjukkan hasil prediksi pada beberapa nilai yang sangat dekat dengan nilai asli"
   ]
  },
  {
   "cell_type": "markdown",
   "metadata": {},
   "source": [
    "#### XG Boost"
   ]
  },
  {
   "cell_type": "code",
   "execution_count": 37,
   "metadata": {},
   "outputs": [
    {
     "name": "stdout",
     "output_type": "stream",
     "text": [
      "[13:29:20] WARNING: C:\\buildkite-agent\\builds\\buildkite-windows-cpu-autoscaling-group-i-07593ffd91cd9da33-1\\xgboost\\xgboost-ci-windows\\src\\objective\\regression_obj.cu:213: reg:linear is now deprecated in favor of reg:squarederror.\n"
     ]
    }
   ],
   "source": [
    "model_xgb = xgb_r.fit(X_train, y_train)\n",
    "y_pred_xgb = model_xgb.predict(X_test)"
   ]
  },
  {
   "cell_type": "code",
   "execution_count": 38,
   "metadata": {},
   "outputs": [
    {
     "data": {
      "text/html": [
       "<div>\n",
       "<style scoped>\n",
       "    .dataframe tbody tr th:only-of-type {\n",
       "        vertical-align: middle;\n",
       "    }\n",
       "\n",
       "    .dataframe tbody tr th {\n",
       "        vertical-align: top;\n",
       "    }\n",
       "\n",
       "    .dataframe thead th {\n",
       "        text-align: right;\n",
       "    }\n",
       "</style>\n",
       "<table border=\"1\" class=\"dataframe\">\n",
       "  <thead>\n",
       "    <tr style=\"text-align: right;\">\n",
       "      <th></th>\n",
       "      <th>price</th>\n",
       "      <th>predict</th>\n",
       "    </tr>\n",
       "  </thead>\n",
       "  <tbody>\n",
       "    <tr>\n",
       "      <th>677566</th>\n",
       "      <td>19.5</td>\n",
       "      <td>20.700537</td>\n",
       "    </tr>\n",
       "    <tr>\n",
       "      <th>308691</th>\n",
       "      <td>10.5</td>\n",
       "      <td>11.035725</td>\n",
       "    </tr>\n",
       "    <tr>\n",
       "      <th>396241</th>\n",
       "      <td>5.0</td>\n",
       "      <td>6.815862</td>\n",
       "    </tr>\n",
       "    <tr>\n",
       "      <th>136589</th>\n",
       "      <td>16.5</td>\n",
       "      <td>16.463526</td>\n",
       "    </tr>\n",
       "    <tr>\n",
       "      <th>198998</th>\n",
       "      <td>38.5</td>\n",
       "      <td>32.052662</td>\n",
       "    </tr>\n",
       "    <tr>\n",
       "      <th>179736</th>\n",
       "      <td>16.5</td>\n",
       "      <td>15.857824</td>\n",
       "    </tr>\n",
       "    <tr>\n",
       "      <th>311934</th>\n",
       "      <td>30.5</td>\n",
       "      <td>26.752405</td>\n",
       "    </tr>\n",
       "    <tr>\n",
       "      <th>510750</th>\n",
       "      <td>19.5</td>\n",
       "      <td>19.845627</td>\n",
       "    </tr>\n",
       "    <tr>\n",
       "      <th>6135</th>\n",
       "      <td>13.5</td>\n",
       "      <td>11.189965</td>\n",
       "    </tr>\n",
       "    <tr>\n",
       "      <th>313476</th>\n",
       "      <td>10.5</td>\n",
       "      <td>12.049274</td>\n",
       "    </tr>\n",
       "  </tbody>\n",
       "</table>\n",
       "</div>"
      ],
      "text/plain": [
       "        price    predict\n",
       "677566   19.5  20.700537\n",
       "308691   10.5  11.035725\n",
       "396241    5.0   6.815862\n",
       "136589   16.5  16.463526\n",
       "198998   38.5  32.052662\n",
       "179736   16.5  15.857824\n",
       "311934   30.5  26.752405\n",
       "510750   19.5  19.845627\n",
       "6135     13.5  11.189965\n",
       "313476   10.5  12.049274"
      ]
     },
     "execution_count": 38,
     "metadata": {},
     "output_type": "execute_result"
    }
   ],
   "source": [
    "pred=pd.DataFrame(y_test[:10])\n",
    "pred['predict']=y_pred_xgb[:10]\n",
    "pred"
   ]
  },
  {
   "cell_type": "markdown",
   "metadata": {},
   "source": [
    "Menggunakan Data Frame untuk melihat 10 pertama hasil output prediksi dari data X_test kemudian dibandingkan dengan nilai price real dari y_test, yang menunjukkan hasil prediksi yang cukup dekat dengan nilai aslinya, namun terdapat beberapa nilai yang masih memiiki selisih tapi tidak terlalu jauh."
   ]
  },
  {
   "cell_type": "code",
   "execution_count": 39,
   "metadata": {
    "scrolled": true
   },
   "outputs": [
    {
     "data": {
      "text/plain": [
       "<matplotlib.legend.Legend at 0x265334794c0>"
      ]
     },
     "execution_count": 39,
     "metadata": {},
     "output_type": "execute_result"
    },
    {
     "data": {
      "image/png": "[encoded data removed]",
      "text/plain": [
       "<Figure size 432x288 with 1 Axes>"
      ]
     },
     "metadata": {
      "needs_background": "light"
     },
     "output_type": "display_data"
    }
   ],
   "source": [
    "plt.title('XG Boost Regressor')\n",
    "plt.scatter(x=range(1,51),y=y_test[:50],marker='*',c='r',s=70,label=['y_test'])\n",
    "plt.scatter(x=range(1,51),y=y_pred_xgb[:50],marker='o',c='g',s=50,label=['y_pred'])\n",
    "plt.legend()"
   ]
  },
  {
   "cell_type": "markdown",
   "metadata": {},
   "source": [
    "Menggunakan Scatter Plot untuk melihat 50 pertama hasil output prediksi dari data X_test kemudian dibandingkan dengan nilai price real dari y_test, yang menunjukkan hasil prediksi pada beberapa nilai yang sangat dekat dengan nilai aslinya"
   ]
  },
  {
   "cell_type": "markdown",
   "metadata": {},
   "source": [
    "#### Random Forest Regressor"
   ]
  },
  {
   "cell_type": "code",
   "execution_count": 40,
   "metadata": {},
   "outputs": [],
   "source": [
    "model_rf = rf_r.fit(X_train, y_train)\n",
    "y_pred_rf = model_rf.predict(X_test)"
   ]
  },
  {
   "cell_type": "markdown",
   "metadata": {},
   "source": [
    "Melatih model XG Boost Regressor dengan variabel independen X_train, dan variabel independen y_train Kemudian melakukan prediksi terhadap variabel independen X_test"
   ]
  },
  {
   "cell_type": "code",
   "execution_count": 41,
   "metadata": {},
   "outputs": [
    {
     "data": {
      "text/html": [
       "<div>\n",
       "<style scoped>\n",
       "    .dataframe tbody tr th:only-of-type {\n",
       "        vertical-align: middle;\n",
       "    }\n",
       "\n",
       "    .dataframe tbody tr th {\n",
       "        vertical-align: top;\n",
       "    }\n",
       "\n",
       "    .dataframe thead th {\n",
       "        text-align: right;\n",
       "    }\n",
       "</style>\n",
       "<table border=\"1\" class=\"dataframe\">\n",
       "  <thead>\n",
       "    <tr style=\"text-align: right;\">\n",
       "      <th></th>\n",
       "      <th>price</th>\n",
       "      <th>predict</th>\n",
       "    </tr>\n",
       "  </thead>\n",
       "  <tbody>\n",
       "    <tr>\n",
       "      <th>677566</th>\n",
       "      <td>19.5</td>\n",
       "      <td>24.282661</td>\n",
       "    </tr>\n",
       "    <tr>\n",
       "      <th>308691</th>\n",
       "      <td>10.5</td>\n",
       "      <td>10.473163</td>\n",
       "    </tr>\n",
       "    <tr>\n",
       "      <th>396241</th>\n",
       "      <td>5.0</td>\n",
       "      <td>6.755418</td>\n",
       "    </tr>\n",
       "    <tr>\n",
       "      <th>136589</th>\n",
       "      <td>16.5</td>\n",
       "      <td>15.794879</td>\n",
       "    </tr>\n",
       "    <tr>\n",
       "      <th>198998</th>\n",
       "      <td>38.5</td>\n",
       "      <td>31.391371</td>\n",
       "    </tr>\n",
       "    <tr>\n",
       "      <th>179736</th>\n",
       "      <td>16.5</td>\n",
       "      <td>15.266989</td>\n",
       "    </tr>\n",
       "    <tr>\n",
       "      <th>311934</th>\n",
       "      <td>30.5</td>\n",
       "      <td>18.857705</td>\n",
       "    </tr>\n",
       "    <tr>\n",
       "      <th>510750</th>\n",
       "      <td>19.5</td>\n",
       "      <td>19.525882</td>\n",
       "    </tr>\n",
       "    <tr>\n",
       "      <th>6135</th>\n",
       "      <td>13.5</td>\n",
       "      <td>10.659412</td>\n",
       "    </tr>\n",
       "    <tr>\n",
       "      <th>313476</th>\n",
       "      <td>10.5</td>\n",
       "      <td>12.658375</td>\n",
       "    </tr>\n",
       "  </tbody>\n",
       "</table>\n",
       "</div>"
      ],
      "text/plain": [
       "        price    predict\n",
       "677566   19.5  24.282661\n",
       "308691   10.5  10.473163\n",
       "396241    5.0   6.755418\n",
       "136589   16.5  15.794879\n",
       "198998   38.5  31.391371\n",
       "179736   16.5  15.266989\n",
       "311934   30.5  18.857705\n",
       "510750   19.5  19.525882\n",
       "6135     13.5  10.659412\n",
       "313476   10.5  12.658375"
      ]
     },
     "execution_count": 41,
     "metadata": {},
     "output_type": "execute_result"
    }
   ],
   "source": [
    "pred=pd.DataFrame(y_test[:10])\n",
    "pred['predict']=y_pred_rf[:10]\n",
    "pred"
   ]
  },
  {
   "cell_type": "markdown",
   "metadata": {},
   "source": [
    "Menggunakan Data Frame untuk melihat 10 pertama hasil output prediksi dari data X_test kemudian dibandingkan dengan nilai price real dari y_test, yang menunjukkan hasil beberapa nilai prediksi yang cukup dekat dengan nilai aslinya, namun terdapat beberapa nilai yang memiliki perbedaan cukup besar."
   ]
  },
  {
   "cell_type": "code",
   "execution_count": 42,
   "metadata": {},
   "outputs": [
    {
     "data": {
      "text/plain": [
       "<matplotlib.legend.Legend at 0x26533528520>"
      ]
     },
     "execution_count": 42,
     "metadata": {},
     "output_type": "execute_result"
    },
    {
     "data": {
      "image/png": "[encoded data removed]",
      "text/plain": [
       "<Figure size 432x288 with 1 Axes>"
      ]
     },
     "metadata": {
      "needs_background": "light"
     },
     "output_type": "display_data"
    }
   ],
   "source": [
    "plt.title('Random Forest Regressor')\n",
    "plt.scatter(x=range(1,51),y=y_test[:50],marker='*',c='r',s=70,label=['y_test'])\n",
    "plt.scatter(x=range(1,51),y=y_pred_rf[:50],marker='o',c='g',s=50,label=['y_pred'])\n",
    "plt.legend()"
   ]
  },
  {
   "cell_type": "markdown",
   "metadata": {},
   "source": [
    "Menggunakan Scatter Plot untuk melihat 50 pertama hasil output prediksi dari data X_test kemudian dibandingkan dengan nilai price real dari y_test, yang menunjukkan hasil prediksi pada beberapa nilai yang sangat dekat dengan nilai aslinya, dan terdapat beberapa nilai yang memiliki perbedaan namun tidak terlalu jauh"
   ]
  },
  {
   "cell_type": "markdown",
   "metadata": {},
   "source": [
    "### Model Evaluation"
   ]
  },
  {
   "cell_type": "markdown",
   "metadata": {},
   "source": [
    "#### Linear Regression"
   ]
  },
  {
   "cell_type": "code",
   "execution_count": 43,
   "metadata": {},
   "outputs": [
    {
     "data": {
      "text/plain": [
       "array([22.33126909,  8.87216459,  6.32907281, ..., 41.22379093,\n",
       "       21.72749997, 19.86816878])"
      ]
     },
     "execution_count": 43,
     "metadata": {},
     "output_type": "execute_result"
    }
   ],
   "source": [
    "y_pred_lr"
   ]
  },
  {
   "cell_type": "code",
   "execution_count": 44,
   "metadata": {},
   "outputs": [
    {
     "name": "stdout",
     "output_type": "stream",
     "text": [
      "[ 2.20320041 18.00885496  2.79897762]\n",
      "-22.167956321343542\n"
     ]
    }
   ],
   "source": [
    "print(lr.coef_)\n",
    "print(lr.intercept_)"
   ]
  },
  {
   "cell_type": "code",
   "execution_count": 45,
   "metadata": {},
   "outputs": [
    {
     "data": {
      "text/plain": [
       "Index(['name', 'surge_multiplier', 'distance'], dtype='object')"
      ]
     },
     "execution_count": 45,
     "metadata": {},
     "output_type": "execute_result"
    }
   ],
   "source": [
    "X_train.columns"
   ]
  },
  {
   "cell_type": "markdown",
   "metadata": {},
   "source": [
    "Model Linear Regressionnya adalah y = 2.20320041X1 + 18.00885496X2 + 2.79897762X3 - 22.167956321343542 "
   ]
  },
  {
   "cell_type": "code",
   "execution_count": 46,
   "metadata": {
    "scrolled": true
   },
   "outputs": [
    {
     "name": "stdout",
     "output_type": "stream",
     "text": [
      "Akurasi dari model Linear Regression adalah : 0.8345268968613591\n",
      "MSE dari model Linear Regression : 14.27379142123133\n",
      "RMSE dari model Linear Regression : 3.7780671541452686\n",
      "MAPE dari model Linear Regression : 0.23304005445548495\n"
     ]
    }
   ],
   "source": [
    "print('Akurasi dari model Linear Regression adalah :',r2_score(y_test, y_pred_lr))\n",
    "mse = mean_squared_error(y_test,y_pred_lr)\n",
    "rootmeansq = np.sqrt(mse)\n",
    "mape = mean_absolute_percentage_error(y_test, y_pred_lr)\n",
    "print('MSE dari model Linear Regression :',mse)\n",
    "print('RMSE dari model Linear Regression :', rootmeansq)\n",
    "print('MAPE dari model Linear Regression :', mape)"
   ]
  },
  {
   "cell_type": "markdown",
   "metadata": {},
   "source": [
    "Terlihat hasil dari akurasi model Liner Regression tersebut dengan menggunakan R^2 score didapatkan sebesar 0.83453.\n",
    "Dapat Disimpulkan bahwa model tersebut sudah cukup baik dalam memprediksi data.\n",
    "\n",
    "Dengan melihat nilai MSE dari model Linear Regression sebesar 14.2738 yang berarti terdapat kesalahan sebesar 14.2738 dalam model tersebut memprediksi nilai, terlihat bahwa nilai MSE dari model tersebut cukup besar yang berarti tingkat error dalam memprediksi juga cukup besar.\n",
    "\n",
    "Nilai RMSE merupakan turunan dari nilai MSE, terlihat dari model Linear Regression didapat RMSE sebesar 3.7780, nilai RMSE tersebut cukup besar yang berarti tingkat error dalam memprediksi juga cukup besar.\n",
    "\n",
    "Nilai MAPE merupakan persentase kesalahan absolut rata-rata antara nilai prediksi dan nilai aktual. Terlihat dari nilai MAPE model Random Forest sebesar 0.2330 atau rata-rata kesalahan dari model tersebut dalam memprediksi yaitu sebesar 23% yang mana nilai ini cukup besar."
   ]
  },
  {
   "cell_type": "markdown",
   "metadata": {},
   "source": [
    "#### Random Forest"
   ]
  },
  {
   "cell_type": "code",
   "execution_count": 47,
   "metadata": {},
   "outputs": [
    {
     "data": {
      "text/plain": [
       "array([24.28266056, 10.47316256,  6.7554181 , ..., 31.74358426,\n",
       "       27.16520583, 16.66157941])"
      ]
     },
     "execution_count": 47,
     "metadata": {},
     "output_type": "execute_result"
    }
   ],
   "source": [
    "y_pred_rf"
   ]
  },
  {
   "cell_type": "code",
   "execution_count": 48,
   "metadata": {
    "scrolled": false
   },
   "outputs": [
    {
     "name": "stdout",
     "output_type": "stream",
     "text": [
      "Akurasi dari model Random Forest adalah : 0.9258002334519485\n",
      "MSE dari model Random Forest : 6.400508427787038\n",
      "RMSE dari model Random Forest : 2.529922613003615\n",
      "MAPE dari model Random Forest : 0.1237293147757051\n"
     ]
    }
   ],
   "source": [
    "print('Akurasi dari model Random Forest adalah :',r2_score(y_test, y_pred_rf))\n",
    "mse = mean_squared_error(y_test,y_pred_rf)\n",
    "rootmeansq = np.sqrt(mse)\n",
    "mape = mean_absolute_percentage_error(y_test, y_pred_rf)\n",
    "print('MSE dari model Random Forest :',mse)\n",
    "print('RMSE dari model Random Forest :', rootmeansq)\n",
    "print('MAPE dari model Random Forest :', mape)"
   ]
  },
  {
   "cell_type": "markdown",
   "metadata": {},
   "source": [
    "Terlihat hasil dari akurasi model Random Forest tersebut dengan menggunakan R^2 score didapatkan sebesar 0.92580.\n",
    "Dapat Disimpulkan bahwa model tersebut sudah baik dalam memprediksi data.\n",
    "\n",
    "Dengan melihat nilai MSE dari model Linear Regression sebesar 6.4005 yang berarti terdapat kesalahan sebesar 6.4005 dalam model tersebut memprediksi nilai, terlihat bahwa nilai MSE dari model tersebut cukup kecil yang berarti tingkat error atau kesalahan model dalam memprediksi juga cukup kecil.\n",
    "\n",
    "Nilai RMSE merupakan turunan dari nilai MSE, terlihat dari model Linear Regression didapat RMSE sebesar 2.5299, nilai RMSE tersebut cukup kecil yang berarti tingkat error atau kesalahan model dalam memprediksi juga cukup kecil.\n",
    "\n",
    "Nilai MAPE merupakan persentase kesalahan absolut rata-rata antara nilai prediksi dan nilai aktual. Terlihat dari nilai MAPE model Random Forest sebesar 0.1237 atau rata-rata kesalahan dari model tersebut dalam memprediksi yaitu sebesar 12% yang mana nilai tersebut cukup kecil, sehingga model sudah baik dalam memprediksi."
   ]
  },
  {
   "cell_type": "markdown",
   "metadata": {},
   "source": [
    "#### XGBoost"
   ]
  },
  {
   "cell_type": "code",
   "execution_count": 49,
   "metadata": {},
   "outputs": [
    {
     "data": {
      "text/plain": [
       "array([20.700537, 11.035725,  6.815862, ..., 40.208115, 26.146915,\n",
       "       16.615942], dtype=float32)"
      ]
     },
     "execution_count": 49,
     "metadata": {},
     "output_type": "execute_result"
    }
   ],
   "source": [
    "y_pred_xgb"
   ]
  },
  {
   "cell_type": "code",
   "execution_count": 50,
   "metadata": {
    "scrolled": true
   },
   "outputs": [
    {
     "name": "stdout",
     "output_type": "stream",
     "text": [
      "Akurasi dari model XGBoost adalah : 0.9599179862892132\n",
      "MSE dari model XGBoost : 3.45749425495064\n",
      "RMSE dari model XGBoost : 1.8594338533410215\n",
      "MAPE dari model XGBoost : 0.0853175849871993\n"
     ]
    }
   ],
   "source": [
    "print('Akurasi dari model XGBoost adalah :',r2_score(y_test, y_pred_xgb))\n",
    "mse = mean_squared_error(y_test,y_pred_xgb)\n",
    "rootmeansq = np.sqrt(mse)\n",
    "mape = mean_absolute_percentage_error(y_test, y_pred_xgb)\n",
    "print('MSE dari model XGBoost :',mse)\n",
    "print('RMSE dari model XGBoost :', rootmeansq)\n",
    "print('MAPE dari model XGBoost :', mape)"
   ]
  },
  {
   "cell_type": "markdown",
   "metadata": {},
   "source": [
    "Terlihat hasil dari akurasi model XGBoost tersebut dengan menggunakan R^2 score didapatkan sebesar 0.95991.\n",
    "Dapat Disimpulkan bahwa model tersebut sudah baik dalam memprediksi data.\n",
    "\n",
    "Dengan melihat nilai MSE dari model Linear Regression sebesar 3.4574 yang berarti terdapat kesalahan sebesar 3.4574 dalam model tersebut memprediksi nilai, terlihat bahwa nilai MSE dari model tersebut kecil yang berarti tingkat error atau kesalahan model dalam memprediksi juga kecil, yang artinya model tersebut sudah baik dalam memprediksi serta error dalam memprediksi juga cukup kecil.\n",
    "\n",
    "Nilai RMSE merupakan turunan dari nilai MSE, terlihat dari model Linear Regression didapat RMSE sebesar 1.8594, nilai RMSE tersebut sudah kecil yang berarti tingkat error atau kesalahan model dalam memprediksi juga kecil atau sebesar < 2.\n",
    "\n",
    "Nilai MAPE merupakan persentase kesalahan absolut rata-rata antara nilai prediksi dan nilai aktual. Terlihat dari nilai MAPE model XGBoost sebesar 0.08531 atau rata-rata kesalahan dari model tersebut dalam memprediksi yaitu sebesar 8% yang mana nilai tersebut cukup kecil, sehingga model tersebut sudah baik dalam memprediksi."
   ]
  },
  {
   "cell_type": "markdown",
   "metadata": {},
   "source": [
    "### Kesimpulan"
   ]
  },
  {
   "cell_type": "markdown",
   "metadata": {},
   "source": [
    "Berdasarkan hasil analisis diatas, dapat disimpulkan bahwa:\n",
    "- Data untuk kolom price memiliki distribusi yang tidak normal hal ini terlihat dari distribution plot, sehingga data tidak terdistribusi secara merata dan lebih cendrung ke kanan atau positive skew.\n",
    "- Dari grafik persebaran data surge multiplier, distance, dan price terlihat bahwa terdapat data outlier dari grafik tersebut.\n",
    "- Dari model-model machine learning yang telah diterapkan, diambil kesimpulan bahwa model XGBoost merupakan model terbaik untuk memprediksi.\n",
    "Karena,nilai akurasi atau R^2 skornya yang paling besar yaitu 0.95991. Selain itu, nilai MSE atau rata-rata kesalahan nilai antara prediksi dan aktualnya yg kecil sebesar 3.4574, dan total presentase kesalahan absolut dari model tersebut dengan menggunakan MAPE yang kecil sebesar 8%.\n",
    "- Berdasarkan model linear regression yaitu y = 2.20320041X1 + 18.00885496X2 + 2.79897762X3 - 22.167956321343542 terlihat bahwa intercept pada model yang dibuat adalah sekitar - 22.167956321343542, dan variabel yang paling mempengaruhi price dari model tersebut adalah variabel 'surge_multiplier', karena memiliki nilai slope terbesar yaitu 18.00885496"
   ]
  }
 ],
 "metadata": {
  "colab": {
   "provenance": []
  },
  "kernelspec": {
   "display_name": "Python 3 (ipykernel)",
   "language": "python",
   "name": "python3"
  },
  "language_info": {
   "codemirror_mode": {
    "name": "ipython",
    "version": 3
   },
   "file_extension": ".py",
   "mimetype": "text/x-python",
   "name": "python",
   "nbconvert_exporter": "python",
   "pygments_lexer": "ipython3",
   "version": "3.9.12"
  }
 },
 "nbformat": 4,
 "nbformat_minor": 4
}
