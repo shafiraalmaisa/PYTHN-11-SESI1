{
 "cells": [
  {
   "cell_type": "markdown",
   "id": "cf21cd22",
   "metadata": {},
   "source": [
    "## FUNCTION\n",
    "\n",
    "blok kode yang bisa dipanggil lagi"
   ]
  },
  {
   "cell_type": "code",
   "execution_count": 6,
   "id": "a7521cf3",
   "metadata": {},
   "outputs": [
    {
     "name": "stdout",
     "output_type": "stream",
     "text": [
      "8\n",
      "6\n"
     ]
    }
   ],
   "source": [
    "def kali(a,b):\n",
    "    return a*b\n",
    "\n",
    "hasil_kali = kali(2,4)\n",
    "print(hasil_kali)\n",
    "print(kali(2,3))"
   ]
  },
  {
   "cell_type": "code",
   "execution_count": 8,
   "id": "af841dbf",
   "metadata": {},
   "outputs": [
    {
     "name": "stdout",
     "output_type": "stream",
     "text": [
      "144\n"
     ]
    }
   ],
   "source": [
    "x = kali(2,3)\n",
    "y = kali(4,6)\n",
    "z = kali(x,y)\n",
    "\n",
    "print(z)"
   ]
  },
  {
   "cell_type": "code",
   "execution_count": 14,
   "id": "acaad208",
   "metadata": {},
   "outputs": [
    {
     "data": {
      "text/plain": [
       "'ayamBURUNG'"
      ]
     },
     "execution_count": 14,
     "metadata": {},
     "output_type": "execute_result"
    }
   ],
   "source": [
    "def str_joiner(a,b):\n",
    "    a = a.lower()\n",
    "    b = b.upper()\n",
    "    \n",
    "    return a+b\n",
    "\n",
    "str_joiner('ayam', 'burung')"
   ]
  },
  {
   "cell_type": "markdown",
   "id": "212743ba",
   "metadata": {},
   "source": [
    "## QUIZ FUNCTION"
   ]
  },
  {
   "cell_type": "code",
   "execution_count": 20,
   "id": "69d47e50",
   "metadata": {},
   "outputs": [
    {
     "name": "stdout",
     "output_type": "stream",
     "text": [
      "gnetnag oowgnoej krap\n"
     ]
    }
   ],
   "source": [
    "def str_joiner(a, b, c):\n",
    "    a = a.lower()\n",
    "    b = b.lower()\n",
    "    c = c.lower()\n",
    "    \n",
    "    d = a+' '+b+' '+c\n",
    "    print(d[::-1])\n",
    "\n",
    "str_joiner('Park', 'Jeongwoo', 'Ganteng')"
   ]
  },
  {
   "cell_type": "markdown",
   "id": "345b9ace",
   "metadata": {},
   "source": [
    "variabel : variabel global & variabel lokal"
   ]
  },
  {
   "cell_type": "code",
   "execution_count": 23,
   "id": "98d5cfb7",
   "metadata": {},
   "outputs": [
    {
     "name": "stdout",
     "output_type": "stream",
     "text": [
      "20\n",
      "3\n"
     ]
    }
   ],
   "source": [
    "total = 20 #variabel global\n",
    "\n",
    "def function_a(a,b):\n",
    "    total = a+b #total adalah variabel lokal\n",
    "    print(total)\n",
    "    \n",
    "print(total)\n",
    "function_a(1,2)"
   ]
  },
  {
   "cell_type": "code",
   "execution_count": 32,
   "id": "07c4d1cd",
   "metadata": {},
   "outputs": [
    {
     "name": "stdout",
     "output_type": "stream",
     "text": [
      "A. n angka ganjil adalah = 7\n",
      "B. n angka genap adalah = 5\n",
      "C. sum angka ganjil adalah = 267\n",
      "D. sum angka genap adalah = 262\n"
     ]
    }
   ],
   "source": [
    "myList = [31,23,31,40,50,67,74,88,91,10,11,13]\n",
    "\n",
    "def funct(a):\n",
    "    nGenap = 0 #ini disebut placeholder\n",
    "    nGanjil = 0\n",
    "    sumGenap = 0\n",
    "    sumGanjil = 0\n",
    "    for i in a:\n",
    "        if i % 2 == 0:\n",
    "            nGenap += 1\n",
    "            sumGenap += i\n",
    "        else:\n",
    "            nGanjil += 1\n",
    "            sumGanjil += i\n",
    "    print('A. n angka ganjil adalah = ' + str(nGanjil))\n",
    "    print('B. n angka genap adalah = ' + str(nGenap))\n",
    "    print('C. sum angka ganjil adalah = ' + str(sumGanjil))\n",
    "    print('D. sum angka genap adalah = ' + str(sumGenap))\n",
    "    \n",
    "funct(myList)"
   ]
  },
  {
   "cell_type": "code",
   "execution_count": 31,
   "id": "bc935a4c",
   "metadata": {},
   "outputs": [
    {
     "name": "stdout",
     "output_type": "stream",
     "text": [
      "Name:  Jeongwoo\n",
      "Age:  19\n",
      "Name:  Jeongwoo\n",
      "Age:  18\n",
      "Name:  18\n",
      "Age:  Jeongwoo\n"
     ]
    }
   ],
   "source": [
    "def printinfo(name, age=19): #parameter age itu default tapi masi bisa dimasukin pas pemanggilan function\n",
    "    print('Name: ', name)\n",
    "    print('Age: ', age)\n",
    "    \n",
    "printinfo('Jeongwoo')\n",
    "printinfo(age=18, name='Jeongwoo')\n",
    "printinfo(18, 'Jeongwoo')"
   ]
  },
  {
   "cell_type": "code",
   "execution_count": 35,
   "id": "46ff41c5",
   "metadata": {},
   "outputs": [
    {
     "name": "stdout",
     "output_type": "stream",
     "text": [
      "Output is : \n",
      "8\n",
      "(9, 20, 30, 'Nama', 90, 100, 11)\n",
      "9\n",
      "20\n",
      "30\n",
      "Nama\n",
      "90\n",
      "100\n",
      "11\n"
     ]
    }
   ],
   "source": [
    "def functi(x, *vartuple): #vartuple memungkinkan untuk memberi input lebih dari jumlah parameter function saat pemanggilan function\n",
    "    print('Output is : ')\n",
    "    print(x)\n",
    "    print(vartuple)\n",
    "    for i in vartuple:\n",
    "        print(i)\n",
    "\n",
    "functi(8,9,20,30,'Nama', 90, 100, 11)"
   ]
  },
  {
   "cell_type": "markdown",
   "id": "b8efc761",
   "metadata": {},
   "source": [
    "## Lambda\n",
    "\n",
    "lambda [arg1[,arg2,.....argn]]:expression\n",
    "\n",
    "\n",
    "biasanya disimpan dalam sebuah variabel"
   ]
  },
  {
   "cell_type": "code",
   "execution_count": 37,
   "id": "dd70fd23",
   "metadata": {},
   "outputs": [
    {
     "name": "stdout",
     "output_type": "stream",
     "text": [
      "15\n"
     ]
    }
   ],
   "source": [
    "perkalian = lambda x,y:x*y\n",
    "print(perkalian(3,5))"
   ]
  },
  {
   "cell_type": "markdown",
   "id": "d004a395",
   "metadata": {},
   "source": [
    "## Modules"
   ]
  },
  {
   "cell_type": "code",
   "execution_count": 50,
   "id": "dfc4ac86",
   "metadata": {},
   "outputs": [
    {
     "data": {
      "text/plain": [
       "['C:\\\\Users\\\\USER DK\\\\Documents\\\\Hacktiv8',\n",
       " 'D:\\\\anaconda\\\\python39.zip',\n",
       " 'D:\\\\anaconda\\\\DLLs',\n",
       " 'D:\\\\anaconda\\\\lib',\n",
       " 'D:\\\\anaconda',\n",
       " '',\n",
       " 'C:\\\\Users\\\\USER DK\\\\AppData\\\\Roaming\\\\Python\\\\Python39\\\\site-packages',\n",
       " 'D:\\\\anaconda\\\\lib\\\\site-packages',\n",
       " 'D:\\\\anaconda\\\\lib\\\\site-packages\\\\win32',\n",
       " 'D:\\\\anaconda\\\\lib\\\\site-packages\\\\win32\\\\lib',\n",
       " 'D:\\\\anaconda\\\\lib\\\\site-packages\\\\Pythonwin',\n",
       " 'D/:library',\n",
       " 'D:/library']"
      ]
     },
     "execution_count": 50,
     "metadata": {},
     "output_type": "execute_result"
    }
   ],
   "source": [
    "import sys\n",
    "sys.path.append('D:/library') #jikalau dimasukkan ke dalam folder baru\n",
    "sys.path"
   ]
  },
  {
   "cell_type": "code",
   "execution_count": 47,
   "id": "d86a4a6b",
   "metadata": {},
   "outputs": [],
   "source": [
    "import mod #memanggil mod.py (module) dalam direktori hacktiv8"
   ]
  },
  {
   "cell_type": "code",
   "execution_count": 51,
   "id": "3b61a9ac",
   "metadata": {},
   "outputs": [],
   "source": [
    "import mod_library #memanggil module dari folder library"
   ]
  },
  {
   "cell_type": "code",
   "execution_count": 55,
   "id": "64a822b9",
   "metadata": {},
   "outputs": [
    {
     "data": {
      "text/plain": [
       "'C:\\\\Users\\\\USER DK\\\\Documents\\\\Hacktiv8\\\\mod.py'"
      ]
     },
     "execution_count": 55,
     "metadata": {},
     "output_type": "execute_result"
    }
   ],
   "source": [
    "mod.__file__"
   ]
  },
  {
   "cell_type": "code",
   "execution_count": 56,
   "id": "e75240b4",
   "metadata": {},
   "outputs": [
    {
     "data": {
      "text/plain": [
       "[100, 20, 300]"
      ]
     },
     "execution_count": 56,
     "metadata": {},
     "output_type": "execute_result"
    }
   ],
   "source": [
    "mod.a"
   ]
  },
  {
   "cell_type": "code",
   "execution_count": 57,
   "id": "48e3bbb3",
   "metadata": {},
   "outputs": [
    {
     "name": "stdout",
     "output_type": "stream",
     "text": [
      "arg = Hello World!\n"
     ]
    }
   ],
   "source": [
    "mod.foo('Hello World!')"
   ]
  },
  {
   "cell_type": "code",
   "execution_count": 58,
   "id": "262d5cf2",
   "metadata": {},
   "outputs": [
    {
     "name": "stdout",
     "output_type": "stream",
     "text": [
      "<mod.Foo object at 0x000001F1E6D07E20>\n"
     ]
    }
   ],
   "source": [
    "x = mod.Foo()\n",
    "print(x)"
   ]
  },
  {
   "cell_type": "code",
   "execution_count": 59,
   "id": "159ce979",
   "metadata": {},
   "outputs": [
    {
     "data": {
      "text/plain": [
       "'Hacktiv8-PTP Python for Data Science'"
      ]
     },
     "execution_count": 59,
     "metadata": {},
     "output_type": "execute_result"
    }
   ],
   "source": [
    "from mod import s as variabel_a\n",
    "variabel_a"
   ]
  },
  {
   "cell_type": "code",
   "execution_count": 61,
   "id": "9fd83135",
   "metadata": {},
   "outputs": [
    {
     "name": "stdout",
     "output_type": "stream",
     "text": [
      "arg = Hello World\n",
      "<function foo at 0x000001F1E6CF20D0>\n"
     ]
    }
   ],
   "source": [
    "def bar():\n",
    "    from mod_library import foo\n",
    "    foo('Hello World')\n",
    "    print(foo)\n",
    "bar()"
   ]
  },
  {
   "cell_type": "markdown",
   "id": "7d8d8001",
   "metadata": {},
   "source": [
    "## Try and Except\n",
    "try:\n",
    "\n",
    "[Code Block]\n",
    "\n",
    "except:\n",
    "\n",
    "[Error Operation]"
   ]
  },
  {
   "cell_type": "code",
   "execution_count": 62,
   "id": "5b6dd18d",
   "metadata": {},
   "outputs": [
    {
     "name": "stdout",
     "output_type": "stream",
     "text": [
      "Object Not Found in Module\n"
     ]
    }
   ],
   "source": [
    "try:\n",
    "    from mod import haha\n",
    "except:\n",
    "    print('Object Not Found in Module')"
   ]
  },
  {
   "cell_type": "code",
   "execution_count": 64,
   "id": "68377829",
   "metadata": {},
   "outputs": [
    {
     "data": {
      "text/plain": [
       "120"
      ]
     },
     "execution_count": 64,
     "metadata": {},
     "output_type": "execute_result"
    }
   ],
   "source": [
    "# ini contoh function factorial\n",
    "def fact(n):\n",
    "    return 1 if n ==1 else n * fact(n-1)\n",
    "fact(5)"
   ]
  },
  {
   "cell_type": "code",
   "execution_count": 65,
   "id": "ce9acc6b",
   "metadata": {},
   "outputs": [
    {
     "data": {
      "text/plain": [
       "720"
      ]
     },
     "execution_count": 65,
     "metadata": {},
     "output_type": "execute_result"
    }
   ],
   "source": [
    "from fact import fact\n",
    "fact(6)"
   ]
  },
  {
   "cell_type": "markdown",
   "id": "fe41f63a",
   "metadata": {},
   "source": [
    "## AS atau alias"
   ]
  },
  {
   "cell_type": "code",
   "execution_count": 53,
   "id": "017476cf",
   "metadata": {},
   "outputs": [],
   "source": [
    "import numpy as np"
   ]
  },
  {
   "cell_type": "code",
   "execution_count": 54,
   "id": "2838df0a",
   "metadata": {},
   "outputs": [
    {
     "data": {
      "text/plain": [
       "3.0"
      ]
     },
     "execution_count": 54,
     "metadata": {},
     "output_type": "execute_result"
    }
   ],
   "source": [
    "np.sqrt(9) #squareroot"
   ]
  },
  {
   "cell_type": "markdown",
   "id": "c7f48834",
   "metadata": {},
   "source": [
    "## PACKAGE\n",
    "Package adalah Kumpulan module-module"
   ]
  },
  {
   "cell_type": "code",
   "execution_count": 74,
   "id": "dd654dbd",
   "metadata": {},
   "outputs": [],
   "source": [
    "import pkg.mod, pkg.fact #pkg as folder package yang memuat module-module"
   ]
  },
  {
   "cell_type": "code",
   "execution_count": 69,
   "id": "0987aa69",
   "metadata": {},
   "outputs": [
    {
     "name": "stdout",
     "output_type": "stream",
     "text": [
      "arg = Saya\n"
     ]
    }
   ],
   "source": [
    "pkg.mod.foo('Saya')"
   ]
  },
  {
   "cell_type": "code",
   "execution_count": 70,
   "id": "18c759b0",
   "metadata": {},
   "outputs": [
    {
     "data": {
      "text/plain": [
       "720"
      ]
     },
     "execution_count": 70,
     "metadata": {},
     "output_type": "execute_result"
    }
   ],
   "source": [
    "pkg.fact.fact(6)"
   ]
  },
  {
   "cell_type": "code",
   "execution_count": 71,
   "id": "c72b95fc",
   "metadata": {},
   "outputs": [],
   "source": [
    "from pkg import mod, fact"
   ]
  },
  {
   "cell_type": "code",
   "execution_count": 72,
   "id": "47c69699",
   "metadata": {},
   "outputs": [
    {
     "name": "stdout",
     "output_type": "stream",
     "text": [
      "arg = Saya\n"
     ]
    }
   ],
   "source": [
    "mod.foo('Saya')"
   ]
  },
  {
   "cell_type": "code",
   "execution_count": 73,
   "id": "fc7dee50",
   "metadata": {},
   "outputs": [
    {
     "data": {
      "text/plain": [
       "6"
      ]
     },
     "execution_count": 73,
     "metadata": {},
     "output_type": "execute_result"
    }
   ],
   "source": [
    "fact.fact(3)"
   ]
  },
  {
   "cell_type": "code",
   "execution_count": null,
   "id": "639e0c5d",
   "metadata": {},
   "outputs": [],
   "source": []
  }
 ],
 "metadata": {
  "kernelspec": {
   "display_name": "Python 3 (ipykernel)",
   "language": "python",
   "name": "python3"
  },
  "language_info": {
   "codemirror_mode": {
    "name": "ipython",
    "version": 3
   },
   "file_extension": ".py",
   "mimetype": "text/x-python",
   "name": "python",
   "nbconvert_exporter": "python",
   "pygments_lexer": "ipython3",
   "version": "3.9.12"
  }
 },
 "nbformat": 4,
 "nbformat_minor": 5
}
